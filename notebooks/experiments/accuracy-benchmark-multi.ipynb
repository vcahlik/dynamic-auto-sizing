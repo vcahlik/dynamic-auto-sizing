{
  "nbformat": 4,
  "nbformat_minor": 0,
  "metadata": {
    "colab": {
      "name": "tf_multi_layer_ssnet_inverse.ipynb",
      "provenance": [],
      "toc_visible": true,
      "machine_shape": "hm"
    },
    "kernelspec": {
      "display_name": "Python 3",
      "language": "python",
      "name": "python3"
    },
    "language_info": {
      "codemirror_mode": {
        "name": "ipython",
        "version": 3
      },
      "file_extension": ".py",
      "mimetype": "text/x-python",
      "name": "python",
      "nbconvert_exporter": "python",
      "pygments_lexer": "ipython3",
      "version": "3.8.8"
    },
    "accelerator": "GPU"
  },
  "cells": [
    {
      "cell_type": "code",
      "metadata": {
        "colab": {
          "base_uri": "https://localhost:8080/"
        },
        "id": "f_deAUKlniFk",
        "outputId": "15dc1527-de04-48eb-aa98-27e401de7c9f"
      },
      "source": [
        "gpu_info = !nvidia-smi\n",
        "gpu_info = '\\n'.join(gpu_info)\n",
        "if gpu_info.find('failed') >= 0:\n",
        "  print('Select the Runtime > \"Change runtime type\" menu to enable a GPU accelerator, ')\n",
        "  print('and then re-execute this cell.')\n",
        "else:\n",
        "  print(gpu_info)"
      ],
      "execution_count": 1,
      "outputs": [
        {
          "output_type": "stream",
          "name": "stdout",
          "text": [
            "Sun Oct 17 10:14:42 2021       \n",
            "+-----------------------------------------------------------------------------+\n",
            "| NVIDIA-SMI 470.74       Driver Version: 460.32.03    CUDA Version: 11.2     |\n",
            "|-------------------------------+----------------------+----------------------+\n",
            "| GPU  Name        Persistence-M| Bus-Id        Disp.A | Volatile Uncorr. ECC |\n",
            "| Fan  Temp  Perf  Pwr:Usage/Cap|         Memory-Usage | GPU-Util  Compute M. |\n",
            "|                               |                      |               MIG M. |\n",
            "|===============================+======================+======================|\n",
            "|   0  Tesla P100-PCIE...  Off  | 00000000:00:04.0 Off |                    0 |\n",
            "| N/A   33C    P0    26W / 250W |      0MiB / 16280MiB |      0%      Default |\n",
            "|                               |                      |                  N/A |\n",
            "+-------------------------------+----------------------+----------------------+\n",
            "                                                                               \n",
            "+-----------------------------------------------------------------------------+\n",
            "| Processes:                                                                  |\n",
            "|  GPU   GI   CI        PID   Type   Process name                  GPU Memory |\n",
            "|        ID   ID                                                   Usage      |\n",
            "|=============================================================================|\n",
            "|  No running processes found                                                 |\n",
            "+-----------------------------------------------------------------------------+\n"
          ]
        }
      ]
    },
    {
      "cell_type": "code",
      "metadata": {
        "id": "yKwUwV_NneIo"
      },
      "source": [
        "import tensorflow as tf\n",
        "import numpy as np\n",
        "import matplotlib.pyplot as plt\n",
        "import pandas as pd\n",
        "import sklearn\n",
        "\n",
        "%matplotlib inline"
      ],
      "execution_count": 2,
      "outputs": []
    },
    {
      "cell_type": "code",
      "metadata": {
        "id": "BOoXBq05neIt"
      },
      "source": [
        "dtype = 'float32'\n",
        "tf.keras.backend.set_floatx(dtype)"
      ],
      "execution_count": 3,
      "outputs": []
    },
    {
      "cell_type": "code",
      "metadata": {
        "id": "_BrJPdkBneIv",
        "outputId": "9f6a785f-1427-4345-994e-c68dfa46e342",
        "colab": {
          "base_uri": "https://localhost:8080/"
        }
      },
      "source": [
        "cifar10 = tf.keras.datasets.cifar10\n",
        "(X_train, y_train), (X_test, y_test) = cifar10.load_data()\n",
        "\n",
        "X_train = X_train.astype(dtype) / 255.0\n",
        "y_train = y_train.astype(dtype)\n",
        "X_test = X_test.astype(dtype)  / 255.0\n",
        "y_test = y_test.astype(dtype)\n",
        "\n",
        "X_train = np.reshape(X_train, (-1, 3072))\n",
        "X_test = np.reshape(X_test, (-1, 3072))\n",
        "\n",
        "X = np.concatenate((X_train, X_test), axis=0)\n",
        "y = np.concatenate((y_train, y_test), axis=0)"
      ],
      "execution_count": 4,
      "outputs": [
        {
          "output_type": "stream",
          "name": "stdout",
          "text": [
            "Downloading data from https://www.cs.toronto.edu/~kriz/cifar-10-python.tar.gz\n",
            "170500096/170498071 [==============================] - 11s 0us/step\n",
            "170508288/170498071 [==============================] - 11s 0us/step\n"
          ]
        }
      ]
    },
    {
      "cell_type": "code",
      "metadata": {
        "id": "h5uTvu5kxF-b"
      },
      "source": [
        "from sklearn.preprocessing import StandardScaler\n",
        "\n",
        "scaler = StandardScaler()\n",
        "scaler.fit(X_train)  # Scaling each feature independently\n",
        "\n",
        "X_norm = scaler.transform(X)\n",
        "X_train_norm = scaler.transform(X_train)\n",
        "X_test_norm = scaler.transform(X_test)\n",
        "\n",
        "X_norm = np.reshape(X_norm, (-1, 32, 32, 3))\n",
        "X_train_norm = np.reshape(X_train_norm, (-1, 32, 32, 3))\n",
        "X_test_norm = np.reshape(X_test_norm, (-1, 32, 32, 3))"
      ],
      "execution_count": 5,
      "outputs": []
    },
    {
      "cell_type": "code",
      "metadata": {
        "id": "UTZq4KMpneIv"
      },
      "source": [
        "################################################################################\n",
        "# REGULARIZERS\n",
        "################################################################################\n",
        "\n",
        "\n",
        "class Regularizer(tf.keras.regularizers.Regularizer):\n",
        "    def __init__(self, regularization_penalty, regularization_method):\n",
        "        self.regularization_penalty = regularization_penalty\n",
        "        self.regularization_method = regularization_method\n",
        "\n",
        "    def __call__(self, x):\n",
        "        if self.regularization_method == 'weighted_l1':\n",
        "            return self.weighted_l1(x)\n",
        "        elif self.regularization_method == 'group_sparsity':\n",
        "            return self.group_sparsity(x)\n",
        "        else:\n",
        "            raise NotImplementedError(f\"Unknown regularization method {self.regularization_method}\")\n",
        "    \n",
        "    def weighted_l1(self, x):\n",
        "        # I.e. for a parameter matrix of 4 input and 10 output neurons:\n",
        "        #\n",
        "        # [[1., 1., 1., 1., 1., 1., 1., 1., 1., 1.],\n",
        "        #  [1., 1., 1., 1., 1., 1., 1., 1., 1., 1.],\n",
        "        #  [1., 1., 1., 1., 1., 1., 1., 1., 1., 1.],\n",
        "        #  [1., 1., 1., 1., 1., 1., 1., 1., 1., 1.]]\n",
        "        #\n",
        "        # the scaling tensor, as well as the resulting weighted values, could be:\n",
        "        #\n",
        "        # [[ 1.,  2.,  3.,  4.,  5.,  6.,  7.,  8.,  9., 10.],\n",
        "        #  [ 1.,  2.,  3.,  4.,  5.,  6.,  7.,  8.,  9., 10.],\n",
        "        #  [ 1.,  2.,  3.,  4.,  5.,  6.,  7.,  8.,  9., 10.],\n",
        "        #  [ 1.,  2.,  3.,  4.,  5.,  6.,  7.,  8.,  9., 10.]]\n",
        "        #\n",
        "        # Therefore every additional output neuron is regularized more.\n",
        "\n",
        "        scaling_tensor = tf.cumsum(tf.constant(self.regularization_penalty, shape=x.shape, dtype=dtype), axis=-1)\n",
        "        weighted_values = scaling_tensor * tf.abs(x)\n",
        "        return tf.reduce_sum(weighted_values)\n",
        "    \n",
        "    def group_sparsity(self, x):\n",
        "        # I.e. for a parameter matrix of 3 input and 5 output neurons:\n",
        "        #\n",
        "        # [[1., 1., 1., 1., 1.],\n",
        "        #  [1., 2., 2., 1., 2.],\n",
        "        #  [2., 2., 3., 1., 3.]]\n",
        "        #\n",
        "        # The resulting vector of group norms is [2., 2., 3., 1., 3.], therefore for\n",
        "        # every output neuron, its incoming connections form a group.\n",
        "\n",
        "        group_norms = tf.norm(x, ord=2, axis=0)\n",
        "        # assert group_norms.shape[0] == x.shape[1]\n",
        "        return self.regularization_penalty * tf.reduce_sum(group_norms)\n",
        "\n",
        "    def get_config(self):\n",
        "        return {'regularization_penalty': float(self.regularization_penalty)}\n",
        "\n",
        "\n",
        "################################################################################\n",
        "# LAYERS\n",
        "################################################################################\n",
        "\n",
        "\n",
        "class CustomLayer(tf.keras.layers.Layer):\n",
        "    def __init__(self, input_shape):\n",
        "        super().__init__()\n",
        "\n",
        "        self.inpt_shp = input_shape\n",
        "\n",
        "\n",
        "class Dense(CustomLayer):\n",
        "    def __init__(self, units, activation, regularization_penalty=0.01, \n",
        "                 regularization_method='weighted_l1', kernel_initializer='glorot_uniform', \n",
        "                 bias_initializer='zeros', input_shape=None, fixed_size=False):\n",
        "        super().__init__(input_shape)\n",
        "\n",
        "        self.units = units\n",
        "        self.activation = activation\n",
        "        self.regularization_penalty = regularization_penalty\n",
        "        self.regularization_method = regularization_method\n",
        "        self.kernel_initializer = kernel_initializer\n",
        "        self.bias_initializer = bias_initializer\n",
        "        self.fixed_size = fixed_size\n",
        "        \n",
        "        self.A = tf.keras.activations.get(activation)\n",
        "        self.W_init = tf.keras.initializers.get(kernel_initializer)\n",
        "        self.b_init = tf.keras.initializers.get(bias_initializer)\n",
        "        self.regularizer = Regularizer(self.regularization_penalty, self.regularization_method)\n",
        "    \n",
        "    def build(self, input_shape):\n",
        "        input_units = input_shape[-1]\n",
        "\n",
        "        self.W = tf.Variable(\n",
        "            name='W',\n",
        "            initial_value=self.W_init(shape=(input_units, self.units), dtype=dtype),\n",
        "            trainable=True)\n",
        "        \n",
        "        self.b = tf.Variable(\n",
        "            name='b',\n",
        "            initial_value=self.b_init(shape=(self.units,), dtype=dtype),\n",
        "            trainable=True)\n",
        "        \n",
        "        if self.regularization_method is not None:\n",
        "            self.add_loss(lambda: self.regularizer(tf.concat([self.W, tf.reshape(self.b, (1, -1))], axis=0)))\n",
        "    \n",
        "    def call(self, inputs, training=None):\n",
        "        return self.A(tf.matmul(inputs, self.W) + self.b)\n",
        "\n",
        "    def get_size(self):\n",
        "        return self.W.shape[0], self.W.shape[1]\n",
        "    \n",
        "    def prune(self, threshold, active_input_units_indices):\n",
        "        # Remove connections from pruned units in previous layer\n",
        "        new_W = tf.gather(self.W.value(), active_input_units_indices, axis=0)\n",
        "\n",
        "        if self.fixed_size:\n",
        "            active_output_neurons_indices = list(range(new_W.shape[1]))\n",
        "        else:\n",
        "            # Prune units in this layer\n",
        "            weights_with_biases = tf.concat([new_W, tf.reshape(self.b.value(), (1, -1))], axis=0)\n",
        "            neurons_are_active = tf.math.reduce_max(tf.abs(weights_with_biases), axis=0) >= threshold\n",
        "            active_output_neurons_indices = tf.reshape(tf.where(neurons_are_active), (-1,))\n",
        "            \n",
        "            new_W = tf.gather(new_W, active_output_neurons_indices, axis=1)\n",
        "            new_b = tf.gather(self.b.value(), active_output_neurons_indices, axis=0)\n",
        "\n",
        "            self.b = tf.Variable(name='b', initial_value=new_b, trainable=True)\n",
        "\n",
        "        self.W = tf.Variable(name='W', initial_value=new_W, trainable=True)\n",
        "\n",
        "        return active_output_neurons_indices\n",
        "    \n",
        "    def grow(self, n_new_input_units, percentage, min_new_units, scaling_factor):\n",
        "        if n_new_input_units > 0:\n",
        "            # Add connections to grown units in previous layer\n",
        "            W_growth = self.W_init(shape=(self.W.shape[0] + n_new_input_units, self.W.shape[1]), dtype=dtype)[-n_new_input_units:, :] * scaling_factor  # TODO is it better to be multiplying here by scaling_factor? It does help with not increasing the max weights of existing neurons when new neurons are added.\n",
        "            new_W = tf.concat([self.W.value(), W_growth], axis=0)\n",
        "        else:\n",
        "            new_W = self.W.value()\n",
        "\n",
        "        if self.fixed_size:\n",
        "            n_new_output_units = 0\n",
        "        else:\n",
        "            # Grow new units in this layer\n",
        "            n_new_output_units = max(min_new_units, int(new_W.shape[1] * percentage))\n",
        "            W_growth = self.W_init(shape=(new_W.shape[0], new_W.shape[1] + n_new_output_units), dtype=dtype)[:, -n_new_output_units:] * scaling_factor\n",
        "            b_growth = self.b_init(shape=(n_new_output_units,), dtype=dtype)  # TODO for all possible bias initializers to work properly, the whole bias vector should be initialized at once\n",
        "            new_W = tf.concat([new_W, W_growth], axis=1)\n",
        "            new_b = tf.concat([self.b.value(), b_growth], axis=0)\n",
        "\n",
        "            self.b = tf.Variable(name='b', initial_value=new_b, trainable=True)\n",
        "\n",
        "        self.W = tf.Variable(name='W', initial_value=new_W, trainable=True)\n",
        "\n",
        "        return n_new_output_units\n",
        "    \n",
        "    def get_param_string():\n",
        "        param_string = \"\"\n",
        "        weights_with_bias = tf.concat([self.W, tf.reshape(self.b, (1, -1))], axis=0)\n",
        "        max_parameters = tf.math.reduce_max(tf.abs(weights_with_bias), axis=0).numpy()\n",
        "        magnitudes = np.floor(np.log10(max_parameters))\n",
        "        for m in magnitudes:\n",
        "            if m > 0:\n",
        "                m = 0\n",
        "            param_string += str(int(-m))\n",
        "        return param_string\n",
        "\n",
        "\n",
        "class Conv2D(CustomLayer):\n",
        "    def __init__(self, filters, filter_size, activation, strides=(1, 1), \n",
        "                 padding='SAME', regularization_penalty=0.01, \n",
        "                 regularization_method='weighted_l1', kernel_initializer='glorot_uniform',\n",
        "                 bias_initializer='zeros', input_shape=None, fixed_size=False):\n",
        "        super().__init__(input_shape)\n",
        "    \n",
        "        self.filters = filters\n",
        "        self.filter_size = filter_size\n",
        "        self.activation = activation\n",
        "        self.strides = strides\n",
        "        self.padding = padding\n",
        "        self.regularization_penalty = regularization_penalty\n",
        "        self.regularization_method = regularization_method\n",
        "        self.kernel_initializer = kernel_initializer\n",
        "        self.bias_initializer = bias_initializer\n",
        "        self.fixed_size = fixed_size\n",
        "        \n",
        "        self.A = tf.keras.activations.get(activation)\n",
        "        self.F_init = tf.keras.initializers.get(kernel_initializer)\n",
        "        self.b_init = tf.keras.initializers.get(bias_initializer)\n",
        "        self.regularizer = Regularizer(self.regularization_penalty, self.regularization_method)\n",
        "    \n",
        "    def build(self, input_shape):\n",
        "        input_filters = input_shape[-1]\n",
        "\n",
        "        self.F = tf.Variable(\n",
        "            name='F',\n",
        "            initial_value=self.F_init(\n",
        "                shape=(self.filter_size[0], self.filter_size[1], input_filters, self.filters), dtype=dtype\n",
        "            ),\n",
        "            trainable=True)\n",
        "        \n",
        "        self.b = tf.Variable(\n",
        "            name='b',\n",
        "            initial_value=self.b_init(shape=(self.filters,), dtype=dtype),\n",
        "            trainable=True)\n",
        "\n",
        "        if self.regularization_method is not None:\n",
        "            self.add_loss(lambda: self.regularizer(tf.concat([tf.reshape(self.F, (-1, self.F.shape[-1])), tf.reshape(self.b, (1, -1))], axis=0)))\n",
        "    \n",
        "    def call(self, inputs, training=None):\n",
        "        y = tf.nn.conv2d(inputs, self.F, strides=self.strides, padding=self.padding)\n",
        "        y = tf.nn.bias_add(y, self.b)\n",
        "        y = self.A(y)\n",
        "        return y\n",
        "    \n",
        "    def get_size(self):\n",
        "        return self.F.shape[-2], self.F.shape[-1]\n",
        "    \n",
        "    def prune(self, threshold, active_input_units_indices):\n",
        "        # Remove connections from pruned units in previous layer\n",
        "        new_F = tf.gather(self.F.value(), active_input_units_indices, axis=-2)\n",
        "\n",
        "        if self.fixed_size:\n",
        "            active_output_filters_indices = list(range(new_F.shape[-1]))\n",
        "        else:\n",
        "            # Prune units in this layer\n",
        "            F_reduced_max = tf.reshape(tf.math.reduce_max(tf.abs(new_F), axis=(0, 1, 2)), (1, -1))\n",
        "            F_reduced_max_with_biases = tf.concat([F_reduced_max, tf.reshape(self.b.value(), (1, -1))], axis=0)\n",
        "            filters_are_active = tf.math.reduce_max(tf.abs(F_reduced_max_with_biases), axis=0) >= threshold\n",
        "            active_output_filters_indices = tf.reshape(tf.where(filters_are_active), (-1,))\n",
        "            \n",
        "            new_F = tf.gather(new_F, active_output_filters_indices, axis=-1)\n",
        "            new_b = tf.gather(self.b.value(), active_output_filters_indices, axis=0)\n",
        "\n",
        "            self.b = tf.Variable(name='b', initial_value=new_b, trainable=True)\n",
        "\n",
        "        self.F = tf.Variable(name='F', initial_value=new_F, trainable=True)\n",
        "\n",
        "        return active_output_filters_indices\n",
        "\n",
        "    def grow(self, n_new_input_units, percentage, min_new_units, scaling_factor):\n",
        "        if n_new_input_units > 0:\n",
        "            # Add connections to grown units in previous layer\n",
        "            F_growth = self.F_init(shape=(self.F.shape[0], self.F.shape[1], self.F.shape[2] + n_new_input_units, self.F.shape[3]), dtype=dtype)[:, :, -n_new_input_units:, :] * scaling_factor  # TODO is it better to be multiplying here by scaling_factor? It does help with not increasing the max weights of existing neurons when new neurons are added.\n",
        "            new_F = tf.concat([self.F.value(), F_growth], axis=-2)\n",
        "        else:\n",
        "            new_F = self.F.value()\n",
        "\n",
        "        if self.fixed_size:\n",
        "            n_new_output_units = 0\n",
        "        else:\n",
        "            # Grow new units in this layer\n",
        "            n_new_output_units = max(min_new_units, int(new_F.shape[-1] * percentage))\n",
        "            F_growth = self.F_init(shape=(new_F.shape[0], new_F.shape[1], new_F.shape[2], new_F.shape[3] + n_new_output_units), dtype=dtype)[:, :, :, -n_new_output_units:] * scaling_factor\n",
        "            b_growth = self.b_init(shape=(n_new_output_units,), dtype=dtype)  # TODO for all possible bias initializers to work properly, the whole bias vector should be initialized at once\n",
        "            new_F = tf.concat([new_F, F_growth], axis=-1)\n",
        "            new_b = tf.concat([self.b.value(), b_growth], axis=0)\n",
        "\n",
        "            self.b = tf.Variable(name='b', initial_value=new_b, trainable=True)\n",
        "\n",
        "        self.F = tf.Variable(name='F', initial_value=new_F, trainable=True)\n",
        "\n",
        "        return n_new_output_units\n",
        "\n",
        "    def get_param_string():\n",
        "        param_string = \"\"\n",
        "        # TODO\n",
        "        return param_string\n",
        "\n",
        "\n",
        "class Flatten(tf.keras.Model):\n",
        "    def call(self, inputs, training=None):\n",
        "        return tf.reshape(tf.transpose(inputs, perm=[0, 3, 1, 2]), (inputs.shape[0], -1))\n",
        "\n",
        "\n",
        "################################################################################\n",
        "# MODELS\n",
        "################################################################################\n",
        "\n",
        "\n",
        "class Sequential(tf.keras.Model):\n",
        "    def __init__(self, layers, activation=None):\n",
        "        super().__init__()\n",
        "        \n",
        "        self.lrs = layers\n",
        "        \n",
        "    def call(self, inputs, training=None):\n",
        "        x = inputs\n",
        "        for layer in self.lrs:\n",
        "            x = layer(x, training=training)\n",
        "        return x\n",
        "    \n",
        "    def get_layer_input_shape(self, target_layer):\n",
        "        if target_layer.inpt_shp is not None:\n",
        "            return target_layer.inpt_shp\n",
        "\n",
        "        input = np.random.normal(size=(1,) + self.lrs[0].inpt_shp)\n",
        "        for layer in self.lrs:\n",
        "            if layer is target_layer:\n",
        "                return tuple(input.shape[1:])\n",
        "            input = layer(input)\n",
        "        raise Exception(\"Layer not found in the model.\")\n",
        "\n",
        "    def get_layer_output_shape(self, target_layer):\n",
        "        input = np.random.normal(size=(1,) + self.lrs[0].inpt_shp)\n",
        "        for layer in self.lrs:\n",
        "            output = layer(input)\n",
        "            if layer is target_layer:\n",
        "                return tuple(output.shape[1:])\n",
        "            input = output\n",
        "        raise Exception(\"Layer not found in the model.\")\n",
        "    \n",
        "    def get_layer_sizes(self):\n",
        "        \"\"\"\n",
        "        Returns the sizes of all layers in the model, including the input and output layer.\n",
        "        \"\"\"\n",
        "        layer_sizes = list()\n",
        "        first_layer = True\n",
        "        for l in range(len(self.lrs)):\n",
        "            layer = self.lrs[l]\n",
        "            if isinstance(layer, CustomLayer):\n",
        "                layer_size = layer.get_size()\n",
        "                if first_layer:\n",
        "                    layer_sizes.append(layer_size[0])\n",
        "                    first_layer = False\n",
        "                layer_sizes.append(layer_size[1])\n",
        "        return layer_sizes\n",
        "    \n",
        "    def get_hidden_layer_sizes(self):\n",
        "        return self.get_layer_sizes()[1:-1]\n",
        "    \n",
        "    def remove_regularization(self):\n",
        "        self.set_regularization_penalty(0.)\n",
        "    \n",
        "    def get_regularization_penalty(self):\n",
        "        #TODO improve\n",
        "        return self.lrs[-2].regularizer.regularization_penalty\n",
        "    \n",
        "    def set_regularization_penalty(self, regularization_penalty):\n",
        "        for layer in self.lrs:\n",
        "            if isinstance(layer, CustomLayer) and not layer.fixed_size:\n",
        "                layer.regularizer.regularization_penalty = regularization_penalty\n",
        "    \n",
        "    def prune(self, params):\n",
        "        input_shape = self.get_layer_input_shape(self.lrs[0])\n",
        "        n_input_units = input_shape[-1]\n",
        "        active_units_indices = list(range(n_input_units))\n",
        "\n",
        "        last_custom_layer = None\n",
        "        for layer in self.lrs:\n",
        "            if isinstance(layer, CustomLayer):\n",
        "                if last_custom_layer is not None and type(last_custom_layer) != type(layer):\n",
        "                    if type(last_custom_layer) == Conv2D and type(layer) == Dense:\n",
        "                        convolutional_shape = self.get_layer_output_shape(last_custom_layer)\n",
        "                        active_units_indices = self.convert_channel_indices_to_flattened_indices(active_units_indices, convolutional_shape)\n",
        "                    else:\n",
        "                        raise Exception(\"Incorrect order of custom layer types.\")\n",
        "                active_units_indices = layer.prune(params.pruning_threshold, active_units_indices)\n",
        "                last_custom_layer = layer\n",
        "    \n",
        "    def grow(self, params):   \n",
        "        n_new_units = 0\n",
        "\n",
        "        last_custom_layer = None\n",
        "        for layer in self.lrs:\n",
        "            if isinstance(layer, CustomLayer):\n",
        "                if last_custom_layer is not None and type(last_custom_layer) != type(layer):\n",
        "                    if type(last_custom_layer) == Conv2D and type(layer) == Dense:\n",
        "                        convolutional_shape = self.get_layer_output_shape(last_custom_layer)\n",
        "                        n_new_units = n_new_units * convolutional_shape[0] * convolutional_shape[1]\n",
        "                    else:\n",
        "                        raise Exception(\"Incorrect order of custom layer types.\")\n",
        "                n_new_units = layer.grow(n_new_units, params.growth_percentage, min_new_units=params.min_new_neurons, scaling_factor=params.pruning_threshold)\n",
        "                last_custom_layer = layer\n",
        "    \n",
        "    @staticmethod\n",
        "    def convert_channel_indices_to_flattened_indices(channel_indices, convolutional_shape):\n",
        "        dense_indices = list()\n",
        "        units_per_channel = convolutional_shape[0] * convolutional_shape[1]\n",
        "        for channel_index in channel_indices:\n",
        "            for iter in range(units_per_channel):\n",
        "                dense_indices.append(channel_index * units_per_channel + iter)\n",
        "        return dense_indices\n",
        "    \n",
        "    def print_neurons(self):\n",
        "        for layer in self.lrs[:-1]:\n",
        "            print(layer.get_param_string())\n",
        "    \n",
        "    def evaluate(self, params, summed_training_loss, summed_training_accuracy):\n",
        "        # Calculate training loss and accuracy\n",
        "        if summed_training_loss is not None:\n",
        "            loss = summed_training_loss / params.x.shape[0]\n",
        "        else:\n",
        "            loss = None\n",
        "        \n",
        "        if summed_training_accuracy is not None:\n",
        "            accuracy = summed_training_accuracy / params.x.shape[0]\n",
        "        else:\n",
        "            accuracy = None\n",
        "        \n",
        "        # Calculate val loss and accuracy\n",
        "        summed_val_loss = 0\n",
        "        summed_val_accuracy = 0\n",
        "        n_val_instances = 0\n",
        "        \n",
        "        for step, (x_batch, y_batch) in enumerate(params.val_dataset):\n",
        "            y_pred = self(x_batch, training=False)\n",
        "            summed_val_loss += tf.reduce_sum(tf.keras.losses.sparse_categorical_crossentropy(y_batch, y_pred))\n",
        "            summed_val_accuracy += float(tf.reduce_sum(tf.keras.metrics.sparse_categorical_accuracy(y_batch, y_pred)))\n",
        "            n_val_instances += x_batch.shape[0]\n",
        "        \n",
        "        val_loss = summed_val_loss / n_val_instances\n",
        "        val_accuracy = summed_val_accuracy / n_val_instances\n",
        "\n",
        "        return loss, accuracy, val_loss, val_accuracy\n",
        "    \n",
        "    def print_epoch_statistics(self, params, summed_training_loss, summed_training_accuracy, message=None, require_result=False):\n",
        "        if not params.verbose:\n",
        "            if require_result:\n",
        "                return self.evaluate(params, summed_training_loss, summed_training_accuracy)\n",
        "            else:\n",
        "                return\n",
        "        \n",
        "        loss, accuracy, val_loss, val_accuracy = self.evaluate(params, summed_training_loss, summed_training_accuracy)  \n",
        "\n",
        "        if message is not None:\n",
        "            print(message)\n",
        "        \n",
        "        print(f\"loss: {loss} - accuracy: {accuracy} - val_loss: {val_loss} - val_accuracy: {val_accuracy} - penalty: {self.get_regularization_penalty()}\")\n",
        "        hidden_layer_sizes = self.get_hidden_layer_sizes()\n",
        "        print(f\"hidden layer sizes: {hidden_layer_sizes}, total units: {sum(hidden_layer_sizes)}\")\n",
        "        if params.print_neurons:\n",
        "            self.print_neurons()\n",
        "        \n",
        "        if require_result:\n",
        "            return loss, accuracy, val_loss, val_accuracy\n",
        "    \n",
        "    def update_history(self, params, loss, accuracy, val_loss, val_accuracy):\n",
        "        params.history['loss'].append(loss)\n",
        "        params.history['accuracy'].append(accuracy)\n",
        "        params.history['val_loss'].append(val_loss)\n",
        "        params.history['val_accuracy'].append(val_accuracy)\n",
        "        params.history['hidden_layer_sizes'].append(self.get_hidden_layer_sizes())\n",
        "    \n",
        "    @staticmethod\n",
        "    def prepare_datasets(x, y, batch_size, validation_data):\n",
        "        train_dataset = tf.data.Dataset.from_tensor_slices((x, y))\n",
        "        train_dataset = train_dataset.shuffle(buffer_size=1024).batch(batch_size)\n",
        "        val_dataset = tf.data.Dataset.from_tensor_slices(validation_data).batch(batch_size)\n",
        "        return train_dataset, val_dataset\n",
        "    \n",
        "    def manage_dynamic_regularization(self, params, val_loss):\n",
        "        if val_loss >= params.best_conditional_val_loss * params.stall_coefficient:\n",
        "            # Training is currently in stall\n",
        "            if not params.training_stalled:\n",
        "                penalty = self.get_regularization_penalty() * params.regularization_penalty_multiplier\n",
        "                print(\"Changing penalty...\")\n",
        "                # TODO this must be modified, penalty can differ for each layer\n",
        "                self.set_regularization_penalty(penalty)\n",
        "                params.training_stalled = True\n",
        "        else:\n",
        "            params.best_conditional_val_loss = val_loss\n",
        "            params.training_stalled = False\n",
        "    \n",
        "    def grow_wrapper(self, params):\n",
        "        dynamic_reqularization_active = params.regularization_penalty_multiplier != 1.\n",
        "        if dynamic_reqularization_active:\n",
        "            loss, accuracy, val_loss, val_accuracy = self.print_epoch_statistics(params, None, None, \"Before growing:\", require_result=True)\n",
        "            self.manage_dynamic_regularization(params, val_loss)\n",
        "        else:\n",
        "            self.print_epoch_statistics(params, None, None, \"Before growing:\")\n",
        "\n",
        "        self.grow(params)\n",
        "        self.print_epoch_statistics(params, None, None, \"After growing:\")\n",
        "    \n",
        "    def prune_wrapper(self, params, summed_loss, summed_accuracy):\n",
        "        loss, accuracy, _, _ = self.print_epoch_statistics(params, summed_loss, summed_accuracy, \"Before pruning:\", require_result=True)\n",
        "        self.prune(params)\n",
        "        _, _, val_loss, val_accuracy = self.print_epoch_statistics(params, None, None, \"After pruning:\", require_result=True)\n",
        "\n",
        "        self.update_history(params, loss, accuracy, val_loss, val_accuracy)\n",
        "    \n",
        "    class ParameterContainer:\n",
        "        def __init__(self, x, y, optimizer, epochs, self_scaling_epochs, batch_size, min_new_neurons, validation_data, pruning_threshold, \n",
        "                regularization_penalty_multiplier, stall_coefficient, growth_percentage, mini_epochs_per_epoch, verbose, print_neurons):\n",
        "            self.x = x\n",
        "            self.y = y\n",
        "            self.optimizer = optimizer\n",
        "            self.epochs = epochs\n",
        "            self.self_scaling_epochs = self_scaling_epochs\n",
        "            self.batch_size = batch_size\n",
        "            self.min_new_neurons = min_new_neurons\n",
        "            self.validation_data = validation_data\n",
        "            self.pruning_threshold = pruning_threshold\n",
        "            self.regularization_penalty_multiplier = regularization_penalty_multiplier\n",
        "            self.stall_coefficient = stall_coefficient\n",
        "            self.growth_percentage = growth_percentage\n",
        "            self.mini_epochs_per_epoch = mini_epochs_per_epoch\n",
        "            self.verbose = verbose\n",
        "            self.print_neurons = print_neurons\n",
        "\n",
        "            self.train_dataset, self.val_dataset = Sequential.prepare_datasets(x, y, batch_size, validation_data)\n",
        "            self.history = self.prepare_history()\n",
        "\n",
        "            self.best_conditional_val_loss = np.inf\n",
        "            self.training_stalled = False\n",
        "        \n",
        "        @staticmethod\n",
        "        def prepare_history():\n",
        "            history = {\n",
        "                'loss': list(),\n",
        "                'accuracy': list(),\n",
        "                'val_loss': list(),\n",
        "                'val_accuracy': list(),\n",
        "                'hidden_layer_sizes': list(),\n",
        "            }\n",
        "            return history\n",
        "    \n",
        "    def fit_single_epoch(self, params):       \n",
        "        summed_loss = 0\n",
        "        summed_accuracy = 0\n",
        "        \n",
        "        for mini_epoch in range(params.mini_epochs_per_epoch):\n",
        "            summed_loss = 0\n",
        "            summed_accuracy = 0\n",
        "\n",
        "            for step, (x_batch, y_batch) in enumerate(params.train_dataset):\n",
        "                with tf.GradientTape() as tape:\n",
        "                    y_pred = self(x_batch, training=True)\n",
        "                    raw_loss = tf.keras.losses.sparse_categorical_crossentropy(y_batch, y_pred)\n",
        "                    loss_value = tf.reduce_mean(raw_loss)\n",
        "                    loss_value += sum(self.losses)  # Add losses registered by model.add_loss\n",
        "\n",
        "                    summed_loss += tf.reduce_sum(raw_loss)\n",
        "                    summed_accuracy += float(tf.reduce_sum(tf.keras.metrics.sparse_categorical_accuracy(y_batch, y_pred)))\n",
        "\n",
        "                grads = tape.gradient(loss_value, self.trainable_variables)\n",
        "                params.optimizer.apply_gradients(zip(grads, self.trainable_variables))\n",
        "        \n",
        "        return summed_loss, summed_accuracy\n",
        "\n",
        "    def fit(self, x, y, optimizer, epochs, self_scaling_epochs, batch_size, min_new_neurons, validation_data, pruning_threshold=0.001, \n",
        "            regularization_penalty_multiplier=1., stall_coefficient=1, growth_percentage=0.2, mini_epochs_per_epoch=1, verbose=True, print_neurons=False):\n",
        "        params = self.ParameterContainer(x, y, optimizer, epochs, self_scaling_epochs, batch_size, min_new_neurons, \n",
        "                                         validation_data, pruning_threshold, regularization_penalty_multiplier, stall_coefficient, \n",
        "                                         growth_percentage, mini_epochs_per_epoch, verbose, print_neurons)\n",
        "        self.build(x.shape)  # Necessary when verbose == False\n",
        "\n",
        "        for epoch in range(epochs):\n",
        "            if verbose:\n",
        "                print(\"##########################################################\")\n",
        "                print(f\"Epoch {epoch + 1}/{epochs}\")\n",
        "\n",
        "            if epoch < self_scaling_epochs:\n",
        "                self.grow_wrapper(params)\n",
        "            \n",
        "            if epoch == self_scaling_epochs:\n",
        "                self.remove_regularization()\n",
        "\n",
        "            summed_loss, summed_accuracy = self.fit_single_epoch(params)\n",
        "            \n",
        "            if epoch < self_scaling_epochs:\n",
        "                self.prune_wrapper(params, summed_loss, summed_accuracy)\n",
        "            else:\n",
        "                loss, accuracy, val_loss, val_accuracy = self.print_epoch_statistics(params, summed_loss, summed_accuracy, require_result=True)\n",
        "                self.update_history(params, loss, accuracy, val_loss, val_accuracy)\n",
        "\n",
        "        return params.history\n",
        "\n",
        "\n",
        "################################################################################\n",
        "# HELPER FUNCTIONS\n",
        "################################################################################\n",
        "\n",
        "\n",
        "def get_statistics_from_history(history):\n",
        "    best_val_accuracy = max(history['val_accuracy'])\n",
        "    final_hidden_layer_sizes = history['hidden_layer_sizes'][-1]\n",
        "    return best_val_accuracy, final_hidden_layer_sizes\n",
        "\n",
        "\n",
        "def get_statistics_from_histories(histories):\n",
        "    best_val_accuracies = list()\n",
        "    all_final_hidden_layer_sizes = list()\n",
        "\n",
        "    for history in histories:\n",
        "        best_val_accuracy, final_hidden_layer_sizes = get_statistics_from_history(history)\n",
        "        best_val_accuracies.append(best_val_accuracy)\n",
        "        all_final_hidden_layer_sizes.append(final_hidden_layer_sizes)\n",
        "    \n",
        "    mean_best_val_accuracy = np.mean(best_val_accuracies)\n",
        "    mean_final_hidden_layer_sizes = [np.mean(layer) for layer in list(zip(*all_final_hidden_layer_sizes))]\n",
        "    \n",
        "    return mean_best_val_accuracy, mean_final_hidden_layer_sizes\n",
        "\n",
        "\n",
        "def cross_validate(train_fn, x, y, n_splits, random_state=42, *args, **kwargs):\n",
        "    from sklearn.model_selection import KFold\n",
        "\n",
        "    kf = KFold(n_splits=n_splits, shuffle=True, random_state=random_state)\n",
        "\n",
        "    histories = list()\n",
        "    for i, (train_index, test_index) in enumerate(kf.split(x)):\n",
        "        xtrain, xtest = x[train_index], x[test_index]\n",
        "        ytrain, ytest = y[train_index], y[test_index]\n",
        "\n",
        "        history = train_fn(*args, **kwargs)\n",
        "        histories.append(history)\n",
        "\n",
        "        best_val_accuracy, final_hidden_layer_sizes = get_statistics_from_history(history)\n",
        "        print(f\"Run {i} completed, best_val_accuracy: {best_val_accuracy}, final_hidden_layer sizes: {final_hidden_layer_sizes}\")\n",
        "\n",
        "    mean_best_val_accuracy, mean_final_hidden_layer_sizes = get_statistics_from_histories(histories)\n",
        "    print(f'mean_best_val_accuracy: {mean_best_val_accuracy}')\n",
        "    print(f'mean_final_hidden_layer_sizes: {mean_final_hidden_layer_sizes}')\n",
        "\n",
        "    return histories\n",
        "\n",
        "\n",
        "def hyperparameter_search(train_fn, *args, **kwargs):\n",
        "    from itertools import product\n",
        "\n",
        "    all_params = [*args] + list(kwargs.values())\n",
        "    histories = list()\n",
        "\n",
        "    best_overall_val_accuracy = -np.inf\n",
        "    best_overall_combination = None\n",
        "\n",
        "    for combination in product(*all_params):\n",
        "        combination_args = combination[:len(args)]\n",
        "\n",
        "        combination_kwargs_values = combination[len(args):]\n",
        "        combination_kwargs = dict(zip(kwargs.keys(), combination_kwargs_values))\n",
        "\n",
        "        history = train_fn(*combination_args, **combination_kwargs)\n",
        "        history['parameters'] = combination\n",
        "        histories.append(history)\n",
        "\n",
        "        best_val_accuracy, final_hidden_layer_sizes = get_statistics_from_history(history)\n",
        "        print(f\"Run with parameters {combination} completed, best_val_accuracy: {best_val_accuracy}, final_hidden_layer sizes: {final_hidden_layer_sizes}\")\n",
        "\n",
        "        if best_val_accuracy > best_overall_val_accuracy:\n",
        "            best_overall_val_accuracy = best_val_accuracy\n",
        "            best_overall_combination = combination\n",
        "    \n",
        "    print(f'Best overall combination: {best_overall_combination}, val_accuracy: {best_overall_val_accuracy}')\n",
        "\n",
        "    return histories"
      ],
      "execution_count": 51,
      "outputs": []
    },
    {
      "cell_type": "markdown",
      "metadata": {
        "id": "l1MrQXUTFwOe"
      },
      "source": [
        "# Accuracy benchmark - FF and convolutions"
      ]
    },
    {
      "cell_type": "markdown",
      "metadata": {
        "id": "hsivpauwveEK"
      },
      "source": [
        "## CIFAR10"
      ]
    },
    {
      "cell_type": "code",
      "metadata": {
        "id": "FdBhEgOUHfLq"
      },
      "source": [
        "def get_convolutional_model(regularization_penalty, regularization_method, layer_sizes, output_neurons=10):\n",
        "    model = Sequential([\n",
        "        Conv2D(layer_sizes[0], filter_size=(3, 3), activation='selu', strides=(1, 1), padding='SAME', \n",
        "            regularization_penalty=regularization_penalty, regularization_method=regularization_method, \n",
        "            kernel_initializer='lecun_normal', input_shape=X_train_norm[0,:,:,:].shape),\n",
        "        Conv2D(layer_sizes[1], filter_size=(3, 3), activation='selu', strides=(2, 2), padding='SAME', \n",
        "            regularization_penalty=regularization_penalty, regularization_method=regularization_method, \n",
        "            kernel_initializer='lecun_normal'),\n",
        "        tf.keras.layers.Dropout(0.2),\n",
        "        Conv2D(layer_sizes[2], filter_size=(3, 3), activation='selu', strides=(1, 1), padding='SAME', \n",
        "            regularization_penalty=regularization_penalty, regularization_method=regularization_method, \n",
        "            kernel_initializer='lecun_normal'),\n",
        "        Conv2D(layer_sizes[3], filter_size=(3, 3), activation='selu', strides=(2, 2), padding='SAME', \n",
        "            regularization_penalty=regularization_penalty, regularization_method=regularization_method, \n",
        "            kernel_initializer='lecun_normal'),\n",
        "        tf.keras.layers.Dropout(0.5),\n",
        "        Flatten(),\n",
        "        Dense(layer_sizes[4], activation='selu', regularization_penalty=regularization_penalty, \n",
        "            regularization_method=regularization_method, kernel_initializer='lecun_normal'),\n",
        "        Dense(output_neurons, activation='softmax', regularization_penalty=0., \n",
        "            regularization_method=None, fixed_size=True),\n",
        "    ])\n",
        "    return model\n",
        "\n",
        "\n",
        "def train_fn(learning_rate, regularization_penalty, regularization_method, self_scaling_epochs, layer_sizes, output_neurons=10):\n",
        "    epochs = 40\n",
        "    batch_size = 128\n",
        "    min_new_neurons = 20\n",
        "\n",
        "    model = get_convolutional_model(regularization_penalty, regularization_method, layer_sizes, output_neurons)\n",
        "    \n",
        "    optimizer = tf.keras.optimizers.Adam(learning_rate=learning_rate)\n",
        "\n",
        "    history = model.fit(X_train_norm, y_train, optimizer, epochs, self_scaling_epochs, batch_size, \n",
        "                        min_new_neurons, validation_data=(X_test_norm, y_test), verbose=False)\n",
        "    \n",
        "    return history"
      ],
      "execution_count": 49,
      "outputs": []
    },
    {
      "cell_type": "code",
      "metadata": {
        "id": "_Xjdr-TaRdui",
        "colab": {
          "base_uri": "https://localhost:8080/"
        },
        "outputId": "84572bce-9e00-49f5-ccc3-3266ea8762e9"
      },
      "source": [
        "%%time\n",
        "\n",
        "histories = hyperparameter_search(train_fn, learning_rate=[0.00005, 0.0002, 0.0006], \n",
        "                                  regularization_penalty=[0.00002], regularization_method=['weighted_l1'], \n",
        "                                  self_scaling_epochs=[20], layer_sizes=[[100, 100, 100, 100, 100]])"
      ],
      "execution_count": null,
      "outputs": [
        {
          "output_type": "stream",
          "name": "stdout",
          "text": [
            "Run with parameters (5e-05, 2e-05, 'weighted_l1', 20, [100, 100, 100, 100, 100]) completed, best_val_accuracy: 0.7074, final_hidden_layer sizes: [100, 46, 47, 53, 71]\n",
            "Run with parameters (0.0002, 2e-05, 'weighted_l1', 20, [100, 100, 100, 100, 100]) completed, best_val_accuracy: 0.7496, final_hidden_layer sizes: [50, 25, 23, 60, 86]\n",
            "Run with parameters (0.0006, 2e-05, 'weighted_l1', 20, [100, 100, 100, 100, 100]) completed, best_val_accuracy: 0.7554, final_hidden_layer sizes: [36, 15, 30, 81, 266]\n",
            "Best overall combination: (0.0006, 2e-05, 'weighted_l1', 20, [100, 100, 100, 100, 100]), val_accuracy: 0.7554\n",
            "CPU times: user 27min 12s, sys: 31.1 s, total: 27min 43s\n",
            "Wall time: 27min 44s\n"
          ]
        }
      ]
    },
    {
      "cell_type": "code",
      "metadata": {
        "id": "KlUE6-_XSirS",
        "colab": {
          "base_uri": "https://localhost:8080/"
        },
        "outputId": "a86597f1-4912-4097-d1fd-fadd79b5391e"
      },
      "source": [
        "%%time\n",
        "\n",
        "histories = cross_validate(train_fn, X_norm, y, n_splits=6, learning_rate=0.0006,\n",
        "                           regularization_penalty=0.00002, regularization_method='weighted_l1',\n",
        "                           self_scaling_epochs=20, layer_sizes=[100, 100, 100, 100, 100])"
      ],
      "execution_count": null,
      "outputs": [
        {
          "output_type": "stream",
          "name": "stdout",
          "text": [
            "Run 0 completed, best_val_accuracy: 0.7661, final_hidden_layer sizes: [36, 16, 42, 81, 275]\n",
            "Run 1 completed, best_val_accuracy: 0.7548, final_hidden_layer sizes: [32, 17, 25, 93, 244]\n",
            "Run 2 completed, best_val_accuracy: 0.7611, final_hidden_layer sizes: [29, 17, 32, 80, 244]\n",
            "Run 3 completed, best_val_accuracy: 0.7671, final_hidden_layer sizes: [32, 17, 28, 61, 332]\n",
            "Run 4 completed, best_val_accuracy: 0.7603, final_hidden_layer sizes: [31, 18, 38, 72, 294]\n",
            "Run 5 completed, best_val_accuracy: 0.7689, final_hidden_layer sizes: [34, 16, 37, 71, 316]\n",
            "mean_best_val_accuracy: 0.7630500000000001\n",
            "mean_final_hidden_layer_sizes: [32.333333333333336, 16.833333333333332, 33.666666666666664, 76.33333333333333, 284.1666666666667]\n",
            "CPU times: user 54min 56s, sys: 1min 3s, total: 56min\n",
            "Wall time: 55min 15s\n"
          ]
        }
      ]
    },
    {
      "cell_type": "code",
      "metadata": {
        "id": "qDegWc-xH-I0",
        "colab": {
          "base_uri": "https://localhost:8080/"
        },
        "outputId": "3df413ac-8c66-4a07-da16-ece0795e67d2"
      },
      "source": [
        "histories = hyperparameter_search(train_fn, learning_rate=[0.0005, 0.002, 0.006], \n",
        "                                  regularization_penalty=[0.], regularization_method=[None], \n",
        "                                  self_scaling_epochs=[0], layer_sizes=[[32, 17, 34, 76, 284]])"
      ],
      "execution_count": null,
      "outputs": [
        {
          "output_type": "stream",
          "name": "stdout",
          "text": [
            "Run with parameters (0.0005, 0.0, None, 0, [32, 17, 34, 76, 284]) completed, best_val_accuracy: 0.6696, final_hidden_layer sizes: [32, 17, 34, 76, 284]\n",
            "Run with parameters (0.002, 0.0, None, 0, [32, 17, 34, 76, 284]) completed, best_val_accuracy: 0.7203, final_hidden_layer sizes: [32, 17, 34, 76, 284]\n",
            "Run with parameters (0.006, 0.0, None, 0, [32, 17, 34, 76, 284]) completed, best_val_accuracy: 0.5657, final_hidden_layer sizes: [32, 17, 34, 76, 284]\n",
            "Best overall combination: (0.002, 0.0, None, 0, [32, 17, 34, 76, 284]), val_accuracy: 0.7203\n"
          ]
        }
      ]
    },
    {
      "cell_type": "code",
      "metadata": {
        "id": "N6Tc8v-bI-Q5",
        "colab": {
          "base_uri": "https://localhost:8080/"
        },
        "outputId": "5c183254-9183-447f-d5ce-495f082b7fb3"
      },
      "source": [
        "histories = cross_validate(train_fn, X_norm, y, n_splits=6, learning_rate=0.002,\n",
        "                           regularization_penalty=0., regularization_method=None,\n",
        "                           self_scaling_epochs=0, layer_sizes=[32, 17, 34, 76, 284])"
      ],
      "execution_count": null,
      "outputs": [
        {
          "output_type": "stream",
          "name": "stdout",
          "text": [
            "Run 0 completed, best_val_accuracy: 0.7183, final_hidden_layer sizes: [32, 17, 34, 76, 284]\n",
            "Run 1 completed, best_val_accuracy: 0.7177, final_hidden_layer sizes: [32, 17, 34, 76, 284]\n",
            "Run 2 completed, best_val_accuracy: 0.7154, final_hidden_layer sizes: [32, 17, 34, 76, 284]\n",
            "Run 3 completed, best_val_accuracy: 0.7285, final_hidden_layer sizes: [32, 17, 34, 76, 284]\n",
            "Run 4 completed, best_val_accuracy: 0.7061, final_hidden_layer sizes: [32, 17, 34, 76, 284]\n",
            "Run 5 completed, best_val_accuracy: 0.7166, final_hidden_layer sizes: [32, 17, 34, 76, 284]\n",
            "mean_best_val_accuracy: 0.7170999999999998\n",
            "mean_final_hidden_layer_sizes: [32.0, 17.0, 34.0, 76.0, 284.0]\n"
          ]
        }
      ]
    },
    {
      "cell_type": "code",
      "metadata": {
        "id": "4ul-93OxJP8x",
        "colab": {
          "base_uri": "https://localhost:8080/"
        },
        "outputId": "0c7d9384-14b3-41a2-c557-38b7c5be6d80"
      },
      "source": [
        "model = get_convolutional_model(regularization_penalty=0., regularization_method=None, layer_sizes=[32, 17, 34, 76, 284])\n",
        "model.build(X_norm.shape)\n",
        "model.summary()"
      ],
      "execution_count": null,
      "outputs": [
        {
          "output_type": "stream",
          "name": "stdout",
          "text": [
            "Model: \"sequential_9\"\n",
            "_________________________________________________________________\n",
            "Layer (type)                 Output Shape              Param #   \n",
            "=================================================================\n",
            "conv2d_36 (Conv2D)           multiple                  896       \n",
            "_________________________________________________________________\n",
            "conv2d_37 (Conv2D)           multiple                  4913      \n",
            "_________________________________________________________________\n",
            "dropout_18 (Dropout)         multiple                  0         \n",
            "_________________________________________________________________\n",
            "conv2d_38 (Conv2D)           multiple                  5236      \n",
            "_________________________________________________________________\n",
            "conv2d_39 (Conv2D)           multiple                  23332     \n",
            "_________________________________________________________________\n",
            "dropout_19 (Dropout)         multiple                  0         \n",
            "_________________________________________________________________\n",
            "flatten_9 (Flatten)          multiple                  0         \n",
            "_________________________________________________________________\n",
            "dense_18 (Dense)             multiple                  1381660   \n",
            "_________________________________________________________________\n",
            "dense_19 (Dense)             multiple                  2850      \n",
            "=================================================================\n",
            "Total params: 1,418,887\n",
            "Trainable params: 1,418,887\n",
            "Non-trainable params: 0\n",
            "_________________________________________________________________\n"
          ]
        }
      ]
    },
    {
      "cell_type": "code",
      "metadata": {
        "colab": {
          "base_uri": "https://localhost:8080/"
        },
        "id": "8t_OOXohXj0h",
        "outputId": "5296d14e-e979-4b03-9df4-ead67c68448a"
      },
      "source": [
        "model = get_convolutional_model(regularization_penalty=0., regularization_method=None, layer_sizes=[71, 71, 71, 71, 284])\n",
        "model.build(X_norm.shape)\n",
        "model.summary()"
      ],
      "execution_count": null,
      "outputs": [
        {
          "output_type": "stream",
          "name": "stdout",
          "text": [
            "Model: \"sequential_17\"\n",
            "_________________________________________________________________\n",
            "Layer (type)                 Output Shape              Param #   \n",
            "=================================================================\n",
            "conv2d_68 (Conv2D)           multiple                  1988      \n",
            "_________________________________________________________________\n",
            "conv2d_69 (Conv2D)           multiple                  45440     \n",
            "_________________________________________________________________\n",
            "dropout_34 (Dropout)         multiple                  0         \n",
            "_________________________________________________________________\n",
            "conv2d_70 (Conv2D)           multiple                  45440     \n",
            "_________________________________________________________________\n",
            "conv2d_71 (Conv2D)           multiple                  45440     \n",
            "_________________________________________________________________\n",
            "dropout_35 (Dropout)         multiple                  0         \n",
            "_________________________________________________________________\n",
            "flatten_17 (Flatten)         multiple                  0         \n",
            "_________________________________________________________________\n",
            "dense_34 (Dense)             multiple                  1290780   \n",
            "_________________________________________________________________\n",
            "dense_35 (Dense)             multiple                  2850      \n",
            "=================================================================\n",
            "Total params: 1,431,938\n",
            "Trainable params: 1,431,938\n",
            "Non-trainable params: 0\n",
            "_________________________________________________________________\n"
          ]
        }
      ]
    },
    {
      "cell_type": "code",
      "metadata": {
        "id": "piss1dnQML-x",
        "colab": {
          "base_uri": "https://localhost:8080/"
        },
        "outputId": "e0471852-2a0d-4f2f-8f73-2a371460a27f"
      },
      "source": [
        "%%time\n",
        "\n",
        "histories = hyperparameter_search(train_fn, learning_rate=[0.0005, 0.002, 0.006], \n",
        "                                  regularization_penalty=[0.], regularization_method=[None], \n",
        "                                  self_scaling_epochs=[0], layer_sizes=[[71, 71, 71, 71, 284]])"
      ],
      "execution_count": null,
      "outputs": [
        {
          "output_type": "stream",
          "name": "stdout",
          "text": [
            "Run with parameters (0.0005, 0.0, None, 0, [71, 71, 71, 71, 284]) completed, best_val_accuracy: 0.7377, final_hidden_layer sizes: [71, 71, 71, 71, 284]\n",
            "Run with parameters (0.002, 0.0, None, 0, [71, 71, 71, 71, 284]) completed, best_val_accuracy: 0.7363, final_hidden_layer sizes: [71, 71, 71, 71, 284]\n",
            "Run with parameters (0.006, 0.0, None, 0, [71, 71, 71, 71, 284]) completed, best_val_accuracy: 0.1, final_hidden_layer sizes: [71, 71, 71, 71, 284]\n",
            "Best overall combination: (0.0005, 0.0, None, 0, [71, 71, 71, 71, 284]), val_accuracy: 0.7377\n",
            "CPU times: user 11min 50s, sys: 13 s, total: 12min 3s\n",
            "Wall time: 13min 22s\n"
          ]
        }
      ]
    },
    {
      "cell_type": "code",
      "metadata": {
        "id": "fAFI6aIIYpry",
        "colab": {
          "base_uri": "https://localhost:8080/"
        },
        "outputId": "87d9c092-d2fe-4da4-edd7-306135513ba5"
      },
      "source": [
        "%%time\n",
        "\n",
        "histories = cross_validate(train_fn, X_norm, y, n_splits=6, learning_rate=0.0005,\n",
        "                           regularization_penalty=0., regularization_method=None,\n",
        "                           self_scaling_epochs=0, layer_sizes=[71, 71, 71, 71, 284])"
      ],
      "execution_count": null,
      "outputs": [
        {
          "output_type": "stream",
          "name": "stdout",
          "text": [
            "Run 0 completed, best_val_accuracy: 0.7418, final_hidden_layer sizes: [71, 71, 71, 71, 284]\n",
            "Run 1 completed, best_val_accuracy: 0.7336, final_hidden_layer sizes: [71, 71, 71, 71, 284]\n",
            "Run 2 completed, best_val_accuracy: 0.7415, final_hidden_layer sizes: [71, 71, 71, 71, 284]\n",
            "Run 3 completed, best_val_accuracy: 0.7389, final_hidden_layer sizes: [71, 71, 71, 71, 284]\n",
            "Run 4 completed, best_val_accuracy: 0.7345, final_hidden_layer sizes: [71, 71, 71, 71, 284]\n",
            "Run 5 completed, best_val_accuracy: 0.727, final_hidden_layer sizes: [71, 71, 71, 71, 284]\n",
            "mean_best_val_accuracy: 0.7362166666666666\n",
            "mean_final_hidden_layer_sizes: [71.0, 71.0, 71.0, 71.0, 284.0]\n",
            "CPU times: user 23min 38s, sys: 30.1 s, total: 24min 8s\n",
            "Wall time: 26min 44s\n"
          ]
        }
      ]
    },
    {
      "cell_type": "code",
      "metadata": {
        "id": "vMXBfMaJdA5-"
      },
      "source": [
        "fashion_mnist = tf.keras.datasets.mnist\n",
        "(X_train, y_train), (X_test, y_test) = fashion_mnist.load_data()\n",
        "\n",
        "X_train = X_train.astype(dtype) / 255.0\n",
        "y_train = y_train.astype(dtype)\n",
        "X_test = X_test.astype(dtype)  / 255.0\n",
        "y_test = y_test.astype(dtype)\n",
        "\n",
        "X_train = np.reshape(X_train, (-1, 1))\n",
        "X_test = np.reshape(X_test, (-1, 1))\n",
        "\n",
        "X = np.concatenate((X_train, X_test), axis=0)\n",
        "y = np.concatenate((y_train, y_test), axis=0)\n",
        "\n",
        "from sklearn.preprocessing import StandardScaler\n",
        "\n",
        "scaler = StandardScaler()\n",
        "scaler.fit(X_train)  # Scaling all features together\n",
        "\n",
        "X_norm = scaler.transform(X)\n",
        "X_train_norm = scaler.transform(X_train)\n",
        "X_test_norm = scaler.transform(X_test)\n",
        "\n",
        "X_norm = np.reshape(X_norm, (-1, 28, 28))\n",
        "X_train_norm = np.reshape(X_train_norm, (-1, 28, 28))\n",
        "X_test_norm = np.reshape(X_test_norm, (-1, 28, 28))"
      ],
      "execution_count": null,
      "outputs": []
    },
    {
      "cell_type": "markdown",
      "metadata": {
        "id": "nh4tkmCVvgrr"
      },
      "source": [
        "## Fashnion MNIST"
      ]
    },
    {
      "cell_type": "code",
      "metadata": {
        "id": "vUjJ6WBbvhix"
      },
      "source": [
        "fashion_mnist = tf.keras.datasets.fashion_mnist\n",
        "(X_train, y_train), (X_test, y_test) = fashion_mnist.load_data()\n",
        "\n",
        "X_train = X_train.astype(dtype) / 255.0\n",
        "y_train = y_train.astype(dtype)\n",
        "X_test = X_test.astype(dtype)  / 255.0\n",
        "y_test = y_test.astype(dtype)\n",
        "\n",
        "X_train = np.reshape(X_train, (-1, 1))\n",
        "X_test = np.reshape(X_test, (-1, 1))\n",
        "\n",
        "X = np.concatenate((X_train, X_test), axis=0)\n",
        "y = np.concatenate((y_train, y_test), axis=0)\n",
        "\n",
        "from sklearn.preprocessing import StandardScaler\n",
        "\n",
        "scaler = StandardScaler()\n",
        "scaler.fit(X_train)  # Scaling all features together\n",
        "\n",
        "X_norm = scaler.transform(X)\n",
        "X_train_norm = scaler.transform(X_train)\n",
        "X_test_norm = scaler.transform(X_test)\n",
        "\n",
        "X_norm = np.reshape(X_norm, (-1, 28, 28, 1))\n",
        "X_train_norm = np.reshape(X_train_norm, (-1, 28, 28, 1))\n",
        "X_test_norm = np.reshape(X_test_norm, (-1, 28, 28, 1))"
      ],
      "execution_count": null,
      "outputs": []
    },
    {
      "cell_type": "code",
      "metadata": {
        "id": "3Wd--pCev6uX",
        "colab": {
          "base_uri": "https://localhost:8080/"
        },
        "outputId": "6a2aa547-d134-4f27-f85f-67bd21b8abb7"
      },
      "source": [
        "%%time\n",
        "\n",
        "histories = hyperparameter_search(train_fn, learning_rate=[0.00005, 0.0002, 0.0006], \n",
        "                                  regularization_penalty=[0.00002], regularization_method=['weighted_l1'], \n",
        "                                  self_scaling_epochs=[20], layer_sizes=[[100, 100, 100, 100, 100]])"
      ],
      "execution_count": null,
      "outputs": [
        {
          "output_type": "stream",
          "name": "stdout",
          "text": [
            "Run with parameters (5e-05, 2e-05, 'weighted_l1', 20, [100, 100, 100, 100, 100]) completed, best_val_accuracy: 0.9158, final_hidden_layer sizes: [78, 21, 26, 43, 76]\n",
            "Run with parameters (0.0002, 2e-05, 'weighted_l1', 20, [100, 100, 100, 100, 100]) completed, best_val_accuracy: 0.9232, final_hidden_layer sizes: [42, 17, 16, 32, 46]\n",
            "Run with parameters (0.0006, 2e-05, 'weighted_l1', 20, [100, 100, 100, 100, 100]) completed, best_val_accuracy: 0.9306, final_hidden_layer sizes: [20, 13, 26, 51, 197]\n",
            "Best overall combination: (0.0006, 2e-05, 'weighted_l1', 20, [100, 100, 100, 100, 100]), val_accuracy: 0.9306\n",
            "CPU times: user 18min 26s, sys: 16.4 s, total: 18min 42s\n",
            "Wall time: 18min 57s\n"
          ]
        }
      ]
    },
    {
      "cell_type": "code",
      "metadata": {
        "id": "xSDPL2ZqwIVX",
        "colab": {
          "base_uri": "https://localhost:8080/"
        },
        "outputId": "4a769191-78f3-4938-d819-c54cff1a95d6"
      },
      "source": [
        "%%time\n",
        "\n",
        "histories = cross_validate(train_fn, X_norm, y, n_splits=6, learning_rate=0.0006,\n",
        "                           regularization_penalty=0.00002, regularization_method='weighted_l1',\n",
        "                           self_scaling_epochs=20, layer_sizes=[100, 100, 100, 100, 100])"
      ],
      "execution_count": null,
      "outputs": [
        {
          "output_type": "stream",
          "name": "stdout",
          "text": [
            "Run 0 completed, best_val_accuracy: 0.9288, final_hidden_layer sizes: [17, 15, 22, 43, 168]\n",
            "Run 1 completed, best_val_accuracy: 0.9284, final_hidden_layer sizes: [19, 14, 20, 45, 196]\n",
            "Run 2 completed, best_val_accuracy: 0.9313, final_hidden_layer sizes: [20, 14, 24, 64, 198]\n",
            "Run 3 completed, best_val_accuracy: 0.9292, final_hidden_layer sizes: [28, 12, 25, 41, 181]\n",
            "Run 4 completed, best_val_accuracy: 0.9313, final_hidden_layer sizes: [23, 14, 27, 42, 172]\n",
            "Run 5 completed, best_val_accuracy: 0.9314, final_hidden_layer sizes: [23, 14, 23, 48, 186]\n",
            "mean_best_val_accuracy: 0.9300666666666667\n",
            "mean_final_hidden_layer_sizes: [21.666666666666668, 13.833333333333334, 23.5, 47.166666666666664, 183.5]\n",
            "CPU times: user 36min 47s, sys: 31.1 s, total: 37min 18s\n",
            "Wall time: 37min 18s\n"
          ]
        }
      ]
    },
    {
      "cell_type": "code",
      "metadata": {
        "id": "fD6d8MuL6H9w",
        "colab": {
          "base_uri": "https://localhost:8080/"
        },
        "outputId": "8850789d-40e8-48e3-f12e-3f5893ef5b5d"
      },
      "source": [
        "%%time\n",
        "\n",
        "histories = hyperparameter_search(train_fn, learning_rate=[0.0005, 0.002, 0.006], \n",
        "                                  regularization_penalty=[0.], regularization_method=[None], \n",
        "                                  self_scaling_epochs=[0], layer_sizes=[[22, 14, 24, 47, 184]])"
      ],
      "execution_count": null,
      "outputs": [
        {
          "output_type": "stream",
          "name": "stdout",
          "text": [
            "Run with parameters (0.0005, 0.0, None, 0, [22, 14, 24, 47, 184]) completed, best_val_accuracy: 0.9175, final_hidden_layer sizes: [22, 14, 24, 47, 184]\n",
            "Run with parameters (0.002, 0.0, None, 0, [22, 14, 24, 47, 184]) completed, best_val_accuracy: 0.9154, final_hidden_layer sizes: [22, 14, 24, 47, 184]\n",
            "Run with parameters (0.006, 0.0, None, 0, [22, 14, 24, 47, 184]) completed, best_val_accuracy: 0.8663, final_hidden_layer sizes: [22, 14, 24, 47, 184]\n",
            "Best overall combination: (0.0005, 0.0, None, 0, [22, 14, 24, 47, 184]), val_accuracy: 0.9175\n",
            "CPU times: user 11min 43s, sys: 9.79 s, total: 11min 53s\n",
            "Wall time: 11min 33s\n"
          ]
        }
      ]
    },
    {
      "cell_type": "code",
      "metadata": {
        "id": "pnI5JZplC_DY",
        "colab": {
          "base_uri": "https://localhost:8080/"
        },
        "outputId": "d38e1dcf-d829-457a-a5db-88d415d38a29"
      },
      "source": [
        "histories = cross_validate(train_fn, X_norm, y, n_splits=6, learning_rate=0.0005,\n",
        "                           regularization_penalty=0., regularization_method=None,\n",
        "                           self_scaling_epochs=0, layer_sizes=[22, 14, 24, 47, 184])"
      ],
      "execution_count": null,
      "outputs": [
        {
          "output_type": "stream",
          "name": "stdout",
          "text": [
            "Run 0 completed, best_val_accuracy: 0.9207, final_hidden_layer sizes: [22, 14, 24, 47, 184]\n",
            "Run 1 completed, best_val_accuracy: 0.9216, final_hidden_layer sizes: [22, 14, 24, 47, 184]\n",
            "Run 2 completed, best_val_accuracy: 0.9195, final_hidden_layer sizes: [22, 14, 24, 47, 184]\n",
            "Run 3 completed, best_val_accuracy: 0.9179, final_hidden_layer sizes: [22, 14, 24, 47, 184]\n",
            "Run 4 completed, best_val_accuracy: 0.9158, final_hidden_layer sizes: [22, 14, 24, 47, 184]\n",
            "Run 5 completed, best_val_accuracy: 0.9152, final_hidden_layer sizes: [22, 14, 24, 47, 184]\n",
            "mean_best_val_accuracy: 0.91845\n",
            "mean_final_hidden_layer_sizes: [22.0, 14.0, 24.0, 47.0, 184.0]\n"
          ]
        }
      ]
    },
    {
      "cell_type": "code",
      "metadata": {
        "id": "OYR_MWjeF0jn",
        "colab": {
          "base_uri": "https://localhost:8080/"
        },
        "outputId": "2de6b623-d6be-476e-f591-7102309346b8"
      },
      "source": [
        "model = get_convolutional_model(regularization_penalty=0., regularization_method=None, layer_sizes=[22, 14, 24, 47, 184])\n",
        "model.build(X_norm.shape)\n",
        "model.summary()"
      ],
      "execution_count": null,
      "outputs": [
        {
          "output_type": "stream",
          "name": "stdout",
          "text": [
            "Model: \"sequential_51\"\n",
            "_________________________________________________________________\n",
            "Layer (type)                 Output Shape              Param #   \n",
            "=================================================================\n",
            "conv2d_204 (Conv2D)          multiple                  220       \n",
            "_________________________________________________________________\n",
            "conv2d_205 (Conv2D)          multiple                  2786      \n",
            "_________________________________________________________________\n",
            "dropout_102 (Dropout)        multiple                  0         \n",
            "_________________________________________________________________\n",
            "conv2d_206 (Conv2D)          multiple                  3048      \n",
            "_________________________________________________________________\n",
            "conv2d_207 (Conv2D)          multiple                  10199     \n",
            "_________________________________________________________________\n",
            "dropout_103 (Dropout)        multiple                  0         \n",
            "_________________________________________________________________\n",
            "flatten_51 (Flatten)         multiple                  0         \n",
            "_________________________________________________________________\n",
            "dense_102 (Dense)            multiple                  423936    \n",
            "_________________________________________________________________\n",
            "dense_103 (Dense)            multiple                  1850      \n",
            "=================================================================\n",
            "Total params: 442,039\n",
            "Trainable params: 442,039\n",
            "Non-trainable params: 0\n",
            "_________________________________________________________________\n"
          ]
        }
      ]
    },
    {
      "cell_type": "code",
      "metadata": {
        "id": "SGVLULE7LfrG",
        "colab": {
          "base_uri": "https://localhost:8080/"
        },
        "outputId": "c2fbe56e-a475-4cc9-9c11-0ece35ea5bdf"
      },
      "source": [
        "model = get_convolutional_model(regularization_penalty=0., regularization_method=None, layer_sizes=[43, 43, 43, 43, 184])\n",
        "model.build(X_norm.shape)\n",
        "model.summary()"
      ],
      "execution_count": null,
      "outputs": [
        {
          "output_type": "stream",
          "name": "stdout",
          "text": [
            "Model: \"sequential_55\"\n",
            "_________________________________________________________________\n",
            "Layer (type)                 Output Shape              Param #   \n",
            "=================================================================\n",
            "conv2d_220 (Conv2D)          multiple                  430       \n",
            "_________________________________________________________________\n",
            "conv2d_221 (Conv2D)          multiple                  16684     \n",
            "_________________________________________________________________\n",
            "dropout_110 (Dropout)        multiple                  0         \n",
            "_________________________________________________________________\n",
            "conv2d_222 (Conv2D)          multiple                  16684     \n",
            "_________________________________________________________________\n",
            "conv2d_223 (Conv2D)          multiple                  16684     \n",
            "_________________________________________________________________\n",
            "dropout_111 (Dropout)        multiple                  0         \n",
            "_________________________________________________________________\n",
            "flatten_55 (Flatten)         multiple                  0         \n",
            "_________________________________________________________________\n",
            "dense_110 (Dense)            multiple                  387872    \n",
            "_________________________________________________________________\n",
            "dense_111 (Dense)            multiple                  1850      \n",
            "=================================================================\n",
            "Total params: 440,204\n",
            "Trainable params: 440,204\n",
            "Non-trainable params: 0\n",
            "_________________________________________________________________\n"
          ]
        }
      ]
    },
    {
      "cell_type": "code",
      "metadata": {
        "id": "nPFNNQVELj--",
        "colab": {
          "base_uri": "https://localhost:8080/"
        },
        "outputId": "aaf5e50c-c264-4aa0-f9b5-ea7dea68c16c"
      },
      "source": [
        "%%time\n",
        "\n",
        "histories = hyperparameter_search(train_fn, learning_rate=[0.0002, 0.0005, 0.002, 0.006], \n",
        "                                  regularization_penalty=[0.], regularization_method=[None], \n",
        "                                  self_scaling_epochs=[0], layer_sizes=[[43, 43, 43, 43, 184]])"
      ],
      "execution_count": null,
      "outputs": [
        {
          "output_type": "stream",
          "name": "stdout",
          "text": [
            "Run with parameters (0.0002, 0.0, None, 0, [43, 43, 43, 43, 184]) completed, best_val_accuracy: 0.9236, final_hidden_layer sizes: [43, 43, 43, 43, 184]\n",
            "Run with parameters (0.0005, 0.0, None, 0, [43, 43, 43, 43, 184]) completed, best_val_accuracy: 0.9276, final_hidden_layer sizes: [43, 43, 43, 43, 184]\n",
            "Run with parameters (0.002, 0.0, None, 0, [43, 43, 43, 43, 184]) completed, best_val_accuracy: 0.9145, final_hidden_layer sizes: [43, 43, 43, 43, 184]\n",
            "Run with parameters (0.006, 0.0, None, 0, [43, 43, 43, 43, 184]) completed, best_val_accuracy: 0.8717, final_hidden_layer sizes: [43, 43, 43, 43, 184]\n",
            "Best overall combination: (0.0005, 0.0, None, 0, [43, 43, 43, 43, 184]), val_accuracy: 0.9276\n",
            "CPU times: user 15min 40s, sys: 13.4 s, total: 15min 53s\n",
            "Wall time: 15min 32s\n"
          ]
        }
      ]
    },
    {
      "cell_type": "code",
      "metadata": {
        "id": "XOiBdQDXLzMv",
        "colab": {
          "base_uri": "https://localhost:8080/"
        },
        "outputId": "ae2aae8b-4a2a-4056-fc9e-8aa231bee25b"
      },
      "source": [
        "histories = cross_validate(train_fn, X_norm, y, n_splits=6, learning_rate=0.0005,\n",
        "                           regularization_penalty=0., regularization_method=None,\n",
        "                           self_scaling_epochs=0, layer_sizes=[43, 43, 43, 43, 184])"
      ],
      "execution_count": null,
      "outputs": [
        {
          "output_type": "stream",
          "name": "stdout",
          "text": [
            "Run 0 completed, best_val_accuracy: 0.9243, final_hidden_layer sizes: [43, 43, 43, 43, 184]\n",
            "Run 1 completed, best_val_accuracy: 0.9249, final_hidden_layer sizes: [43, 43, 43, 43, 184]\n",
            "Run 2 completed, best_val_accuracy: 0.9244, final_hidden_layer sizes: [43, 43, 43, 43, 184]\n",
            "Run 3 completed, best_val_accuracy: 0.9287, final_hidden_layer sizes: [43, 43, 43, 43, 184]\n",
            "Run 4 completed, best_val_accuracy: 0.9232, final_hidden_layer sizes: [43, 43, 43, 43, 184]\n",
            "Run 5 completed, best_val_accuracy: 0.9239, final_hidden_layer sizes: [43, 43, 43, 43, 184]\n",
            "mean_best_val_accuracy: 0.9249\n",
            "mean_final_hidden_layer_sizes: [43.0, 43.0, 43.0, 43.0, 184.0]\n"
          ]
        }
      ]
    },
    {
      "cell_type": "markdown",
      "metadata": {
        "id": "Wp_mqLzVS-LJ"
      },
      "source": [
        "# MNIST"
      ]
    },
    {
      "cell_type": "code",
      "metadata": {
        "id": "M38DSB38S_AY",
        "outputId": "da6eaa43-881f-4112-b86d-c22e5c74b25d",
        "colab": {
          "base_uri": "https://localhost:8080/"
        }
      },
      "source": [
        "mnist = tf.keras.datasets.mnist\n",
        "(X_train, y_train), (X_test, y_test) = mnist.load_data()\n",
        "\n",
        "X_train = X_train.astype(dtype) / 255.0\n",
        "y_train = y_train.astype(dtype)\n",
        "X_test = X_test.astype(dtype)  / 255.0\n",
        "y_test = y_test.astype(dtype)\n",
        "\n",
        "X_train = np.reshape(X_train, (-1, 1))\n",
        "X_test = np.reshape(X_test, (-1, 1))\n",
        "\n",
        "X = np.concatenate((X_train, X_test), axis=0)\n",
        "y = np.concatenate((y_train, y_test), axis=0)\n",
        "\n",
        "from sklearn.preprocessing import StandardScaler\n",
        "\n",
        "scaler = StandardScaler()\n",
        "scaler.fit(X_train)  # Scaling all features together\n",
        "\n",
        "X_norm = scaler.transform(X)\n",
        "X_train_norm = scaler.transform(X_train)\n",
        "X_test_norm = scaler.transform(X_test)\n",
        "\n",
        "X_norm = np.reshape(X_norm, (-1, 28, 28, 1))\n",
        "X_train_norm = np.reshape(X_train_norm, (-1, 28, 28, 1))\n",
        "X_test_norm = np.reshape(X_test_norm, (-1, 28, 28, 1))"
      ],
      "execution_count": 8,
      "outputs": [
        {
          "output_type": "stream",
          "name": "stdout",
          "text": [
            "Downloading data from https://storage.googleapis.com/tensorflow/tf-keras-datasets/mnist.npz\n",
            "11493376/11490434 [==============================] - 0s 0us/step\n",
            "11501568/11490434 [==============================] - 0s 0us/step\n"
          ]
        }
      ]
    },
    {
      "cell_type": "code",
      "metadata": {
        "id": "AlhRX3IwZF6h",
        "colab": {
          "base_uri": "https://localhost:8080/"
        },
        "outputId": "050289d7-707a-45cb-d1fa-9cb423f63c02"
      },
      "source": [
        "%%time\n",
        "\n",
        "histories = hyperparameter_search(train_fn, learning_rate=[0.00005, 0.0002, 0.0006], \n",
        "                                  regularization_penalty=[0.00002], regularization_method=['weighted_l1'], \n",
        "                                  self_scaling_epochs=[20], layer_sizes=[[100, 100, 100, 100, 100]])"
      ],
      "execution_count": null,
      "outputs": [
        {
          "output_type": "stream",
          "name": "stdout",
          "text": [
            "Run with parameters (5e-05, 2e-05, 'weighted_l1', 20, [100, 100, 100, 100, 100]) completed, best_val_accuracy: 0.9918, final_hidden_layer sizes: [59, 22, 20, 42, 67]\n",
            "Run with parameters (0.0002, 2e-05, 'weighted_l1', 20, [100, 100, 100, 100, 100]) completed, best_val_accuracy: 0.9935, final_hidden_layer sizes: [19, 17, 16, 35, 50]\n",
            "Run with parameters (0.0006, 2e-05, 'weighted_l1', 20, [100, 100, 100, 100, 100]) completed, best_val_accuracy: 0.9933, final_hidden_layer sizes: [17, 14, 17, 41, 156]\n",
            "Best overall combination: (0.0002, 2e-05, 'weighted_l1', 20, [100, 100, 100, 100, 100]), val_accuracy: 0.9935\n",
            "CPU times: user 18min 24s, sys: 16.1 s, total: 18min 40s\n",
            "Wall time: 18min 52s\n"
          ]
        }
      ]
    },
    {
      "cell_type": "code",
      "metadata": {
        "id": "DDCoiaf_ZnXd",
        "colab": {
          "base_uri": "https://localhost:8080/"
        },
        "outputId": "6886f90f-14e8-49de-bebd-a10ab3b2caf4"
      },
      "source": [
        "%%time\n",
        "\n",
        "histories = cross_validate(train_fn, X_norm, y, n_splits=6, learning_rate=0.0002,\n",
        "                           regularization_penalty=0.00002, regularization_method='weighted_l1',\n",
        "                           self_scaling_epochs=20, layer_sizes=[100, 100, 100, 100, 100])"
      ],
      "execution_count": null,
      "outputs": [
        {
          "output_type": "stream",
          "name": "stdout",
          "text": [
            "Run 0 completed, best_val_accuracy: 0.9929, final_hidden_layer sizes: [19, 18, 12, 36, 54]\n",
            "Run 1 completed, best_val_accuracy: 0.9931, final_hidden_layer sizes: [21, 20, 13, 32, 43]\n",
            "Run 2 completed, best_val_accuracy: 0.9927, final_hidden_layer sizes: [23, 19, 14, 30, 47]\n",
            "Run 3 completed, best_val_accuracy: 0.9938, final_hidden_layer sizes: [19, 20, 15, 31, 53]\n",
            "Run 4 completed, best_val_accuracy: 0.9928, final_hidden_layer sizes: [24, 18, 10, 36, 46]\n",
            "Run 5 completed, best_val_accuracy: 0.9936, final_hidden_layer sizes: [22, 16, 13, 33, 38]\n",
            "mean_best_val_accuracy: 0.99315\n",
            "mean_final_hidden_layer_sizes: [21.333333333333332, 18.5, 12.833333333333334, 33.0, 46.833333333333336]\n",
            "CPU times: user 36min 33s, sys: 32.2 s, total: 37min 5s\n",
            "Wall time: 37min 13s\n"
          ]
        }
      ]
    },
    {
      "cell_type": "code",
      "metadata": {
        "id": "IawGXihJhVIL",
        "colab": {
          "base_uri": "https://localhost:8080/"
        },
        "outputId": "fd3fc2d6-1ca0-4f80-89fd-c8797ca412b8"
      },
      "source": [
        "%%time\n",
        "\n",
        "histories = hyperparameter_search(train_fn, learning_rate=[0.0002, 0.0005, 0.002, 0.006], \n",
        "                                  regularization_penalty=[0.], regularization_method=[None], \n",
        "                                  self_scaling_epochs=[0], layer_sizes=[[21, 19, 13, 33, 47]])"
      ],
      "execution_count": null,
      "outputs": [
        {
          "output_type": "stream",
          "name": "stdout",
          "text": [
            "Run with parameters (0.0002, 0.0, None, 0, [21, 19, 13, 33, 47]) completed, best_val_accuracy: 0.9919, final_hidden_layer sizes: [21, 19, 13, 33, 47]\n",
            "Run with parameters (0.0005, 0.0, None, 0, [21, 19, 13, 33, 47]) completed, best_val_accuracy: 0.9937, final_hidden_layer sizes: [21, 19, 13, 33, 47]\n",
            "Run with parameters (0.002, 0.0, None, 0, [21, 19, 13, 33, 47]) completed, best_val_accuracy: 0.9913, final_hidden_layer sizes: [21, 19, 13, 33, 47]\n",
            "Run with parameters (0.006, 0.0, None, 0, [21, 19, 13, 33, 47]) completed, best_val_accuracy: 0.9818, final_hidden_layer sizes: [21, 19, 13, 33, 47]\n",
            "Best overall combination: (0.0005, 0.0, None, 0, [21, 19, 13, 33, 47]), val_accuracy: 0.9937\n",
            "CPU times: user 15min 31s, sys: 12.9 s, total: 15min 44s\n",
            "Wall time: 15min 18s\n"
          ]
        }
      ]
    },
    {
      "cell_type": "code",
      "metadata": {
        "id": "b4sjFqDGrHbM",
        "outputId": "76ff7d84-7e4c-4e8d-ba2c-972236dbb7a6",
        "colab": {
          "base_uri": "https://localhost:8080/"
        }
      },
      "source": [
        "%%time\n",
        "\n",
        "histories = cross_validate(train_fn, X_norm, y, n_splits=6, learning_rate=0.0005,\n",
        "                           regularization_penalty=0., regularization_method=None,\n",
        "                           self_scaling_epochs=0, layer_sizes=[21, 19, 13, 33, 47])"
      ],
      "execution_count": 9,
      "outputs": [
        {
          "output_type": "stream",
          "name": "stdout",
          "text": [
            "Run 0 completed, best_val_accuracy: 0.9934, final_hidden_layer sizes: [21, 19, 13, 33, 47]\n",
            "Run 1 completed, best_val_accuracy: 0.9913, final_hidden_layer sizes: [21, 19, 13, 33, 47]\n",
            "Run 2 completed, best_val_accuracy: 0.9928, final_hidden_layer sizes: [21, 19, 13, 33, 47]\n",
            "Run 3 completed, best_val_accuracy: 0.9927, final_hidden_layer sizes: [21, 19, 13, 33, 47]\n",
            "Run 4 completed, best_val_accuracy: 0.993, final_hidden_layer sizes: [21, 19, 13, 33, 47]\n",
            "Run 5 completed, best_val_accuracy: 0.993, final_hidden_layer sizes: [21, 19, 13, 33, 47]\n",
            "mean_best_val_accuracy: 0.9927000000000001\n",
            "mean_final_hidden_layer_sizes: [21.0, 19.0, 13.0, 33.0, 47.0]\n",
            "CPU times: user 23min 16s, sys: 21.4 s, total: 23min 38s\n",
            "Wall time: 23min 16s\n"
          ]
        }
      ]
    },
    {
      "cell_type": "code",
      "metadata": {
        "id": "-t1SWyk6v6Fa",
        "outputId": "95dbddfc-36db-4a7b-edbb-55be30633947",
        "colab": {
          "base_uri": "https://localhost:8080/"
        }
      },
      "source": [
        "model = get_convolutional_model(regularization_penalty=0., regularization_method=None, layer_sizes=[21, 19, 13, 33, 47])\n",
        "model.build(X_norm.shape)\n",
        "model.summary()"
      ],
      "execution_count": 10,
      "outputs": [
        {
          "output_type": "stream",
          "name": "stdout",
          "text": [
            "Model: \"sequential_6\"\n",
            "_________________________________________________________________\n",
            "Layer (type)                 Output Shape              Param #   \n",
            "=================================================================\n",
            "conv2d_24 (Conv2D)           multiple                  210       \n",
            "_________________________________________________________________\n",
            "conv2d_25 (Conv2D)           multiple                  3610      \n",
            "_________________________________________________________________\n",
            "dropout_12 (Dropout)         multiple                  0         \n",
            "_________________________________________________________________\n",
            "conv2d_26 (Conv2D)           multiple                  2236      \n",
            "_________________________________________________________________\n",
            "conv2d_27 (Conv2D)           multiple                  3894      \n",
            "_________________________________________________________________\n",
            "dropout_13 (Dropout)         multiple                  0         \n",
            "_________________________________________________________________\n",
            "flatten_6 (Flatten)          multiple                  0         \n",
            "_________________________________________________________________\n",
            "dense_12 (Dense)             multiple                  76046     \n",
            "_________________________________________________________________\n",
            "dense_13 (Dense)             multiple                  480       \n",
            "=================================================================\n",
            "Total params: 86,476\n",
            "Trainable params: 86,476\n",
            "Non-trainable params: 0\n",
            "_________________________________________________________________\n"
          ]
        }
      ]
    },
    {
      "cell_type": "code",
      "metadata": {
        "id": "TUdtUDeH3bo5",
        "outputId": "93fa53d7-8af2-4b41-8395-335e1aeab076",
        "colab": {
          "base_uri": "https://localhost:8080/"
        }
      },
      "source": [
        "model = get_convolutional_model(regularization_penalty=0., regularization_method=None, layer_sizes=[28, 28, 28, 28, 47])\n",
        "model.build(X_norm.shape)\n",
        "model.summary()"
      ],
      "execution_count": 12,
      "outputs": [
        {
          "output_type": "stream",
          "name": "stdout",
          "text": [
            "Model: \"sequential_8\"\n",
            "_________________________________________________________________\n",
            "Layer (type)                 Output Shape              Param #   \n",
            "=================================================================\n",
            "conv2d_32 (Conv2D)           multiple                  280       \n",
            "_________________________________________________________________\n",
            "conv2d_33 (Conv2D)           multiple                  7084      \n",
            "_________________________________________________________________\n",
            "dropout_16 (Dropout)         multiple                  0         \n",
            "_________________________________________________________________\n",
            "conv2d_34 (Conv2D)           multiple                  7084      \n",
            "_________________________________________________________________\n",
            "conv2d_35 (Conv2D)           multiple                  7084      \n",
            "_________________________________________________________________\n",
            "dropout_17 (Dropout)         multiple                  0         \n",
            "_________________________________________________________________\n",
            "flatten_8 (Flatten)          multiple                  0         \n",
            "_________________________________________________________________\n",
            "dense_16 (Dense)             multiple                  64531     \n",
            "_________________________________________________________________\n",
            "dense_17 (Dense)             multiple                  480       \n",
            "=================================================================\n",
            "Total params: 86,543\n",
            "Trainable params: 86,543\n",
            "Non-trainable params: 0\n",
            "_________________________________________________________________\n"
          ]
        }
      ]
    },
    {
      "cell_type": "code",
      "metadata": {
        "id": "GWUOnhN53pSR",
        "outputId": "354bdf82-c037-4d72-a6bd-08b1d5c1b42c",
        "colab": {
          "base_uri": "https://localhost:8080/"
        }
      },
      "source": [
        "%%time\n",
        "\n",
        "histories = hyperparameter_search(train_fn, learning_rate=[0.0002, 0.0005, 0.002, 0.006], \n",
        "                                  regularization_penalty=[0.], regularization_method=[None], \n",
        "                                  self_scaling_epochs=[0], layer_sizes=[[28, 28, 28, 28, 47]])"
      ],
      "execution_count": 13,
      "outputs": [
        {
          "output_type": "stream",
          "name": "stdout",
          "text": [
            "Run with parameters (0.0002, 0.0, None, 0, [28, 28, 28, 28, 47]) completed, best_val_accuracy: 0.9925, final_hidden_layer sizes: [28, 28, 28, 28, 47]\n",
            "Run with parameters (0.0005, 0.0, None, 0, [28, 28, 28, 28, 47]) completed, best_val_accuracy: 0.992, final_hidden_layer sizes: [28, 28, 28, 28, 47]\n",
            "Run with parameters (0.002, 0.0, None, 0, [28, 28, 28, 28, 47]) completed, best_val_accuracy: 0.9914, final_hidden_layer sizes: [28, 28, 28, 28, 47]\n",
            "Run with parameters (0.006, 0.0, None, 0, [28, 28, 28, 28, 47]) completed, best_val_accuracy: 0.9812, final_hidden_layer sizes: [28, 28, 28, 28, 47]\n",
            "Best overall combination: (0.0002, 0.0, None, 0, [28, 28, 28, 28, 47]), val_accuracy: 0.9925\n",
            "CPU times: user 15min 18s, sys: 13.3 s, total: 15min 32s\n",
            "Wall time: 15min 6s\n"
          ]
        }
      ]
    },
    {
      "cell_type": "code",
      "metadata": {
        "id": "1wPYFHGa33w-",
        "outputId": "0c7fb61a-d6fa-48e0-9d39-96dd35eaf57a",
        "colab": {
          "base_uri": "https://localhost:8080/"
        }
      },
      "source": [
        "%%time\n",
        "\n",
        "histories = cross_validate(train_fn, X_norm, y, n_splits=6, learning_rate=0.0002,\n",
        "                           regularization_penalty=0., regularization_method=None,\n",
        "                           self_scaling_epochs=0, layer_sizes=[28, 28, 28, 28, 47])"
      ],
      "execution_count": 14,
      "outputs": [
        {
          "output_type": "stream",
          "name": "stdout",
          "text": [
            "Run 0 completed, best_val_accuracy: 0.9925, final_hidden_layer sizes: [28, 28, 28, 28, 47]\n",
            "Run 1 completed, best_val_accuracy: 0.9929, final_hidden_layer sizes: [28, 28, 28, 28, 47]\n",
            "Run 2 completed, best_val_accuracy: 0.9921, final_hidden_layer sizes: [28, 28, 28, 28, 47]\n",
            "Run 3 completed, best_val_accuracy: 0.9928, final_hidden_layer sizes: [28, 28, 28, 28, 47]\n",
            "Run 4 completed, best_val_accuracy: 0.9928, final_hidden_layer sizes: [28, 28, 28, 28, 47]\n",
            "Run 5 completed, best_val_accuracy: 0.9925, final_hidden_layer sizes: [28, 28, 28, 28, 47]\n",
            "mean_best_val_accuracy: 0.9925999999999999\n",
            "mean_final_hidden_layer_sizes: [28.0, 28.0, 28.0, 28.0, 47.0]\n",
            "CPU times: user 23min 4s, sys: 20.3 s, total: 23min 24s\n",
            "Wall time: 22min 46s\n"
          ]
        }
      ]
    },
    {
      "cell_type": "markdown",
      "metadata": {
        "id": "dzMHztGzKpNG"
      },
      "source": [
        "## CIFAR100"
      ]
    },
    {
      "cell_type": "code",
      "metadata": {
        "id": "F4R2FQ1B76Or"
      },
      "source": [
        "cifar100 = tf.keras.datasets.cifar100\n",
        "(X_train, y_train), (X_test, y_test) = cifar100.load_data()\n",
        "\n",
        "X_train = X_train.astype(dtype) / 255.0\n",
        "y_train = y_train.astype(dtype)\n",
        "X_test = X_test.astype(dtype)  / 255.0\n",
        "y_test = y_test.astype(dtype)\n",
        "\n",
        "X_train = np.reshape(X_train, (-1, 3072))\n",
        "X_test = np.reshape(X_test, (-1, 3072))\n",
        "\n",
        "X = np.concatenate((X_train, X_test), axis=0)\n",
        "y = np.concatenate((y_train, y_test), axis=0)\n",
        "\n",
        "from sklearn.preprocessing import StandardScaler\n",
        "\n",
        "scaler = StandardScaler()\n",
        "scaler.fit(X_train)  # Scaling each feature independently\n",
        "\n",
        "X_norm = scaler.transform(X)\n",
        "X_train_norm = scaler.transform(X_train)\n",
        "X_test_norm = scaler.transform(X_test)\n",
        "\n",
        "X_norm = np.reshape(X_norm, (-1, 32, 32, 3))\n",
        "X_train_norm = np.reshape(X_train_norm, (-1, 32, 32, 3))\n",
        "X_test_norm = np.reshape(X_test_norm, (-1, 32, 32, 3))"
      ],
      "execution_count": 43,
      "outputs": []
    },
    {
      "cell_type": "code",
      "metadata": {
        "id": "9DpYmnqKKyb5",
        "outputId": "c7f7806e-4b69-4983-87fc-f47e97afbe23",
        "colab": {
          "base_uri": "https://localhost:8080/"
        }
      },
      "source": [
        "%%time\n",
        "\n",
        "histories = hyperparameter_search(train_fn, learning_rate=[0.00005, 0.0002, 0.0006], \n",
        "                                  regularization_penalty=[0.00002], regularization_method=['weighted_l1'], \n",
        "                                  self_scaling_epochs=[20], layer_sizes=[[100, 100, 100, 100, 100]], output_neurons=[100])"
      ],
      "execution_count": 53,
      "outputs": [
        {
          "output_type": "stream",
          "name": "stdout",
          "text": [
            "Run with parameters (5e-05, 2e-05, 'weighted_l1', 20, [100, 100, 100, 100, 100], 100) completed, best_val_accuracy: 0.4097, final_hidden_layer sizes: [100, 40, 48, 48, 100]\n",
            "Run with parameters (0.0002, 2e-05, 'weighted_l1', 20, [100, 100, 100, 100, 100], 100) completed, best_val_accuracy: 0.451, final_hidden_layer sizes: [69, 21, 33, 67, 193]\n",
            "Run with parameters (0.0006, 2e-05, 'weighted_l1', 20, [100, 100, 100, 100, 100], 100) completed, best_val_accuracy: 0.4063, final_hidden_layer sizes: [52, 21, 100, 124, 808]\n",
            "Best overall combination: (0.0002, 2e-05, 'weighted_l1', 20, [100, 100, 100, 100, 100], 100), val_accuracy: 0.451\n",
            "CPU times: user 18min 25s, sys: 19.1 s, total: 18min 45s\n",
            "Wall time: 20min 34s\n"
          ]
        }
      ]
    },
    {
      "cell_type": "code",
      "metadata": {
        "id": "DuXxNaoFK9aw",
        "outputId": "fb62749c-0f12-475c-c02b-862fc8fb45c7",
        "colab": {
          "base_uri": "https://localhost:8080/"
        }
      },
      "source": [
        "%%time\n",
        "\n",
        "histories = cross_validate(train_fn, X_norm, y, n_splits=6, learning_rate=0.0002,\n",
        "                           regularization_penalty=0.00002, regularization_method='weighted_l1',\n",
        "                           self_scaling_epochs=20, layer_sizes=[100, 100, 100, 100, 100], output_neurons=100)"
      ],
      "execution_count": 55,
      "outputs": [
        {
          "output_type": "stream",
          "name": "stdout",
          "text": [
            "Run 0 completed, best_val_accuracy: 0.4509, final_hidden_layer sizes: [65, 22, 30, 68, 200]\n",
            "Run 1 completed, best_val_accuracy: 0.4497, final_hidden_layer sizes: [63, 24, 31, 69, 206]\n",
            "Run 2 completed, best_val_accuracy: 0.4431, final_hidden_layer sizes: [63, 23, 28, 81, 189]\n",
            "Run 3 completed, best_val_accuracy: 0.4468, final_hidden_layer sizes: [65, 27, 32, 70, 206]\n",
            "Run 4 completed, best_val_accuracy: 0.459, final_hidden_layer sizes: [68, 19, 30, 69, 200]\n",
            "Run 5 completed, best_val_accuracy: 0.4536, final_hidden_layer sizes: [65, 24, 25, 75, 204]\n",
            "mean_best_val_accuracy: 0.4505166666666667\n",
            "mean_final_hidden_layer_sizes: [64.83333333333333, 23.166666666666668, 29.333333333333332, 72.0, 200.83333333333334]\n",
            "CPU times: user 36min 16s, sys: 35.5 s, total: 36min 52s\n",
            "Wall time: 39min 4s\n"
          ]
        }
      ]
    },
    {
      "cell_type": "code",
      "metadata": {
        "id": "LRSh3YumfHYE",
        "outputId": "c53b344f-79db-44ba-c23a-20c942c92381",
        "colab": {
          "base_uri": "https://localhost:8080/"
        }
      },
      "source": [
        "%%time\n",
        "\n",
        "histories = hyperparameter_search(train_fn, learning_rate=[0.0002, 0.0005, 0.002, 0.006], \n",
        "                                  regularization_penalty=[0.], regularization_method=[None], \n",
        "                                  self_scaling_epochs=[0], layer_sizes=[[65, 23, 29, 72, 201]], output_neurons=[100])"
      ],
      "execution_count": 56,
      "outputs": [
        {
          "output_type": "stream",
          "name": "stdout",
          "text": [
            "Run with parameters (0.0002, 0.0, None, 0, [65, 23, 29, 72, 201], 100) completed, best_val_accuracy: 0.3203, final_hidden_layer sizes: [65, 23, 29, 72, 201]\n",
            "Run with parameters (0.0005, 0.0, None, 0, [65, 23, 29, 72, 201], 100) completed, best_val_accuracy: 0.3173, final_hidden_layer sizes: [65, 23, 29, 72, 201]\n",
            "Run with parameters (0.002, 0.0, None, 0, [65, 23, 29, 72, 201], 100) completed, best_val_accuracy: 0.2612, final_hidden_layer sizes: [65, 23, 29, 72, 201]\n",
            "Run with parameters (0.006, 0.0, None, 0, [65, 23, 29, 72, 201], 100) completed, best_val_accuracy: 0.01, final_hidden_layer sizes: [65, 23, 29, 72, 201]\n",
            "Best overall combination: (0.0002, 0.0, None, 0, [65, 23, 29, 72, 201], 100), val_accuracy: 0.3203\n",
            "CPU times: user 15min 45s, sys: 28.4 s, total: 16min 13s\n",
            "Wall time: 15min 36s\n"
          ]
        }
      ]
    },
    {
      "cell_type": "code",
      "metadata": {
        "id": "rRxerfK3ofRC",
        "outputId": "799ecfb2-a08b-434e-9432-2ed0858d0e09",
        "colab": {
          "base_uri": "https://localhost:8080/"
        }
      },
      "source": [
        "%%time\n",
        "\n",
        "histories = hyperparameter_search(train_fn, learning_rate=[0.00005], \n",
        "                                  regularization_penalty=[0.], regularization_method=[None], \n",
        "                                  self_scaling_epochs=[0], layer_sizes=[[65, 23, 29, 72, 201]], output_neurons=[100])"
      ],
      "execution_count": 60,
      "outputs": [
        {
          "output_type": "stream",
          "name": "stdout",
          "text": [
            "Run with parameters (5e-05, 0.0, None, 0, [65, 23, 29, 72, 201], 100) completed, best_val_accuracy: 0.3112, final_hidden_layer sizes: [65, 23, 29, 72, 201]\n",
            "Best overall combination: (5e-05, 0.0, None, 0, [65, 23, 29, 72, 201], 100), val_accuracy: 0.3112\n",
            "CPU times: user 3min 54s, sys: 6.71 s, total: 4min 1s\n",
            "Wall time: 3min 52s\n"
          ]
        }
      ]
    },
    {
      "cell_type": "code",
      "metadata": {
        "id": "JTMd5Wy9sHz5",
        "outputId": "e1311cc5-86b2-43d7-b433-5b8c899cbb8b",
        "colab": {
          "base_uri": "https://localhost:8080/"
        }
      },
      "source": [
        "%%time\n",
        "\n",
        "histories = cross_validate(train_fn, X_norm, y, n_splits=6, learning_rate=0.0002,\n",
        "                           regularization_penalty=0., regularization_method=None,\n",
        "                           self_scaling_epochs=0, layer_sizes=[65, 23, 29, 72, 201], output_neurons=100)"
      ],
      "execution_count": 62,
      "outputs": [
        {
          "output_type": "stream",
          "name": "stdout",
          "text": [
            "Run 0 completed, best_val_accuracy: 0.3274, final_hidden_layer sizes: [65, 23, 29, 72, 201]\n",
            "Run 1 completed, best_val_accuracy: 0.3229, final_hidden_layer sizes: [65, 23, 29, 72, 201]\n",
            "Run 2 completed, best_val_accuracy: 0.3256, final_hidden_layer sizes: [65, 23, 29, 72, 201]\n",
            "Run 3 completed, best_val_accuracy: 0.3191, final_hidden_layer sizes: [65, 23, 29, 72, 201]\n",
            "Run 4 completed, best_val_accuracy: 0.3226, final_hidden_layer sizes: [65, 23, 29, 72, 201]\n",
            "Run 5 completed, best_val_accuracy: 0.3247, final_hidden_layer sizes: [65, 23, 29, 72, 201]\n",
            "mean_best_val_accuracy: 0.3237166666666667\n",
            "mean_final_hidden_layer_sizes: [65.0, 23.0, 29.0, 72.0, 201.0]\n",
            "CPU times: user 23min 32s, sys: 21.1 s, total: 23min 53s\n",
            "Wall time: 22min 57s\n"
          ]
        }
      ]
    },
    {
      "cell_type": "code",
      "metadata": {
        "id": "upqkEH-Sv4YX",
        "outputId": "ec28ccd0-e5d6-4bac-e366-03566834cf76",
        "colab": {
          "base_uri": "https://localhost:8080/"
        }
      },
      "source": [
        "model = get_convolutional_model(regularization_penalty=0., regularization_method=None, layer_sizes=[65, 23, 29, 72, 201], output_neurons=100)\n",
        "model.build(X_norm.shape)\n",
        "model.summary()"
      ],
      "execution_count": 63,
      "outputs": [
        {
          "output_type": "stream",
          "name": "stdout",
          "text": [
            "Model: \"sequential_51\"\n",
            "_________________________________________________________________\n",
            "Layer (type)                 Output Shape              Param #   \n",
            "=================================================================\n",
            "conv2d_204 (Conv2D)          multiple                  1820      \n",
            "_________________________________________________________________\n",
            "conv2d_205 (Conv2D)          multiple                  13478     \n",
            "_________________________________________________________________\n",
            "dropout_102 (Dropout)        multiple                  0         \n",
            "_________________________________________________________________\n",
            "conv2d_206 (Conv2D)          multiple                  6032      \n",
            "_________________________________________________________________\n",
            "conv2d_207 (Conv2D)          multiple                  18864     \n",
            "_________________________________________________________________\n",
            "dropout_103 (Dropout)        multiple                  0         \n",
            "_________________________________________________________________\n",
            "flatten_51 (Flatten)         multiple                  0         \n",
            "_________________________________________________________________\n",
            "dense_102 (Dense)            multiple                  926409    \n",
            "_________________________________________________________________\n",
            "dense_103 (Dense)            multiple                  20200     \n",
            "=================================================================\n",
            "Total params: 986,803\n",
            "Trainable params: 986,803\n",
            "Non-trainable params: 0\n",
            "_________________________________________________________________\n"
          ]
        }
      ]
    },
    {
      "cell_type": "code",
      "metadata": {
        "id": "MQz5qYC03Qe2",
        "outputId": "428e3de1-3fbb-4ecf-b2ab-9e63dc99128d",
        "colab": {
          "base_uri": "https://localhost:8080/"
        }
      },
      "source": [
        "model = get_convolutional_model(regularization_penalty=0., regularization_method=None, layer_sizes=[66, 66, 66, 66, 201], output_neurons=100)\n",
        "model.build(X_norm.shape)\n",
        "model.summary()"
      ],
      "execution_count": 68,
      "outputs": [
        {
          "output_type": "stream",
          "name": "stdout",
          "text": [
            "Model: \"sequential_65\"\n",
            "_________________________________________________________________\n",
            "Layer (type)                 Output Shape              Param #   \n",
            "=================================================================\n",
            "conv2d_260 (Conv2D)          multiple                  1848      \n",
            "_________________________________________________________________\n",
            "conv2d_261 (Conv2D)          multiple                  39270     \n",
            "_________________________________________________________________\n",
            "dropout_130 (Dropout)        multiple                  0         \n",
            "_________________________________________________________________\n",
            "conv2d_262 (Conv2D)          multiple                  39270     \n",
            "_________________________________________________________________\n",
            "conv2d_263 (Conv2D)          multiple                  39270     \n",
            "_________________________________________________________________\n",
            "dropout_131 (Dropout)        multiple                  0         \n",
            "_________________________________________________________________\n",
            "flatten_65 (Flatten)         multiple                  0         \n",
            "_________________________________________________________________\n",
            "dense_130 (Dense)            multiple                  849225    \n",
            "_________________________________________________________________\n",
            "dense_131 (Dense)            multiple                  20200     \n",
            "=================================================================\n",
            "Total params: 989,083\n",
            "Trainable params: 989,083\n",
            "Non-trainable params: 0\n",
            "_________________________________________________________________\n"
          ]
        }
      ]
    },
    {
      "cell_type": "code",
      "metadata": {
        "id": "zX3oQ5_s3Yfj",
        "outputId": "3aa7e7a8-7db8-49aa-c1f1-c934060149e2",
        "colab": {
          "base_uri": "https://localhost:8080/"
        }
      },
      "source": [
        "%%time\n",
        "\n",
        "histories = hyperparameter_search(train_fn, learning_rate=[0.00005, 0.0002, 0.0005, 0.002, 0.006], \n",
        "                                  regularization_penalty=[0.], regularization_method=[None], \n",
        "                                  self_scaling_epochs=[0], layer_sizes=[[66, 66, 66, 66, 201]], output_neurons=[100])"
      ],
      "execution_count": 66,
      "outputs": [
        {
          "output_type": "stream",
          "name": "stdout",
          "text": [
            "Run with parameters (5e-05, 0.0, None, 0, [66, 66, 66, 66, 201], 100) completed, best_val_accuracy: 0.3275, final_hidden_layer sizes: [66, 66, 66, 66, 201]\n",
            "Run with parameters (0.0002, 0.0, None, 0, [66, 66, 66, 66, 201], 100) completed, best_val_accuracy: 0.3547, final_hidden_layer sizes: [66, 66, 66, 66, 201]\n",
            "Run with parameters (0.0005, 0.0, None, 0, [66, 66, 66, 66, 201], 100) completed, best_val_accuracy: 0.3479, final_hidden_layer sizes: [66, 66, 66, 66, 201]\n",
            "Run with parameters (0.002, 0.0, None, 0, [66, 66, 66, 66, 201], 100) completed, best_val_accuracy: 0.3233, final_hidden_layer sizes: [66, 66, 66, 66, 201]\n",
            "Run with parameters (0.006, 0.0, None, 0, [66, 66, 66, 66, 201], 100) completed, best_val_accuracy: 0.01, final_hidden_layer sizes: [66, 66, 66, 66, 201]\n",
            "Best overall combination: (0.0002, 0.0, None, 0, [66, 66, 66, 66, 201], 100), val_accuracy: 0.3547\n",
            "CPU times: user 20min 10s, sys: 20.7 s, total: 20min 31s\n",
            "Wall time: 21min 51s\n"
          ]
        }
      ]
    },
    {
      "cell_type": "code",
      "metadata": {
        "id": "yx3V6b2v3kfV",
        "outputId": "4eef8045-8d7e-466d-97e4-41d24cdbdb19",
        "colab": {
          "base_uri": "https://localhost:8080/"
        }
      },
      "source": [
        "%%time\n",
        "\n",
        "histories = cross_validate(train_fn, X_norm, y, n_splits=6, learning_rate=0.0002,\n",
        "                           regularization_penalty=0., regularization_method=None,\n",
        "                           self_scaling_epochs=0, layer_sizes=[66, 66, 66, 66, 201], output_neurons=100)"
      ],
      "execution_count": 67,
      "outputs": [
        {
          "output_type": "stream",
          "name": "stdout",
          "text": [
            "Run 0 completed, best_val_accuracy: 0.349, final_hidden_layer sizes: [66, 66, 66, 66, 201]\n",
            "Run 1 completed, best_val_accuracy: 0.372, final_hidden_layer sizes: [66, 66, 66, 66, 201]\n",
            "Run 2 completed, best_val_accuracy: 0.3374, final_hidden_layer sizes: [66, 66, 66, 66, 201]\n",
            "Run 3 completed, best_val_accuracy: 0.3614, final_hidden_layer sizes: [66, 66, 66, 66, 201]\n",
            "Run 4 completed, best_val_accuracy: 0.3378, final_hidden_layer sizes: [66, 66, 66, 66, 201]\n",
            "Run 5 completed, best_val_accuracy: 0.3616, final_hidden_layer sizes: [66, 66, 66, 66, 201]\n",
            "mean_best_val_accuracy: 0.3532\n",
            "mean_final_hidden_layer_sizes: [66.0, 66.0, 66.0, 66.0, 201.0]\n",
            "CPU times: user 24min 12s, sys: 24.8 s, total: 24min 37s\n",
            "Wall time: 26min 13s\n"
          ]
        }
      ]
    },
    {
      "cell_type": "code",
      "metadata": {
        "id": "3-X11Iv29spy"
      },
      "source": [
        ""
      ],
      "execution_count": null,
      "outputs": []
    }
  ]
}