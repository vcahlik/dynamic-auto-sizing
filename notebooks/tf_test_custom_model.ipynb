{
 "cells": [
  {
   "cell_type": "code",
   "execution_count": 1,
   "metadata": {},
   "outputs": [],
   "source": [
    "import tensorflow as tf\n",
    "import numpy as np"
   ]
  },
  {
   "cell_type": "code",
   "execution_count": 112,
   "metadata": {},
   "outputs": [],
   "source": [
    "mnist = tf.keras.datasets.mnist\n",
    "(X_train, y_train), (X_test, y_test) = mnist.load_data()\n",
    "\n",
    "X_train = X_train.astype('float32') / 255.0\n",
    "y_train = y_train.astype('float32')\n",
    "X_test = X_test.astype('float32')  / 255.0\n",
    "y_test = y_test.astype('float32')\n",
    "\n",
    "X_train = np.reshape(X_train, (-1, 784))\n",
    "X_test = np.reshape(X_test, (-1, 784))"
   ]
  },
  {
   "cell_type": "code",
   "execution_count": 169,
   "metadata": {},
   "outputs": [],
   "source": [
    "class SSRegularizer(tf.keras.regularizers.Regularizer):\n",
    "    def __init__(self, l1):\n",
    "        self.l1 = l1\n",
    "\n",
    "    def __call__(self, x):\n",
    "        scaling_matrix = tf.cumsum(tf.constant(self.l1, shape=x.shape), axis=1) - self.l1\n",
    "        return self.l1 * tf.reduce_sum(tf.multiply(scaling_matrix, tf.abs(x)))\n",
    "\n",
    "    def get_config(self):\n",
    "        return {'l1': float(self.l1)}\n",
    "\n",
    "\n",
    "class SSModel(tf.keras.Model):\n",
    "    def __init__(self, units, activation=None, kernel_initializer='glorot_uniform', bias_initializer='zeros'):\n",
    "        super().__init__()\n",
    "        self.units = units\n",
    "        self.activation1 = tf.keras.activations.get(activation)\n",
    "        self.activation2 = tf.keras.activations.get('softmax')\n",
    "        self.kernel_initializer = tf.keras.initializers.get(kernel_initializer)\n",
    "        self.bias_initializer = tf.keras.initializers.get(bias_initializer)\n",
    "        self.kernel_regularizer = SSRegularizer(0.01)\n",
    "        \n",
    "        self.W1 = tf.Variable(\n",
    "            name='W1',\n",
    "            initial_value=self.kernel_initializer(shape=(784, self.units), dtype='float32'),\n",
    "            trainable=True)\n",
    "        \n",
    "        self.b1 = tf.Variable(\n",
    "            name='b1',\n",
    "            initial_value=self.bias_initializer(shape=(self.units,), dtype='float32'),\n",
    "            trainable=True)\n",
    "        \n",
    "        self.W2 = tf.Variable(\n",
    "            name='W2',\n",
    "            initial_value=self.kernel_initializer(shape=(self.units, 10), dtype='float32'),\n",
    "            trainable=True)\n",
    "        \n",
    "        self.b2 = tf.Variable(\n",
    "            name='b2',\n",
    "            initial_value=self.bias_initializer(shape=(10,), dtype='float32'),\n",
    "            trainable=True)\n",
    "        \n",
    "        self.add_loss(lambda: self.kernel_regularizer(self.W1))\n",
    "        self.add_loss(lambda: self.kernel_regularizer(self.W2))\n",
    "\n",
    "    def call(self, inputs):\n",
    "        A1 = self.activation1(tf.matmul(inputs, self.W1) + self.b1)\n",
    "        A2 = self.activation2(tf.matmul(A1, self.W2) + self.b2)\n",
    "\n",
    "        return A2"
   ]
  },
  {
   "cell_type": "code",
   "execution_count": 172,
   "metadata": {},
   "outputs": [
    {
     "name": "stdout",
     "output_type": "stream",
     "text": [
      "Epoch 1/5\n",
      "loss: 0.5553401112556458 - accuracy: 0.8698999881744385\n",
      "Epoch 2/5\n",
      "loss: 0.4396760165691376 - accuracy: 0.887583315372467\n",
      "Epoch 3/5\n",
      "loss: 0.3905361592769623 - accuracy: 0.8967666625976562\n",
      "Epoch 4/5\n",
      "loss: 0.36550816893577576 - accuracy: 0.9010166525840759\n",
      "Epoch 5/5\n",
      "loss: 0.3454333245754242 - accuracy: 0.9063000082969666\n"
     ]
    }
   ],
   "source": [
    "epochs = 5\n",
    "batch_size = 32\n",
    "\n",
    "train_dataset = tf.data.Dataset.from_tensor_slices((X_train, y_train))\n",
    "train_dataset = train_dataset.shuffle(buffer_size=1024).batch(batch_size)\n",
    "\n",
    "model = SSModel(units=100, activation='relu')\n",
    "optimizer = tf.keras.optimizers.SGD(learning_rate=0.01)\n",
    "\n",
    "for epoch in range(epochs):\n",
    "    print(f\"Epoch {epoch + 1}/{epochs}\")\n",
    "\n",
    "    for step, (x_batch, y_batch) in enumerate(train_dataset):\n",
    "        with tf.GradientTape() as tape:\n",
    "            y_pred = model(x_batch, training=True)\n",
    "            loss_value = tf.reduce_mean(tf.keras.losses.sparse_categorical_crossentropy(y_batch, y_pred))\n",
    "            loss_value += sum(model.losses)\n",
    "            \n",
    "        grads = tape.gradient(loss_value, model.trainable_variables)\n",
    "        optimizer.apply_gradients(zip(grads, model.trainable_variables))\n",
    "\n",
    "    y_pred = model(X_train)\n",
    "    loss_value = tf.reduce_mean(tf.keras.losses.sparse_categorical_crossentropy(y_train, y_pred))\n",
    "    accuracy = tf.reduce_mean(tf.keras.metrics.sparse_categorical_accuracy(y_train, y_pred))\n",
    "    print(f\"loss: {loss_value} - accuracy: {accuracy}\")"
   ]
  },
  {
   "cell_type": "code",
   "execution_count": 173,
   "metadata": {},
   "outputs": [
    {
     "data": {
      "text/plain": [
       "<tf.Variable 'W1:0' shape=(784, 100) dtype=float32, numpy=\n",
       "array([[-5.4783776e-02, -6.3836873e-02,  1.0264431e-02, ...,\n",
       "        -4.0428204e-05, -7.2806259e-05,  8.1714134e-05],\n",
       "       [-6.9456547e-04,  6.7252368e-02, -1.1140723e-06, ...,\n",
       "         3.2782016e-05,  9.2355651e-05,  7.1384347e-05],\n",
       "       [-6.0269188e-02,  4.8960105e-02,  3.8840002e-03, ...,\n",
       "        -9.4548159e-05,  2.2228342e-05, -3.6981524e-05],\n",
       "       ...,\n",
       "       [ 4.2940959e-02, -5.4830378e-03,  9.2584165e-03, ...,\n",
       "        -5.9602287e-05,  4.2661559e-05,  7.4062365e-05],\n",
       "       [ 2.9998869e-02,  4.8098937e-02,  4.8972670e-02, ...,\n",
       "         8.4394094e-05, -1.0140822e-05, -4.1611347e-06],\n",
       "       [-6.9319934e-02,  3.8508490e-02, -6.0509924e-02, ...,\n",
       "         8.4811531e-05, -1.3004523e-05, -2.8084971e-05]], dtype=float32)>"
      ]
     },
     "execution_count": 173,
     "metadata": {},
     "output_type": "execute_result"
    }
   ],
   "source": [
    "model.W1"
   ]
  },
  {
   "cell_type": "code",
   "execution_count": 174,
   "metadata": {},
   "outputs": [
    {
     "data": {
      "text/plain": [
       "array([3.56070369e-01, 2.10372388e-01, 1.42277285e-01, 2.13853776e-01,\n",
       "       1.56535193e-01, 3.27035159e-01, 1.62230641e-01, 1.62828580e-01,\n",
       "       2.18302608e-01, 2.21107543e-01, 1.79352477e-01, 7.54457340e-02,\n",
       "       2.88171005e-02, 1.92572489e-01, 1.70845777e-01, 7.25833774e-02,\n",
       "       1.62880704e-01, 7.63008967e-02, 2.06182316e-01, 2.30065927e-01,\n",
       "       1.35879621e-01, 1.77269727e-01, 2.19682970e-05, 9.94047672e-02,\n",
       "       1.09607264e-01, 2.18581870e-01, 1.30011663e-01, 1.01828218e-01,\n",
       "       1.75623310e-04, 2.88958490e-05, 3.18506323e-02, 1.03400074e-01,\n",
       "       7.54134890e-05, 4.14117537e-02, 1.42391858e-04, 3.49181719e-05,\n",
       "       2.54248567e-02, 3.69264380e-05, 1.17008691e-04, 3.89895322e-05,\n",
       "       3.99304699e-05, 1.80518359e-01, 6.69397786e-02, 3.06429894e-04,\n",
       "       2.59649532e-04, 1.67136692e-04, 9.36674696e-05, 8.62652669e-05,\n",
       "       4.79294613e-05, 4.88564219e-05, 3.22741078e-04, 5.08092198e-05,\n",
       "       1.59270858e-04, 2.32335587e-04, 1.78564136e-04, 5.44189425e-05,\n",
       "       5.58323991e-05, 5.69969525e-05, 3.44778091e-04, 1.56806898e-04,\n",
       "       3.34356155e-04, 1.63202640e-04, 6.78139186e-05, 6.28495618e-05,\n",
       "       1.62847064e-04, 6.49466820e-05, 7.76288580e-05, 6.68400753e-05,\n",
       "       9.38448648e-05, 1.73584922e-04, 6.99500015e-05, 2.50064273e-04,\n",
       "       1.45068887e-04, 7.29302847e-05, 7.38899907e-05, 7.47558588e-05,\n",
       "       2.55322637e-04, 7.69058679e-05, 7.76385423e-05, 7.89186888e-05,\n",
       "       1.00609985e-04, 2.05981443e-04, 1.49494255e-04, 8.26804317e-05,\n",
       "       1.42132732e-04, 8.45338509e-05, 9.40418831e-05, 8.69138821e-05,\n",
       "       9.20488965e-05, 1.38038245e-04, 1.26401341e-04, 9.01533786e-05,\n",
       "       1.03157676e-04, 9.09275404e-05, 9.39280362e-05, 9.44640706e-05,\n",
       "       9.57469892e-05, 1.69847830e-04, 1.44398349e-04, 1.76571455e-04],\n",
       "      dtype=float32)"
      ]
     },
     "execution_count": 174,
     "metadata": {},
     "output_type": "execute_result"
    }
   ],
   "source": [
    "np.amax(model.W1, 0)"
   ]
  },
  {
   "cell_type": "code",
   "execution_count": 119,
   "metadata": {},
   "outputs": [],
   "source": [
    "model = tf.keras.models.Sequential([\n",
    "    tf.keras.layers.Dense(100, activation='relu'),\n",
    "    tf.keras.layers.Dense(10, activation='softmax')\n",
    "])"
   ]
  },
  {
   "cell_type": "code",
   "execution_count": 120,
   "metadata": {},
   "outputs": [],
   "source": [
    "model.compile(loss='sparse_categorical_crossentropy', optimizer=tf.keras.optimizers.SGD(learning_rate=0.01), metrics=['accuracy'])"
   ]
  },
  {
   "cell_type": "code",
   "execution_count": 121,
   "metadata": {},
   "outputs": [
    {
     "name": "stdout",
     "output_type": "stream",
     "text": [
      "Epoch 1/10\n",
      "1875/1875 [==============================] - 2s 1ms/step - loss: 1.0424 - accuracy: 0.7244 - val_loss: 0.3615 - val_accuracy: 0.9038\n",
      "Epoch 2/10\n",
      "1875/1875 [==============================] - 2s 1ms/step - loss: 0.3588 - accuracy: 0.8997 - val_loss: 0.2952 - val_accuracy: 0.9192\n",
      "Epoch 3/10\n",
      "1875/1875 [==============================] - 2s 1ms/step - loss: 0.2979 - accuracy: 0.9152 - val_loss: 0.2641 - val_accuracy: 0.9264\n",
      "Epoch 4/10\n",
      "1875/1875 [==============================] - 2s 1ms/step - loss: 0.2667 - accuracy: 0.9234 - val_loss: 0.2392 - val_accuracy: 0.9338\n",
      "Epoch 5/10\n",
      "1875/1875 [==============================] - 2s 1ms/step - loss: 0.2428 - accuracy: 0.9319 - val_loss: 0.2224 - val_accuracy: 0.9371\n",
      "Epoch 6/10\n",
      "1875/1875 [==============================] - 2s 1ms/step - loss: 0.2237 - accuracy: 0.9374 - val_loss: 0.2080 - val_accuracy: 0.9408\n",
      "Epoch 7/10\n",
      "1875/1875 [==============================] - 2s 1ms/step - loss: 0.2061 - accuracy: 0.9421 - val_loss: 0.1947 - val_accuracy: 0.9443\n",
      "Epoch 8/10\n",
      "1875/1875 [==============================] - 2s 1ms/step - loss: 0.1940 - accuracy: 0.9443 - val_loss: 0.1843 - val_accuracy: 0.9467\n",
      "Epoch 9/10\n",
      "1875/1875 [==============================] - 2s 1ms/step - loss: 0.1822 - accuracy: 0.9488 - val_loss: 0.1763 - val_accuracy: 0.9476\n",
      "Epoch 10/10\n",
      "1875/1875 [==============================] - 2s 926us/step - loss: 0.1736 - accuracy: 0.9510 - val_loss: 0.1671 - val_accuracy: 0.9519\n"
     ]
    },
    {
     "data": {
      "text/plain": [
       "<tensorflow.python.keras.callbacks.History at 0x7fa3c2899880>"
      ]
     },
     "execution_count": 121,
     "metadata": {},
     "output_type": "execute_result"
    }
   ],
   "source": [
    "model.fit(X_train, y_train, epochs=10, validation_data=(X_test, y_test))"
   ]
  },
  {
   "cell_type": "code",
   "execution_count": null,
   "metadata": {},
   "outputs": [],
   "source": []
  }
 ],
 "metadata": {
  "kernelspec": {
   "display_name": "Python 3",
   "language": "python",
   "name": "python3"
  },
  "language_info": {
   "codemirror_mode": {
    "name": "ipython",
    "version": 3
   },
   "file_extension": ".py",
   "mimetype": "text/x-python",
   "name": "python",
   "nbconvert_exporter": "python",
   "pygments_lexer": "ipython3",
   "version": "3.8.8"
  }
 },
 "nbformat": 4,
 "nbformat_minor": 4
}
