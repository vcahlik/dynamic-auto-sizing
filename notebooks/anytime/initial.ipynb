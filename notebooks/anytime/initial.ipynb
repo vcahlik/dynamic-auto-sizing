{
 "cells": [
  {
   "cell_type": "code",
   "execution_count": 50,
   "metadata": {
    "colab": {
     "base_uri": "https://localhost:8080/"
    },
    "id": "f_deAUKlniFk",
    "outputId": "434f0bdd-1358-46dc-adc2-aee14230789c"
   },
   "outputs": [
    {
     "name": "stdout",
     "output_type": "stream",
     "text": [
      "Sun Mar 13 12:28:17 2022       \n",
      "+-----------------------------------------------------------------------------+\n",
      "| NVIDIA-SMI 495.29.05    Driver Version: 495.29.05    CUDA Version: 11.5     |\n",
      "|-------------------------------+----------------------+----------------------+\n",
      "| GPU  Name        Persistence-M| Bus-Id        Disp.A | Volatile Uncorr. ECC |\n",
      "| Fan  Temp  Perf  Pwr:Usage/Cap|         Memory-Usage | GPU-Util  Compute M. |\n",
      "|                               |                      |               MIG M. |\n",
      "|===============================+======================+======================|\n",
      "|   0  Tesla V100-PCIE...  On   | 00000000:01:01.0 Off |                    0 |\n",
      "| N/A   31C    P0    40W / 250W |  14566MiB / 32510MiB |     10%      Default |\n",
      "|                               |                      |                  N/A |\n",
      "+-------------------------------+----------------------+----------------------+\n",
      "|   1  Tesla V100-PCIE...  On   | 00000000:01:02.0 Off |                    0 |\n",
      "| N/A   31C    P0    35W / 250W |  31937MiB / 32510MiB |      0%      Default |\n",
      "|                               |                      |                  N/A |\n",
      "+-------------------------------+----------------------+----------------------+\n",
      "                                                                               \n",
      "+-----------------------------------------------------------------------------+\n",
      "| Processes:                                                                  |\n",
      "|  GPU   GI   CI        PID   Type   Process name                  GPU Memory |\n",
      "|        ID   ID                                                   Usage      |\n",
      "|=============================================================================|\n",
      "|    0   N/A  N/A      2534      G   /usr/lib/xorg/Xorg                  4MiB |\n",
      "|    0   N/A  N/A    601346      C   ...3/envs/jupyter/bin/python     3069MiB |\n",
      "|    0   N/A  N/A   1044380      C   ...3/envs/jupyter/bin/python     5895MiB |\n",
      "|    0   N/A  N/A   1226612      C   ...3/envs/jupyter/bin/python     4111MiB |\n",
      "|    0   N/A  N/A   2645362      C   ...oks/Tomas/venv/bin/python     1481MiB |\n",
      "|    1   N/A  N/A      2534      G   /usr/lib/xorg/Xorg                  4MiB |\n",
      "|    1   N/A  N/A   2776135      C   ...ng-nets/.venv/bin/python3    31929MiB |\n",
      "+-----------------------------------------------------------------------------+\n"
     ]
    }
   ],
   "source": [
    "gpu_info = !nvidia-smi\n",
    "gpu_info = '\\n'.join(gpu_info)\n",
    "if gpu_info.find('failed') >= 0:\n",
    "  print('Select the Runtime > \"Change runtime type\" menu to enable a GPU accelerator, ')\n",
    "  print('and then re-execute this cell.')\n",
    "else:\n",
    "  print(gpu_info)"
   ]
  },
  {
   "cell_type": "code",
   "execution_count": 2,
   "metadata": {
    "id": "yKwUwV_NneIo"
   },
   "outputs": [],
   "source": [
    "import os\n",
    "os.environ[\"CUDA_VISIBLE_DEVICES\"] = '1'\n",
    "import tensorflow as tf\n",
    "import tensorflow.keras.backend as K\n",
    "import numpy as np\n",
    "import matplotlib.pyplot as plt\n",
    "import pandas as pd\n",
    "import sklearn\n",
    "from enum import Enum\n",
    "import imageio\n",
    "import hashlib\n",
    "\n",
    "%matplotlib inline\n",
    "plt.style.use('seaborn-whitegrid')\n",
    "%config InlineBackend.figure_format='retina'\n",
    "\n",
    "dtype = 'float32'\n",
    "tf.keras.backend.set_floatx(dtype)"
   ]
  },
  {
   "cell_type": "code",
   "execution_count": 86,
   "metadata": {
    "id": "UTZq4KMpneIv"
   },
   "outputs": [],
   "source": [
    "################################################################################\n",
    "# DATASETS\n",
    "################################################################################\n",
    "\n",
    "\n",
    "class Dataset:\n",
    "    def __init__(self, X_train, y_train, X_test, y_test, shape, shape_flattened, vision=True, standardize=True):\n",
    "        X_train = X_train.astype(dtype)\n",
    "        y_train = y_train.astype(dtype)\n",
    "        X_test = X_test.astype(dtype)\n",
    "        y_test = y_test.astype(dtype)\n",
    "\n",
    "        if vision:\n",
    "            X_train = X_train / 255.0\n",
    "            X_test = X_test / 255.0\n",
    "\n",
    "        X_train = np.reshape(X_train, shape_flattened)\n",
    "        X_test = np.reshape(X_test, shape_flattened)\n",
    "\n",
    "        X = np.concatenate((X_train, X_test), axis=0)\n",
    "        y = np.concatenate((y_train, y_test), axis=0)\n",
    "\n",
    "        if standardize:\n",
    "            from sklearn.preprocessing import StandardScaler\n",
    "\n",
    "            scaler = StandardScaler()\n",
    "            scaler.fit(X_train)  # Scaling each feature independently\n",
    "\n",
    "            X_norm = scaler.transform(X)\n",
    "            X_train_norm = scaler.transform(X_train)\n",
    "            X_test_norm = scaler.transform(X_test)\n",
    "        else:\n",
    "            X_norm = X.copy()\n",
    "            X_train_norm = X_train.copy()\n",
    "            X_test_norm = X_test.copy()\n",
    "\n",
    "        X_norm = np.reshape(X_norm, shape)\n",
    "        X_train_norm = np.reshape(X_train_norm, shape)\n",
    "        X_test_norm = np.reshape(X_test_norm, shape)\n",
    "\n",
    "        del X, X_train, X_test\n",
    "\n",
    "        self.X_norm = X_norm\n",
    "        self.y = y\n",
    "        self.X_train_norm = X_train_norm\n",
    "        self.y_train = y_train\n",
    "        self.X_test_norm = X_test_norm\n",
    "        self.y_test = y_test\n",
    "\n",
    "\n",
    "def get_cifar_10_dataset():\n",
    "    cifar10 = tf.keras.datasets.cifar10\n",
    "    (X_train, y_train), (X_test, y_test) = cifar10.load_data()\n",
    "    shape = (-1, 32, 32, 3)\n",
    "    shape_flattened = (-1, 3072)  # Scaling each feature independently\n",
    "    return Dataset(X_train, y_train, X_test, y_test, shape=shape, shape_flattened=shape_flattened)\n",
    "\n",
    "\n",
    "def get_cifar_100_dataset():\n",
    "    cifar100 = tf.keras.datasets.cifar100\n",
    "    (X_train, y_train), (X_test, y_test) = cifar100.load_data()\n",
    "    shape = (-1, 32, 32, 3)\n",
    "    shape_flattened = (-1, 3072)  # Scaling each feature independently\n",
    "    return Dataset(X_train, y_train, X_test, y_test, shape=shape, shape_flattened=shape_flattened)\n",
    "\n",
    "\n",
    "def get_svhn_dataset():\n",
    "    from urllib.request import urlretrieve\n",
    "    from scipy import io\n",
    "\n",
    "    train_filename, _ = urlretrieve('http://ufldl.stanford.edu/housenumbers/train_32x32.mat')\n",
    "    test_filename, _ = urlretrieve('http://ufldl.stanford.edu/housenumbers/test_32x32.mat')\n",
    "\n",
    "    X_train = io.loadmat(train_filename, variable_names='X').get('X')\n",
    "    y_train = io.loadmat(train_filename, variable_names='y').get('y')\n",
    "    X_test = io.loadmat(test_filename, variable_names='X').get('X')\n",
    "    y_test = io.loadmat(test_filename, variable_names='y').get('y')\n",
    "\n",
    "    X_train = np.moveaxis(X_train, -1, 0)\n",
    "    y_train -= 1\n",
    "    X_test = np.moveaxis(X_test, -1, 0)\n",
    "    y_test -= 1\n",
    "\n",
    "    shape = (-1, 32, 32, 3)\n",
    "    shape_flattened = (-1, 3072)  # Scaling each feature independently\n",
    "    return Dataset(X_train, y_train, X_test, y_test, shape=shape, shape_flattened=shape_flattened)\n",
    "\n",
    "\n",
    "def get_tiny_imagenet_dataset():\n",
    "    \"\"\"\n",
    "    Original source: https://github.com/sonugiri1043/Train_ResNet_On_Tiny_ImageNet/blob/master/Train_ResNet_On_Tiny_ImageNet.ipynb\n",
    "    Original author: sonugiri1043@gmail.com\n",
    "    \"\"\"\n",
    "\n",
    "    if not os.path.isdir('IMagenet'):\n",
    "        ! git clone https://github.com/seshuad/IMagenet\n",
    "\n",
    "    print(\"Processing the downloaded dataset...\")\n",
    "\n",
    "    path = 'IMagenet/tiny-imagenet-200/'\n",
    "\n",
    "    id_dict = {}\n",
    "    for i, line in enumerate(open(path + 'wnids.txt', 'r')):\n",
    "        id_dict[line.replace('\\n', '')] = i\n",
    "\n",
    "    train_data = list()\n",
    "    test_data = list()\n",
    "    train_labels = list()\n",
    "    test_labels = list()\n",
    "\n",
    "    for key, value in id_dict.items():\n",
    "        train_data += [imageio.imread(path + 'train/{}/images/{}_{}.JPEG'.format(key, key, str(i)), pilmode='RGB') for i in range(500)]\n",
    "        train_labels_ = np.array([[0]*200]*500)\n",
    "        train_labels_[:, value] = 1\n",
    "        train_labels += train_labels_.tolist()\n",
    "\n",
    "    for line in open(path + 'val/val_annotations.txt'):\n",
    "        img_name, class_id = line.split('\\t')[:2]\n",
    "        test_data.append(imageio.imread(path + 'val/images/{}'.format(img_name), pilmode='RGB'))\n",
    "        test_labels_ = np.array([[0]*200])\n",
    "        test_labels_[0, id_dict[class_id]] = 1\n",
    "        test_labels += test_labels_.tolist()\n",
    "\n",
    "    X_train = np.array(train_data)\n",
    "    y_train = np.argmax(np.array(train_labels), axis=1)\n",
    "    X_test = np.array(test_data)\n",
    "    y_test = np.argmax(np.array(test_labels), axis=1)\n",
    "\n",
    "    shape = (-1, 64, 64, 3)\n",
    "    shape_flattened = (-1, 12288)  # Scaling each feature independently\n",
    "    return Dataset(X_train, y_train, X_test, y_test, shape=shape, shape_flattened=shape_flattened)\n",
    "\n",
    "\n",
    "def get_mnist_dataset():\n",
    "    mnist = tf.keras.datasets.mnist\n",
    "    (X_train, y_train), (X_test, y_test) = mnist.load_data()\n",
    "    shape = (-1, 28, 28, 1)\n",
    "    shape_flattened = (-1, 1)  # Scaling all features together\n",
    "    return Dataset(X_train, y_train, X_test, y_test, shape=shape, shape_flattened=shape_flattened)\n",
    "\n",
    "\n",
    "def get_fashion_mnist_dataset():\n",
    "    fashion_mnist = tf.keras.datasets.fashion_mnist\n",
    "    (X_train, y_train), (X_test, y_test) = fashion_mnist.load_data()\n",
    "    shape = (-1, 28, 28, 1)\n",
    "    shape_flattened = (-1, 1)  # Scaling all features together\n",
    "    return Dataset(X_train, y_train, X_test, y_test, shape=shape, shape_flattened=shape_flattened)\n",
    "\n",
    "\n",
    "def get_fifteen_puzzle_dataset(frac, path=None):\n",
    "    from sklearn.model_selection import train_test_split\n",
    "\n",
    "    if path is None:\n",
    "        from google.colab import drive\n",
    "        drive.mount('/content/gdrive')\n",
    "        path = 'gdrive/MyDrive/15-costs-v3.csv'\n",
    "    costs = pd.read_csv(path)\n",
    "    costs = costs.sample(frac=frac, random_state=42)\n",
    "\n",
    "    X_raw = costs.iloc[:,:-1].values\n",
    "    y = costs['cost'].values\n",
    "    X = np.apply_along_axis(lambda x: np.eye(16)[x].ravel(), 1, X_raw)\n",
    "\n",
    "    X_train, X_test, y_train, y_test = train_test_split(X, y, test_size=0.2, random_state=42)\n",
    "    del X, X_raw, y\n",
    "\n",
    "    shape = (-1, 256)\n",
    "    shape_flattened = (-1, 256)  # Scaling all features together\n",
    "    return Dataset(X_train, y_train, X_test, y_test, shape=shape, shape_flattened=shape_flattened, vision=False)\n",
    "\n",
    "\n",
    "################################################################################\n",
    "# REGULARIZERS\n",
    "################################################################################\n",
    "\n",
    "\n",
    "class Regularizer(tf.keras.regularizers.Regularizer):\n",
    "    def __init__(self):\n",
    "        self.n_new_neurons = 0\n",
    "        self.scaling_tensor = None\n",
    "        self.set_regularization_penalty(0.)\n",
    "        self.set_regularization_method(None)\n",
    "\n",
    "    def __call__(self, x):\n",
    "        if self.regularization_method is None or self.regularization_penalty == 0:\n",
    "            return 0\n",
    "        elif self.regularization_method == 'weighted_l1':\n",
    "            return self.weighted_l1(x)\n",
    "        elif self.regularization_method == 'weighted_l1_reordered':\n",
    "            return self.weighted_l1_reordered(x)\n",
    "        elif self.regularization_method == 'group_sparsity':\n",
    "            return self.group_sparsity(x)\n",
    "        elif self.regularization_method == 'l1':\n",
    "            return self.l1(x)\n",
    "        else:\n",
    "            raise NotImplementedError(f\"Unknown regularization method {self.regularization_method}\")\n",
    "    \n",
    "    def weighted_l1(self, x):\n",
    "        # I.e. for a parameter matrix of 4 input and 10 output neurons:\n",
    "        #\n",
    "        # [[1., 1., 1., 1., 1., 1., 1., 1., 1., 1.],\n",
    "        #  [1., 1., 1., 1., 1., 1., 1., 1., 1., 1.],\n",
    "        #  [1., 1., 1., 1., 1., 1., 1., 1., 1., 1.],\n",
    "        #  [1., 1., 1., 1., 1., 1., 1., 1., 1., 1.]]\n",
    "        #\n",
    "        # the scaling tensor, as well as the resulting weighted values, could be:\n",
    "        #\n",
    "        # [[ 1.,  2.,  3.,  4.,  5.,  6.,  7.,  8.,  9., 10.],\n",
    "        #  [ 1.,  2.,  3.,  4.,  5.,  6.,  7.,  8.,  9., 10.],\n",
    "        #  [ 1.,  2.,  3.,  4.,  5.,  6.,  7.,  8.,  9., 10.],\n",
    "        #  [ 1.,  2.,  3.,  4.,  5.,  6.,  7.,  8.,  9., 10.]]\n",
    "        #\n",
    "        # Therefore every additional output neuron is regularized more.\n",
    "\n",
    "        scaling_tensor = tf.cumsum(tf.constant(self.regularization_penalty, shape=x.shape, dtype=dtype), axis=-1)\n",
    "        weighted_values = scaling_tensor * tf.abs(x)\n",
    "        return tf.reduce_sum(weighted_values)\n",
    "    \n",
    "    def weighted_l1_reordered(self, x):\n",
    "        # I.e. for a parameter matrix of 4 input and 10 output neurons:\n",
    "        #\n",
    "        # [[1., 1., 1., 1., 1., 1., 1., 1., 1., 1.],\n",
    "        #  [1., 1., 1., 1., 1., 1., 1., 1., 1., 1.],\n",
    "        #  [1., 1., 1., 1., 1., 1., 1., 1., 1., 1.],\n",
    "        #  [1., 1., 1., 1., 1., 1., 1., 1., 1., 1.]]\n",
    "        #\n",
    "        # the scaling tensor, as well as the resulting weighted values, could be:\n",
    "        #\n",
    "        # [[ 1.,  2.,  3.,  4.,  5.,  6.,  7.,  8.,  9., 10.],\n",
    "        #  [ 1.,  2.,  3.,  4.,  5.,  6.,  7.,  8.,  9., 10.],\n",
    "        #  [ 1.,  2.,  3.,  4.,  5.,  6.,  7.,  8.,  9., 10.],\n",
    "        #  [ 1.,  2.,  3.,  4.,  5.,  6.,  7.,  8.,  9., 10.]]\n",
    "        #\n",
    "        # Therefore every additional output neuron is regularized more.\n",
    "\n",
    "        if self.update_scaling_tensor:\n",
    "            scaling_tensor_raw = tf.cumsum(tf.constant(self.regularization_penalty, shape=x.shape, dtype=dtype), axis=-1)\n",
    "\n",
    "            scaling_tensor_old_neurons = scaling_tensor_raw[:, :-self.n_new_neurons]\n",
    "            scaling_tensor_new_neurons = scaling_tensor_raw[:, -self.n_new_neurons:]\n",
    "            scaling_tensor_old_neurons_shuffled = tf.transpose(tf.random.shuffle(tf.transpose(scaling_tensor_old_neurons)))\n",
    "            self.scaling_tensor = tf.concat([scaling_tensor_old_neurons_shuffled, scaling_tensor_new_neurons], axis=-1)\n",
    "            self.update_scaling_tensor = False\n",
    "\n",
    "        weighted_values = self.scaling_tensor * tf.abs(x)\n",
    "        return tf.reduce_sum(weighted_values)\n",
    "    \n",
    "    def group_sparsity(self, x):\n",
    "        # I.e. for a parameter matrix of 3 input and 5 output neurons:\n",
    "        #\n",
    "        # [[1., 1., 1., 1., 1.],\n",
    "        #  [1., 2., 2., 1., 2.],\n",
    "        #  [2., 2., 3., 1., 3.]]\n",
    "        #\n",
    "        # The resulting vector of group norms is [2., 2., 3., 1., 3.], therefore for\n",
    "        # every output neuron, its incoming connections form a group.\n",
    "\n",
    "        group_norms = tf.norm(x, ord=2, axis=0)\n",
    "        # assert group_norms.shape[0] == x.shape[1]\n",
    "        return self.regularization_penalty * tf.reduce_sum(group_norms)\n",
    "    \n",
    "    def l1(self, x):\n",
    "        weighted_values = self.regularization_penalty * tf.abs(x)\n",
    "        return tf.reduce_sum(weighted_values)\n",
    "    \n",
    "    def prune(self):\n",
    "        self.n_new_neurons = 0\n",
    "        if self.regularization_method == 'weighted_l1_reordered':\n",
    "            self.update_scaling_tensor = True\n",
    "    \n",
    "    def grow(self, n_new_neurons):\n",
    "        self.n_new_neurons = n_new_neurons\n",
    "        if self.regularization_method == 'weighted_l1_reordered':\n",
    "            self.update_scaling_tensor = True\n",
    "    \n",
    "    def set_regularization_penalty(self, regularization_penalty):\n",
    "        self.regularization_penalty = regularization_penalty\n",
    "    \n",
    "    def set_regularization_method(self, regularization_method):\n",
    "        self.regularization_method = regularization_method\n",
    "        if self.regularization_method == 'weighted_l1_reordered':\n",
    "            self.update_scaling_tensor = True\n",
    "        else:\n",
    "            self.update_scaling_tensor = None\n",
    "\n",
    "    def get_config(self):\n",
    "        return {'regularization_penalty': float(self.regularization_penalty)}\n",
    "\n",
    "\n",
    "################################################################################\n",
    "# LAYERS\n",
    "################################################################################\n",
    "\n",
    "\n",
    "class DASLayer(tf.keras.layers.Layer):\n",
    "    def __init__(self, input_shape):\n",
    "        super().__init__()\n",
    "\n",
    "        self.inpt_shp = input_shape\n",
    "\n",
    "\n",
    "class Dense(DASLayer):\n",
    "    def __init__(self, units, activation, kernel_initializer='glorot_uniform', \n",
    "                 bias_initializer='zeros', input_shape=None, fixed_size=False):\n",
    "        super().__init__(input_shape)\n",
    "\n",
    "        self.units = units\n",
    "        self.activation = activation\n",
    "        self.kernel_initializer = kernel_initializer\n",
    "        self.bias_initializer = bias_initializer\n",
    "        self.fixed_size = fixed_size\n",
    "        \n",
    "        self.A = tf.keras.activations.get(activation)\n",
    "        self.W_init = tf.keras.initializers.get(kernel_initializer)\n",
    "        self.b_init = tf.keras.initializers.get(bias_initializer)\n",
    "        self.regularizer = Regularizer()\n",
    "    \n",
    "    def build(self, input_shape):\n",
    "        input_units = input_shape[-1]\n",
    "\n",
    "        self.W = tf.Variable(\n",
    "            name='W',\n",
    "            initial_value=self.W_init(shape=(input_units, self.units), dtype=dtype),\n",
    "            trainable=True)\n",
    "        \n",
    "        self.b = tf.Variable(\n",
    "            name='b',\n",
    "            initial_value=self.b_init(shape=(self.units,), dtype=dtype),\n",
    "            trainable=True)\n",
    "        \n",
    "        self.add_loss(lambda: self.regularizer(tf.concat([self.W, tf.reshape(self.b, (1, -1))], axis=0)))\n",
    "    \n",
    "    def call(self, inputs, training=None):\n",
    "        return self.A(tf.matmul(inputs, self.W) + self.b)\n",
    "\n",
    "    def get_size(self):\n",
    "        return self.W.shape[0], self.W.shape[1]\n",
    "    \n",
    "    def prune(self, threshold, active_input_units_indices):\n",
    "        # Remove connections from pruned units in previous layer\n",
    "        new_W = tf.gather(self.W.value(), active_input_units_indices, axis=0)\n",
    "\n",
    "        if self.fixed_size:\n",
    "            active_output_neurons_indices = list(range(new_W.shape[1]))\n",
    "        else:\n",
    "            # Prune units in this layer\n",
    "            weights_with_biases = tf.concat([new_W, tf.reshape(self.b.value(), (1, -1))], axis=0)\n",
    "            neurons_are_active = tf.math.reduce_max(tf.abs(weights_with_biases), axis=0) >= threshold\n",
    "            active_output_neurons_indices = tf.reshape(tf.where(neurons_are_active), (-1,))\n",
    "            \n",
    "            new_W = tf.gather(new_W, active_output_neurons_indices, axis=1)\n",
    "            new_b = tf.gather(self.b.value(), active_output_neurons_indices, axis=0)\n",
    "\n",
    "            self.b = tf.Variable(name='b', initial_value=new_b, trainable=True)\n",
    "\n",
    "        self.W = tf.Variable(name='W', initial_value=new_W, trainable=True)\n",
    "\n",
    "        self.regularizer.prune()\n",
    "        return active_output_neurons_indices\n",
    "    \n",
    "    def grow(self, n_new_input_units, percentage, min_new_units, scaling_factor):\n",
    "        if n_new_input_units > 0:\n",
    "            # Add connections to grown units in previous layer\n",
    "            W_growth = self.W_init(shape=(self.W.shape[0] + n_new_input_units, self.W.shape[1]), dtype=dtype)[-n_new_input_units:, :] * scaling_factor  # TODO is it better to be multiplying here by scaling_factor? It does help with not increasing the max weights of existing neurons when new neurons are added.\n",
    "            new_W = tf.concat([self.W.value(), W_growth], axis=0)\n",
    "        else:\n",
    "            new_W = self.W.value()\n",
    "\n",
    "        if self.fixed_size:\n",
    "            n_new_output_units = 0\n",
    "        else:\n",
    "            # Grow new units in this layer\n",
    "            n_new_output_units = max(min_new_units, int(new_W.shape[1] * percentage))\n",
    "            if n_new_output_units > 0:\n",
    "                W_growth = self.W_init(shape=(new_W.shape[0], new_W.shape[1] + n_new_output_units), dtype=dtype)[:, -n_new_output_units:] * scaling_factor\n",
    "                b_growth = self.b_init(shape=(n_new_output_units,), dtype=dtype)  # TODO for all possible bias initializers to work properly, the whole bias vector should be initialized at once\n",
    "                new_W = tf.concat([new_W, W_growth], axis=1)\n",
    "                new_b = tf.concat([self.b.value(), b_growth], axis=0)\n",
    "\n",
    "                self.b = tf.Variable(name='b', initial_value=new_b, trainable=True)\n",
    "\n",
    "        self.W = tf.Variable(name='W', initial_value=new_W, trainable=True)\n",
    "\n",
    "        self.regularizer.grow(n_new_output_units)\n",
    "        return n_new_output_units\n",
    "    \n",
    "    def mutate(self, mutation_strength):\n",
    "        self.W.assign_add(tf.random.normal(self.W.shape, mean=0.0, stddev=mutation_strength))\n",
    "        self.b.assign_add(tf.random.normal(self.b.shape, mean=0.0, stddev=mutation_strength))\n",
    "    \n",
    "    def set_regularization_penalty(self, regularization_penalty):\n",
    "        if not self.fixed_size:\n",
    "            self.regularizer.set_regularization_penalty(regularization_penalty)\n",
    "    \n",
    "    def set_regularization_method(self, regularization_method):\n",
    "        if not self.fixed_size:\n",
    "            self.regularizer.set_regularization_method(regularization_method)\n",
    "    \n",
    "    def get_param_string():\n",
    "        param_string = \"\"\n",
    "        weights_with_bias = tf.concat([self.W, tf.reshape(self.b, (1, -1))], axis=0)\n",
    "        max_parameters = tf.math.reduce_max(tf.abs(weights_with_bias), axis=0).numpy()\n",
    "        magnitudes = np.floor(np.log10(max_parameters))\n",
    "        for m in magnitudes:\n",
    "            if m > 0:\n",
    "                m = 0\n",
    "            param_string += str(int(-m))\n",
    "        return param_string\n",
    "\n",
    "\n",
    "class Conv2D(DASLayer):\n",
    "    def __init__(self, filters, filter_size, activation, strides=(1, 1), \n",
    "                 padding='SAME', kernel_initializer='glorot_uniform',\n",
    "                 bias_initializer='zeros', input_shape=None, fixed_size=False):\n",
    "        super().__init__(input_shape)\n",
    "    \n",
    "        self.filters = filters\n",
    "        self.filter_size = filter_size\n",
    "        self.activation = activation\n",
    "        self.strides = strides\n",
    "        self.padding = padding\n",
    "        self.kernel_initializer = kernel_initializer\n",
    "        self.bias_initializer = bias_initializer\n",
    "        self.fixed_size = fixed_size\n",
    "        \n",
    "        self.A = tf.keras.activations.get(activation)\n",
    "        self.F_init = tf.keras.initializers.get(kernel_initializer)\n",
    "        self.b_init = tf.keras.initializers.get(bias_initializer)\n",
    "        self.regularizer = Regularizer()\n",
    "    \n",
    "    def build(self, input_shape):\n",
    "        input_filters = input_shape[-1]\n",
    "\n",
    "        self.F = tf.Variable(\n",
    "            name='F',\n",
    "            initial_value=self.F_init(\n",
    "                shape=(self.filter_size[0], self.filter_size[1], input_filters, self.filters), dtype=dtype\n",
    "            ),\n",
    "            trainable=True)\n",
    "        \n",
    "        self.b = tf.Variable(\n",
    "            name='b',\n",
    "            initial_value=self.b_init(shape=(self.filters,), dtype=dtype),\n",
    "            trainable=True)\n",
    "\n",
    "        self.add_loss(lambda: self.regularizer(tf.concat([tf.reshape(self.F, (-1, self.F.shape[-1])), tf.reshape(self.b, (1, -1))], axis=0)))\n",
    "    \n",
    "    def call(self, inputs, training=None):\n",
    "        y = tf.nn.conv2d(inputs, self.F, strides=self.strides, padding=self.padding)\n",
    "        y = tf.nn.bias_add(y, self.b)\n",
    "        y = self.A(y)\n",
    "        return y\n",
    "    \n",
    "    def get_size(self):\n",
    "        return self.F.shape[-2], self.F.shape[-1]\n",
    "    \n",
    "    def prune(self, threshold, active_input_units_indices):\n",
    "        # Remove connections from pruned units in previous layer\n",
    "        new_F = tf.gather(self.F.value(), active_input_units_indices, axis=-2)\n",
    "\n",
    "        if self.fixed_size:\n",
    "            active_output_filters_indices = list(range(new_F.shape[-1]))\n",
    "        else:\n",
    "            # Prune units in this layer\n",
    "            F_reduced_max = tf.reshape(tf.math.reduce_max(tf.abs(new_F), axis=(0, 1, 2)), (1, -1))\n",
    "            F_reduced_max_with_biases = tf.concat([F_reduced_max, tf.reshape(self.b.value(), (1, -1))], axis=0)\n",
    "            filters_are_active = tf.math.reduce_max(tf.abs(F_reduced_max_with_biases), axis=0) >= threshold\n",
    "            active_output_filters_indices = tf.reshape(tf.where(filters_are_active), (-1,))\n",
    "            \n",
    "            new_F = tf.gather(new_F, active_output_filters_indices, axis=-1)\n",
    "            new_b = tf.gather(self.b.value(), active_output_filters_indices, axis=0)\n",
    "\n",
    "            self.b = tf.Variable(name='b', initial_value=new_b, trainable=True)\n",
    "\n",
    "        self.F = tf.Variable(name='F', initial_value=new_F, trainable=True)\n",
    "\n",
    "        self.regularizer.prune()\n",
    "        return active_output_filters_indices\n",
    "\n",
    "    def grow(self, n_new_input_units, percentage, min_new_units, scaling_factor):\n",
    "        if n_new_input_units > 0:\n",
    "            # Add connections to grown units in previous layer\n",
    "            F_growth = self.F_init(shape=(self.F.shape[0], self.F.shape[1], self.F.shape[2] + n_new_input_units, self.F.shape[3]), dtype=dtype)[:, :, -n_new_input_units:, :] * scaling_factor  # TODO is it better to be multiplying here by scaling_factor? It does help with not increasing the max weights of existing neurons when new neurons are added.\n",
    "            new_F = tf.concat([self.F.value(), F_growth], axis=-2)\n",
    "        else:\n",
    "            new_F = self.F.value()\n",
    "\n",
    "        if self.fixed_size:\n",
    "            n_new_output_units = 0\n",
    "        else:\n",
    "            # Grow new units in this layer\n",
    "            n_new_output_units = max(min_new_units, int(new_F.shape[-1] * percentage))\n",
    "            if n_new_output_units > 0:\n",
    "                F_growth = self.F_init(shape=(new_F.shape[0], new_F.shape[1], new_F.shape[2], new_F.shape[3] + n_new_output_units), dtype=dtype)[:, :, :, -n_new_output_units:] * scaling_factor\n",
    "                b_growth = self.b_init(shape=(n_new_output_units,), dtype=dtype)  # TODO for all possible bias initializers to work properly, the whole bias vector should be initialized at once\n",
    "                new_F = tf.concat([new_F, F_growth], axis=-1)\n",
    "                new_b = tf.concat([self.b.value(), b_growth], axis=0)\n",
    "\n",
    "                self.b = tf.Variable(name='b', initial_value=new_b, trainable=True)\n",
    "\n",
    "        self.F = tf.Variable(name='F', initial_value=new_F, trainable=True)\n",
    "\n",
    "        self.regularizer.grow(n_new_output_units)\n",
    "        return n_new_output_units\n",
    "    \n",
    "    def mutate(self, mutation_strength):\n",
    "        self.F.assign_add(tf.random.normal(self.F.shape, mean=0.0, stddev=mutation_strength))\n",
    "        self.b.assign_add(tf.random.normal(self.b.shape, mean=0.0, stddev=mutation_strength))\n",
    "    \n",
    "    def set_regularization_penalty(self, regularization_penalty):\n",
    "        if not self.fixed_size:\n",
    "            self.regularizer.set_regularization_penalty(regularization_penalty)\n",
    "    \n",
    "    def set_regularization_method(self, regularization_method):\n",
    "        if not self.fixed_size:\n",
    "            self.regularizer.set_regularization_method(regularization_method)\n",
    "\n",
    "    def get_param_string():\n",
    "        param_string = \"\"\n",
    "        # TODO\n",
    "        return param_string\n",
    "\n",
    "\n",
    "class Flatten(tf.keras.Model):\n",
    "    def call(self, inputs, training=None):\n",
    "        return tf.reshape(tf.transpose(inputs, perm=[0, 3, 1, 2]), (inputs.shape[0], -1))\n",
    "\n",
    "\n",
    "################################################################################\n",
    "# MODELS\n",
    "################################################################################\n",
    "\n",
    "\n",
    "class Epoch:\n",
    "    def __init__(self, grow, prune, regularization_penalty, regularization_method):\n",
    "        self.grow = grow\n",
    "        self.prune = prune\n",
    "        self.regularization_penalty = regularization_penalty\n",
    "        self.regularization_method = regularization_method\n",
    "    \n",
    "    def __str__(self):\n",
    "        return f'{int(self.grow)}{int(self.prune)}{self.regularization_penalty}{self.regularization_method}'\n",
    "    \n",
    "    def __repr__(self):\n",
    "        return self.__str__()\n",
    "\n",
    "\n",
    "class DynamicEpoch(Epoch):\n",
    "    def __init__(self, regularization_penalty, regularization_method):\n",
    "        super().__init__(True, True, regularization_penalty, regularization_method)\n",
    "\n",
    "\n",
    "class StaticEpoch(Epoch):\n",
    "    def __init__(self, regularization_penalty, regularization_method):\n",
    "        super().__init__(False, False, regularization_penalty, regularization_method)\n",
    "\n",
    "\n",
    "class StaticEpochNoRegularization(StaticEpoch):\n",
    "    def __init__(self):\n",
    "        super().__init__(0., None)\n",
    "\n",
    "\n",
    "class Schedule:\n",
    "    def __init__(self, epochs):\n",
    "        self.epochs = epochs\n",
    "\n",
    "    def __iter__(self):\n",
    "        return self.epochs.__iter__()\n",
    "    \n",
    "    def __len__(self):\n",
    "        return len(self.epochs)\n",
    "    \n",
    "    def __str__(self):\n",
    "        text = ''.join([str(epoch) for epoch in self.epochs])\n",
    "        return hashlib.sha1(text.encode('utf-8')).hexdigest()[:10]\n",
    "    \n",
    "    def __repr__(self):\n",
    "        return self.__str__()\n",
    "\n",
    "\n",
    "class Sequential(tf.keras.Model):\n",
    "    def __init__(self, layers, activation=None):\n",
    "        super().__init__()\n",
    "        \n",
    "        self.lrs = layers\n",
    "        \n",
    "    def call(self, inputs, training=None):\n",
    "        x = inputs\n",
    "        for layer in self.lrs:\n",
    "            x = layer(x, training=training)\n",
    "        return x\n",
    "    \n",
    "    def get_layer_input_shape(self, target_layer):\n",
    "        if target_layer.inpt_shp is not None:\n",
    "            return target_layer.inpt_shp\n",
    "\n",
    "        input = np.random.normal(size=(1,) + self.lrs[0].inpt_shp)\n",
    "        for layer in self.lrs:\n",
    "            if layer is target_layer:\n",
    "                return tuple(input.shape[1:])\n",
    "            input = layer(input)\n",
    "        raise Exception(\"Layer not found in the model.\")\n",
    "\n",
    "    def get_layer_output_shape(self, target_layer):\n",
    "        input = np.random.normal(size=(1,) + self.lrs[0].inpt_shp)\n",
    "        for layer in self.lrs:\n",
    "            output = layer(input)\n",
    "            if layer is target_layer:\n",
    "                return tuple(output.shape[1:])\n",
    "            input = output\n",
    "        raise Exception(\"Layer not found in the model.\")\n",
    "    \n",
    "    def get_layer_sizes(self):\n",
    "        \"\"\"\n",
    "        Returns the sizes of all layers in the model, including the input and output layer.\n",
    "        \"\"\"\n",
    "        layer_sizes = list()\n",
    "        first_layer = True\n",
    "        for l in range(len(self.lrs)):\n",
    "            layer = self.lrs[l]\n",
    "            if isinstance(layer, DASLayer):\n",
    "                layer_size = layer.get_size()\n",
    "                if first_layer:\n",
    "                    layer_sizes.append(layer_size[0])\n",
    "                    first_layer = False\n",
    "                layer_sizes.append(layer_size[1])\n",
    "        return layer_sizes\n",
    "    \n",
    "    def get_hidden_layer_sizes(self):\n",
    "        return self.get_layer_sizes()[1:-1]\n",
    "    \n",
    "    def get_regularization_penalty(self):\n",
    "        #TODO improve\n",
    "        return self.lrs[-2].regularizer.regularization_penalty\n",
    "    \n",
    "    def set_regularization_penalty(self, regularization_penalty):\n",
    "        for layer in self.lrs:\n",
    "            if isinstance(layer, DASLayer) and not layer.fixed_size:\n",
    "                layer.set_regularization_penalty(regularization_penalty)\n",
    "    \n",
    "    def set_regularization_method(self, regularization_method):\n",
    "        for layer in self.lrs:\n",
    "            if isinstance(layer, DASLayer) and not layer.fixed_size:\n",
    "                layer.set_regularization_method(regularization_method)\n",
    "\n",
    "    def prune(self, params):\n",
    "        input_shape = self.get_layer_input_shape(self.lrs[0])\n",
    "        n_input_units = input_shape[-1]\n",
    "        active_units_indices = list(range(n_input_units))\n",
    "\n",
    "        last_custom_layer = None\n",
    "        for layer in self.lrs:\n",
    "            if isinstance(layer, DASLayer):\n",
    "                if last_custom_layer is not None and type(last_custom_layer) != type(layer):\n",
    "                    if type(last_custom_layer) == Conv2D and type(layer) == Dense:\n",
    "                        convolutional_shape = self.get_layer_output_shape(last_custom_layer)\n",
    "                        active_units_indices = self.convert_channel_indices_to_flattened_indices(active_units_indices, convolutional_shape)\n",
    "                    else:\n",
    "                        raise Exception(\"Incorrect order of custom layer types.\")\n",
    "                active_units_indices = layer.prune(params.pruning_threshold, active_units_indices)\n",
    "                last_custom_layer = layer\n",
    "    \n",
    "    def grow(self, params):   \n",
    "        n_new_units = 0\n",
    "\n",
    "        last_custom_layer = None\n",
    "        for layer in self.lrs:\n",
    "            if isinstance(layer, DASLayer):\n",
    "                if last_custom_layer is not None and type(last_custom_layer) != type(layer):\n",
    "                    if type(last_custom_layer) == Conv2D and type(layer) == Dense:\n",
    "                        convolutional_shape = self.get_layer_output_shape(last_custom_layer)\n",
    "                        n_new_units = n_new_units * convolutional_shape[0] * convolutional_shape[1]\n",
    "                    else:\n",
    "                        raise Exception(\"Incorrect order of custom layer types.\")\n",
    "                n_new_units = layer.grow(n_new_units, params.growth_percentage, min_new_units=params.min_new_neurons, scaling_factor=params.pruning_threshold)\n",
    "                last_custom_layer = layer\n",
    "    \n",
    "    def mutate(self, mutation_strength):\n",
    "        for layer in self.lrs:\n",
    "            if isinstance(layer, DASLayer):\n",
    "                layer.mutate(mutation_strength)\n",
    "    \n",
    "    @staticmethod\n",
    "    def convert_channel_indices_to_flattened_indices(channel_indices, convolutional_shape):\n",
    "        dense_indices = list()\n",
    "        units_per_channel = convolutional_shape[0] * convolutional_shape[1]\n",
    "        for channel_index in channel_indices:\n",
    "            for iter in range(units_per_channel):\n",
    "                dense_indices.append(channel_index * units_per_channel + iter)\n",
    "        return dense_indices\n",
    "    \n",
    "    def print_neurons(self):\n",
    "        for layer in self.lrs[:-1]:\n",
    "            print(layer.get_param_string())\n",
    "    \n",
    "    def evaluate(self, params, summed_training_loss, summed_training_metric):\n",
    "        # Calculate training loss and metric\n",
    "        if summed_training_loss is not None:\n",
    "            loss = summed_training_loss / params.x.shape[0]\n",
    "        else:\n",
    "            loss = None\n",
    "        \n",
    "        if summed_training_metric is not None:\n",
    "            metric = summed_training_metric / params.x.shape[0]\n",
    "        else:\n",
    "            metric = None\n",
    "        \n",
    "        # Calculate val loss and metric\n",
    "        summed_val_loss = 0\n",
    "        summed_val_metric = 0\n",
    "        n_val_instances = 0\n",
    "        \n",
    "        for step, (x_batch, y_batch) in enumerate(params.val_dataset):\n",
    "            # y_pred = tf.reshape(self(x_batch, training=False), y_batch.shape)\n",
    "            y_pred = self(x_batch, training=False)\n",
    "            summed_val_loss += tf.reduce_sum(params.loss_fn(y_batch, y_pred))\n",
    "            summed_val_metric += float(tf.reduce_sum(params.metric_fn(y_batch, y_pred)))\n",
    "            n_val_instances += x_batch.shape[0]\n",
    "        \n",
    "        val_loss = summed_val_loss / n_val_instances\n",
    "        val_metric = summed_val_metric / n_val_instances\n",
    "\n",
    "        return loss, metric, val_loss, val_metric\n",
    "\n",
    "    def list_params(self):\n",
    "        trainable_count = np.sum([K.count_params(w) for w in self.trainable_weights])\n",
    "        non_trainable_count = np.sum([K.count_params(w) for w in self.non_trainable_weights])\n",
    "        total_count = trainable_count + non_trainable_count\n",
    "\n",
    "        print('Total params: {:,}'.format(total_count))\n",
    "        print('Trainable params: {:,}'.format(trainable_count))\n",
    "        print('Non-trainable params: {:,}'.format(non_trainable_count))\n",
    "\n",
    "        return total_count, trainable_count, non_trainable_count\n",
    "    \n",
    "    def print_epoch_statistics(self, params, summed_training_loss, summed_training_metric, message=None, require_result=False):\n",
    "        if not params.verbose:\n",
    "            if require_result:\n",
    "                return self.evaluate(params, summed_training_loss, summed_training_metric)\n",
    "            else:\n",
    "                return\n",
    "        \n",
    "        loss, metric, val_loss, val_metric = self.evaluate(params, summed_training_loss, summed_training_metric)  \n",
    "\n",
    "        if message is not None:\n",
    "            print(message)\n",
    "        \n",
    "        print(f\"loss: {loss} - metric: {metric} - val_loss: {val_loss} - val_metric: {val_metric} - penalty: {self.get_regularization_penalty()}\")\n",
    "        hidden_layer_sizes = self.get_hidden_layer_sizes()\n",
    "        print(f\"hidden layer sizes: {hidden_layer_sizes}, total units: {sum(hidden_layer_sizes)}\")\n",
    "        if params.print_neurons:\n",
    "            self.print_neurons()\n",
    "        \n",
    "        if require_result:\n",
    "            return loss, metric, val_loss, val_metric\n",
    "    \n",
    "    def update_history(self, params, loss, metric, val_loss, val_metric):\n",
    "        params.history['loss'].append(float(loss))\n",
    "        params.history['metric'].append(float(metric))\n",
    "        params.history['val_loss'].append(float(val_loss))\n",
    "        params.history['val_metric'].append(float(val_metric))\n",
    "        params.history['hidden_layer_sizes'].append(self.get_hidden_layer_sizes())\n",
    "    \n",
    "    @staticmethod\n",
    "    def prepare_datasets(x, y, batch_size, validation_data):\n",
    "        train_dataset = tf.data.Dataset.from_tensor_slices((x, y))\n",
    "        train_dataset = train_dataset.shuffle(buffer_size=20000).batch(batch_size)\n",
    "        val_dataset = tf.data.Dataset.from_tensor_slices(validation_data).batch(batch_size)\n",
    "        return train_dataset.prefetch(tf.data.AUTOTUNE), val_dataset.prefetch(tf.data.AUTOTUNE)\n",
    "    \n",
    "    def manage_dynamic_regularization(self, params, val_loss):\n",
    "        if val_loss >= params.best_conditional_val_loss * params.stall_coefficient:\n",
    "            # Training is currently in stall\n",
    "            if not params.training_stalled:\n",
    "                penalty = self.get_regularization_penalty() * params.regularization_penalty_multiplier\n",
    "                print(\"Changing penalty...\")\n",
    "                # TODO this must be modified, penalty can differ for each layer\n",
    "                self.set_regularization_penalty(penalty)\n",
    "                params.training_stalled = True\n",
    "        else:\n",
    "            params.best_conditional_val_loss = val_loss\n",
    "            params.training_stalled = False\n",
    "    \n",
    "    def grow_wrapper(self, params):\n",
    "        dynamic_reqularization_active = params.regularization_penalty_multiplier != 1.\n",
    "        if dynamic_reqularization_active:\n",
    "            loss, metric, val_loss, val_metric = self.print_epoch_statistics(params, None, None, \"Before growing:\", require_result=True)\n",
    "            self.manage_dynamic_regularization(params, val_loss)\n",
    "        else:\n",
    "            self.print_epoch_statistics(params, None, None, \"Before growing:\")\n",
    "\n",
    "        self.grow(params)\n",
    "        self.print_epoch_statistics(params, None, None, \"After growing:\")\n",
    "    \n",
    "    def prune_wrapper(self, params, summed_loss, summed_metric):\n",
    "        loss, metric, _, _ = self.print_epoch_statistics(params, summed_loss, summed_metric, \"Before pruning:\", require_result=True)\n",
    "        self.prune(params)\n",
    "        _, _, val_loss, val_metric = self.print_epoch_statistics(params, None, None, \"After pruning:\", require_result=True)\n",
    "\n",
    "        self.update_history(params, loss, metric, val_loss, val_metric)\n",
    "    \n",
    "    class ParameterContainer:\n",
    "        def __init__(self, x, y, optimizer, batch_size, min_new_neurons, validation_data, pruning_threshold, regularization_penalty_multiplier, \n",
    "                     stall_coefficient, growth_percentage, mini_epochs_per_epoch, verbose, print_neurons, use_static_graph, loss_fn, metric_fn):\n",
    "            self.x = x\n",
    "            self.y = y\n",
    "            self.optimizer = optimizer\n",
    "            self.batch_size = batch_size\n",
    "            self.min_new_neurons = min_new_neurons\n",
    "            self.validation_data = validation_data\n",
    "            self.pruning_threshold = pruning_threshold\n",
    "            self.regularization_penalty_multiplier = regularization_penalty_multiplier\n",
    "            self.stall_coefficient = stall_coefficient\n",
    "            self.growth_percentage = growth_percentage\n",
    "            self.mini_epochs_per_epoch = mini_epochs_per_epoch\n",
    "            self.verbose = verbose\n",
    "            self.print_neurons = print_neurons\n",
    "            self.use_static_graph = use_static_graph\n",
    "            self.loss_fn = loss_fn\n",
    "            self.metric_fn = metric_fn\n",
    "\n",
    "            self.train_dataset, self.val_dataset = Sequential.prepare_datasets(x, y, batch_size, validation_data)\n",
    "            self.history = self.prepare_history()\n",
    "\n",
    "            self.best_conditional_val_loss = np.inf\n",
    "            self.training_stalled = False\n",
    "        \n",
    "        @staticmethod\n",
    "        def prepare_history():\n",
    "            history = {\n",
    "                'loss': list(),\n",
    "                'metric': list(),\n",
    "                'val_loss': list(),\n",
    "                'val_metric': list(),\n",
    "                'hidden_layer_sizes': list(),\n",
    "            }\n",
    "            return history\n",
    "    \n",
    "    def fit_single_step(self, params, x_batch, y_batch):\n",
    "        with tf.GradientTape() as tape:\n",
    "            # y_pred = tf.reshape(self(x_batch, training=True), y_batch.shape)\n",
    "            y_pred = self(x_batch, training=True)\n",
    "            raw_loss = params.loss_fn(y_batch, y_pred)\n",
    "            loss_value = tf.reduce_mean(raw_loss)\n",
    "            loss_value += sum(self.losses)  # Add losses registered by model.add_loss\n",
    "\n",
    "            loss = tf.reduce_sum(raw_loss)\n",
    "            metric = float(tf.reduce_sum(params.metric_fn(y_batch, y_pred)))\n",
    "\n",
    "        grads = tape.gradient(loss_value, self.trainable_variables)\n",
    "        params.optimizer.apply_gradients(zip(grads, self.trainable_variables))\n",
    "\n",
    "        return loss, metric\n",
    "    \n",
    "    def fit_single_epoch(self, params):\n",
    "        summed_loss = 0\n",
    "        summed_metric = 0\n",
    "        \n",
    "        for mini_epoch in range(params.mini_epochs_per_epoch):\n",
    "            summed_loss = 0\n",
    "            summed_metric = 0\n",
    "\n",
    "            if params.use_static_graph:\n",
    "                fit_single_step_function = tf.function(self.fit_single_step)\n",
    "            else:\n",
    "                fit_single_step_function = self.fit_single_step\n",
    "            for step, (x_batch, y_batch) in enumerate(params.train_dataset):\n",
    "                loss, metric = fit_single_step_function(params, x_batch, y_batch)\n",
    "                summed_loss += loss\n",
    "                summed_metric += metric\n",
    "        \n",
    "        return summed_loss, summed_metric\n",
    "\n",
    "    def fit(self, x, y, optimizer, schedule, batch_size, min_new_neurons, validation_data, pruning_threshold=0.001, regularization_penalty_multiplier=1., \n",
    "            stall_coefficient=1, growth_percentage=0.2, mini_epochs_per_epoch=1, verbose=True, print_neurons=False, use_static_graph=True, \n",
    "            loss_fn=tf.keras.losses.sparse_categorical_crossentropy, metric_fn=tf.keras.metrics.sparse_categorical_accuracy):\n",
    "        params = self.ParameterContainer(x=x, y=y, optimizer=optimizer, batch_size=batch_size, min_new_neurons=min_new_neurons, validation_data=validation_data, \n",
    "                                         pruning_threshold=pruning_threshold, regularization_penalty_multiplier=regularization_penalty_multiplier, stall_coefficient=stall_coefficient, \n",
    "                                         growth_percentage=growth_percentage, mini_epochs_per_epoch=mini_epochs_per_epoch, verbose=verbose, print_neurons=print_neurons, \n",
    "                                         use_static_graph=use_static_graph, loss_fn=loss_fn, metric_fn=metric_fn)\n",
    "        self.build(x.shape)  # Necessary when verbose == False\n",
    "\n",
    "        for epoch_no, epoch in enumerate(schedule):\n",
    "            if verbose:\n",
    "                print(\"##########################################################\")\n",
    "                print(f\"Epoch {epoch_no + 1}/{len(schedule)}\")\n",
    "            \n",
    "            self.set_regularization_penalty(epoch.regularization_penalty)\n",
    "            self.set_regularization_method(epoch.regularization_method)\n",
    "\n",
    "            if epoch.grow:\n",
    "                self.grow_wrapper(params)\n",
    "            \n",
    "            summed_loss, summed_metric = self.fit_single_epoch(params)\n",
    "\n",
    "            if epoch.prune:\n",
    "                self.prune_wrapper(params, summed_loss, summed_metric)\n",
    "            else:\n",
    "                loss, metric, val_loss, val_metric = self.print_epoch_statistics(params, summed_loss, summed_metric, require_result=True)\n",
    "                self.update_history(params, loss, metric, val_loss, val_metric)\n",
    "        \n",
    "        return params.history\n",
    "\n",
    "\n",
    "################################################################################\n",
    "# HELPER FUNCTIONS\n",
    "################################################################################\n",
    "\n",
    "\n",
    "def get_statistics_from_history(history):\n",
    "    best_epoch_number = np.argmin(history['val_loss'])\n",
    "    best_val_loss = history['val_loss'][best_epoch_number]\n",
    "    best_val_metric = history['val_metric'][best_epoch_number]\n",
    "    best_hidden_layer_sizes = history['hidden_layer_sizes'][best_epoch_number]\n",
    "    return best_val_loss, best_val_metric, best_hidden_layer_sizes\n",
    "\n",
    "\n",
    "def get_statistics_from_histories(histories):\n",
    "    best_val_losses = list()\n",
    "    best_val_metrics = list()\n",
    "    all_best_hidden_layer_sizes = list()\n",
    "\n",
    "    for history in histories:\n",
    "        best_val_loss, best_val_metric, best_hidden_layer_sizes = get_statistics_from_history(history)\n",
    "        best_val_losses.append(best_val_loss)\n",
    "        best_val_metrics.append(best_val_metric)\n",
    "        all_best_hidden_layer_sizes.append(best_hidden_layer_sizes)\n",
    "    \n",
    "    mean_best_val_loss = np.mean(best_val_losses)\n",
    "    mean_best_val_metric = np.mean(best_val_metrics)\n",
    "    mean_best_hidden_layer_sizes = [np.mean(layer) for layer in list(zip(*all_best_hidden_layer_sizes))]\n",
    "    \n",
    "    return mean_best_val_loss, mean_best_val_metric, mean_best_hidden_layer_sizes\n",
    "\n",
    "\n",
    "def cross_validate(train_fn, x, y, n_splits, random_state=42, *args, **kwargs):\n",
    "    from sklearn.model_selection import KFold\n",
    "\n",
    "    kf = KFold(n_splits=n_splits, shuffle=True, random_state=random_state)\n",
    "\n",
    "    histories = list()\n",
    "    for i, (train_index, test_index) in enumerate(kf.split(x)):\n",
    "        xtrain, xtest = x[train_index], x[test_index]\n",
    "        ytrain, ytest = y[train_index], y[test_index]\n",
    "\n",
    "        history = train_fn(xtrain, ytrain, validation_data=(xtest, ytest), *args, **kwargs)\n",
    "        histories.append(history)\n",
    "\n",
    "        best_val_loss, best_val_metric, best_hidden_layer_sizes = get_statistics_from_history(history)\n",
    "        print(f\"Run {i} completed, best_val_loss: {best_val_loss}, best_val_metric: {best_val_metric}, best_hidden_layer_sizes: {best_hidden_layer_sizes}\")\n",
    "\n",
    "    mean_best_val_loss, mean_best_val_metric, mean_best_hidden_layer_sizes = get_statistics_from_histories(histories)\n",
    "    print(f'mean_best_val_loss: {mean_best_val_loss}')\n",
    "    print(f'mean_best_val_metric: {mean_best_val_metric}')\n",
    "    print(f'mean_best_hidden_layer_sizes: {mean_best_hidden_layer_sizes}')\n",
    "\n",
    "    return histories, mean_best_hidden_layer_sizes\n",
    "\n",
    "\n",
    "def hyperparameter_search(train_fn, x, y, validation_data, *args, **kwargs):\n",
    "    from itertools import product\n",
    "\n",
    "    all_params = [*args] + list(kwargs.values())\n",
    "    histories = list()\n",
    "\n",
    "    best_overall_val_loss = np.inf\n",
    "    best_overall_val_metric = None\n",
    "    best_overall_combination = None\n",
    "\n",
    "    for combination in product(*all_params):\n",
    "        combination_args = combination[:len(args)]\n",
    "\n",
    "        combination_kwargs_values = combination[len(args):]\n",
    "        combination_kwargs = dict(zip(kwargs.keys(), combination_kwargs_values))\n",
    "\n",
    "        history = train_fn(x, y, validation_data, *combination_args, **combination_kwargs)\n",
    "        history['parameters'] = combination\n",
    "        histories.append(history)\n",
    "\n",
    "        best_val_loss, best_val_metric, best_hidden_layer_sizes = get_statistics_from_history(history)\n",
    "        print(f\"Run with parameters {combination} completed, best_val_loss: {best_val_loss}, best_val_metric: {best_val_metric}, best_hidden_layer_sizes: {best_hidden_layer_sizes}\")\n",
    "\n",
    "        if best_val_loss < best_overall_val_loss:\n",
    "            best_overall_val_loss = best_val_loss\n",
    "            best_overall_val_metric = best_val_metric\n",
    "            best_overall_combination = combination\n",
    "    \n",
    "    print(f'Best overall combination: {best_overall_combination}, val_metric: {best_overall_val_metric}')\n",
    "\n",
    "    return histories, best_overall_combination\n",
    "\n",
    "\n",
    "def get_convolutional_model(x, layer_sizes, output_neurons=10):\n",
    "    model = Sequential([\n",
    "        Conv2D(layer_sizes[0], filter_size=(3, 3), activation='selu', strides=(1, 1), padding='SAME', kernel_initializer='lecun_normal', input_shape=x[0,:,:,:].shape),\n",
    "        Conv2D(layer_sizes[1], filter_size=(3, 3), activation='selu', strides=(2, 2), padding='SAME', kernel_initializer='lecun_normal'),\n",
    "        tf.keras.layers.Dropout(0.2),\n",
    "        Conv2D(layer_sizes[2], filter_size=(3, 3), activation='selu', strides=(1, 1), padding='SAME', kernel_initializer='lecun_normal'),\n",
    "        Conv2D(layer_sizes[3], filter_size=(3, 3), activation='selu', strides=(2, 2), padding='SAME', kernel_initializer='lecun_normal'),\n",
    "        tf.keras.layers.Dropout(0.5),\n",
    "        Flatten(),\n",
    "        Dense(layer_sizes[4], activation='selu', kernel_initializer='lecun_normal'),\n",
    "        Dense(output_neurons, activation='softmax', fixed_size=True),\n",
    "    ])\n",
    "    return model\n",
    "\n",
    "\n",
    "def get_dense_model(x, layer_sizes):\n",
    "    layers = list()\n",
    "    \n",
    "    layers.append(Dense(layer_sizes[0], activation='selu', kernel_initializer='lecun_normal', input_shape=x[0, :].shape))\n",
    "    for layer_size in layer_sizes[1:]:\n",
    "        layers.append(Dense(layer_size, activation='selu', kernel_initializer='lecun_normal'))\n",
    "    layers.append(Dense(1, activation=None, kernel_initializer='lecun_normal', fixed_size=True))\n",
    "    \n",
    "    model = Sequential(layers)\n",
    "    return model\n",
    "\n",
    "\n",
    "def train_fn_conv(x, y, validation_data, learning_rate, schedule, layer_sizes, output_neurons=10, min_new_neurons=20, \n",
    "             growth_percentage=0.2, verbose=False, use_static_graph=True):\n",
    "    batch_size = 128\n",
    "\n",
    "    model = get_convolutional_model(x, layer_sizes, output_neurons)\n",
    "    \n",
    "    optimizer = tf.keras.optimizers.Adam(learning_rate=learning_rate)\n",
    "\n",
    "    history = model.fit(x=x, y=y, optimizer=optimizer, schedule=schedule, batch_size=batch_size, min_new_neurons=min_new_neurons, \n",
    "                        validation_data=validation_data, growth_percentage=growth_percentage, verbose=verbose, use_static_graph=use_static_graph)\n",
    "    \n",
    "    return history\n",
    "\n",
    "\n",
    "def squared_error(y_true, y_pred):\n",
    "    return (y_true - y_pred) ** 2\n",
    "\n",
    "\n",
    "def train_fn_dense(x, y, validation_data, learning_rate, schedule, layer_sizes, min_new_neurons=20, \n",
    "             growth_percentage=0.2, verbose=False, use_static_graph=True):\n",
    "    batch_size = 128\n",
    "\n",
    "    model = get_dense_model(x, layer_sizes)\n",
    "    \n",
    "    optimizer = tf.keras.optimizers.Adam(learning_rate=learning_rate)\n",
    "\n",
    "    history = model.fit(x=x, y=y, optimizer=optimizer, schedule=schedule, batch_size=batch_size, min_new_neurons=min_new_neurons, \n",
    "                        validation_data=validation_data, growth_percentage=growth_percentage, verbose=verbose, use_static_graph=use_static_graph,\n",
    "                        loss_fn=squared_error, metric_fn=squared_error)\n",
    "    \n",
    "    return history"
   ]
  },
  {
   "cell_type": "markdown",
   "metadata": {},
   "source": [
    "# Evolution"
   ]
  },
  {
   "cell_type": "code",
   "execution_count": 105,
   "metadata": {},
   "outputs": [],
   "source": [
    "class Individual:\n",
    "    def __init__(self, model, optimizer):\n",
    "        self.model = model\n",
    "        self.optimizer = optimizer\n",
    "        self.history = Sequential.ParameterContainer.prepare_history()\n",
    "\n",
    "\n",
    "def initialize_population(population_size, x, layer_sizes, output_neurons, learning_rate):\n",
    "    population = list()\n",
    "    for _ in range(population_size):\n",
    "        model = get_convolutional_model(x, layer_sizes, output_neurons=output_neurons)\n",
    "        model.build(x.shape)\n",
    "        optimizer = tf.keras.optimizers.Adam(learning_rate=learning_rate)\n",
    "        individual = Individual(model, optimizer)\n",
    "        population.append(individual)\n",
    "    return population\n",
    "\n",
    "\n",
    "def get_fitness(individual):\n",
    "    return individual.history['val_loss'][-1]\n",
    "\n",
    "\n",
    "def get_best_individual(population):\n",
    "    best_individual = None\n",
    "    best_fitness = - np.inf\n",
    "    for individual in population:\n",
    "        fitness = get_fitness(individual)\n",
    "        if fitness > best_fitness:\n",
    "            best_individual = individual\n",
    "            best_fitness = fitness\n",
    "    return best_individual\n",
    "\n",
    "\n",
    "def mutation(population, mutation_strength):\n",
    "    for individual in population:\n",
    "        model = individual.model\n",
    "        model.mutate(mutation_strength)\n",
    "    return population\n",
    "\n",
    "\n",
    "def extend_history(old_history, new_history):\n",
    "    for key in old_history.keys():\n",
    "        old_history[key].extend(new_history[key])\n",
    "\n",
    "\n",
    "def training(population, x, y, validation_data, batch_size, min_new_neurons, growth_percentage, verbose, use_static_graph):\n",
    "    for individual in population:\n",
    "        model = individual.model\n",
    "        optimizer = individual.optimizer\n",
    "        schedule = Schedule([StaticEpochNoRegularization()])\n",
    "        history = model.fit(x=x, y=y, optimizer=optimizer, schedule=schedule, batch_size=batch_size, min_new_neurons=min_new_neurons, \n",
    "                            validation_data=validation_data, growth_percentage=growth_percentage, verbose=verbose, use_static_graph=use_static_graph)\n",
    "        extend_history(individual.history, history)\n",
    "    return population\n",
    "\n",
    "\n",
    "def tournament_selection(population, population_size, tournament_size):\n",
    "    new_population = list()\n",
    "\n",
    "    while len(new_population) < population_size:\n",
    "        selection = np.random.choice(list(range(len(population))), size=tournament_size, replace=False)\n",
    "        best_individual = None\n",
    "        best_fitness = - np.inf\n",
    "        for individual_index in selection:\n",
    "            individual = population[individual_index]\n",
    "            fitness = get_fitness(individual)\n",
    "            if fitness > best_fitness:\n",
    "                best_individual = individual\n",
    "                best_fitness = fitness\n",
    "        new_population.append(best_individual)\n",
    "\n",
    "    return new_population\n",
    "\n",
    "\n",
    "def measure_fitnesses(population):\n",
    "    fitnesses = list()\n",
    "    for individual in population:\n",
    "        fitnesses.append(get_fitness(individual))\n",
    "    return fitnesses\n",
    "\n",
    "\n",
    "def evolution(x, y, validation_data, batch_size, layer_sizes, output_neurons, learning_rate, mutation_strength, population_size=10, n_generations=10, \n",
    "              tournament_size=3, elitism=True, min_new_neurons=20, growth_percentage=0.2):\n",
    "    population = initialize_population(population_size, x, layer_sizes, output_neurons, learning_rate)\n",
    "    fitnesses_history = list()\n",
    "    for generation in range(n_generations):\n",
    "        if generation > 0:\n",
    "            best_individual = get_best_individual(population)\n",
    "            population = mutation(population, mutation_strength)\n",
    "        population = training(population, x, y, validation_data, batch_size, min_new_neurons, \n",
    "                              growth_percentage, verbose=False, use_static_graph=True)\n",
    "        population = tournament_selection(population, population_size, tournament_size)\n",
    "        if elitism and generation > 0:\n",
    "                population.append(best_individual)\n",
    "        fitnesses = measure_fitnesses(population)\n",
    "        print(fitnesses)\n",
    "        fitnesses_history.append(fitnesses)\n",
    "\n",
    "    best_individual = get_best_individual(population)\n",
    "    fitness = get_fitness(best_individual)\n",
    "    \n",
    "    return fitness, fitnesses_history"
   ]
  },
  {
   "cell_type": "code",
   "execution_count": 31,
   "metadata": {},
   "outputs": [],
   "source": [
    "fashion_mnist = get_fashion_mnist_dataset()"
   ]
  },
  {
   "cell_type": "code",
   "execution_count": 106,
   "metadata": {},
   "outputs": [
    {
     "ename": "KeyboardInterrupt",
     "evalue": "",
     "output_type": "error",
     "traceback": [
      "\u001b[0;31m---------------------------------------------------------------------------\u001b[0m",
      "\u001b[0;31mKeyboardInterrupt\u001b[0m                         Traceback (most recent call last)",
      "Input \u001b[0;32mIn [106]\u001b[0m, in \u001b[0;36m<module>\u001b[0;34m\u001b[0m\n\u001b[0;32m----> 1\u001b[0m \u001b[43mevolution\u001b[49m\u001b[43m(\u001b[49m\u001b[43mx\u001b[49m\u001b[38;5;241;43m=\u001b[39;49m\u001b[43mfashion_mnist\u001b[49m\u001b[38;5;241;43m.\u001b[39;49m\u001b[43mX_train_norm\u001b[49m\u001b[43m,\u001b[49m\u001b[43m \u001b[49m\u001b[43my\u001b[49m\u001b[38;5;241;43m=\u001b[39;49m\u001b[43mfashion_mnist\u001b[49m\u001b[38;5;241;43m.\u001b[39;49m\u001b[43my_train\u001b[49m\u001b[43m,\u001b[49m\u001b[43m \u001b[49m\u001b[43mvalidation_data\u001b[49m\u001b[38;5;241;43m=\u001b[39;49m\u001b[43m(\u001b[49m\u001b[43mfashion_mnist\u001b[49m\u001b[38;5;241;43m.\u001b[39;49m\u001b[43mX_test_norm\u001b[49m\u001b[43m,\u001b[49m\u001b[43m \u001b[49m\u001b[43mfashion_mnist\u001b[49m\u001b[38;5;241;43m.\u001b[39;49m\u001b[43my_test\u001b[49m\u001b[43m)\u001b[49m\u001b[43m,\u001b[49m\n\u001b[1;32m      2\u001b[0m \u001b[43m          \u001b[49m\u001b[43mbatch_size\u001b[49m\u001b[38;5;241;43m=\u001b[39;49m\u001b[38;5;241;43m32\u001b[39;49m\u001b[43m,\u001b[49m\u001b[43m \u001b[49m\u001b[43mlayer_sizes\u001b[49m\u001b[38;5;241;43m=\u001b[39;49m\u001b[43m[\u001b[49m\u001b[38;5;241;43m50\u001b[39;49m\u001b[43m,\u001b[49m\u001b[43m \u001b[49m\u001b[38;5;241;43m50\u001b[39;49m\u001b[43m,\u001b[49m\u001b[43m \u001b[49m\u001b[38;5;241;43m50\u001b[39;49m\u001b[43m,\u001b[49m\u001b[43m \u001b[49m\u001b[38;5;241;43m50\u001b[39;49m\u001b[43m,\u001b[49m\u001b[43m \u001b[49m\u001b[38;5;241;43m50\u001b[39;49m\u001b[43m]\u001b[49m\u001b[43m,\u001b[49m\u001b[43m \u001b[49m\u001b[43moutput_neurons\u001b[49m\u001b[38;5;241;43m=\u001b[39;49m\u001b[38;5;241;43m10\u001b[39;49m\u001b[43m,\u001b[49m\u001b[43m \u001b[49m\u001b[43mlearning_rate\u001b[49m\u001b[38;5;241;43m=\u001b[39;49m\u001b[38;5;241;43m0.0004\u001b[39;49m\u001b[43m,\u001b[49m\u001b[43m \u001b[49m\u001b[43mmutation_strength\u001b[49m\u001b[38;5;241;43m=\u001b[39;49m\u001b[38;5;241;43m0.01\u001b[39;49m\u001b[43m,\u001b[49m\u001b[43m \u001b[49m\u001b[43mpopulation_size\u001b[49m\u001b[38;5;241;43m=\u001b[39;49m\u001b[38;5;241;43m3\u001b[39;49m\u001b[43m)\u001b[49m\n",
      "Input \u001b[0;32mIn [105]\u001b[0m, in \u001b[0;36mevolution\u001b[0;34m(x, y, validation_data, batch_size, layer_sizes, output_neurons, learning_rate, mutation_strength, population_size, n_generations, tournament_size, elitism, min_new_neurons, growth_percentage)\u001b[0m\n\u001b[1;32m     88\u001b[0m     best_individual \u001b[38;5;241m=\u001b[39m get_best_individual(population)\n\u001b[1;32m     89\u001b[0m     population \u001b[38;5;241m=\u001b[39m mutation(population, mutation_strength)\n\u001b[0;32m---> 90\u001b[0m population \u001b[38;5;241m=\u001b[39m \u001b[43mtraining\u001b[49m\u001b[43m(\u001b[49m\u001b[43mpopulation\u001b[49m\u001b[43m,\u001b[49m\u001b[43m \u001b[49m\u001b[43mx\u001b[49m\u001b[43m,\u001b[49m\u001b[43m \u001b[49m\u001b[43my\u001b[49m\u001b[43m,\u001b[49m\u001b[43m \u001b[49m\u001b[43mvalidation_data\u001b[49m\u001b[43m,\u001b[49m\u001b[43m \u001b[49m\u001b[43mbatch_size\u001b[49m\u001b[43m,\u001b[49m\u001b[43m \u001b[49m\u001b[43mmin_new_neurons\u001b[49m\u001b[43m,\u001b[49m\u001b[43m \u001b[49m\n\u001b[1;32m     91\u001b[0m \u001b[43m                      \u001b[49m\u001b[43mgrowth_percentage\u001b[49m\u001b[43m,\u001b[49m\u001b[43m \u001b[49m\u001b[43mverbose\u001b[49m\u001b[38;5;241;43m=\u001b[39;49m\u001b[38;5;28;43;01mFalse\u001b[39;49;00m\u001b[43m,\u001b[49m\u001b[43m \u001b[49m\u001b[43muse_static_graph\u001b[49m\u001b[38;5;241;43m=\u001b[39;49m\u001b[38;5;28;43;01mTrue\u001b[39;49;00m\u001b[43m)\u001b[49m\n\u001b[1;32m     92\u001b[0m population \u001b[38;5;241m=\u001b[39m tournament_selection(population, population_size, tournament_size)\n\u001b[1;32m     93\u001b[0m \u001b[38;5;28;01mif\u001b[39;00m elitism \u001b[38;5;129;01mand\u001b[39;00m generation \u001b[38;5;241m>\u001b[39m \u001b[38;5;241m0\u001b[39m:\n",
      "Input \u001b[0;32mIn [105]\u001b[0m, in \u001b[0;36mtraining\u001b[0;34m(population, x, y, validation_data, batch_size, min_new_neurons, growth_percentage, verbose, use_static_graph)\u001b[0m\n\u001b[1;32m     49\u001b[0m     optimizer \u001b[38;5;241m=\u001b[39m individual\u001b[38;5;241m.\u001b[39moptimizer\n\u001b[1;32m     50\u001b[0m     schedule \u001b[38;5;241m=\u001b[39m Schedule([StaticEpochNoRegularization()])\n\u001b[0;32m---> 51\u001b[0m     history \u001b[38;5;241m=\u001b[39m \u001b[43mmodel\u001b[49m\u001b[38;5;241;43m.\u001b[39;49m\u001b[43mfit\u001b[49m\u001b[43m(\u001b[49m\u001b[43mx\u001b[49m\u001b[38;5;241;43m=\u001b[39;49m\u001b[43mx\u001b[49m\u001b[43m,\u001b[49m\u001b[43m \u001b[49m\u001b[43my\u001b[49m\u001b[38;5;241;43m=\u001b[39;49m\u001b[43my\u001b[49m\u001b[43m,\u001b[49m\u001b[43m \u001b[49m\u001b[43moptimizer\u001b[49m\u001b[38;5;241;43m=\u001b[39;49m\u001b[43moptimizer\u001b[49m\u001b[43m,\u001b[49m\u001b[43m \u001b[49m\u001b[43mschedule\u001b[49m\u001b[38;5;241;43m=\u001b[39;49m\u001b[43mschedule\u001b[49m\u001b[43m,\u001b[49m\u001b[43m \u001b[49m\u001b[43mbatch_size\u001b[49m\u001b[38;5;241;43m=\u001b[39;49m\u001b[43mbatch_size\u001b[49m\u001b[43m,\u001b[49m\u001b[43m \u001b[49m\u001b[43mmin_new_neurons\u001b[49m\u001b[38;5;241;43m=\u001b[39;49m\u001b[43mmin_new_neurons\u001b[49m\u001b[43m,\u001b[49m\u001b[43m \u001b[49m\n\u001b[1;32m     52\u001b[0m \u001b[43m                        \u001b[49m\u001b[43mvalidation_data\u001b[49m\u001b[38;5;241;43m=\u001b[39;49m\u001b[43mvalidation_data\u001b[49m\u001b[43m,\u001b[49m\u001b[43m \u001b[49m\u001b[43mgrowth_percentage\u001b[49m\u001b[38;5;241;43m=\u001b[39;49m\u001b[43mgrowth_percentage\u001b[49m\u001b[43m,\u001b[49m\u001b[43m \u001b[49m\u001b[43mverbose\u001b[49m\u001b[38;5;241;43m=\u001b[39;49m\u001b[43mverbose\u001b[49m\u001b[43m,\u001b[49m\u001b[43m \u001b[49m\u001b[43muse_static_graph\u001b[49m\u001b[38;5;241;43m=\u001b[39;49m\u001b[43muse_static_graph\u001b[49m\u001b[43m)\u001b[49m\n\u001b[1;32m     53\u001b[0m     extend_history(individual\u001b[38;5;241m.\u001b[39mhistory, history)\n\u001b[1;32m     54\u001b[0m \u001b[38;5;28;01mreturn\u001b[39;00m population\n",
      "Input \u001b[0;32mIn [86]\u001b[0m, in \u001b[0;36mSequential.fit\u001b[0;34m(self, x, y, optimizer, schedule, batch_size, min_new_neurons, validation_data, pruning_threshold, regularization_penalty_multiplier, stall_coefficient, growth_percentage, mini_epochs_per_epoch, verbose, print_neurons, use_static_graph, loss_fn, metric_fn)\u001b[0m\n\u001b[1;32m    891\u001b[0m \u001b[38;5;28;01mif\u001b[39;00m epoch\u001b[38;5;241m.\u001b[39mgrow:\n\u001b[1;32m    892\u001b[0m     \u001b[38;5;28mself\u001b[39m\u001b[38;5;241m.\u001b[39mgrow_wrapper(params)\n\u001b[0;32m--> 894\u001b[0m summed_loss, summed_metric \u001b[38;5;241m=\u001b[39m \u001b[38;5;28;43mself\u001b[39;49m\u001b[38;5;241;43m.\u001b[39;49m\u001b[43mfit_single_epoch\u001b[49m\u001b[43m(\u001b[49m\u001b[43mparams\u001b[49m\u001b[43m)\u001b[49m\n\u001b[1;32m    896\u001b[0m \u001b[38;5;28;01mif\u001b[39;00m epoch\u001b[38;5;241m.\u001b[39mprune:\n\u001b[1;32m    897\u001b[0m     \u001b[38;5;28mself\u001b[39m\u001b[38;5;241m.\u001b[39mprune_wrapper(params, summed_loss, summed_metric)\n",
      "Input \u001b[0;32mIn [86]\u001b[0m, in \u001b[0;36mSequential.fit_single_epoch\u001b[0;34m(self, params)\u001b[0m\n\u001b[1;32m    866\u001b[0m     fit_single_step_function \u001b[38;5;241m=\u001b[39m \u001b[38;5;28mself\u001b[39m\u001b[38;5;241m.\u001b[39mfit_single_step\n\u001b[1;32m    867\u001b[0m \u001b[38;5;28;01mfor\u001b[39;00m step, (x_batch, y_batch) \u001b[38;5;129;01min\u001b[39;00m \u001b[38;5;28menumerate\u001b[39m(params\u001b[38;5;241m.\u001b[39mtrain_dataset):\n\u001b[0;32m--> 868\u001b[0m     loss, metric \u001b[38;5;241m=\u001b[39m \u001b[43mfit_single_step_function\u001b[49m\u001b[43m(\u001b[49m\u001b[43mparams\u001b[49m\u001b[43m,\u001b[49m\u001b[43m \u001b[49m\u001b[43mx_batch\u001b[49m\u001b[43m,\u001b[49m\u001b[43m \u001b[49m\u001b[43my_batch\u001b[49m\u001b[43m)\u001b[49m\n\u001b[1;32m    869\u001b[0m     summed_loss \u001b[38;5;241m+\u001b[39m\u001b[38;5;241m=\u001b[39m loss\n\u001b[1;32m    870\u001b[0m     summed_metric \u001b[38;5;241m+\u001b[39m\u001b[38;5;241m=\u001b[39m metric\n",
      "File \u001b[0;32m~/self-scaling-nets/.venv/lib/python3.8/site-packages/tensorflow/python/util/traceback_utils.py:150\u001b[0m, in \u001b[0;36mfilter_traceback.<locals>.error_handler\u001b[0;34m(*args, **kwargs)\u001b[0m\n\u001b[1;32m    148\u001b[0m filtered_tb \u001b[38;5;241m=\u001b[39m \u001b[38;5;28;01mNone\u001b[39;00m\n\u001b[1;32m    149\u001b[0m \u001b[38;5;28;01mtry\u001b[39;00m:\n\u001b[0;32m--> 150\u001b[0m   \u001b[38;5;28;01mreturn\u001b[39;00m \u001b[43mfn\u001b[49m\u001b[43m(\u001b[49m\u001b[38;5;241;43m*\u001b[39;49m\u001b[43margs\u001b[49m\u001b[43m,\u001b[49m\u001b[43m \u001b[49m\u001b[38;5;241;43m*\u001b[39;49m\u001b[38;5;241;43m*\u001b[39;49m\u001b[43mkwargs\u001b[49m\u001b[43m)\u001b[49m\n\u001b[1;32m    151\u001b[0m \u001b[38;5;28;01mexcept\u001b[39;00m \u001b[38;5;167;01mException\u001b[39;00m \u001b[38;5;28;01mas\u001b[39;00m e:\n\u001b[1;32m    152\u001b[0m   filtered_tb \u001b[38;5;241m=\u001b[39m _process_traceback_frames(e\u001b[38;5;241m.\u001b[39m__traceback__)\n",
      "File \u001b[0;32m~/self-scaling-nets/.venv/lib/python3.8/site-packages/tensorflow/python/eager/def_function.py:915\u001b[0m, in \u001b[0;36mFunction.__call__\u001b[0;34m(self, *args, **kwds)\u001b[0m\n\u001b[1;32m    912\u001b[0m compiler \u001b[38;5;241m=\u001b[39m \u001b[38;5;124m\"\u001b[39m\u001b[38;5;124mxla\u001b[39m\u001b[38;5;124m\"\u001b[39m \u001b[38;5;28;01mif\u001b[39;00m \u001b[38;5;28mself\u001b[39m\u001b[38;5;241m.\u001b[39m_jit_compile \u001b[38;5;28;01melse\u001b[39;00m \u001b[38;5;124m\"\u001b[39m\u001b[38;5;124mnonXla\u001b[39m\u001b[38;5;124m\"\u001b[39m\n\u001b[1;32m    914\u001b[0m \u001b[38;5;28;01mwith\u001b[39;00m OptionalXlaContext(\u001b[38;5;28mself\u001b[39m\u001b[38;5;241m.\u001b[39m_jit_compile):\n\u001b[0;32m--> 915\u001b[0m   result \u001b[38;5;241m=\u001b[39m \u001b[38;5;28;43mself\u001b[39;49m\u001b[38;5;241;43m.\u001b[39;49m\u001b[43m_call\u001b[49m\u001b[43m(\u001b[49m\u001b[38;5;241;43m*\u001b[39;49m\u001b[43margs\u001b[49m\u001b[43m,\u001b[49m\u001b[43m \u001b[49m\u001b[38;5;241;43m*\u001b[39;49m\u001b[38;5;241;43m*\u001b[39;49m\u001b[43mkwds\u001b[49m\u001b[43m)\u001b[49m\n\u001b[1;32m    917\u001b[0m new_tracing_count \u001b[38;5;241m=\u001b[39m \u001b[38;5;28mself\u001b[39m\u001b[38;5;241m.\u001b[39mexperimental_get_tracing_count()\n\u001b[1;32m    918\u001b[0m without_tracing \u001b[38;5;241m=\u001b[39m (tracing_count \u001b[38;5;241m==\u001b[39m new_tracing_count)\n",
      "File \u001b[0;32m~/self-scaling-nets/.venv/lib/python3.8/site-packages/tensorflow/python/eager/def_function.py:947\u001b[0m, in \u001b[0;36mFunction._call\u001b[0;34m(self, *args, **kwds)\u001b[0m\n\u001b[1;32m    944\u001b[0m   \u001b[38;5;28mself\u001b[39m\u001b[38;5;241m.\u001b[39m_lock\u001b[38;5;241m.\u001b[39mrelease()\n\u001b[1;32m    945\u001b[0m   \u001b[38;5;66;03m# In this case we have created variables on the first call, so we run the\u001b[39;00m\n\u001b[1;32m    946\u001b[0m   \u001b[38;5;66;03m# defunned version which is guaranteed to never create variables.\u001b[39;00m\n\u001b[0;32m--> 947\u001b[0m   \u001b[38;5;28;01mreturn\u001b[39;00m \u001b[38;5;28;43mself\u001b[39;49m\u001b[38;5;241;43m.\u001b[39;49m\u001b[43m_stateless_fn\u001b[49m\u001b[43m(\u001b[49m\u001b[38;5;241;43m*\u001b[39;49m\u001b[43margs\u001b[49m\u001b[43m,\u001b[49m\u001b[43m \u001b[49m\u001b[38;5;241;43m*\u001b[39;49m\u001b[38;5;241;43m*\u001b[39;49m\u001b[43mkwds\u001b[49m\u001b[43m)\u001b[49m  \u001b[38;5;66;03m# pylint: disable=not-callable\u001b[39;00m\n\u001b[1;32m    948\u001b[0m \u001b[38;5;28;01melif\u001b[39;00m \u001b[38;5;28mself\u001b[39m\u001b[38;5;241m.\u001b[39m_stateful_fn \u001b[38;5;129;01mis\u001b[39;00m \u001b[38;5;129;01mnot\u001b[39;00m \u001b[38;5;28;01mNone\u001b[39;00m:\n\u001b[1;32m    949\u001b[0m   \u001b[38;5;66;03m# Release the lock early so that multiple threads can perform the call\u001b[39;00m\n\u001b[1;32m    950\u001b[0m   \u001b[38;5;66;03m# in parallel.\u001b[39;00m\n\u001b[1;32m    951\u001b[0m   \u001b[38;5;28mself\u001b[39m\u001b[38;5;241m.\u001b[39m_lock\u001b[38;5;241m.\u001b[39mrelease()\n",
      "File \u001b[0;32m~/self-scaling-nets/.venv/lib/python3.8/site-packages/tensorflow/python/eager/function.py:2956\u001b[0m, in \u001b[0;36mFunction.__call__\u001b[0;34m(self, *args, **kwargs)\u001b[0m\n\u001b[1;32m   2953\u001b[0m \u001b[38;5;28;01mwith\u001b[39;00m \u001b[38;5;28mself\u001b[39m\u001b[38;5;241m.\u001b[39m_lock:\n\u001b[1;32m   2954\u001b[0m   (graph_function,\n\u001b[1;32m   2955\u001b[0m    filtered_flat_args) \u001b[38;5;241m=\u001b[39m \u001b[38;5;28mself\u001b[39m\u001b[38;5;241m.\u001b[39m_maybe_define_function(args, kwargs)\n\u001b[0;32m-> 2956\u001b[0m \u001b[38;5;28;01mreturn\u001b[39;00m \u001b[43mgraph_function\u001b[49m\u001b[38;5;241;43m.\u001b[39;49m\u001b[43m_call_flat\u001b[49m\u001b[43m(\u001b[49m\n\u001b[1;32m   2957\u001b[0m \u001b[43m    \u001b[49m\u001b[43mfiltered_flat_args\u001b[49m\u001b[43m,\u001b[49m\u001b[43m \u001b[49m\u001b[43mcaptured_inputs\u001b[49m\u001b[38;5;241;43m=\u001b[39;49m\u001b[43mgraph_function\u001b[49m\u001b[38;5;241;43m.\u001b[39;49m\u001b[43mcaptured_inputs\u001b[49m\u001b[43m)\u001b[49m\n",
      "File \u001b[0;32m~/self-scaling-nets/.venv/lib/python3.8/site-packages/tensorflow/python/eager/function.py:1853\u001b[0m, in \u001b[0;36mConcreteFunction._call_flat\u001b[0;34m(self, args, captured_inputs, cancellation_manager)\u001b[0m\n\u001b[1;32m   1849\u001b[0m possible_gradient_type \u001b[38;5;241m=\u001b[39m gradients_util\u001b[38;5;241m.\u001b[39mPossibleTapeGradientTypes(args)\n\u001b[1;32m   1850\u001b[0m \u001b[38;5;28;01mif\u001b[39;00m (possible_gradient_type \u001b[38;5;241m==\u001b[39m gradients_util\u001b[38;5;241m.\u001b[39mPOSSIBLE_GRADIENT_TYPES_NONE\n\u001b[1;32m   1851\u001b[0m     \u001b[38;5;129;01mand\u001b[39;00m executing_eagerly):\n\u001b[1;32m   1852\u001b[0m   \u001b[38;5;66;03m# No tape is watching; skip to running the function.\u001b[39;00m\n\u001b[0;32m-> 1853\u001b[0m   \u001b[38;5;28;01mreturn\u001b[39;00m \u001b[38;5;28mself\u001b[39m\u001b[38;5;241m.\u001b[39m_build_call_outputs(\u001b[38;5;28;43mself\u001b[39;49m\u001b[38;5;241;43m.\u001b[39;49m\u001b[43m_inference_function\u001b[49m\u001b[38;5;241;43m.\u001b[39;49m\u001b[43mcall\u001b[49m\u001b[43m(\u001b[49m\n\u001b[1;32m   1854\u001b[0m \u001b[43m      \u001b[49m\u001b[43mctx\u001b[49m\u001b[43m,\u001b[49m\u001b[43m \u001b[49m\u001b[43margs\u001b[49m\u001b[43m,\u001b[49m\u001b[43m \u001b[49m\u001b[43mcancellation_manager\u001b[49m\u001b[38;5;241;43m=\u001b[39;49m\u001b[43mcancellation_manager\u001b[49m\u001b[43m)\u001b[49m)\n\u001b[1;32m   1855\u001b[0m forward_backward \u001b[38;5;241m=\u001b[39m \u001b[38;5;28mself\u001b[39m\u001b[38;5;241m.\u001b[39m_select_forward_and_backward_functions(\n\u001b[1;32m   1856\u001b[0m     args,\n\u001b[1;32m   1857\u001b[0m     possible_gradient_type,\n\u001b[1;32m   1858\u001b[0m     executing_eagerly)\n\u001b[1;32m   1859\u001b[0m forward_function, args_with_tangents \u001b[38;5;241m=\u001b[39m forward_backward\u001b[38;5;241m.\u001b[39mforward()\n",
      "File \u001b[0;32m~/self-scaling-nets/.venv/lib/python3.8/site-packages/tensorflow/python/eager/function.py:499\u001b[0m, in \u001b[0;36m_EagerDefinedFunction.call\u001b[0;34m(self, ctx, args, cancellation_manager)\u001b[0m\n\u001b[1;32m    497\u001b[0m \u001b[38;5;28;01mwith\u001b[39;00m _InterpolateFunctionError(\u001b[38;5;28mself\u001b[39m):\n\u001b[1;32m    498\u001b[0m   \u001b[38;5;28;01mif\u001b[39;00m cancellation_manager \u001b[38;5;129;01mis\u001b[39;00m \u001b[38;5;28;01mNone\u001b[39;00m:\n\u001b[0;32m--> 499\u001b[0m     outputs \u001b[38;5;241m=\u001b[39m \u001b[43mexecute\u001b[49m\u001b[38;5;241;43m.\u001b[39;49m\u001b[43mexecute\u001b[49m\u001b[43m(\u001b[49m\n\u001b[1;32m    500\u001b[0m \u001b[43m        \u001b[49m\u001b[38;5;28;43mstr\u001b[39;49m\u001b[43m(\u001b[49m\u001b[38;5;28;43mself\u001b[39;49m\u001b[38;5;241;43m.\u001b[39;49m\u001b[43msignature\u001b[49m\u001b[38;5;241;43m.\u001b[39;49m\u001b[43mname\u001b[49m\u001b[43m)\u001b[49m\u001b[43m,\u001b[49m\n\u001b[1;32m    501\u001b[0m \u001b[43m        \u001b[49m\u001b[43mnum_outputs\u001b[49m\u001b[38;5;241;43m=\u001b[39;49m\u001b[38;5;28;43mself\u001b[39;49m\u001b[38;5;241;43m.\u001b[39;49m\u001b[43m_num_outputs\u001b[49m\u001b[43m,\u001b[49m\n\u001b[1;32m    502\u001b[0m \u001b[43m        \u001b[49m\u001b[43minputs\u001b[49m\u001b[38;5;241;43m=\u001b[39;49m\u001b[43margs\u001b[49m\u001b[43m,\u001b[49m\n\u001b[1;32m    503\u001b[0m \u001b[43m        \u001b[49m\u001b[43mattrs\u001b[49m\u001b[38;5;241;43m=\u001b[39;49m\u001b[43mattrs\u001b[49m\u001b[43m,\u001b[49m\n\u001b[1;32m    504\u001b[0m \u001b[43m        \u001b[49m\u001b[43mctx\u001b[49m\u001b[38;5;241;43m=\u001b[39;49m\u001b[43mctx\u001b[49m\u001b[43m)\u001b[49m\n\u001b[1;32m    505\u001b[0m   \u001b[38;5;28;01melse\u001b[39;00m:\n\u001b[1;32m    506\u001b[0m     outputs \u001b[38;5;241m=\u001b[39m execute\u001b[38;5;241m.\u001b[39mexecute_with_cancellation(\n\u001b[1;32m    507\u001b[0m         \u001b[38;5;28mstr\u001b[39m(\u001b[38;5;28mself\u001b[39m\u001b[38;5;241m.\u001b[39msignature\u001b[38;5;241m.\u001b[39mname),\n\u001b[1;32m    508\u001b[0m         num_outputs\u001b[38;5;241m=\u001b[39m\u001b[38;5;28mself\u001b[39m\u001b[38;5;241m.\u001b[39m_num_outputs,\n\u001b[0;32m   (...)\u001b[0m\n\u001b[1;32m    511\u001b[0m         ctx\u001b[38;5;241m=\u001b[39mctx,\n\u001b[1;32m    512\u001b[0m         cancellation_manager\u001b[38;5;241m=\u001b[39mcancellation_manager)\n",
      "File \u001b[0;32m~/self-scaling-nets/.venv/lib/python3.8/site-packages/tensorflow/python/eager/execute.py:54\u001b[0m, in \u001b[0;36mquick_execute\u001b[0;34m(op_name, num_outputs, inputs, attrs, ctx, name)\u001b[0m\n\u001b[1;32m     52\u001b[0m \u001b[38;5;28;01mtry\u001b[39;00m:\n\u001b[1;32m     53\u001b[0m   ctx\u001b[38;5;241m.\u001b[39mensure_initialized()\n\u001b[0;32m---> 54\u001b[0m   tensors \u001b[38;5;241m=\u001b[39m \u001b[43mpywrap_tfe\u001b[49m\u001b[38;5;241;43m.\u001b[39;49m\u001b[43mTFE_Py_Execute\u001b[49m\u001b[43m(\u001b[49m\u001b[43mctx\u001b[49m\u001b[38;5;241;43m.\u001b[39;49m\u001b[43m_handle\u001b[49m\u001b[43m,\u001b[49m\u001b[43m \u001b[49m\u001b[43mdevice_name\u001b[49m\u001b[43m,\u001b[49m\u001b[43m \u001b[49m\u001b[43mop_name\u001b[49m\u001b[43m,\u001b[49m\n\u001b[1;32m     55\u001b[0m \u001b[43m                                      \u001b[49m\u001b[43minputs\u001b[49m\u001b[43m,\u001b[49m\u001b[43m \u001b[49m\u001b[43mattrs\u001b[49m\u001b[43m,\u001b[49m\u001b[43m \u001b[49m\u001b[43mnum_outputs\u001b[49m\u001b[43m)\u001b[49m\n\u001b[1;32m     56\u001b[0m \u001b[38;5;28;01mexcept\u001b[39;00m core\u001b[38;5;241m.\u001b[39m_NotOkStatusException \u001b[38;5;28;01mas\u001b[39;00m e:\n\u001b[1;32m     57\u001b[0m   \u001b[38;5;28;01mif\u001b[39;00m name \u001b[38;5;129;01mis\u001b[39;00m \u001b[38;5;129;01mnot\u001b[39;00m \u001b[38;5;28;01mNone\u001b[39;00m:\n",
      "\u001b[0;31mKeyboardInterrupt\u001b[0m: "
     ]
    }
   ],
   "source": [
    "evolution(x=fashion_mnist.X_train_norm, y=fashion_mnist.y_train, validation_data=(fashion_mnist.X_test_norm, fashion_mnist.y_test),\n",
    "          batch_size=32, layer_sizes=[50, 50, 50, 50, 50], output_neurons=10, learning_rate=0.0004, mutation_strength=0.01, population_size=3)"
   ]
  },
  {
   "cell_type": "code",
   "execution_count": null,
   "metadata": {},
   "outputs": [],
   "source": [
    "%%time\n",
    "\n",
    "# schedule = Schedule([DynamicEpoch(0.00002, 'weighted_l1')] * 2)\n",
    "schedule = Schedule([StaticEpoch(0, None)] * 2)\n",
    "train_fn_conv(x=fashion_mnist.X_train_norm, y=fashion_mnist.y_train, validation_data=(fashion_mnist.X_test_norm, fashion_mnist.y_test), \n",
    "              learning_rate=0.0004, schedule=schedule, layer_sizes=[100, 100, 100, 100, 100], output_neurons=10, min_new_neurons=20, \n",
    "              growth_percentage=0.2, verbose=True, use_static_graph=True)"
   ]
  },
  {
   "cell_type": "markdown",
   "metadata": {
    "id": "l1MrQXUTFwOe"
   },
   "source": [
    "# Backup/legacy code"
   ]
  },
  {
   "cell_type": "code",
   "execution_count": 6,
   "metadata": {
    "colab": {
     "base_uri": "https://localhost:8080/"
    },
    "id": "inX5FRt-Y53t",
    "outputId": "ddad03c9-4ad3-4a37-e111-f037be63a779"
   },
   "outputs": [],
   "source": [
    "fifteen_puzzle = get_fifteen_puzzle_dataset(frac=0.1, path='../../datasets/15-costs-v3.csv')"
   ]
  },
  {
   "cell_type": "markdown",
   "metadata": {
    "id": "DmHiH81CFaNX"
   },
   "source": [
    "## Initial experiments"
   ]
  },
  {
   "cell_type": "code",
   "execution_count": null,
   "metadata": {
    "colab": {
     "base_uri": "https://localhost:8080/"
    },
    "id": "ax1rlsHUVOSP",
    "outputId": "d5a2d05e-15ae-49ef-809d-604bd1452930"
   },
   "outputs": [
    {
     "name": "stdout",
     "output_type": "stream",
     "text": [
      "Run with parameters (0.0001, ec4ba8ef9e, [100, 100, 100, 100, 100], 20, 0.2) completed, best_val_loss: 3.039858102798462, best_val_metric: 3.0398601992289227, best_hidden_layer_sizes: [101, 99, 82, 72, 79]\n",
      "Run with parameters (0.0002, ec4ba8ef9e, [100, 100, 100, 100, 100], 20, 0.2) completed, best_val_loss: 2.956960439682007, best_val_metric: 2.9569619714101156, best_hidden_layer_sizes: [94, 85, 62, 50, 77]\n",
      "Run with parameters (0.0004, ec4ba8ef9e, [100, 100, 100, 100, 100], 20, 0.2) completed, best_val_loss: 2.9267945289611816, best_val_metric: 2.9267937890370685, best_hidden_layer_sizes: [77, 68, 50, 35, 53]\n",
      "Run with parameters (0.0008, ec4ba8ef9e, [100, 100, 100, 100, 100], 20, 0.2) completed, best_val_loss: 2.94132661819458, best_val_metric: 2.941324608548482, best_hidden_layer_sizes: [72, 54, 38, 30, 41]\n",
      "Best overall combination: (0.0004, ec4ba8ef9e, [100, 100, 100, 100, 100], 20, 0.2), val_metric: 2.9267937890370685\n",
      "CPU times: user 1h 20min 16s, sys: 5min 13s, total: 1h 25min 30s\n",
      "Wall time: 1h 6min 42s\n"
     ]
    }
   ],
   "source": [
    "%%time\n",
    "\n",
    "schedule = Schedule([DynamicEpoch(0.00002, 'weighted_l1')] * 20 + [StaticEpochNoRegularization()] * 20)\n",
    "histories, best_overall_combination = hyperparameter_search(train_fn_dense, x=fifteen_puzzle.X_train_norm, y=fifteen_puzzle.y_train, validation_data=(fifteen_puzzle.X_test_norm, fifteen_puzzle.y_test), \n",
    "                                  learning_rate=[0.0001, 0.0002, 0.0004, 0.0008], schedule=[schedule], layer_sizes=[[100, 100, 100, 100, 100]], min_new_neurons=[20], growth_percentage=[0.2])"
   ]
  },
  {
   "cell_type": "code",
   "execution_count": null,
   "metadata": {
    "colab": {
     "base_uri": "https://localhost:8080/"
    },
    "id": "PhbV7w8JeJaW",
    "outputId": "f826fb21-234c-4656-fc68-c3b2b9219f0d"
   },
   "outputs": [
    {
     "name": "stdout",
     "output_type": "stream",
     "text": [
      "Run with parameters (0.0004, ec4ba8ef9e, [100, 100, 100], 20, 0.2) completed, best_val_loss: 2.893465995788574, best_val_metric: 2.893465918413798, best_hidden_layer_sizes: [81, 69, 59]\n",
      "Run with parameters (0.0004, ec4ba8ef9e, [100, 100, 100, 100], 20, 0.2) completed, best_val_loss: 2.8984928131103516, best_val_metric: 2.898493129603068, best_hidden_layer_sizes: [81, 70, 46, 53]\n",
      "Run with parameters (0.0004, ec4ba8ef9e, [100, 100, 100, 100, 100, 100], 20, 0.2) completed, best_val_loss: 2.950408935546875, best_val_metric: 2.950408981259664, best_hidden_layer_sizes: [70, 66, 46, 40, 36, 54]\n",
      "Best overall combination: (0.0004, ec4ba8ef9e, [100, 100, 100], 20, 0.2), val_metric: 2.893465918413798\n",
      "CPU times: user 57min 6s, sys: 3min 57s, total: 1h 1min 3s\n",
      "Wall time: 46min 46s\n"
     ]
    }
   ],
   "source": [
    "%%time\n",
    "\n",
    "schedule = Schedule([DynamicEpoch(0.00002, 'weighted_l1')] * 20 + [StaticEpochNoRegularization()] * 20)\n",
    "histories, best_overall_combination = hyperparameter_search(train_fn_dense, x=fifteen_puzzle.X_train_norm, y=fifteen_puzzle.y_train, validation_data=(fifteen_puzzle.X_test_norm, fifteen_puzzle.y_test), \n",
    "                                  learning_rate=[0.0004], schedule=[schedule], layer_sizes=[[100, 100, 100], [100, 100, 100, 100], [100, 100, 100, 100, 100, 100]], min_new_neurons=[20], growth_percentage=[0.2])"
   ]
  },
  {
   "cell_type": "code",
   "execution_count": null,
   "metadata": {
    "colab": {
     "base_uri": "https://localhost:8080/"
    },
    "id": "8PgNN5qpcl_4",
    "outputId": "5d338afd-35fb-40eb-ed72-2b18574649d7"
   },
   "outputs": [
    {
     "name": "stdout",
     "output_type": "stream",
     "text": [
      "Run 0 completed, best_val_loss: 2.904087781906128, best_val_metric: 2.9040905364990235, best_hidden_layer_sizes: [74, 61, 48, 29, 56]\n",
      "Run 1 completed, best_val_loss: 2.919710874557495, best_val_metric: 2.919709808031718, best_hidden_layer_sizes: [73, 62, 43, 42, 72]\n",
      "Run 2 completed, best_val_loss: 2.9525623321533203, best_val_metric: 2.952562971750895, best_hidden_layer_sizes: [74, 65, 49, 37, 67]\n",
      "Run 3 completed, best_val_loss: 2.962514638900757, best_val_metric: 2.962513312784831, best_hidden_layer_sizes: [71, 64, 46, 39, 55]\n",
      "Run 4 completed, best_val_loss: 2.925581216812134, best_val_metric: 2.9255805986404417, best_hidden_layer_sizes: [82, 64, 45, 34, 54]\n",
      "mean_best_val_loss: 2.932891368865967\n",
      "mean_best_val_metric: 2.932891445541382\n",
      "mean_best_hidden_layer_sizes: [74.8, 63.2, 46.2, 36.2, 60.8]\n",
      "CPU times: user 1h 40min 9s, sys: 6min 27s, total: 1h 46min 37s\n",
      "Wall time: 1h 23min 12s\n"
     ]
    }
   ],
   "source": [
    "%%time\n",
    "\n",
    "schedule = Schedule([DynamicEpoch(0.00002, 'weighted_l1')] * 20 + [StaticEpochNoRegularization()] * 20)\n",
    "histories, mean_best_hidden_layer_sizes = cross_validate(\n",
    "    train_fn_dense, fifteen_puzzle.X_norm, fifteen_puzzle.y, n_splits=5, learning_rate=0.0004,\n",
    "    schedule=schedule, layer_sizes=[100, 100, 100, 100, 100], min_new_neurons=20, growth_percentage=0.2\n",
    ")"
   ]
  },
  {
   "cell_type": "code",
   "execution_count": null,
   "metadata": {
    "colab": {
     "base_uri": "https://localhost:8080/"
    },
    "id": "r8p5etI8w--r",
    "outputId": "131ef276-0b6e-4bbc-e874-863e2d68f9b5"
   },
   "outputs": [
    {
     "data": {
      "text/plain": [
       "[75, 63, 46, 36, 61]"
      ]
     },
     "execution_count": 50,
     "metadata": {},
     "output_type": "execute_result"
    }
   ],
   "source": [
    "rounded_mean_best_hidden_layer_sizes = [round(x) for x in mean_best_hidden_layer_sizes]\n",
    "rounded_mean_best_hidden_layer_sizes"
   ]
  },
  {
   "cell_type": "code",
   "execution_count": null,
   "metadata": {
    "colab": {
     "base_uri": "https://localhost:8080/"
    },
    "id": "xg8DNeKFU7Sb",
    "outputId": "7b632ad3-64ed-4d96-80f8-b710ff273245"
   },
   "outputs": [
    {
     "name": "stdout",
     "output_type": "stream",
     "text": [
      "Run with parameters (0.0002, f4be7cd642, [75, 63, 46, 36, 61], 20, 0.2) completed, best_val_loss: 3.1596522331237793, best_val_metric: 3.1596531849543252, best_hidden_layer_sizes: [75, 63, 46, 36, 61]\n",
      "Run with parameters (0.0004, f4be7cd642, [75, 63, 46, 36, 61], 20, 0.2) completed, best_val_loss: 3.166121006011963, best_val_metric: 3.166121029917399, best_hidden_layer_sizes: [75, 63, 46, 36, 61]\n",
      "Run with parameters (0.0008, f4be7cd642, [75, 63, 46, 36, 61], 20, 0.2) completed, best_val_loss: 3.1791553497314453, best_val_metric: 3.179156540679932, best_hidden_layer_sizes: [75, 63, 46, 36, 61]\n",
      "Best overall combination: (0.0002, f4be7cd642, [75, 63, 46, 36, 61], 20, 0.2), val_metric: 3.1596531849543252\n",
      "CPU times: user 53min 47s, sys: 4min 12s, total: 58min\n",
      "Wall time: 43min 52s\n"
     ]
    }
   ],
   "source": [
    "%%time\n",
    "\n",
    "schedule = Schedule([StaticEpoch(0.00002, 'weighted_l1')] * 40)\n",
    "histories, best_overall_combination = hyperparameter_search(train_fn_dense, x=fifteen_puzzle.X_train_norm, y=fifteen_puzzle.y_train, validation_data=(fifteen_puzzle.X_test_norm, fifteen_puzzle.y_test), \n",
    "                                  learning_rate=[0.0002, 0.0004, 0.0008], schedule=[schedule], layer_sizes=[[75, 63, 46, 36, 61]], min_new_neurons=[20], growth_percentage=[0.2])"
   ]
  },
  {
   "cell_type": "code",
   "execution_count": null,
   "metadata": {
    "colab": {
     "base_uri": "https://localhost:8080/"
    },
    "id": "Iq_70prO-RTo",
    "outputId": "ec7bb150-c91d-45a4-d81f-33ce09a13a37"
   },
   "outputs": [
    {
     "name": "stdout",
     "output_type": "stream",
     "text": [
      "Run with parameters (0.0002, 865b7710ae, [75, 63, 46, 36, 61], 20, 0.2) completed, best_val_loss: 3.098813772201538, best_val_metric: 3.0988129020055135, best_hidden_layer_sizes: [74, 63, 38, 26, 46]\n",
      "Run with parameters (0.0004, 865b7710ae, [75, 63, 46, 36, 61], 20, 0.2) completed, best_val_loss: 3.0654916763305664, best_val_metric: 3.065490784772237, best_hidden_layer_sizes: [69, 54, 33, 26, 34]\n",
      "Run with parameters (0.0008, 865b7710ae, [75, 63, 46, 36, 61], 20, 0.2) completed, best_val_loss: 3.1625664234161377, best_val_metric: 3.162564050102234, best_hidden_layer_sizes: [60, 48, 25, 18, 32]\n",
      "Run with parameters (0.0016, 865b7710ae, [75, 63, 46, 36, 61], 20, 0.2) completed, best_val_loss: 3.306314468383789, best_val_metric: 3.3063176750183105, best_hidden_layer_sizes: [55, 38, 22, 6, 32]\n",
      "Best overall combination: (0.0004, 865b7710ae, [75, 63, 46, 36, 61], 20, 0.2), val_metric: 3.065490784772237\n",
      "CPU times: user 1h 31min 28s, sys: 6min 15s, total: 1h 37min 44s\n",
      "Wall time: 1h 16min 27s\n"
     ]
    }
   ],
   "source": [
    "%%time\n",
    "\n",
    "schedule = Schedule([Epoch(False, True, 0.00002, 'weighted_l1')] * 40)\n",
    "histories, best_overall_combination = hyperparameter_search(train_fn_dense, x=fifteen_puzzle.X_train_norm, y=fifteen_puzzle.y_train, validation_data=(fifteen_puzzle.X_test_norm, fifteen_puzzle.y_test), \n",
    "                                  learning_rate=[0.0002, 0.0004, 0.0008, 0.0016], schedule=[schedule], layer_sizes=[[75, 63, 46, 36, 61]], min_new_neurons=[20], growth_percentage=[0.2])"
   ]
  },
  {
   "cell_type": "code",
   "execution_count": null,
   "metadata": {
    "colab": {
     "base_uri": "https://localhost:8080/"
    },
    "id": "OWuA6-IeE9-S",
    "outputId": "600defdb-39c9-48af-f59e-10b2413a4be3"
   },
   "outputs": [
    {
     "name": "stdout",
     "output_type": "stream",
     "text": [
      "Run with parameters (0.0002, 758db6f544, [75, 63, 46, 36, 61], 20, 0.2) completed, best_val_loss: 3.034520149230957, best_val_metric: 3.0345184495925905, best_hidden_layer_sizes: [75, 63, 44, 34, 57]\n",
      "Run with parameters (0.0004, 758db6f544, [75, 63, 46, 36, 61], 20, 0.2) completed, best_val_loss: 3.012483835220337, best_val_metric: 3.0124841642379763, best_hidden_layer_sizes: [70, 58, 39, 29, 46]\n",
      "Run with parameters (0.0008, 758db6f544, [75, 63, 46, 36, 61], 20, 0.2) completed, best_val_loss: 3.0713231563568115, best_val_metric: 3.0713238510131835, best_hidden_layer_sizes: [62, 46, 34, 21, 41]\n",
      "Best overall combination: (0.0004, 758db6f544, [75, 63, 46, 36, 61], 20, 0.2), val_metric: 3.0124841642379763\n",
      "CPU times: user 56min 45s, sys: 3min 50s, total: 1h 35s\n",
      "Wall time: 47min 2s\n"
     ]
    }
   ],
   "source": [
    "%%time\n",
    "\n",
    "schedule = Schedule([Epoch(False, True, 0.00002, 'weighted_l1')] * 20 + [StaticEpochNoRegularization()] * 20)\n",
    "histories, best_overall_combination = hyperparameter_search(train_fn_dense, x=fifteen_puzzle.X_train_norm, y=fifteen_puzzle.y_train, validation_data=(fifteen_puzzle.X_test_norm, fifteen_puzzle.y_test), \n",
    "                                  learning_rate=[0.0002, 0.0004, 0.0008], schedule=[schedule], layer_sizes=[[75, 63, 46, 36, 61]], min_new_neurons=[20], growth_percentage=[0.2])"
   ]
  },
  {
   "cell_type": "code",
   "execution_count": null,
   "metadata": {
    "colab": {
     "base_uri": "https://localhost:8080/"
    },
    "id": "KBIQ7p0-WS3L",
    "outputId": "9d8ede5b-7672-4dc3-a20c-38a2dc7f32f5"
   },
   "outputs": [
    {
     "name": "stdout",
     "output_type": "stream",
     "text": [
      "Run with parameters (0.0001, 4a0f172746, [75, 63, 46, 36, 61], 20, 0.2) completed, best_val_loss: 3.2360363006591797, best_val_metric: 3.2360342480977375, best_hidden_layer_sizes: [75, 63, 46, 36, 61]\n",
      "Run with parameters (0.0002, 4a0f172746, [75, 63, 46, 36, 61], 20, 0.2) completed, best_val_loss: 3.1187660694122314, best_val_metric: 3.1187653325398763, best_hidden_layer_sizes: [75, 63, 46, 36, 61]\n",
      "Run with parameters (0.0004, 4a0f172746, [75, 63, 46, 36, 61], 20, 0.2) completed, best_val_loss: 3.0409252643585205, best_val_metric: 3.040923890368144, best_hidden_layer_sizes: [75, 63, 46, 36, 61]\n",
      "Run with parameters (0.0008, 4a0f172746, [75, 63, 46, 36, 61], 20, 0.2) completed, best_val_loss: 2.9896745681762695, best_val_metric: 2.9896753575642903, best_hidden_layer_sizes: [75, 63, 46, 36, 61]\n",
      "Run with parameters (0.0016, 4a0f172746, [75, 63, 46, 36, 61], 20, 0.2) completed, best_val_loss: 3.0057926177978516, best_val_metric: 3.00579637482961, best_hidden_layer_sizes: [75, 63, 46, 36, 61]\n",
      "Best overall combination: (0.0008, 4a0f172746, [75, 63, 46, 36, 61], 20, 0.2), val_metric: 2.9896753575642903\n",
      "CPU times: user 1h 19min 45s, sys: 5min 11s, total: 1h 24min 57s\n",
      "Wall time: 1h 5min 11s\n"
     ]
    }
   ],
   "source": [
    "%%time\n",
    "\n",
    "schedule = Schedule([StaticEpochNoRegularization()] * 40)\n",
    "histories, best_overall_combination = hyperparameter_search(train_fn_dense, x=fifteen_puzzle.X_train_norm, y=fifteen_puzzle.y_train, validation_data=(fifteen_puzzle.X_test_norm, fifteen_puzzle.y_test), \n",
    "                                  learning_rate=[0.0001, 0.0002, 0.0004, 0.0008, 0.0016], schedule=[schedule], layer_sizes=[[75, 63, 46, 36, 61]], min_new_neurons=[20], growth_percentage=[0.2])"
   ]
  },
  {
   "cell_type": "markdown",
   "metadata": {
    "id": "F-x4E6-GFhbu"
   },
   "source": [
    "## Analysis"
   ]
  },
  {
   "cell_type": "markdown",
   "metadata": {
    "id": "xrwYZdeXGHFy"
   },
   "source": [
    "(optimal learning rate discovered before in an unsaved experiment)"
   ]
  },
  {
   "cell_type": "code",
   "execution_count": null,
   "metadata": {
    "colab": {
     "base_uri": "https://localhost:8080/"
    },
    "id": "zBGKdAlNF3Gv",
    "outputId": "b9268a9d-2ff3-4d10-fe1a-3d1dc9abfae1"
   },
   "outputs": [
    {
     "data": {
      "text/plain": [
       "(63612c7cd8, e21964ad65, 3d7a8a48c3, ec4ba8ef9e, aa54b0cdf3)"
      ]
     },
     "execution_count": 18,
     "metadata": {},
     "output_type": "execute_result"
    }
   ],
   "source": [
    "schedule1 = Schedule([DynamicEpoch(0.02, 'weighted_l1')] * 20 + [StaticEpochNoRegularization()] * 20)\n",
    "schedule2 = Schedule([DynamicEpoch(0.002, 'weighted_l1')] * 20 + [StaticEpochNoRegularization()] * 20)\n",
    "schedule3 = Schedule([DynamicEpoch(0.0002, 'weighted_l1')] * 20 + [StaticEpochNoRegularization()] * 20)\n",
    "schedule4 = Schedule([DynamicEpoch(0.00002, 'weighted_l1')] * 20 + [StaticEpochNoRegularization()] * 20)\n",
    "schedule5 = Schedule([DynamicEpoch(0.000002, 'weighted_l1')] * 20 + [StaticEpochNoRegularization()] * 20)\n",
    "schedule1, schedule2, schedule3, schedule4, schedule5"
   ]
  },
  {
   "cell_type": "code",
   "execution_count": null,
   "metadata": {
    "colab": {
     "base_uri": "https://localhost:8080/"
    },
    "id": "CBWaqhVzFiy_",
    "outputId": "25254c54-2cfd-403d-c008-62d45ef22a4e"
   },
   "outputs": [
    {
     "name": "stdout",
     "output_type": "stream",
     "text": [
      "Run with parameters (0.0001, 63612c7cd8, [50, 50, 50, 50, 50], 20, 0.2) completed, best_val_loss: 7.895392417907715, best_val_metric: 7.895395995585123, best_hidden_layer_sizes: [6, 7, 6, 5, 9]\n",
      "Run with parameters (0.0001, e21964ad65, [50, 50, 50, 50, 50], 20, 0.2) completed, best_val_loss: 5.2360992431640625, best_val_metric: 5.236101945495605, best_hidden_layer_sizes: [17, 14, 19, 10, 37]\n",
      "Run with parameters (0.0001, 3d7a8a48c3, [50, 50, 50, 50, 50], 20, 0.2) completed, best_val_loss: 3.7483973503112793, best_val_metric: 3.748396063741048, best_hidden_layer_sizes: [53, 44, 41, 34, 47]\n",
      "Run with parameters (0.0001, ec4ba8ef9e, [50, 50, 50, 50, 50], 20, 0.2) completed, best_val_loss: 3.6022067070007324, best_val_metric: 3.6022059979756675, best_hidden_layer_sizes: [78, 70, 67, 69, 59]\n",
      "Run with parameters (0.0001, aa54b0cdf3, [50, 50, 50, 50, 50], 20, 0.2) completed, best_val_loss: 3.2772884368896484, best_val_metric: 3.277293793741862, best_hidden_layer_sizes: [188, 107, 81, 71, 70]\n",
      "Best overall combination: (0.0001, aa54b0cdf3, [50, 50, 50, 50, 50], 20, 0.2), val_metric: 3.277293793741862\n",
      "CPU times: user 47min 44s, sys: 3min 10s, total: 50min 54s\n",
      "Wall time: 39min 36s\n"
     ]
    }
   ],
   "source": [
    "%%time\n",
    "\n",
    "histories, best_overall_combination = hyperparameter_search(train_fn_dense, x=fifteen_puzzle.X_train_norm, y=fifteen_puzzle.y_train, validation_data=(fifteen_puzzle.X_test_norm, fifteen_puzzle.y_test), \n",
    "                                  learning_rate=[0.0001], schedule=[schedule1, schedule2, schedule3, schedule4, schedule5], layer_sizes=[[50, 50, 50, 50, 50]], min_new_neurons=[20], growth_percentage=[0.2])"
   ]
  },
  {
   "cell_type": "code",
   "execution_count": 32,
   "metadata": {
    "id": "Y1JVndKOvNn8"
   },
   "outputs": [],
   "source": [
    "results = {\n",
    "    'layer_sizes': [[6, 7, 6, 5, 9], [17, 14, 19, 10, 37], [53, 44, 41, 34, 47], [78, 70, 67, 69, 59], [188, 107, 81, 71, 70]],\n",
    "    'metric': [7.895395995585123, 5.236101945495605, 3.748396063741048, 3.6022059979756675, 3.277293793741862],\n",
    "}"
   ]
  },
  {
   "cell_type": "code",
   "execution_count": 70,
   "metadata": {
    "id": "RtHAmHZ0v3AF"
   },
   "outputs": [],
   "source": [
    "def count_params(layer_sizes):\n",
    "    model = get_dense_model(fifteen_puzzle.X_norm, layer_sizes=layer_sizes)\n",
    "    model.build(fifteen_puzzle.X_norm.shape)\n",
    "    return model.list_params()[0]"
   ]
  },
  {
   "cell_type": "code",
   "execution_count": 73,
   "metadata": {
    "colab": {
     "base_uri": "https://localhost:8080/"
    },
    "id": "CDVG-FudvyeO",
    "outputId": "714b32a2-a512-419d-c0a3-18686aa228e3"
   },
   "outputs": [
    {
     "name": "stdout",
     "output_type": "stream",
     "text": [
      "Total params: 1,738.0\n",
      "Trainable params: 1,738\n",
      "Non-trainable params: 0.0\n",
      "Total params: 5,551.0\n",
      "Trainable params: 5,551\n",
      "Non-trainable params: 0.0\n",
      "Total params: 20,963.0\n",
      "Trainable params: 20,963\n",
      "Non-trainable params: 0.0\n",
      "Total params: 39,215.0\n",
      "Trainable params: 39,215\n",
      "Non-trainable params: 0.0\n",
      "Total params: 88,220.0\n",
      "Trainable params: 88,220\n",
      "Non-trainable params: 0.0\n"
     ]
    }
   ],
   "source": [
    "results['parameters'] = [count_params(layer_sizes) for layer_sizes in results['layer_sizes']]"
   ]
  },
  {
   "cell_type": "code",
   "execution_count": 74,
   "metadata": {
    "colab": {
     "base_uri": "https://localhost:8080/"
    },
    "id": "H1hJgO__wVBL",
    "outputId": "f7831afc-bd71-444b-cbef-c93f05c38538"
   },
   "outputs": [
    {
     "data": {
      "text/plain": [
       "{'layer_sizes': [[6, 7, 6, 5, 9],\n",
       "  [17, 14, 19, 10, 37],\n",
       "  [53, 44, 41, 34, 47],\n",
       "  [78, 70, 67, 69, 59],\n",
       "  [188, 107, 81, 71, 70]],\n",
       " 'metric': [7.895395995585123,\n",
       "  5.236101945495605,\n",
       "  3.748396063741048,\n",
       "  3.6022059979756675,\n",
       "  3.277293793741862],\n",
       " 'parameters': [1738.0, 5551.0, 20963.0, 39215.0, 88220.0]}"
      ]
     },
     "execution_count": 74,
     "metadata": {},
     "output_type": "execute_result"
    }
   ],
   "source": [
    "results"
   ]
  },
  {
   "cell_type": "code",
   "execution_count": 29,
   "metadata": {
    "colab": {
     "base_uri": "https://localhost:8080/"
    },
    "id": "6jpw4_FYFi1Y",
    "outputId": "44b4147e-fd33-4b29-ea41-043b7908b370"
   },
   "outputs": [
    {
     "name": "stdout",
     "output_type": "stream",
     "text": [
      "Total params: 20,963.0\n",
      "Trainable params: 20,963\n",
      "Non-trainable params: 0.0\n"
     ]
    },
    {
     "data": {
      "text/plain": [
       "(20963.0, 20963, 0.0)"
      ]
     },
     "execution_count": 29,
     "metadata": {},
     "output_type": "execute_result"
    }
   ],
   "source": [
    "model = get_dense_model(fifteen_puzzle.X_norm, layer_sizes=[53, 44, 41, 34, 47])\n",
    "model.build(fifteen_puzzle.X_norm.shape)\n",
    "model.list_params()"
   ]
  },
  {
   "cell_type": "code",
   "execution_count": 30,
   "metadata": {
    "colab": {
     "base_uri": "https://localhost:8080/"
    },
    "id": "3dmmxb3eFi4P",
    "outputId": "2ac4d2db-9293-457f-b5a7-77e79f6559b2"
   },
   "outputs": [
    {
     "name": "stdout",
     "output_type": "stream",
     "text": [
      "Run with parameters (0.0001, d60ab0bdd4, [50, 50, 50, 50, 50], 20, 0.2) completed, best_val_loss: 3.4640121459960938, best_val_metric: 3.4640125198364258, best_hidden_layer_sizes: [145, 72, 60, 39, 46]\n",
      "Best overall combination: (0.0001, d60ab0bdd4, [50, 50, 50, 50, 50], 20, 0.2), val_metric: 3.4640125198364258\n",
      "CPU times: user 10min 29s, sys: 47.7 s, total: 11min 16s\n",
      "Wall time: 8min 43s\n"
     ]
    }
   ],
   "source": [
    "%%time\n",
    "\n",
    "schedule = Schedule([DynamicEpoch(0.014, 'group_sparsity')] * 20 + [StaticEpochNoRegularization()] * 20)\n",
    "histories, best_overall_combination = hyperparameter_search(train_fn_dense, x=fifteen_puzzle.X_train_norm, y=fifteen_puzzle.y_train, validation_data=(fifteen_puzzle.X_test_norm, fifteen_puzzle.y_test), \n",
    "                                  learning_rate=[0.0001], schedule=[schedule], layer_sizes=[[50, 50, 50, 50, 50]], min_new_neurons=[20], growth_percentage=[0.2])"
   ]
  },
  {
   "cell_type": "code",
   "execution_count": 31,
   "metadata": {
    "colab": {
     "base_uri": "https://localhost:8080/"
    },
    "id": "evb9wwxPvH59",
    "outputId": "6588c81d-dacb-4a37-d894-7ac83599bfec"
   },
   "outputs": [
    {
     "name": "stdout",
     "output_type": "stream",
     "text": [
      "Total params: 56,423.0\n",
      "Trainable params: 56,423\n",
      "Non-trainable params: 0.0\n"
     ]
    },
    {
     "data": {
      "text/plain": [
       "(56423.0, 56423, 0.0)"
      ]
     },
     "execution_count": 31,
     "metadata": {},
     "output_type": "execute_result"
    }
   ],
   "source": [
    "model = get_dense_model(fifteen_puzzle.X_norm, layer_sizes=[145, 72, 60, 39, 46])\n",
    "model.build(fifteen_puzzle.X_norm.shape)\n",
    "model.list_params()"
   ]
  },
  {
   "cell_type": "code",
   "execution_count": 75,
   "metadata": {
    "colab": {
     "base_uri": "https://localhost:8080/"
    },
    "id": "ScPDkvZ_zvKw",
    "outputId": "283ec4ae-5a72-465c-d1f5-881b7a791d2f"
   },
   "outputs": [
    {
     "name": "stdout",
     "output_type": "stream",
     "text": [
      "Run with parameters (0.0001, fb58024a1e, [50, 50, 50, 50, 50], 20, 0.2) completed, best_val_loss: 3.6967666149139404, best_val_metric: 3.6967637550354002, best_hidden_layer_sizes: [70, 55, 39, 26, 40]\n",
      "Best overall combination: (0.0001, fb58024a1e, [50, 50, 50, 50, 50], 20, 0.2), val_metric: 3.6967637550354002\n",
      "CPU times: user 10min 46s, sys: 52.6 s, total: 11min 38s\n",
      "Wall time: 8min 54s\n"
     ]
    }
   ],
   "source": [
    "%%time\n",
    "\n",
    "schedule = Schedule([DynamicEpoch(0.025, 'group_sparsity')] * 20 + [StaticEpochNoRegularization()] * 20)\n",
    "histories, best_overall_combination = hyperparameter_search(train_fn_dense, x=fifteen_puzzle.X_train_norm, y=fifteen_puzzle.y_train, validation_data=(fifteen_puzzle.X_test_norm, fifteen_puzzle.y_test), \n",
    "                                  learning_rate=[0.0001], schedule=[schedule], layer_sizes=[[50, 50, 50, 50, 50]], min_new_neurons=[20], growth_percentage=[0.2])"
   ]
  },
  {
   "cell_type": "code",
   "execution_count": 76,
   "metadata": {
    "colab": {
     "base_uri": "https://localhost:8080/"
    },
    "id": "l9359RJJz0Tp",
    "outputId": "d944e200-268e-44a1-f6a9-a628758775e6"
   },
   "outputs": [
    {
     "name": "stdout",
     "output_type": "stream",
     "text": [
      "Total params: 26,240.0\n",
      "Trainable params: 26,240\n",
      "Non-trainable params: 0.0\n"
     ]
    },
    {
     "data": {
      "text/plain": [
       "(26240.0, 26240, 0.0)"
      ]
     },
     "execution_count": 76,
     "metadata": {},
     "output_type": "execute_result"
    }
   ],
   "source": [
    "model = get_dense_model(fifteen_puzzle.X_norm, layer_sizes=[70, 55, 39, 26, 40])\n",
    "model.build(fifteen_puzzle.X_norm.shape)\n",
    "model.list_params()"
   ]
  },
  {
   "cell_type": "code",
   "execution_count": 77,
   "metadata": {
    "colab": {
     "base_uri": "https://localhost:8080/"
    },
    "id": "ywAcIx6m2Cyf",
    "outputId": "710677e0-f8b2-40e7-dc6e-08d3bf1b6fcd"
   },
   "outputs": [
    {
     "name": "stdout",
     "output_type": "stream",
     "text": [
      "Run with parameters (5e-05, fb58024a1e, [50, 50, 50, 50, 50], 20, 0.2) completed, best_val_loss: 3.906001329421997, best_val_metric: 3.906002077738444, best_hidden_layer_sizes: [95, 71, 41, 40, 41]\n",
      "Run with parameters (0.0002, fb58024a1e, [50, 50, 50, 50, 50], 20, 0.2) completed, best_val_loss: 3.5222976207733154, best_val_metric: 3.522301047770182, best_hidden_layer_sizes: [81, 43, 28, 14, 33]\n",
      "Run with parameters (0.0004, fb58024a1e, [50, 50, 50, 50, 50], 20, 0.2) completed, best_val_loss: 3.5619845390319824, best_val_metric: 3.561984175872803, best_hidden_layer_sizes: [506, 29, 20, 7, 30]\n",
      "Best overall combination: (0.0002, fb58024a1e, [50, 50, 50, 50, 50], 20, 0.2), val_metric: 3.522301047770182\n",
      "CPU times: user 31min 24s, sys: 2min 22s, total: 33min 46s\n",
      "Wall time: 26min 2s\n"
     ]
    }
   ],
   "source": [
    "%%time\n",
    "\n",
    "schedule = Schedule([DynamicEpoch(0.025, 'group_sparsity')] * 20 + [StaticEpochNoRegularization()] * 20)\n",
    "histories, best_overall_combination = hyperparameter_search(train_fn_dense, x=fifteen_puzzle.X_train_norm, y=fifteen_puzzle.y_train, validation_data=(fifteen_puzzle.X_test_norm, fifteen_puzzle.y_test), \n",
    "                                  learning_rate=[0.00005, 0.0002, 0.0004], schedule=[schedule], layer_sizes=[[50, 50, 50, 50, 50]], min_new_neurons=[20], growth_percentage=[0.2])"
   ]
  },
  {
   "cell_type": "code",
   "execution_count": 78,
   "metadata": {
    "colab": {
     "base_uri": "https://localhost:8080/"
    },
    "id": "JcTP6m4e12MT",
    "outputId": "f4bf5177-8c76-4e0d-8466-e635e313a0f1"
   },
   "outputs": [
    {
     "name": "stdout",
     "output_type": "stream",
     "text": [
      "Total params: 26,510.0\n",
      "Trainable params: 26,510\n",
      "Non-trainable params: 0.0\n"
     ]
    },
    {
     "data": {
      "text/plain": [
       "(26510.0, 26510, 0.0)"
      ]
     },
     "execution_count": 78,
     "metadata": {},
     "output_type": "execute_result"
    }
   ],
   "source": [
    "model = get_dense_model(fifteen_puzzle.X_norm, layer_sizes=[81, 43, 28, 14, 33])\n",
    "model.build(fifteen_puzzle.X_norm.shape)\n",
    "model.list_params()"
   ]
  },
  {
   "cell_type": "code",
   "execution_count": 80,
   "metadata": {
    "colab": {
     "base_uri": "https://localhost:8080/"
    },
    "id": "yYp69HOf12bo",
    "outputId": "ba6e5b37-a6d6-451f-9f4c-2b62b0d21a81"
   },
   "outputs": [
    {
     "name": "stdout",
     "output_type": "stream",
     "text": [
      "Run with parameters (0.0002, e444d238f4, [50, 50, 50, 50, 50], 20, 0.2) completed, best_val_loss: 4.2375640869140625, best_val_metric: 4.237564324442546, best_hidden_layer_sizes: [68, 27, 21, 7, 32]\n",
      "Best overall combination: (0.0002, e444d238f4, [50, 50, 50, 50, 50], 20, 0.2), val_metric: 4.237564324442546\n",
      "CPU times: user 6min 18s, sys: 29.6 s, total: 6min 48s\n",
      "Wall time: 5min 17s\n"
     ]
    }
   ],
   "source": [
    "%%time\n",
    "\n",
    "schedule = Schedule([DynamicEpoch(0.05, 'group_sparsity')] * 20)\n",
    "histories, best_overall_combination = hyperparameter_search(train_fn_dense, x=fifteen_puzzle.X_train_norm, y=fifteen_puzzle.y_train, validation_data=(fifteen_puzzle.X_test_norm, fifteen_puzzle.y_test), \n",
    "                                  learning_rate=[0.0002], schedule=[schedule], layer_sizes=[[50, 50, 50, 50, 50]], min_new_neurons=[20], growth_percentage=[0.2])"
   ]
  },
  {
   "cell_type": "code",
   "execution_count": 81,
   "metadata": {
    "colab": {
     "base_uri": "https://localhost:8080/"
    },
    "id": "0x1Niqgm91HG",
    "outputId": "47383019-7dae-4e15-a676-e2bac1c74500"
   },
   "outputs": [
    {
     "name": "stdout",
     "output_type": "stream",
     "text": [
      "Total params: 20,370.0\n",
      "Trainable params: 20,370\n",
      "Non-trainable params: 0.0\n"
     ]
    },
    {
     "data": {
      "text/plain": [
       "(20370.0, 20370, 0.0)"
      ]
     },
     "execution_count": 81,
     "metadata": {},
     "output_type": "execute_result"
    }
   ],
   "source": [
    "model = get_dense_model(fifteen_puzzle.X_norm, layer_sizes=[68, 27, 21, 7, 32])\n",
    "model.build(fifteen_puzzle.X_norm.shape)\n",
    "model.list_params()"
   ]
  },
  {
   "cell_type": "code",
   "execution_count": 82,
   "metadata": {
    "colab": {
     "base_uri": "https://localhost:8080/"
    },
    "id": "h-x8163Q98Qi",
    "outputId": "25b58661-4065-4ab8-c0b2-774c3bdfb1ca"
   },
   "outputs": [
    {
     "name": "stdout",
     "output_type": "stream",
     "text": [
      "Run with parameters (0.0002, 21122241f9, [50, 50, 50, 50, 50], 20, 0.2) completed, best_val_loss: 4.940470218658447, best_val_metric: 4.940467148844401, best_hidden_layer_sizes: [46, 22, 16, 6, 36]\n",
      "Best overall combination: (0.0002, 21122241f9, [50, 50, 50, 50, 50], 20, 0.2), val_metric: 4.940467148844401\n",
      "CPU times: user 6min 19s, sys: 32.7 s, total: 6min 51s\n",
      "Wall time: 5min 15s\n"
     ]
    }
   ],
   "source": [
    "%%time\n",
    "\n",
    "schedule = Schedule([DynamicEpoch(0.1, 'group_sparsity')] * 20)\n",
    "histories, best_overall_combination = hyperparameter_search(train_fn_dense, x=fifteen_puzzle.X_train_norm, y=fifteen_puzzle.y_train, validation_data=(fifteen_puzzle.X_test_norm, fifteen_puzzle.y_test), \n",
    "                                  learning_rate=[0.0002], schedule=[schedule], layer_sizes=[[50, 50, 50, 50, 50]], min_new_neurons=[20], growth_percentage=[0.2])"
   ]
  },
  {
   "cell_type": "code",
   "execution_count": 83,
   "metadata": {
    "colab": {
     "base_uri": "https://localhost:8080/"
    },
    "id": "86sSGDAJ_MvK",
    "outputId": "b4dc3272-f632-48be-c0f1-8aafe07dd61b"
   },
   "outputs": [
    {
     "name": "stdout",
     "output_type": "stream",
     "text": [
      "Total params: 13,615.0\n",
      "Trainable params: 13,615\n",
      "Non-trainable params: 0.0\n"
     ]
    },
    {
     "data": {
      "text/plain": [
       "(13615.0, 13615, 0.0)"
      ]
     },
     "execution_count": 83,
     "metadata": {},
     "output_type": "execute_result"
    }
   ],
   "source": [
    "model = get_dense_model(fifteen_puzzle.X_norm, layer_sizes=[46, 22, 16, 6, 36])\n",
    "model.build(fifteen_puzzle.X_norm.shape)\n",
    "model.list_params()"
   ]
  },
  {
   "cell_type": "code",
   "execution_count": 84,
   "metadata": {
    "colab": {
     "base_uri": "https://localhost:8080/"
    },
    "id": "NHxoXMtN_RsK",
    "outputId": "afee8376-d808-4ea8-e436-9521ae3d74d9"
   },
   "outputs": [
    {
     "name": "stdout",
     "output_type": "stream",
     "text": [
      "Run with parameters (0.0002, 9662dde589, [50, 50, 50, 50, 50], 20, 0.2) completed, best_val_loss: 7.821518898010254, best_val_metric: 7.8215184455871585, best_hidden_layer_sizes: [7, 5, 2, 3, 21]\n",
      "Best overall combination: (0.0002, 9662dde589, [50, 50, 50, 50, 50], 20, 0.2), val_metric: 7.8215184455871585\n",
      "CPU times: user 5min 54s, sys: 27.3 s, total: 6min 22s\n",
      "Wall time: 4min 55s\n"
     ]
    }
   ],
   "source": [
    "%%time\n",
    "\n",
    "schedule = Schedule([DynamicEpoch(0.5, 'group_sparsity')] * 20)\n",
    "histories, best_overall_combination = hyperparameter_search(train_fn_dense, x=fifteen_puzzle.X_train_norm, y=fifteen_puzzle.y_train, validation_data=(fifteen_puzzle.X_test_norm, fifteen_puzzle.y_test), \n",
    "                                  learning_rate=[0.0002], schedule=[schedule], layer_sizes=[[50, 50, 50, 50, 50]], min_new_neurons=[20], growth_percentage=[0.2])"
   ]
  },
  {
   "cell_type": "code",
   "execution_count": 85,
   "metadata": {
    "colab": {
     "base_uri": "https://localhost:8080/"
    },
    "id": "okAm3DGEApnb",
    "outputId": "fb914604-d88b-4454-8cf0-275257abdfa3"
   },
   "outputs": [
    {
     "name": "stdout",
     "output_type": "stream",
     "text": [
      "Total params: 1,966.0\n",
      "Trainable params: 1,966\n",
      "Non-trainable params: 0.0\n"
     ]
    },
    {
     "data": {
      "text/plain": [
       "(1966.0, 1966, 0.0)"
      ]
     },
     "execution_count": 85,
     "metadata": {},
     "output_type": "execute_result"
    }
   ],
   "source": [
    "model = get_dense_model(fifteen_puzzle.X_norm, layer_sizes=[7, 5, 2, 3, 21])\n",
    "model.build(fifteen_puzzle.X_norm.shape)\n",
    "model.list_params()"
   ]
  },
  {
   "cell_type": "code",
   "execution_count": 86,
   "metadata": {
    "id": "QWoPugjhA0Fd"
   },
   "outputs": [],
   "source": [
    "results_group_sparsity = {\n",
    "    'layer_sizes': [[145, 72, 60, 39, 46], [70, 55, 39, 26, 40], [81, 43, 28, 14, 33], [68, 27, 21, 7, 32], [46, 22, 16, 6, 36], [7, 5, 2, 3, 21]],\n",
    "    'metric': [3.4640125198364258, 3.6967637550354002, 3.522301047770182, 4.237564324442546, 4.940467148844401, 7.8215184455871585],\n",
    "}"
   ]
  },
  {
   "cell_type": "code",
   "execution_count": 87,
   "metadata": {
    "colab": {
     "base_uri": "https://localhost:8080/"
    },
    "id": "A5h3PgK-_TK4",
    "outputId": "d9ffe1da-3b2b-4d1d-b9dd-e0e587adf884"
   },
   "outputs": [
    {
     "name": "stdout",
     "output_type": "stream",
     "text": [
      "Total params: 56,423.0\n",
      "Trainable params: 56,423\n",
      "Non-trainable params: 0.0\n",
      "Total params: 26,240.0\n",
      "Trainable params: 26,240\n",
      "Non-trainable params: 0.0\n",
      "Total params: 26,510.0\n",
      "Trainable params: 26,510\n",
      "Non-trainable params: 0.0\n",
      "Total params: 20,370.0\n",
      "Trainable params: 20,370\n",
      "Non-trainable params: 0.0\n",
      "Total params: 13,615.0\n",
      "Trainable params: 13,615\n",
      "Non-trainable params: 0.0\n",
      "Total params: 1,966.0\n",
      "Trainable params: 1,966\n",
      "Non-trainable params: 0.0\n"
     ]
    }
   ],
   "source": [
    "results_group_sparsity['parameters'] = [count_params(layer_sizes) for layer_sizes in results_group_sparsity['layer_sizes']]"
   ]
  },
  {
   "cell_type": "code",
   "execution_count": 88,
   "metadata": {
    "colab": {
     "base_uri": "https://localhost:8080/"
    },
    "id": "hOcztJgPBxMP",
    "outputId": "2188366c-458a-4a25-c45e-d5f73df46cf7"
   },
   "outputs": [
    {
     "data": {
      "text/plain": [
       "{'layer_sizes': [[145, 72, 60, 39, 46],\n",
       "  [70, 55, 39, 26, 40],\n",
       "  [81, 43, 28, 14, 33],\n",
       "  [68, 27, 21, 7, 32],\n",
       "  [46, 22, 16, 6, 36],\n",
       "  [7, 5, 2, 3, 21]],\n",
       " 'metric': [3.4640125198364258,\n",
       "  3.6967637550354002,\n",
       "  3.522301047770182,\n",
       "  4.237564324442546,\n",
       "  4.940467148844401,\n",
       "  7.8215184455871585],\n",
       " 'parameters': [56423.0, 26240.0, 26510.0, 20370.0, 13615.0, 1966.0]}"
      ]
     },
     "execution_count": 88,
     "metadata": {},
     "output_type": "execute_result"
    }
   ],
   "source": [
    "results_group_sparsity"
   ]
  },
  {
   "cell_type": "code",
   "execution_count": 95,
   "metadata": {
    "colab": {
     "base_uri": "https://localhost:8080/"
    },
    "id": "4A2lelb4B7Bf",
    "outputId": "bce18a8a-48e8-4172-c593-9d88d1893f01"
   },
   "outputs": [
    {
     "data": {
      "text/plain": [
       "(9d4d2cd7ac,\n",
       " a92b731227,\n",
       " 2aa4d689eb,\n",
       " f0d96212e6,\n",
       " ee5c896eb9,\n",
       " db867b524a,\n",
       " ddb3901a26)"
      ]
     },
     "execution_count": 95,
     "metadata": {},
     "output_type": "execute_result"
    }
   ],
   "source": [
    "schedule1 = Schedule([DynamicEpoch(0.64, 'group_sparsity')] * 20 + [StaticEpochNoRegularization()] * 20)\n",
    "schedule2 = Schedule([DynamicEpoch(0.32, 'group_sparsity')] * 20 + [StaticEpochNoRegularization()] * 20)\n",
    "schedule3 = Schedule([DynamicEpoch(0.16, 'group_sparsity')] * 20 + [StaticEpochNoRegularization()] * 20)\n",
    "schedule4 = Schedule([DynamicEpoch(0.08, 'group_sparsity')] * 20 + [StaticEpochNoRegularization()] * 20)\n",
    "schedule5 = Schedule([DynamicEpoch(0.04, 'group_sparsity')] * 20 + [StaticEpochNoRegularization()] * 20)\n",
    "schedule6 = Schedule([DynamicEpoch(0.02, 'group_sparsity')] * 20 + [StaticEpochNoRegularization()] * 20)\n",
    "schedule7 = Schedule([DynamicEpoch(0.01, 'group_sparsity')] * 20 + [StaticEpochNoRegularization()] * 20)\n",
    "schedule1, schedule2, schedule3, schedule4, schedule5, schedule6, schedule7"
   ]
  },
  {
   "cell_type": "code",
   "execution_count": 96,
   "metadata": {
    "colab": {
     "base_uri": "https://localhost:8080/"
    },
    "id": "l6KF62kDCiFq",
    "outputId": "1ea38143-d91b-4017-ad0d-04aa123824cf"
   },
   "outputs": [
    {
     "name": "stdout",
     "output_type": "stream",
     "text": [
      "Run with parameters (0.0002, 9d4d2cd7ac, [50, 50, 50, 50, 50], 20, 0.2) completed, best_val_loss: 7.816653251647949, best_val_metric: 7.816650481669108, best_hidden_layer_sizes: [6, 5, 3, 2, 25]\n",
      "Run with parameters (0.0002, a92b731227, [50, 50, 50, 50, 50], 20, 0.2) completed, best_val_loss: 6.2568254470825195, best_val_metric: 6.256829022216797, best_hidden_layer_sizes: [13, 5, 4, 3, 25]\n",
      "Run with parameters (0.0002, 2aa4d689eb, [50, 50, 50, 50, 50], 20, 0.2) completed, best_val_loss: 4.77005672454834, best_val_metric: 4.770055681355794, best_hidden_layer_sizes: [21, 9, 5, 5, 37]\n",
      "Run with parameters (0.0002, f0d96212e6, [50, 50, 50, 50, 50], 20, 0.2) completed, best_val_loss: 4.03034782409668, best_val_metric: 4.030349810028076, best_hidden_layer_sizes: [52, 19, 19, 6, 30]\n",
      "Run with parameters (0.0002, ee5c896eb9, [50, 50, 50, 50, 50], 20, 0.2) completed, best_val_loss: 3.663541316986084, best_val_metric: 3.6635418820699055, best_hidden_layer_sizes: [77, 27, 25, 9, 35]\n",
      "Run with parameters (0.0002, db867b524a, [50, 50, 50, 50, 50], 20, 0.2) completed, best_val_loss: 3.5478196144104004, best_val_metric: 3.547818088531494, best_hidden_layer_sizes: [87, 39, 46, 18, 34]\n",
      "Run with parameters (0.0002, ddb3901a26, [50, 50, 50, 50, 50], 20, 0.2) completed, best_val_loss: 3.4027392864227295, best_val_metric: 3.4027403926849367, best_hidden_layer_sizes: [614, 56, 50, 51, 34]\n",
      "Best overall combination: (0.0002, ddb3901a26, [50, 50, 50, 50, 50], 20, 0.2), val_metric: 3.4027403926849367\n",
      "CPU times: user 1h 11min 54s, sys: 5min 30s, total: 1h 17min 24s\n",
      "Wall time: 59min 16s\n"
     ]
    }
   ],
   "source": [
    "%%time\n",
    "\n",
    "histories, best_overall_combination = hyperparameter_search(train_fn_dense, x=fifteen_puzzle.X_train_norm, y=fifteen_puzzle.y_train, validation_data=(fifteen_puzzle.X_test_norm, fifteen_puzzle.y_test), \n",
    "                                  learning_rate=[0.0002], schedule=[schedule1, schedule2, schedule3, schedule4, schedule5, schedule6, schedule7], layer_sizes=[[50, 50, 50, 50, 50]], min_new_neurons=[20], growth_percentage=[0.2])"
   ]
  },
  {
   "cell_type": "code",
   "execution_count": 97,
   "metadata": {
    "id": "t6E29Jk7DUkx"
   },
   "outputs": [],
   "source": [
    "results_group_sparsity = {\n",
    "    'layer_sizes': [[6, 5, 3, 2, 25], [13, 5, 4, 3, 25], [21, 9, 5, 5, 37], [52, 19, 19, 6, 30], [77, 27, 25, 9, 35], [87, 39, 46, 18, 34], [614, 56, 50, 51, 34]],\n",
    "    'metric': [7.816650481669108, 6.256829022216797, 4.770055681355794, 4.030349810028076, 3.6635418820699055, 3.547818088531494, 3.4027403926849367],\n",
    "}"
   ]
  },
  {
   "cell_type": "code",
   "execution_count": 98,
   "metadata": {
    "colab": {
     "base_uri": "https://localhost:8080/"
    },
    "id": "O9wpT6TGVvro",
    "outputId": "09cde6ae-6996-4526-8060-aad5617b03bc"
   },
   "outputs": [
    {
     "name": "stdout",
     "output_type": "stream",
     "text": [
      "Total params: 1,704.0\n",
      "Trainable params: 1,704\n",
      "Non-trainable params: 0.0\n",
      "Total params: 3,576.0\n",
      "Trainable params: 3,576\n",
      "Non-trainable params: 0.0\n",
      "Total params: 5,935.0\n",
      "Trainable params: 5,935\n",
      "Non-trainable params: 0.0\n",
      "Total params: 15,112.0\n",
      "Trainable params: 15,112\n",
      "Non-trainable params: 0.0\n",
      "Total params: 23,215.0\n",
      "Trainable params: 23,215\n",
      "Non-trainable params: 0.0\n",
      "Total params: 29,158.0\n",
      "Trainable params: 29,158\n",
      "Non-trainable params: 0.0\n",
      "Total params: 199,492.0\n",
      "Trainable params: 199,492\n",
      "Non-trainable params: 0.0\n"
     ]
    }
   ],
   "source": [
    "results_group_sparsity['parameters'] = [count_params(layer_sizes) for layer_sizes in results_group_sparsity['layer_sizes']]"
   ]
  },
  {
   "cell_type": "code",
   "execution_count": 103,
   "metadata": {
    "colab": {
     "base_uri": "https://localhost:8080/",
     "height": 287
    },
    "id": "MuHFc9tGVvt7",
    "outputId": "f1327168-753a-4031-fac7-fdc02374c0e7"
   },
   "outputs": [
    {
     "data": {
      "text/plain": [
       "<matplotlib.legend.Legend at 0x7f5ac7155dd0>"
      ]
     },
     "execution_count": 103,
     "metadata": {},
     "output_type": "execute_result"
    },
    {
     "data": {
      "image/png": "[encoded data removed]",
      "text/plain": [
       "<Figure size 432x288 with 1 Axes>"
      ]
     },
     "metadata": {
      "needs_background": "light"
     },
     "output_type": "display_data"
    }
   ],
   "source": [
    "plt.plot(results['parameters'], results['metric'], marker='.', label='WL1')\n",
    "plt.plot(results_group_sparsity['parameters'], results_group_sparsity['metric'], marker='.', label='GS')\n",
    "plt.xscale('log')\n",
    "plt.legend()"
   ]
  },
  {
   "cell_type": "code",
   "execution_count": 105,
   "metadata": {
    "colab": {
     "base_uri": "https://localhost:8080/"
    },
    "id": "GldH6spMXSCX",
    "outputId": "52638f3a-405b-4f86-fc50-031a5f5378f5"
   },
   "outputs": [
    {
     "data": {
      "text/plain": [
       "6.324555320336758e-06"
      ]
     },
     "execution_count": 105,
     "metadata": {},
     "output_type": "execute_result"
    }
   ],
   "source": [
    "import math\n",
    "0.000002 * math.sqrt(10)"
   ]
  },
  {
   "cell_type": "code",
   "execution_count": 106,
   "metadata": {
    "colab": {
     "base_uri": "https://localhost:8080/"
    },
    "id": "4i-IuMUzXMg_",
    "outputId": "a5314e76-2647-4bf8-b6d8-ada8d755c6e6"
   },
   "outputs": [
    {
     "data": {
      "text/plain": [
       "(63612c7cd8,\n",
       " 31e8f6ff61,\n",
       " e21964ad65,\n",
       " b17831153d,\n",
       " 3d7a8a48c3,\n",
       " 66b8cbf9fd,\n",
       " ec4ba8ef9e,\n",
       " fbb780d235,\n",
       " aa54b0cdf3,\n",
       " f22a62a1d7)"
      ]
     },
     "execution_count": 106,
     "metadata": {},
     "output_type": "execute_result"
    }
   ],
   "source": [
    "schedule1 = Schedule([DynamicEpoch(0.02, 'weighted_l1')] * 20 + [StaticEpochNoRegularization()] * 20)\n",
    "schedule2 = Schedule([DynamicEpoch(0.0063, 'weighted_l1')] * 20 + [StaticEpochNoRegularization()] * 20)\n",
    "schedule3 = Schedule([DynamicEpoch(0.002, 'weighted_l1')] * 20 + [StaticEpochNoRegularization()] * 20)\n",
    "schedule4 = Schedule([DynamicEpoch(0.00063, 'weighted_l1')] * 20 + [StaticEpochNoRegularization()] * 20)\n",
    "schedule5 = Schedule([DynamicEpoch(0.0002, 'weighted_l1')] * 20 + [StaticEpochNoRegularization()] * 20)\n",
    "schedule6 = Schedule([DynamicEpoch(0.000063, 'weighted_l1')] * 20 + [StaticEpochNoRegularization()] * 20)\n",
    "schedule7 = Schedule([DynamicEpoch(0.00002, 'weighted_l1')] * 20 + [StaticEpochNoRegularization()] * 20)\n",
    "schedule8 = Schedule([DynamicEpoch(0.0000063, 'weighted_l1')] * 20 + [StaticEpochNoRegularization()] * 20)\n",
    "schedule9 = Schedule([DynamicEpoch(0.000002, 'weighted_l1')] * 20 + [StaticEpochNoRegularization()] * 20)\n",
    "schedule10 = Schedule([DynamicEpoch(0.00000063, 'weighted_l1')] * 20 + [StaticEpochNoRegularization()] * 20)\n",
    "schedule1, schedule2, schedule3, schedule4, schedule5, schedule6, schedule7, schedule8, schedule9, schedule10"
   ]
  },
  {
   "cell_type": "code",
   "execution_count": 107,
   "metadata": {
    "colab": {
     "base_uri": "https://localhost:8080/"
    },
    "id": "TCBhdPDQXMoC",
    "outputId": "56521f6c-40ae-4e47-a30d-979bba1a8620"
   },
   "outputs": [
    {
     "name": "stdout",
     "output_type": "stream",
     "text": [
      "Run with parameters (0.0001, 63612c7cd8, [50, 50, 50, 50, 50], 20, 0.2) completed, best_val_loss: 7.2025017738342285, best_val_metric: 7.202497161356608, best_hidden_layer_sizes: [9, 5, 6, 6, 15]\n",
      "Run with parameters (0.0001, 31e8f6ff61, [50, 50, 50, 50, 50], 20, 0.2) completed, best_val_loss: 5.903257846832275, best_val_metric: 5.903259393310547, best_hidden_layer_sizes: [14, 8, 10, 7, 20]\n",
      "Run with parameters (0.0001, e21964ad65, [50, 50, 50, 50, 50], 20, 0.2) completed, best_val_loss: 5.052229881286621, best_val_metric: 5.052232195281983, best_hidden_layer_sizes: [18, 20, 13, 12, 33]\n",
      "Run with parameters (0.0001, b17831153d, [50, 50, 50, 50, 50], 20, 0.2) completed, best_val_loss: 4.104249954223633, best_val_metric: 4.1042516187032065, best_hidden_layer_sizes: [37, 31, 29, 24, 46]\n",
      "Run with parameters (0.0001, 3d7a8a48c3, [50, 50, 50, 50, 50], 20, 0.2) completed, best_val_loss: 3.818279504776001, best_val_metric: 3.8182819190979003, best_hidden_layer_sizes: [51, 62, 40, 35, 49]\n",
      "Run with parameters (0.0001, 66b8cbf9fd, [50, 50, 50, 50, 50], 20, 0.2) completed, best_val_loss: 3.6905317306518555, best_val_metric: 3.690531215159098, best_hidden_layer_sizes: [58, 70, 49, 45, 50]\n",
      "Run with parameters (0.0001, ec4ba8ef9e, [50, 50, 50, 50, 50], 20, 0.2) completed, best_val_loss: 3.556100606918335, best_val_metric: 3.5561001792907714, best_hidden_layer_sizes: [75, 70, 70, 70, 62]\n",
      "Run with parameters (0.0001, fbb780d235, [50, 50, 50, 50, 50], 20, 0.2) completed, best_val_loss: 3.442305564880371, best_val_metric: 3.4423048027038576, best_hidden_layer_sizes: [116, 78, 70, 71, 70]\n",
      "Run with parameters (0.0001, aa54b0cdf3, [50, 50, 50, 50, 50], 20, 0.2) completed, best_val_loss: 3.3240625858306885, best_val_metric: 3.3240623718261717, best_hidden_layer_sizes: [188, 115, 90, 70, 69]\n",
      "Run with parameters (0.0001, f22a62a1d7, [50, 50, 50, 50, 50], 20, 0.2) completed, best_val_loss: 3.149292230606079, best_val_metric: 3.1492948782602945, best_hidden_layer_sizes: [725, 274, 126, 91, 73]\n",
      "Best overall combination: (0.0001, f22a62a1d7, [50, 50, 50, 50, 50], 20, 0.2), val_metric: 3.1492948782602945\n",
      "CPU times: user 1h 39min 23s, sys: 6min 35s, total: 1h 45min 58s\n",
      "Wall time: 1h 22min 17s\n"
     ]
    }
   ],
   "source": [
    "%%time\n",
    "\n",
    "histories, best_overall_combination = hyperparameter_search(train_fn_dense, x=fifteen_puzzle.X_train_norm, y=fifteen_puzzle.y_train, validation_data=(fifteen_puzzle.X_test_norm, fifteen_puzzle.y_test), \n",
    "                                  learning_rate=[0.0001], schedule=[schedule1, schedule2, schedule3, schedule4, schedule5, \n",
    "                                                                    schedule6, schedule7, schedule8, schedule9, schedule10], layer_sizes=[[50, 50, 50, 50, 50]], min_new_neurons=[20], growth_percentage=[0.2])"
   ]
  },
  {
   "cell_type": "code",
   "execution_count": 108,
   "metadata": {
    "id": "rxr3U7zuVvwc"
   },
   "outputs": [],
   "source": [
    "results_weighted_l1 = {\n",
    "    'layer_sizes': [\n",
    "        [9, 5, 6, 6, 15],\n",
    "        [14, 8, 10, 7, 20],\n",
    "        [18, 20, 13, 12, 33],\n",
    "        [37, 31, 29, 24, 46],\n",
    "        [51, 62, 40, 35, 49],\n",
    "        [58, 70, 49, 45, 50],\n",
    "        [75, 70, 70, 70, 62],\n",
    "        [116, 78, 70, 71, 70],\n",
    "        [188, 115, 90, 70, 69],\n",
    "        [725, 274, 126, 91, 73],\n",
    "    ],\n",
    "    'metric': [\n",
    "        7.202497161356608,\n",
    "        5.903259393310547,\n",
    "        5.052232195281983,\n",
    "        4.1042516187032065,\n",
    "        3.8182819190979003,\n",
    "        3.690531215159098,\n",
    "        3.5561001792907714,\n",
    "        3.4423048027038576,\n",
    "        3.3240623718261717,\n",
    "        3.1492948782602945,\n",
    "    ],\n",
    "}"
   ]
  },
  {
   "cell_type": "code",
   "execution_count": 109,
   "metadata": {
    "colab": {
     "base_uri": "https://localhost:8080/"
    },
    "id": "xXSCTFVrr7M5",
    "outputId": "62376ea4-9425-43df-fdd9-b0cd1853833d"
   },
   "outputs": [
    {
     "name": "stdout",
     "output_type": "stream",
     "text": [
      "Total params: 2,562.0\n",
      "Trainable params: 2,562\n",
      "Non-trainable params: 0.0\n",
      "Total params: 4,066.0\n",
      "Trainable params: 4,066\n",
      "Non-trainable params: 0.0\n",
      "Total params: 5,910.0\n",
      "Trainable params: 5,910\n",
      "Non-trainable params: 0.0\n",
      "Total params: 13,532.0\n",
      "Trainable params: 13,532\n",
      "Non-trainable params: 0.0\n",
      "Total params: 22,100.0\n",
      "Trainable params: 22,100\n",
      "Non-trainable params: 0.0\n",
      "Total params: 27,116.0\n",
      "Trainable params: 27,116\n",
      "Non-trainable params: 0.0\n",
      "Total params: 39,000.0\n",
      "Trainable params: 39,000\n",
      "Non-trainable params: 0.0\n",
      "Total params: 54,620.0\n",
      "Trainable params: 54,620\n",
      "Non-trainable params: 0.0\n",
      "Total params: 91,830.0\n",
      "Trainable params: 91,830\n",
      "Non-trainable params: 0.0\n",
      "Total params: 438,246.0\n",
      "Trainable params: 438,246\n",
      "Non-trainable params: 0.0\n"
     ]
    }
   ],
   "source": [
    "results_weighted_l1['parameters'] = [count_params(layer_sizes) for layer_sizes in results_weighted_l1['layer_sizes']]"
   ]
  },
  {
   "cell_type": "code",
   "execution_count": 110,
   "metadata": {
    "colab": {
     "base_uri": "https://localhost:8080/",
     "height": 289
    },
    "id": "G2NW2Vprr7PM",
    "outputId": "c391d4d3-8a84-494d-811e-8324e987d49e"
   },
   "outputs": [
    {
     "data": {
      "text/plain": [
       "<matplotlib.legend.Legend at 0x7f5abb0ca4d0>"
      ]
     },
     "execution_count": 110,
     "metadata": {},
     "output_type": "execute_result"
    },
    {
     "data": {
      "image/png": "[encoded data removed]",
      "text/plain": [
       "<Figure size 432x288 with 1 Axes>"
      ]
     },
     "metadata": {
      "needs_background": "light"
     },
     "output_type": "display_data"
    }
   ],
   "source": [
    "plt.plot(results_weighted_l1['parameters'], results_weighted_l1['metric'], marker='.', label='WL1')\n",
    "plt.plot(results_group_sparsity['parameters'], results_group_sparsity['metric'], marker='.', label='GS')\n",
    "plt.xscale('log')\n",
    "plt.legend()"
   ]
  },
  {
   "cell_type": "markdown",
   "metadata": {
    "id": "-m2X_Bw1r7oQ"
   },
   "source": [
    "## Dependency of model size on regularization strength"
   ]
  },
  {
   "cell_type": "code",
   "execution_count": 25,
   "metadata": {},
   "outputs": [
    {
     "data": {
      "text/plain": [
       "(d9d1bf84ba, 6662de7a27, 0610215a13, 718831629c)"
      ]
     },
     "execution_count": 25,
     "metadata": {},
     "output_type": "execute_result"
    }
   ],
   "source": [
    "schedule1 = Schedule([DynamicEpoch(0.02, 'weighted_l1')] * 20)\n",
    "schedule2 = Schedule([DynamicEpoch(0.002, 'weighted_l1')] * 20)\n",
    "schedule3 = Schedule([DynamicEpoch(0.0002, 'weighted_l1')] * 20)\n",
    "schedule4 = Schedule([DynamicEpoch(0.00002, 'weighted_l1')] * 20)\n",
    "schedule1, schedule2, schedule3, schedule4"
   ]
  },
  {
   "cell_type": "code",
   "execution_count": 26,
   "metadata": {},
   "outputs": [],
   "source": [
    "def custom_train(schedule):\n",
    "    histories = list()\n",
    "\n",
    "    batch_size = 128\n",
    "\n",
    "    for i in range(5):\n",
    "        print(f\"run {i}...\")\n",
    "        model = get_dense_model(fifteen_puzzle.X_train_norm, layer_sizes=[50, 50, 50, 50, 50])\n",
    "\n",
    "        optimizer = tf.keras.optimizers.Adam(learning_rate=0.0001)\n",
    "\n",
    "        history = model.fit(x=fifteen_puzzle.X_train_norm, y=fifteen_puzzle.y_train, optimizer=optimizer, schedule=schedule, batch_size=batch_size, min_new_neurons=20, \n",
    "                            validation_data=(fifteen_puzzle.X_test_norm, fifteen_puzzle.y_test), growth_percentage=0.2, verbose=False, use_static_graph=True,\n",
    "                            loss_fn=squared_error, metric_fn=squared_error)\n",
    "        histories.append(history)\n",
    "    return histories"
   ]
  },
  {
   "cell_type": "code",
   "execution_count": 29,
   "metadata": {},
   "outputs": [],
   "source": [
    "histories = dict()"
   ]
  },
  {
   "cell_type": "code",
   "execution_count": 30,
   "metadata": {
    "collapsed": true,
    "jupyter": {
     "outputs_hidden": true
    },
    "tags": []
   },
   "outputs": [
    {
     "name": "stdout",
     "output_type": "stream",
     "text": [
      "run 0...\n",
      "run 1...\n",
      "run 2...\n",
      "run 3...\n",
      "run 4...\n",
      "CPU times: user 48min 49s, sys: 4min 35s, total: 53min 25s\n",
      "Wall time: 41min 10s\n"
     ]
    },
    {
     "data": {
      "text/plain": [
       "[[[48, 49, 44, 49, 44],\n",
       "  [33, 20, 18, 16, 28],\n",
       "  [24, 13, 13, 13, 25],\n",
       "  [18, 11, 13, 11, 22],\n",
       "  [16, 11, 10, 10, 20],\n",
       "  [14, 9, 10, 10, 20],\n",
       "  [13, 9, 9, 9, 19],\n",
       "  [13, 8, 8, 8, 19],\n",
       "  [12, 8, 8, 8, 17],\n",
       "  [10, 6, 6, 7, 17],\n",
       "  [9, 6, 6, 6, 15],\n",
       "  [9, 6, 6, 6, 15],\n",
       "  [9, 6, 6, 6, 12],\n",
       "  [8, 6, 6, 6, 11],\n",
       "  [8, 5, 6, 6, 11],\n",
       "  [8, 5, 5, 5, 11],\n",
       "  [8, 5, 5, 5, 11],\n",
       "  [7, 5, 4, 5, 11],\n",
       "  [7, 5, 4, 5, 11],\n",
       "  [7, 5, 4, 5, 11]],\n",
       " [[49, 50, 50, 50, 44],\n",
       "  [35, 18, 20, 15, 37],\n",
       "  [25, 9, 18, 6, 35],\n",
       "  [19, 8, 16, 4, 31],\n",
       "  [18, 8, 16, 3, 29],\n",
       "  [15, 7, 16, 3, 28],\n",
       "  [14, 7, 16, 3, 28],\n",
       "  [13, 7, 16, 2, 28],\n",
       "  [12, 7, 16, 2, 28],\n",
       "  [12, 6, 16, 2, 26],\n",
       "  [10, 6, 15, 2, 26],\n",
       "  [9, 6, 14, 2, 26],\n",
       "  [8, 6, 13, 2, 25],\n",
       "  [8, 6, 13, 2, 25],\n",
       "  [8, 5, 12, 2, 24],\n",
       "  [8, 5, 11, 2, 24],\n",
       "  [8, 4, 11, 2, 23],\n",
       "  [8, 4, 11, 2, 23],\n",
       "  [8, 4, 11, 2, 21],\n",
       "  [8, 4, 10, 2, 21]],\n",
       " [[49, 48, 47, 49, 46],\n",
       "  [37, 23, 18, 14, 35],\n",
       "  [28, 16, 14, 11, 32],\n",
       "  [20, 13, 12, 9, 31],\n",
       "  [17, 12, 11, 8, 29],\n",
       "  [14, 12, 9, 8, 22],\n",
       "  [12, 11, 9, 7, 18],\n",
       "  [11, 11, 8, 6, 17],\n",
       "  [11, 11, 7, 5, 16],\n",
       "  [10, 10, 7, 5, 15],\n",
       "  [10, 10, 5, 5, 15],\n",
       "  [9, 10, 5, 5, 14],\n",
       "  [7, 9, 5, 4, 14],\n",
       "  [7, 9, 5, 4, 13],\n",
       "  [7, 9, 5, 4, 13],\n",
       "  [6, 9, 5, 3, 13],\n",
       "  [6, 9, 5, 3, 13],\n",
       "  [6, 9, 5, 3, 12],\n",
       "  [6, 9, 5, 3, 12],\n",
       "  [6, 8, 4, 3, 12]],\n",
       " [[49, 49, 47, 48, 41],\n",
       "  [40, 19, 20, 18, 34],\n",
       "  [30, 14, 14, 13, 29],\n",
       "  [26, 13, 11, 10, 23],\n",
       "  [18, 11, 11, 10, 22],\n",
       "  [14, 10, 10, 10, 20],\n",
       "  [12, 10, 10, 9, 20],\n",
       "  [12, 8, 9, 8, 19],\n",
       "  [10, 8, 9, 8, 18],\n",
       "  [10, 8, 8, 8, 17],\n",
       "  [7, 8, 8, 8, 16],\n",
       "  [6, 8, 7, 8, 15],\n",
       "  [6, 8, 6, 7, 14],\n",
       "  [6, 8, 6, 7, 13],\n",
       "  [6, 7, 6, 7, 13],\n",
       "  [6, 7, 5, 7, 13],\n",
       "  [6, 7, 4, 5, 12],\n",
       "  [6, 7, 4, 5, 11],\n",
       "  [6, 7, 4, 5, 11],\n",
       "  [6, 7, 4, 5, 11]],\n",
       " [[50, 49, 49, 46, 42],\n",
       "  [35, 21, 9, 17, 34],\n",
       "  [23, 17, 6, 12, 32],\n",
       "  [21, 16, 5, 9, 28],\n",
       "  [18, 14, 4, 8, 26],\n",
       "  [14, 14, 4, 7, 25],\n",
       "  [14, 12, 4, 7, 22],\n",
       "  [11, 12, 4, 7, 21],\n",
       "  [10, 10, 4, 6, 19],\n",
       "  [9, 10, 4, 5, 17],\n",
       "  [8, 7, 4, 5, 17],\n",
       "  [7, 7, 4, 5, 17],\n",
       "  [7, 7, 3, 5, 15],\n",
       "  [7, 7, 3, 5, 15],\n",
       "  [7, 7, 3, 5, 14],\n",
       "  [7, 7, 3, 5, 14],\n",
       "  [7, 7, 3, 4, 14],\n",
       "  [7, 7, 3, 4, 13],\n",
       "  [7, 7, 3, 4, 13],\n",
       "  [7, 7, 3, 4, 13]]]"
      ]
     },
     "execution_count": 30,
     "metadata": {},
     "output_type": "execute_result"
    }
   ],
   "source": [
    "%%time\n",
    "schedule = schedule1\n",
    "histories[str(schedule)] = custom_train(schedule)\n",
    "[history['hidden_layer_sizes'] for history in histories[str(schedule)]]"
   ]
  },
  {
   "cell_type": "code",
   "execution_count": 31,
   "metadata": {
    "collapsed": true,
    "jupyter": {
     "outputs_hidden": true
    }
   },
   "outputs": [
    {
     "name": "stdout",
     "output_type": "stream",
     "text": [
      "run 0...\n",
      "run 1...\n",
      "run 2...\n",
      "run 3...\n",
      "run 4...\n",
      "CPU times: user 49min 28s, sys: 4min 41s, total: 54min 10s\n",
      "Wall time: 41min 19s\n"
     ]
    },
    {
     "data": {
      "text/plain": [
       "[[[70, 50, 50, 50, 50],\n",
       "  [70, 49, 46, 49, 50],\n",
       "  [67, 43, 41, 40, 50],\n",
       "  [65, 36, 34, 37, 47],\n",
       "  [60, 35, 31, 32, 46],\n",
       "  [53, 29, 28, 30, 44],\n",
       "  [45, 26, 24, 27, 44],\n",
       "  [34, 25, 22, 25, 42],\n",
       "  [32, 22, 21, 23, 40],\n",
       "  [28, 22, 20, 21, 38],\n",
       "  [26, 22, 20, 21, 37],\n",
       "  [24, 21, 19, 18, 37],\n",
       "  [22, 21, 19, 18, 37],\n",
       "  [21, 21, 19, 16, 36],\n",
       "  [21, 19, 18, 16, 35],\n",
       "  [21, 19, 18, 14, 33],\n",
       "  [21, 18, 18, 14, 33],\n",
       "  [19, 18, 18, 13, 32],\n",
       "  [18, 18, 17, 13, 31],\n",
       "  [17, 18, 17, 13, 31]],\n",
       " [[70, 50, 50, 50, 70],\n",
       "  [70, 49, 46, 44, 50],\n",
       "  [69, 45, 36, 38, 49],\n",
       "  [64, 37, 32, 31, 46],\n",
       "  [59, 34, 30, 27, 44],\n",
       "  [56, 32, 29, 23, 43],\n",
       "  [54, 30, 28, 20, 39],\n",
       "  [47, 25, 23, 17, 39],\n",
       "  [42, 24, 23, 16, 38],\n",
       "  [37, 24, 21, 16, 36],\n",
       "  [33, 23, 21, 15, 34],\n",
       "  [29, 23, 20, 15, 32],\n",
       "  [27, 22, 20, 15, 31],\n",
       "  [24, 22, 20, 14, 31],\n",
       "  [23, 20, 20, 14, 31],\n",
       "  [23, 20, 20, 13, 29],\n",
       "  [21, 20, 20, 13, 29],\n",
       "  [20, 19, 18, 13, 28],\n",
       "  [19, 18, 17, 13, 26],\n",
       "  [19, 17, 17, 13, 26]],\n",
       " [[70, 50, 50, 50, 50],\n",
       "  [70, 46, 46, 48, 47],\n",
       "  [66, 43, 33, 42, 43],\n",
       "  [63, 40, 29, 41, 42],\n",
       "  [58, 37, 25, 35, 40],\n",
       "  [53, 31, 23, 33, 40],\n",
       "  [46, 28, 21, 31, 40],\n",
       "  [38, 26, 20, 30, 40],\n",
       "  [33, 25, 20, 26, 40],\n",
       "  [32, 25, 19, 21, 39],\n",
       "  [28, 22, 18, 18, 38],\n",
       "  [26, 20, 18, 17, 38],\n",
       "  [25, 19, 18, 17, 37],\n",
       "  [25, 17, 18, 16, 37],\n",
       "  [24, 16, 17, 14, 36],\n",
       "  [23, 16, 17, 14, 35],\n",
       "  [23, 16, 15, 13, 35],\n",
       "  [22, 16, 15, 12, 35],\n",
       "  [21, 16, 15, 11, 34],\n",
       "  [21, 16, 15, 11, 33]],\n",
       " [[70, 50, 50, 50, 52],\n",
       "  [68, 50, 44, 50, 46],\n",
       "  [67, 42, 34, 41, 44],\n",
       "  [63, 35, 31, 37, 43],\n",
       "  [62, 34, 25, 34, 41],\n",
       "  [57, 32, 23, 31, 41],\n",
       "  [43, 32, 19, 26, 40],\n",
       "  [37, 32, 17, 24, 39],\n",
       "  [30, 30, 15, 23, 38],\n",
       "  [26, 26, 14, 21, 37],\n",
       "  [24, 23, 13, 21, 36],\n",
       "  [22, 21, 12, 18, 36],\n",
       "  [21, 21, 12, 18, 33],\n",
       "  [21, 21, 12, 16, 32],\n",
       "  [21, 19, 12, 15, 32],\n",
       "  [20, 19, 11, 14, 32],\n",
       "  [20, 19, 11, 14, 32],\n",
       "  [20, 18, 11, 14, 31],\n",
       "  [20, 18, 11, 14, 30],\n",
       "  [20, 18, 10, 13, 30]],\n",
       " [[69, 50, 50, 50, 67],\n",
       "  [69, 46, 44, 46, 48],\n",
       "  [67, 39, 34, 38, 46],\n",
       "  [62, 35, 32, 33, 46],\n",
       "  [59, 31, 27, 28, 44],\n",
       "  [51, 27, 23, 23, 44],\n",
       "  [42, 24, 20, 21, 44],\n",
       "  [36, 24, 20, 20, 43],\n",
       "  [33, 24, 17, 18, 42],\n",
       "  [30, 24, 17, 18, 42],\n",
       "  [25, 23, 17, 18, 42],\n",
       "  [21, 23, 17, 16, 42],\n",
       "  [21, 23, 16, 15, 41],\n",
       "  [18, 21, 16, 14, 39],\n",
       "  [18, 20, 16, 13, 39],\n",
       "  [18, 19, 15, 12, 38],\n",
       "  [18, 18, 15, 10, 37],\n",
       "  [18, 17, 14, 10, 35],\n",
       "  [18, 16, 14, 10, 32],\n",
       "  [18, 16, 14, 10, 32]]]"
      ]
     },
     "execution_count": 31,
     "metadata": {},
     "output_type": "execute_result"
    }
   ],
   "source": [
    "%%time\n",
    "schedule = schedule2\n",
    "histories[str(schedule)] = custom_train(schedule)\n",
    "[history['hidden_layer_sizes'] for history in histories[str(schedule)]]"
   ]
  },
  {
   "cell_type": "code",
   "execution_count": 32,
   "metadata": {
    "collapsed": true,
    "jupyter": {
     "outputs_hidden": true
    }
   },
   "outputs": [
    {
     "name": "stdout",
     "output_type": "stream",
     "text": [
      "run 0...\n",
      "run 1...\n",
      "run 2...\n",
      "run 3...\n",
      "run 4...\n",
      "CPU times: user 48min 6s, sys: 4min 20s, total: 52min 27s\n",
      "Wall time: 40min 10s\n"
     ]
    },
    {
     "data": {
      "text/plain": [
       "[[[70, 70, 70, 70, 70],\n",
       "  [70, 70, 70, 70, 52],\n",
       "  [70, 70, 70, 69, 48],\n",
       "  [70, 70, 70, 55, 48],\n",
       "  [70, 70, 66, 47, 48],\n",
       "  [69, 70, 53, 47, 46],\n",
       "  [68, 70, 48, 45, 46],\n",
       "  [59, 70, 46, 45, 46],\n",
       "  [58, 70, 45, 45, 46],\n",
       "  [56, 70, 42, 44, 46],\n",
       "  [54, 70, 41, 43, 46],\n",
       "  [54, 70, 39, 42, 46],\n",
       "  [54, 70, 39, 41, 46],\n",
       "  [54, 70, 38, 41, 45],\n",
       "  [54, 70, 36, 41, 45],\n",
       "  [54, 70, 36, 41, 45],\n",
       "  [53, 69, 35, 41, 44],\n",
       "  [53, 69, 34, 40, 44],\n",
       "  [53, 66, 34, 40, 44],\n",
       "  [52, 62, 34, 40, 44]],\n",
       " [[70, 70, 70, 70, 70],\n",
       "  [70, 70, 70, 70, 70],\n",
       "  [70, 70, 70, 69, 62],\n",
       "  [70, 70, 68, 49, 55],\n",
       "  [70, 70, 57, 49, 50],\n",
       "  [70, 69, 48, 49, 50],\n",
       "  [70, 69, 46, 47, 50],\n",
       "  [67, 69, 46, 47, 50],\n",
       "  [66, 68, 44, 47, 50],\n",
       "  [65, 68, 43, 46, 50],\n",
       "  [65, 68, 43, 44, 50],\n",
       "  [63, 68, 42, 44, 50],\n",
       "  [62, 68, 42, 43, 50],\n",
       "  [61, 67, 42, 41, 50],\n",
       "  [59, 65, 41, 41, 50],\n",
       "  [58, 60, 41, 39, 50],\n",
       "  [58, 56, 40, 39, 50],\n",
       "  [57, 53, 39, 37, 50],\n",
       "  [57, 49, 38, 37, 50],\n",
       "  [56, 47, 37, 37, 50]],\n",
       " [[70, 70, 70, 70, 70],\n",
       "  [70, 70, 70, 70, 70],\n",
       "  [70, 70, 70, 69, 54],\n",
       "  [70, 70, 70, 59, 50],\n",
       "  [70, 70, 70, 49, 50],\n",
       "  [70, 70, 59, 48, 50],\n",
       "  [66, 70, 52, 48, 50],\n",
       "  [65, 70, 47, 48, 50],\n",
       "  [62, 70, 47, 47, 50],\n",
       "  [62, 70, 46, 47, 50],\n",
       "  [60, 70, 45, 47, 49],\n",
       "  [57, 69, 43, 46, 49],\n",
       "  [56, 69, 42, 46, 49],\n",
       "  [56, 69, 42, 45, 49],\n",
       "  [54, 69, 42, 45, 49],\n",
       "  [52, 68, 41, 43, 49],\n",
       "  [52, 68, 40, 43, 49],\n",
       "  [52, 68, 40, 41, 49],\n",
       "  [51, 67, 39, 41, 49],\n",
       "  [51, 67, 39, 40, 49]],\n",
       " [[70, 70, 70, 70, 70],\n",
       "  [70, 70, 70, 70, 63],\n",
       "  [70, 70, 70, 64, 52],\n",
       "  [70, 70, 59, 50, 51],\n",
       "  [70, 70, 45, 49, 48],\n",
       "  [70, 70, 45, 49, 48],\n",
       "  [70, 70, 45, 49, 48],\n",
       "  [65, 70, 44, 49, 48],\n",
       "  [62, 70, 44, 49, 48],\n",
       "  [62, 70, 43, 48, 47],\n",
       "  [61, 70, 43, 47, 46],\n",
       "  [60, 70, 43, 47, 46],\n",
       "  [60, 68, 41, 47, 46],\n",
       "  [60, 62, 40, 47, 46],\n",
       "  [60, 56, 40, 45, 45],\n",
       "  [57, 54, 39, 45, 45],\n",
       "  [57, 49, 39, 44, 45],\n",
       "  [57, 47, 39, 44, 44],\n",
       "  [56, 47, 39, 44, 43],\n",
       "  [54, 47, 39, 44, 42]],\n",
       " [[70, 70, 70, 70, 70],\n",
       "  [70, 70, 70, 70, 70],\n",
       "  [70, 70, 70, 59, 60],\n",
       "  [70, 70, 68, 50, 51],\n",
       "  [70, 70, 61, 50, 50],\n",
       "  [70, 70, 50, 50, 49],\n",
       "  [70, 70, 44, 49, 49],\n",
       "  [69, 70, 42, 49, 49],\n",
       "  [66, 70, 42, 47, 49],\n",
       "  [66, 70, 42, 47, 49],\n",
       "  [65, 70, 42, 47, 49],\n",
       "  [64, 70, 42, 47, 48],\n",
       "  [60, 69, 42, 47, 48],\n",
       "  [58, 69, 41, 46, 48],\n",
       "  [57, 68, 41, 46, 48],\n",
       "  [57, 65, 41, 45, 47],\n",
       "  [57, 61, 41, 44, 46],\n",
       "  [56, 58, 40, 44, 46],\n",
       "  [56, 54, 39, 42, 46],\n",
       "  [56, 51, 38, 41, 46]]]"
      ]
     },
     "execution_count": 32,
     "metadata": {},
     "output_type": "execute_result"
    }
   ],
   "source": [
    "%%time\n",
    "schedule = schedule3\n",
    "histories[str(schedule)] = custom_train(schedule)\n",
    "[history['hidden_layer_sizes'] for history in histories[str(schedule)]]"
   ]
  },
  {
   "cell_type": "code",
   "execution_count": 33,
   "metadata": {
    "collapsed": true,
    "jupyter": {
     "outputs_hidden": true
    },
    "tags": []
   },
   "outputs": [
    {
     "name": "stdout",
     "output_type": "stream",
     "text": [
      "run 0...\n",
      "run 1...\n",
      "run 2...\n",
      "run 3...\n",
      "run 4...\n",
      "CPU times: user 50min 22s, sys: 4min 56s, total: 55min 18s\n",
      "Wall time: 42min 2s\n"
     ]
    },
    {
     "data": {
      "text/plain": [
       "[[[70, 70, 70, 70, 70],\n",
       "  [82, 70, 70, 70, 70],\n",
       "  [81, 70, 70, 70, 70],\n",
       "  [81, 70, 70, 70, 70],\n",
       "  [81, 70, 70, 70, 69],\n",
       "  [81, 70, 70, 70, 69],\n",
       "  [81, 70, 70, 70, 69],\n",
       "  [81, 70, 70, 70, 69],\n",
       "  [81, 70, 70, 70, 69],\n",
       "  [81, 70, 70, 70, 69],\n",
       "  [80, 70, 70, 70, 68],\n",
       "  [80, 70, 70, 69, 66],\n",
       "  [80, 70, 70, 69, 64],\n",
       "  [80, 70, 70, 69, 64],\n",
       "  [80, 70, 70, 69, 64],\n",
       "  [80, 70, 70, 69, 63],\n",
       "  [79, 70, 70, 69, 61],\n",
       "  [79, 70, 70, 69, 59],\n",
       "  [79, 70, 70, 68, 56],\n",
       "  [78, 70, 70, 68, 55]],\n",
       " [[70, 70, 70, 70, 70],\n",
       "  [77, 71, 70, 70, 70],\n",
       "  [77, 70, 70, 70, 70],\n",
       "  [76, 70, 70, 70, 70],\n",
       "  [76, 70, 70, 70, 70],\n",
       "  [76, 70, 70, 70, 70],\n",
       "  [76, 70, 70, 70, 70],\n",
       "  [76, 70, 70, 70, 69],\n",
       "  [76, 70, 70, 70, 68],\n",
       "  [76, 70, 70, 70, 64],\n",
       "  [76, 70, 70, 70, 59],\n",
       "  [76, 70, 70, 70, 54],\n",
       "  [76, 70, 70, 70, 52],\n",
       "  [76, 70, 70, 70, 50],\n",
       "  [76, 70, 70, 69, 49],\n",
       "  [76, 70, 70, 69, 49],\n",
       "  [76, 70, 70, 69, 49],\n",
       "  [76, 70, 70, 69, 49],\n",
       "  [76, 70, 70, 69, 49],\n",
       "  [76, 70, 70, 69, 49]],\n",
       " [[70, 70, 70, 70, 70],\n",
       "  [83, 70, 70, 70, 70],\n",
       "  [80, 70, 70, 70, 70],\n",
       "  [80, 70, 70, 70, 69],\n",
       "  [80, 70, 70, 70, 69],\n",
       "  [79, 70, 70, 70, 69],\n",
       "  [78, 70, 70, 70, 69],\n",
       "  [78, 70, 70, 70, 69],\n",
       "  [78, 70, 70, 70, 68],\n",
       "  [78, 70, 70, 70, 66],\n",
       "  [78, 70, 70, 70, 65],\n",
       "  [78, 70, 70, 70, 62],\n",
       "  [78, 70, 70, 70, 58],\n",
       "  [78, 70, 70, 70, 56],\n",
       "  [78, 70, 70, 70, 53],\n",
       "  [78, 70, 70, 70, 53],\n",
       "  [78, 70, 70, 70, 50],\n",
       "  [78, 70, 70, 70, 49],\n",
       "  [78, 70, 70, 70, 48],\n",
       "  [78, 70, 70, 70, 48]],\n",
       " [[70, 70, 70, 70, 70],\n",
       "  [79, 70, 70, 70, 70],\n",
       "  [77, 70, 70, 70, 70],\n",
       "  [77, 70, 70, 70, 70],\n",
       "  [77, 70, 70, 70, 70],\n",
       "  [77, 70, 70, 70, 70],\n",
       "  [77, 70, 70, 70, 70],\n",
       "  [77, 70, 70, 70, 70],\n",
       "  [77, 70, 70, 70, 70],\n",
       "  [77, 70, 70, 70, 70],\n",
       "  [77, 70, 70, 70, 69],\n",
       "  [77, 70, 70, 70, 68],\n",
       "  [77, 70, 70, 70, 68],\n",
       "  [77, 70, 70, 70, 68],\n",
       "  [77, 70, 70, 69, 68],\n",
       "  [77, 70, 70, 69, 68],\n",
       "  [76, 70, 70, 69, 67],\n",
       "  [75, 70, 70, 69, 67],\n",
       "  [75, 70, 70, 69, 64],\n",
       "  [74, 70, 70, 69, 62]],\n",
       " [[70, 70, 70, 70, 70],\n",
       "  [86, 70, 70, 70, 70],\n",
       "  [84, 70, 70, 70, 70],\n",
       "  [83, 70, 70, 70, 70],\n",
       "  [83, 70, 70, 70, 70],\n",
       "  [83, 70, 70, 70, 70],\n",
       "  [83, 70, 70, 70, 69],\n",
       "  [83, 70, 70, 70, 68],\n",
       "  [83, 70, 70, 70, 68],\n",
       "  [83, 70, 70, 70, 67],\n",
       "  [83, 70, 70, 70, 67],\n",
       "  [83, 70, 70, 70, 66],\n",
       "  [83, 70, 70, 70, 65],\n",
       "  [83, 70, 70, 70, 65],\n",
       "  [83, 70, 70, 70, 63],\n",
       "  [83, 70, 69, 70, 62],\n",
       "  [83, 70, 67, 69, 62],\n",
       "  [82, 70, 65, 69, 62],\n",
       "  [81, 70, 63, 66, 62],\n",
       "  [81, 70, 61, 63, 62]]]"
      ]
     },
     "execution_count": 33,
     "metadata": {},
     "output_type": "execute_result"
    }
   ],
   "source": [
    "%%time\n",
    "schedule = schedule4\n",
    "histories[str(schedule)] = custom_train(schedule)\n",
    "[history['hidden_layer_sizes'] for history in histories[str(schedule)]]"
   ]
  },
  {
   "cell_type": "code",
   "execution_count": 34,
   "metadata": {
    "collapsed": true,
    "jupyter": {
     "outputs_hidden": true
    },
    "tags": []
   },
   "outputs": [
    {
     "data": {
      "text/plain": [
       "{'d9d1bf84ba': [{'loss': [<tf.Tensor: shape=(), dtype=float32, numpy=143.85413>,\n",
       "    <tf.Tensor: shape=(), dtype=float32, numpy=10.265999>,\n",
       "    <tf.Tensor: shape=(), dtype=float32, numpy=10.114917>,\n",
       "    <tf.Tensor: shape=(), dtype=float32, numpy=9.975893>,\n",
       "    <tf.Tensor: shape=(), dtype=float32, numpy=9.815293>,\n",
       "    <tf.Tensor: shape=(), dtype=float32, numpy=9.663369>,\n",
       "    <tf.Tensor: shape=(), dtype=float32, numpy=9.514323>,\n",
       "    <tf.Tensor: shape=(), dtype=float32, numpy=9.391406>,\n",
       "    <tf.Tensor: shape=(), dtype=float32, numpy=9.281445>,\n",
       "    <tf.Tensor: shape=(), dtype=float32, numpy=9.173537>,\n",
       "    <tf.Tensor: shape=(), dtype=float32, numpy=9.084564>,\n",
       "    <tf.Tensor: shape=(), dtype=float32, numpy=8.99186>,\n",
       "    <tf.Tensor: shape=(), dtype=float32, numpy=8.89528>,\n",
       "    <tf.Tensor: shape=(), dtype=float32, numpy=8.809052>,\n",
       "    <tf.Tensor: shape=(), dtype=float32, numpy=8.722276>,\n",
       "    <tf.Tensor: shape=(), dtype=float32, numpy=8.649298>,\n",
       "    <tf.Tensor: shape=(), dtype=float32, numpy=8.572455>,\n",
       "    <tf.Tensor: shape=(), dtype=float32, numpy=8.509761>,\n",
       "    <tf.Tensor: shape=(), dtype=float32, numpy=8.440018>,\n",
       "    <tf.Tensor: shape=(), dtype=float32, numpy=8.372339>],\n",
       "   'metric': [<tf.Tensor: shape=(), dtype=float32, numpy=143.85413>,\n",
       "    <tf.Tensor: shape=(), dtype=float32, numpy=10.265999>,\n",
       "    <tf.Tensor: shape=(), dtype=float32, numpy=10.114917>,\n",
       "    <tf.Tensor: shape=(), dtype=float32, numpy=9.975893>,\n",
       "    <tf.Tensor: shape=(), dtype=float32, numpy=9.815293>,\n",
       "    <tf.Tensor: shape=(), dtype=float32, numpy=9.663369>,\n",
       "    <tf.Tensor: shape=(), dtype=float32, numpy=9.514323>,\n",
       "    <tf.Tensor: shape=(), dtype=float32, numpy=9.391406>,\n",
       "    <tf.Tensor: shape=(), dtype=float32, numpy=9.281445>,\n",
       "    <tf.Tensor: shape=(), dtype=float32, numpy=9.173537>,\n",
       "    <tf.Tensor: shape=(), dtype=float32, numpy=9.084564>,\n",
       "    <tf.Tensor: shape=(), dtype=float32, numpy=8.99186>,\n",
       "    <tf.Tensor: shape=(), dtype=float32, numpy=8.89528>,\n",
       "    <tf.Tensor: shape=(), dtype=float32, numpy=8.809052>,\n",
       "    <tf.Tensor: shape=(), dtype=float32, numpy=8.722276>,\n",
       "    <tf.Tensor: shape=(), dtype=float32, numpy=8.649298>,\n",
       "    <tf.Tensor: shape=(), dtype=float32, numpy=8.572455>,\n",
       "    <tf.Tensor: shape=(), dtype=float32, numpy=8.509761>,\n",
       "    <tf.Tensor: shape=(), dtype=float32, numpy=8.440018>,\n",
       "    <tf.Tensor: shape=(), dtype=float32, numpy=8.372339>],\n",
       "   'val_loss': [<tf.Tensor: shape=(), dtype=float32, numpy=10.612165>,\n",
       "    <tf.Tensor: shape=(), dtype=float32, numpy=10.134544>,\n",
       "    <tf.Tensor: shape=(), dtype=float32, numpy=9.962695>,\n",
       "    <tf.Tensor: shape=(), dtype=float32, numpy=9.87201>,\n",
       "    <tf.Tensor: shape=(), dtype=float32, numpy=9.693236>,\n",
       "    <tf.Tensor: shape=(), dtype=float32, numpy=9.536107>,\n",
       "    <tf.Tensor: shape=(), dtype=float32, numpy=9.435785>,\n",
       "    <tf.Tensor: shape=(), dtype=float32, numpy=9.349974>,\n",
       "    <tf.Tensor: shape=(), dtype=float32, numpy=9.197024>,\n",
       "    <tf.Tensor: shape=(), dtype=float32, numpy=9.076235>,\n",
       "    <tf.Tensor: shape=(), dtype=float32, numpy=8.974301>,\n",
       "    <tf.Tensor: shape=(), dtype=float32, numpy=8.918108>,\n",
       "    <tf.Tensor: shape=(), dtype=float32, numpy=8.789426>,\n",
       "    <tf.Tensor: shape=(), dtype=float32, numpy=8.725172>,\n",
       "    <tf.Tensor: shape=(), dtype=float32, numpy=8.648807>,\n",
       "    <tf.Tensor: shape=(), dtype=float32, numpy=8.562706>,\n",
       "    <tf.Tensor: shape=(), dtype=float32, numpy=8.47627>,\n",
       "    <tf.Tensor: shape=(), dtype=float32, numpy=8.394877>,\n",
       "    <tf.Tensor: shape=(), dtype=float32, numpy=8.367928>,\n",
       "    <tf.Tensor: shape=(), dtype=float32, numpy=8.287852>],\n",
       "   'val_metric': [10.612164962768555,\n",
       "    10.134539182027181,\n",
       "    9.962694322713217,\n",
       "    9.872007295735678,\n",
       "    9.693231824239096,\n",
       "    9.536107400512694,\n",
       "    9.43578548634847,\n",
       "    9.349969153849283,\n",
       "    9.197029060109456,\n",
       "    9.076230121358236,\n",
       "    8.974303666687012,\n",
       "    8.918110257975261,\n",
       "    8.789436341349283,\n",
       "    8.725168561808267,\n",
       "    8.648805546061197,\n",
       "    8.562707039896647,\n",
       "    8.476264737955729,\n",
       "    8.394876864624024,\n",
       "    8.367921129608154,\n",
       "    8.287855111694336],\n",
       "   'hidden_layer_sizes': [[48, 49, 44, 49, 44],\n",
       "    [33, 20, 18, 16, 28],\n",
       "    [24, 13, 13, 13, 25],\n",
       "    [18, 11, 13, 11, 22],\n",
       "    [16, 11, 10, 10, 20],\n",
       "    [14, 9, 10, 10, 20],\n",
       "    [13, 9, 9, 9, 19],\n",
       "    [13, 8, 8, 8, 19],\n",
       "    [12, 8, 8, 8, 17],\n",
       "    [10, 6, 6, 7, 17],\n",
       "    [9, 6, 6, 6, 15],\n",
       "    [9, 6, 6, 6, 15],\n",
       "    [9, 6, 6, 6, 12],\n",
       "    [8, 6, 6, 6, 11],\n",
       "    [8, 5, 6, 6, 11],\n",
       "    [8, 5, 5, 5, 11],\n",
       "    [8, 5, 5, 5, 11],\n",
       "    [7, 5, 4, 5, 11],\n",
       "    [7, 5, 4, 5, 11],\n",
       "    [7, 5, 4, 5, 11]]},\n",
       "  {'loss': [<tf.Tensor: shape=(), dtype=float32, numpy=156.3368>,\n",
       "    <tf.Tensor: shape=(), dtype=float32, numpy=10.164405>,\n",
       "    <tf.Tensor: shape=(), dtype=float32, numpy=9.973026>,\n",
       "    <tf.Tensor: shape=(), dtype=float32, numpy=9.806622>,\n",
       "    <tf.Tensor: shape=(), dtype=float32, numpy=9.686477>,\n",
       "    <tf.Tensor: shape=(), dtype=float32, numpy=9.598585>,\n",
       "    <tf.Tensor: shape=(), dtype=float32, numpy=9.544907>,\n",
       "    <tf.Tensor: shape=(), dtype=float32, numpy=9.503759>,\n",
       "    <tf.Tensor: shape=(), dtype=float32, numpy=9.461304>,\n",
       "    <tf.Tensor: shape=(), dtype=float32, numpy=9.440989>,\n",
       "    <tf.Tensor: shape=(), dtype=float32, numpy=9.41614>,\n",
       "    <tf.Tensor: shape=(), dtype=float32, numpy=9.396144>,\n",
       "    <tf.Tensor: shape=(), dtype=float32, numpy=9.367343>,\n",
       "    <tf.Tensor: shape=(), dtype=float32, numpy=9.335215>,\n",
       "    <tf.Tensor: shape=(), dtype=float32, numpy=9.288168>,\n",
       "    <tf.Tensor: shape=(), dtype=float32, numpy=9.247718>,\n",
       "    <tf.Tensor: shape=(), dtype=float32, numpy=9.214704>,\n",
       "    <tf.Tensor: shape=(), dtype=float32, numpy=9.167804>,\n",
       "    <tf.Tensor: shape=(), dtype=float32, numpy=9.129624>,\n",
       "    <tf.Tensor: shape=(), dtype=float32, numpy=9.089734>],\n",
       "   'metric': [<tf.Tensor: shape=(), dtype=float32, numpy=156.3368>,\n",
       "    <tf.Tensor: shape=(), dtype=float32, numpy=10.164405>,\n",
       "    <tf.Tensor: shape=(), dtype=float32, numpy=9.973026>,\n",
       "    <tf.Tensor: shape=(), dtype=float32, numpy=9.806622>,\n",
       "    <tf.Tensor: shape=(), dtype=float32, numpy=9.686477>,\n",
       "    <tf.Tensor: shape=(), dtype=float32, numpy=9.598585>,\n",
       "    <tf.Tensor: shape=(), dtype=float32, numpy=9.544907>,\n",
       "    <tf.Tensor: shape=(), dtype=float32, numpy=9.503759>,\n",
       "    <tf.Tensor: shape=(), dtype=float32, numpy=9.461304>,\n",
       "    <tf.Tensor: shape=(), dtype=float32, numpy=9.440989>,\n",
       "    <tf.Tensor: shape=(), dtype=float32, numpy=9.41614>,\n",
       "    <tf.Tensor: shape=(), dtype=float32, numpy=9.396144>,\n",
       "    <tf.Tensor: shape=(), dtype=float32, numpy=9.367343>,\n",
       "    <tf.Tensor: shape=(), dtype=float32, numpy=9.335215>,\n",
       "    <tf.Tensor: shape=(), dtype=float32, numpy=9.288168>,\n",
       "    <tf.Tensor: shape=(), dtype=float32, numpy=9.247718>,\n",
       "    <tf.Tensor: shape=(), dtype=float32, numpy=9.214704>,\n",
       "    <tf.Tensor: shape=(), dtype=float32, numpy=9.167804>,\n",
       "    <tf.Tensor: shape=(), dtype=float32, numpy=9.129624>,\n",
       "    <tf.Tensor: shape=(), dtype=float32, numpy=9.089734>],\n",
       "   'val_loss': [<tf.Tensor: shape=(), dtype=float32, numpy=10.484844>,\n",
       "    <tf.Tensor: shape=(), dtype=float32, numpy=10.014261>,\n",
       "    <tf.Tensor: shape=(), dtype=float32, numpy=9.824702>,\n",
       "    <tf.Tensor: shape=(), dtype=float32, numpy=9.707979>,\n",
       "    <tf.Tensor: shape=(), dtype=float32, numpy=9.612853>,\n",
       "    <tf.Tensor: shape=(), dtype=float32, numpy=9.51791>,\n",
       "    <tf.Tensor: shape=(), dtype=float32, numpy=9.465203>,\n",
       "    <tf.Tensor: shape=(), dtype=float32, numpy=9.464751>,\n",
       "    <tf.Tensor: shape=(), dtype=float32, numpy=9.437046>,\n",
       "    <tf.Tensor: shape=(), dtype=float32, numpy=9.399496>,\n",
       "    <tf.Tensor: shape=(), dtype=float32, numpy=9.359424>,\n",
       "    <tf.Tensor: shape=(), dtype=float32, numpy=9.326764>,\n",
       "    <tf.Tensor: shape=(), dtype=float32, numpy=9.325863>,\n",
       "    <tf.Tensor: shape=(), dtype=float32, numpy=9.286563>,\n",
       "    <tf.Tensor: shape=(), dtype=float32, numpy=9.21213>,\n",
       "    <tf.Tensor: shape=(), dtype=float32, numpy=9.187737>,\n",
       "    <tf.Tensor: shape=(), dtype=float32, numpy=9.174591>,\n",
       "    <tf.Tensor: shape=(), dtype=float32, numpy=9.122008>,\n",
       "    <tf.Tensor: shape=(), dtype=float32, numpy=9.059079>,\n",
       "    <tf.Tensor: shape=(), dtype=float32, numpy=9.037024>],\n",
       "   'val_metric': [10.484837571207683,\n",
       "    10.014262552897135,\n",
       "    9.82469762318929,\n",
       "    9.707976444498698,\n",
       "    9.612853548177084,\n",
       "    9.517910001627603,\n",
       "    9.465201407877604,\n",
       "    9.464752945454915,\n",
       "    9.437042434692383,\n",
       "    9.399499945576986,\n",
       "    9.359427567036947,\n",
       "    9.32676590423584,\n",
       "    9.325869459025066,\n",
       "    9.28656064605713,\n",
       "    9.212129280090332,\n",
       "    9.187738607025146,\n",
       "    9.17458526916504,\n",
       "    9.122007225545248,\n",
       "    9.059079045613606,\n",
       "    9.037022489420574],\n",
       "   'hidden_layer_sizes': [[49, 50, 50, 50, 44],\n",
       "    [35, 18, 20, 15, 37],\n",
       "    [25, 9, 18, 6, 35],\n",
       "    [19, 8, 16, 4, 31],\n",
       "    [18, 8, 16, 3, 29],\n",
       "    [15, 7, 16, 3, 28],\n",
       "    [14, 7, 16, 3, 28],\n",
       "    [13, 7, 16, 2, 28],\n",
       "    [12, 7, 16, 2, 28],\n",
       "    [12, 6, 16, 2, 26],\n",
       "    [10, 6, 15, 2, 26],\n",
       "    [9, 6, 14, 2, 26],\n",
       "    [8, 6, 13, 2, 25],\n",
       "    [8, 6, 13, 2, 25],\n",
       "    [8, 5, 12, 2, 24],\n",
       "    [8, 5, 11, 2, 24],\n",
       "    [8, 4, 11, 2, 23],\n",
       "    [8, 4, 11, 2, 23],\n",
       "    [8, 4, 11, 2, 21],\n",
       "    [8, 4, 10, 2, 21]]},\n",
       "  {'loss': [<tf.Tensor: shape=(), dtype=float32, numpy=152.46292>,\n",
       "    <tf.Tensor: shape=(), dtype=float32, numpy=10.237436>,\n",
       "    <tf.Tensor: shape=(), dtype=float32, numpy=9.927234>,\n",
       "    <tf.Tensor: shape=(), dtype=float32, numpy=9.813772>,\n",
       "    <tf.Tensor: shape=(), dtype=float32, numpy=9.700384>,\n",
       "    <tf.Tensor: shape=(), dtype=float32, numpy=9.610913>,\n",
       "    <tf.Tensor: shape=(), dtype=float32, numpy=9.521464>,\n",
       "    <tf.Tensor: shape=(), dtype=float32, numpy=9.438734>,\n",
       "    <tf.Tensor: shape=(), dtype=float32, numpy=9.355479>,\n",
       "    <tf.Tensor: shape=(), dtype=float32, numpy=9.269264>,\n",
       "    <tf.Tensor: shape=(), dtype=float32, numpy=9.184251>,\n",
       "    <tf.Tensor: shape=(), dtype=float32, numpy=9.099885>,\n",
       "    <tf.Tensor: shape=(), dtype=float32, numpy=9.033365>,\n",
       "    <tf.Tensor: shape=(), dtype=float32, numpy=8.978109>,\n",
       "    <tf.Tensor: shape=(), dtype=float32, numpy=8.931108>,\n",
       "    <tf.Tensor: shape=(), dtype=float32, numpy=8.886529>,\n",
       "    <tf.Tensor: shape=(), dtype=float32, numpy=8.851601>,\n",
       "    <tf.Tensor: shape=(), dtype=float32, numpy=8.818777>,\n",
       "    <tf.Tensor: shape=(), dtype=float32, numpy=8.787347>,\n",
       "    <tf.Tensor: shape=(), dtype=float32, numpy=8.77147>],\n",
       "   'metric': [<tf.Tensor: shape=(), dtype=float32, numpy=152.46292>,\n",
       "    <tf.Tensor: shape=(), dtype=float32, numpy=10.237436>,\n",
       "    <tf.Tensor: shape=(), dtype=float32, numpy=9.927234>,\n",
       "    <tf.Tensor: shape=(), dtype=float32, numpy=9.813772>,\n",
       "    <tf.Tensor: shape=(), dtype=float32, numpy=9.700384>,\n",
       "    <tf.Tensor: shape=(), dtype=float32, numpy=9.610913>,\n",
       "    <tf.Tensor: shape=(), dtype=float32, numpy=9.521464>,\n",
       "    <tf.Tensor: shape=(), dtype=float32, numpy=9.438734>,\n",
       "    <tf.Tensor: shape=(), dtype=float32, numpy=9.355479>,\n",
       "    <tf.Tensor: shape=(), dtype=float32, numpy=9.269264>,\n",
       "    <tf.Tensor: shape=(), dtype=float32, numpy=9.184251>,\n",
       "    <tf.Tensor: shape=(), dtype=float32, numpy=9.099885>,\n",
       "    <tf.Tensor: shape=(), dtype=float32, numpy=9.033365>,\n",
       "    <tf.Tensor: shape=(), dtype=float32, numpy=8.978109>,\n",
       "    <tf.Tensor: shape=(), dtype=float32, numpy=8.931108>,\n",
       "    <tf.Tensor: shape=(), dtype=float32, numpy=8.886529>,\n",
       "    <tf.Tensor: shape=(), dtype=float32, numpy=8.851601>,\n",
       "    <tf.Tensor: shape=(), dtype=float32, numpy=8.818777>,\n",
       "    <tf.Tensor: shape=(), dtype=float32, numpy=8.787347>,\n",
       "    <tf.Tensor: shape=(), dtype=float32, numpy=8.77147>],\n",
       "   'val_loss': [<tf.Tensor: shape=(), dtype=float32, numpy=10.815829>,\n",
       "    <tf.Tensor: shape=(), dtype=float32, numpy=9.911801>,\n",
       "    <tf.Tensor: shape=(), dtype=float32, numpy=9.878638>,\n",
       "    <tf.Tensor: shape=(), dtype=float32, numpy=9.724225>,\n",
       "    <tf.Tensor: shape=(), dtype=float32, numpy=9.605724>,\n",
       "    <tf.Tensor: shape=(), dtype=float32, numpy=9.559453>,\n",
       "    <tf.Tensor: shape=(), dtype=float32, numpy=9.441475>,\n",
       "    <tf.Tensor: shape=(), dtype=float32, numpy=9.476445>,\n",
       "    <tf.Tensor: shape=(), dtype=float32, numpy=9.282476>,\n",
       "    <tf.Tensor: shape=(), dtype=float32, numpy=9.207564>,\n",
       "    <tf.Tensor: shape=(), dtype=float32, numpy=9.140628>,\n",
       "    <tf.Tensor: shape=(), dtype=float32, numpy=9.0229435>,\n",
       "    <tf.Tensor: shape=(), dtype=float32, numpy=8.973921>,\n",
       "    <tf.Tensor: shape=(), dtype=float32, numpy=8.925081>,\n",
       "    <tf.Tensor: shape=(), dtype=float32, numpy=8.87597>,\n",
       "    <tf.Tensor: shape=(), dtype=float32, numpy=8.8242235>,\n",
       "    <tf.Tensor: shape=(), dtype=float32, numpy=8.822511>,\n",
       "    <tf.Tensor: shape=(), dtype=float32, numpy=8.787414>,\n",
       "    <tf.Tensor: shape=(), dtype=float32, numpy=8.746999>,\n",
       "    <tf.Tensor: shape=(), dtype=float32, numpy=8.720194>],\n",
       "   'val_metric': [10.815830234273275,\n",
       "    9.911795443725586,\n",
       "    9.878642324320476,\n",
       "    9.724219348144532,\n",
       "    9.605726207478842,\n",
       "    9.559455842590332,\n",
       "    9.441473628234863,\n",
       "    9.476443692525228,\n",
       "    9.282477058919271,\n",
       "    9.207563426208496,\n",
       "    9.140628183492025,\n",
       "    9.022944073740641,\n",
       "    8.973919083150228,\n",
       "    8.925085591379801,\n",
       "    8.87597196146647,\n",
       "    8.824220965576172,\n",
       "    8.82250807393392,\n",
       "    8.787419326019288,\n",
       "    8.746996317799885,\n",
       "    8.720190298716227],\n",
       "   'hidden_layer_sizes': [[49, 48, 47, 49, 46],\n",
       "    [37, 23, 18, 14, 35],\n",
       "    [28, 16, 14, 11, 32],\n",
       "    [20, 13, 12, 9, 31],\n",
       "    [17, 12, 11, 8, 29],\n",
       "    [14, 12, 9, 8, 22],\n",
       "    [12, 11, 9, 7, 18],\n",
       "    [11, 11, 8, 6, 17],\n",
       "    [11, 11, 7, 5, 16],\n",
       "    [10, 10, 7, 5, 15],\n",
       "    [10, 10, 5, 5, 15],\n",
       "    [9, 10, 5, 5, 14],\n",
       "    [7, 9, 5, 4, 14],\n",
       "    [7, 9, 5, 4, 13],\n",
       "    [7, 9, 5, 4, 13],\n",
       "    [6, 9, 5, 3, 13],\n",
       "    [6, 9, 5, 3, 13],\n",
       "    [6, 9, 5, 3, 12],\n",
       "    [6, 9, 5, 3, 12],\n",
       "    [6, 8, 4, 3, 12]]},\n",
       "  {'loss': [<tf.Tensor: shape=(), dtype=float32, numpy=165.44417>,\n",
       "    <tf.Tensor: shape=(), dtype=float32, numpy=10.46553>,\n",
       "    <tf.Tensor: shape=(), dtype=float32, numpy=10.069403>,\n",
       "    <tf.Tensor: shape=(), dtype=float32, numpy=9.869407>,\n",
       "    <tf.Tensor: shape=(), dtype=float32, numpy=9.676229>,\n",
       "    <tf.Tensor: shape=(), dtype=float32, numpy=9.530867>,\n",
       "    <tf.Tensor: shape=(), dtype=float32, numpy=9.440124>,\n",
       "    <tf.Tensor: shape=(), dtype=float32, numpy=9.383005>,\n",
       "    <tf.Tensor: shape=(), dtype=float32, numpy=9.340039>,\n",
       "    <tf.Tensor: shape=(), dtype=float32, numpy=9.3250885>,\n",
       "    <tf.Tensor: shape=(), dtype=float32, numpy=9.310337>,\n",
       "    <tf.Tensor: shape=(), dtype=float32, numpy=9.298288>,\n",
       "    <tf.Tensor: shape=(), dtype=float32, numpy=9.295759>,\n",
       "    <tf.Tensor: shape=(), dtype=float32, numpy=9.289322>,\n",
       "    <tf.Tensor: shape=(), dtype=float32, numpy=9.282871>,\n",
       "    <tf.Tensor: shape=(), dtype=float32, numpy=9.271126>,\n",
       "    <tf.Tensor: shape=(), dtype=float32, numpy=9.253169>,\n",
       "    <tf.Tensor: shape=(), dtype=float32, numpy=9.237939>,\n",
       "    <tf.Tensor: shape=(), dtype=float32, numpy=9.218047>,\n",
       "    <tf.Tensor: shape=(), dtype=float32, numpy=9.193979>],\n",
       "   'metric': [<tf.Tensor: shape=(), dtype=float32, numpy=165.44417>,\n",
       "    <tf.Tensor: shape=(), dtype=float32, numpy=10.46553>,\n",
       "    <tf.Tensor: shape=(), dtype=float32, numpy=10.069403>,\n",
       "    <tf.Tensor: shape=(), dtype=float32, numpy=9.869407>,\n",
       "    <tf.Tensor: shape=(), dtype=float32, numpy=9.676229>,\n",
       "    <tf.Tensor: shape=(), dtype=float32, numpy=9.530867>,\n",
       "    <tf.Tensor: shape=(), dtype=float32, numpy=9.440124>,\n",
       "    <tf.Tensor: shape=(), dtype=float32, numpy=9.383005>,\n",
       "    <tf.Tensor: shape=(), dtype=float32, numpy=9.340039>,\n",
       "    <tf.Tensor: shape=(), dtype=float32, numpy=9.3250885>,\n",
       "    <tf.Tensor: shape=(), dtype=float32, numpy=9.310337>,\n",
       "    <tf.Tensor: shape=(), dtype=float32, numpy=9.298288>,\n",
       "    <tf.Tensor: shape=(), dtype=float32, numpy=9.295759>,\n",
       "    <tf.Tensor: shape=(), dtype=float32, numpy=9.289322>,\n",
       "    <tf.Tensor: shape=(), dtype=float32, numpy=9.282871>,\n",
       "    <tf.Tensor: shape=(), dtype=float32, numpy=9.271126>,\n",
       "    <tf.Tensor: shape=(), dtype=float32, numpy=9.253169>,\n",
       "    <tf.Tensor: shape=(), dtype=float32, numpy=9.237939>,\n",
       "    <tf.Tensor: shape=(), dtype=float32, numpy=9.218047>,\n",
       "    <tf.Tensor: shape=(), dtype=float32, numpy=9.193979>],\n",
       "   'val_loss': [<tf.Tensor: shape=(), dtype=float32, numpy=10.987675>,\n",
       "    <tf.Tensor: shape=(), dtype=float32, numpy=10.170733>,\n",
       "    <tf.Tensor: shape=(), dtype=float32, numpy=9.889895>,\n",
       "    <tf.Tensor: shape=(), dtype=float32, numpy=9.795826>,\n",
       "    <tf.Tensor: shape=(), dtype=float32, numpy=9.579278>,\n",
       "    <tf.Tensor: shape=(), dtype=float32, numpy=9.430957>,\n",
       "    <tf.Tensor: shape=(), dtype=float32, numpy=9.365564>,\n",
       "    <tf.Tensor: shape=(), dtype=float32, numpy=9.319353>,\n",
       "    <tf.Tensor: shape=(), dtype=float32, numpy=9.333737>,\n",
       "    <tf.Tensor: shape=(), dtype=float32, numpy=9.324474>,\n",
       "    <tf.Tensor: shape=(), dtype=float32, numpy=9.290301>,\n",
       "    <tf.Tensor: shape=(), dtype=float32, numpy=9.279433>,\n",
       "    <tf.Tensor: shape=(), dtype=float32, numpy=9.275397>,\n",
       "    <tf.Tensor: shape=(), dtype=float32, numpy=9.26955>,\n",
       "    <tf.Tensor: shape=(), dtype=float32, numpy=9.261241>,\n",
       "    <tf.Tensor: shape=(), dtype=float32, numpy=9.262738>,\n",
       "    <tf.Tensor: shape=(), dtype=float32, numpy=9.226976>,\n",
       "    <tf.Tensor: shape=(), dtype=float32, numpy=9.21094>,\n",
       "    <tf.Tensor: shape=(), dtype=float32, numpy=9.1796>,\n",
       "    <tf.Tensor: shape=(), dtype=float32, numpy=9.162786>],\n",
       "   'val_metric': [10.987678452046712,\n",
       "    10.170734201558432,\n",
       "    9.889890801493326,\n",
       "    9.795830861918132,\n",
       "    9.579279918416342,\n",
       "    9.430959255981445,\n",
       "    9.365569196573894,\n",
       "    9.319352847798665,\n",
       "    9.33374146270752,\n",
       "    9.324480062357585,\n",
       "    9.290302783711752,\n",
       "    9.279429153951009,\n",
       "    9.275395027923585,\n",
       "    9.269551166280111,\n",
       "    9.26123340657552,\n",
       "    9.26274450861613,\n",
       "    9.226975255584717,\n",
       "    9.210943101247151,\n",
       "    9.179597883605958,\n",
       "    9.162778481038412],\n",
       "   'hidden_layer_sizes': [[49, 49, 47, 48, 41],\n",
       "    [40, 19, 20, 18, 34],\n",
       "    [30, 14, 14, 13, 29],\n",
       "    [26, 13, 11, 10, 23],\n",
       "    [18, 11, 11, 10, 22],\n",
       "    [14, 10, 10, 10, 20],\n",
       "    [12, 10, 10, 9, 20],\n",
       "    [12, 8, 9, 8, 19],\n",
       "    [10, 8, 9, 8, 18],\n",
       "    [10, 8, 8, 8, 17],\n",
       "    [7, 8, 8, 8, 16],\n",
       "    [6, 8, 7, 8, 15],\n",
       "    [6, 8, 6, 7, 14],\n",
       "    [6, 8, 6, 7, 13],\n",
       "    [6, 7, 6, 7, 13],\n",
       "    [6, 7, 5, 7, 13],\n",
       "    [6, 7, 4, 5, 12],\n",
       "    [6, 7, 4, 5, 11],\n",
       "    [6, 7, 4, 5, 11],\n",
       "    [6, 7, 4, 5, 11]]},\n",
       "  {'loss': [<tf.Tensor: shape=(), dtype=float32, numpy=154.72656>,\n",
       "    <tf.Tensor: shape=(), dtype=float32, numpy=10.428552>,\n",
       "    <tf.Tensor: shape=(), dtype=float32, numpy=10.056358>,\n",
       "    <tf.Tensor: shape=(), dtype=float32, numpy=9.887709>,\n",
       "    <tf.Tensor: shape=(), dtype=float32, numpy=9.741886>,\n",
       "    <tf.Tensor: shape=(), dtype=float32, numpy=9.5625305>,\n",
       "    <tf.Tensor: shape=(), dtype=float32, numpy=9.378572>,\n",
       "    <tf.Tensor: shape=(), dtype=float32, numpy=9.210341>,\n",
       "    <tf.Tensor: shape=(), dtype=float32, numpy=9.064568>,\n",
       "    <tf.Tensor: shape=(), dtype=float32, numpy=8.940997>,\n",
       "    <tf.Tensor: shape=(), dtype=float32, numpy=8.83126>,\n",
       "    <tf.Tensor: shape=(), dtype=float32, numpy=8.7271185>,\n",
       "    <tf.Tensor: shape=(), dtype=float32, numpy=8.63929>,\n",
       "    <tf.Tensor: shape=(), dtype=float32, numpy=8.564737>,\n",
       "    <tf.Tensor: shape=(), dtype=float32, numpy=8.494708>,\n",
       "    <tf.Tensor: shape=(), dtype=float32, numpy=8.427829>,\n",
       "    <tf.Tensor: shape=(), dtype=float32, numpy=8.369747>,\n",
       "    <tf.Tensor: shape=(), dtype=float32, numpy=8.309403>,\n",
       "    <tf.Tensor: shape=(), dtype=float32, numpy=8.257801>,\n",
       "    <tf.Tensor: shape=(), dtype=float32, numpy=8.209662>],\n",
       "   'metric': [<tf.Tensor: shape=(), dtype=float32, numpy=154.72656>,\n",
       "    <tf.Tensor: shape=(), dtype=float32, numpy=10.428552>,\n",
       "    <tf.Tensor: shape=(), dtype=float32, numpy=10.056358>,\n",
       "    <tf.Tensor: shape=(), dtype=float32, numpy=9.887709>,\n",
       "    <tf.Tensor: shape=(), dtype=float32, numpy=9.741886>,\n",
       "    <tf.Tensor: shape=(), dtype=float32, numpy=9.5625305>,\n",
       "    <tf.Tensor: shape=(), dtype=float32, numpy=9.378572>,\n",
       "    <tf.Tensor: shape=(), dtype=float32, numpy=9.210341>,\n",
       "    <tf.Tensor: shape=(), dtype=float32, numpy=9.064568>,\n",
       "    <tf.Tensor: shape=(), dtype=float32, numpy=8.940997>,\n",
       "    <tf.Tensor: shape=(), dtype=float32, numpy=8.83126>,\n",
       "    <tf.Tensor: shape=(), dtype=float32, numpy=8.7271185>,\n",
       "    <tf.Tensor: shape=(), dtype=float32, numpy=8.63929>,\n",
       "    <tf.Tensor: shape=(), dtype=float32, numpy=8.564737>,\n",
       "    <tf.Tensor: shape=(), dtype=float32, numpy=8.494708>,\n",
       "    <tf.Tensor: shape=(), dtype=float32, numpy=8.427829>,\n",
       "    <tf.Tensor: shape=(), dtype=float32, numpy=8.369747>,\n",
       "    <tf.Tensor: shape=(), dtype=float32, numpy=8.309403>,\n",
       "    <tf.Tensor: shape=(), dtype=float32, numpy=8.257801>,\n",
       "    <tf.Tensor: shape=(), dtype=float32, numpy=8.209662>],\n",
       "   'val_loss': [<tf.Tensor: shape=(), dtype=float32, numpy=10.907412>,\n",
       "    <tf.Tensor: shape=(), dtype=float32, numpy=10.1303835>,\n",
       "    <tf.Tensor: shape=(), dtype=float32, numpy=9.906203>,\n",
       "    <tf.Tensor: shape=(), dtype=float32, numpy=9.794142>,\n",
       "    <tf.Tensor: shape=(), dtype=float32, numpy=9.649827>,\n",
       "    <tf.Tensor: shape=(), dtype=float32, numpy=9.420235>,\n",
       "    <tf.Tensor: shape=(), dtype=float32, numpy=9.321251>,\n",
       "    <tf.Tensor: shape=(), dtype=float32, numpy=9.101248>,\n",
       "    <tf.Tensor: shape=(), dtype=float32, numpy=8.976404>,\n",
       "    <tf.Tensor: shape=(), dtype=float32, numpy=8.850372>,\n",
       "    <tf.Tensor: shape=(), dtype=float32, numpy=8.753255>,\n",
       "    <tf.Tensor: shape=(), dtype=float32, numpy=8.646731>,\n",
       "    <tf.Tensor: shape=(), dtype=float32, numpy=8.5874195>,\n",
       "    <tf.Tensor: shape=(), dtype=float32, numpy=8.486603>,\n",
       "    <tf.Tensor: shape=(), dtype=float32, numpy=8.455423>,\n",
       "    <tf.Tensor: shape=(), dtype=float32, numpy=8.379849>,\n",
       "    <tf.Tensor: shape=(), dtype=float32, numpy=8.30294>,\n",
       "    <tf.Tensor: shape=(), dtype=float32, numpy=8.26885>,\n",
       "    <tf.Tensor: shape=(), dtype=float32, numpy=8.1982155>,\n",
       "    <tf.Tensor: shape=(), dtype=float32, numpy=8.168983>],\n",
       "   'val_metric': [10.90741224009196,\n",
       "    10.13038568725586,\n",
       "    9.906208311462402,\n",
       "    9.794141069030761,\n",
       "    9.649830459594726,\n",
       "    9.420236350504558,\n",
       "    9.32124435119629,\n",
       "    9.10124979426066,\n",
       "    8.976408901468913,\n",
       "    8.850376718648274,\n",
       "    8.753255267842611,\n",
       "    8.646727631632487,\n",
       "    8.587421637980142,\n",
       "    8.486600760396321,\n",
       "    8.455431898498535,\n",
       "    8.379844692230225,\n",
       "    8.302939589691162,\n",
       "    8.268850916544597,\n",
       "    8.198216707611085,\n",
       "    8.168978153737386],\n",
       "   'hidden_layer_sizes': [[50, 49, 49, 46, 42],\n",
       "    [35, 21, 9, 17, 34],\n",
       "    [23, 17, 6, 12, 32],\n",
       "    [21, 16, 5, 9, 28],\n",
       "    [18, 14, 4, 8, 26],\n",
       "    [14, 14, 4, 7, 25],\n",
       "    [14, 12, 4, 7, 22],\n",
       "    [11, 12, 4, 7, 21],\n",
       "    [10, 10, 4, 6, 19],\n",
       "    [9, 10, 4, 5, 17],\n",
       "    [8, 7, 4, 5, 17],\n",
       "    [7, 7, 4, 5, 17],\n",
       "    [7, 7, 3, 5, 15],\n",
       "    [7, 7, 3, 5, 15],\n",
       "    [7, 7, 3, 5, 14],\n",
       "    [7, 7, 3, 5, 14],\n",
       "    [7, 7, 3, 4, 14],\n",
       "    [7, 7, 3, 4, 13],\n",
       "    [7, 7, 3, 4, 13],\n",
       "    [7, 7, 3, 4, 13]]}],\n",
       " '6662de7a27': [{'loss': [<tf.Tensor: shape=(), dtype=float32, numpy=145.30676>,\n",
       "    <tf.Tensor: shape=(), dtype=float32, numpy=10.305413>,\n",
       "    <tf.Tensor: shape=(), dtype=float32, numpy=9.535131>,\n",
       "    <tf.Tensor: shape=(), dtype=float32, numpy=9.164022>,\n",
       "    <tf.Tensor: shape=(), dtype=float32, numpy=8.85073>,\n",
       "    <tf.Tensor: shape=(), dtype=float32, numpy=8.48007>,\n",
       "    <tf.Tensor: shape=(), dtype=float32, numpy=8.072666>,\n",
       "    <tf.Tensor: shape=(), dtype=float32, numpy=7.763517>,\n",
       "    <tf.Tensor: shape=(), dtype=float32, numpy=7.5315337>,\n",
       "    <tf.Tensor: shape=(), dtype=float32, numpy=7.3398666>,\n",
       "    <tf.Tensor: shape=(), dtype=float32, numpy=7.191745>,\n",
       "    <tf.Tensor: shape=(), dtype=float32, numpy=7.0588236>,\n",
       "    <tf.Tensor: shape=(), dtype=float32, numpy=6.940295>,\n",
       "    <tf.Tensor: shape=(), dtype=float32, numpy=6.8319297>,\n",
       "    <tf.Tensor: shape=(), dtype=float32, numpy=6.730407>,\n",
       "    <tf.Tensor: shape=(), dtype=float32, numpy=6.6276007>,\n",
       "    <tf.Tensor: shape=(), dtype=float32, numpy=6.516424>,\n",
       "    <tf.Tensor: shape=(), dtype=float32, numpy=6.398152>,\n",
       "    <tf.Tensor: shape=(), dtype=float32, numpy=6.2964163>,\n",
       "    <tf.Tensor: shape=(), dtype=float32, numpy=6.2159986>],\n",
       "   'metric': [<tf.Tensor: shape=(), dtype=float32, numpy=145.30676>,\n",
       "    <tf.Tensor: shape=(), dtype=float32, numpy=10.305413>,\n",
       "    <tf.Tensor: shape=(), dtype=float32, numpy=9.535131>,\n",
       "    <tf.Tensor: shape=(), dtype=float32, numpy=9.164022>,\n",
       "    <tf.Tensor: shape=(), dtype=float32, numpy=8.85073>,\n",
       "    <tf.Tensor: shape=(), dtype=float32, numpy=8.48007>,\n",
       "    <tf.Tensor: shape=(), dtype=float32, numpy=8.072666>,\n",
       "    <tf.Tensor: shape=(), dtype=float32, numpy=7.763517>,\n",
       "    <tf.Tensor: shape=(), dtype=float32, numpy=7.5315337>,\n",
       "    <tf.Tensor: shape=(), dtype=float32, numpy=7.3398666>,\n",
       "    <tf.Tensor: shape=(), dtype=float32, numpy=7.191745>,\n",
       "    <tf.Tensor: shape=(), dtype=float32, numpy=7.0588236>,\n",
       "    <tf.Tensor: shape=(), dtype=float32, numpy=6.940295>,\n",
       "    <tf.Tensor: shape=(), dtype=float32, numpy=6.8319297>,\n",
       "    <tf.Tensor: shape=(), dtype=float32, numpy=6.730407>,\n",
       "    <tf.Tensor: shape=(), dtype=float32, numpy=6.6276007>,\n",
       "    <tf.Tensor: shape=(), dtype=float32, numpy=6.516424>,\n",
       "    <tf.Tensor: shape=(), dtype=float32, numpy=6.398152>,\n",
       "    <tf.Tensor: shape=(), dtype=float32, numpy=6.2964163>,\n",
       "    <tf.Tensor: shape=(), dtype=float32, numpy=6.2159986>],\n",
       "   'val_loss': [<tf.Tensor: shape=(), dtype=float32, numpy=11.674136>,\n",
       "    <tf.Tensor: shape=(), dtype=float32, numpy=9.948139>,\n",
       "    <tf.Tensor: shape=(), dtype=float32, numpy=9.311336>,\n",
       "    <tf.Tensor: shape=(), dtype=float32, numpy=8.924538>,\n",
       "    <tf.Tensor: shape=(), dtype=float32, numpy=8.6733885>,\n",
       "    <tf.Tensor: shape=(), dtype=float32, numpy=8.225792>,\n",
       "    <tf.Tensor: shape=(), dtype=float32, numpy=7.892128>,\n",
       "    <tf.Tensor: shape=(), dtype=float32, numpy=7.616244>,\n",
       "    <tf.Tensor: shape=(), dtype=float32, numpy=7.390308>,\n",
       "    <tf.Tensor: shape=(), dtype=float32, numpy=7.2285414>,\n",
       "    <tf.Tensor: shape=(), dtype=float32, numpy=7.09031>,\n",
       "    <tf.Tensor: shape=(), dtype=float32, numpy=6.9559507>,\n",
       "    <tf.Tensor: shape=(), dtype=float32, numpy=6.872517>,\n",
       "    <tf.Tensor: shape=(), dtype=float32, numpy=6.812377>,\n",
       "    <tf.Tensor: shape=(), dtype=float32, numpy=6.674229>,\n",
       "    <tf.Tensor: shape=(), dtype=float32, numpy=6.5698237>,\n",
       "    <tf.Tensor: shape=(), dtype=float32, numpy=6.489173>,\n",
       "    <tf.Tensor: shape=(), dtype=float32, numpy=6.352614>,\n",
       "    <tf.Tensor: shape=(), dtype=float32, numpy=6.2597194>,\n",
       "    <tf.Tensor: shape=(), dtype=float32, numpy=6.174933>],\n",
       "   'val_metric': [11.674126665751139,\n",
       "    9.948138723754882,\n",
       "    9.311335237630209,\n",
       "    8.924541309102377,\n",
       "    8.673394621785482,\n",
       "    8.225794355519612,\n",
       "    7.892125365702311,\n",
       "    7.616242423756917,\n",
       "    7.3903064448038736,\n",
       "    7.2285420710245765,\n",
       "    7.090310112253825,\n",
       "    6.955950422159831,\n",
       "    6.872506128438314,\n",
       "    6.812378706359863,\n",
       "    6.674235131327311,\n",
       "    6.569826892852783,\n",
       "    6.48917406056722,\n",
       "    6.35261365331014,\n",
       "    6.259720425160726,\n",
       "    6.1749333511352535],\n",
       "   'hidden_layer_sizes': [[70, 50, 50, 50, 50],\n",
       "    [70, 49, 46, 49, 50],\n",
       "    [67, 43, 41, 40, 50],\n",
       "    [65, 36, 34, 37, 47],\n",
       "    [60, 35, 31, 32, 46],\n",
       "    [53, 29, 28, 30, 44],\n",
       "    [45, 26, 24, 27, 44],\n",
       "    [34, 25, 22, 25, 42],\n",
       "    [32, 22, 21, 23, 40],\n",
       "    [28, 22, 20, 21, 38],\n",
       "    [26, 22, 20, 21, 37],\n",
       "    [24, 21, 19, 18, 37],\n",
       "    [22, 21, 19, 18, 37],\n",
       "    [21, 21, 19, 16, 36],\n",
       "    [21, 19, 18, 16, 35],\n",
       "    [21, 19, 18, 14, 33],\n",
       "    [21, 18, 18, 14, 33],\n",
       "    [19, 18, 18, 13, 32],\n",
       "    [18, 18, 17, 13, 31],\n",
       "    [17, 18, 17, 13, 31]]},\n",
       "  {'loss': [<tf.Tensor: shape=(), dtype=float32, numpy=141.07735>,\n",
       "    <tf.Tensor: shape=(), dtype=float32, numpy=10.275524>,\n",
       "    <tf.Tensor: shape=(), dtype=float32, numpy=9.632085>,\n",
       "    <tf.Tensor: shape=(), dtype=float32, numpy=9.241814>,\n",
       "    <tf.Tensor: shape=(), dtype=float32, numpy=8.868668>,\n",
       "    <tf.Tensor: shape=(), dtype=float32, numpy=8.545132>,\n",
       "    <tf.Tensor: shape=(), dtype=float32, numpy=8.237682>,\n",
       "    <tf.Tensor: shape=(), dtype=float32, numpy=7.9685287>,\n",
       "    <tf.Tensor: shape=(), dtype=float32, numpy=7.7565217>,\n",
       "    <tf.Tensor: shape=(), dtype=float32, numpy=7.5790005>,\n",
       "    <tf.Tensor: shape=(), dtype=float32, numpy=7.4198213>,\n",
       "    <tf.Tensor: shape=(), dtype=float32, numpy=7.272792>,\n",
       "    <tf.Tensor: shape=(), dtype=float32, numpy=7.1366735>,\n",
       "    <tf.Tensor: shape=(), dtype=float32, numpy=7.000287>,\n",
       "    <tf.Tensor: shape=(), dtype=float32, numpy=6.8796234>,\n",
       "    <tf.Tensor: shape=(), dtype=float32, numpy=6.759302>,\n",
       "    <tf.Tensor: shape=(), dtype=float32, numpy=6.6404905>,\n",
       "    <tf.Tensor: shape=(), dtype=float32, numpy=6.5240035>,\n",
       "    <tf.Tensor: shape=(), dtype=float32, numpy=6.416236>,\n",
       "    <tf.Tensor: shape=(), dtype=float32, numpy=6.320255>],\n",
       "   'metric': [<tf.Tensor: shape=(), dtype=float32, numpy=141.07735>,\n",
       "    <tf.Tensor: shape=(), dtype=float32, numpy=10.275524>,\n",
       "    <tf.Tensor: shape=(), dtype=float32, numpy=9.632085>,\n",
       "    <tf.Tensor: shape=(), dtype=float32, numpy=9.241814>,\n",
       "    <tf.Tensor: shape=(), dtype=float32, numpy=8.868668>,\n",
       "    <tf.Tensor: shape=(), dtype=float32, numpy=8.545132>,\n",
       "    <tf.Tensor: shape=(), dtype=float32, numpy=8.237682>,\n",
       "    <tf.Tensor: shape=(), dtype=float32, numpy=7.9685287>,\n",
       "    <tf.Tensor: shape=(), dtype=float32, numpy=7.7565217>,\n",
       "    <tf.Tensor: shape=(), dtype=float32, numpy=7.5790005>,\n",
       "    <tf.Tensor: shape=(), dtype=float32, numpy=7.4198213>,\n",
       "    <tf.Tensor: shape=(), dtype=float32, numpy=7.272792>,\n",
       "    <tf.Tensor: shape=(), dtype=float32, numpy=7.1366735>,\n",
       "    <tf.Tensor: shape=(), dtype=float32, numpy=7.000287>,\n",
       "    <tf.Tensor: shape=(), dtype=float32, numpy=6.8796234>,\n",
       "    <tf.Tensor: shape=(), dtype=float32, numpy=6.759302>,\n",
       "    <tf.Tensor: shape=(), dtype=float32, numpy=6.6404905>,\n",
       "    <tf.Tensor: shape=(), dtype=float32, numpy=6.5240035>,\n",
       "    <tf.Tensor: shape=(), dtype=float32, numpy=6.416236>,\n",
       "    <tf.Tensor: shape=(), dtype=float32, numpy=6.320255>],\n",
       "   'val_loss': [<tf.Tensor: shape=(), dtype=float32, numpy=11.283845>,\n",
       "    <tf.Tensor: shape=(), dtype=float32, numpy=9.810054>,\n",
       "    <tf.Tensor: shape=(), dtype=float32, numpy=9.270521>,\n",
       "    <tf.Tensor: shape=(), dtype=float32, numpy=8.959326>,\n",
       "    <tf.Tensor: shape=(), dtype=float32, numpy=8.614685>,\n",
       "    <tf.Tensor: shape=(), dtype=float32, numpy=8.359012>,\n",
       "    <tf.Tensor: shape=(), dtype=float32, numpy=8.045426>,\n",
       "    <tf.Tensor: shape=(), dtype=float32, numpy=7.829725>,\n",
       "    <tf.Tensor: shape=(), dtype=float32, numpy=7.6301255>,\n",
       "    <tf.Tensor: shape=(), dtype=float32, numpy=7.422857>,\n",
       "    <tf.Tensor: shape=(), dtype=float32, numpy=7.3006587>,\n",
       "    <tf.Tensor: shape=(), dtype=float32, numpy=7.155936>,\n",
       "    <tf.Tensor: shape=(), dtype=float32, numpy=7.0210943>,\n",
       "    <tf.Tensor: shape=(), dtype=float32, numpy=6.883779>,\n",
       "    <tf.Tensor: shape=(), dtype=float32, numpy=6.778292>,\n",
       "    <tf.Tensor: shape=(), dtype=float32, numpy=6.6587896>,\n",
       "    <tf.Tensor: shape=(), dtype=float32, numpy=6.547052>,\n",
       "    <tf.Tensor: shape=(), dtype=float32, numpy=6.4242115>,\n",
       "    <tf.Tensor: shape=(), dtype=float32, numpy=6.3116255>,\n",
       "    <tf.Tensor: shape=(), dtype=float32, numpy=6.216275>],\n",
       "   'val_metric': [11.283851110331218,\n",
       "    9.810047283935546,\n",
       "    9.270517963663737,\n",
       "    8.959322026570637,\n",
       "    8.614691481526693,\n",
       "    8.359004828389486,\n",
       "    8.045430196634928,\n",
       "    7.829720034790039,\n",
       "    7.630129959615072,\n",
       "    7.422852690633138,\n",
       "    7.300657980600993,\n",
       "    7.155941297149658,\n",
       "    7.021090847269694,\n",
       "    6.8837767018636065,\n",
       "    6.778298346964518,\n",
       "    6.6587865397135415,\n",
       "    6.547049296315511,\n",
       "    6.424213814290365,\n",
       "    6.31162349319458,\n",
       "    6.2162702224731445],\n",
       "   'hidden_layer_sizes': [[70, 50, 50, 50, 70],\n",
       "    [70, 49, 46, 44, 50],\n",
       "    [69, 45, 36, 38, 49],\n",
       "    [64, 37, 32, 31, 46],\n",
       "    [59, 34, 30, 27, 44],\n",
       "    [56, 32, 29, 23, 43],\n",
       "    [54, 30, 28, 20, 39],\n",
       "    [47, 25, 23, 17, 39],\n",
       "    [42, 24, 23, 16, 38],\n",
       "    [37, 24, 21, 16, 36],\n",
       "    [33, 23, 21, 15, 34],\n",
       "    [29, 23, 20, 15, 32],\n",
       "    [27, 22, 20, 15, 31],\n",
       "    [24, 22, 20, 14, 31],\n",
       "    [23, 20, 20, 14, 31],\n",
       "    [23, 20, 20, 13, 29],\n",
       "    [21, 20, 20, 13, 29],\n",
       "    [20, 19, 18, 13, 28],\n",
       "    [19, 18, 17, 13, 26],\n",
       "    [19, 17, 17, 13, 26]]},\n",
       "  {'loss': [<tf.Tensor: shape=(), dtype=float32, numpy=136.7728>,\n",
       "    <tf.Tensor: shape=(), dtype=float32, numpy=10.243014>,\n",
       "    <tf.Tensor: shape=(), dtype=float32, numpy=9.382927>,\n",
       "    <tf.Tensor: shape=(), dtype=float32, numpy=8.913335>,\n",
       "    <tf.Tensor: shape=(), dtype=float32, numpy=8.55351>,\n",
       "    <tf.Tensor: shape=(), dtype=float32, numpy=8.234829>,\n",
       "    <tf.Tensor: shape=(), dtype=float32, numpy=7.9281144>,\n",
       "    <tf.Tensor: shape=(), dtype=float32, numpy=7.652311>,\n",
       "    <tf.Tensor: shape=(), dtype=float32, numpy=7.398422>,\n",
       "    <tf.Tensor: shape=(), dtype=float32, numpy=7.1785917>,\n",
       "    <tf.Tensor: shape=(), dtype=float32, numpy=7.004937>,\n",
       "    <tf.Tensor: shape=(), dtype=float32, numpy=6.8592124>,\n",
       "    <tf.Tensor: shape=(), dtype=float32, numpy=6.7344956>,\n",
       "    <tf.Tensor: shape=(), dtype=float32, numpy=6.6077166>,\n",
       "    <tf.Tensor: shape=(), dtype=float32, numpy=6.4931917>,\n",
       "    <tf.Tensor: shape=(), dtype=float32, numpy=6.395228>,\n",
       "    <tf.Tensor: shape=(), dtype=float32, numpy=6.312439>,\n",
       "    <tf.Tensor: shape=(), dtype=float32, numpy=6.240547>,\n",
       "    <tf.Tensor: shape=(), dtype=float32, numpy=6.1783066>,\n",
       "    <tf.Tensor: shape=(), dtype=float32, numpy=6.1216593>],\n",
       "   'metric': [<tf.Tensor: shape=(), dtype=float32, numpy=136.7728>,\n",
       "    <tf.Tensor: shape=(), dtype=float32, numpy=10.243014>,\n",
       "    <tf.Tensor: shape=(), dtype=float32, numpy=9.382927>,\n",
       "    <tf.Tensor: shape=(), dtype=float32, numpy=8.913335>,\n",
       "    <tf.Tensor: shape=(), dtype=float32, numpy=8.55351>,\n",
       "    <tf.Tensor: shape=(), dtype=float32, numpy=8.234829>,\n",
       "    <tf.Tensor: shape=(), dtype=float32, numpy=7.9281144>,\n",
       "    <tf.Tensor: shape=(), dtype=float32, numpy=7.652311>,\n",
       "    <tf.Tensor: shape=(), dtype=float32, numpy=7.398422>,\n",
       "    <tf.Tensor: shape=(), dtype=float32, numpy=7.1785917>,\n",
       "    <tf.Tensor: shape=(), dtype=float32, numpy=7.004937>,\n",
       "    <tf.Tensor: shape=(), dtype=float32, numpy=6.8592124>,\n",
       "    <tf.Tensor: shape=(), dtype=float32, numpy=6.7344956>,\n",
       "    <tf.Tensor: shape=(), dtype=float32, numpy=6.6077166>,\n",
       "    <tf.Tensor: shape=(), dtype=float32, numpy=6.4931917>,\n",
       "    <tf.Tensor: shape=(), dtype=float32, numpy=6.395228>,\n",
       "    <tf.Tensor: shape=(), dtype=float32, numpy=6.312439>,\n",
       "    <tf.Tensor: shape=(), dtype=float32, numpy=6.240547>,\n",
       "    <tf.Tensor: shape=(), dtype=float32, numpy=6.1783066>,\n",
       "    <tf.Tensor: shape=(), dtype=float32, numpy=6.1216593>],\n",
       "   'val_loss': [<tf.Tensor: shape=(), dtype=float32, numpy=11.604994>,\n",
       "    <tf.Tensor: shape=(), dtype=float32, numpy=9.653569>,\n",
       "    <tf.Tensor: shape=(), dtype=float32, numpy=9.173049>,\n",
       "    <tf.Tensor: shape=(), dtype=float32, numpy=8.718863>,\n",
       "    <tf.Tensor: shape=(), dtype=float32, numpy=8.388793>,\n",
       "    <tf.Tensor: shape=(), dtype=float32, numpy=8.016668>,\n",
       "    <tf.Tensor: shape=(), dtype=float32, numpy=7.7484326>,\n",
       "    <tf.Tensor: shape=(), dtype=float32, numpy=7.4443517>,\n",
       "    <tf.Tensor: shape=(), dtype=float32, numpy=7.28983>,\n",
       "    <tf.Tensor: shape=(), dtype=float32, numpy=7.091091>,\n",
       "    <tf.Tensor: shape=(), dtype=float32, numpy=6.910793>,\n",
       "    <tf.Tensor: shape=(), dtype=float32, numpy=6.7974057>,\n",
       "    <tf.Tensor: shape=(), dtype=float32, numpy=6.605862>,\n",
       "    <tf.Tensor: shape=(), dtype=float32, numpy=6.56013>,\n",
       "    <tf.Tensor: shape=(), dtype=float32, numpy=6.3821306>,\n",
       "    <tf.Tensor: shape=(), dtype=float32, numpy=6.329809>,\n",
       "    <tf.Tensor: shape=(), dtype=float32, numpy=6.24842>,\n",
       "    <tf.Tensor: shape=(), dtype=float32, numpy=6.122675>,\n",
       "    <tf.Tensor: shape=(), dtype=float32, numpy=6.096445>,\n",
       "    <tf.Tensor: shape=(), dtype=float32, numpy=6.0529385>],\n",
       "   'val_metric': [11.604990550231934,\n",
       "    9.65357378540039,\n",
       "    9.17304950764974,\n",
       "    8.718862609354655,\n",
       "    8.38879940032959,\n",
       "    8.016675042724609,\n",
       "    7.748437760925293,\n",
       "    7.444353551737468,\n",
       "    7.289831753031413,\n",
       "    7.091089455668132,\n",
       "    6.910795683288574,\n",
       "    6.797403809356689,\n",
       "    6.605857929229736,\n",
       "    6.560130122375488,\n",
       "    6.382129402923584,\n",
       "    6.329805734507243,\n",
       "    6.248417425028483,\n",
       "    6.122677632141113,\n",
       "    6.09644580078125,\n",
       "    6.052934901936849],\n",
       "   'hidden_layer_sizes': [[70, 50, 50, 50, 50],\n",
       "    [70, 46, 46, 48, 47],\n",
       "    [66, 43, 33, 42, 43],\n",
       "    [63, 40, 29, 41, 42],\n",
       "    [58, 37, 25, 35, 40],\n",
       "    [53, 31, 23, 33, 40],\n",
       "    [46, 28, 21, 31, 40],\n",
       "    [38, 26, 20, 30, 40],\n",
       "    [33, 25, 20, 26, 40],\n",
       "    [32, 25, 19, 21, 39],\n",
       "    [28, 22, 18, 18, 38],\n",
       "    [26, 20, 18, 17, 38],\n",
       "    [25, 19, 18, 17, 37],\n",
       "    [25, 17, 18, 16, 37],\n",
       "    [24, 16, 17, 14, 36],\n",
       "    [23, 16, 17, 14, 35],\n",
       "    [23, 16, 15, 13, 35],\n",
       "    [22, 16, 15, 12, 35],\n",
       "    [21, 16, 15, 11, 34],\n",
       "    [21, 16, 15, 11, 33]]},\n",
       "  {'loss': [<tf.Tensor: shape=(), dtype=float32, numpy=145.77635>,\n",
       "    <tf.Tensor: shape=(), dtype=float32, numpy=10.2703905>,\n",
       "    <tf.Tensor: shape=(), dtype=float32, numpy=9.5453>,\n",
       "    <tf.Tensor: shape=(), dtype=float32, numpy=9.099011>,\n",
       "    <tf.Tensor: shape=(), dtype=float32, numpy=8.733244>,\n",
       "    <tf.Tensor: shape=(), dtype=float32, numpy=8.283367>,\n",
       "    <tf.Tensor: shape=(), dtype=float32, numpy=7.8115187>,\n",
       "    <tf.Tensor: shape=(), dtype=float32, numpy=7.4648004>,\n",
       "    <tf.Tensor: shape=(), dtype=float32, numpy=7.2214165>,\n",
       "    <tf.Tensor: shape=(), dtype=float32, numpy=7.0280356>,\n",
       "    <tf.Tensor: shape=(), dtype=float32, numpy=6.8630786>,\n",
       "    <tf.Tensor: shape=(), dtype=float32, numpy=6.7062626>,\n",
       "    <tf.Tensor: shape=(), dtype=float32, numpy=6.5699687>,\n",
       "    <tf.Tensor: shape=(), dtype=float32, numpy=6.4582286>,\n",
       "    <tf.Tensor: shape=(), dtype=float32, numpy=6.352016>,\n",
       "    <tf.Tensor: shape=(), dtype=float32, numpy=6.2698827>,\n",
       "    <tf.Tensor: shape=(), dtype=float32, numpy=6.180832>,\n",
       "    <tf.Tensor: shape=(), dtype=float32, numpy=6.1056476>,\n",
       "    <tf.Tensor: shape=(), dtype=float32, numpy=6.0350666>,\n",
       "    <tf.Tensor: shape=(), dtype=float32, numpy=5.974095>],\n",
       "   'metric': [<tf.Tensor: shape=(), dtype=float32, numpy=145.77635>,\n",
       "    <tf.Tensor: shape=(), dtype=float32, numpy=10.2703905>,\n",
       "    <tf.Tensor: shape=(), dtype=float32, numpy=9.5453>,\n",
       "    <tf.Tensor: shape=(), dtype=float32, numpy=9.099011>,\n",
       "    <tf.Tensor: shape=(), dtype=float32, numpy=8.733244>,\n",
       "    <tf.Tensor: shape=(), dtype=float32, numpy=8.283367>,\n",
       "    <tf.Tensor: shape=(), dtype=float32, numpy=7.8115187>,\n",
       "    <tf.Tensor: shape=(), dtype=float32, numpy=7.4648004>,\n",
       "    <tf.Tensor: shape=(), dtype=float32, numpy=7.2214165>,\n",
       "    <tf.Tensor: shape=(), dtype=float32, numpy=7.0280356>,\n",
       "    <tf.Tensor: shape=(), dtype=float32, numpy=6.8630786>,\n",
       "    <tf.Tensor: shape=(), dtype=float32, numpy=6.7062626>,\n",
       "    <tf.Tensor: shape=(), dtype=float32, numpy=6.5699687>,\n",
       "    <tf.Tensor: shape=(), dtype=float32, numpy=6.4582286>,\n",
       "    <tf.Tensor: shape=(), dtype=float32, numpy=6.352016>,\n",
       "    <tf.Tensor: shape=(), dtype=float32, numpy=6.2698827>,\n",
       "    <tf.Tensor: shape=(), dtype=float32, numpy=6.180832>,\n",
       "    <tf.Tensor: shape=(), dtype=float32, numpy=6.1056476>,\n",
       "    <tf.Tensor: shape=(), dtype=float32, numpy=6.0350666>,\n",
       "    <tf.Tensor: shape=(), dtype=float32, numpy=5.974095>],\n",
       "   'val_loss': [<tf.Tensor: shape=(), dtype=float32, numpy=11.494233>,\n",
       "    <tf.Tensor: shape=(), dtype=float32, numpy=9.76146>,\n",
       "    <tf.Tensor: shape=(), dtype=float32, numpy=9.262505>,\n",
       "    <tf.Tensor: shape=(), dtype=float32, numpy=8.844578>,\n",
       "    <tf.Tensor: shape=(), dtype=float32, numpy=8.541768>,\n",
       "    <tf.Tensor: shape=(), dtype=float32, numpy=8.015032>,\n",
       "    <tf.Tensor: shape=(), dtype=float32, numpy=7.5613837>,\n",
       "    <tf.Tensor: shape=(), dtype=float32, numpy=7.341104>,\n",
       "    <tf.Tensor: shape=(), dtype=float32, numpy=7.0758047>,\n",
       "    <tf.Tensor: shape=(), dtype=float32, numpy=6.897463>,\n",
       "    <tf.Tensor: shape=(), dtype=float32, numpy=6.7088795>,\n",
       "    <tf.Tensor: shape=(), dtype=float32, numpy=6.604651>,\n",
       "    <tf.Tensor: shape=(), dtype=float32, numpy=6.4933767>,\n",
       "    <tf.Tensor: shape=(), dtype=float32, numpy=6.3731747>,\n",
       "    <tf.Tensor: shape=(), dtype=float32, numpy=6.2641935>,\n",
       "    <tf.Tensor: shape=(), dtype=float32, numpy=6.2280107>,\n",
       "    <tf.Tensor: shape=(), dtype=float32, numpy=6.097986>,\n",
       "    <tf.Tensor: shape=(), dtype=float32, numpy=6.06599>,\n",
       "    <tf.Tensor: shape=(), dtype=float32, numpy=6.0416975>,\n",
       "    <tf.Tensor: shape=(), dtype=float32, numpy=5.949951>],\n",
       "   'val_metric': [11.494232338968914,\n",
       "    9.761466193135579,\n",
       "    9.26250307413737,\n",
       "    8.844583235677083,\n",
       "    8.54176205851237,\n",
       "    8.015033134460449,\n",
       "    7.561384447733561,\n",
       "    7.341105802154541,\n",
       "    7.075804020690918,\n",
       "    6.897465691121419,\n",
       "    6.708880132802327,\n",
       "    6.604654951985677,\n",
       "    6.493374444834391,\n",
       "    6.373177343241374,\n",
       "    6.2641941365559894,\n",
       "    6.228009713745117,\n",
       "    6.097988645426432,\n",
       "    6.065986316172282,\n",
       "    6.04169864578247,\n",
       "    5.949953342692058],\n",
       "   'hidden_layer_sizes': [[70, 50, 50, 50, 52],\n",
       "    [68, 50, 44, 50, 46],\n",
       "    [67, 42, 34, 41, 44],\n",
       "    [63, 35, 31, 37, 43],\n",
       "    [62, 34, 25, 34, 41],\n",
       "    [57, 32, 23, 31, 41],\n",
       "    [43, 32, 19, 26, 40],\n",
       "    [37, 32, 17, 24, 39],\n",
       "    [30, 30, 15, 23, 38],\n",
       "    [26, 26, 14, 21, 37],\n",
       "    [24, 23, 13, 21, 36],\n",
       "    [22, 21, 12, 18, 36],\n",
       "    [21, 21, 12, 18, 33],\n",
       "    [21, 21, 12, 16, 32],\n",
       "    [21, 19, 12, 15, 32],\n",
       "    [20, 19, 11, 14, 32],\n",
       "    [20, 19, 11, 14, 32],\n",
       "    [20, 18, 11, 14, 31],\n",
       "    [20, 18, 11, 14, 30],\n",
       "    [20, 18, 10, 13, 30]]},\n",
       "  {'loss': [<tf.Tensor: shape=(), dtype=float32, numpy=145.71484>,\n",
       "    <tf.Tensor: shape=(), dtype=float32, numpy=10.198714>,\n",
       "    <tf.Tensor: shape=(), dtype=float32, numpy=9.4588785>,\n",
       "    <tf.Tensor: shape=(), dtype=float32, numpy=9.012365>,\n",
       "    <tf.Tensor: shape=(), dtype=float32, numpy=8.631496>,\n",
       "    <tf.Tensor: shape=(), dtype=float32, numpy=8.318016>,\n",
       "    <tf.Tensor: shape=(), dtype=float32, numpy=7.996076>,\n",
       "    <tf.Tensor: shape=(), dtype=float32, numpy=7.6945043>,\n",
       "    <tf.Tensor: shape=(), dtype=float32, numpy=7.4415812>,\n",
       "    <tf.Tensor: shape=(), dtype=float32, numpy=7.2183566>,\n",
       "    <tf.Tensor: shape=(), dtype=float32, numpy=7.001929>,\n",
       "    <tf.Tensor: shape=(), dtype=float32, numpy=6.788456>,\n",
       "    <tf.Tensor: shape=(), dtype=float32, numpy=6.5832663>,\n",
       "    <tf.Tensor: shape=(), dtype=float32, numpy=6.407974>,\n",
       "    <tf.Tensor: shape=(), dtype=float32, numpy=6.257305>,\n",
       "    <tf.Tensor: shape=(), dtype=float32, numpy=6.1456227>,\n",
       "    <tf.Tensor: shape=(), dtype=float32, numpy=6.0589304>,\n",
       "    <tf.Tensor: shape=(), dtype=float32, numpy=5.9837236>,\n",
       "    <tf.Tensor: shape=(), dtype=float32, numpy=5.9282913>,\n",
       "    <tf.Tensor: shape=(), dtype=float32, numpy=5.885352>],\n",
       "   'metric': [<tf.Tensor: shape=(), dtype=float32, numpy=145.71484>,\n",
       "    <tf.Tensor: shape=(), dtype=float32, numpy=10.198714>,\n",
       "    <tf.Tensor: shape=(), dtype=float32, numpy=9.4588785>,\n",
       "    <tf.Tensor: shape=(), dtype=float32, numpy=9.012365>,\n",
       "    <tf.Tensor: shape=(), dtype=float32, numpy=8.631496>,\n",
       "    <tf.Tensor: shape=(), dtype=float32, numpy=8.318016>,\n",
       "    <tf.Tensor: shape=(), dtype=float32, numpy=7.996076>,\n",
       "    <tf.Tensor: shape=(), dtype=float32, numpy=7.6945043>,\n",
       "    <tf.Tensor: shape=(), dtype=float32, numpy=7.4415812>,\n",
       "    <tf.Tensor: shape=(), dtype=float32, numpy=7.2183566>,\n",
       "    <tf.Tensor: shape=(), dtype=float32, numpy=7.001929>,\n",
       "    <tf.Tensor: shape=(), dtype=float32, numpy=6.788456>,\n",
       "    <tf.Tensor: shape=(), dtype=float32, numpy=6.5832663>,\n",
       "    <tf.Tensor: shape=(), dtype=float32, numpy=6.407974>,\n",
       "    <tf.Tensor: shape=(), dtype=float32, numpy=6.257305>,\n",
       "    <tf.Tensor: shape=(), dtype=float32, numpy=6.1456227>,\n",
       "    <tf.Tensor: shape=(), dtype=float32, numpy=6.0589304>,\n",
       "    <tf.Tensor: shape=(), dtype=float32, numpy=5.9837236>,\n",
       "    <tf.Tensor: shape=(), dtype=float32, numpy=5.9282913>,\n",
       "    <tf.Tensor: shape=(), dtype=float32, numpy=5.885352>],\n",
       "   'val_loss': [<tf.Tensor: shape=(), dtype=float32, numpy=11.297216>,\n",
       "    <tf.Tensor: shape=(), dtype=float32, numpy=9.795184>,\n",
       "    <tf.Tensor: shape=(), dtype=float32, numpy=9.173205>,\n",
       "    <tf.Tensor: shape=(), dtype=float32, numpy=8.737129>,\n",
       "    <tf.Tensor: shape=(), dtype=float32, numpy=8.466818>,\n",
       "    <tf.Tensor: shape=(), dtype=float32, numpy=8.058976>,\n",
       "    <tf.Tensor: shape=(), dtype=float32, numpy=7.8075943>,\n",
       "    <tf.Tensor: shape=(), dtype=float32, numpy=7.51078>,\n",
       "    <tf.Tensor: shape=(), dtype=float32, numpy=7.258214>,\n",
       "    <tf.Tensor: shape=(), dtype=float32, numpy=7.055218>,\n",
       "    <tf.Tensor: shape=(), dtype=float32, numpy=6.883722>,\n",
       "    <tf.Tensor: shape=(), dtype=float32, numpy=6.621936>,\n",
       "    <tf.Tensor: shape=(), dtype=float32, numpy=6.424162>,\n",
       "    <tf.Tensor: shape=(), dtype=float32, numpy=6.287956>,\n",
       "    <tf.Tensor: shape=(), dtype=float32, numpy=6.180625>,\n",
       "    <tf.Tensor: shape=(), dtype=float32, numpy=6.03766>,\n",
       "    <tf.Tensor: shape=(), dtype=float32, numpy=5.956581>,\n",
       "    <tf.Tensor: shape=(), dtype=float32, numpy=5.907162>,\n",
       "    <tf.Tensor: shape=(), dtype=float32, numpy=5.862918>,\n",
       "    <tf.Tensor: shape=(), dtype=float32, numpy=5.825694>],\n",
       "   'val_metric': [11.297211313883464,\n",
       "    9.795184306844076,\n",
       "    9.173209466552734,\n",
       "    8.737126611836752,\n",
       "    8.466820320638021,\n",
       "    8.058972655741373,\n",
       "    7.80758665822347,\n",
       "    7.510781537882487,\n",
       "    7.258212633514404,\n",
       "    7.055215279897054,\n",
       "    6.883722032419841,\n",
       "    6.621939653523763,\n",
       "    6.424161732991537,\n",
       "    6.28795279973348,\n",
       "    6.180626590728759,\n",
       "    6.037661169687907,\n",
       "    5.95657854868571,\n",
       "    5.9071679796854655,\n",
       "    5.862914967854818,\n",
       "    5.825696777852376],\n",
       "   'hidden_layer_sizes': [[69, 50, 50, 50, 67],\n",
       "    [69, 46, 44, 46, 48],\n",
       "    [67, 39, 34, 38, 46],\n",
       "    [62, 35, 32, 33, 46],\n",
       "    [59, 31, 27, 28, 44],\n",
       "    [51, 27, 23, 23, 44],\n",
       "    [42, 24, 20, 21, 44],\n",
       "    [36, 24, 20, 20, 43],\n",
       "    [33, 24, 17, 18, 42],\n",
       "    [30, 24, 17, 18, 42],\n",
       "    [25, 23, 17, 18, 42],\n",
       "    [21, 23, 17, 16, 42],\n",
       "    [21, 23, 16, 15, 41],\n",
       "    [18, 21, 16, 14, 39],\n",
       "    [18, 20, 16, 13, 39],\n",
       "    [18, 19, 15, 12, 38],\n",
       "    [18, 18, 15, 10, 37],\n",
       "    [18, 17, 14, 10, 35],\n",
       "    [18, 16, 14, 10, 32],\n",
       "    [18, 16, 14, 10, 32]]}],\n",
       " '0610215a13': [{'loss': [<tf.Tensor: shape=(), dtype=float32, numpy=102.5719>,\n",
       "    <tf.Tensor: shape=(), dtype=float32, numpy=9.543862>,\n",
       "    <tf.Tensor: shape=(), dtype=float32, numpy=8.092633>,\n",
       "    <tf.Tensor: shape=(), dtype=float32, numpy=7.1702147>,\n",
       "    <tf.Tensor: shape=(), dtype=float32, numpy=6.5608525>,\n",
       "    <tf.Tensor: shape=(), dtype=float32, numpy=6.1719046>,\n",
       "    <tf.Tensor: shape=(), dtype=float32, numpy=5.9044685>,\n",
       "    <tf.Tensor: shape=(), dtype=float32, numpy=5.6702967>,\n",
       "    <tf.Tensor: shape=(), dtype=float32, numpy=5.453984>,\n",
       "    <tf.Tensor: shape=(), dtype=float32, numpy=5.2453594>,\n",
       "    <tf.Tensor: shape=(), dtype=float32, numpy=5.068471>,\n",
       "    <tf.Tensor: shape=(), dtype=float32, numpy=4.9178314>,\n",
       "    <tf.Tensor: shape=(), dtype=float32, numpy=4.7999578>,\n",
       "    <tf.Tensor: shape=(), dtype=float32, numpy=4.7137246>,\n",
       "    <tf.Tensor: shape=(), dtype=float32, numpy=4.6422124>,\n",
       "    <tf.Tensor: shape=(), dtype=float32, numpy=4.578911>,\n",
       "    <tf.Tensor: shape=(), dtype=float32, numpy=4.522656>,\n",
       "    <tf.Tensor: shape=(), dtype=float32, numpy=4.472473>,\n",
       "    <tf.Tensor: shape=(), dtype=float32, numpy=4.4310155>,\n",
       "    <tf.Tensor: shape=(), dtype=float32, numpy=4.384367>],\n",
       "   'metric': [<tf.Tensor: shape=(), dtype=float32, numpy=102.5719>,\n",
       "    <tf.Tensor: shape=(), dtype=float32, numpy=9.543862>,\n",
       "    <tf.Tensor: shape=(), dtype=float32, numpy=8.092633>,\n",
       "    <tf.Tensor: shape=(), dtype=float32, numpy=7.1702147>,\n",
       "    <tf.Tensor: shape=(), dtype=float32, numpy=6.5608525>,\n",
       "    <tf.Tensor: shape=(), dtype=float32, numpy=6.1719046>,\n",
       "    <tf.Tensor: shape=(), dtype=float32, numpy=5.9044685>,\n",
       "    <tf.Tensor: shape=(), dtype=float32, numpy=5.6702967>,\n",
       "    <tf.Tensor: shape=(), dtype=float32, numpy=5.453984>,\n",
       "    <tf.Tensor: shape=(), dtype=float32, numpy=5.2453594>,\n",
       "    <tf.Tensor: shape=(), dtype=float32, numpy=5.068471>,\n",
       "    <tf.Tensor: shape=(), dtype=float32, numpy=4.9178314>,\n",
       "    <tf.Tensor: shape=(), dtype=float32, numpy=4.7999578>,\n",
       "    <tf.Tensor: shape=(), dtype=float32, numpy=4.7137246>,\n",
       "    <tf.Tensor: shape=(), dtype=float32, numpy=4.6422124>,\n",
       "    <tf.Tensor: shape=(), dtype=float32, numpy=4.578911>,\n",
       "    <tf.Tensor: shape=(), dtype=float32, numpy=4.522656>,\n",
       "    <tf.Tensor: shape=(), dtype=float32, numpy=4.472473>,\n",
       "    <tf.Tensor: shape=(), dtype=float32, numpy=4.4310155>,\n",
       "    <tf.Tensor: shape=(), dtype=float32, numpy=4.384367>],\n",
       "   'val_loss': [<tf.Tensor: shape=(), dtype=float32, numpy=10.8583>,\n",
       "    <tf.Tensor: shape=(), dtype=float32, numpy=8.712604>,\n",
       "    <tf.Tensor: shape=(), dtype=float32, numpy=7.563062>,\n",
       "    <tf.Tensor: shape=(), dtype=float32, numpy=6.836806>,\n",
       "    <tf.Tensor: shape=(), dtype=float32, numpy=6.3273134>,\n",
       "    <tf.Tensor: shape=(), dtype=float32, numpy=6.0550036>,\n",
       "    <tf.Tensor: shape=(), dtype=float32, numpy=5.875636>,\n",
       "    <tf.Tensor: shape=(), dtype=float32, numpy=5.6197844>,\n",
       "    <tf.Tensor: shape=(), dtype=float32, numpy=5.359436>,\n",
       "    <tf.Tensor: shape=(), dtype=float32, numpy=5.1598854>,\n",
       "    <tf.Tensor: shape=(), dtype=float32, numpy=5.0040684>,\n",
       "    <tf.Tensor: shape=(), dtype=float32, numpy=4.830385>,\n",
       "    <tf.Tensor: shape=(), dtype=float32, numpy=4.72812>,\n",
       "    <tf.Tensor: shape=(), dtype=float32, numpy=4.7241125>,\n",
       "    <tf.Tensor: shape=(), dtype=float32, numpy=4.608337>,\n",
       "    <tf.Tensor: shape=(), dtype=float32, numpy=4.528298>,\n",
       "    <tf.Tensor: shape=(), dtype=float32, numpy=4.4836855>,\n",
       "    <tf.Tensor: shape=(), dtype=float32, numpy=4.400998>,\n",
       "    <tf.Tensor: shape=(), dtype=float32, numpy=4.420226>,\n",
       "    <tf.Tensor: shape=(), dtype=float32, numpy=4.339475>],\n",
       "   'val_metric': [10.858295219930014,\n",
       "    8.712601583099365,\n",
       "    7.563065107218424,\n",
       "    6.836809361012777,\n",
       "    6.3273166605631515,\n",
       "    6.0550016525268555,\n",
       "    5.875638859303792,\n",
       "    5.619784485371907,\n",
       "    5.359434788258871,\n",
       "    5.15988486735026,\n",
       "    5.004065323638916,\n",
       "    4.830384447733561,\n",
       "    4.728119979604085,\n",
       "    4.724113279469808,\n",
       "    4.6083360827128095,\n",
       "    4.528296249135336,\n",
       "    4.483683462778727,\n",
       "    4.400995681762695,\n",
       "    4.420226570638021,\n",
       "    4.339475152333577],\n",
       "   'hidden_layer_sizes': [[70, 70, 70, 70, 70],\n",
       "    [70, 70, 70, 70, 52],\n",
       "    [70, 70, 70, 69, 48],\n",
       "    [70, 70, 70, 55, 48],\n",
       "    [70, 70, 66, 47, 48],\n",
       "    [69, 70, 53, 47, 46],\n",
       "    [68, 70, 48, 45, 46],\n",
       "    [59, 70, 46, 45, 46],\n",
       "    [58, 70, 45, 45, 46],\n",
       "    [56, 70, 42, 44, 46],\n",
       "    [54, 70, 41, 43, 46],\n",
       "    [54, 70, 39, 42, 46],\n",
       "    [54, 70, 39, 41, 46],\n",
       "    [54, 70, 38, 41, 45],\n",
       "    [54, 70, 36, 41, 45],\n",
       "    [54, 70, 36, 41, 45],\n",
       "    [53, 69, 35, 41, 44],\n",
       "    [53, 69, 34, 40, 44],\n",
       "    [53, 66, 34, 40, 44],\n",
       "    [52, 62, 34, 40, 44]]},\n",
       "  {'loss': [<tf.Tensor: shape=(), dtype=float32, numpy=112.23459>,\n",
       "    <tf.Tensor: shape=(), dtype=float32, numpy=9.563655>,\n",
       "    <tf.Tensor: shape=(), dtype=float32, numpy=8.217638>,\n",
       "    <tf.Tensor: shape=(), dtype=float32, numpy=7.2598143>,\n",
       "    <tf.Tensor: shape=(), dtype=float32, numpy=6.6194444>,\n",
       "    <tf.Tensor: shape=(), dtype=float32, numpy=6.1447616>,\n",
       "    <tf.Tensor: shape=(), dtype=float32, numpy=5.797271>,\n",
       "    <tf.Tensor: shape=(), dtype=float32, numpy=5.5123715>,\n",
       "    <tf.Tensor: shape=(), dtype=float32, numpy=5.2727456>,\n",
       "    <tf.Tensor: shape=(), dtype=float32, numpy=5.0678625>,\n",
       "    <tf.Tensor: shape=(), dtype=float32, numpy=4.9024863>,\n",
       "    <tf.Tensor: shape=(), dtype=float32, numpy=4.783149>,\n",
       "    <tf.Tensor: shape=(), dtype=float32, numpy=4.6960793>,\n",
       "    <tf.Tensor: shape=(), dtype=float32, numpy=4.6275816>,\n",
       "    <tf.Tensor: shape=(), dtype=float32, numpy=4.5648723>,\n",
       "    <tf.Tensor: shape=(), dtype=float32, numpy=4.51554>,\n",
       "    <tf.Tensor: shape=(), dtype=float32, numpy=4.471457>,\n",
       "    <tf.Tensor: shape=(), dtype=float32, numpy=4.42879>,\n",
       "    <tf.Tensor: shape=(), dtype=float32, numpy=4.390942>,\n",
       "    <tf.Tensor: shape=(), dtype=float32, numpy=4.354162>],\n",
       "   'metric': [<tf.Tensor: shape=(), dtype=float32, numpy=112.23459>,\n",
       "    <tf.Tensor: shape=(), dtype=float32, numpy=9.563655>,\n",
       "    <tf.Tensor: shape=(), dtype=float32, numpy=8.217638>,\n",
       "    <tf.Tensor: shape=(), dtype=float32, numpy=7.2598143>,\n",
       "    <tf.Tensor: shape=(), dtype=float32, numpy=6.6194444>,\n",
       "    <tf.Tensor: shape=(), dtype=float32, numpy=6.1447616>,\n",
       "    <tf.Tensor: shape=(), dtype=float32, numpy=5.797271>,\n",
       "    <tf.Tensor: shape=(), dtype=float32, numpy=5.5123715>,\n",
       "    <tf.Tensor: shape=(), dtype=float32, numpy=5.2727456>,\n",
       "    <tf.Tensor: shape=(), dtype=float32, numpy=5.0678625>,\n",
       "    <tf.Tensor: shape=(), dtype=float32, numpy=4.9024863>,\n",
       "    <tf.Tensor: shape=(), dtype=float32, numpy=4.783149>,\n",
       "    <tf.Tensor: shape=(), dtype=float32, numpy=4.6960793>,\n",
       "    <tf.Tensor: shape=(), dtype=float32, numpy=4.6275816>,\n",
       "    <tf.Tensor: shape=(), dtype=float32, numpy=4.5648723>,\n",
       "    <tf.Tensor: shape=(), dtype=float32, numpy=4.51554>,\n",
       "    <tf.Tensor: shape=(), dtype=float32, numpy=4.471457>,\n",
       "    <tf.Tensor: shape=(), dtype=float32, numpy=4.42879>,\n",
       "    <tf.Tensor: shape=(), dtype=float32, numpy=4.390942>,\n",
       "    <tf.Tensor: shape=(), dtype=float32, numpy=4.354162>],\n",
       "   'val_loss': [<tf.Tensor: shape=(), dtype=float32, numpy=10.708436>,\n",
       "    <tf.Tensor: shape=(), dtype=float32, numpy=8.849337>,\n",
       "    <tf.Tensor: shape=(), dtype=float32, numpy=7.7236123>,\n",
       "    <tf.Tensor: shape=(), dtype=float32, numpy=6.9868793>,\n",
       "    <tf.Tensor: shape=(), dtype=float32, numpy=6.4015093>,\n",
       "    <tf.Tensor: shape=(), dtype=float32, numpy=5.9655666>,\n",
       "    <tf.Tensor: shape=(), dtype=float32, numpy=5.6504483>,\n",
       "    <tf.Tensor: shape=(), dtype=float32, numpy=5.394494>,\n",
       "    <tf.Tensor: shape=(), dtype=float32, numpy=5.167523>,\n",
       "    <tf.Tensor: shape=(), dtype=float32, numpy=4.9591665>,\n",
       "    <tf.Tensor: shape=(), dtype=float32, numpy=4.8394136>,\n",
       "    <tf.Tensor: shape=(), dtype=float32, numpy=4.7021704>,\n",
       "    <tf.Tensor: shape=(), dtype=float32, numpy=4.603458>,\n",
       "    <tf.Tensor: shape=(), dtype=float32, numpy=4.562054>,\n",
       "    <tf.Tensor: shape=(), dtype=float32, numpy=4.515528>,\n",
       "    <tf.Tensor: shape=(), dtype=float32, numpy=4.469609>,\n",
       "    <tf.Tensor: shape=(), dtype=float32, numpy=4.4707537>,\n",
       "    <tf.Tensor: shape=(), dtype=float32, numpy=4.3983936>,\n",
       "    <tf.Tensor: shape=(), dtype=float32, numpy=4.375513>,\n",
       "    <tf.Tensor: shape=(), dtype=float32, numpy=4.3079534>],\n",
       "   'val_metric': [10.708436020406086,\n",
       "    8.849339384969076,\n",
       "    7.7236141606648765,\n",
       "    6.986881114705404,\n",
       "    6.401508075714111,\n",
       "    5.965567784118653,\n",
       "    5.650443980662028,\n",
       "    5.394492555236816,\n",
       "    5.167521554819743,\n",
       "    4.9591675417582195,\n",
       "    4.839414377848307,\n",
       "    4.702169028981527,\n",
       "    4.603459215799967,\n",
       "    4.56205401357015,\n",
       "    4.515527666727702,\n",
       "    4.469605901845296,\n",
       "    4.470750244903565,\n",
       "    4.398396089935303,\n",
       "    4.375512434132894,\n",
       "    4.307954008992513],\n",
       "   'hidden_layer_sizes': [[70, 70, 70, 70, 70],\n",
       "    [70, 70, 70, 70, 70],\n",
       "    [70, 70, 70, 69, 62],\n",
       "    [70, 70, 68, 49, 55],\n",
       "    [70, 70, 57, 49, 50],\n",
       "    [70, 69, 48, 49, 50],\n",
       "    [70, 69, 46, 47, 50],\n",
       "    [67, 69, 46, 47, 50],\n",
       "    [66, 68, 44, 47, 50],\n",
       "    [65, 68, 43, 46, 50],\n",
       "    [65, 68, 43, 44, 50],\n",
       "    [63, 68, 42, 44, 50],\n",
       "    [62, 68, 42, 43, 50],\n",
       "    [61, 67, 42, 41, 50],\n",
       "    [59, 65, 41, 41, 50],\n",
       "    [58, 60, 41, 39, 50],\n",
       "    [58, 56, 40, 39, 50],\n",
       "    [57, 53, 39, 37, 50],\n",
       "    [57, 49, 38, 37, 50],\n",
       "    [56, 47, 37, 37, 50]]},\n",
       "  {'loss': [<tf.Tensor: shape=(), dtype=float32, numpy=107.739105>,\n",
       "    <tf.Tensor: shape=(), dtype=float32, numpy=9.436977>,\n",
       "    <tf.Tensor: shape=(), dtype=float32, numpy=8.0382395>,\n",
       "    <tf.Tensor: shape=(), dtype=float32, numpy=7.062408>,\n",
       "    <tf.Tensor: shape=(), dtype=float32, numpy=6.4657087>,\n",
       "    <tf.Tensor: shape=(), dtype=float32, numpy=6.1026964>,\n",
       "    <tf.Tensor: shape=(), dtype=float32, numpy=5.8187814>,\n",
       "    <tf.Tensor: shape=(), dtype=float32, numpy=5.5751877>,\n",
       "    <tf.Tensor: shape=(), dtype=float32, numpy=5.3782353>,\n",
       "    <tf.Tensor: shape=(), dtype=float32, numpy=5.2082405>,\n",
       "    <tf.Tensor: shape=(), dtype=float32, numpy=5.0851507>,\n",
       "    <tf.Tensor: shape=(), dtype=float32, numpy=4.9713798>,\n",
       "    <tf.Tensor: shape=(), dtype=float32, numpy=4.8797865>,\n",
       "    <tf.Tensor: shape=(), dtype=float32, numpy=4.792073>,\n",
       "    <tf.Tensor: shape=(), dtype=float32, numpy=4.711627>,\n",
       "    <tf.Tensor: shape=(), dtype=float32, numpy=4.648059>,\n",
       "    <tf.Tensor: shape=(), dtype=float32, numpy=4.5840263>,\n",
       "    <tf.Tensor: shape=(), dtype=float32, numpy=4.5339346>,\n",
       "    <tf.Tensor: shape=(), dtype=float32, numpy=4.4914303>,\n",
       "    <tf.Tensor: shape=(), dtype=float32, numpy=4.450979>],\n",
       "   'metric': [<tf.Tensor: shape=(), dtype=float32, numpy=107.739105>,\n",
       "    <tf.Tensor: shape=(), dtype=float32, numpy=9.436977>,\n",
       "    <tf.Tensor: shape=(), dtype=float32, numpy=8.0382395>,\n",
       "    <tf.Tensor: shape=(), dtype=float32, numpy=7.062408>,\n",
       "    <tf.Tensor: shape=(), dtype=float32, numpy=6.4657087>,\n",
       "    <tf.Tensor: shape=(), dtype=float32, numpy=6.1026964>,\n",
       "    <tf.Tensor: shape=(), dtype=float32, numpy=5.8187814>,\n",
       "    <tf.Tensor: shape=(), dtype=float32, numpy=5.5751877>,\n",
       "    <tf.Tensor: shape=(), dtype=float32, numpy=5.3782353>,\n",
       "    <tf.Tensor: shape=(), dtype=float32, numpy=5.2082405>,\n",
       "    <tf.Tensor: shape=(), dtype=float32, numpy=5.0851507>,\n",
       "    <tf.Tensor: shape=(), dtype=float32, numpy=4.9713798>,\n",
       "    <tf.Tensor: shape=(), dtype=float32, numpy=4.8797865>,\n",
       "    <tf.Tensor: shape=(), dtype=float32, numpy=4.792073>,\n",
       "    <tf.Tensor: shape=(), dtype=float32, numpy=4.711627>,\n",
       "    <tf.Tensor: shape=(), dtype=float32, numpy=4.648059>,\n",
       "    <tf.Tensor: shape=(), dtype=float32, numpy=4.5840263>,\n",
       "    <tf.Tensor: shape=(), dtype=float32, numpy=4.5339346>,\n",
       "    <tf.Tensor: shape=(), dtype=float32, numpy=4.4914303>,\n",
       "    <tf.Tensor: shape=(), dtype=float32, numpy=4.450979>],\n",
       "   'val_loss': [<tf.Tensor: shape=(), dtype=float32, numpy=10.722648>,\n",
       "    <tf.Tensor: shape=(), dtype=float32, numpy=8.750081>,\n",
       "    <tf.Tensor: shape=(), dtype=float32, numpy=7.6244054>,\n",
       "    <tf.Tensor: shape=(), dtype=float32, numpy=6.739968>,\n",
       "    <tf.Tensor: shape=(), dtype=float32, numpy=6.2697716>,\n",
       "    <tf.Tensor: shape=(), dtype=float32, numpy=6.00338>,\n",
       "    <tf.Tensor: shape=(), dtype=float32, numpy=5.6911807>,\n",
       "    <tf.Tensor: shape=(), dtype=float32, numpy=5.4576697>,\n",
       "    <tf.Tensor: shape=(), dtype=float32, numpy=5.2528462>,\n",
       "    <tf.Tensor: shape=(), dtype=float32, numpy=5.1148944>,\n",
       "    <tf.Tensor: shape=(), dtype=float32, numpy=5.030428>,\n",
       "    <tf.Tensor: shape=(), dtype=float32, numpy=4.920482>,\n",
       "    <tf.Tensor: shape=(), dtype=float32, numpy=4.7859645>,\n",
       "    <tf.Tensor: shape=(), dtype=float32, numpy=4.7476535>,\n",
       "    <tf.Tensor: shape=(), dtype=float32, numpy=4.7108374>,\n",
       "    <tf.Tensor: shape=(), dtype=float32, numpy=4.5912423>,\n",
       "    <tf.Tensor: shape=(), dtype=float32, numpy=4.56487>,\n",
       "    <tf.Tensor: shape=(), dtype=float32, numpy=4.510439>,\n",
       "    <tf.Tensor: shape=(), dtype=float32, numpy=4.4666953>,\n",
       "    <tf.Tensor: shape=(), dtype=float32, numpy=4.44589>],\n",
       "   'val_metric': [10.722646173095702,\n",
       "    8.75008018544515,\n",
       "    7.624406844584147,\n",
       "    6.739967284647624,\n",
       "    6.269768652598063,\n",
       "    6.0033784708658855,\n",
       "    5.6911776260375975,\n",
       "    5.457672005208333,\n",
       "    5.252843747711181,\n",
       "    5.114894299825033,\n",
       "    5.030431009419759,\n",
       "    4.920482824707031,\n",
       "    4.785965074920655,\n",
       "    4.7476524765014645,\n",
       "    4.710834049987793,\n",
       "    4.591241246287028,\n",
       "    4.564867799631754,\n",
       "    4.510437294006348,\n",
       "    4.466696282958984,\n",
       "    4.445890914916992],\n",
       "   'hidden_layer_sizes': [[70, 70, 70, 70, 70],\n",
       "    [70, 70, 70, 70, 70],\n",
       "    [70, 70, 70, 69, 54],\n",
       "    [70, 70, 70, 59, 50],\n",
       "    [70, 70, 70, 49, 50],\n",
       "    [70, 70, 59, 48, 50],\n",
       "    [66, 70, 52, 48, 50],\n",
       "    [65, 70, 47, 48, 50],\n",
       "    [62, 70, 47, 47, 50],\n",
       "    [62, 70, 46, 47, 50],\n",
       "    [60, 70, 45, 47, 49],\n",
       "    [57, 69, 43, 46, 49],\n",
       "    [56, 69, 42, 46, 49],\n",
       "    [56, 69, 42, 45, 49],\n",
       "    [54, 69, 42, 45, 49],\n",
       "    [52, 68, 41, 43, 49],\n",
       "    [52, 68, 40, 43, 49],\n",
       "    [52, 68, 40, 41, 49],\n",
       "    [51, 67, 39, 41, 49],\n",
       "    [51, 67, 39, 40, 49]]},\n",
       "  {'loss': [<tf.Tensor: shape=(), dtype=float32, numpy=106.9412>,\n",
       "    <tf.Tensor: shape=(), dtype=float32, numpy=9.49889>,\n",
       "    <tf.Tensor: shape=(), dtype=float32, numpy=8.023141>,\n",
       "    <tf.Tensor: shape=(), dtype=float32, numpy=7.1845555>,\n",
       "    <tf.Tensor: shape=(), dtype=float32, numpy=6.5637608>,\n",
       "    <tf.Tensor: shape=(), dtype=float32, numpy=6.130876>,\n",
       "    <tf.Tensor: shape=(), dtype=float32, numpy=5.812751>,\n",
       "    <tf.Tensor: shape=(), dtype=float32, numpy=5.5823355>,\n",
       "    <tf.Tensor: shape=(), dtype=float32, numpy=5.3962235>,\n",
       "    <tf.Tensor: shape=(), dtype=float32, numpy=5.2350154>,\n",
       "    <tf.Tensor: shape=(), dtype=float32, numpy=5.083199>,\n",
       "    <tf.Tensor: shape=(), dtype=float32, numpy=4.9380655>,\n",
       "    <tf.Tensor: shape=(), dtype=float32, numpy=4.8267922>,\n",
       "    <tf.Tensor: shape=(), dtype=float32, numpy=4.7324324>,\n",
       "    <tf.Tensor: shape=(), dtype=float32, numpy=4.660248>,\n",
       "    <tf.Tensor: shape=(), dtype=float32, numpy=4.6016316>,\n",
       "    <tf.Tensor: shape=(), dtype=float32, numpy=4.5506516>,\n",
       "    <tf.Tensor: shape=(), dtype=float32, numpy=4.501395>,\n",
       "    <tf.Tensor: shape=(), dtype=float32, numpy=4.4583764>,\n",
       "    <tf.Tensor: shape=(), dtype=float32, numpy=4.421435>],\n",
       "   'metric': [<tf.Tensor: shape=(), dtype=float32, numpy=106.9412>,\n",
       "    <tf.Tensor: shape=(), dtype=float32, numpy=9.49889>,\n",
       "    <tf.Tensor: shape=(), dtype=float32, numpy=8.023141>,\n",
       "    <tf.Tensor: shape=(), dtype=float32, numpy=7.1845555>,\n",
       "    <tf.Tensor: shape=(), dtype=float32, numpy=6.5637608>,\n",
       "    <tf.Tensor: shape=(), dtype=float32, numpy=6.130876>,\n",
       "    <tf.Tensor: shape=(), dtype=float32, numpy=5.812751>,\n",
       "    <tf.Tensor: shape=(), dtype=float32, numpy=5.5823355>,\n",
       "    <tf.Tensor: shape=(), dtype=float32, numpy=5.3962235>,\n",
       "    <tf.Tensor: shape=(), dtype=float32, numpy=5.2350154>,\n",
       "    <tf.Tensor: shape=(), dtype=float32, numpy=5.083199>,\n",
       "    <tf.Tensor: shape=(), dtype=float32, numpy=4.9380655>,\n",
       "    <tf.Tensor: shape=(), dtype=float32, numpy=4.8267922>,\n",
       "    <tf.Tensor: shape=(), dtype=float32, numpy=4.7324324>,\n",
       "    <tf.Tensor: shape=(), dtype=float32, numpy=4.660248>,\n",
       "    <tf.Tensor: shape=(), dtype=float32, numpy=4.6016316>,\n",
       "    <tf.Tensor: shape=(), dtype=float32, numpy=4.5506516>,\n",
       "    <tf.Tensor: shape=(), dtype=float32, numpy=4.501395>,\n",
       "    <tf.Tensor: shape=(), dtype=float32, numpy=4.4583764>,\n",
       "    <tf.Tensor: shape=(), dtype=float32, numpy=4.421435>],\n",
       "   'val_loss': [<tf.Tensor: shape=(), dtype=float32, numpy=10.790127>,\n",
       "    <tf.Tensor: shape=(), dtype=float32, numpy=8.691013>,\n",
       "    <tf.Tensor: shape=(), dtype=float32, numpy=7.5759745>,\n",
       "    <tf.Tensor: shape=(), dtype=float32, numpy=6.8390265>,\n",
       "    <tf.Tensor: shape=(), dtype=float32, numpy=6.455018>,\n",
       "    <tf.Tensor: shape=(), dtype=float32, numpy=5.9511065>,\n",
       "    <tf.Tensor: shape=(), dtype=float32, numpy=5.670306>,\n",
       "    <tf.Tensor: shape=(), dtype=float32, numpy=5.501803>,\n",
       "    <tf.Tensor: shape=(), dtype=float32, numpy=5.297694>,\n",
       "    <tf.Tensor: shape=(), dtype=float32, numpy=5.1763163>,\n",
       "    <tf.Tensor: shape=(), dtype=float32, numpy=4.9829335>,\n",
       "    <tf.Tensor: shape=(), dtype=float32, numpy=4.878605>,\n",
       "    <tf.Tensor: shape=(), dtype=float32, numpy=4.8605447>,\n",
       "    <tf.Tensor: shape=(), dtype=float32, numpy=4.7271066>,\n",
       "    <tf.Tensor: shape=(), dtype=float32, numpy=4.690014>,\n",
       "    <tf.Tensor: shape=(), dtype=float32, numpy=4.622525>,\n",
       "    <tf.Tensor: shape=(), dtype=float32, numpy=4.5381966>,\n",
       "    <tf.Tensor: shape=(), dtype=float32, numpy=4.5082088>,\n",
       "    <tf.Tensor: shape=(), dtype=float32, numpy=4.460672>,\n",
       "    <tf.Tensor: shape=(), dtype=float32, numpy=4.3914213>],\n",
       "   'val_metric': [10.790124494425456,\n",
       "    8.691013301086425,\n",
       "    7.5759757682800295,\n",
       "    6.839021485900879,\n",
       "    6.455017132314047,\n",
       "    5.951104818979899,\n",
       "    5.670309298706055,\n",
       "    5.501802429453532,\n",
       "    5.297689632924397,\n",
       "    5.176317521413167,\n",
       "    4.982933361816406,\n",
       "    4.8786060384114585,\n",
       "    4.8605464940389,\n",
       "    4.727104762013753,\n",
       "    4.69001515604655,\n",
       "    4.622522410837809,\n",
       "    4.5381992787679035,\n",
       "    4.508207517242432,\n",
       "    4.46066898167928,\n",
       "    4.391417686716715],\n",
       "   'hidden_layer_sizes': [[70, 70, 70, 70, 70],\n",
       "    [70, 70, 70, 70, 63],\n",
       "    [70, 70, 70, 64, 52],\n",
       "    [70, 70, 59, 50, 51],\n",
       "    [70, 70, 45, 49, 48],\n",
       "    [70, 70, 45, 49, 48],\n",
       "    [70, 70, 45, 49, 48],\n",
       "    [65, 70, 44, 49, 48],\n",
       "    [62, 70, 44, 49, 48],\n",
       "    [62, 70, 43, 48, 47],\n",
       "    [61, 70, 43, 47, 46],\n",
       "    [60, 70, 43, 47, 46],\n",
       "    [60, 68, 41, 47, 46],\n",
       "    [60, 62, 40, 47, 46],\n",
       "    [60, 56, 40, 45, 45],\n",
       "    [57, 54, 39, 45, 45],\n",
       "    [57, 49, 39, 44, 45],\n",
       "    [57, 47, 39, 44, 44],\n",
       "    [56, 47, 39, 44, 43],\n",
       "    [54, 47, 39, 44, 42]]},\n",
       "  {'loss': [<tf.Tensor: shape=(), dtype=float32, numpy=110.7843>,\n",
       "    <tf.Tensor: shape=(), dtype=float32, numpy=9.59335>,\n",
       "    <tf.Tensor: shape=(), dtype=float32, numpy=7.9675736>,\n",
       "    <tf.Tensor: shape=(), dtype=float32, numpy=7.012539>,\n",
       "    <tf.Tensor: shape=(), dtype=float32, numpy=6.388903>,\n",
       "    <tf.Tensor: shape=(), dtype=float32, numpy=5.9244246>,\n",
       "    <tf.Tensor: shape=(), dtype=float32, numpy=5.578446>,\n",
       "    <tf.Tensor: shape=(), dtype=float32, numpy=5.324655>,\n",
       "    <tf.Tensor: shape=(), dtype=float32, numpy=5.129983>,\n",
       "    <tf.Tensor: shape=(), dtype=float32, numpy=4.9873595>,\n",
       "    <tf.Tensor: shape=(), dtype=float32, numpy=4.8704534>,\n",
       "    <tf.Tensor: shape=(), dtype=float32, numpy=4.776058>,\n",
       "    <tf.Tensor: shape=(), dtype=float32, numpy=4.6980124>,\n",
       "    <tf.Tensor: shape=(), dtype=float32, numpy=4.636471>,\n",
       "    <tf.Tensor: shape=(), dtype=float32, numpy=4.588145>,\n",
       "    <tf.Tensor: shape=(), dtype=float32, numpy=4.543723>,\n",
       "    <tf.Tensor: shape=(), dtype=float32, numpy=4.5106635>,\n",
       "    <tf.Tensor: shape=(), dtype=float32, numpy=4.4778733>,\n",
       "    <tf.Tensor: shape=(), dtype=float32, numpy=4.4485307>,\n",
       "    <tf.Tensor: shape=(), dtype=float32, numpy=4.4255486>],\n",
       "   'metric': [<tf.Tensor: shape=(), dtype=float32, numpy=110.7843>,\n",
       "    <tf.Tensor: shape=(), dtype=float32, numpy=9.59335>,\n",
       "    <tf.Tensor: shape=(), dtype=float32, numpy=7.9675736>,\n",
       "    <tf.Tensor: shape=(), dtype=float32, numpy=7.012539>,\n",
       "    <tf.Tensor: shape=(), dtype=float32, numpy=6.388903>,\n",
       "    <tf.Tensor: shape=(), dtype=float32, numpy=5.9244246>,\n",
       "    <tf.Tensor: shape=(), dtype=float32, numpy=5.578446>,\n",
       "    <tf.Tensor: shape=(), dtype=float32, numpy=5.324655>,\n",
       "    <tf.Tensor: shape=(), dtype=float32, numpy=5.129983>,\n",
       "    <tf.Tensor: shape=(), dtype=float32, numpy=4.9873595>,\n",
       "    <tf.Tensor: shape=(), dtype=float32, numpy=4.8704534>,\n",
       "    <tf.Tensor: shape=(), dtype=float32, numpy=4.776058>,\n",
       "    <tf.Tensor: shape=(), dtype=float32, numpy=4.6980124>,\n",
       "    <tf.Tensor: shape=(), dtype=float32, numpy=4.636471>,\n",
       "    <tf.Tensor: shape=(), dtype=float32, numpy=4.588145>,\n",
       "    <tf.Tensor: shape=(), dtype=float32, numpy=4.543723>,\n",
       "    <tf.Tensor: shape=(), dtype=float32, numpy=4.5106635>,\n",
       "    <tf.Tensor: shape=(), dtype=float32, numpy=4.4778733>,\n",
       "    <tf.Tensor: shape=(), dtype=float32, numpy=4.4485307>,\n",
       "    <tf.Tensor: shape=(), dtype=float32, numpy=4.4255486>],\n",
       "   'val_loss': [<tf.Tensor: shape=(), dtype=float32, numpy=10.679495>,\n",
       "    <tf.Tensor: shape=(), dtype=float32, numpy=8.662677>,\n",
       "    <tf.Tensor: shape=(), dtype=float32, numpy=7.422225>,\n",
       "    <tf.Tensor: shape=(), dtype=float32, numpy=6.632687>,\n",
       "    <tf.Tensor: shape=(), dtype=float32, numpy=6.135672>,\n",
       "    <tf.Tensor: shape=(), dtype=float32, numpy=5.7388296>,\n",
       "    <tf.Tensor: shape=(), dtype=float32, numpy=5.389882>,\n",
       "    <tf.Tensor: shape=(), dtype=float32, numpy=5.206243>,\n",
       "    <tf.Tensor: shape=(), dtype=float32, numpy=5.0720167>,\n",
       "    <tf.Tensor: shape=(), dtype=float32, numpy=4.903484>,\n",
       "    <tf.Tensor: shape=(), dtype=float32, numpy=4.795453>,\n",
       "    <tf.Tensor: shape=(), dtype=float32, numpy=4.7156363>,\n",
       "    <tf.Tensor: shape=(), dtype=float32, numpy=4.6217647>,\n",
       "    <tf.Tensor: shape=(), dtype=float32, numpy=4.579458>,\n",
       "    <tf.Tensor: shape=(), dtype=float32, numpy=4.528397>,\n",
       "    <tf.Tensor: shape=(), dtype=float32, numpy=4.520228>,\n",
       "    <tf.Tensor: shape=(), dtype=float32, numpy=4.5102463>,\n",
       "    <tf.Tensor: shape=(), dtype=float32, numpy=4.456861>,\n",
       "    <tf.Tensor: shape=(), dtype=float32, numpy=4.442594>,\n",
       "    <tf.Tensor: shape=(), dtype=float32, numpy=4.463956>],\n",
       "   'val_metric': [10.679495600382486,\n",
       "    8.66267502746582,\n",
       "    7.422220189158121,\n",
       "    6.632688441975912,\n",
       "    6.135671386973063,\n",
       "    5.738829360453288,\n",
       "    5.389881552124024,\n",
       "    5.20624666926066,\n",
       "    5.072018178304036,\n",
       "    4.903485591634115,\n",
       "    4.795451400756836,\n",
       "    4.715635426076253,\n",
       "    4.621767466990153,\n",
       "    4.579459818776448,\n",
       "    4.528396662648519,\n",
       "    4.520225689188639,\n",
       "    4.510244708506266,\n",
       "    4.4568559824625655,\n",
       "    4.4425949935913085,\n",
       "    4.463954542795817],\n",
       "   'hidden_layer_sizes': [[70, 70, 70, 70, 70],\n",
       "    [70, 70, 70, 70, 70],\n",
       "    [70, 70, 70, 59, 60],\n",
       "    [70, 70, 68, 50, 51],\n",
       "    [70, 70, 61, 50, 50],\n",
       "    [70, 70, 50, 50, 49],\n",
       "    [70, 70, 44, 49, 49],\n",
       "    [69, 70, 42, 49, 49],\n",
       "    [66, 70, 42, 47, 49],\n",
       "    [66, 70, 42, 47, 49],\n",
       "    [65, 70, 42, 47, 49],\n",
       "    [64, 70, 42, 47, 48],\n",
       "    [60, 69, 42, 47, 48],\n",
       "    [58, 69, 41, 46, 48],\n",
       "    [57, 68, 41, 46, 48],\n",
       "    [57, 65, 41, 45, 47],\n",
       "    [57, 61, 41, 44, 46],\n",
       "    [56, 58, 40, 44, 46],\n",
       "    [56, 54, 39, 42, 46],\n",
       "    [56, 51, 38, 41, 46]]}],\n",
       " '718831629c': [{'loss': [<tf.Tensor: shape=(), dtype=float32, numpy=105.6804>,\n",
       "    <tf.Tensor: shape=(), dtype=float32, numpy=9.5484>,\n",
       "    <tf.Tensor: shape=(), dtype=float32, numpy=7.861864>,\n",
       "    <tf.Tensor: shape=(), dtype=float32, numpy=6.6128125>,\n",
       "    <tf.Tensor: shape=(), dtype=float32, numpy=5.919138>,\n",
       "    <tf.Tensor: shape=(), dtype=float32, numpy=5.47094>,\n",
       "    <tf.Tensor: shape=(), dtype=float32, numpy=5.1081743>,\n",
       "    <tf.Tensor: shape=(), dtype=float32, numpy=4.865403>,\n",
       "    <tf.Tensor: shape=(), dtype=float32, numpy=4.6906643>,\n",
       "    <tf.Tensor: shape=(), dtype=float32, numpy=4.558889>,\n",
       "    <tf.Tensor: shape=(), dtype=float32, numpy=4.446855>,\n",
       "    <tf.Tensor: shape=(), dtype=float32, numpy=4.34933>,\n",
       "    <tf.Tensor: shape=(), dtype=float32, numpy=4.2689195>,\n",
       "    <tf.Tensor: shape=(), dtype=float32, numpy=4.195171>,\n",
       "    <tf.Tensor: shape=(), dtype=float32, numpy=4.132438>,\n",
       "    <tf.Tensor: shape=(), dtype=float32, numpy=4.0723524>,\n",
       "    <tf.Tensor: shape=(), dtype=float32, numpy=4.0265775>,\n",
       "    <tf.Tensor: shape=(), dtype=float32, numpy=3.9818695>,\n",
       "    <tf.Tensor: shape=(), dtype=float32, numpy=3.9385312>,\n",
       "    <tf.Tensor: shape=(), dtype=float32, numpy=3.9015641>],\n",
       "   'metric': [<tf.Tensor: shape=(), dtype=float32, numpy=105.6804>,\n",
       "    <tf.Tensor: shape=(), dtype=float32, numpy=9.5484>,\n",
       "    <tf.Tensor: shape=(), dtype=float32, numpy=7.861864>,\n",
       "    <tf.Tensor: shape=(), dtype=float32, numpy=6.6128125>,\n",
       "    <tf.Tensor: shape=(), dtype=float32, numpy=5.919138>,\n",
       "    <tf.Tensor: shape=(), dtype=float32, numpy=5.47094>,\n",
       "    <tf.Tensor: shape=(), dtype=float32, numpy=5.1081743>,\n",
       "    <tf.Tensor: shape=(), dtype=float32, numpy=4.865403>,\n",
       "    <tf.Tensor: shape=(), dtype=float32, numpy=4.6906643>,\n",
       "    <tf.Tensor: shape=(), dtype=float32, numpy=4.558889>,\n",
       "    <tf.Tensor: shape=(), dtype=float32, numpy=4.446855>,\n",
       "    <tf.Tensor: shape=(), dtype=float32, numpy=4.34933>,\n",
       "    <tf.Tensor: shape=(), dtype=float32, numpy=4.2689195>,\n",
       "    <tf.Tensor: shape=(), dtype=float32, numpy=4.195171>,\n",
       "    <tf.Tensor: shape=(), dtype=float32, numpy=4.132438>,\n",
       "    <tf.Tensor: shape=(), dtype=float32, numpy=4.0723524>,\n",
       "    <tf.Tensor: shape=(), dtype=float32, numpy=4.0265775>,\n",
       "    <tf.Tensor: shape=(), dtype=float32, numpy=3.9818695>,\n",
       "    <tf.Tensor: shape=(), dtype=float32, numpy=3.9385312>,\n",
       "    <tf.Tensor: shape=(), dtype=float32, numpy=3.9015641>],\n",
       "   'val_loss': [<tf.Tensor: shape=(), dtype=float32, numpy=10.842034>,\n",
       "    <tf.Tensor: shape=(), dtype=float32, numpy=8.829662>,\n",
       "    <tf.Tensor: shape=(), dtype=float32, numpy=7.2200665>,\n",
       "    <tf.Tensor: shape=(), dtype=float32, numpy=6.240031>,\n",
       "    <tf.Tensor: shape=(), dtype=float32, numpy=5.6979227>,\n",
       "    <tf.Tensor: shape=(), dtype=float32, numpy=5.313962>,\n",
       "    <tf.Tensor: shape=(), dtype=float32, numpy=5.0176783>,\n",
       "    <tf.Tensor: shape=(), dtype=float32, numpy=4.8219595>,\n",
       "    <tf.Tensor: shape=(), dtype=float32, numpy=4.661825>,\n",
       "    <tf.Tensor: shape=(), dtype=float32, numpy=4.5987673>,\n",
       "    <tf.Tensor: shape=(), dtype=float32, numpy=4.4783683>,\n",
       "    <tf.Tensor: shape=(), dtype=float32, numpy=4.3615994>,\n",
       "    <tf.Tensor: shape=(), dtype=float32, numpy=4.364435>,\n",
       "    <tf.Tensor: shape=(), dtype=float32, numpy=4.390434>,\n",
       "    <tf.Tensor: shape=(), dtype=float32, numpy=4.19454>,\n",
       "    <tf.Tensor: shape=(), dtype=float32, numpy=4.144453>,\n",
       "    <tf.Tensor: shape=(), dtype=float32, numpy=4.119208>,\n",
       "    <tf.Tensor: shape=(), dtype=float32, numpy=4.0788884>,\n",
       "    <tf.Tensor: shape=(), dtype=float32, numpy=4.0294394>,\n",
       "    <tf.Tensor: shape=(), dtype=float32, numpy=4.0435038>],\n",
       "   'val_metric': [10.842039104207357,\n",
       "    8.829659404500326,\n",
       "    7.220071940104167,\n",
       "    6.240031224060059,\n",
       "    5.6979240147908525,\n",
       "    5.313961655171712,\n",
       "    5.01767570699056,\n",
       "    4.821959047953288,\n",
       "    4.661830281575521,\n",
       "    4.5987662541707355,\n",
       "    4.4783676226298015,\n",
       "    4.361601441955567,\n",
       "    4.364436820983887,\n",
       "    4.390431213124593,\n",
       "    4.194540155537923,\n",
       "    4.144455471801757,\n",
       "    4.119209541575114,\n",
       "    4.078888728841146,\n",
       "    4.029442522303263,\n",
       "    4.0435045946757],\n",
       "   'hidden_layer_sizes': [[70, 70, 70, 70, 70],\n",
       "    [82, 70, 70, 70, 70],\n",
       "    [81, 70, 70, 70, 70],\n",
       "    [81, 70, 70, 70, 70],\n",
       "    [81, 70, 70, 70, 69],\n",
       "    [81, 70, 70, 70, 69],\n",
       "    [81, 70, 70, 70, 69],\n",
       "    [81, 70, 70, 70, 69],\n",
       "    [81, 70, 70, 70, 69],\n",
       "    [81, 70, 70, 70, 69],\n",
       "    [80, 70, 70, 70, 68],\n",
       "    [80, 70, 70, 69, 66],\n",
       "    [80, 70, 70, 69, 64],\n",
       "    [80, 70, 70, 69, 64],\n",
       "    [80, 70, 70, 69, 64],\n",
       "    [80, 70, 70, 69, 63],\n",
       "    [79, 70, 70, 69, 61],\n",
       "    [79, 70, 70, 69, 59],\n",
       "    [79, 70, 70, 68, 56],\n",
       "    [78, 70, 70, 68, 55]]},\n",
       "  {'loss': [<tf.Tensor: shape=(), dtype=float32, numpy=104.13593>,\n",
       "    <tf.Tensor: shape=(), dtype=float32, numpy=9.492738>,\n",
       "    <tf.Tensor: shape=(), dtype=float32, numpy=7.8986106>,\n",
       "    <tf.Tensor: shape=(), dtype=float32, numpy=6.659279>,\n",
       "    <tf.Tensor: shape=(), dtype=float32, numpy=5.934647>,\n",
       "    <tf.Tensor: shape=(), dtype=float32, numpy=5.4748683>,\n",
       "    <tf.Tensor: shape=(), dtype=float32, numpy=5.1425815>,\n",
       "    <tf.Tensor: shape=(), dtype=float32, numpy=4.902135>,\n",
       "    <tf.Tensor: shape=(), dtype=float32, numpy=4.717943>,\n",
       "    <tf.Tensor: shape=(), dtype=float32, numpy=4.576008>,\n",
       "    <tf.Tensor: shape=(), dtype=float32, numpy=4.457484>,\n",
       "    <tf.Tensor: shape=(), dtype=float32, numpy=4.353667>,\n",
       "    <tf.Tensor: shape=(), dtype=float32, numpy=4.2717094>,\n",
       "    <tf.Tensor: shape=(), dtype=float32, numpy=4.2018723>,\n",
       "    <tf.Tensor: shape=(), dtype=float32, numpy=4.1383123>,\n",
       "    <tf.Tensor: shape=(), dtype=float32, numpy=4.0816708>,\n",
       "    <tf.Tensor: shape=(), dtype=float32, numpy=4.029151>,\n",
       "    <tf.Tensor: shape=(), dtype=float32, numpy=3.9851>,\n",
       "    <tf.Tensor: shape=(), dtype=float32, numpy=3.9415243>,\n",
       "    <tf.Tensor: shape=(), dtype=float32, numpy=3.904863>],\n",
       "   'metric': [<tf.Tensor: shape=(), dtype=float32, numpy=104.13593>,\n",
       "    <tf.Tensor: shape=(), dtype=float32, numpy=9.492738>,\n",
       "    <tf.Tensor: shape=(), dtype=float32, numpy=7.8986106>,\n",
       "    <tf.Tensor: shape=(), dtype=float32, numpy=6.659279>,\n",
       "    <tf.Tensor: shape=(), dtype=float32, numpy=5.934647>,\n",
       "    <tf.Tensor: shape=(), dtype=float32, numpy=5.4748683>,\n",
       "    <tf.Tensor: shape=(), dtype=float32, numpy=5.1425815>,\n",
       "    <tf.Tensor: shape=(), dtype=float32, numpy=4.902135>,\n",
       "    <tf.Tensor: shape=(), dtype=float32, numpy=4.717943>,\n",
       "    <tf.Tensor: shape=(), dtype=float32, numpy=4.576008>,\n",
       "    <tf.Tensor: shape=(), dtype=float32, numpy=4.457484>,\n",
       "    <tf.Tensor: shape=(), dtype=float32, numpy=4.353667>,\n",
       "    <tf.Tensor: shape=(), dtype=float32, numpy=4.2717094>,\n",
       "    <tf.Tensor: shape=(), dtype=float32, numpy=4.2018723>,\n",
       "    <tf.Tensor: shape=(), dtype=float32, numpy=4.1383123>,\n",
       "    <tf.Tensor: shape=(), dtype=float32, numpy=4.0816708>,\n",
       "    <tf.Tensor: shape=(), dtype=float32, numpy=4.029151>,\n",
       "    <tf.Tensor: shape=(), dtype=float32, numpy=3.9851>,\n",
       "    <tf.Tensor: shape=(), dtype=float32, numpy=3.9415243>,\n",
       "    <tf.Tensor: shape=(), dtype=float32, numpy=3.904863>],\n",
       "   'val_loss': [<tf.Tensor: shape=(), dtype=float32, numpy=10.776574>,\n",
       "    <tf.Tensor: shape=(), dtype=float32, numpy=8.777117>,\n",
       "    <tf.Tensor: shape=(), dtype=float32, numpy=7.217886>,\n",
       "    <tf.Tensor: shape=(), dtype=float32, numpy=6.2870035>,\n",
       "    <tf.Tensor: shape=(), dtype=float32, numpy=5.713795>,\n",
       "    <tf.Tensor: shape=(), dtype=float32, numpy=5.3439126>,\n",
       "    <tf.Tensor: shape=(), dtype=float32, numpy=5.01546>,\n",
       "    <tf.Tensor: shape=(), dtype=float32, numpy=4.8418064>,\n",
       "    <tf.Tensor: shape=(), dtype=float32, numpy=4.808788>,\n",
       "    <tf.Tensor: shape=(), dtype=float32, numpy=4.616312>,\n",
       "    <tf.Tensor: shape=(), dtype=float32, numpy=4.463793>,\n",
       "    <tf.Tensor: shape=(), dtype=float32, numpy=4.3690658>,\n",
       "    <tf.Tensor: shape=(), dtype=float32, numpy=4.348847>,\n",
       "    <tf.Tensor: shape=(), dtype=float32, numpy=4.2570796>,\n",
       "    <tf.Tensor: shape=(), dtype=float32, numpy=4.1855683>,\n",
       "    <tf.Tensor: shape=(), dtype=float32, numpy=4.1425495>,\n",
       "    <tf.Tensor: shape=(), dtype=float32, numpy=4.100056>,\n",
       "    <tf.Tensor: shape=(), dtype=float32, numpy=4.056349>,\n",
       "    <tf.Tensor: shape=(), dtype=float32, numpy=4.0088906>,\n",
       "    <tf.Tensor: shape=(), dtype=float32, numpy=4.0032215>],\n",
       "   'val_metric': [10.776567958068847,\n",
       "    8.77712029469808,\n",
       "    7.217882235463461,\n",
       "    6.286999621073405,\n",
       "    5.71379075088501,\n",
       "    5.343918178812663,\n",
       "    5.01545950012207,\n",
       "    4.841805754852295,\n",
       "    4.80878803507487,\n",
       "    4.6163099622090655,\n",
       "    4.46379149500529,\n",
       "    4.369062109120687,\n",
       "    4.3488474802653,\n",
       "    4.25708148320516,\n",
       "    4.185567736053467,\n",
       "    4.142545424652099,\n",
       "    4.100059072875976,\n",
       "    4.056349635823568,\n",
       "    4.0088893501281735,\n",
       "    4.00322415822347],\n",
       "   'hidden_layer_sizes': [[70, 70, 70, 70, 70],\n",
       "    [77, 71, 70, 70, 70],\n",
       "    [77, 70, 70, 70, 70],\n",
       "    [76, 70, 70, 70, 70],\n",
       "    [76, 70, 70, 70, 70],\n",
       "    [76, 70, 70, 70, 70],\n",
       "    [76, 70, 70, 70, 70],\n",
       "    [76, 70, 70, 70, 69],\n",
       "    [76, 70, 70, 70, 68],\n",
       "    [76, 70, 70, 70, 64],\n",
       "    [76, 70, 70, 70, 59],\n",
       "    [76, 70, 70, 70, 54],\n",
       "    [76, 70, 70, 70, 52],\n",
       "    [76, 70, 70, 70, 50],\n",
       "    [76, 70, 70, 69, 49],\n",
       "    [76, 70, 70, 69, 49],\n",
       "    [76, 70, 70, 69, 49],\n",
       "    [76, 70, 70, 69, 49],\n",
       "    [76, 70, 70, 69, 49],\n",
       "    [76, 70, 70, 69, 49]]},\n",
       "  {'loss': [<tf.Tensor: shape=(), dtype=float32, numpy=108.38223>,\n",
       "    <tf.Tensor: shape=(), dtype=float32, numpy=9.504994>,\n",
       "    <tf.Tensor: shape=(), dtype=float32, numpy=8.059562>,\n",
       "    <tf.Tensor: shape=(), dtype=float32, numpy=6.9443474>,\n",
       "    <tf.Tensor: shape=(), dtype=float32, numpy=6.213893>,\n",
       "    <tf.Tensor: shape=(), dtype=float32, numpy=5.6790123>,\n",
       "    <tf.Tensor: shape=(), dtype=float32, numpy=5.283977>,\n",
       "    <tf.Tensor: shape=(), dtype=float32, numpy=4.9791346>,\n",
       "    <tf.Tensor: shape=(), dtype=float32, numpy=4.7460036>,\n",
       "    <tf.Tensor: shape=(), dtype=float32, numpy=4.5758824>,\n",
       "    <tf.Tensor: shape=(), dtype=float32, numpy=4.443474>,\n",
       "    <tf.Tensor: shape=(), dtype=float32, numpy=4.3364916>,\n",
       "    <tf.Tensor: shape=(), dtype=float32, numpy=4.244585>,\n",
       "    <tf.Tensor: shape=(), dtype=float32, numpy=4.172923>,\n",
       "    <tf.Tensor: shape=(), dtype=float32, numpy=4.1047006>,\n",
       "    <tf.Tensor: shape=(), dtype=float32, numpy=4.0425234>,\n",
       "    <tf.Tensor: shape=(), dtype=float32, numpy=3.9923115>,\n",
       "    <tf.Tensor: shape=(), dtype=float32, numpy=3.9463909>,\n",
       "    <tf.Tensor: shape=(), dtype=float32, numpy=3.9034457>,\n",
       "    <tf.Tensor: shape=(), dtype=float32, numpy=3.864963>],\n",
       "   'metric': [<tf.Tensor: shape=(), dtype=float32, numpy=108.38223>,\n",
       "    <tf.Tensor: shape=(), dtype=float32, numpy=9.504994>,\n",
       "    <tf.Tensor: shape=(), dtype=float32, numpy=8.059562>,\n",
       "    <tf.Tensor: shape=(), dtype=float32, numpy=6.9443474>,\n",
       "    <tf.Tensor: shape=(), dtype=float32, numpy=6.213893>,\n",
       "    <tf.Tensor: shape=(), dtype=float32, numpy=5.6790123>,\n",
       "    <tf.Tensor: shape=(), dtype=float32, numpy=5.283977>,\n",
       "    <tf.Tensor: shape=(), dtype=float32, numpy=4.9791346>,\n",
       "    <tf.Tensor: shape=(), dtype=float32, numpy=4.7460036>,\n",
       "    <tf.Tensor: shape=(), dtype=float32, numpy=4.5758824>,\n",
       "    <tf.Tensor: shape=(), dtype=float32, numpy=4.443474>,\n",
       "    <tf.Tensor: shape=(), dtype=float32, numpy=4.3364916>,\n",
       "    <tf.Tensor: shape=(), dtype=float32, numpy=4.244585>,\n",
       "    <tf.Tensor: shape=(), dtype=float32, numpy=4.172923>,\n",
       "    <tf.Tensor: shape=(), dtype=float32, numpy=4.1047006>,\n",
       "    <tf.Tensor: shape=(), dtype=float32, numpy=4.0425234>,\n",
       "    <tf.Tensor: shape=(), dtype=float32, numpy=3.9923115>,\n",
       "    <tf.Tensor: shape=(), dtype=float32, numpy=3.9463909>,\n",
       "    <tf.Tensor: shape=(), dtype=float32, numpy=3.9034457>,\n",
       "    <tf.Tensor: shape=(), dtype=float32, numpy=3.864963>],\n",
       "   'val_loss': [<tf.Tensor: shape=(), dtype=float32, numpy=10.77421>,\n",
       "    <tf.Tensor: shape=(), dtype=float32, numpy=8.809386>,\n",
       "    <tf.Tensor: shape=(), dtype=float32, numpy=7.4929433>,\n",
       "    <tf.Tensor: shape=(), dtype=float32, numpy=6.63061>,\n",
       "    <tf.Tensor: shape=(), dtype=float32, numpy=5.999104>,\n",
       "    <tf.Tensor: shape=(), dtype=float32, numpy=5.513745>,\n",
       "    <tf.Tensor: shape=(), dtype=float32, numpy=5.160645>,\n",
       "    <tf.Tensor: shape=(), dtype=float32, numpy=4.9279256>,\n",
       "    <tf.Tensor: shape=(), dtype=float32, numpy=4.694798>,\n",
       "    <tf.Tensor: shape=(), dtype=float32, numpy=4.6568475>,\n",
       "    <tf.Tensor: shape=(), dtype=float32, numpy=4.483561>,\n",
       "    <tf.Tensor: shape=(), dtype=float32, numpy=4.428281>,\n",
       "    <tf.Tensor: shape=(), dtype=float32, numpy=4.4255714>,\n",
       "    <tf.Tensor: shape=(), dtype=float32, numpy=4.2377663>,\n",
       "    <tf.Tensor: shape=(), dtype=float32, numpy=4.1611147>,\n",
       "    <tf.Tensor: shape=(), dtype=float32, numpy=4.198218>,\n",
       "    <tf.Tensor: shape=(), dtype=float32, numpy=4.154719>,\n",
       "    <tf.Tensor: shape=(), dtype=float32, numpy=4.0755787>,\n",
       "    <tf.Tensor: shape=(), dtype=float32, numpy=3.998902>,\n",
       "    <tf.Tensor: shape=(), dtype=float32, numpy=3.979022>],\n",
       "   'val_metric': [10.774219147745768,\n",
       "    8.80938838628133,\n",
       "    7.492943762715657,\n",
       "    6.630608286031087,\n",
       "    5.999106445566813,\n",
       "    5.513743222300212,\n",
       "    5.160641967773437,\n",
       "    4.9279235608418785,\n",
       "    4.694798802185058,\n",
       "    4.656845899709066,\n",
       "    4.483561715698242,\n",
       "    4.428281763966878,\n",
       "    4.425572311909994,\n",
       "    4.237767266337077,\n",
       "    4.161114848327637,\n",
       "    4.198217813364665,\n",
       "    4.154717725626628,\n",
       "    4.0755787999471025,\n",
       "    3.998903630065918,\n",
       "    3.979022169748942],\n",
       "   'hidden_layer_sizes': [[70, 70, 70, 70, 70],\n",
       "    [83, 70, 70, 70, 70],\n",
       "    [80, 70, 70, 70, 70],\n",
       "    [80, 70, 70, 70, 69],\n",
       "    [80, 70, 70, 70, 69],\n",
       "    [79, 70, 70, 70, 69],\n",
       "    [78, 70, 70, 70, 69],\n",
       "    [78, 70, 70, 70, 69],\n",
       "    [78, 70, 70, 70, 68],\n",
       "    [78, 70, 70, 70, 66],\n",
       "    [78, 70, 70, 70, 65],\n",
       "    [78, 70, 70, 70, 62],\n",
       "    [78, 70, 70, 70, 58],\n",
       "    [78, 70, 70, 70, 56],\n",
       "    [78, 70, 70, 70, 53],\n",
       "    [78, 70, 70, 70, 53],\n",
       "    [78, 70, 70, 70, 50],\n",
       "    [78, 70, 70, 70, 49],\n",
       "    [78, 70, 70, 70, 48],\n",
       "    [78, 70, 70, 70, 48]]},\n",
       "  {'loss': [<tf.Tensor: shape=(), dtype=float32, numpy=108.4986>,\n",
       "    <tf.Tensor: shape=(), dtype=float32, numpy=9.487357>,\n",
       "    <tf.Tensor: shape=(), dtype=float32, numpy=8.245095>,\n",
       "    <tf.Tensor: shape=(), dtype=float32, numpy=7.23597>,\n",
       "    <tf.Tensor: shape=(), dtype=float32, numpy=6.382363>,\n",
       "    <tf.Tensor: shape=(), dtype=float32, numpy=5.83483>,\n",
       "    <tf.Tensor: shape=(), dtype=float32, numpy=5.4194436>,\n",
       "    <tf.Tensor: shape=(), dtype=float32, numpy=5.0876837>,\n",
       "    <tf.Tensor: shape=(), dtype=float32, numpy=4.8438444>,\n",
       "    <tf.Tensor: shape=(), dtype=float32, numpy=4.647558>,\n",
       "    <tf.Tensor: shape=(), dtype=float32, numpy=4.5004416>,\n",
       "    <tf.Tensor: shape=(), dtype=float32, numpy=4.3865085>,\n",
       "    <tf.Tensor: shape=(), dtype=float32, numpy=4.290784>,\n",
       "    <tf.Tensor: shape=(), dtype=float32, numpy=4.2098827>,\n",
       "    <tf.Tensor: shape=(), dtype=float32, numpy=4.1425366>,\n",
       "    <tf.Tensor: shape=(), dtype=float32, numpy=4.0820985>,\n",
       "    <tf.Tensor: shape=(), dtype=float32, numpy=4.029925>,\n",
       "    <tf.Tensor: shape=(), dtype=float32, numpy=3.9876268>,\n",
       "    <tf.Tensor: shape=(), dtype=float32, numpy=3.9467885>,\n",
       "    <tf.Tensor: shape=(), dtype=float32, numpy=3.906158>],\n",
       "   'metric': [<tf.Tensor: shape=(), dtype=float32, numpy=108.4986>,\n",
       "    <tf.Tensor: shape=(), dtype=float32, numpy=9.487357>,\n",
       "    <tf.Tensor: shape=(), dtype=float32, numpy=8.245095>,\n",
       "    <tf.Tensor: shape=(), dtype=float32, numpy=7.23597>,\n",
       "    <tf.Tensor: shape=(), dtype=float32, numpy=6.382363>,\n",
       "    <tf.Tensor: shape=(), dtype=float32, numpy=5.83483>,\n",
       "    <tf.Tensor: shape=(), dtype=float32, numpy=5.4194436>,\n",
       "    <tf.Tensor: shape=(), dtype=float32, numpy=5.0876837>,\n",
       "    <tf.Tensor: shape=(), dtype=float32, numpy=4.8438444>,\n",
       "    <tf.Tensor: shape=(), dtype=float32, numpy=4.647558>,\n",
       "    <tf.Tensor: shape=(), dtype=float32, numpy=4.5004416>,\n",
       "    <tf.Tensor: shape=(), dtype=float32, numpy=4.3865085>,\n",
       "    <tf.Tensor: shape=(), dtype=float32, numpy=4.290784>,\n",
       "    <tf.Tensor: shape=(), dtype=float32, numpy=4.2098827>,\n",
       "    <tf.Tensor: shape=(), dtype=float32, numpy=4.1425366>,\n",
       "    <tf.Tensor: shape=(), dtype=float32, numpy=4.0820985>,\n",
       "    <tf.Tensor: shape=(), dtype=float32, numpy=4.029925>,\n",
       "    <tf.Tensor: shape=(), dtype=float32, numpy=3.9876268>,\n",
       "    <tf.Tensor: shape=(), dtype=float32, numpy=3.9467885>,\n",
       "    <tf.Tensor: shape=(), dtype=float32, numpy=3.906158>],\n",
       "   'val_loss': [<tf.Tensor: shape=(), dtype=float32, numpy=10.657529>,\n",
       "    <tf.Tensor: shape=(), dtype=float32, numpy=8.790895>,\n",
       "    <tf.Tensor: shape=(), dtype=float32, numpy=7.7992835>,\n",
       "    <tf.Tensor: shape=(), dtype=float32, numpy=6.823069>,\n",
       "    <tf.Tensor: shape=(), dtype=float32, numpy=6.211022>,\n",
       "    <tf.Tensor: shape=(), dtype=float32, numpy=5.6410127>,\n",
       "    <tf.Tensor: shape=(), dtype=float32, numpy=5.2700486>,\n",
       "    <tf.Tensor: shape=(), dtype=float32, numpy=5.001712>,\n",
       "    <tf.Tensor: shape=(), dtype=float32, numpy=4.8014>,\n",
       "    <tf.Tensor: shape=(), dtype=float32, numpy=4.6616344>,\n",
       "    <tf.Tensor: shape=(), dtype=float32, numpy=4.5222745>,\n",
       "    <tf.Tensor: shape=(), dtype=float32, numpy=4.399154>,\n",
       "    <tf.Tensor: shape=(), dtype=float32, numpy=4.36618>,\n",
       "    <tf.Tensor: shape=(), dtype=float32, numpy=4.2560515>,\n",
       "    <tf.Tensor: shape=(), dtype=float32, numpy=4.220541>,\n",
       "    <tf.Tensor: shape=(), dtype=float32, numpy=4.1307464>,\n",
       "    <tf.Tensor: shape=(), dtype=float32, numpy=4.1477675>,\n",
       "    <tf.Tensor: shape=(), dtype=float32, numpy=4.0964794>,\n",
       "    <tf.Tensor: shape=(), dtype=float32, numpy=4.021631>,\n",
       "    <tf.Tensor: shape=(), dtype=float32, numpy=4.0523295>],\n",
       "   'val_metric': [10.65753372294108,\n",
       "    8.790894631958007,\n",
       "    7.799280780792237,\n",
       "    6.82306646118164,\n",
       "    6.211022378794352,\n",
       "    5.641012245686849,\n",
       "    5.270048446400961,\n",
       "    5.0017130770365394,\n",
       "    4.801401319885254,\n",
       "    4.6616310763041175,\n",
       "    4.522272911834717,\n",
       "    4.399154207611084,\n",
       "    4.366179711405437,\n",
       "    4.256053003692627,\n",
       "    4.2205434432983395,\n",
       "    4.1307475268046066,\n",
       "    4.147764691162109,\n",
       "    4.096481585693359,\n",
       "    4.021630856831869,\n",
       "    4.052330416361491],\n",
       "   'hidden_layer_sizes': [[70, 70, 70, 70, 70],\n",
       "    [79, 70, 70, 70, 70],\n",
       "    [77, 70, 70, 70, 70],\n",
       "    [77, 70, 70, 70, 70],\n",
       "    [77, 70, 70, 70, 70],\n",
       "    [77, 70, 70, 70, 70],\n",
       "    [77, 70, 70, 70, 70],\n",
       "    [77, 70, 70, 70, 70],\n",
       "    [77, 70, 70, 70, 70],\n",
       "    [77, 70, 70, 70, 70],\n",
       "    [77, 70, 70, 70, 69],\n",
       "    [77, 70, 70, 70, 68],\n",
       "    [77, 70, 70, 70, 68],\n",
       "    [77, 70, 70, 70, 68],\n",
       "    [77, 70, 70, 69, 68],\n",
       "    [77, 70, 70, 69, 68],\n",
       "    [76, 70, 70, 69, 67],\n",
       "    [75, 70, 70, 69, 67],\n",
       "    [75, 70, 70, 69, 64],\n",
       "    [74, 70, 70, 69, 62]]},\n",
       "  {'loss': [<tf.Tensor: shape=(), dtype=float32, numpy=106.808205>,\n",
       "    <tf.Tensor: shape=(), dtype=float32, numpy=9.496937>,\n",
       "    <tf.Tensor: shape=(), dtype=float32, numpy=7.7514515>,\n",
       "    <tf.Tensor: shape=(), dtype=float32, numpy=6.5282526>,\n",
       "    <tf.Tensor: shape=(), dtype=float32, numpy=5.8278418>,\n",
       "    <tf.Tensor: shape=(), dtype=float32, numpy=5.3842373>,\n",
       "    <tf.Tensor: shape=(), dtype=float32, numpy=5.063453>,\n",
       "    <tf.Tensor: shape=(), dtype=float32, numpy=4.8424597>,\n",
       "    <tf.Tensor: shape=(), dtype=float32, numpy=4.680097>,\n",
       "    <tf.Tensor: shape=(), dtype=float32, numpy=4.5558257>,\n",
       "    <tf.Tensor: shape=(), dtype=float32, numpy=4.45587>,\n",
       "    <tf.Tensor: shape=(), dtype=float32, numpy=4.3640137>,\n",
       "    <tf.Tensor: shape=(), dtype=float32, numpy=4.2873244>,\n",
       "    <tf.Tensor: shape=(), dtype=float32, numpy=4.2216954>,\n",
       "    <tf.Tensor: shape=(), dtype=float32, numpy=4.161603>,\n",
       "    <tf.Tensor: shape=(), dtype=float32, numpy=4.111912>,\n",
       "    <tf.Tensor: shape=(), dtype=float32, numpy=4.0653243>,\n",
       "    <tf.Tensor: shape=(), dtype=float32, numpy=4.0198264>,\n",
       "    <tf.Tensor: shape=(), dtype=float32, numpy=3.9783638>,\n",
       "    <tf.Tensor: shape=(), dtype=float32, numpy=3.9412231>],\n",
       "   'metric': [<tf.Tensor: shape=(), dtype=float32, numpy=106.808205>,\n",
       "    <tf.Tensor: shape=(), dtype=float32, numpy=9.496937>,\n",
       "    <tf.Tensor: shape=(), dtype=float32, numpy=7.7514515>,\n",
       "    <tf.Tensor: shape=(), dtype=float32, numpy=6.5282526>,\n",
       "    <tf.Tensor: shape=(), dtype=float32, numpy=5.8278418>,\n",
       "    <tf.Tensor: shape=(), dtype=float32, numpy=5.3842373>,\n",
       "    <tf.Tensor: shape=(), dtype=float32, numpy=5.063453>,\n",
       "    <tf.Tensor: shape=(), dtype=float32, numpy=4.8424597>,\n",
       "    <tf.Tensor: shape=(), dtype=float32, numpy=4.680097>,\n",
       "    <tf.Tensor: shape=(), dtype=float32, numpy=4.5558257>,\n",
       "    <tf.Tensor: shape=(), dtype=float32, numpy=4.45587>,\n",
       "    <tf.Tensor: shape=(), dtype=float32, numpy=4.3640137>,\n",
       "    <tf.Tensor: shape=(), dtype=float32, numpy=4.2873244>,\n",
       "    <tf.Tensor: shape=(), dtype=float32, numpy=4.2216954>,\n",
       "    <tf.Tensor: shape=(), dtype=float32, numpy=4.161603>,\n",
       "    <tf.Tensor: shape=(), dtype=float32, numpy=4.111912>,\n",
       "    <tf.Tensor: shape=(), dtype=float32, numpy=4.0653243>,\n",
       "    <tf.Tensor: shape=(), dtype=float32, numpy=4.0198264>,\n",
       "    <tf.Tensor: shape=(), dtype=float32, numpy=3.9783638>,\n",
       "    <tf.Tensor: shape=(), dtype=float32, numpy=3.9412231>],\n",
       "   'val_loss': [<tf.Tensor: shape=(), dtype=float32, numpy=10.85122>,\n",
       "    <tf.Tensor: shape=(), dtype=float32, numpy=8.571613>,\n",
       "    <tf.Tensor: shape=(), dtype=float32, numpy=7.063337>,\n",
       "    <tf.Tensor: shape=(), dtype=float32, numpy=6.101877>,\n",
       "    <tf.Tensor: shape=(), dtype=float32, numpy=5.624939>,\n",
       "    <tf.Tensor: shape=(), dtype=float32, numpy=5.223993>,\n",
       "    <tf.Tensor: shape=(), dtype=float32, numpy=5.016907>,\n",
       "    <tf.Tensor: shape=(), dtype=float32, numpy=4.804136>,\n",
       "    <tf.Tensor: shape=(), dtype=float32, numpy=4.684084>,\n",
       "    <tf.Tensor: shape=(), dtype=float32, numpy=4.545116>,\n",
       "    <tf.Tensor: shape=(), dtype=float32, numpy=4.45775>,\n",
       "    <tf.Tensor: shape=(), dtype=float32, numpy=4.435119>,\n",
       "    <tf.Tensor: shape=(), dtype=float32, numpy=4.3103046>,\n",
       "    <tf.Tensor: shape=(), dtype=float32, numpy=4.257704>,\n",
       "    <tf.Tensor: shape=(), dtype=float32, numpy=4.2379794>,\n",
       "    <tf.Tensor: shape=(), dtype=float32, numpy=4.2016144>,\n",
       "    <tf.Tensor: shape=(), dtype=float32, numpy=4.1644874>,\n",
       "    <tf.Tensor: shape=(), dtype=float32, numpy=4.142517>,\n",
       "    <tf.Tensor: shape=(), dtype=float32, numpy=4.036647>,\n",
       "    <tf.Tensor: shape=(), dtype=float32, numpy=4.0255184>],\n",
       "   'val_metric': [10.8512263671875,\n",
       "    8.571612141418457,\n",
       "    7.063341780598958,\n",
       "    6.101876631673177,\n",
       "    5.624939243825277,\n",
       "    5.223988838195801,\n",
       "    5.016908734893799,\n",
       "    4.804133293914795,\n",
       "    4.684081579589844,\n",
       "    4.545114766438802,\n",
       "    4.457750086212158,\n",
       "    4.435123321024577,\n",
       "    4.310304448954264,\n",
       "    4.2577046882629395,\n",
       "    4.2379791463216145,\n",
       "    4.201612604777019,\n",
       "    4.164489574432373,\n",
       "    4.1425208053588864,\n",
       "    4.036646625264486,\n",
       "    4.025516637929281],\n",
       "   'hidden_layer_sizes': [[70, 70, 70, 70, 70],\n",
       "    [86, 70, 70, 70, 70],\n",
       "    [84, 70, 70, 70, 70],\n",
       "    [83, 70, 70, 70, 70],\n",
       "    [83, 70, 70, 70, 70],\n",
       "    [83, 70, 70, 70, 70],\n",
       "    [83, 70, 70, 70, 69],\n",
       "    [83, 70, 70, 70, 68],\n",
       "    [83, 70, 70, 70, 68],\n",
       "    [83, 70, 70, 70, 67],\n",
       "    [83, 70, 70, 70, 67],\n",
       "    [83, 70, 70, 70, 66],\n",
       "    [83, 70, 70, 70, 65],\n",
       "    [83, 70, 70, 70, 65],\n",
       "    [83, 70, 70, 70, 63],\n",
       "    [83, 70, 69, 70, 62],\n",
       "    [83, 70, 67, 69, 62],\n",
       "    [82, 70, 65, 69, 62],\n",
       "    [81, 70, 63, 66, 62],\n",
       "    [81, 70, 61, 63, 62]]}]}"
      ]
     },
     "execution_count": 34,
     "metadata": {},
     "output_type": "execute_result"
    }
   ],
   "source": [
    "histories"
   ]
  },
  {
   "cell_type": "code",
   "execution_count": 37,
   "metadata": {},
   "outputs": [],
   "source": [
    "histories_bak = histories.copy()"
   ]
  },
  {
   "cell_type": "code",
   "execution_count": 76,
   "metadata": {},
   "outputs": [
    {
     "data": {
      "image/png": "[encoded data removed]",
      "text/plain": [
       "<Figure size 432x288 with 1 Axes>"
      ]
     },
     "metadata": {
      "image/png": {
       "height": 258,
       "width": 384
      }
     },
     "output_type": "display_data"
    }
   ],
   "source": [
    "for regularization_penalty, histories_of_same_penalty, color in zip(reversed([0.02, 0.002, 0.0002, 0.00002]), reversed(histories.values()), ['tab:blue', 'tab:orange', 'tab:green', 'tab:red']):\n",
    "    for i, history in enumerate(histories_of_same_penalty):\n",
    "        if i == 0:\n",
    "            label = f\"$\\\\alpha$={np.format_float_positional(regularization_penalty, trim='-')}\"\n",
    "        else:\n",
    "            label = None\n",
    "        metric = history['hidden_layer_sizes'][-1]\n",
    "        plt.plot(['Dense 1', 'Dense 2', 'Dense 3', 'Dense 4', 'Dense 5'], metric, label=label, c=color, marker='.', alpha=0.4)\n",
    "plt.xlabel(\"Layer\")\n",
    "plt.ylabel(\"Final number of units\")\n",
    "legend = plt.legend(loc='upper right')\n",
    "plt.savefig('model-size-different-regularization.png')\n",
    "# plt.yscale('log')"
   ]
  },
  {
   "cell_type": "code",
   "execution_count": null,
   "metadata": {},
   "outputs": [],
   "source": []
  },
  {
   "cell_type": "markdown",
   "metadata": {
    "id": "OVqa4IvxP2rZ"
   },
   "source": [
    "# Legacy code"
   ]
  },
  {
   "cell_type": "code",
   "execution_count": null,
   "metadata": {
    "colab": {
     "base_uri": "https://localhost:8080/"
    },
    "id": "QSsLiNHjWU6q",
    "outputId": "f2a1eb05-dc45-4826-8d2a-5791b302e161"
   },
   "outputs": [
    {
     "data": {
      "text/plain": [
       "[0.0001, 0.0002, 0.0004, 0.0008, 0.0016, 0.0032, 0.0064]"
      ]
     },
     "execution_count": 30,
     "metadata": {},
     "output_type": "execute_result"
    }
   ],
   "source": [
    "learning_rates = [0.0001 * 2 ** i for i in range(7)]\n",
    "learning_rates"
   ]
  },
  {
   "cell_type": "markdown",
   "metadata": {
    "id": "l4mmt4NUZPrG"
   },
   "source": [
    "## CIFAR100"
   ]
  },
  {
   "cell_type": "code",
   "execution_count": null,
   "metadata": {
    "colab": {
     "base_uri": "https://localhost:8080/"
    },
    "id": "VzVe14JzL4ve",
    "outputId": "750bb85e-7330-45e5-a3d7-fd8d076d9ede"
   },
   "outputs": [
    {
     "name": "stdout",
     "output_type": "stream",
     "text": [
      "Downloading data from https://www.cs.toronto.edu/~kriz/cifar-100-python.tar.gz\n",
      "169009152/169001437 [==============================] - 6s 0us/step\n",
      "169017344/169001437 [==============================] - 6s 0us/step\n"
     ]
    }
   ],
   "source": [
    "cifar100 = get_cifar_100_dataset()"
   ]
  },
  {
   "cell_type": "code",
   "execution_count": null,
   "metadata": {
    "colab": {
     "base_uri": "https://localhost:8080/"
    },
    "id": "td7nnRPkOG0A",
    "outputId": "3fd61bd4-31a4-4ed8-b1cf-6c675379d0cc"
   },
   "outputs": [
    {
     "name": "stdout",
     "output_type": "stream",
     "text": [
      "Run with parameters (0.0001, ec4ba8ef9e, [100, 100, 100, 100, 100], 100, 20, 0.2) completed, best_val_accuracy: 0.44, best_hidden_layer_sizes sizes: [90, 29, 38, 43, 100]\n",
      "Run with parameters (0.0002, ec4ba8ef9e, [100, 100, 100, 100, 100], 100, 20, 0.2) completed, best_val_accuracy: 0.4448, best_hidden_layer_sizes sizes: [67, 23, 27, 73, 195]\n",
      "Run with parameters (0.0004, ec4ba8ef9e, [100, 100, 100, 100, 100], 100, 20, 0.2) completed, best_val_accuracy: 0.4358, best_hidden_layer_sizes sizes: [60, 18, 55, 120, 452]\n",
      "Best overall combination: (0.0002, ec4ba8ef9e, [100, 100, 100, 100, 100], 100, 20, 0.2), val_accuracy: 0.4448\n",
      "CPU times: user 9min 57s, sys: 20.8 s, total: 10min 18s\n",
      "Wall time: 9min 3s\n"
     ]
    }
   ],
   "source": [
    "%%time\n",
    "\n",
    "schedule = Schedule([DynamicEpoch(0.00002, 'weighted_l1')] * 20 + [StaticEpochNoRegularization()] * 20)\n",
    "histories, best_overall_combination = hyperparameter_search(train_fn, x=cifar100.X_train_norm, y=cifar100.y_train, validation_data=(cifar100.X_test_norm, cifar100.y_test), \n",
    "                                  learning_rate=[0.0001, 0.0002, 0.0004], schedule=[schedule], layer_sizes=[[100, 100, 100, 100, 100]], \n",
    "                                  output_neurons=[100], min_new_neurons=[20], growth_percentage=[0.2])"
   ]
  },
  {
   "cell_type": "code",
   "execution_count": null,
   "metadata": {
    "colab": {
     "base_uri": "https://localhost:8080/"
    },
    "id": "--jg7yrcdMOM",
    "outputId": "6eaeea7a-ca79-4212-e51e-4973e6ef24f4"
   },
   "outputs": [
    {
     "data": {
      "text/plain": [
       "0.0002"
      ]
     },
     "execution_count": 38,
     "metadata": {},
     "output_type": "execute_result"
    }
   ],
   "source": [
    "best_learning_rate = best_overall_combination[0]\n",
    "best_learning_rate"
   ]
  },
  {
   "cell_type": "code",
   "execution_count": null,
   "metadata": {
    "colab": {
     "base_uri": "https://localhost:8080/"
    },
    "id": "-WA3x6RkTlqt",
    "outputId": "ce80f1de-d326-4f44-bc37-03d906aedb13"
   },
   "outputs": [
    {
     "name": "stdout",
     "output_type": "stream",
     "text": [
      "Run 0 completed, best_val_accuracy: 0.4428, best_hidden_layer_sizes: [68, 19, 33, 74, 191]\n",
      "Run 1 completed, best_val_accuracy: 0.4512, best_hidden_layer_sizes: [62, 22, 29, 61, 195]\n",
      "Run 2 completed, best_val_accuracy: 0.4484, best_hidden_layer_sizes: [67, 19, 30, 61, 200]\n",
      "Run 3 completed, best_val_accuracy: 0.4485, best_hidden_layer_sizes: [67, 18, 33, 63, 199]\n",
      "Run 4 completed, best_val_accuracy: 0.4577, best_hidden_layer_sizes: [62, 20, 27, 62, 190]\n",
      "Run 5 completed, best_val_accuracy: 0.457, best_hidden_layer_sizes: [69, 23, 28, 66, 192]\n",
      "mean_best_val_accuracy: 0.45093333333333335\n",
      "mean_best_hidden_layer_sizes: [65.83333333333333, 20.166666666666668, 30.0, 64.5, 194.5]\n",
      "CPU times: user 19min 26s, sys: 41.6 s, total: 20min 8s\n",
      "Wall time: 17min 17s\n"
     ]
    }
   ],
   "source": [
    "%%time\n",
    "\n",
    "schedule = Schedule([DynamicEpoch(0.00002, 'weighted_l1')] * 20 + [StaticEpochNoRegularization()] * 20)\n",
    "histories, mean_best_hidden_layer_sizes = cross_validate(\n",
    "    train_fn, cifar100.X_norm, cifar100.y, n_splits=6, learning_rate=best_learning_rate,\n",
    "    schedule=schedule, layer_sizes=[100, 100, 100, 100, 100], output_neurons=100, min_new_neurons=20, growth_percentage=0.2\n",
    ")"
   ]
  },
  {
   "cell_type": "code",
   "execution_count": null,
   "metadata": {
    "colab": {
     "base_uri": "https://localhost:8080/"
    },
    "id": "3T6G7caLTKUb",
    "outputId": "359e5813-8b3c-423f-8ca4-a109f7984264"
   },
   "outputs": [
    {
     "data": {
      "text/plain": [
       "[66, 20, 30, 64, 194]"
      ]
     },
     "execution_count": 42,
     "metadata": {},
     "output_type": "execute_result"
    }
   ],
   "source": [
    "rounded_mean_best_hidden_layer_sizes = [round(x) for x in mean_best_hidden_layer_sizes]\n",
    "rounded_mean_best_hidden_layer_sizes"
   ]
  },
  {
   "cell_type": "code",
   "execution_count": null,
   "metadata": {
    "colab": {
     "base_uri": "https://localhost:8080/"
    },
    "id": "vr-TsoVFaJbR",
    "outputId": "0453e6e8-733b-46ed-c90d-8314cfd5c88e"
   },
   "outputs": [
    {
     "name": "stdout",
     "output_type": "stream",
     "text": [
      "Run with parameters (0.0001, 4a0f172746, [66, 20, 30, 64, 194], 100, 20, 0.2) completed, best_val_accuracy: 0.3397, best_hidden_layer_sizes sizes: [66, 20, 30, 64, 194]\n",
      "Run with parameters (0.0002, 4a0f172746, [66, 20, 30, 64, 194], 100, 20, 0.2) completed, best_val_accuracy: 0.3392, best_hidden_layer_sizes sizes: [66, 20, 30, 64, 194]\n",
      "Run with parameters (0.0004, 4a0f172746, [66, 20, 30, 64, 194], 100, 20, 0.2) completed, best_val_accuracy: 0.334, best_hidden_layer_sizes sizes: [66, 20, 30, 64, 194]\n",
      "Run with parameters (0.0008, 4a0f172746, [66, 20, 30, 64, 194], 100, 20, 0.2) completed, best_val_accuracy: 0.3272, best_hidden_layer_sizes sizes: [66, 20, 30, 64, 194]\n",
      "Run with parameters (0.0016, 4a0f172746, [66, 20, 30, 64, 194], 100, 20, 0.2) completed, best_val_accuracy: 0.3199, best_hidden_layer_sizes sizes: [66, 20, 30, 64, 194]\n",
      "Best overall combination: (0.0001, 4a0f172746, [66, 20, 30, 64, 194], 100, 20, 0.2), val_accuracy: 0.3397\n",
      "CPU times: user 11min 56s, sys: 29 s, total: 12min 25s\n",
      "Wall time: 9min 30s\n"
     ]
    }
   ],
   "source": [
    "%%time\n",
    "\n",
    "schedule = Schedule([StaticEpochNoRegularization()] * 40)\n",
    "histories, best_overall_combination = hyperparameter_search(train_fn, x=cifar100.X_train_norm, y=cifar100.y_train, validation_data=(cifar100.X_test_norm, cifar100.y_test), \n",
    "                                  learning_rate=[0.0001, 0.0002, 0.0004, 0.0008, 0.0016], schedule=[schedule], layer_sizes=[rounded_mean_best_hidden_layer_sizes], \n",
    "                                  output_neurons=[100], min_new_neurons=[20], growth_percentage=[0.2])"
   ]
  },
  {
   "cell_type": "code",
   "execution_count": null,
   "metadata": {
    "colab": {
     "base_uri": "https://localhost:8080/"
    },
    "id": "nZzqgA1nmd7S",
    "outputId": "a4e73b2c-3ad8-40da-83c6-7742e995cc3c"
   },
   "outputs": [
    {
     "data": {
      "text/plain": [
       "0.0001"
      ]
     },
     "execution_count": 55,
     "metadata": {},
     "output_type": "execute_result"
    }
   ],
   "source": [
    "best_learning_rate = best_overall_combination[0]\n",
    "best_learning_rate"
   ]
  },
  {
   "cell_type": "code",
   "execution_count": null,
   "metadata": {
    "colab": {
     "base_uri": "https://localhost:8080/"
    },
    "id": "1RUzP8CXmgOI",
    "outputId": "82f33f74-804a-4bee-e87a-ed104da51e39"
   },
   "outputs": [
    {
     "name": "stdout",
     "output_type": "stream",
     "text": [
      "Run 0 completed, best_val_accuracy: 0.3183, best_hidden_layer_sizes: [66, 20, 30, 64, 194]\n",
      "Run 1 completed, best_val_accuracy: 0.3265, best_hidden_layer_sizes: [66, 20, 30, 64, 194]\n",
      "Run 2 completed, best_val_accuracy: 0.3134, best_hidden_layer_sizes: [66, 20, 30, 64, 194]\n",
      "Run 3 completed, best_val_accuracy: 0.3345, best_hidden_layer_sizes: [66, 20, 30, 64, 194]\n",
      "Run 4 completed, best_val_accuracy: 0.325, best_hidden_layer_sizes: [66, 20, 30, 64, 194]\n",
      "Run 5 completed, best_val_accuracy: 0.3234, best_hidden_layer_sizes: [66, 20, 30, 64, 194]\n",
      "mean_best_val_accuracy: 0.3235166666666667\n",
      "mean_best_hidden_layer_sizes: [66.0, 20.0, 30.0, 64.0, 194.0]\n",
      "CPU times: user 14min 32s, sys: 34.6 s, total: 15min 7s\n",
      "Wall time: 11min 33s\n"
     ]
    }
   ],
   "source": [
    "%%time\n",
    "\n",
    "schedule = Schedule([StaticEpochNoRegularization()] * 40)\n",
    "histories, mean_best_hidden_layer_sizes = cross_validate(\n",
    "    train_fn, cifar100.X_norm, cifar100.y, n_splits=6, learning_rate=best_learning_rate,\n",
    "    schedule=schedule, layer_sizes=rounded_mean_best_hidden_layer_sizes, output_neurons=100, min_new_neurons=20, growth_percentage=0.2\n",
    ")"
   ]
  },
  {
   "cell_type": "markdown",
   "metadata": {
    "id": "edvD6CfRmy9M"
   },
   "source": [
    "## Street View House Numbers"
   ]
  },
  {
   "cell_type": "code",
   "execution_count": null,
   "metadata": {
    "id": "agjNnmNYnJnM"
   },
   "outputs": [],
   "source": [
    "svhn = get_svhn_dataset()"
   ]
  },
  {
   "cell_type": "code",
   "execution_count": null,
   "metadata": {
    "colab": {
     "base_uri": "https://localhost:8080/"
    },
    "id": "RsEq_PP8nQKV",
    "outputId": "4dd13533-fb4b-4edb-fc59-a1ea23960547"
   },
   "outputs": [
    {
     "name": "stdout",
     "output_type": "stream",
     "text": [
      "Run with parameters (0.0001, ec4ba8ef9e, [100, 100, 100, 100, 100], 10, 20, 0.2) completed, best_val_accuracy: 0.9225568531038721, best_hidden_layer_sizes sizes: [35, 23, 18, 49, 56]\n",
      "Run with parameters (0.0002, ec4ba8ef9e, [100, 100, 100, 100, 100], 10, 20, 0.2) completed, best_val_accuracy: 0.9231330669944684, best_hidden_layer_sizes sizes: [23, 16, 18, 43, 68]\n",
      "Run with parameters (0.0004, ec4ba8ef9e, [100, 100, 100, 100, 100], 10, 20, 0.2) completed, best_val_accuracy: 0.9256684081130916, best_hidden_layer_sizes sizes: [17, 15, 27, 42, 172]\n",
      "Best overall combination: (0.0004, ec4ba8ef9e, [100, 100, 100, 100, 100], 10, 20, 0.2), val_accuracy: 0.9256684081130916\n",
      "CPU times: user 15min 7s, sys: 33.3 s, total: 15min 41s\n",
      "Wall time: 12min 49s\n"
     ]
    }
   ],
   "source": [
    "%%time\n",
    "\n",
    "schedule = Schedule([DynamicEpoch(0.00002, 'weighted_l1')] * 20 + [StaticEpochNoRegularization()] * 20)\n",
    "histories, best_overall_combination = hyperparameter_search(train_fn, x=svhn.X_train_norm, y=svhn.y_train, validation_data=(svhn.X_test_norm, svhn.y_test), \n",
    "                                  learning_rate=[0.0001, 0.0002, 0.0004], schedule=[schedule], layer_sizes=[[100, 100, 100, 100, 100]], \n",
    "                                  output_neurons=[10], min_new_neurons=[20], growth_percentage=[0.2])"
   ]
  },
  {
   "cell_type": "code",
   "execution_count": null,
   "metadata": {
    "colab": {
     "base_uri": "https://localhost:8080/"
    },
    "id": "YnxsROtxpnkQ",
    "outputId": "52dd7e32-bd60-4c58-b5e0-0b1dbc2d5f57"
   },
   "outputs": [
    {
     "data": {
      "text/plain": [
       "0.0004"
      ]
     },
     "execution_count": 60,
     "metadata": {},
     "output_type": "execute_result"
    }
   ],
   "source": [
    "best_learning_rate = best_overall_combination[0]\n",
    "best_learning_rate"
   ]
  },
  {
   "cell_type": "code",
   "execution_count": null,
   "metadata": {
    "colab": {
     "base_uri": "https://localhost:8080/"
    },
    "id": "j3dIJMnGpsBB",
    "outputId": "db81756b-5ca2-4917-f51e-1b60a11d45a1"
   },
   "outputs": [
    {
     "name": "stdout",
     "output_type": "stream",
     "text": [
      "Run 0 completed, best_val_accuracy: 0.9326431132417516, best_hidden_layer_sizes: [19, 16, 17, 41, 148]\n",
      "Run 1 completed, best_val_accuracy: 0.9331238417532833, best_hidden_layer_sizes: [15, 17, 27, 48, 169]\n",
      "Run 2 completed, best_val_accuracy: 0.9300217548948514, best_hidden_layer_sizes: [18, 16, 19, 51, 158]\n",
      "Run 3 completed, best_val_accuracy: 0.929981468052534, best_hidden_layer_sizes: [16, 17, 21, 41, 159]\n",
      "mean_best_val_accuracy: 0.9314425444856052\n",
      "mean_best_hidden_layer_sizes: [17.0, 16.5, 21.0, 45.25, 158.5]\n",
      "CPU times: user 19min 51s, sys: 46.1 s, total: 20min 37s\n",
      "Wall time: 16min 40s\n"
     ]
    }
   ],
   "source": [
    "%%time\n",
    "\n",
    "schedule = Schedule([DynamicEpoch(0.00002, 'weighted_l1')] * 20 + [StaticEpochNoRegularization()] * 20)\n",
    "histories, mean_best_hidden_layer_sizes = cross_validate(\n",
    "    train_fn, svhn.X_norm, svhn.y, n_splits=4, learning_rate=best_learning_rate,\n",
    "    schedule=schedule, layer_sizes=[100, 100, 100, 100, 100], output_neurons=10, min_new_neurons=20, growth_percentage=0.2\n",
    ")"
   ]
  },
  {
   "cell_type": "code",
   "execution_count": null,
   "metadata": {
    "colab": {
     "base_uri": "https://localhost:8080/"
    },
    "id": "SZ5wlnWSpsGS",
    "outputId": "b1fe69c9-d5e7-4e0c-f627-a26ef50e7cc3"
   },
   "outputs": [
    {
     "data": {
      "text/plain": [
       "[17, 16, 21, 45, 158]"
      ]
     },
     "execution_count": 62,
     "metadata": {},
     "output_type": "execute_result"
    }
   ],
   "source": [
    "rounded_mean_best_hidden_layer_sizes = [round(x) for x in mean_best_hidden_layer_sizes]\n",
    "rounded_mean_best_hidden_layer_sizes"
   ]
  },
  {
   "cell_type": "code",
   "execution_count": null,
   "metadata": {
    "colab": {
     "base_uri": "https://localhost:8080/"
    },
    "id": "KGHdm0iJpsNJ",
    "outputId": "dce174f2-8ef4-4eb3-ba15-bcc2bc1faf28"
   },
   "outputs": [
    {
     "name": "stdout",
     "output_type": "stream",
     "text": [
      "Run with parameters (0.0001, 4a0f172746, [17, 16, 21, 45, 158], 10, 20, 0.2) completed, best_val_accuracy: 0.8831438229870928, best_hidden_layer_sizes sizes: [17, 16, 21, 45, 158]\n",
      "Run with parameters (0.0002, 4a0f172746, [17, 16, 21, 45, 158], 10, 20, 0.2) completed, best_val_accuracy: 0.8705055316533498, best_hidden_layer_sizes sizes: [17, 16, 21, 45, 158]\n",
      "Run with parameters (0.0004, 4a0f172746, [17, 16, 21, 45, 158], 10, 20, 0.2) completed, best_val_accuracy: 0.8845651505838967, best_hidden_layer_sizes sizes: [17, 16, 21, 45, 158]\n",
      "Run with parameters (0.0008, 4a0f172746, [17, 16, 21, 45, 158], 10, 20, 0.2) completed, best_val_accuracy: 0.9056929932390904, best_hidden_layer_sizes sizes: [17, 16, 21, 45, 158]\n",
      "Run with parameters (0.0016, 4a0f172746, [17, 16, 21, 45, 158], 10, 20, 0.2) completed, best_val_accuracy: 0.8907882606023356, best_hidden_layer_sizes sizes: [17, 16, 21, 45, 158]\n",
      "Best overall combination: (0.0008, 4a0f172746, [17, 16, 21, 45, 158], 10, 20, 0.2), val_accuracy: 0.9056929932390904\n",
      "CPU times: user 19min 31s, sys: 47.7 s, total: 20min 19s\n",
      "Wall time: 15min 31s\n"
     ]
    }
   ],
   "source": [
    "%%time\n",
    "\n",
    "schedule = Schedule([StaticEpochNoRegularization()] * 40)\n",
    "histories, best_overall_combination = hyperparameter_search(train_fn, x=svhn.X_train_norm, y=svhn.y_train, validation_data=(svhn.X_test_norm, svhn.y_test), \n",
    "                                  learning_rate=[0.0001, 0.0002, 0.0004, 0.0008, 0.0016], schedule=[schedule], layer_sizes=[rounded_mean_best_hidden_layer_sizes], \n",
    "                                  output_neurons=[10], min_new_neurons=[20], growth_percentage=[0.2])"
   ]
  },
  {
   "cell_type": "code",
   "execution_count": null,
   "metadata": {
    "colab": {
     "base_uri": "https://localhost:8080/"
    },
    "id": "RfwjPtX7qNim",
    "outputId": "2366acb7-4771-4781-8045-d798e9825ff8"
   },
   "outputs": [
    {
     "data": {
      "text/plain": [
       "0.0008"
      ]
     },
     "execution_count": 64,
     "metadata": {},
     "output_type": "execute_result"
    }
   ],
   "source": [
    "best_learning_rate = best_overall_combination[0]\n",
    "best_learning_rate"
   ]
  },
  {
   "cell_type": "code",
   "execution_count": null,
   "metadata": {
    "colab": {
     "base_uri": "https://localhost:8080/"
    },
    "id": "_MePaSfwqPSp",
    "outputId": "4e1feca5-e9a3-432a-8135-03af535d71c0"
   },
   "outputs": [
    {
     "name": "stdout",
     "output_type": "stream",
     "text": [
      "Run 0 completed, best_val_accuracy: 0.9115739435201224, best_hidden_layer_sizes: [17, 16, 21, 45, 158]\n",
      "Run 1 completed, best_val_accuracy: 0.9151559100797679, best_hidden_layer_sizes: [17, 16, 21, 45, 158]\n",
      "Run 2 completed, best_val_accuracy: 0.9182177100958827, best_hidden_layer_sizes: [17, 16, 21, 45, 158]\n",
      "Run 3 completed, best_val_accuracy: 0.9090725968898558, best_hidden_layer_sizes: [17, 16, 21, 45, 158]\n",
      "mean_best_val_accuracy: 0.9135050401464072\n",
      "mean_best_hidden_layer_sizes: [17.0, 16.0, 21.0, 45.0, 158.0]\n",
      "CPU times: user 15min 31s, sys: 39.8 s, total: 16min 11s\n",
      "Wall time: 12min 19s\n"
     ]
    }
   ],
   "source": [
    "%%time\n",
    "\n",
    "schedule = Schedule([StaticEpochNoRegularization()] * 40)\n",
    "histories, mean_best_hidden_layer_sizes = cross_validate(\n",
    "    train_fn, svhn.X_norm, svhn.y, n_splits=4, learning_rate=best_learning_rate,\n",
    "    schedule=schedule, layer_sizes=rounded_mean_best_hidden_layer_sizes, output_neurons=10, min_new_neurons=20, growth_percentage=0.2\n",
    ")"
   ]
  },
  {
   "cell_type": "markdown",
   "metadata": {
    "id": "M-FaQr8cro9R"
   },
   "source": [
    "##CIFAR10"
   ]
  },
  {
   "cell_type": "code",
   "execution_count": null,
   "metadata": {
    "colab": {
     "base_uri": "https://localhost:8080/"
    },
    "id": "wAyVYQ5Brqnq",
    "outputId": "cbe68b2e-9bc6-4974-8922-5fe63b46b145"
   },
   "outputs": [
    {
     "name": "stdout",
     "output_type": "stream",
     "text": [
      "Downloading data from https://www.cs.toronto.edu/~kriz/cifar-10-python.tar.gz\n",
      "170500096/170498071 [==============================] - 6s 0us/step\n",
      "170508288/170498071 [==============================] - 6s 0us/step\n"
     ]
    }
   ],
   "source": [
    "cifar10 = get_cifar_10_dataset()"
   ]
  },
  {
   "cell_type": "code",
   "execution_count": null,
   "metadata": {
    "colab": {
     "base_uri": "https://localhost:8080/"
    },
    "id": "TcPnlUpKrqux",
    "outputId": "48c969c5-edae-469d-8ee3-39da289c21ef"
   },
   "outputs": [
    {
     "name": "stdout",
     "output_type": "stream",
     "text": [
      "Run with parameters (0.0001, ec4ba8ef9e, [100, 100, 100, 100, 100], 10, 20, 0.2) completed, best_val_accuracy: 0.7309, best_hidden_layer_sizes sizes: [86, 24, 32, 48, 51]\n",
      "Run with parameters (0.0002, ec4ba8ef9e, [100, 100, 100, 100, 100], 10, 20, 0.2) completed, best_val_accuracy: 0.7502, best_hidden_layer_sizes sizes: [58, 18, 25, 48, 78]\n",
      "Run with parameters (0.0004, ec4ba8ef9e, [100, 100, 100, 100, 100], 10, 20, 0.2) completed, best_val_accuracy: 0.7699, best_hidden_layer_sizes sizes: [38, 20, 21, 56, 161]\n",
      "Best overall combination: (0.0004, ec4ba8ef9e, [100, 100, 100, 100, 100], 10, 20, 0.2), val_accuracy: 0.7699\n",
      "CPU times: user 9min 51s, sys: 19.3 s, total: 10min 11s\n",
      "Wall time: 8min 38s\n"
     ]
    }
   ],
   "source": [
    "%%time\n",
    "\n",
    "schedule = Schedule([DynamicEpoch(0.00002, 'weighted_l1')] * 20 + [StaticEpochNoRegularization()] * 20)\n",
    "histories, best_overall_combination = hyperparameter_search(train_fn, x=cifar10.X_train_norm, y=cifar10.y_train, validation_data=(cifar10.X_test_norm, cifar10.y_test), \n",
    "                                  learning_rate=[0.0001, 0.0002, 0.0004], schedule=[schedule], layer_sizes=[[100, 100, 100, 100, 100]], \n",
    "                                  output_neurons=[10], min_new_neurons=[20], growth_percentage=[0.2])"
   ]
  },
  {
   "cell_type": "code",
   "execution_count": null,
   "metadata": {
    "colab": {
     "base_uri": "https://localhost:8080/"
    },
    "id": "1c_COXAgrqyJ",
    "outputId": "536489da-0042-4477-f37d-2c0092e79794"
   },
   "outputs": [
    {
     "data": {
      "text/plain": [
       "0.0004"
      ]
     },
     "execution_count": 68,
     "metadata": {},
     "output_type": "execute_result"
    }
   ],
   "source": [
    "best_learning_rate = best_overall_combination[0]\n",
    "best_learning_rate"
   ]
  },
  {
   "cell_type": "code",
   "execution_count": null,
   "metadata": {
    "colab": {
     "base_uri": "https://localhost:8080/"
    },
    "id": "7DQlPH90rq1l",
    "outputId": "79afd198-1fd8-4e4d-d4f7-88ffcd7823e1"
   },
   "outputs": [
    {
     "name": "stdout",
     "output_type": "stream",
     "text": [
      "Run 0 completed, best_val_accuracy: 0.7729, best_hidden_layer_sizes: [41, 16, 27, 59, 215]\n",
      "Run 1 completed, best_val_accuracy: 0.7684, best_hidden_layer_sizes: [39, 17, 32, 55, 147]\n",
      "Run 2 completed, best_val_accuracy: 0.773, best_hidden_layer_sizes: [38, 19, 24, 54, 177]\n",
      "Run 3 completed, best_val_accuracy: 0.7674, best_hidden_layer_sizes: [37, 20, 22, 67, 174]\n",
      "Run 4 completed, best_val_accuracy: 0.7749, best_hidden_layer_sizes: [38, 18, 26, 57, 145]\n",
      "Run 5 completed, best_val_accuracy: 0.7662, best_hidden_layer_sizes: [42, 19, 25, 51, 192]\n",
      "mean_best_val_accuracy: 0.7704666666666666\n",
      "mean_best_hidden_layer_sizes: [39.166666666666664, 18.166666666666668, 26.0, 57.166666666666664, 175.0]\n",
      "CPU times: user 19min 26s, sys: 39 s, total: 20min 5s\n",
      "Wall time: 16min 45s\n"
     ]
    }
   ],
   "source": [
    "%%time\n",
    "\n",
    "schedule = Schedule([DynamicEpoch(0.00002, 'weighted_l1')] * 20 + [StaticEpochNoRegularization()] * 20)\n",
    "histories, mean_best_hidden_layer_sizes = cross_validate(\n",
    "    train_fn, cifar10.X_norm, cifar10.y, n_splits=6, learning_rate=best_learning_rate,\n",
    "    schedule=schedule, layer_sizes=[100, 100, 100, 100, 100], output_neurons=10, min_new_neurons=20, growth_percentage=0.2\n",
    ")"
   ]
  },
  {
   "cell_type": "code",
   "execution_count": null,
   "metadata": {
    "colab": {
     "base_uri": "https://localhost:8080/"
    },
    "id": "q_1Gql57rq4v",
    "outputId": "13768f9d-5395-4c86-8e40-8c2dabac552e"
   },
   "outputs": [
    {
     "data": {
      "text/plain": [
       "[39, 18, 26, 57, 175]"
      ]
     },
     "execution_count": 70,
     "metadata": {},
     "output_type": "execute_result"
    }
   ],
   "source": [
    "rounded_mean_best_hidden_layer_sizes = [round(x) for x in mean_best_hidden_layer_sizes]\n",
    "rounded_mean_best_hidden_layer_sizes"
   ]
  },
  {
   "cell_type": "code",
   "execution_count": null,
   "metadata": {
    "colab": {
     "base_uri": "https://localhost:8080/"
    },
    "id": "O6BK6222sD1m",
    "outputId": "d357bdf1-ef16-4752-d5ae-3e69abfd0c5e"
   },
   "outputs": [
    {
     "name": "stdout",
     "output_type": "stream",
     "text": [
      "Run with parameters (0.0001, 4a0f172746, [39, 18, 26, 57, 175], 10, 20, 0.2) completed, best_val_accuracy: 0.6574, best_hidden_layer_sizes sizes: [39, 18, 26, 57, 175]\n",
      "Run with parameters (0.0002, 4a0f172746, [39, 18, 26, 57, 175], 10, 20, 0.2) completed, best_val_accuracy: 0.6557, best_hidden_layer_sizes sizes: [39, 18, 26, 57, 175]\n",
      "Run with parameters (0.0004, 4a0f172746, [39, 18, 26, 57, 175], 10, 20, 0.2) completed, best_val_accuracy: 0.6811, best_hidden_layer_sizes sizes: [39, 18, 26, 57, 175]\n",
      "Run with parameters (0.0008, 4a0f172746, [39, 18, 26, 57, 175], 10, 20, 0.2) completed, best_val_accuracy: 0.7077, best_hidden_layer_sizes sizes: [39, 18, 26, 57, 175]\n",
      "Run with parameters (0.0016, 4a0f172746, [39, 18, 26, 57, 175], 10, 20, 0.2) completed, best_val_accuracy: 0.7281, best_hidden_layer_sizes sizes: [39, 18, 26, 57, 175]\n",
      "Run with parameters (0.0032, 4a0f172746, [39, 18, 26, 57, 175], 10, 20, 0.2) completed, best_val_accuracy: 0.7032, best_hidden_layer_sizes sizes: [39, 18, 26, 57, 175]\n",
      "Best overall combination: (0.0016, 4a0f172746, [39, 18, 26, 57, 175], 10, 20, 0.2), val_accuracy: 0.7281\n",
      "CPU times: user 14min 41s, sys: 34.4 s, total: 15min 15s\n",
      "Wall time: 11min 40s\n"
     ]
    }
   ],
   "source": [
    "%%time\n",
    "\n",
    "schedule = Schedule([StaticEpochNoRegularization()] * 40)\n",
    "histories, best_overall_combination = hyperparameter_search(train_fn, x=cifar10.X_train_norm, y=cifar10.y_train, validation_data=(cifar10.X_test_norm, cifar10.y_test), \n",
    "                                  learning_rate=[0.0001, 0.0002, 0.0004, 0.0008, 0.0016, 0.0032], schedule=[schedule], layer_sizes=[rounded_mean_best_hidden_layer_sizes], \n",
    "                                  output_neurons=[10], min_new_neurons=[20], growth_percentage=[0.2])"
   ]
  },
  {
   "cell_type": "code",
   "execution_count": null,
   "metadata": {
    "colab": {
     "base_uri": "https://localhost:8080/"
    },
    "id": "-LnzcDWasD4P",
    "outputId": "2afff0a6-8e0c-467b-cf8e-071f4708b352"
   },
   "outputs": [
    {
     "data": {
      "text/plain": [
       "0.0016"
      ]
     },
     "execution_count": 79,
     "metadata": {},
     "output_type": "execute_result"
    }
   ],
   "source": [
    "best_learning_rate = best_overall_combination[0]\n",
    "best_learning_rate"
   ]
  },
  {
   "cell_type": "code",
   "execution_count": null,
   "metadata": {
    "colab": {
     "base_uri": "https://localhost:8080/"
    },
    "id": "_TjO54M6sD7J",
    "outputId": "c7b4d272-870e-44e2-9731-78a7325a7771"
   },
   "outputs": [
    {
     "name": "stdout",
     "output_type": "stream",
     "text": [
      "Run 0 completed, best_val_accuracy: 0.7312, best_hidden_layer_sizes: [39, 18, 26, 57, 175]\n",
      "Run 1 completed, best_val_accuracy: 0.7296, best_hidden_layer_sizes: [39, 18, 26, 57, 175]\n",
      "Run 2 completed, best_val_accuracy: 0.7286, best_hidden_layer_sizes: [39, 18, 26, 57, 175]\n",
      "Run 3 completed, best_val_accuracy: 0.7299, best_hidden_layer_sizes: [39, 18, 26, 57, 175]\n",
      "Run 4 completed, best_val_accuracy: 0.7389, best_hidden_layer_sizes: [39, 18, 26, 57, 175]\n",
      "Run 5 completed, best_val_accuracy: 0.7186, best_hidden_layer_sizes: [39, 18, 26, 57, 175]\n",
      "mean_best_val_accuracy: 0.7294666666666667\n",
      "mean_best_hidden_layer_sizes: [39.0, 18.0, 26.0, 57.0, 175.0]\n",
      "CPU times: user 14min 48s, sys: 38.2 s, total: 15min 26s\n",
      "Wall time: 11min 49s\n"
     ]
    }
   ],
   "source": [
    "%%time\n",
    "\n",
    "schedule = Schedule([StaticEpochNoRegularization()] * 40)\n",
    "histories, mean_best_hidden_layer_sizes = cross_validate(\n",
    "    train_fn, cifar10.X_norm, cifar10.y, n_splits=6, learning_rate=best_learning_rate,\n",
    "    schedule=schedule, layer_sizes=rounded_mean_best_hidden_layer_sizes, output_neurons=10, min_new_neurons=20, growth_percentage=0.2\n",
    ")"
   ]
  },
  {
   "cell_type": "markdown",
   "metadata": {
    "id": "vLDo_10YsgNW"
   },
   "source": [
    "## Fashion MNIST"
   ]
  },
  {
   "cell_type": "code",
   "execution_count": null,
   "metadata": {
    "id": "_ipVjRDqrq8Q"
   },
   "outputs": [],
   "source": [
    "fashion_mnist = get_fashion_mnist_dataset()"
   ]
  },
  {
   "cell_type": "code",
   "execution_count": null,
   "metadata": {
    "colab": {
     "base_uri": "https://localhost:8080/"
    },
    "id": "g43wcgugsuIh",
    "outputId": "5b00a71a-de2d-4971-ea07-c13d4d6f2003"
   },
   "outputs": [
    {
     "name": "stdout",
     "output_type": "stream",
     "text": [
      "Run with parameters (0.0001, ec4ba8ef9e, [100, 100, 100, 100, 100], 10, 20, 0.2) completed, best_val_accuracy: 0.9215, best_hidden_layer_sizes sizes: [50, 20, 18, 42, 49]\n",
      "Run with parameters (0.0002, ec4ba8ef9e, [100, 100, 100, 100, 100], 10, 20, 0.2) completed, best_val_accuracy: 0.9263, best_hidden_layer_sizes sizes: [35, 15, 20, 30, 77]\n",
      "Run with parameters (0.0004, ec4ba8ef9e, [100, 100, 100, 100, 100], 10, 20, 0.2) completed, best_val_accuracy: 0.931, best_hidden_layer_sizes sizes: [28, 13, 28, 31, 119]\n",
      "Best overall combination: (0.0004, ec4ba8ef9e, [100, 100, 100, 100, 100], 10, 20, 0.2), val_accuracy: 0.931\n",
      "CPU times: user 8min 13s, sys: 20.3 s, total: 8min 33s\n",
      "Wall time: 7min 29s\n"
     ]
    }
   ],
   "source": [
    "%%time\n",
    "\n",
    "schedule = Schedule([DynamicEpoch(0.00002, 'weighted_l1')] * 20 + [StaticEpochNoRegularization()] * 20)\n",
    "histories, best_overall_combination = hyperparameter_search(train_fn, x=fashion_mnist.X_train_norm, y=fashion_mnist.y_train, validation_data=(fashion_mnist.X_test_norm, fashion_mnist.y_test), \n",
    "                                  learning_rate=[0.0001, 0.0002, 0.0004], schedule=[schedule], layer_sizes=[[100, 100, 100, 100, 100]], \n",
    "                                  output_neurons=[10], min_new_neurons=[20], growth_percentage=[0.2])"
   ]
  },
  {
   "cell_type": "code",
   "execution_count": null,
   "metadata": {
    "colab": {
     "base_uri": "https://localhost:8080/"
    },
    "id": "CnaZ5sW6svYn",
    "outputId": "6626998b-be51-495e-b151-47ce32c8188c"
   },
   "outputs": [
    {
     "data": {
      "text/plain": [
       "0.0004"
      ]
     },
     "execution_count": 83,
     "metadata": {},
     "output_type": "execute_result"
    }
   ],
   "source": [
    "best_learning_rate = best_overall_combination[0]\n",
    "best_learning_rate"
   ]
  },
  {
   "cell_type": "code",
   "execution_count": null,
   "metadata": {
    "colab": {
     "base_uri": "https://localhost:8080/"
    },
    "id": "xkOlyqQbsvbB",
    "outputId": "df3528ae-7ace-44b9-fe1f-d327dde242ee"
   },
   "outputs": [
    {
     "name": "stdout",
     "output_type": "stream",
     "text": [
      "Run 0 completed, best_val_accuracy: 0.9333, best_hidden_layer_sizes: [25, 15, 24, 35, 121]\n",
      "Run 1 completed, best_val_accuracy: 0.9314, best_hidden_layer_sizes: [25, 13, 30, 39, 108]\n",
      "Run 2 completed, best_val_accuracy: 0.9313, best_hidden_layer_sizes: [23, 14, 31, 35, 119]\n",
      "Run 3 completed, best_val_accuracy: 0.9325, best_hidden_layer_sizes: [22, 14, 12, 40, 113]\n",
      "Run 4 completed, best_val_accuracy: 0.9384, best_hidden_layer_sizes: [21, 15, 18, 32, 141]\n",
      "Run 5 completed, best_val_accuracy: 0.9298, best_hidden_layer_sizes: [19, 17, 19, 38, 122]\n",
      "Run 6 completed, best_val_accuracy: 0.9321, best_hidden_layer_sizes: [20, 15, 15, 33, 143]\n",
      "mean_best_val_accuracy: 0.9326857142857143\n",
      "mean_best_hidden_layer_sizes: [22.142857142857142, 14.714285714285714, 21.285714285714285, 36.0, 123.85714285714286]\n",
      "CPU times: user 19min 2s, sys: 49.2 s, total: 19min 51s\n",
      "Wall time: 16min 58s\n"
     ]
    }
   ],
   "source": [
    "%%time\n",
    "\n",
    "schedule = Schedule([DynamicEpoch(0.00002, 'weighted_l1')] * 20 + [StaticEpochNoRegularization()] * 20)\n",
    "histories, mean_best_hidden_layer_sizes = cross_validate(\n",
    "    train_fn, fashion_mnist.X_norm, fashion_mnist.y, n_splits=7, learning_rate=best_learning_rate,\n",
    "    schedule=schedule, layer_sizes=[100, 100, 100, 100, 100], output_neurons=10, min_new_neurons=20, growth_percentage=0.2\n",
    ")"
   ]
  },
  {
   "cell_type": "code",
   "execution_count": null,
   "metadata": {
    "colab": {
     "base_uri": "https://localhost:8080/"
    },
    "id": "Plo75e8lsvdj",
    "outputId": "a72138eb-802a-4366-c28d-39c88393be56"
   },
   "outputs": [
    {
     "data": {
      "text/plain": [
       "[22, 15, 21, 36, 124]"
      ]
     },
     "execution_count": 85,
     "metadata": {},
     "output_type": "execute_result"
    }
   ],
   "source": [
    "rounded_mean_best_hidden_layer_sizes = [round(x) for x in mean_best_hidden_layer_sizes]\n",
    "rounded_mean_best_hidden_layer_sizes"
   ]
  },
  {
   "cell_type": "code",
   "execution_count": null,
   "metadata": {
    "colab": {
     "base_uri": "https://localhost:8080/"
    },
    "id": "cPLGINjQsvgd",
    "outputId": "e9f81dc7-0284-4cc5-e4c3-5cadc5788c5a"
   },
   "outputs": [
    {
     "name": "stdout",
     "output_type": "stream",
     "text": [
      "Run with parameters (0.0001, 4a0f172746, [22, 15, 21, 36, 124], 10, 20, 0.2) completed, best_val_accuracy: 0.9066, best_hidden_layer_sizes sizes: [22, 15, 21, 36, 124]\n",
      "Run with parameters (0.0002, 4a0f172746, [22, 15, 21, 36, 124], 10, 20, 0.2) completed, best_val_accuracy: 0.9126, best_hidden_layer_sizes sizes: [22, 15, 21, 36, 124]\n",
      "Run with parameters (0.0004, 4a0f172746, [22, 15, 21, 36, 124], 10, 20, 0.2) completed, best_val_accuracy: 0.921, best_hidden_layer_sizes sizes: [22, 15, 21, 36, 124]\n",
      "Run with parameters (0.0008, 4a0f172746, [22, 15, 21, 36, 124], 10, 20, 0.2) completed, best_val_accuracy: 0.9189, best_hidden_layer_sizes sizes: [22, 15, 21, 36, 124]\n",
      "Run with parameters (0.0016, 4a0f172746, [22, 15, 21, 36, 124], 10, 20, 0.2) completed, best_val_accuracy: 0.9187, best_hidden_layer_sizes sizes: [22, 15, 21, 36, 124]\n",
      "Run with parameters (0.0032, 4a0f172746, [22, 15, 21, 36, 124], 10, 20, 0.2) completed, best_val_accuracy: 0.9066, best_hidden_layer_sizes sizes: [22, 15, 21, 36, 124]\n",
      "Best overall combination: (0.0004, 4a0f172746, [22, 15, 21, 36, 124], 10, 20, 0.2), val_accuracy: 0.921\n",
      "CPU times: user 13min 8s, sys: 35.1 s, total: 13min 43s\n",
      "Wall time: 10min 55s\n"
     ]
    }
   ],
   "source": [
    "%%time\n",
    "\n",
    "schedule = Schedule([StaticEpochNoRegularization()] * 40)\n",
    "histories, best_overall_combination = hyperparameter_search(train_fn, x=fashion_mnist.X_train_norm, y=fashion_mnist.y_train, validation_data=(fashion_mnist.X_test_norm, fashion_mnist.y_test), \n",
    "                                  learning_rate=[0.0001, 0.0002, 0.0004, 0.0008, 0.0016, 0.0032], schedule=[schedule], layer_sizes=[rounded_mean_best_hidden_layer_sizes], \n",
    "                                  output_neurons=[10], min_new_neurons=[20], growth_percentage=[0.2])"
   ]
  },
  {
   "cell_type": "code",
   "execution_count": null,
   "metadata": {
    "colab": {
     "base_uri": "https://localhost:8080/"
    },
    "id": "aBMFxM9VszsW",
    "outputId": "20d6890f-a737-47b2-be36-68add8cae092"
   },
   "outputs": [
    {
     "data": {
      "text/plain": [
       "0.0004"
      ]
     },
     "execution_count": 87,
     "metadata": {},
     "output_type": "execute_result"
    }
   ],
   "source": [
    "best_learning_rate = best_overall_combination[0]\n",
    "best_learning_rate"
   ]
  },
  {
   "cell_type": "code",
   "execution_count": null,
   "metadata": {
    "colab": {
     "base_uri": "https://localhost:8080/"
    },
    "id": "SVO0wAZUszx0",
    "outputId": "a6c6f687-95f7-4743-bd7e-95d05abd020b"
   },
   "outputs": [
    {
     "name": "stdout",
     "output_type": "stream",
     "text": [
      "Run 0 completed, best_val_accuracy: 0.923, best_hidden_layer_sizes: [22, 15, 21, 36, 124]\n",
      "Run 1 completed, best_val_accuracy: 0.9246, best_hidden_layer_sizes: [22, 15, 21, 36, 124]\n",
      "Run 2 completed, best_val_accuracy: 0.9233, best_hidden_layer_sizes: [22, 15, 21, 36, 124]\n",
      "Run 3 completed, best_val_accuracy: 0.9269, best_hidden_layer_sizes: [22, 15, 21, 36, 124]\n",
      "Run 4 completed, best_val_accuracy: 0.9218, best_hidden_layer_sizes: [22, 15, 21, 36, 124]\n",
      "Run 5 completed, best_val_accuracy: 0.9249, best_hidden_layer_sizes: [22, 15, 21, 36, 124]\n",
      "Run 6 completed, best_val_accuracy: 0.9231, best_hidden_layer_sizes: [22, 15, 21, 36, 124]\n",
      "mean_best_val_accuracy: 0.9239428571428572\n",
      "mean_best_hidden_layer_sizes: [22.0, 15.0, 21.0, 36.0, 124.0]\n",
      "CPU times: user 15min 17s, sys: 41 s, total: 15min 58s\n",
      "Wall time: 12min 44s\n"
     ]
    }
   ],
   "source": [
    "%%time\n",
    "\n",
    "schedule = Schedule([StaticEpochNoRegularization()] * 40)\n",
    "histories, mean_best_hidden_layer_sizes = cross_validate(\n",
    "    train_fn, fashion_mnist.X_norm, fashion_mnist.y, n_splits=7, learning_rate=best_learning_rate,\n",
    "    schedule=schedule, layer_sizes=rounded_mean_best_hidden_layer_sizes, output_neurons=10, min_new_neurons=20, growth_percentage=0.2\n",
    ")"
   ]
  },
  {
   "cell_type": "markdown",
   "metadata": {
    "id": "yq2h8XESsjwY"
   },
   "source": [
    "## MNIST"
   ]
  },
  {
   "cell_type": "code",
   "execution_count": null,
   "metadata": {
    "colab": {
     "base_uri": "https://localhost:8080/"
    },
    "id": "U5lL2sS2slBO",
    "outputId": "aaff070b-c6f5-4217-f8d7-5467c7dd77a6"
   },
   "outputs": [
    {
     "name": "stdout",
     "output_type": "stream",
     "text": [
      "Downloading data from https://storage.googleapis.com/tensorflow/tf-keras-datasets/mnist.npz\n",
      "11493376/11490434 [==============================] - 0s 0us/step\n",
      "11501568/11490434 [==============================] - 0s 0us/step\n"
     ]
    }
   ],
   "source": [
    "mnist = get_mnist_dataset()"
   ]
  },
  {
   "cell_type": "code",
   "execution_count": null,
   "metadata": {
    "colab": {
     "base_uri": "https://localhost:8080/"
    },
    "id": "nj58iVyUtVEX",
    "outputId": "0b7076a6-73b0-4d0b-9ec4-b15ee4f3807f"
   },
   "outputs": [
    {
     "name": "stdout",
     "output_type": "stream",
     "text": [
      "Run with parameters (0.0001, ec4ba8ef9e, [100, 100, 100, 100, 100], 10, 20, 0.2) completed, best_val_accuracy: 0.9924, best_hidden_layer_sizes sizes: [36, 20, 18, 35, 44]\n",
      "Run with parameters (0.0002, ec4ba8ef9e, [100, 100, 100, 100, 100], 10, 20, 0.2) completed, best_val_accuracy: 0.9931, best_hidden_layer_sizes sizes: [19, 19, 14, 31, 39]\n",
      "Run with parameters (0.0004, ec4ba8ef9e, [100, 100, 100, 100, 100], 10, 20, 0.2) completed, best_val_accuracy: 0.9933, best_hidden_layer_sizes sizes: [16, 14, 19, 45, 109]\n",
      "Best overall combination: (0.0004, ec4ba8ef9e, [100, 100, 100, 100, 100], 10, 20, 0.2), val_accuracy: 0.9933\n",
      "CPU times: user 8min 4s, sys: 20.5 s, total: 8min 25s\n",
      "Wall time: 7min 18s\n"
     ]
    }
   ],
   "source": [
    "%%time\n",
    "\n",
    "schedule = Schedule([DynamicEpoch(0.00002, 'weighted_l1')] * 20 + [StaticEpochNoRegularization()] * 20)\n",
    "histories, best_overall_combination = hyperparameter_search(train_fn, x=mnist.X_train_norm, y=mnist.y_train, validation_data=(mnist.X_test_norm, mnist.y_test), \n",
    "                                  learning_rate=[0.0001, 0.0002, 0.0004], schedule=[schedule], layer_sizes=[[100, 100, 100, 100, 100]], \n",
    "                                  output_neurons=[10], min_new_neurons=[20], growth_percentage=[0.2])"
   ]
  },
  {
   "cell_type": "code",
   "execution_count": null,
   "metadata": {
    "colab": {
     "base_uri": "https://localhost:8080/"
    },
    "id": "ixVarQOxtVG-",
    "outputId": "562fdc28-0e80-40e2-e5f5-cf6576092d88"
   },
   "outputs": [
    {
     "data": {
      "text/plain": [
       "0.0004"
      ]
     },
     "execution_count": 91,
     "metadata": {},
     "output_type": "execute_result"
    }
   ],
   "source": [
    "best_learning_rate = best_overall_combination[0]\n",
    "best_learning_rate"
   ]
  },
  {
   "cell_type": "code",
   "execution_count": null,
   "metadata": {
    "colab": {
     "base_uri": "https://localhost:8080/"
    },
    "id": "8T-FpKMrtVJy",
    "outputId": "d4ec9991-3a9c-4120-9f08-ca63c5dc901a"
   },
   "outputs": [
    {
     "name": "stdout",
     "output_type": "stream",
     "text": [
      "Run 0 completed, best_val_accuracy: 0.9926, best_hidden_layer_sizes: [18, 15, 16, 34, 77]\n",
      "Run 1 completed, best_val_accuracy: 0.9936, best_hidden_layer_sizes: [16, 13, 16, 38, 91]\n",
      "Run 2 completed, best_val_accuracy: 0.9928, best_hidden_layer_sizes: [20, 13, 14, 32, 102]\n",
      "Run 3 completed, best_val_accuracy: 0.9938, best_hidden_layer_sizes: [18, 14, 16, 35, 81]\n",
      "Run 4 completed, best_val_accuracy: 0.9946, best_hidden_layer_sizes: [18, 14, 19, 31, 88]\n",
      "Run 5 completed, best_val_accuracy: 0.9933, best_hidden_layer_sizes: [17, 16, 13, 34, 113]\n",
      "Run 6 completed, best_val_accuracy: 0.994, best_hidden_layer_sizes: [23, 14, 29, 31, 100]\n",
      "mean_best_val_accuracy: 0.9935285714285714\n",
      "mean_best_hidden_layer_sizes: [18.571428571428573, 14.142857142857142, 17.571428571428573, 33.57142857142857, 93.14285714285714]\n",
      "CPU times: user 18min 40s, sys: 50.5 s, total: 19min 31s\n",
      "Wall time: 16min 42s\n"
     ]
    }
   ],
   "source": [
    "%%time\n",
    "\n",
    "schedule = Schedule([DynamicEpoch(0.00002, 'weighted_l1')] * 20 + [StaticEpochNoRegularization()] * 20)\n",
    "histories, mean_best_hidden_layer_sizes = cross_validate(\n",
    "    train_fn, mnist.X_norm, mnist.y, n_splits=7, learning_rate=best_learning_rate,\n",
    "    schedule=schedule, layer_sizes=[100, 100, 100, 100, 100], output_neurons=10, min_new_neurons=20, growth_percentage=0.2\n",
    ")"
   ]
  },
  {
   "cell_type": "code",
   "execution_count": null,
   "metadata": {
    "colab": {
     "base_uri": "https://localhost:8080/"
    },
    "id": "kMDDfv8MtVMM",
    "outputId": "a27b973d-1584-4467-b5e1-5d73ada7c1cf"
   },
   "outputs": [
    {
     "data": {
      "text/plain": [
       "[19, 14, 18, 34, 93]"
      ]
     },
     "execution_count": 93,
     "metadata": {},
     "output_type": "execute_result"
    }
   ],
   "source": [
    "rounded_mean_best_hidden_layer_sizes = [round(x) for x in mean_best_hidden_layer_sizes]\n",
    "rounded_mean_best_hidden_layer_sizes"
   ]
  },
  {
   "cell_type": "code",
   "execution_count": null,
   "metadata": {
    "colab": {
     "base_uri": "https://localhost:8080/"
    },
    "id": "SWRd6SvYtVOu",
    "outputId": "29c2a5ee-33da-4f07-fd53-7b550ffd7fb1"
   },
   "outputs": [
    {
     "name": "stdout",
     "output_type": "stream",
     "text": [
      "Run with parameters (0.0001, 4a0f172746, [19, 14, 18, 34, 93], 10, 20, 0.2) completed, best_val_accuracy: 0.9917, best_hidden_layer_sizes sizes: [19, 14, 18, 34, 93]\n",
      "Run with parameters (0.0002, 4a0f172746, [19, 14, 18, 34, 93], 10, 20, 0.2) completed, best_val_accuracy: 0.9925, best_hidden_layer_sizes sizes: [19, 14, 18, 34, 93]\n",
      "Run with parameters (0.0004, 4a0f172746, [19, 14, 18, 34, 93], 10, 20, 0.2) completed, best_val_accuracy: 0.9929, best_hidden_layer_sizes sizes: [19, 14, 18, 34, 93]\n",
      "Run with parameters (0.0008, 4a0f172746, [19, 14, 18, 34, 93], 10, 20, 0.2) completed, best_val_accuracy: 0.9919, best_hidden_layer_sizes sizes: [19, 14, 18, 34, 93]\n",
      "Run with parameters (0.0016, 4a0f172746, [19, 14, 18, 34, 93], 10, 20, 0.2) completed, best_val_accuracy: 0.9925, best_hidden_layer_sizes sizes: [19, 14, 18, 34, 93]\n",
      "Run with parameters (0.0032, 4a0f172746, [19, 14, 18, 34, 93], 10, 20, 0.2) completed, best_val_accuracy: 0.9902, best_hidden_layer_sizes sizes: [19, 14, 18, 34, 93]\n",
      "Best overall combination: (0.0004, 4a0f172746, [19, 14, 18, 34, 93], 10, 20, 0.2), val_accuracy: 0.9929\n",
      "CPU times: user 12min 45s, sys: 34.9 s, total: 13min 20s\n",
      "Wall time: 10min 36s\n"
     ]
    }
   ],
   "source": [
    "%%time\n",
    "\n",
    "schedule = Schedule([StaticEpochNoRegularization()] * 40)\n",
    "histories, best_overall_combination = hyperparameter_search(train_fn, x=mnist.X_train_norm, y=mnist.y_train, validation_data=(mnist.X_test_norm, mnist.y_test), \n",
    "                                  learning_rate=[0.0001, 0.0002, 0.0004, 0.0008, 0.0016, 0.0032], schedule=[schedule], layer_sizes=[rounded_mean_best_hidden_layer_sizes], \n",
    "                                  output_neurons=[10], min_new_neurons=[20], growth_percentage=[0.2])"
   ]
  },
  {
   "cell_type": "code",
   "execution_count": null,
   "metadata": {
    "colab": {
     "base_uri": "https://localhost:8080/"
    },
    "id": "J-LTH8KftVQ9",
    "outputId": "8ff14774-f25e-45a4-ff0f-f351818c3cda"
   },
   "outputs": [
    {
     "data": {
      "text/plain": [
       "0.0004"
      ]
     },
     "execution_count": 95,
     "metadata": {},
     "output_type": "execute_result"
    }
   ],
   "source": [
    "best_learning_rate = best_overall_combination[0]\n",
    "best_learning_rate"
   ]
  },
  {
   "cell_type": "code",
   "execution_count": null,
   "metadata": {
    "colab": {
     "base_uri": "https://localhost:8080/"
    },
    "id": "bxZEUlxytawY",
    "outputId": "eb5e171d-d3a1-434f-fac9-1a06391aa3c9"
   },
   "outputs": [
    {
     "name": "stdout",
     "output_type": "stream",
     "text": [
      "Run 0 completed, best_val_accuracy: 0.9923, best_hidden_layer_sizes: [19, 14, 18, 34, 93]\n",
      "Run 1 completed, best_val_accuracy: 0.9935, best_hidden_layer_sizes: [19, 14, 18, 34, 93]\n",
      "Run 2 completed, best_val_accuracy: 0.9937, best_hidden_layer_sizes: [19, 14, 18, 34, 93]\n",
      "Run 3 completed, best_val_accuracy: 0.9932, best_hidden_layer_sizes: [19, 14, 18, 34, 93]\n",
      "Run 4 completed, best_val_accuracy: 0.9941, best_hidden_layer_sizes: [19, 14, 18, 34, 93]\n",
      "Run 5 completed, best_val_accuracy: 0.9924, best_hidden_layer_sizes: [19, 14, 18, 34, 93]\n",
      "Run 6 completed, best_val_accuracy: 0.9943, best_hidden_layer_sizes: [19, 14, 18, 34, 93]\n",
      "mean_best_val_accuracy: 0.9933571428571427\n",
      "mean_best_hidden_layer_sizes: [19.0, 14.0, 18.0, 34.0, 93.0]\n",
      "CPU times: user 14min 52s, sys: 41.7 s, total: 15min 34s\n",
      "Wall time: 12min 25s\n"
     ]
    }
   ],
   "source": [
    "%%time\n",
    "\n",
    "schedule = Schedule([StaticEpochNoRegularization()] * 40)\n",
    "histories, mean_best_hidden_layer_sizes = cross_validate(\n",
    "    train_fn, mnist.X_norm, mnist.y, n_splits=7, learning_rate=best_learning_rate,\n",
    "    schedule=schedule, layer_sizes=rounded_mean_best_hidden_layer_sizes, output_neurons=10, min_new_neurons=20, growth_percentage=0.2\n",
    ")"
   ]
  },
  {
   "cell_type": "markdown",
   "metadata": {
    "id": "8nyE3FnKtzfA"
   },
   "source": [
    "## Tiny ImageNet"
   ]
  },
  {
   "cell_type": "code",
   "execution_count": null,
   "metadata": {
    "colab": {
     "base_uri": "https://localhost:8080/"
    },
    "id": "a7f4aAUTuAwM",
    "outputId": "dbfb2d0f-d3a2-4250-9e50-e2d582d8275f"
   },
   "outputs": [
    {
     "name": "stdout",
     "output_type": "stream",
     "text": [
      "Processing the downloaded dataset...\n"
     ]
    }
   ],
   "source": [
    "tiny_imagenet = get_tiny_imagenet_dataset()"
   ]
  },
  {
   "cell_type": "code",
   "execution_count": null,
   "metadata": {
    "colab": {
     "base_uri": "https://localhost:8080/"
    },
    "id": "1If_JhQjuBVx",
    "outputId": "3bba4ad4-9e90-4acb-ecf3-3a92fb98b59e"
   },
   "outputs": [
    {
     "name": "stdout",
     "output_type": "stream",
     "text": [
      "Run with parameters (0.0001, ec4ba8ef9e, [100, 100, 100, 100, 100], 200, 20, 0.2) completed, best_val_accuracy: 0.1674, best_hidden_layer_sizes sizes: [76, 22, 33, 36, 120]\n",
      "Run with parameters (0.0002, ec4ba8ef9e, [100, 100, 100, 100, 100], 200, 20, 0.2) completed, best_val_accuracy: 0.1669, best_hidden_layer_sizes sizes: [66, 14, 29, 51, 190]\n",
      "Run with parameters (0.0004, ec4ba8ef9e, [100, 100, 100, 100, 100], 200, 20, 0.2) completed, best_val_accuracy: 0.1766, best_hidden_layer_sizes sizes: [48, 15, 45, 38, 381]\n",
      "Best overall combination: (0.0004, ec4ba8ef9e, [100, 100, 100, 100, 100], 200, 20, 0.2), val_accuracy: 0.1766\n",
      "CPU times: user 46min 45s, sys: 54 s, total: 47min 39s\n",
      "Wall time: 38min 22s\n"
     ]
    }
   ],
   "source": [
    "%%time\n",
    "\n",
    "schedule = Schedule([DynamicEpoch(0.00002, 'weighted_l1')] * 20 + [StaticEpochNoRegularization()] * 20)\n",
    "histories, best_overall_combination = hyperparameter_search(train_fn, x=tiny_imagenet.X_train_norm, y=tiny_imagenet.y_train, validation_data=(tiny_imagenet.X_test_norm, tiny_imagenet.y_test), \n",
    "                                  learning_rate=[0.0001, 0.0002, 0.0004], schedule=[schedule], layer_sizes=[[100, 100, 100, 100, 100]], \n",
    "                                  output_neurons=[200], min_new_neurons=[20], growth_percentage=[0.2])"
   ]
  },
  {
   "cell_type": "code",
   "execution_count": null,
   "metadata": {
    "colab": {
     "base_uri": "https://localhost:8080/"
    },
    "id": "4J7PduGCuBYr",
    "outputId": "69a6fbc0-d7f6-4110-9d81-0aae0ef536da"
   },
   "outputs": [
    {
     "data": {
      "text/plain": [
       "0.0004"
      ]
     },
     "execution_count": 99,
     "metadata": {},
     "output_type": "execute_result"
    }
   ],
   "source": [
    "best_learning_rate = best_overall_combination[0]\n",
    "best_learning_rate"
   ]
  },
  {
   "cell_type": "code",
   "execution_count": null,
   "metadata": {
    "colab": {
     "base_uri": "https://localhost:8080/"
    },
    "id": "wQ6EeXZBuBbE",
    "outputId": "1075017e-26e2-4c02-8f57-c756eacda717"
   },
   "outputs": [
    {
     "name": "stdout",
     "output_type": "stream",
     "text": [
      "Run 0 completed, best_val_accuracy: 0.1862, best_hidden_layer_sizes: [49, 12, 38, 46, 404]\n",
      "Run 1 completed, best_val_accuracy: 0.1854, best_hidden_layer_sizes: [51, 15, 46, 46, 384]\n",
      "Run 2 completed, best_val_accuracy: 0.1917, best_hidden_layer_sizes: [46, 14, 40, 47, 391]\n",
      "Run 3 completed, best_val_accuracy: 0.1792, best_hidden_layer_sizes: [49, 12, 48, 62, 376]\n",
      "Run 4 completed, best_val_accuracy: 0.2002, best_hidden_layer_sizes: [45, 13, 38, 41, 371]\n",
      "Run 5 completed, best_val_accuracy: 0.1792, best_hidden_layer_sizes: [42, 12, 56, 49, 358]\n",
      "Run 6 completed, best_val_accuracy: 0.19, best_hidden_layer_sizes: [52, 13, 66, 52, 348]\n",
      "Run 7 completed, best_val_accuracy: 0.213, best_hidden_layer_sizes: [45, 13, 53, 31, 388]\n",
      "Run 8 completed, best_val_accuracy: 0.1825, best_hidden_layer_sizes: [45, 13, 38, 80, 396]\n",
      "Run 9 completed, best_val_accuracy: 0.1743, best_hidden_layer_sizes: [43, 15, 54, 79, 368]\n",
      "Run 10 completed, best_val_accuracy: 0.1804, best_hidden_layer_sizes: [46, 13, 50, 66, 362]\n",
      "mean_best_val_accuracy: 0.18746363636363642\n",
      "mean_best_hidden_layer_sizes: [46.63636363636363, 13.181818181818182, 47.90909090909091, 54.45454545454545, 376.90909090909093]\n",
      "CPU times: user 2h 56min 7s, sys: 3min 42s, total: 2h 59min 49s\n",
      "Wall time: 2h 25min 21s\n"
     ]
    }
   ],
   "source": [
    "%%time\n",
    "\n",
    "schedule = Schedule([DynamicEpoch(0.00002, 'weighted_l1')] * 20 + [StaticEpochNoRegularization()] * 20)\n",
    "histories, mean_best_hidden_layer_sizes = cross_validate(\n",
    "    train_fn, tiny_imagenet.X_norm, tiny_imagenet.y, n_splits=11, learning_rate=best_learning_rate,\n",
    "    schedule=schedule, layer_sizes=[100, 100, 100, 100, 100], output_neurons=200, min_new_neurons=20, growth_percentage=0.2\n",
    ")"
   ]
  },
  {
   "cell_type": "code",
   "execution_count": null,
   "metadata": {
    "colab": {
     "base_uri": "https://localhost:8080/"
    },
    "id": "Ug2Y9m3JuBdu",
    "outputId": "97dd80a5-0279-4923-ace1-067da960f974"
   },
   "outputs": [
    {
     "data": {
      "text/plain": [
       "[47, 13, 48, 54, 377]"
      ]
     },
     "execution_count": 101,
     "metadata": {},
     "output_type": "execute_result"
    }
   ],
   "source": [
    "rounded_mean_best_hidden_layer_sizes = [round(x) for x in mean_best_hidden_layer_sizes]\n",
    "rounded_mean_best_hidden_layer_sizes"
   ]
  },
  {
   "cell_type": "code",
   "execution_count": null,
   "metadata": {
    "colab": {
     "base_uri": "https://localhost:8080/"
    },
    "id": "TnoswIOWuSgP",
    "outputId": "869f0369-ecc3-4026-c13c-50c78558e781"
   },
   "outputs": [
    {
     "name": "stdout",
     "output_type": "stream",
     "text": [
      "Run with parameters (0.0001, 4a0f172746, [47, 13, 48, 54, 377], 200, 20, 0.2) completed, best_val_accuracy: 0.088, best_hidden_layer_sizes sizes: [47, 13, 48, 54, 377]\n",
      "Run with parameters (0.0002, 4a0f172746, [47, 13, 48, 54, 377], 200, 20, 0.2) completed, best_val_accuracy: 0.0932, best_hidden_layer_sizes sizes: [47, 13, 48, 54, 377]\n",
      "Run with parameters (0.0004, 4a0f172746, [47, 13, 48, 54, 377], 200, 20, 0.2) completed, best_val_accuracy: 0.0995, best_hidden_layer_sizes sizes: [47, 13, 48, 54, 377]\n",
      "Run with parameters (0.0008, 4a0f172746, [47, 13, 48, 54, 377], 200, 20, 0.2) completed, best_val_accuracy: 0.0923, best_hidden_layer_sizes sizes: [47, 13, 48, 54, 377]\n",
      "Run with parameters (0.0016, 4a0f172746, [47, 13, 48, 54, 377], 200, 20, 0.2) completed, best_val_accuracy: 0.0852, best_hidden_layer_sizes sizes: [47, 13, 48, 54, 377]\n",
      "Run with parameters (0.0032, 4a0f172746, [47, 13, 48, 54, 377], 200, 20, 0.2) completed, best_val_accuracy: 0.005, best_hidden_layer_sizes sizes: [47, 13, 48, 54, 377]\n",
      "Best overall combination: (0.0004, 4a0f172746, [47, 13, 48, 54, 377], 200, 20, 0.2), val_accuracy: 0.0995\n",
      "CPU times: user 1h 4min 38s, sys: 1min 31s, total: 1h 6min 9s\n",
      "Wall time: 49min 26s\n"
     ]
    }
   ],
   "source": [
    "%%time\n",
    "\n",
    "schedule = Schedule([StaticEpochNoRegularization()] * 40)\n",
    "histories, best_overall_combination = hyperparameter_search(train_fn, x=tiny_imagenet.X_train_norm, y=tiny_imagenet.y_train, validation_data=(tiny_imagenet.X_test_norm, tiny_imagenet.y_test), \n",
    "                                  learning_rate=[0.0001, 0.0002, 0.0004, 0.0008, 0.0016, 0.0032], schedule=[schedule], layer_sizes=[rounded_mean_best_hidden_layer_sizes], \n",
    "                                  output_neurons=[200], min_new_neurons=[20], growth_percentage=[0.2])"
   ]
  },
  {
   "cell_type": "code",
   "execution_count": null,
   "metadata": {
    "colab": {
     "base_uri": "https://localhost:8080/"
    },
    "id": "QYtSsbjuuSi-",
    "outputId": "b6f9ba4d-aad5-4234-e5ba-f0f9e0c511a4"
   },
   "outputs": [
    {
     "data": {
      "text/plain": [
       "0.0004"
      ]
     },
     "execution_count": 103,
     "metadata": {},
     "output_type": "execute_result"
    }
   ],
   "source": [
    "best_learning_rate = best_overall_combination[0]\n",
    "best_learning_rate"
   ]
  },
  {
   "cell_type": "code",
   "execution_count": null,
   "metadata": {
    "colab": {
     "base_uri": "https://localhost:8080/"
    },
    "id": "qGsq3IK9uSld",
    "outputId": "0e3eb75c-1ae8-4ff2-bc33-672952e062ad"
   },
   "outputs": [
    {
     "name": "stdout",
     "output_type": "stream",
     "text": [
      "Run 0 completed, best_val_accuracy: 0.1087, best_hidden_layer_sizes: [47, 13, 48, 54, 377]\n",
      "Run 1 completed, best_val_accuracy: 0.1094, best_hidden_layer_sizes: [47, 13, 48, 54, 377]\n",
      "Run 2 completed, best_val_accuracy: 0.1176, best_hidden_layer_sizes: [47, 13, 48, 54, 377]\n",
      "Run 3 completed, best_val_accuracy: 0.111, best_hidden_layer_sizes: [47, 13, 48, 54, 377]\n",
      "Run 4 completed, best_val_accuracy: 0.1162, best_hidden_layer_sizes: [47, 13, 48, 54, 377]\n",
      "Run 5 completed, best_val_accuracy: 0.1078, best_hidden_layer_sizes: [47, 13, 48, 54, 377]\n",
      "Run 6 completed, best_val_accuracy: 0.1183, best_hidden_layer_sizes: [47, 13, 48, 54, 377]\n",
      "Run 7 completed, best_val_accuracy: 0.1164, best_hidden_layer_sizes: [47, 13, 48, 54, 377]\n",
      "Run 8 completed, best_val_accuracy: 0.1093, best_hidden_layer_sizes: [47, 13, 48, 54, 377]\n",
      "Run 9 completed, best_val_accuracy: 0.1149, best_hidden_layer_sizes: [47, 13, 48, 54, 377]\n",
      "Run 10 completed, best_val_accuracy: 0.1138, best_hidden_layer_sizes: [47, 13, 48, 54, 377]\n",
      "mean_best_val_accuracy: 0.11303636363636362\n",
      "mean_best_hidden_layer_sizes: [47.0, 13.0, 48.0, 54.0, 377.0]\n",
      "CPU times: user 2h 51s, sys: 3min 16s, total: 2h 4min 8s\n",
      "Wall time: 1h 33min 1s\n"
     ]
    }
   ],
   "source": [
    "%%time\n",
    "\n",
    "schedule = Schedule([StaticEpochNoRegularization()] * 40)\n",
    "histories, mean_best_hidden_layer_sizes = cross_validate(\n",
    "    train_fn, tiny_imagenet.X_norm, tiny_imagenet.y, n_splits=11, learning_rate=best_learning_rate,\n",
    "    schedule=schedule, layer_sizes=rounded_mean_best_hidden_layer_sizes, output_neurons=200, min_new_neurons=20, growth_percentage=0.2\n",
    ")"
   ]
  },
  {
   "cell_type": "code",
   "execution_count": null,
   "metadata": {
    "id": "bMrz149vtoST"
   },
   "outputs": [],
   "source": []
  }
 ],
 "metadata": {
  "accelerator": "GPU",
  "colab": {
   "background_execution": "on",
   "machine_shape": "hm",
   "name": "tf_multi_layer_ssnet_inverse.ipynb",
   "provenance": [],
   "toc_visible": true
  },
  "kernelspec": {
   "display_name": "Python 3 (ipykernel)",
   "language": "python",
   "name": "python3"
  },
  "language_info": {
   "codemirror_mode": {
    "name": "ipython",
    "version": 3
   },
   "file_extension": ".py",
   "mimetype": "text/x-python",
   "name": "python",
   "nbconvert_exporter": "python",
   "pygments_lexer": "ipython3",
   "version": "3.8.10"
  }
 },
 "nbformat": 4,
 "nbformat_minor": 4
}
