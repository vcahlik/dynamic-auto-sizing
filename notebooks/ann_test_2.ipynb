{
 "cells": [
  {
   "cell_type": "code",
   "execution_count": 1,
   "metadata": {},
   "outputs": [],
   "source": [
    "import sys\n",
    "sys.path.insert(0,'..')\n",
    "\n",
    "from nets.core import train_model, prune_neurons, grow_neurons, get_layer_sizes, initialize_parameters, get_param_string, train_dynamic_model, measure_accuracy\n",
    "from nets.datasets import mnist_3, fashion_mnist_tshirt\n",
    "\n",
    "import numpy as np\n",
    "import pandas as pd\n",
    "import matplotlib.pyplot as plt\n",
    "import math\n",
    "import copy\n",
    "\n",
    "%matplotlib inline\n",
    "%load_ext autoreload\n",
    "%autoreload 2\n",
    "\n",
    "np.random.seed(42)"
   ]
  },
  {
   "cell_type": "markdown",
   "metadata": {},
   "source": [
    "# Load the data"
   ]
  },
  {
   "cell_type": "code",
   "execution_count": 2,
   "metadata": {},
   "outputs": [
    {
     "data": {
      "text/plain": [
       "((784, 48000), (1, 48000), (784, 12000), (1, 12000))"
      ]
     },
     "execution_count": 2,
     "metadata": {},
     "output_type": "execute_result"
    }
   ],
   "source": [
    "X_train_m, X_test_m, y_train_m, y_test_m = mnist_3()\n",
    "X_train_m.shape, y_train_m.shape, X_test_m.shape, y_test_m.shape"
   ]
  },
  {
   "cell_type": "code",
   "execution_count": 3,
   "metadata": {},
   "outputs": [
    {
     "data": {
      "image/png": "[encoded data removed]",
      "text/plain": [
       "<Figure size 432x288 with 1 Axes>"
      ]
     },
     "metadata": {
      "needs_background": "light"
     },
     "output_type": "display_data"
    }
   ],
   "source": [
    "pixels = X_train_m[:, 1].reshape((28, 28))\n",
    "plt.imshow(pixels, cmap='gray')\n",
    "plt.show()"
   ]
  },
  {
   "cell_type": "code",
   "execution_count": 4,
   "metadata": {},
   "outputs": [
    {
     "data": {
      "text/plain": [
       "((784, 48000), (1, 48000), (784, 12000), (1, 12000))"
      ]
     },
     "execution_count": 4,
     "metadata": {},
     "output_type": "execute_result"
    }
   ],
   "source": [
    "X_train_fm, X_test_fm, y_train_fm, y_test_fm = fashion_mnist_tshirt()\n",
    "X_train_fm.shape, y_train_fm.shape, X_test_fm.shape, y_test_fm.shape"
   ]
  },
  {
   "cell_type": "code",
   "execution_count": 5,
   "metadata": {},
   "outputs": [
    {
     "data": {
      "image/png": "[encoded data removed]",
      "text/plain": [
       "<Figure size 432x288 with 1 Axes>"
      ]
     },
     "metadata": {
      "needs_background": "light"
     },
     "output_type": "display_data"
    }
   ],
   "source": [
    "pixels = X_train_fm[:, 1].reshape((28, 28))\n",
    "plt.imshow(pixels, cmap='gray')\n",
    "plt.show()"
   ]
  },
  {
   "cell_type": "markdown",
   "metadata": {},
   "source": [
    "# Test pruning neurons"
   ]
  },
  {
   "cell_type": "code",
   "execution_count": 7,
   "metadata": {},
   "outputs": [],
   "source": [
    "layers_dims = [784, 20, 20, 1]"
   ]
  },
  {
   "cell_type": "code",
   "execution_count": 13,
   "metadata": {},
   "outputs": [
    {
     "name": "stdout",
     "output_type": "stream",
     "text": [
      "Cost after epoch 0: 0.359812\n",
      "Cost after epoch 1: 0.214252\n",
      "Cost after epoch 2: 0.156755\n",
      "Cost after epoch 3: 0.126837\n",
      "Cost after epoch 4: 0.119046\n",
      "Cost after epoch 5: 0.112092\n",
      "Cost after epoch 6: 0.110529\n",
      "Cost after epoch 7: 0.105766\n",
      "Cost after epoch 8: 0.101518\n",
      "Cost after epoch 9: 0.096901\n",
      "Cost after epoch 10: 0.092610\n",
      "Cost after epoch 11: 0.088425\n",
      "Cost after epoch 12: 0.087657\n",
      "Cost after epoch 13: 0.084147\n",
      "Cost after epoch 14: 0.080914\n",
      "Cost after epoch 15: 0.081007\n",
      "Cost after epoch 16: 0.076784\n",
      "Cost after epoch 17: 0.075424\n",
      "Cost after epoch 18: 0.081668\n",
      "Cost after epoch 19: 0.077549\n"
     ]
    }
   ],
   "source": [
    "parameters = initialize_parameters(layers_dims)\n",
    "parameters = train_model(X_train_m, y_train_m, parameters, learning_rate=0.05, l1_term=0.05, num_epochs=20, print_cost=True)"
   ]
  },
  {
   "cell_type": "code",
   "execution_count": 15,
   "metadata": {},
   "outputs": [
    {
     "data": {
      "text/plain": [
       "0.9865416666666667"
      ]
     },
     "execution_count": 15,
     "metadata": {},
     "output_type": "execute_result"
    }
   ],
   "source": [
    "measure_accuracy(parameters, X_train_m, y_train_m)"
   ]
  },
  {
   "cell_type": "code",
   "execution_count": 17,
   "metadata": {},
   "outputs": [
    {
     "name": "stdout",
     "output_type": "stream",
     "text": [
      "Cost after epoch 0: 0.297169\n",
      "Cost after epoch 1: 0.154100\n",
      "Cost after epoch 2: 0.120355\n",
      "Cost after epoch 3: 0.104911\n",
      "Cost after epoch 4: 0.101299\n",
      "Cost after epoch 5: 0.087843\n",
      "Cost after epoch 6: 0.090634\n",
      "Cost after epoch 7: 0.092526\n",
      "Cost after epoch 8: 0.079348\n",
      "Cost after epoch 9: 0.080150\n",
      "Cost after epoch 10: 0.080602\n",
      "Cost after epoch 11: 0.077172\n",
      "Cost after epoch 12: 0.076063\n",
      "Cost after epoch 13: 0.072677\n",
      "Cost after epoch 14: 0.063783\n",
      "Cost after epoch 15: 0.061885\n",
      "Cost after epoch 16: 0.061831\n",
      "Cost after epoch 17: 0.062763\n",
      "Cost after epoch 18: 0.061132\n",
      "Cost after epoch 19: 0.060422\n"
     ]
    }
   ],
   "source": [
    "parameters = initialize_parameters(layers_dims)\n",
    "parameters_scaled = train_model(X_train_m, y_train_m, parameters, learning_rate=0.05, l1_term=0.05, self_scale=True, num_epochs=20, print_cost=True)"
   ]
  },
  {
   "cell_type": "code",
   "execution_count": 20,
   "metadata": {},
   "outputs": [
    {
     "data": {
      "text/plain": [
       "0.9818333333333333"
      ]
     },
     "execution_count": 20,
     "metadata": {},
     "output_type": "execute_result"
    }
   ],
   "source": [
    "measure_accuracy(parameters_scaled, X_train_m, y_train_m)"
   ]
  },
  {
   "cell_type": "code",
   "execution_count": 19,
   "metadata": {},
   "outputs": [
    {
     "data": {
      "text/plain": [
       "[784, 2, 5, 1]"
      ]
     },
     "execution_count": 19,
     "metadata": {},
     "output_type": "execute_result"
    }
   ],
   "source": [
    "parameters_pruned = copy.deepcopy(parameters_scaled)\n",
    "prune_neurons(parameters_pruned)\n",
    "get_layer_sizes(parameters_pruned)"
   ]
  },
  {
   "cell_type": "code",
   "execution_count": 21,
   "metadata": {},
   "outputs": [
    {
     "data": {
      "text/plain": [
       "0.9818333333333333"
      ]
     },
     "execution_count": 21,
     "metadata": {},
     "output_type": "execute_result"
    }
   ],
   "source": [
    "measure_accuracy(parameters_pruned, X_train_m, y_train_m)"
   ]
  },
  {
   "cell_type": "code",
   "execution_count": 22,
   "metadata": {},
   "outputs": [
    {
     "name": "stdout",
     "output_type": "stream",
     "text": [
      "Cost after epoch 0: 0.317890\n",
      "Cost after epoch 1: 0.180584\n",
      "Cost after epoch 2: 0.122194\n",
      "Cost after epoch 3: 0.093648\n",
      "Cost after epoch 4: 0.075114\n",
      "Cost after epoch 5: 0.064961\n",
      "Cost after epoch 6: 0.059103\n",
      "Cost after epoch 7: 0.052779\n",
      "Cost after epoch 8: 0.049598\n",
      "Cost after epoch 9: 0.047101\n",
      "Cost after epoch 10: 0.043771\n",
      "Cost after epoch 11: 0.042957\n",
      "Cost after epoch 12: 0.041046\n",
      "Cost after epoch 13: 0.040205\n",
      "Cost after epoch 14: 0.040432\n",
      "Cost after epoch 15: 0.040886\n",
      "Cost after epoch 16: 0.040099\n",
      "Cost after epoch 17: 0.036542\n",
      "Cost after epoch 18: 0.036072\n",
      "Cost after epoch 19: 0.034638\n"
     ]
    }
   ],
   "source": [
    "parameters = initialize_parameters(layers_dims)\n",
    "parameters_scaled = train_model(X_train_m, y_train_m, parameters, learning_rate=0.05, l1_term=0.01, self_scale=True, num_epochs=20, print_cost=True)"
   ]
  },
  {
   "cell_type": "code",
   "execution_count": 23,
   "metadata": {},
   "outputs": [
    {
     "data": {
      "text/plain": [
       "0.988625"
      ]
     },
     "execution_count": 23,
     "metadata": {},
     "output_type": "execute_result"
    }
   ],
   "source": [
    "measure_accuracy(parameters_scaled, X_train_m, y_train_m)"
   ]
  },
  {
   "cell_type": "code",
   "execution_count": 24,
   "metadata": {},
   "outputs": [
    {
     "data": {
      "text/plain": [
       "[784, 7, 8, 1]"
      ]
     },
     "execution_count": 24,
     "metadata": {},
     "output_type": "execute_result"
    }
   ],
   "source": [
    "parameters_pruned = copy.deepcopy(parameters_scaled)\n",
    "prune_neurons(parameters_pruned)\n",
    "get_layer_sizes(parameters_pruned)"
   ]
  },
  {
   "cell_type": "code",
   "execution_count": 25,
   "metadata": {},
   "outputs": [
    {
     "data": {
      "text/plain": [
       "0.988625"
      ]
     },
     "execution_count": 25,
     "metadata": {},
     "output_type": "execute_result"
    }
   ],
   "source": [
    "measure_accuracy(parameters_pruned, X_train_m, y_train_m)"
   ]
  },
  {
   "cell_type": "code",
   "execution_count": 26,
   "metadata": {},
   "outputs": [],
   "source": [
    "layers_dims = [784, 100, 100, 1]"
   ]
  },
  {
   "cell_type": "code",
   "execution_count": 27,
   "metadata": {},
   "outputs": [
    {
     "name": "stdout",
     "output_type": "stream",
     "text": [
      "Cost after epoch 0: 0.782117\n",
      "Cost after epoch 1: 0.396082\n",
      "Cost after epoch 2: 0.310997\n",
      "Cost after epoch 3: 0.277403\n",
      "Cost after epoch 4: 0.261473\n",
      "Cost after epoch 5: 0.247344\n",
      "Cost after epoch 6: 0.234010\n",
      "Cost after epoch 7: 0.230796\n",
      "Cost after epoch 8: 0.231137\n",
      "Cost after epoch 9: 0.232779\n",
      "Cost after epoch 10: 0.229599\n",
      "Cost after epoch 11: 0.228239\n",
      "Cost after epoch 12: 0.221841\n",
      "Cost after epoch 13: 0.218048\n",
      "Cost after epoch 14: 0.215499\n",
      "Cost after epoch 15: 0.216250\n",
      "Cost after epoch 16: 0.218483\n",
      "Cost after epoch 17: 0.217932\n",
      "Cost after epoch 18: 0.213969\n",
      "Cost after epoch 19: 0.214877\n"
     ]
    }
   ],
   "source": [
    "parameters = initialize_parameters(layers_dims)\n",
    "parameters_scaled = train_model(X_train_m, y_train_m, parameters, learning_rate=0.05, l1_term=0.01, self_scale=True, num_epochs=20, print_cost=True)"
   ]
  },
  {
   "cell_type": "code",
   "execution_count": 28,
   "metadata": {},
   "outputs": [
    {
     "data": {
      "text/plain": [
       "0.9879375"
      ]
     },
     "execution_count": 28,
     "metadata": {},
     "output_type": "execute_result"
    }
   ],
   "source": [
    "measure_accuracy(parameters_scaled, X_train_m, y_train_m)"
   ]
  },
  {
   "cell_type": "code",
   "execution_count": 34,
   "metadata": {},
   "outputs": [
    {
     "data": {
      "text/plain": [
       "[784, 5, 7, 1]"
      ]
     },
     "execution_count": 34,
     "metadata": {},
     "output_type": "execute_result"
    }
   ],
   "source": [
    "parameters_pruned = copy.deepcopy(parameters_scaled)\n",
    "prune_neurons(parameters_pruned)\n",
    "get_layer_sizes(parameters_pruned)"
   ]
  },
  {
   "cell_type": "code",
   "execution_count": 37,
   "metadata": {},
   "outputs": [
    {
     "name": "stdout",
     "output_type": "stream",
     "text": [
      "11111\n",
      "0121011\n"
     ]
    }
   ],
   "source": [
    "print(get_param_string(parameters_pruned['W1']))\n",
    "print(get_param_string(parameters_pruned['W2']))"
   ]
  },
  {
   "cell_type": "code",
   "execution_count": 35,
   "metadata": {},
   "outputs": [
    {
     "data": {
      "text/plain": [
       "0.9878958333333333"
      ]
     },
     "execution_count": 35,
     "metadata": {},
     "output_type": "execute_result"
    }
   ],
   "source": [
    "measure_accuracy(parameters_pruned, X_train_m, y_train_m)"
   ]
  },
  {
   "cell_type": "markdown",
   "metadata": {},
   "source": [
    "# Test growing neurons"
   ]
  },
  {
   "cell_type": "code",
   "execution_count": 36,
   "metadata": {},
   "outputs": [
    {
     "data": {
      "text/plain": [
       "[784, 10, 12, 1]"
      ]
     },
     "execution_count": 36,
     "metadata": {},
     "output_type": "execute_result"
    }
   ],
   "source": [
    "parameters_grown = copy.deepcopy(parameters_pruned)\n",
    "grow_neurons(parameters_grown)\n",
    "get_layer_sizes(parameters_grown)"
   ]
  },
  {
   "cell_type": "code",
   "execution_count": 38,
   "metadata": {},
   "outputs": [
    {
     "name": "stdout",
     "output_type": "stream",
     "text": [
      "1111122222\n",
      "011101112212\n"
     ]
    }
   ],
   "source": [
    "print(get_param_string(parameters_grown['W1']))\n",
    "print(get_param_string(parameters_grown['W2']))"
   ]
  },
  {
   "cell_type": "code",
   "execution_count": 39,
   "metadata": {},
   "outputs": [
    {
     "data": {
      "text/plain": [
       "(10, 784)"
      ]
     },
     "execution_count": 39,
     "metadata": {},
     "output_type": "execute_result"
    }
   ],
   "source": [
    "parameters_grown['W1'].shape"
   ]
  },
  {
   "cell_type": "code",
   "execution_count": 40,
   "metadata": {},
   "outputs": [
    {
     "data": {
      "text/plain": [
       "(12, 10)"
      ]
     },
     "execution_count": 40,
     "metadata": {},
     "output_type": "execute_result"
    }
   ],
   "source": [
    "parameters_grown['W2'].shape"
   ]
  },
  {
   "cell_type": "code",
   "execution_count": 54,
   "metadata": {
    "scrolled": false
   },
   "outputs": [
    {
     "name": "stdout",
     "output_type": "stream",
     "text": [
      "After growing: [784, 15, 15, 1]\n",
      "111111111133333\n",
      "110110110033333\n",
      "Cost after epoch 0: 0.152068\n",
      "Cost after epoch 1: 0.101780\n",
      "Cost after epoch 2: 0.086675\n",
      "Cost after epoch 3: 0.078669\n",
      "Cost after epoch 4: 0.073484\n",
      "Iteration 1: accuracy 0.9774791666666667\n",
      "After pruning: [784, 15, 15, 1]\n",
      "Accuracy 0.9774791666666667\n",
      "111111111122222\n",
      "110110110022222\n",
      "-------------------\n",
      "After growing: [784, 20, 20, 1]\n",
      "11111111112222233333\n",
      "11011011001111133333\n",
      "Cost after epoch 0: 0.074828\n",
      "Cost after epoch 1: 0.071787\n",
      "Cost after epoch 2: 0.069272\n",
      "Cost after epoch 3: 0.067022\n",
      "Cost after epoch 4: 0.064941\n",
      "Iteration 2: accuracy 0.9826875\n",
      "After pruning: [784, 15, 16, 1]\n",
      "Accuracy 0.9826875\n",
      "111111111122222\n",
      "1101101100222233\n",
      "-------------------\n",
      "After growing: [784, 20, 21, 1]\n",
      "11111111112222233333\n",
      "110110110011111133333\n",
      "Cost after epoch 0: 0.063942\n",
      "Cost after epoch 1: 0.062330\n",
      "Cost after epoch 2: 0.060768\n",
      "Cost after epoch 3: 0.059234\n",
      "Cost after epoch 4: 0.057587\n",
      "Iteration 3: accuracy 0.9858125\n",
      "After pruning: [784, 15, 16, 1]\n",
      "Accuracy 0.9857916666666666\n",
      "111111111121232\n",
      "1101101100212233\n",
      "-------------------\n",
      "After growing: [784, 20, 21, 1]\n",
      "11111111112123233333\n",
      "110110110011111133333\n",
      "Cost after epoch 0: 0.056394\n",
      "Cost after epoch 1: 0.055065\n",
      "Cost after epoch 2: 0.053773\n",
      "Cost after epoch 3: 0.052634\n",
      "Cost after epoch 4: 0.051687\n",
      "Iteration 4: accuracy 0.9882083333333334\n",
      "After pruning: [784, 15, 15, 1]\n",
      "Accuracy 0.9882083333333334\n",
      "111111111121232\n",
      "110110110021223\n",
      "-------------------\n",
      "After growing: [784, 20, 20, 1]\n",
      "11111111112123233333\n",
      "11011011001111133333\n",
      "Cost after epoch 0: 0.050262\n",
      "Cost after epoch 1: 0.049332\n",
      "Cost after epoch 2: 0.048403\n",
      "Cost after epoch 3: 0.047560\n",
      "Cost after epoch 4: 0.046665\n",
      "Iteration 5: accuracy 0.989125\n",
      "After pruning: [784, 14, 14, 1]\n",
      "Accuracy 0.989125\n",
      "11111111113122\n",
      "11011011002132\n",
      "-------------------\n"
     ]
    }
   ],
   "source": [
    "layers_dims = [784, 10, 10, 1]\n",
    "parameters = initialize_parameters(layers_dims)\n",
    "parameters = train_dynamic_model(X_train_m, y_train_m, parameters, learning_rate=0.01, l1_term=0.002, n_iterations=5)"
   ]
  },
  {
   "cell_type": "code",
   "execution_count": 55,
   "metadata": {},
   "outputs": [
    {
     "data": {
      "text/plain": [
       "0.989125"
      ]
     },
     "execution_count": 55,
     "metadata": {},
     "output_type": "execute_result"
    }
   ],
   "source": [
    "measure_accuracy(parameters, X_train_m, y_train_m)"
   ]
  },
  {
   "cell_type": "code",
   "execution_count": 56,
   "metadata": {},
   "outputs": [
    {
     "name": "stdout",
     "output_type": "stream",
     "text": [
      "After growing: [784, 8, 8, 1]\n",
      "11133333\n",
      "01033233\n",
      "Cost after epoch 0: 0.114036\n",
      "Cost after epoch 1: 0.087633\n",
      "Cost after epoch 2: 0.070972\n",
      "Cost after epoch 3: 0.055175\n",
      "Cost after epoch 4: 0.042520\n",
      "Iteration 1: accuracy 0.9767916666666666\n",
      "After pruning: [784, 8, 8, 1]\n",
      "Accuracy 0.9767916666666666\n",
      "11112222\n",
      "01011212\n",
      "-------------------\n",
      "After growing: [784, 13, 13, 1]\n",
      "1111222233333\n",
      "0101111133233\n",
      "Cost after epoch 0: 0.036444\n",
      "Cost after epoch 1: 0.033487\n",
      "Cost after epoch 2: 0.031706\n",
      "Cost after epoch 3: 0.030753\n",
      "Cost after epoch 4: 0.030708\n",
      "Iteration 2: accuracy 0.9800625\n",
      "After pruning: [784, 12, 11, 1]\n",
      "Accuracy 0.9800625\n",
      "111122222432\n",
      "01011111232\n",
      "-------------------\n",
      "After growing: [784, 17, 16, 1]\n",
      "11112222243233333\n",
      "0101111111123333\n",
      "Cost after epoch 0: 0.033145\n",
      "Cost after epoch 1: 0.033334\n",
      "Cost after epoch 2: 0.031064\n",
      "Cost after epoch 3: 0.029907\n",
      "Cost after epoch 4: 0.028567\n",
      "Iteration 3: accuracy 0.9826666666666667\n",
      "After pruning: [784, 12, 12, 1]\n",
      "Accuracy 0.9826666666666667\n",
      "111122222322\n",
      "010111111112\n",
      "-------------------\n",
      "After growing: [784, 17, 17, 1]\n",
      "11112222232233333\n",
      "01011111111123333\n",
      "Cost after epoch 0: 0.028299\n",
      "Cost after epoch 1: 0.027439\n",
      "Cost after epoch 2: 0.026860\n",
      "Cost after epoch 3: 0.025866\n",
      "Cost after epoch 4: 0.025490\n",
      "Iteration 4: accuracy 0.9857916666666666\n",
      "After pruning: [784, 13, 14, 1]\n",
      "Accuracy 0.9857916666666666\n",
      "1111222223222\n",
      "01011111111122\n",
      "-------------------\n",
      "After growing: [784, 18, 19, 1]\n",
      "111122222322233333\n",
      "0101111111111133333\n",
      "Cost after epoch 0: 0.026942\n",
      "Cost after epoch 1: 0.026569\n",
      "Cost after epoch 2: 0.026351\n",
      "Cost after epoch 3: 0.026151\n",
      "Cost after epoch 4: 0.026052\n",
      "Iteration 5: accuracy 0.9884166666666667\n",
      "After pruning: [784, 14, 14, 1]\n",
      "Accuracy 0.9883958333333334\n",
      "11112221222122\n",
      "01011111111111\n",
      "-------------------\n"
     ]
    }
   ],
   "source": [
    "layers_dims = [784, 3, 3, 1]\n",
    "parameters = initialize_parameters(layers_dims)\n",
    "parameters = train_dynamic_model(X_train_m, y_train_m, parameters, learning_rate=0.01, l1_term=0.002, n_iterations=5)"
   ]
  },
  {
   "cell_type": "code",
   "execution_count": 57,
   "metadata": {},
   "outputs": [
    {
     "data": {
      "text/plain": [
       "0.9883958333333334"
      ]
     },
     "execution_count": 57,
     "metadata": {},
     "output_type": "execute_result"
    }
   ],
   "source": [
    "measure_accuracy(parameters, X_train_m, y_train_m)"
   ]
  },
  {
   "cell_type": "markdown",
   "metadata": {},
   "source": [
    "# Fashion MNIST"
   ]
  },
  {
   "cell_type": "code",
   "execution_count": 58,
   "metadata": {},
   "outputs": [],
   "source": [
    "layers_dims = [784, 100, 100, 1]"
   ]
  },
  {
   "cell_type": "code",
   "execution_count": 65,
   "metadata": {},
   "outputs": [
    {
     "name": "stdout",
     "output_type": "stream",
     "text": [
      "Cost after epoch 0: 3.471439\n",
      "Cost after epoch 1: 1.922243\n",
      "Cost after epoch 2: 1.201067\n",
      "Cost after epoch 3: 0.824852\n",
      "Cost after epoch 4: 0.598112\n",
      "Cost after epoch 5: 0.455540\n",
      "Cost after epoch 6: 0.358875\n",
      "Cost after epoch 7: 0.291958\n",
      "Cost after epoch 8: 0.246167\n",
      "Cost after epoch 9: 0.212625\n",
      "Cost after epoch 10: 0.186393\n",
      "Cost after epoch 11: 0.164651\n",
      "Cost after epoch 12: 0.150406\n",
      "Cost after epoch 13: 0.137818\n",
      "Cost after epoch 14: 0.127331\n",
      "Cost after epoch 15: 0.119736\n",
      "Cost after epoch 16: 0.111852\n",
      "Cost after epoch 17: 0.106494\n",
      "Cost after epoch 18: 0.100673\n",
      "Cost after epoch 19: 0.096830\n"
     ]
    }
   ],
   "source": [
    "parameters = initialize_parameters(layers_dims)\n",
    "parameters_scaled = train_model(X_train_fm, y_train_fm, parameters, learning_rate=0.02, l1_term=0.002, self_scale=True, num_epochs=20, print_cost=True)"
   ]
  },
  {
   "cell_type": "code",
   "execution_count": 66,
   "metadata": {},
   "outputs": [
    {
     "data": {
      "text/plain": [
       "0.9618125"
      ]
     },
     "execution_count": 66,
     "metadata": {},
     "output_type": "execute_result"
    }
   ],
   "source": [
    "measure_accuracy(parameters_scaled, X_train_fm, y_train_fm)"
   ]
  },
  {
   "cell_type": "code",
   "execution_count": 67,
   "metadata": {},
   "outputs": [
    {
     "data": {
      "text/plain": [
       "[784, 22, 43, 1]"
      ]
     },
     "execution_count": 67,
     "metadata": {},
     "output_type": "execute_result"
    }
   ],
   "source": [
    "parameters_pruned = copy.deepcopy(parameters_scaled)\n",
    "prune_neurons(parameters_pruned)\n",
    "get_layer_sizes(parameters_pruned)"
   ]
  },
  {
   "cell_type": "code",
   "execution_count": 69,
   "metadata": {
    "scrolled": false
   },
   "outputs": [
    {
     "name": "stdout",
     "output_type": "stream",
     "text": [
      "After growing: [784, 8, 8, 1]\n",
      "11133333\n",
      "01033233\n",
      "Cost after epoch 0: 0.064613\n",
      "Cost after epoch 1: 0.058200\n",
      "Cost after epoch 2: 0.064434\n",
      "Cost after epoch 3: 0.064971\n",
      "Cost after epoch 4: 0.063740\n",
      "Iteration 1: accuracy 0.9601041666666666\n",
      "After pruning: [784, 7, 8, 1]\n",
      "Accuracy 0.9601041666666666\n",
      "1111222\n",
      "01022215\n",
      "-------------------\n",
      "After growing: [784, 12, 13, 1]\n",
      "111122233333\n",
      "0101111133233\n",
      "Cost after epoch 0: 0.061949\n",
      "Cost after epoch 1: 0.058552\n",
      "Cost after epoch 2: 0.059104\n",
      "Cost after epoch 3: 0.060814\n",
      "Cost after epoch 4: 0.058835\n",
      "Iteration 2: accuracy 0.9611666666666666\n",
      "After pruning: [784, 9, 9, 1]\n",
      "Accuracy 0.9611875\n",
      "111121232\n",
      "010111112\n",
      "-------------------\n",
      "After growing: [784, 14, 14, 1]\n",
      "11112123233333\n",
      "01011111132333\n",
      "Cost after epoch 0: 0.061744\n",
      "Cost after epoch 1: 0.059893\n",
      "Cost after epoch 2: 0.047801\n",
      "Cost after epoch 3: 0.058577\n",
      "Cost after epoch 4: 0.057644\n",
      "Iteration 3: accuracy 0.963\n",
      "After pruning: [784, 8, 9, 1]\n",
      "Accuracy 0.963\n",
      "11112122\n",
      "010111112\n",
      "-------------------\n",
      "After growing: [784, 13, 14, 1]\n",
      "1111212233333\n",
      "01011111132333\n",
      "Cost after epoch 0: 0.057525\n",
      "Cost after epoch 1: 0.057686\n",
      "Cost after epoch 2: 0.058102\n",
      "Cost after epoch 3: 0.059770\n",
      "Cost after epoch 4: 0.059299\n",
      "Iteration 4: accuracy 0.964125\n",
      "After pruning: [784, 9, 9, 1]\n",
      "Accuracy 0.9641041666666667\n",
      "111121123\n",
      "000111111\n",
      "-------------------\n",
      "After growing: [784, 14, 14, 1]\n",
      "11112112333333\n",
      "00011111132333\n",
      "Cost after epoch 0: 0.056722\n",
      "Cost after epoch 1: 0.058180\n",
      "Cost after epoch 2: 0.058959\n",
      "Cost after epoch 3: 0.058232\n",
      "Cost after epoch 4: 0.058919\n",
      "Iteration 5: accuracy 0.9646875\n",
      "After pruning: [784, 8, 10, 1]\n",
      "Accuracy 0.9646875\n",
      "11112111\n",
      "0001111123\n",
      "-------------------\n",
      "After growing: [784, 13, 15, 1]\n",
      "1111211133333\n",
      "000111111132333\n",
      "Cost after epoch 0: 0.060194\n",
      "Cost after epoch 1: 0.055773\n",
      "Cost after epoch 2: 0.058388\n",
      "Cost after epoch 3: 0.059399\n",
      "Cost after epoch 4: 0.059028\n",
      "Iteration 6: accuracy 0.965875\n",
      "After pruning: [784, 8, 9, 1]\n",
      "Accuracy 0.965875\n",
      "11112111\n",
      "000111122\n",
      "-------------------\n",
      "After growing: [784, 13, 14, 1]\n",
      "1111211133333\n",
      "00011111132333\n",
      "Cost after epoch 0: 0.059584\n",
      "Cost after epoch 1: 0.062690\n",
      "Cost after epoch 2: 0.062543\n",
      "Cost after epoch 3: 0.061491\n",
      "Cost after epoch 4: 0.061364\n",
      "Iteration 7: accuracy 0.9671458333333334\n",
      "After pruning: [784, 8, 9, 1]\n",
      "Accuracy 0.9671458333333334\n",
      "11112111\n",
      "000111123\n",
      "-------------------\n",
      "After growing: [784, 13, 14, 1]\n",
      "1111211133333\n",
      "00011111132333\n",
      "Cost after epoch 0: 0.063076\n",
      "Cost after epoch 1: 0.062687\n",
      "Cost after epoch 2: 0.065317\n",
      "Cost after epoch 3: 0.066018\n",
      "Cost after epoch 4: 0.067313\n",
      "Iteration 8: accuracy 0.9679166666666666\n",
      "After pruning: [784, 9, 9, 1]\n",
      "Accuracy 0.9679166666666666\n",
      "111121113\n",
      "000111111\n",
      "-------------------\n",
      "After growing: [784, 14, 14, 1]\n",
      "11112111333333\n",
      "00011111132333\n",
      "Cost after epoch 0: 0.067597\n",
      "Cost after epoch 1: 0.070186\n",
      "Cost after epoch 2: 0.068539\n",
      "Cost after epoch 3: 0.071335\n",
      "Cost after epoch 4: 0.072138\n",
      "Iteration 9: accuracy 0.9685625\n",
      "After pruning: [784, 9, 10, 1]\n",
      "Accuracy 0.9685833333333334\n",
      "111121113\n",
      "0001111113\n",
      "-------------------\n",
      "After growing: [784, 14, 15, 1]\n",
      "11112111333333\n",
      "000111111132333\n",
      "Cost after epoch 0: 0.073132\n",
      "Cost after epoch 1: 0.068266\n",
      "Cost after epoch 2: 0.067009\n",
      "Cost after epoch 3: 0.073857\n",
      "Cost after epoch 4: 0.069979\n",
      "Iteration 10: accuracy 0.9696875\n",
      "After pruning: [784, 10, 10, 1]\n",
      "Accuracy 0.9696875\n",
      "1111211133\n",
      "0001111111\n",
      "-------------------\n"
     ]
    }
   ],
   "source": [
    "layers_dims = [784, 3, 3, 1]\n",
    "parameters = initialize_parameters(layers_dims)\n",
    "parameters = train_dynamic_model(X_train_fm, y_train_fm, parameters, learning_rate=0.02, l1_term=0.002, n_iterations=10)"
   ]
  },
  {
   "cell_type": "code",
   "execution_count": 70,
   "metadata": {
    "scrolled": false
   },
   "outputs": [
    {
     "name": "stdout",
     "output_type": "stream",
     "text": [
      "After growing: [784, 110, 110, 1]\n",
      "11111111111111111111111111111111111111111111111111111111111111111111111111111111111111111111111111113333333333\n",
      "11111111111111111111111111111111111111111111111111111111111111111111111111111111111111111111111111113333333333\n",
      "Cost after epoch 0: 3.601171\n",
      "Cost after epoch 1: 2.016749\n",
      "Cost after epoch 2: 1.269526\n",
      "Cost after epoch 3: 0.874773\n",
      "Cost after epoch 4: 0.635476\n",
      "Iteration 1: accuracy 0.9545833333333333\n",
      "After pruning: [784, 76, 100, 1]\n",
      "Accuracy 0.9546875\n",
      "1111111111111111111111111211112222211222222222122222222222222222223233333232\n",
      "1111111111111111111111111111111111111111111111111111111111111111111111111111111111111111121221111121\n",
      "-------------------\n",
      "After growing: [784, 83, 110, 1]\n",
      "11111111111111111111111112111122222112222222221222222222222222222232333332323333333\n",
      "11111111111111111111111111111111111111111111111111111111111111111111111111111111111111111111111111113333333333\n",
      "Cost after epoch 0: 0.497077\n",
      "Cost after epoch 1: 0.393175\n",
      "Cost after epoch 2: 0.316682\n",
      "Cost after epoch 3: 0.262178\n",
      "Cost after epoch 4: 0.223167\n",
      "Iteration 2: accuracy 0.958\n",
      "After pruning: [784, 39, 76, 1]\n",
      "Accuracy 0.9580833333333333\n",
      "111111111111111211122212122222223222334\n",
      "1111111111111111111111111111111111121111112112112111222223222211212221112222\n",
      "-------------------\n",
      "After growing: [784, 44, 83, 1]\n",
      "11111111111111121112221212222222322233433333\n",
      "11111111111111111111111111111111111111111111111111111111111111111111111111113333333\n",
      "Cost after epoch 0: 0.199157\n",
      "Cost after epoch 1: 0.178923\n",
      "Cost after epoch 2: 0.159569\n",
      "Cost after epoch 3: 0.147127\n",
      "Cost after epoch 4: 0.135376\n",
      "Iteration 3: accuracy 0.9600833333333333\n",
      "After pruning: [784, 27, 53, 1]\n",
      "Accuracy 0.9601041666666666\n",
      "111111111112212222222222132\n",
      "11111111111111112111111111111122111321121211222231212\n",
      "-------------------\n",
      "After growing: [784, 32, 58, 1]\n",
      "11111111111221222222222213233333\n",
      "1111111111111111111111111111111111111111111111111111133333\n",
      "Cost after epoch 0: 0.127423\n",
      "Cost after epoch 1: 0.123391\n",
      "Cost after epoch 2: 0.114601\n",
      "Cost after epoch 3: 0.109617\n",
      "Cost after epoch 4: 0.106116\n",
      "Iteration 4: accuracy 0.9616666666666667\n",
      "After pruning: [784, 22, 42, 1]\n",
      "Accuracy 0.9622916666666667\n",
      "1111111121122122222321\n",
      "111111111111111221211111211212221122131111\n",
      "-------------------\n",
      "After growing: [784, 27, 47, 1]\n",
      "111111112112212222232133333\n",
      "11111111111111111111111111111111111111111133333\n",
      "Cost after epoch 0: 0.101841\n",
      "Cost after epoch 1: 0.096393\n",
      "Cost after epoch 2: 0.094243\n",
      "Cost after epoch 3: 0.091406\n",
      "Cost after epoch 4: 0.088344\n",
      "Iteration 5: accuracy 0.9634583333333333\n",
      "After pruning: [784, 18, 36, 1]\n",
      "Accuracy 0.9634583333333333\n",
      "111111112112222322\n",
      "111111111111112221222112211131212121\n",
      "-------------------\n",
      "After growing: [784, 23, 41, 1]\n",
      "11111111211222232233333\n",
      "11111111111111111111111111111111111133333\n",
      "Cost after epoch 0: 0.085450\n",
      "Cost after epoch 1: 0.083032\n",
      "Cost after epoch 2: 0.082910\n",
      "Cost after epoch 3: 0.081440\n",
      "Cost after epoch 4: 0.078939\n",
      "Iteration 6: accuracy 0.96425\n",
      "After pruning: [784, 14, 30, 1]\n",
      "Accuracy 0.9645\n",
      "11111121212222\n",
      "111111111111112212222222112132\n",
      "-------------------\n",
      "After growing: [784, 19, 35, 1]\n",
      "1111112121222233333\n",
      "11111111111111111111111111111133333\n",
      "Cost after epoch 0: 0.078378\n",
      "Cost after epoch 1: 0.077379\n",
      "Cost after epoch 2: 0.075706\n",
      "Cost after epoch 3: 0.074897\n",
      "Cost after epoch 4: 0.074003\n",
      "Iteration 7: accuracy 0.9651875\n",
      "After pruning: [784, 12, 24, 1]\n",
      "Accuracy 0.9651875\n",
      "111112212122\n",
      "111111111112111322221131\n",
      "-------------------\n",
      "After growing: [784, 17, 29, 1]\n",
      "11111221212233333\n",
      "11111111111111011111111133333\n",
      "Cost after epoch 0: 0.069386\n",
      "Cost after epoch 1: 0.068019\n",
      "Cost after epoch 2: 0.067772\n",
      "Cost after epoch 3: 0.067090\n",
      "Cost after epoch 4: 0.066672\n",
      "Iteration 8: accuracy 0.9657083333333333\n",
      "After pruning: [784, 11, 19, 1]\n",
      "Accuracy 0.9657083333333333\n",
      "11111221212\n",
      "1111111111121112111\n",
      "-------------------\n",
      "After growing: [784, 16, 24, 1]\n",
      "1111122121233333\n",
      "111111111111110111133233\n",
      "Cost after epoch 0: 0.063378\n",
      "Cost after epoch 1: 0.062308\n",
      "Cost after epoch 2: 0.060107\n",
      "Cost after epoch 3: 0.062336\n",
      "Cost after epoch 4: 0.059946\n",
      "Iteration 9: accuracy 0.9664583333333333\n",
      "After pruning: [784, 10, 18, 1]\n",
      "Accuracy 0.9664583333333333\n",
      "1111122112\n",
      "111111211121111113\n",
      "-------------------\n",
      "After growing: [784, 15, 23, 1]\n",
      "111112211233333\n",
      "11111111111111011133233\n",
      "Cost after epoch 0: 0.062193\n",
      "Cost after epoch 1: 0.061918\n",
      "Cost after epoch 2: 0.061636\n",
      "Cost after epoch 3: 0.060797\n",
      "Cost after epoch 4: 0.060605\n",
      "Iteration 10: accuracy 0.9668541666666667\n",
      "After pruning: [784, 11, 19, 1]\n",
      "Accuracy 0.9668541666666667\n",
      "11111221134\n",
      "1111111111111101113\n",
      "-------------------\n"
     ]
    }
   ],
   "source": [
    "layers_dims = [784, 100, 100, 1]\n",
    "parameters = initialize_parameters(layers_dims)\n",
    "parameters = train_dynamic_model(X_train_fm, y_train_fm, parameters, learning_rate=0.02, l1_term=0.002, n_iterations=10)"
   ]
  },
  {
   "cell_type": "code",
   "execution_count": 71,
   "metadata": {
    "scrolled": false
   },
   "outputs": [
    {
     "name": "stdout",
     "output_type": "stream",
     "text": [
      "After growing: [784, 8, 8, 1]\n",
      "11155555\n",
      "01055455\n",
      "Cost after epoch 0: 0.066023\n",
      "Cost after epoch 1: 0.060020\n",
      "Cost after epoch 2: 0.050706\n",
      "Cost after epoch 3: 0.056405\n",
      "Cost after epoch 4: 0.057278\n",
      "Iteration 1: accuracy 0.9592291666666667\n",
      "After pruning: [784, 8, 8, 1]\n",
      "Accuracy 0.9592291666666667\n",
      "11112222\n",
      "01011212\n",
      "-------------------\n",
      "After growing: [784, 13, 13, 1]\n",
      "1111222255555\n",
      "0101111155455\n",
      "Cost after epoch 0: 0.053881\n",
      "Cost after epoch 1: 0.056833\n",
      "Cost after epoch 2: 0.060530\n",
      "Cost after epoch 3: 0.062232\n",
      "Cost after epoch 4: 0.061549\n",
      "Iteration 2: accuracy 0.9612083333333333\n",
      "After pruning: [784, 9, 10, 1]\n",
      "Accuracy 0.9612083333333333\n",
      "111122221\n",
      "0101121122\n",
      "-------------------\n",
      "After growing: [784, 14, 15, 1]\n",
      "11112222155555\n",
      "010111111154555\n",
      "Cost after epoch 0: 0.061748\n",
      "Cost after epoch 1: 0.064419\n",
      "Cost after epoch 2: 0.061927\n",
      "Cost after epoch 3: 0.063600\n",
      "Cost after epoch 4: 0.062343\n",
      "Iteration 3: accuracy 0.9642916666666667\n",
      "After pruning: [784, 9, 12, 1]\n",
      "Accuracy 0.9642708333333333\n",
      "111122221\n",
      "010112122233\n",
      "-------------------\n",
      "After growing: [784, 14, 17, 1]\n",
      "11112222155555\n",
      "01011111111145554\n",
      "Cost after epoch 0: 0.063329\n",
      "Cost after epoch 1: 0.062693\n",
      "Cost after epoch 2: 0.061771\n",
      "Cost after epoch 3: 0.061415\n",
      "Cost after epoch 4: 0.062585\n",
      "Iteration 4: accuracy 0.9659375\n",
      "After pruning: [784, 9, 12, 1]\n",
      "Accuracy 0.9659375\n",
      "111122121\n",
      "010112122223\n",
      "-------------------\n",
      "After growing: [784, 14, 17, 1]\n",
      "11112212155555\n",
      "01011111111145554\n",
      "Cost after epoch 0: 0.058767\n",
      "Cost after epoch 1: 0.060054\n",
      "Cost after epoch 2: 0.060269\n",
      "Cost after epoch 3: 0.065091\n",
      "Cost after epoch 4: 0.064175\n",
      "Iteration 5: accuracy 0.9656458333333333\n",
      "After pruning: [784, 9, 12, 1]\n",
      "Accuracy 0.9656458333333333\n",
      "111121121\n",
      "010102122233\n",
      "-------------------\n",
      "After growing: [784, 14, 17, 1]\n",
      "11112112155555\n",
      "01010111111145554\n",
      "Cost after epoch 0: 0.060984\n",
      "Cost after epoch 1: 0.063354\n",
      "Cost after epoch 2: 0.063804\n",
      "Cost after epoch 3: 0.060514\n",
      "Cost after epoch 4: 0.061830\n",
      "Iteration 6: accuracy 0.9668541666666667\n",
      "After pruning: [784, 10, 12, 1]\n",
      "Accuracy 0.9668541666666667\n",
      "1111211213\n",
      "010102111111\n",
      "-------------------\n",
      "After growing: [784, 15, 17, 1]\n",
      "111121121355555\n",
      "01010111111145554\n",
      "Cost after epoch 0: 0.060422\n",
      "Cost after epoch 1: 0.055190\n",
      "Cost after epoch 2: 0.060679\n",
      "Cost after epoch 3: 0.060517\n",
      "Cost after epoch 4: 0.058225\n",
      "Iteration 7: accuracy 0.9668958333333333\n",
      "After pruning: [784, 11, 12, 1]\n",
      "Accuracy 0.966875\n",
      "11112112133\n",
      "010101111111\n",
      "-------------------\n",
      "After growing: [784, 16, 17, 1]\n",
      "1111211213355555\n",
      "01010111111145554\n",
      "Cost after epoch 0: 0.059751\n",
      "Cost after epoch 1: 0.060224\n",
      "Cost after epoch 2: 0.059609\n",
      "Cost after epoch 3: 0.057402\n",
      "Cost after epoch 4: 0.058740\n",
      "Iteration 8: accuracy 0.9686875\n",
      "After pruning: [784, 10, 12, 1]\n",
      "Accuracy 0.9687083333333333\n",
      "1111211313\n",
      "010102122111\n",
      "-------------------\n",
      "After growing: [784, 15, 17, 1]\n",
      "111121131355555\n",
      "01010111111145554\n",
      "Cost after epoch 0: 0.056004\n",
      "Cost after epoch 1: 0.057857\n",
      "Cost after epoch 2: 0.057903\n",
      "Cost after epoch 3: 0.057885\n",
      "Cost after epoch 4: 0.058240\n",
      "Iteration 9: accuracy 0.9694166666666667\n",
      "After pruning: [784, 10, 13, 1]\n",
      "Accuracy 0.9694166666666667\n",
      "1111211133\n",
      "0101021111113\n",
      "-------------------\n",
      "After growing: [784, 15, 18, 1]\n",
      "111121113355555\n",
      "010101111111145554\n",
      "Cost after epoch 0: 0.061705\n",
      "Cost after epoch 1: 0.061546\n",
      "Cost after epoch 2: 0.058195\n",
      "Cost after epoch 3: 0.059722\n",
      "Cost after epoch 4: 0.061314\n",
      "Iteration 10: accuracy 0.9703958333333333\n",
      "After pruning: [784, 10, 13, 1]\n",
      "Accuracy 0.9703958333333333\n",
      "1111211133\n",
      "0101021111111\n",
      "-------------------\n"
     ]
    }
   ],
   "source": [
    "layers_dims = [784, 3, 3, 1]\n",
    "parameters = initialize_parameters(layers_dims)\n",
    "parameters = train_dynamic_model(X_train_fm, y_train_fm, parameters, learning_rate=0.02, l1_term=0.002, n_iterations=10)"
   ]
  },
  {
   "cell_type": "code",
   "execution_count": 72,
   "metadata": {},
   "outputs": [
    {
     "name": "stdout",
     "output_type": "stream",
     "text": [
      "After growing: [784, 8, 8, 1]\n",
      "11155555\n",
      "01055455\n",
      "Cost after epoch 0: 0.066023\n",
      "Cost after epoch 1: 0.060020\n",
      "Iteration 1: accuracy 0.9557083333333334\n",
      "After pruning: [784, 8, 8, 1]\n",
      "Accuracy 0.9557083333333334\n",
      "11122222\n",
      "01022213\n",
      "-------------------\n",
      "After growing: [784, 13, 13, 1]\n",
      "1112222255555\n",
      "0101111155455\n",
      "Cost after epoch 0: 0.053017\n",
      "Cost after epoch 1: 0.056349\n",
      "Iteration 2: accuracy 0.9573125\n",
      "After pruning: [784, 10, 10, 1]\n",
      "Accuracy 0.9573541666666666\n",
      "1111222222\n",
      "0101111122\n",
      "-------------------\n",
      "After growing: [784, 15, 15, 1]\n",
      "111122222255555\n",
      "010111111154555\n",
      "Cost after epoch 0: 0.058499\n",
      "Cost after epoch 1: 0.059999\n",
      "Iteration 3: accuracy 0.95875\n",
      "After pruning: [784, 11, 10, 1]\n",
      "Accuracy 0.95875\n",
      "11112222223\n",
      "0101111111\n",
      "-------------------\n",
      "After growing: [784, 16, 15, 1]\n",
      "1111222222355555\n",
      "010111111154554\n",
      "Cost after epoch 0: 0.062419\n",
      "Cost after epoch 1: 0.062080\n",
      "Iteration 4: accuracy 0.9600625\n",
      "After pruning: [784, 11, 10, 1]\n",
      "Accuracy 0.9600625\n",
      "11112222223\n",
      "0101111111\n",
      "-------------------\n",
      "After growing: [784, 16, 15, 1]\n",
      "1111222222355555\n",
      "010111111154554\n",
      "Cost after epoch 0: 0.061326\n",
      "Cost after epoch 1: 0.061901\n",
      "Iteration 5: accuracy 0.9609375\n",
      "After pruning: [784, 11, 10, 1]\n",
      "Accuracy 0.9609375\n",
      "11112122223\n",
      "0101111111\n",
      "-------------------\n"
     ]
    }
   ],
   "source": [
    "layers_dims = [784, 3, 3, 1]\n",
    "parameters = initialize_parameters(layers_dims)\n",
    "parameters = train_dynamic_model(X_train_fm, y_train_fm, parameters, learning_rate=0.02, l1_term=0.002, n_iterations=5)"
   ]
  },
  {
   "cell_type": "code",
   "execution_count": 74,
   "metadata": {
    "scrolled": false
   },
   "outputs": [
    {
     "name": "stdout",
     "output_type": "stream",
     "text": [
      "After growing: [784, 8, 8, 1]\n",
      "11155555\n",
      "01055455\n",
      "Cost after epoch 0: 0.059515\n",
      "Cost after epoch 1: 0.055179\n",
      "Iteration 1: accuracy 0.9545416666666666\n",
      "After pruning: [784, 7, 6, 1]\n",
      "Accuracy 0.9545416666666666\n",
      "1112322\n",
      "010213\n",
      "-------------------\n",
      "After growing: [784, 12, 11, 1]\n",
      "111232255555\n",
      "01011155545\n",
      "Cost after epoch 0: 0.058415\n",
      "Cost after epoch 1: 0.059838\n",
      "Iteration 2: accuracy 0.9590833333333333\n",
      "After pruning: [784, 9, 8, 1]\n",
      "Accuracy 0.9590833333333333\n",
      "111122223\n",
      "01011152\n",
      "-------------------\n",
      "After growing: [784, 14, 13, 1]\n",
      "11112222355555\n",
      "0101111155455\n",
      "Cost after epoch 0: 0.060264\n",
      "Cost after epoch 1: 0.056483\n",
      "Iteration 3: accuracy 0.961875\n",
      "After pruning: [784, 11, 9, 1]\n",
      "Accuracy 0.961875\n",
      "11112222323\n",
      "010111111\n",
      "-------------------\n",
      "After growing: [784, 16, 14, 1]\n",
      "1111222232355555\n",
      "01011111154555\n",
      "Cost after epoch 0: 0.057089\n",
      "Cost after epoch 1: 0.058138\n",
      "Iteration 4: accuracy 0.9628541666666667\n",
      "After pruning: [784, 11, 10, 1]\n",
      "Accuracy 0.9628541666666667\n",
      "11112222323\n",
      "0101111112\n",
      "-------------------\n",
      "After growing: [784, 16, 15, 1]\n",
      "1111222232355555\n",
      "010111111154554\n",
      "Cost after epoch 0: 0.059883\n",
      "Cost after epoch 1: 0.060503\n",
      "Iteration 5: accuracy 0.9634375\n",
      "After pruning: [784, 11, 10, 1]\n",
      "Accuracy 0.9634375\n",
      "11112112223\n",
      "0101111112\n",
      "-------------------\n",
      "After growing: [784, 16, 15, 1]\n",
      "1111211222355555\n",
      "010111111154554\n",
      "Cost after epoch 0: 0.060156\n",
      "Cost after epoch 1: 0.060962\n",
      "Iteration 6: accuracy 0.964375\n",
      "After pruning: [784, 11, 12, 1]\n",
      "Accuracy 0.964375\n",
      "11112112223\n",
      "010111111233\n",
      "-------------------\n",
      "After growing: [784, 16, 17, 1]\n",
      "1111211222355555\n",
      "01011111111145554\n",
      "Cost after epoch 0: 0.060681\n",
      "Cost after epoch 1: 0.060925\n",
      "Iteration 7: accuracy 0.9648333333333333\n",
      "After pruning: [784, 11, 12, 1]\n",
      "Accuracy 0.9648958333333333\n",
      "11112112222\n",
      "000111111233\n",
      "-------------------\n",
      "After growing: [784, 16, 17, 1]\n",
      "1111211222255555\n",
      "00011111111145554\n",
      "Cost after epoch 0: 0.060238\n",
      "Cost after epoch 1: 0.058979\n",
      "Iteration 8: accuracy 0.9651875\n",
      "After pruning: [784, 11, 12, 1]\n",
      "Accuracy 0.9651875\n",
      "11112112222\n",
      "000111111232\n",
      "-------------------\n",
      "After growing: [784, 16, 17, 1]\n",
      "1111211222255555\n",
      "00011111111145554\n",
      "Cost after epoch 0: 0.055446\n",
      "Cost after epoch 1: 0.055388\n",
      "Iteration 9: accuracy 0.9658958333333333\n",
      "After pruning: [784, 11, 12, 1]\n",
      "Accuracy 0.9658958333333333\n",
      "11112112222\n",
      "000111111232\n",
      "-------------------\n",
      "After growing: [784, 16, 17, 1]\n",
      "1111211222255555\n",
      "00011111111145554\n",
      "Cost after epoch 0: 0.050487\n",
      "Cost after epoch 1: 0.054162\n",
      "Iteration 10: accuracy 0.9665625\n",
      "After pruning: [784, 11, 12, 1]\n",
      "Accuracy 0.9665625\n",
      "11112111222\n",
      "000111111232\n",
      "-------------------\n"
     ]
    }
   ],
   "source": [
    "layers_dims = [784, 3, 3, 1]\n",
    "parameters = initialize_parameters(layers_dims)\n",
    "parameters = train_dynamic_model(X_train_fm, y_train_fm, parameters, learning_rate=0.02, l1_term=0.0005, n_iterations=10)"
   ]
  },
  {
   "cell_type": "code",
   "execution_count": 76,
   "metadata": {
    "scrolled": false
   },
   "outputs": [
    {
     "name": "stdout",
     "output_type": "stream",
     "text": [
      "After growing: [784, 8, 8, 1]\n",
      "11144444\n",
      "01044344\n",
      "Cost after epoch 0: 0.056939\n",
      "Cost after epoch 1: 0.053669\n",
      "Iteration 1: accuracy 0.9548958333333334\n",
      "After pruning: [784, 7, 6, 1]\n",
      "Accuracy 0.9548958333333334\n",
      "1112222\n",
      "010213\n",
      "-------------------\n",
      "After growing: [784, 12, 11, 1]\n",
      "111222244444\n",
      "01011144434\n",
      "Cost after epoch 0: 0.057099\n",
      "Cost after epoch 1: 0.060770\n",
      "Iteration 2: accuracy 0.960375\n",
      "After pruning: [784, 8, 11, 1]\n",
      "Accuracy 0.960375\n",
      "11112223\n",
      "01011133332\n",
      "-------------------\n",
      "After growing: [784, 13, 16, 1]\n",
      "1111222344444\n",
      "0101111111143444\n",
      "Cost after epoch 0: 0.059942\n",
      "Cost after epoch 1: 0.058777\n",
      "Iteration 3: accuracy 0.9618958333333333\n",
      "After pruning: [784, 10, 14, 1]\n",
      "Accuracy 0.9618958333333333\n",
      "1111212332\n",
      "01011111111232\n",
      "-------------------\n",
      "After growing: [784, 15, 19, 1]\n",
      "111121233244444\n",
      "0101111111111134434\n",
      "Cost after epoch 0: 0.058107\n",
      "Cost after epoch 1: 0.056124\n",
      "Iteration 4: accuracy 0.9625208333333334\n",
      "After pruning: [784, 11, 16, 1]\n",
      "Accuracy 0.9625208333333334\n",
      "11112123223\n",
      "0101111111011233\n",
      "-------------------\n",
      "After growing: [784, 16, 21, 1]\n",
      "1111212322344444\n",
      "010111111101110144434\n",
      "Cost after epoch 0: 0.056560\n",
      "Cost after epoch 1: 0.059729\n",
      "Iteration 5: accuracy 0.9637708333333334\n",
      "After pruning: [784, 12, 17, 1]\n",
      "Accuracy 0.9637708333333334\n",
      "111121232223\n",
      "01011111110112123\n",
      "-------------------\n",
      "After growing: [784, 17, 22, 1]\n",
      "11112123222344444\n",
      "0101111111011101144444\n",
      "Cost after epoch 0: 0.060810\n",
      "Cost after epoch 1: 0.062041\n",
      "Iteration 6: accuracy 0.965625\n",
      "After pruning: [784, 13, 18, 1]\n",
      "Accuracy 0.965625\n",
      "1111112322233\n",
      "010111111101121213\n",
      "-------------------\n",
      "After growing: [784, 18, 23, 1]\n",
      "111111232223344444\n",
      "01011111110111111144444\n",
      "Cost after epoch 0: 0.061401\n",
      "Cost after epoch 1: 0.058885\n",
      "Iteration 7: accuracy 0.9662083333333333\n",
      "After pruning: [784, 14, 20, 1]\n",
      "Accuracy 0.9662083333333333\n",
      "11111123222233\n",
      "01011111110112121133\n",
      "-------------------\n",
      "After growing: [784, 19, 25, 1]\n",
      "1111112322223344444\n",
      "0101111111011111111144444\n",
      "Cost after epoch 0: 0.058049\n",
      "Cost after epoch 1: 0.060105\n",
      "Iteration 8: accuracy 0.9673125\n",
      "After pruning: [784, 14, 21, 1]\n",
      "Accuracy 0.9673125\n",
      "11111113222233\n",
      "010111111101121211333\n",
      "-------------------\n",
      "After growing: [784, 19, 26, 1]\n",
      "1111111322223344444\n",
      "01011111110111111111144444\n",
      "Cost after epoch 0: 0.059844\n",
      "Cost after epoch 1: 0.057895\n",
      "Iteration 9: accuracy 0.9682083333333333\n",
      "After pruning: [784, 15, 22, 1]\n",
      "Accuracy 0.9682083333333333\n",
      "111111131222233\n",
      "0001111111011111112213\n",
      "-------------------\n",
      "After growing: [784, 20, 27, 1]\n",
      "11111113122223344444\n",
      "000111111101111111111144444\n",
      "Cost after epoch 0: 0.062466\n",
      "Cost after epoch 1: 0.055497\n",
      "Iteration 10: accuracy 0.9689583333333334\n",
      "After pruning: [784, 15, 23, 1]\n",
      "Accuracy 0.9689583333333334\n",
      "111111131222233\n",
      "00011111110111111122133\n",
      "-------------------\n"
     ]
    }
   ],
   "source": [
    "layers_dims = [784, 3, 3, 1]\n",
    "parameters = initialize_parameters(layers_dims)\n",
    "parameters = train_dynamic_model(X_train_fm, y_train_fm, parameters, learning_rate=0.02, l1_term=0.000005, n_iterations=10)"
   ]
  },
  {
   "cell_type": "code",
   "execution_count": 77,
   "metadata": {
    "scrolled": false
   },
   "outputs": [
    {
     "name": "stdout",
     "output_type": "stream",
     "text": [
      "After growing: [784, 8, 8, 1]\n",
      "11144444\n",
      "01044344\n",
      "Cost after epoch 0: 0.132515\n",
      "Cost after epoch 1: 0.102758\n",
      "Iteration 1: accuracy 0.9465208333333334\n",
      "After pruning: [784, 5, 6, 1]\n",
      "Accuracy 0.947125\n",
      "11124\n",
      "010212\n",
      "-------------------\n",
      "After growing: [784, 10, 11, 1]\n",
      "1112444444\n",
      "01011144343\n",
      "Cost after epoch 0: 0.101188\n",
      "Cost after epoch 1: 0.088477\n",
      "Iteration 2: accuracy 0.9468333333333333\n",
      "After pruning: [784, 5, 8, 1]\n",
      "Accuracy 0.9473333333333334\n",
      "11124\n",
      "00011222\n",
      "-------------------\n",
      "After growing: [784, 10, 13, 1]\n",
      "1112444444\n",
      "0001111143434\n",
      "Cost after epoch 0: 0.101360\n",
      "Cost after epoch 1: 0.092261\n",
      "Iteration 3: accuracy 0.9494583333333333\n",
      "After pruning: [784, 5, 8, 1]\n",
      "Accuracy 0.9494583333333333\n",
      "11114\n",
      "00011112\n",
      "-------------------\n",
      "After growing: [784, 10, 13, 1]\n",
      "1111444444\n",
      "0001111143434\n",
      "Cost after epoch 0: 0.092617\n",
      "Cost after epoch 1: 0.087501\n",
      "Iteration 4: accuracy 0.9516041666666667\n",
      "After pruning: [784, 4, 6, 1]\n",
      "Accuracy 0.9519583333333334\n",
      "1122\n",
      "010113\n",
      "-------------------\n",
      "After growing: [784, 9, 11, 1]\n",
      "112244444\n",
      "01000144343\n",
      "Cost after epoch 0: 0.078055\n",
      "Cost after epoch 1: 0.073680\n",
      "Iteration 5: accuracy 0.9533125\n",
      "After pruning: [784, 4, 7, 1]\n",
      "Accuracy 0.9534583333333333\n",
      "1122\n",
      "0101133\n",
      "-------------------\n",
      "After growing: [784, 9, 12, 1]\n",
      "112244444\n",
      "010001143433\n",
      "Cost after epoch 0: 0.080522\n",
      "Cost after epoch 1: 0.076840\n",
      "Iteration 6: accuracy 0.9546458333333333\n",
      "After pruning: [784, 4, 6, 1]\n",
      "Accuracy 0.9546458333333333\n",
      "1122\n",
      "010112\n",
      "-------------------\n",
      "After growing: [784, 9, 11, 1]\n",
      "112244444\n",
      "01000144343\n",
      "Cost after epoch 0: 0.075951\n",
      "Cost after epoch 1: 0.073314\n",
      "Iteration 7: accuracy 0.9558125\n",
      "After pruning: [784, 4, 8, 1]\n",
      "Accuracy 0.9557916666666667\n",
      "1121\n",
      "01011333\n",
      "-------------------\n",
      "After growing: [784, 9, 13, 1]\n",
      "112144444\n",
      "0100011143433\n",
      "Cost after epoch 0: 0.088271\n",
      "Cost after epoch 1: 0.078216\n",
      "Iteration 8: accuracy 0.9563958333333333\n",
      "After pruning: [784, 4, 8, 1]\n",
      "Accuracy 0.9564375\n",
      "1121\n",
      "01021233\n",
      "-------------------\n",
      "After growing: [784, 9, 13, 1]\n",
      "112144444\n",
      "0100011143433\n",
      "Cost after epoch 0: 0.084449\n",
      "Cost after epoch 1: 0.086945\n",
      "Iteration 9: accuracy 0.9572291666666667\n",
      "After pruning: [784, 5, 7, 1]\n",
      "Accuracy 0.95725\n",
      "11313\n",
      "0101123\n",
      "-------------------\n",
      "After growing: [784, 10, 12, 1]\n",
      "1131344444\n",
      "010111143433\n",
      "Cost after epoch 0: 0.085940\n",
      "Cost after epoch 1: 0.081156\n",
      "Iteration 10: accuracy 0.9576041666666667\n",
      "After pruning: [784, 3, 7, 1]\n",
      "Accuracy 0.957625\n",
      "111\n",
      "0102123\n",
      "-------------------\n"
     ]
    }
   ],
   "source": [
    "layers_dims = [784, 3, 3, 1]\n",
    "parameters = initialize_parameters(layers_dims)\n",
    "parameters = train_dynamic_model(X_train_fm, y_train_fm, parameters, learning_rate=0.02, l1_term=0.05, n_iterations=10)"
   ]
  },
  {
   "cell_type": "code",
   "execution_count": 78,
   "metadata": {},
   "outputs": [
    {
     "data": {
      "text/plain": [
       "0.957625"
      ]
     },
     "execution_count": 78,
     "metadata": {},
     "output_type": "execute_result"
    }
   ],
   "source": [
    "measure_accuracy(parameters, X_train_fm, y_train_fm)"
   ]
  },
  {
   "cell_type": "code",
   "execution_count": null,
   "metadata": {},
   "outputs": [],
   "source": []
  }
 ],
 "metadata": {
  "kernelspec": {
   "display_name": "Python 3",
   "language": "python",
   "name": "python3"
  },
  "language_info": {
   "codemirror_mode": {
    "name": "ipython",
    "version": 3
   },
   "file_extension": ".py",
   "mimetype": "text/x-python",
   "name": "python",
   "nbconvert_exporter": "python",
   "pygments_lexer": "ipython3",
   "version": "3.7.9"
  }
 },
 "nbformat": 4,
 "nbformat_minor": 4
}
