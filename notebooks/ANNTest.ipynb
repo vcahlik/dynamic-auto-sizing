{
 "cells": [
  {
   "cell_type": "code",
   "execution_count": 35,
   "metadata": {},
   "outputs": [
    {
     "name": "stdout",
     "output_type": "stream",
     "text": [
      "The autoreload extension is already loaded. To reload it, use:\n",
      "  %reload_ext autoreload\n"
     ]
    }
   ],
   "source": [
    "import sys\n",
    "sys.path.insert(0,'..')\n",
    "\n",
    "from nets.core import L_layer_model, L_model_forward\n",
    "from nets.datasets import mnist_3\n",
    "\n",
    "import numpy as np\n",
    "import pandas as pd\n",
    "import matplotlib.pyplot as plt\n",
    "import math\n",
    "\n",
    "%matplotlib inline\n",
    "%load_ext autoreload\n",
    "%autoreload 2\n",
    "\n",
    "np.random.seed(42)"
   ]
  },
  {
   "cell_type": "markdown",
   "metadata": {},
   "source": [
    "# Load the data"
   ]
  },
  {
   "cell_type": "code",
   "execution_count": 2,
   "metadata": {},
   "outputs": [],
   "source": [
    "X_train, X_test, y_train, y_test = mnist_3()"
   ]
  },
  {
   "cell_type": "code",
   "execution_count": 20,
   "metadata": {},
   "outputs": [
    {
     "data": {
      "text/plain": [
       "((784, 33600), (1, 33600))"
      ]
     },
     "execution_count": 20,
     "metadata": {},
     "output_type": "execute_result"
    }
   ],
   "source": [
    "X_train.shape, y_train.shape"
   ]
  },
  {
   "cell_type": "code",
   "execution_count": 21,
   "metadata": {},
   "outputs": [
    {
     "data": {
      "text/plain": [
       "((784, 8400), (1, 8400))"
      ]
     },
     "execution_count": 21,
     "metadata": {},
     "output_type": "execute_result"
    }
   ],
   "source": [
    "X_test.shape, y_test.shape"
   ]
  },
  {
   "cell_type": "code",
   "execution_count": 19,
   "metadata": {},
   "outputs": [
    {
     "data": {
      "image/png": "[encoded data removed]",
      "text/plain": [
       "<Figure size 432x288 with 1 Axes>"
      ]
     },
     "metadata": {
      "needs_background": "light"
     },
     "output_type": "display_data"
    }
   ],
   "source": [
    "pixels = X_train[:, 1].reshape((28, 28))\n",
    "plt.imshow(pixels, cmap='gray')\n",
    "plt.show()"
   ]
  },
  {
   "cell_type": "markdown",
   "metadata": {},
   "source": [
    "# Train the model"
   ]
  },
  {
   "cell_type": "code",
   "execution_count": 29,
   "metadata": {},
   "outputs": [],
   "source": [
    "layers_dims = [784, 200, 10, 1]"
   ]
  },
  {
   "cell_type": "code",
   "execution_count": 30,
   "metadata": {},
   "outputs": [
    {
     "name": "stdout",
     "output_type": "stream",
     "text": [
      "Cost after epoch 0: 0.430735\n",
      "Cost after epoch 1: 0.407093\n",
      "Cost after epoch 2: 0.406123\n",
      "Cost after epoch 3: 0.406656\n",
      "Cost after epoch 4: 0.402005\n",
      "Cost after epoch 5: 0.378021\n",
      "Cost after epoch 6: 0.334475\n",
      "Cost after epoch 7: 0.293193\n",
      "Cost after epoch 8: 0.262095\n",
      "Cost after epoch 9: 0.235715\n",
      "Cost after epoch 10: 0.212467\n",
      "Cost after epoch 11: 0.192013\n",
      "Cost after epoch 12: 0.172629\n",
      "Cost after epoch 13: 0.151504\n",
      "Cost after epoch 14: 0.121766\n",
      "Cost after epoch 15: 0.091258\n",
      "Cost after epoch 16: 0.078650\n",
      "Cost after epoch 17: 0.073980\n",
      "Cost after epoch 18: 0.070814\n",
      "Cost after epoch 19: 0.067999\n",
      "Cost after epoch 20: 0.065257\n",
      "Cost after epoch 21: 0.062358\n",
      "Cost after epoch 22: 0.059637\n",
      "Cost after epoch 23: 0.056836\n",
      "Cost after epoch 24: 0.054057\n",
      "Cost after epoch 25: 0.050842\n",
      "Cost after epoch 26: 0.047419\n",
      "Cost after epoch 27: 0.043933\n",
      "Cost after epoch 28: 0.040461\n",
      "Cost after epoch 29: 0.037132\n",
      "Cost after epoch 30: 0.033917\n",
      "Cost after epoch 31: 0.030588\n",
      "Cost after epoch 32: 0.027551\n",
      "Cost after epoch 33: 0.024879\n",
      "Cost after epoch 34: 0.022488\n",
      "Cost after epoch 35: 0.020397\n",
      "Cost after epoch 36: 0.018613\n",
      "Cost after epoch 37: 0.017076\n",
      "Cost after epoch 38: 0.015671\n",
      "Cost after epoch 39: 0.014490\n",
      "Cost after epoch 40: 0.013433\n",
      "Cost after epoch 41: 0.012461\n",
      "Cost after epoch 42: 0.011671\n",
      "Cost after epoch 43: 0.011005\n",
      "Cost after epoch 44: 0.010443\n",
      "Cost after epoch 45: 0.009901\n",
      "Cost after epoch 46: 0.009488\n",
      "Cost after epoch 47: 0.009024\n",
      "Cost after epoch 48: 0.008653\n",
      "Cost after epoch 49: 0.008366\n"
     ]
    }
   ],
   "source": [
    "parameters = L_layer_model(X_train, y_train, layers_dims, learning_rate = 0.01, num_epochs=50, print_cost=True)"
   ]
  },
  {
   "cell_type": "code",
   "execution_count": 31,
   "metadata": {},
   "outputs": [
    {
     "name": "stdout",
     "output_type": "stream",
     "text": [
      "-0.09320459013245391\n",
      "0.11064278401564764\n",
      "-0.0189334747257819\n",
      "0.0950427349487841\n",
      "-0.24029721213176147\n",
      "0.4342919239562986\n",
      "-0.0026485388765461943\n",
      "0.34566189866422237\n",
      "-1.8883768265025473\n",
      "1.1375569127385228\n",
      "0.11393926123401367\n",
      "0.11393926123401367\n"
     ]
    }
   ],
   "source": [
    "for key, matrix in parameters.items():\n",
    "    print(matrix.min())\n",
    "    print(matrix.max())"
   ]
  },
  {
   "cell_type": "code",
   "execution_count": 36,
   "metadata": {},
   "outputs": [],
   "source": [
    "p, _ = L_model_forward(X_train, parameters)\n",
    "y_train_pred = (p > 0.5).astype(int)"
   ]
  },
  {
   "cell_type": "code",
   "execution_count": 37,
   "metadata": {},
   "outputs": [
    {
     "data": {
      "text/plain": [
       "0.9916071428571429"
      ]
     },
     "execution_count": 37,
     "metadata": {},
     "output_type": "execute_result"
    }
   ],
   "source": [
    "from sklearn.metrics import accuracy_score\n",
    "\n",
    "accuracy_score(y_train.reshape((-1),), y_train_pred.reshape((-1),))"
   ]
  },
  {
   "cell_type": "code",
   "execution_count": 38,
   "metadata": {},
   "outputs": [
    {
     "data": {
      "text/plain": [
       "0.9882142857142857"
      ]
     },
     "execution_count": 38,
     "metadata": {},
     "output_type": "execute_result"
    }
   ],
   "source": [
    "p, _ = L_model_forward(X_test, parameters)\n",
    "y_test_pred = (p > 0.5).astype(int)\n",
    "accuracy_score(y_test.reshape((-1),), y_test_pred.reshape((-1),))"
   ]
  },
  {
   "cell_type": "code",
   "execution_count": null,
   "metadata": {},
   "outputs": [],
   "source": []
  }
 ],
 "metadata": {
  "kernelspec": {
   "display_name": "Python 3",
   "language": "python",
   "name": "python3"
  },
  "language_info": {
   "codemirror_mode": {
    "name": "ipython",
    "version": 3
   },
   "file_extension": ".py",
   "mimetype": "text/x-python",
   "name": "python",
   "nbconvert_exporter": "python",
   "pygments_lexer": "ipython3",
   "version": "3.8.3"
  }
 },
 "nbformat": 4,
 "nbformat_minor": 4
}
