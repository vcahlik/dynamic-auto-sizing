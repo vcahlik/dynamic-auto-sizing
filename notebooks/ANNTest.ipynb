{
 "cells": [
  {
   "cell_type": "code",
   "execution_count": 1,
   "metadata": {},
   "outputs": [],
   "source": [
    "import sys\n",
    "sys.path.insert(0,'..')\n",
    "\n",
    "from nets.core import train_model, prune_neurons, grow_neurons, get_layer_sizes, initialize_parameters\n",
    "from nets.datasets import mnist_3, fashion_mnist_tshirt\n",
    "from nets.utils import measure_accuracy\n",
    "\n",
    "import numpy as np\n",
    "import pandas as pd\n",
    "import matplotlib.pyplot as plt\n",
    "import math\n",
    "import copy\n",
    "\n",
    "%matplotlib inline\n",
    "%load_ext autoreload\n",
    "%autoreload 2\n",
    "\n",
    "np.random.seed(42)"
   ]
  },
  {
   "cell_type": "markdown",
   "metadata": {},
   "source": [
    "# Load the data"
   ]
  },
  {
   "cell_type": "code",
   "execution_count": 2,
   "metadata": {},
   "outputs": [],
   "source": [
    "X_train_m, X_test_m, y_train_m, y_test_m = mnist_3()"
   ]
  },
  {
   "cell_type": "code",
   "execution_count": 3,
   "metadata": {},
   "outputs": [
    {
     "data": {
      "text/plain": [
       "((784, 33600), (1, 33600), (784, 8400), (1, 8400))"
      ]
     },
     "execution_count": 3,
     "metadata": {},
     "output_type": "execute_result"
    }
   ],
   "source": [
    "X_train_m.shape, y_train_m.shape, X_test_m.shape, y_test_m.shape"
   ]
  },
  {
   "cell_type": "code",
   "execution_count": 4,
   "metadata": {},
   "outputs": [
    {
     "data": {
      "image/png": "[encoded data removed]",
      "text/plain": [
       "<Figure size 432x288 with 1 Axes>"
      ]
     },
     "metadata": {
      "needs_background": "light"
     },
     "output_type": "display_data"
    }
   ],
   "source": [
    "pixels = X_train_m[:, 1].reshape((28, 28))\n",
    "plt.imshow(pixels, cmap='gray')\n",
    "plt.show()"
   ]
  },
  {
   "cell_type": "code",
   "execution_count": 5,
   "metadata": {},
   "outputs": [],
   "source": [
    "X_train_fm, X_test_fm, y_train_fm, y_test_fm = fashion_mnist_tshirt()"
   ]
  },
  {
   "cell_type": "code",
   "execution_count": 6,
   "metadata": {},
   "outputs": [
    {
     "data": {
      "text/plain": [
       "((784, 48000), (1, 48000), (784, 12000), (1, 12000))"
      ]
     },
     "execution_count": 6,
     "metadata": {},
     "output_type": "execute_result"
    }
   ],
   "source": [
    "X_train_fm.shape, y_train_fm.shape, X_test_fm.shape, y_test_fm.shape"
   ]
  },
  {
   "cell_type": "code",
   "execution_count": 7,
   "metadata": {},
   "outputs": [
    {
     "data": {
      "image/png": "[encoded data removed]",
      "text/plain": [
       "<Figure size 432x288 with 1 Axes>"
      ]
     },
     "metadata": {
      "needs_background": "light"
     },
     "output_type": "display_data"
    }
   ],
   "source": [
    "pixels = X_train_fm[:, 1].reshape((28, 28))\n",
    "plt.imshow(pixels, cmap='gray')\n",
    "plt.show()"
   ]
  },
  {
   "cell_type": "markdown",
   "metadata": {},
   "source": [
    "# Train the model"
   ]
  },
  {
   "cell_type": "code",
   "execution_count": 6,
   "metadata": {},
   "outputs": [],
   "source": [
    "layers_dims = [784, 20, 20, 1]"
   ]
  },
  {
   "cell_type": "code",
   "execution_count": 147,
   "metadata": {},
   "outputs": [
    {
     "name": "stdout",
     "output_type": "stream",
     "text": [
      "Cost after epoch 0: 0.430815\n",
      "Cost after epoch 1: 0.407259\n",
      "Cost after epoch 2: 0.406516\n",
      "Cost after epoch 3: 0.408454\n",
      "Cost after epoch 4: 0.410047\n",
      "Cost after epoch 5: 0.410788\n",
      "Cost after epoch 6: 0.410328\n",
      "Cost after epoch 7: 0.406868\n",
      "Cost after epoch 8: 0.393573\n",
      "Cost after epoch 9: 0.362331\n",
      "Cost after epoch 10: 0.317457\n",
      "Cost after epoch 11: 0.279190\n",
      "Cost after epoch 12: 0.236498\n",
      "Cost after epoch 13: 0.149960\n",
      "Cost after epoch 14: 0.104616\n",
      "Cost after epoch 15: 0.093431\n",
      "Cost after epoch 16: 0.087492\n",
      "Cost after epoch 17: 0.083259\n",
      "Cost after epoch 18: 0.080126\n",
      "Cost after epoch 19: 0.077734\n",
      "Cost after epoch 20: 0.075829\n",
      "Cost after epoch 21: 0.074281\n",
      "Cost after epoch 22: 0.072976\n",
      "Cost after epoch 23: 0.071847\n",
      "Cost after epoch 24: 0.070862\n",
      "Cost after epoch 25: 0.069997\n",
      "Cost after epoch 26: 0.069224\n",
      "Cost after epoch 27: 0.068522\n",
      "Cost after epoch 28: 0.067895\n",
      "Cost after epoch 29: 0.067314\n"
     ]
    }
   ],
   "source": [
    "parameters_unreg = L_layer_model(X_train, y_train, layers_dims, learning_rate=0.01, l1_term=0, num_epochs=30, print_cost=True)"
   ]
  },
  {
   "cell_type": "code",
   "execution_count": 148,
   "metadata": {},
   "outputs": [
    {
     "data": {
      "text/plain": [
       "0.9755357142857143"
      ]
     },
     "execution_count": 148,
     "metadata": {},
     "output_type": "execute_result"
    }
   ],
   "source": [
    "from sklearn.metrics import accuracy_score\n",
    "\n",
    "p, _ = L_model_forward(X_train, parameters_unreg)\n",
    "y_train_pred = (p > 0.5).astype(int)\n",
    "accuracy_score(y_train.reshape((-1),), y_train_pred.reshape((-1),))"
   ]
  },
  {
   "cell_type": "code",
   "execution_count": 145,
   "metadata": {},
   "outputs": [
    {
     "name": "stdout",
     "output_type": "stream",
     "text": [
      "Cost after epoch 0: 0.448906\n",
      "Cost after epoch 1: 0.423507\n",
      "Cost after epoch 2: 0.421041\n",
      "Cost after epoch 3: 0.421441\n",
      "Cost after epoch 4: 0.421764\n",
      "Cost after epoch 5: 0.421659\n",
      "Cost after epoch 6: 0.421221\n",
      "Cost after epoch 7: 0.420585\n",
      "Cost after epoch 8: 0.419848\n",
      "Cost after epoch 9: 0.419061\n",
      "Cost after epoch 10: 0.418218\n",
      "Cost after epoch 11: 0.417216\n",
      "Cost after epoch 12: 0.415717\n",
      "Cost after epoch 13: 0.412344\n",
      "Cost after epoch 14: 0.402713\n",
      "Cost after epoch 15: 0.380030\n",
      "Cost after epoch 16: 0.339927\n",
      "Cost after epoch 17: 0.303582\n",
      "Cost after epoch 18: 0.273109\n",
      "Cost after epoch 19: 0.246411\n",
      "Cost after epoch 20: 0.223080\n",
      "Cost after epoch 21: 0.203517\n",
      "Cost after epoch 22: 0.185436\n",
      "Cost after epoch 23: 0.167289\n",
      "Cost after epoch 24: 0.142887\n",
      "Cost after epoch 25: 0.113212\n",
      "Cost after epoch 26: 0.098133\n",
      "Cost after epoch 27: 0.092885\n",
      "Cost after epoch 28: 0.090363\n",
      "Cost after epoch 29: 0.088437\n"
     ]
    }
   ],
   "source": [
    "parameters_reg = L_layer_model(X_train, y_train, layers_dims, learning_rate=0.01, l1_term=0.01, num_epochs=30, print_cost=True)"
   ]
  },
  {
   "cell_type": "code",
   "execution_count": 146,
   "metadata": {},
   "outputs": [
    {
     "data": {
      "text/plain": [
       "0.9736607142857143"
      ]
     },
     "execution_count": 146,
     "metadata": {},
     "output_type": "execute_result"
    }
   ],
   "source": [
    "from sklearn.metrics import accuracy_score\n",
    "\n",
    "p, _ = L_model_forward(X_train, parameters_reg)\n",
    "y_train_pred = (p > 0.5).astype(int)\n",
    "accuracy_score(y_train.reshape((-1),), y_train_pred.reshape((-1),))"
   ]
  },
  {
   "cell_type": "code",
   "execution_count": 59,
   "metadata": {},
   "outputs": [
    {
     "name": "stdout",
     "output_type": "stream",
     "text": [
      "Cost after epoch 0: 0.448215\n",
      "Cost after epoch 1: 0.422285\n",
      "Cost after epoch 2: 0.419419\n",
      "Cost after epoch 3: 0.419546\n",
      "Cost after epoch 4: 0.419713\n",
      "Cost after epoch 5: 0.419547\n",
      "Cost after epoch 6: 0.419121\n",
      "Cost after epoch 7: 0.418531\n",
      "Cost after epoch 8: 0.417825\n",
      "Cost after epoch 9: 0.416959\n",
      "Cost after epoch 10: 0.415629\n",
      "Cost after epoch 11: 0.413236\n",
      "Cost after epoch 12: 0.410141\n",
      "Cost after epoch 13: 0.403526\n",
      "Cost after epoch 14: 0.386231\n",
      "Cost after epoch 15: 0.349768\n",
      "Cost after epoch 16: 0.299857\n",
      "Cost after epoch 17: 0.187668\n",
      "Cost after epoch 18: 0.121146\n",
      "Cost after epoch 19: 0.106763\n",
      "Cost after epoch 20: 0.099291\n",
      "Cost after epoch 21: 0.094234\n",
      "Cost after epoch 22: 0.090470\n",
      "Cost after epoch 23: 0.087580\n",
      "Cost after epoch 24: 0.085306\n",
      "Cost after epoch 25: 0.083472\n",
      "Cost after epoch 26: 0.081934\n",
      "Cost after epoch 27: 0.080627\n",
      "Cost after epoch 28: 0.079499\n",
      "Cost after epoch 29: 0.078535\n",
      "Cost after epoch 30: 0.077693\n",
      "Cost after epoch 31: 0.076980\n",
      "Cost after epoch 32: 0.076358\n",
      "Cost after epoch 33: 0.075795\n",
      "Cost after epoch 34: 0.075295\n",
      "Cost after epoch 35: 0.074814\n",
      "Cost after epoch 36: 0.074359\n",
      "Cost after epoch 37: 0.073934\n",
      "Cost after epoch 38: 0.073625\n",
      "Cost after epoch 39: 0.073329\n",
      "Cost after epoch 40: 0.073035\n",
      "Cost after epoch 41: 0.072740\n",
      "Cost after epoch 42: 0.072441\n",
      "Cost after epoch 43: 0.072187\n",
      "Cost after epoch 44: 0.072094\n",
      "Cost after epoch 45: 0.072208\n",
      "Cost after epoch 46: 0.072237\n",
      "Cost after epoch 47: 0.072370\n",
      "Cost after epoch 48: 0.072796\n",
      "Cost after epoch 49: 0.072981\n",
      "Cost after epoch 50: 0.073376\n",
      "Cost after epoch 51: 0.073511\n",
      "Cost after epoch 52: 0.073340\n",
      "Cost after epoch 53: 0.072962\n",
      "Cost after epoch 54: 0.072694\n",
      "Cost after epoch 55: 0.072377\n",
      "Cost after epoch 56: 0.071958\n",
      "Cost after epoch 57: 0.071738\n",
      "Cost after epoch 58: 0.071435\n",
      "Cost after epoch 59: 0.070789\n",
      "Cost after epoch 60: 0.070075\n",
      "Cost after epoch 61: 0.069983\n",
      "Cost after epoch 62: 0.069670\n",
      "Cost after epoch 63: 0.069076\n",
      "Cost after epoch 64: 0.068713\n",
      "Cost after epoch 65: 0.068357\n",
      "Cost after epoch 66: 0.068383\n",
      "Cost after epoch 67: 0.066190\n",
      "Cost after epoch 68: 0.061159\n",
      "Cost after epoch 69: 0.056961\n",
      "Cost after epoch 70: 0.054162\n",
      "Cost after epoch 71: 0.051812\n",
      "Cost after epoch 72: 0.049973\n",
      "Cost after epoch 73: 0.047876\n",
      "Cost after epoch 74: 0.045532\n",
      "Cost after epoch 75: 0.043354\n",
      "Cost after epoch 76: 0.041123\n",
      "Cost after epoch 77: 0.039341\n",
      "Cost after epoch 78: 0.037737\n",
      "Cost after epoch 79: 0.036302\n",
      "Cost after epoch 80: 0.035040\n",
      "Cost after epoch 81: 0.034068\n",
      "Cost after epoch 82: 0.033023\n",
      "Cost after epoch 83: 0.032225\n",
      "Cost after epoch 84: 0.031641\n",
      "Cost after epoch 85: 0.031024\n",
      "Cost after epoch 86: 0.030130\n",
      "Cost after epoch 87: 0.029528\n",
      "Cost after epoch 88: 0.028878\n",
      "Cost after epoch 89: 0.028356\n",
      "Cost after epoch 90: 0.027550\n",
      "Cost after epoch 91: 0.027020\n",
      "Cost after epoch 92: 0.026544\n",
      "Cost after epoch 93: 0.026058\n",
      "Cost after epoch 94: 0.025477\n",
      "Cost after epoch 95: 0.025001\n",
      "Cost after epoch 96: 0.024826\n",
      "Cost after epoch 97: 0.024601\n",
      "Cost after epoch 98: 0.023946\n",
      "Cost after epoch 99: 0.023431\n"
     ]
    }
   ],
   "source": [
    "parameters_scaled = L_layer_model(X_train, y_train, layers_dims, learning_rate=0.01, l1_term=0.02, self_scale=True, num_epochs=100, print_cost=True)"
   ]
  },
  {
   "cell_type": "code",
   "execution_count": 60,
   "metadata": {},
   "outputs": [
    {
     "data": {
      "text/plain": [
       "0.9853273809523809"
      ]
     },
     "execution_count": 60,
     "metadata": {},
     "output_type": "execute_result"
    }
   ],
   "source": [
    "from sklearn.metrics import accuracy_score\n",
    "\n",
    "p, _ = L_model_forward(X_train, parameters_scaled)\n",
    "y_train_pred = (p > 0.5).astype(int)\n",
    "accuracy_score(y_train.reshape((-1),), y_train_pred.reshape((-1),))"
   ]
  },
  {
   "cell_type": "code",
   "execution_count": 61,
   "metadata": {},
   "outputs": [
    {
     "data": {
      "text/plain": [
       "[784, 8, 12, 1]"
      ]
     },
     "execution_count": 61,
     "metadata": {},
     "output_type": "execute_result"
    }
   ],
   "source": [
    "parameters_pruned = copy.deepcopy(parameters_scaled)\n",
    "prune_parameters(parameters_pruned)\n",
    "get_layer_sizes(parameters_pruned)"
   ]
  },
  {
   "cell_type": "code",
   "execution_count": 62,
   "metadata": {},
   "outputs": [
    {
     "data": {
      "text/plain": [
       "0.9853273809523809"
      ]
     },
     "execution_count": 62,
     "metadata": {},
     "output_type": "execute_result"
    }
   ],
   "source": [
    "from sklearn.metrics import accuracy_score\n",
    "\n",
    "p, _ = L_model_forward(X_train, parameters_pruned)\n",
    "y_train_pred = (p > 0.5).astype(int)\n",
    "accuracy_score(y_train.reshape((-1),), y_train_pred.reshape((-1),))"
   ]
  },
  {
   "cell_type": "code",
   "execution_count": 63,
   "metadata": {},
   "outputs": [
    {
     "name": "stdout",
     "output_type": "stream",
     "text": [
      "Cost after epoch 0: 0.431117\n",
      "Cost after epoch 1: 0.407389\n",
      "Cost after epoch 2: 0.406448\n",
      "Cost after epoch 3: 0.408345\n",
      "Cost after epoch 4: 0.410126\n",
      "Cost after epoch 5: 0.411401\n",
      "Cost after epoch 6: 0.412244\n",
      "Cost after epoch 7: 0.412780\n",
      "Cost after epoch 8: 0.413115\n",
      "Cost after epoch 9: 0.413321\n",
      "Cost after epoch 10: 0.413444\n",
      "Cost after epoch 11: 0.413513\n",
      "Cost after epoch 12: 0.413546\n",
      "Cost after epoch 13: 0.413552\n",
      "Cost after epoch 14: 0.413534\n",
      "Cost after epoch 15: 0.413488\n",
      "Cost after epoch 16: 0.413402\n",
      "Cost after epoch 17: 0.413240\n",
      "Cost after epoch 18: 0.412923\n",
      "Cost after epoch 19: 0.412322\n",
      "Cost after epoch 20: 0.411303\n",
      "Cost after epoch 21: 0.409002\n",
      "Cost after epoch 22: 0.402787\n",
      "Cost after epoch 23: 0.383750\n",
      "Cost after epoch 24: 0.334164\n",
      "Cost after epoch 25: 0.208864\n",
      "Cost after epoch 26: 0.124095\n",
      "Cost after epoch 27: 0.105026\n",
      "Cost after epoch 28: 0.095823\n",
      "Cost after epoch 29: 0.089813\n",
      "Cost after epoch 30: 0.085375\n",
      "Cost after epoch 31: 0.081924\n",
      "Cost after epoch 32: 0.079218\n",
      "Cost after epoch 33: 0.077065\n",
      "Cost after epoch 34: 0.075308\n",
      "Cost after epoch 35: 0.073841\n",
      "Cost after epoch 36: 0.072621\n",
      "Cost after epoch 37: 0.071629\n",
      "Cost after epoch 38: 0.070747\n",
      "Cost after epoch 39: 0.070038\n",
      "Cost after epoch 40: 0.069406\n",
      "Cost after epoch 41: 0.068876\n",
      "Cost after epoch 42: 0.068422\n",
      "Cost after epoch 43: 0.068009\n",
      "Cost after epoch 44: 0.067676\n",
      "Cost after epoch 45: 0.067313\n",
      "Cost after epoch 46: 0.067072\n",
      "Cost after epoch 47: 0.066974\n",
      "Cost after epoch 48: 0.066827\n",
      "Cost after epoch 49: 0.066702\n",
      "Cost after epoch 50: 0.066575\n",
      "Cost after epoch 51: 0.066520\n",
      "Cost after epoch 52: 0.066595\n",
      "Cost after epoch 53: 0.066594\n",
      "Cost after epoch 54: 0.066500\n",
      "Cost after epoch 55: 0.066440\n",
      "Cost after epoch 56: 0.066450\n",
      "Cost after epoch 57: 0.066451\n",
      "Cost after epoch 58: 0.066702\n",
      "Cost after epoch 59: 0.066892\n",
      "Cost after epoch 60: 0.067260\n",
      "Cost after epoch 61: 0.067365\n",
      "Cost after epoch 62: 0.067596\n",
      "Cost after epoch 63: 0.067632\n",
      "Cost after epoch 64: 0.067940\n",
      "Cost after epoch 65: 0.068240\n",
      "Cost after epoch 66: 0.068544\n",
      "Cost after epoch 67: 0.068331\n",
      "Cost after epoch 68: 0.068467\n",
      "Cost after epoch 69: 0.068550\n",
      "Cost after epoch 70: 0.068661\n",
      "Cost after epoch 71: 0.068617\n",
      "Cost after epoch 72: 0.068709\n",
      "Cost after epoch 73: 0.068709\n",
      "Cost after epoch 74: 0.068559\n",
      "Cost after epoch 75: 0.068438\n",
      "Cost after epoch 76: 0.068012\n",
      "Cost after epoch 77: 0.067799\n",
      "Cost after epoch 78: 0.067727\n",
      "Cost after epoch 79: 0.067546\n",
      "Cost after epoch 80: 0.067262\n",
      "Cost after epoch 81: 0.066814\n",
      "Cost after epoch 82: 0.066371\n",
      "Cost after epoch 83: 0.066045\n",
      "Cost after epoch 84: 0.065600\n",
      "Cost after epoch 85: 0.065497\n",
      "Cost after epoch 86: 0.065064\n",
      "Cost after epoch 87: 0.064390\n",
      "Cost after epoch 88: 0.063588\n",
      "Cost after epoch 89: 0.062821\n",
      "Cost after epoch 90: 0.062379\n",
      "Cost after epoch 91: 0.062169\n",
      "Cost after epoch 92: 0.061784\n",
      "Cost after epoch 93: 0.060961\n",
      "Cost after epoch 94: 0.060144\n",
      "Cost after epoch 95: 0.058691\n",
      "Cost after epoch 96: 0.058100\n",
      "Cost after epoch 97: 0.057479\n",
      "Cost after epoch 98: 0.056489\n",
      "Cost after epoch 99: 0.054484\n"
     ]
    }
   ],
   "source": [
    "parameters = L_layer_model(X_train, y_train, get_layer_sizes(parameters_pruned), learning_rate=0.01, num_epochs=100, print_cost=True)"
   ]
  },
  {
   "cell_type": "code",
   "execution_count": 64,
   "metadata": {},
   "outputs": [
    {
     "data": {
      "text/plain": [
       "0.9823809523809524"
      ]
     },
     "execution_count": 64,
     "metadata": {},
     "output_type": "execute_result"
    }
   ],
   "source": [
    "from sklearn.metrics import accuracy_score\n",
    "\n",
    "p, _ = L_model_forward(X_train, parameters)\n",
    "y_train_pred = (p > 0.5).astype(int)\n",
    "accuracy_score(y_train.reshape((-1),), y_train_pred.reshape((-1),))"
   ]
  },
  {
   "cell_type": "markdown",
   "metadata": {},
   "source": [
    "# Keeping parameters"
   ]
  },
  {
   "cell_type": "code",
   "execution_count": null,
   "metadata": {},
   "outputs": [],
   "source": [
    "layers_dims = [784, 20, 20, 1]"
   ]
  },
  {
   "cell_type": "code",
   "execution_count": 82,
   "metadata": {},
   "outputs": [
    {
     "name": "stdout",
     "output_type": "stream",
     "text": [
      "Cost after epoch 0: 0.430815\n",
      "Cost after epoch 1: 0.407259\n",
      "Cost after epoch 2: 0.406516\n",
      "Cost after epoch 3: 0.408454\n",
      "Cost after epoch 4: 0.410047\n",
      "Cost after epoch 5: 0.410788\n",
      "Cost after epoch 6: 0.410328\n",
      "Cost after epoch 7: 0.406868\n",
      "Cost after epoch 8: 0.393573\n",
      "Cost after epoch 9: 0.362331\n",
      "Cost after epoch 10: 0.317457\n",
      "Cost after epoch 11: 0.279190\n",
      "Cost after epoch 12: 0.236498\n",
      "Cost after epoch 13: 0.149960\n",
      "Cost after epoch 14: 0.104616\n",
      "Cost after epoch 15: 0.093431\n",
      "Cost after epoch 16: 0.087492\n",
      "Cost after epoch 17: 0.083259\n",
      "Cost after epoch 18: 0.080126\n",
      "Cost after epoch 19: 0.077734\n",
      "Cost after epoch 20: 0.075829\n",
      "Cost after epoch 21: 0.074281\n",
      "Cost after epoch 22: 0.072976\n",
      "Cost after epoch 23: 0.071847\n",
      "Cost after epoch 24: 0.070862\n",
      "Cost after epoch 25: 0.069997\n",
      "Cost after epoch 26: 0.069224\n",
      "Cost after epoch 27: 0.068522\n",
      "Cost after epoch 28: 0.067895\n",
      "Cost after epoch 29: 0.067314\n",
      "Cost after epoch 30: 0.066769\n",
      "Cost after epoch 31: 0.066249\n",
      "Cost after epoch 32: 0.065738\n",
      "Cost after epoch 33: 0.065234\n",
      "Cost after epoch 34: 0.064723\n",
      "Cost after epoch 35: 0.064188\n",
      "Cost after epoch 36: 0.063613\n",
      "Cost after epoch 37: 0.062983\n",
      "Cost after epoch 38: 0.062318\n",
      "Cost after epoch 39: 0.061564\n",
      "Cost after epoch 40: 0.060717\n",
      "Cost after epoch 41: 0.059782\n",
      "Cost after epoch 42: 0.058759\n",
      "Cost after epoch 43: 0.057612\n",
      "Cost after epoch 44: 0.056375\n",
      "Cost after epoch 45: 0.055024\n",
      "Cost after epoch 46: 0.053552\n",
      "Cost after epoch 47: 0.051957\n",
      "Cost after epoch 48: 0.050289\n",
      "Cost after epoch 49: 0.048507\n",
      "Cost after epoch 50: 0.046679\n",
      "Cost after epoch 51: 0.044811\n",
      "Cost after epoch 52: 0.042911\n",
      "Cost after epoch 53: 0.040999\n",
      "Cost after epoch 54: 0.039117\n",
      "Cost after epoch 55: 0.037220\n",
      "Cost after epoch 56: 0.035417\n",
      "Cost after epoch 57: 0.033674\n",
      "Cost after epoch 58: 0.032049\n",
      "Cost after epoch 59: 0.030560\n",
      "Cost after epoch 60: 0.029026\n",
      "Cost after epoch 61: 0.027769\n",
      "Cost after epoch 62: 0.026482\n",
      "Cost after epoch 63: 0.025328\n",
      "Cost after epoch 64: 0.024238\n",
      "Cost after epoch 65: 0.023118\n",
      "Cost after epoch 66: 0.022022\n",
      "Cost after epoch 67: 0.020988\n",
      "Cost after epoch 68: 0.020226\n",
      "Cost after epoch 69: 0.019533\n",
      "Cost after epoch 70: 0.019016\n",
      "Cost after epoch 71: 0.018467\n",
      "Cost after epoch 72: 0.018029\n",
      "Cost after epoch 73: 0.017573\n",
      "Cost after epoch 74: 0.017088\n",
      "Cost after epoch 75: 0.016592\n",
      "Cost after epoch 76: 0.016105\n",
      "Cost after epoch 77: 0.015767\n",
      "Cost after epoch 78: 0.015228\n",
      "Cost after epoch 79: 0.014759\n",
      "Cost after epoch 80: 0.014488\n",
      "Cost after epoch 81: 0.013853\n",
      "Cost after epoch 82: 0.013319\n",
      "Cost after epoch 83: 0.013079\n",
      "Cost after epoch 84: 0.012902\n",
      "Cost after epoch 85: 0.012548\n",
      "Cost after epoch 86: 0.012250\n",
      "Cost after epoch 87: 0.012016\n",
      "Cost after epoch 88: 0.011870\n",
      "Cost after epoch 89: 0.011578\n",
      "Cost after epoch 90: 0.011348\n",
      "Cost after epoch 91: 0.011341\n",
      "Cost after epoch 92: 0.010855\n",
      "Cost after epoch 93: 0.010778\n",
      "Cost after epoch 94: 0.010555\n",
      "Cost after epoch 95: 0.010455\n",
      "Cost after epoch 96: 0.010418\n",
      "Cost after epoch 97: 0.010222\n",
      "Cost after epoch 98: 0.009982\n",
      "Cost after epoch 99: 0.009865\n"
     ]
    }
   ],
   "source": [
    "parameters = initialize_parameters(layers_dims)\n",
    "parameters = train_model(X_train, y_train, parameters, learning_rate=0.01, num_epochs=100, print_cost=True)"
   ]
  },
  {
   "cell_type": "code",
   "execution_count": 83,
   "metadata": {},
   "outputs": [
    {
     "data": {
      "text/plain": [
       "0.9906845238095238"
      ]
     },
     "execution_count": 83,
     "metadata": {},
     "output_type": "execute_result"
    }
   ],
   "source": [
    "measure_accuracy(parameters, X_train, y_train)"
   ]
  },
  {
   "cell_type": "code",
   "execution_count": 84,
   "metadata": {},
   "outputs": [
    {
     "data": {
      "text/plain": [
       "0.9864285714285714"
      ]
     },
     "execution_count": 84,
     "metadata": {},
     "output_type": "execute_result"
    }
   ],
   "source": [
    "measure_accuracy(parameters, X_test, y_test)"
   ]
  },
  {
   "cell_type": "code",
   "execution_count": 86,
   "metadata": {},
   "outputs": [],
   "source": [
    "layers_dims_small = [784, 11, 14, 1]"
   ]
  },
  {
   "cell_type": "code",
   "execution_count": 87,
   "metadata": {},
   "outputs": [
    {
     "name": "stdout",
     "output_type": "stream",
     "text": [
      "Cost after epoch 0: 0.431119\n",
      "Cost after epoch 1: 0.407392\n",
      "Cost after epoch 2: 0.406453\n",
      "Cost after epoch 3: 0.408351\n",
      "Cost after epoch 4: 0.410132\n",
      "Cost after epoch 5: 0.411408\n",
      "Cost after epoch 6: 0.412251\n",
      "Cost after epoch 7: 0.412789\n",
      "Cost after epoch 8: 0.413124\n",
      "Cost after epoch 9: 0.413329\n",
      "Cost after epoch 10: 0.413451\n",
      "Cost after epoch 11: 0.413520\n",
      "Cost after epoch 12: 0.413550\n",
      "Cost after epoch 13: 0.413549\n",
      "Cost after epoch 14: 0.413519\n",
      "Cost after epoch 15: 0.413448\n",
      "Cost after epoch 16: 0.413308\n",
      "Cost after epoch 17: 0.413034\n",
      "Cost after epoch 18: 0.412481\n",
      "Cost after epoch 19: 0.411448\n",
      "Cost after epoch 20: 0.409207\n",
      "Cost after epoch 21: 0.403088\n",
      "Cost after epoch 22: 0.383622\n",
      "Cost after epoch 23: 0.322974\n",
      "Cost after epoch 24: 0.168219\n",
      "Cost after epoch 25: 0.118703\n",
      "Cost after epoch 26: 0.103595\n",
      "Cost after epoch 27: 0.095517\n",
      "Cost after epoch 28: 0.090004\n",
      "Cost after epoch 29: 0.085756\n",
      "Cost after epoch 30: 0.082504\n",
      "Cost after epoch 31: 0.079982\n",
      "Cost after epoch 32: 0.078035\n",
      "Cost after epoch 33: 0.076483\n",
      "Cost after epoch 34: 0.075296\n",
      "Cost after epoch 35: 0.074187\n",
      "Cost after epoch 36: 0.073324\n",
      "Cost after epoch 37: 0.072459\n",
      "Cost after epoch 38: 0.071860\n",
      "Cost after epoch 39: 0.071252\n",
      "Cost after epoch 40: 0.070688\n",
      "Cost after epoch 41: 0.070261\n",
      "Cost after epoch 42: 0.069987\n",
      "Cost after epoch 43: 0.069726\n",
      "Cost after epoch 44: 0.069212\n",
      "Cost after epoch 45: 0.068893\n",
      "Cost after epoch 46: 0.068676\n",
      "Cost after epoch 47: 0.068560\n",
      "Cost after epoch 48: 0.068544\n",
      "Cost after epoch 49: 0.068528\n",
      "Cost after epoch 50: 0.068499\n",
      "Cost after epoch 51: 0.068478\n",
      "Cost after epoch 52: 0.068484\n",
      "Cost after epoch 53: 0.068433\n",
      "Cost after epoch 54: 0.068511\n",
      "Cost after epoch 55: 0.068750\n",
      "Cost after epoch 56: 0.068740\n",
      "Cost after epoch 57: 0.068966\n",
      "Cost after epoch 58: 0.069086\n",
      "Cost after epoch 59: 0.069147\n",
      "Cost after epoch 60: 0.069477\n",
      "Cost after epoch 61: 0.069603\n",
      "Cost after epoch 62: 0.069732\n",
      "Cost after epoch 63: 0.069866\n",
      "Cost after epoch 64: 0.070251\n",
      "Cost after epoch 65: 0.070466\n",
      "Cost after epoch 66: 0.070514\n",
      "Cost after epoch 67: 0.070498\n",
      "Cost after epoch 68: 0.070302\n",
      "Cost after epoch 69: 0.070259\n",
      "Cost after epoch 70: 0.070325\n",
      "Cost after epoch 71: 0.070407\n",
      "Cost after epoch 72: 0.070087\n",
      "Cost after epoch 73: 0.068971\n",
      "Cost after epoch 74: 0.065581\n",
      "Cost after epoch 75: 0.062404\n",
      "Cost after epoch 76: 0.059023\n",
      "Cost after epoch 77: 0.055576\n",
      "Cost after epoch 78: 0.051873\n",
      "Cost after epoch 79: 0.048111\n",
      "Cost after epoch 80: 0.044169\n",
      "Cost after epoch 81: 0.041931\n",
      "Cost after epoch 82: 0.039913\n",
      "Cost after epoch 83: 0.038020\n",
      "Cost after epoch 84: 0.036523\n",
      "Cost after epoch 85: 0.035089\n",
      "Cost after epoch 86: 0.033874\n",
      "Cost after epoch 87: 0.031480\n",
      "Cost after epoch 88: 0.029776\n",
      "Cost after epoch 89: 0.027987\n",
      "Cost after epoch 90: 0.026479\n",
      "Cost after epoch 91: 0.024758\n",
      "Cost after epoch 92: 0.023224\n",
      "Cost after epoch 93: 0.021863\n",
      "Cost after epoch 94: 0.020510\n",
      "Cost after epoch 95: 0.019516\n",
      "Cost after epoch 96: 0.018425\n",
      "Cost after epoch 97: 0.017308\n",
      "Cost after epoch 98: 0.016164\n",
      "Cost after epoch 99: 0.015265\n"
     ]
    }
   ],
   "source": [
    "parameters = initialize_parameters(layers_dims_small)\n",
    "parameters_small = train_model(X_train, y_train, parameters, learning_rate=0.01, num_epochs=100, print_cost=True)"
   ]
  },
  {
   "cell_type": "code",
   "execution_count": 88,
   "metadata": {},
   "outputs": [
    {
     "data": {
      "text/plain": [
       "0.9866964285714286"
      ]
     },
     "execution_count": 88,
     "metadata": {},
     "output_type": "execute_result"
    }
   ],
   "source": [
    "measure_accuracy(parameters_small, X_train, y_train)"
   ]
  },
  {
   "cell_type": "code",
   "execution_count": 89,
   "metadata": {},
   "outputs": [
    {
     "data": {
      "text/plain": [
       "0.9826190476190476"
      ]
     },
     "execution_count": 89,
     "metadata": {},
     "output_type": "execute_result"
    }
   ],
   "source": [
    "measure_accuracy(parameters_small, X_test, y_test)"
   ]
  },
  {
   "cell_type": "code",
   "execution_count": 76,
   "metadata": {},
   "outputs": [
    {
     "name": "stdout",
     "output_type": "stream",
     "text": [
      "Cost after epoch 0: 0.448215\n",
      "Cost after epoch 1: 0.422285\n",
      "Cost after epoch 2: 0.419419\n",
      "Cost after epoch 3: 0.419546\n",
      "Cost after epoch 4: 0.419713\n",
      "Cost after epoch 5: 0.419547\n",
      "Cost after epoch 6: 0.419121\n",
      "Cost after epoch 7: 0.418531\n",
      "Cost after epoch 8: 0.417825\n",
      "Cost after epoch 9: 0.416959\n",
      "Cost after epoch 10: 0.415629\n",
      "Cost after epoch 11: 0.413236\n",
      "Cost after epoch 12: 0.410141\n",
      "Cost after epoch 13: 0.403526\n",
      "Cost after epoch 14: 0.386231\n",
      "Cost after epoch 15: 0.349768\n",
      "Cost after epoch 16: 0.299857\n",
      "Cost after epoch 17: 0.187668\n",
      "Cost after epoch 18: 0.121146\n",
      "Cost after epoch 19: 0.106763\n",
      "Cost after epoch 20: 0.099291\n",
      "Cost after epoch 21: 0.094234\n",
      "Cost after epoch 22: 0.090470\n",
      "Cost after epoch 23: 0.087580\n",
      "Cost after epoch 24: 0.085306\n",
      "Cost after epoch 25: 0.083472\n",
      "Cost after epoch 26: 0.081934\n",
      "Cost after epoch 27: 0.080627\n",
      "Cost after epoch 28: 0.079499\n",
      "Cost after epoch 29: 0.078535\n",
      "Cost after epoch 30: 0.077693\n",
      "Cost after epoch 31: 0.076980\n",
      "Cost after epoch 32: 0.076358\n",
      "Cost after epoch 33: 0.075795\n",
      "Cost after epoch 34: 0.075295\n",
      "Cost after epoch 35: 0.074814\n",
      "Cost after epoch 36: 0.074359\n",
      "Cost after epoch 37: 0.073934\n",
      "Cost after epoch 38: 0.073625\n",
      "Cost after epoch 39: 0.073329\n",
      "Cost after epoch 40: 0.073035\n",
      "Cost after epoch 41: 0.072740\n",
      "Cost after epoch 42: 0.072441\n",
      "Cost after epoch 43: 0.072187\n",
      "Cost after epoch 44: 0.072094\n",
      "Cost after epoch 45: 0.072208\n",
      "Cost after epoch 46: 0.072237\n",
      "Cost after epoch 47: 0.072370\n",
      "Cost after epoch 48: 0.072796\n",
      "Cost after epoch 49: 0.072981\n"
     ]
    }
   ],
   "source": [
    "parameters = initialize_parameters(layers_dims)\n",
    "parameters_scaled = train_model(X_train, y_train, parameters, learning_rate=0.01, l1_term=0.02, self_scale=True, num_epochs=50, print_cost=True)"
   ]
  },
  {
   "cell_type": "code",
   "execution_count": 78,
   "metadata": {},
   "outputs": [
    {
     "data": {
      "text/plain": [
       "0.976547619047619"
      ]
     },
     "execution_count": 78,
     "metadata": {},
     "output_type": "execute_result"
    }
   ],
   "source": [
    "measure_accuracy(parameters_scaled, X_train, y_train)"
   ]
  },
  {
   "cell_type": "code",
   "execution_count": 77,
   "metadata": {},
   "outputs": [
    {
     "data": {
      "text/plain": [
       "[784, 11, 14, 1]"
      ]
     },
     "execution_count": 77,
     "metadata": {},
     "output_type": "execute_result"
    }
   ],
   "source": [
    "parameters_pruned = copy.deepcopy(parameters_scaled)\n",
    "prune_parameters(parameters_pruned)\n",
    "get_layer_sizes(parameters_pruned)"
   ]
  },
  {
   "cell_type": "code",
   "execution_count": 79,
   "metadata": {},
   "outputs": [
    {
     "data": {
      "text/plain": [
       "0.976547619047619"
      ]
     },
     "execution_count": 79,
     "metadata": {},
     "output_type": "execute_result"
    }
   ],
   "source": [
    "measure_accuracy(parameters_pruned, X_train, y_train)"
   ]
  },
  {
   "cell_type": "code",
   "execution_count": 80,
   "metadata": {},
   "outputs": [
    {
     "name": "stdout",
     "output_type": "stream",
     "text": [
      "Cost after epoch 0: 0.068162\n",
      "Cost after epoch 1: 0.068107\n",
      "Cost after epoch 2: 0.067846\n",
      "Cost after epoch 3: 0.067470\n",
      "Cost after epoch 4: 0.067049\n",
      "Cost after epoch 5: 0.066743\n",
      "Cost after epoch 6: 0.066580\n",
      "Cost after epoch 7: 0.065768\n",
      "Cost after epoch 8: 0.065288\n",
      "Cost after epoch 9: 0.064633\n",
      "Cost after epoch 10: 0.063909\n",
      "Cost after epoch 11: 0.063855\n",
      "Cost after epoch 12: 0.063281\n",
      "Cost after epoch 13: 0.063048\n",
      "Cost after epoch 14: 0.063028\n",
      "Cost after epoch 15: 0.063694\n",
      "Cost after epoch 16: 0.062957\n",
      "Cost after epoch 17: 0.057640\n",
      "Cost after epoch 18: 0.053005\n",
      "Cost after epoch 19: 0.049765\n",
      "Cost after epoch 20: 0.047411\n",
      "Cost after epoch 21: 0.043448\n",
      "Cost after epoch 22: 0.039785\n",
      "Cost after epoch 23: 0.036768\n",
      "Cost after epoch 24: 0.034182\n",
      "Cost after epoch 25: 0.032045\n",
      "Cost after epoch 26: 0.029961\n",
      "Cost after epoch 27: 0.028210\n",
      "Cost after epoch 28: 0.026672\n",
      "Cost after epoch 29: 0.024867\n",
      "Cost after epoch 30: 0.023336\n",
      "Cost after epoch 31: 0.022010\n",
      "Cost after epoch 32: 0.020892\n",
      "Cost after epoch 33: 0.019923\n",
      "Cost after epoch 34: 0.018760\n",
      "Cost after epoch 35: 0.017389\n",
      "Cost after epoch 36: 0.015794\n",
      "Cost after epoch 37: 0.014446\n",
      "Cost after epoch 38: 0.013093\n",
      "Cost after epoch 39: 0.011893\n",
      "Cost after epoch 40: 0.010868\n",
      "Cost after epoch 41: 0.009833\n",
      "Cost after epoch 42: 0.009270\n",
      "Cost after epoch 43: 0.008523\n",
      "Cost after epoch 44: 0.008040\n",
      "Cost after epoch 45: 0.007535\n",
      "Cost after epoch 46: 0.007081\n",
      "Cost after epoch 47: 0.006552\n",
      "Cost after epoch 48: 0.006187\n",
      "Cost after epoch 49: 0.005854\n"
     ]
    }
   ],
   "source": [
    "parameters_final = train_model(X_train, y_train, parameters_pruned, learning_rate=0.01, num_epochs=50, print_cost=True)"
   ]
  },
  {
   "cell_type": "code",
   "execution_count": 81,
   "metadata": {},
   "outputs": [
    {
     "data": {
      "text/plain": [
       "0.9891666666666666"
      ]
     },
     "execution_count": 81,
     "metadata": {},
     "output_type": "execute_result"
    }
   ],
   "source": [
    "measure_accuracy(parameters_final, X_train, y_train)"
   ]
  },
  {
   "cell_type": "code",
   "execution_count": 85,
   "metadata": {},
   "outputs": [
    {
     "data": {
      "text/plain": [
       "0.9841666666666666"
      ]
     },
     "execution_count": 85,
     "metadata": {},
     "output_type": "execute_result"
    }
   ],
   "source": [
    "measure_accuracy(parameters_final, X_test, y_test)"
   ]
  },
  {
   "cell_type": "code",
   "execution_count": 98,
   "metadata": {},
   "outputs": [
    {
     "data": {
      "text/plain": [
       "[784, 20, 20, 1]"
      ]
     },
     "execution_count": 98,
     "metadata": {},
     "output_type": "execute_result"
    }
   ],
   "source": [
    "layers_dims"
   ]
  },
  {
   "cell_type": "markdown",
   "metadata": {},
   "source": [
    "# Agnosticity about initial number of neurons"
   ]
  },
  {
   "cell_type": "code",
   "execution_count": 115,
   "metadata": {},
   "outputs": [],
   "source": [
    "layers_dims = [784, 20, 20, 1]"
   ]
  },
  {
   "cell_type": "code",
   "execution_count": 116,
   "metadata": {},
   "outputs": [
    {
     "name": "stdout",
     "output_type": "stream",
     "text": [
      "Cost after epoch 0: 0.447466\n",
      "Cost after epoch 1: 0.421750\n",
      "Cost after epoch 2: 0.419062\n",
      "Cost after epoch 3: 0.419331\n",
      "Cost after epoch 4: 0.419606\n",
      "Cost after epoch 5: 0.419520\n",
      "Cost after epoch 6: 0.419143\n",
      "Cost after epoch 7: 0.418580\n",
      "Cost after epoch 8: 0.417862\n",
      "Cost after epoch 9: 0.416916\n",
      "Cost after epoch 10: 0.415325\n",
      "Cost after epoch 11: 0.412548\n",
      "Cost after epoch 12: 0.408499\n",
      "Cost after epoch 13: 0.398863\n",
      "Cost after epoch 14: 0.374069\n",
      "Cost after epoch 15: 0.331510\n",
      "Cost after epoch 16: 0.272481\n",
      "Cost after epoch 17: 0.147786\n",
      "Cost after epoch 18: 0.114804\n",
      "Cost after epoch 19: 0.103948\n",
      "Cost after epoch 20: 0.097586\n",
      "Cost after epoch 21: 0.093109\n",
      "Cost after epoch 22: 0.089724\n",
      "Cost after epoch 23: 0.087075\n",
      "Cost after epoch 24: 0.084956\n",
      "Cost after epoch 25: 0.083225\n",
      "Cost after epoch 26: 0.081775\n",
      "Cost after epoch 27: 0.080528\n",
      "Cost after epoch 28: 0.079445\n",
      "Cost after epoch 29: 0.078504\n",
      "Cost after epoch 30: 0.077669\n",
      "Cost after epoch 31: 0.076941\n",
      "Cost after epoch 32: 0.076331\n",
      "Cost after epoch 33: 0.075784\n",
      "Cost after epoch 34: 0.075296\n",
      "Cost after epoch 35: 0.074838\n",
      "Cost after epoch 36: 0.074403\n",
      "Cost after epoch 37: 0.073989\n",
      "Cost after epoch 38: 0.073656\n",
      "Cost after epoch 39: 0.073376\n",
      "Cost after epoch 40: 0.073112\n",
      "Cost after epoch 41: 0.072811\n",
      "Cost after epoch 42: 0.072506\n",
      "Cost after epoch 43: 0.072226\n",
      "Cost after epoch 44: 0.072093\n",
      "Cost after epoch 45: 0.072240\n",
      "Cost after epoch 46: 0.072201\n",
      "Cost after epoch 47: 0.072276\n",
      "Cost after epoch 48: 0.072686\n",
      "Cost after epoch 49: 0.072857\n",
      "Cost after epoch 50: 0.073215\n",
      "Cost after epoch 51: 0.073369\n",
      "Cost after epoch 52: 0.073238\n",
      "Cost after epoch 53: 0.072948\n",
      "Cost after epoch 54: 0.072623\n",
      "Cost after epoch 55: 0.072416\n",
      "Cost after epoch 56: 0.072065\n",
      "Cost after epoch 57: 0.071760\n",
      "Cost after epoch 58: 0.071548\n",
      "Cost after epoch 59: 0.070692\n",
      "Cost after epoch 60: 0.070208\n",
      "Cost after epoch 61: 0.069306\n",
      "Cost after epoch 62: 0.069452\n",
      "Cost after epoch 63: 0.068820\n",
      "Cost after epoch 64: 0.068541\n",
      "Cost after epoch 65: 0.067989\n",
      "Cost after epoch 66: 0.067836\n",
      "Cost after epoch 67: 0.068210\n",
      "Cost after epoch 68: 0.064293\n",
      "Cost after epoch 69: 0.059402\n",
      "Cost after epoch 70: 0.055849\n",
      "Cost after epoch 71: 0.053648\n",
      "Cost after epoch 72: 0.051822\n",
      "Cost after epoch 73: 0.049793\n",
      "Cost after epoch 74: 0.047127\n",
      "Cost after epoch 75: 0.044701\n",
      "Cost after epoch 76: 0.041960\n",
      "Cost after epoch 77: 0.040069\n",
      "Cost after epoch 78: 0.038334\n",
      "Cost after epoch 79: 0.036743\n",
      "Cost after epoch 80: 0.035445\n",
      "Cost after epoch 81: 0.034262\n",
      "Cost after epoch 82: 0.033424\n",
      "Cost after epoch 83: 0.032420\n",
      "Cost after epoch 84: 0.031603\n",
      "Cost after epoch 85: 0.030739\n",
      "Cost after epoch 86: 0.029903\n",
      "Cost after epoch 87: 0.029218\n",
      "Cost after epoch 88: 0.028771\n",
      "Cost after epoch 89: 0.028092\n",
      "Cost after epoch 90: 0.027370\n",
      "Cost after epoch 91: 0.026812\n",
      "Cost after epoch 92: 0.026359\n",
      "Cost after epoch 93: 0.025883\n",
      "Cost after epoch 94: 0.025291\n",
      "Cost after epoch 95: 0.024940\n",
      "Cost after epoch 96: 0.024493\n",
      "Cost after epoch 97: 0.023835\n",
      "Cost after epoch 98: 0.023878\n",
      "Cost after epoch 99: 0.023418\n"
     ]
    }
   ],
   "source": [
    "parameters = initialize_parameters(layers_dims)\n",
    "parameters_scaled = train_model(X_train, y_train, parameters, learning_rate=0.01, l1_term=0.001, self_scale=True, num_epochs=100, print_cost=True)"
   ]
  },
  {
   "cell_type": "code",
   "execution_count": 117,
   "metadata": {},
   "outputs": [
    {
     "data": {
      "text/plain": [
       "[784, 8, 12, 1]"
      ]
     },
     "execution_count": 117,
     "metadata": {},
     "output_type": "execute_result"
    }
   ],
   "source": [
    "parameters_pruned = copy.deepcopy(parameters_scaled)\n",
    "prune_parameters(parameters_pruned)\n",
    "get_layer_sizes(parameters_pruned)"
   ]
  },
  {
   "cell_type": "code",
   "execution_count": 118,
   "metadata": {},
   "outputs": [],
   "source": [
    "layers_dims = [784, 100, 100, 1]"
   ]
  },
  {
   "cell_type": "code",
   "execution_count": 119,
   "metadata": {},
   "outputs": [
    {
     "name": "stdout",
     "output_type": "stream",
     "text": [
      "Cost after epoch 0: 0.690337\n",
      "Cost after epoch 1: 0.528154\n",
      "Cost after epoch 2: 0.467875\n",
      "Cost after epoch 3: 0.443347\n",
      "Cost after epoch 4: 0.430120\n",
      "Cost after epoch 5: 0.416833\n",
      "Cost after epoch 6: 0.389002\n",
      "Cost after epoch 7: 0.338527\n",
      "Cost after epoch 8: 0.300451\n",
      "Cost after epoch 9: 0.271006\n",
      "Cost after epoch 10: 0.245603\n",
      "Cost after epoch 11: 0.224083\n",
      "Cost after epoch 12: 0.205855\n",
      "Cost after epoch 13: 0.190307\n",
      "Cost after epoch 14: 0.176630\n",
      "Cost after epoch 15: 0.163583\n",
      "Cost after epoch 16: 0.150328\n",
      "Cost after epoch 17: 0.134241\n",
      "Cost after epoch 18: 0.114823\n",
      "Cost after epoch 19: 0.100922\n",
      "Cost after epoch 20: 0.094499\n",
      "Cost after epoch 21: 0.091466\n",
      "Cost after epoch 22: 0.089254\n",
      "Cost after epoch 23: 0.087176\n",
      "Cost after epoch 24: 0.085483\n",
      "Cost after epoch 25: 0.083792\n",
      "Cost after epoch 26: 0.082154\n",
      "Cost after epoch 27: 0.080512\n",
      "Cost after epoch 28: 0.079083\n",
      "Cost after epoch 29: 0.077673\n",
      "Cost after epoch 30: 0.076255\n",
      "Cost after epoch 31: 0.074938\n",
      "Cost after epoch 32: 0.073707\n",
      "Cost after epoch 33: 0.072505\n",
      "Cost after epoch 34: 0.071316\n",
      "Cost after epoch 35: 0.070200\n",
      "Cost after epoch 36: 0.069153\n",
      "Cost after epoch 37: 0.068121\n",
      "Cost after epoch 38: 0.067043\n",
      "Cost after epoch 39: 0.065982\n",
      "Cost after epoch 40: 0.064823\n",
      "Cost after epoch 41: 0.063725\n",
      "Cost after epoch 42: 0.062710\n",
      "Cost after epoch 43: 0.061651\n",
      "Cost after epoch 44: 0.060502\n",
      "Cost after epoch 45: 0.059353\n",
      "Cost after epoch 46: 0.058093\n",
      "Cost after epoch 47: 0.056766\n",
      "Cost after epoch 48: 0.055432\n",
      "Cost after epoch 49: 0.053842\n",
      "Cost after epoch 50: 0.052151\n",
      "Cost after epoch 51: 0.050563\n",
      "Cost after epoch 52: 0.049006\n",
      "Cost after epoch 53: 0.047860\n",
      "Cost after epoch 54: 0.046749\n",
      "Cost after epoch 55: 0.045581\n",
      "Cost after epoch 56: 0.044444\n",
      "Cost after epoch 57: 0.043400\n",
      "Cost after epoch 58: 0.042639\n",
      "Cost after epoch 59: 0.042144\n",
      "Cost after epoch 60: 0.041616\n",
      "Cost after epoch 61: 0.041324\n",
      "Cost after epoch 62: 0.041135\n",
      "Cost after epoch 63: 0.040944\n",
      "Cost after epoch 64: 0.040915\n",
      "Cost after epoch 65: 0.040817\n",
      "Cost after epoch 66: 0.040942\n",
      "Cost after epoch 67: 0.041122\n",
      "Cost after epoch 68: 0.041232\n",
      "Cost after epoch 69: 0.041557\n",
      "Cost after epoch 70: 0.041898\n",
      "Cost after epoch 71: 0.042242\n",
      "Cost after epoch 72: 0.042259\n",
      "Cost after epoch 73: 0.042211\n",
      "Cost after epoch 74: 0.042476\n",
      "Cost after epoch 75: 0.042971\n",
      "Cost after epoch 76: 0.043196\n",
      "Cost after epoch 77: 0.043279\n",
      "Cost after epoch 78: 0.044306\n",
      "Cost after epoch 79: 0.042592\n",
      "Cost after epoch 80: 0.040370\n",
      "Cost after epoch 81: 0.038559\n",
      "Cost after epoch 82: 0.035591\n",
      "Cost after epoch 83: 0.033401\n",
      "Cost after epoch 84: 0.032306\n",
      "Cost after epoch 85: 0.031261\n",
      "Cost after epoch 86: 0.030267\n",
      "Cost after epoch 87: 0.030392\n",
      "Cost after epoch 88: 0.029374\n",
      "Cost after epoch 89: 0.029089\n",
      "Cost after epoch 90: 0.028397\n",
      "Cost after epoch 91: 0.028298\n",
      "Cost after epoch 92: 0.027503\n",
      "Cost after epoch 93: 0.026671\n",
      "Cost after epoch 94: 0.026102\n",
      "Cost after epoch 95: 0.025223\n",
      "Cost after epoch 96: 0.025237\n",
      "Cost after epoch 97: 0.024913\n",
      "Cost after epoch 98: 0.024609\n",
      "Cost after epoch 99: 0.024378\n"
     ]
    }
   ],
   "source": [
    "parameters = initialize_parameters(layers_dims)\n",
    "parameters_scaled = train_model(X_train, y_train, parameters, learning_rate=0.01, l1_term=0.001, self_scale=True, num_epochs=100, print_cost=True)"
   ]
  },
  {
   "cell_type": "code",
   "execution_count": 120,
   "metadata": {},
   "outputs": [
    {
     "data": {
      "text/plain": [
       "[784, 10, 16, 1]"
      ]
     },
     "execution_count": 120,
     "metadata": {},
     "output_type": "execute_result"
    }
   ],
   "source": [
    "parameters_pruned = copy.deepcopy(parameters_scaled)\n",
    "prune_parameters(parameters_pruned)\n",
    "get_layer_sizes(parameters_pruned)"
   ]
  },
  {
   "cell_type": "code",
   "execution_count": 121,
   "metadata": {},
   "outputs": [],
   "source": [
    "layers_dims = [784, 300, 300, 1]"
   ]
  },
  {
   "cell_type": "code",
   "execution_count": 122,
   "metadata": {},
   "outputs": [
    {
     "name": "stdout",
     "output_type": "stream",
     "text": [
      "Cost after epoch 0: 1.098841\n",
      "Cost after epoch 1: 0.587784\n",
      "Cost after epoch 2: 0.494406\n",
      "Cost after epoch 3: 0.463500\n",
      "Cost after epoch 4: 0.449631\n",
      "Cost after epoch 5: 0.442349\n",
      "Cost after epoch 6: 0.437789\n",
      "Cost after epoch 7: 0.434503\n",
      "Cost after epoch 8: 0.430655\n",
      "Cost after epoch 9: 0.423373\n",
      "Cost after epoch 10: 0.402940\n",
      "Cost after epoch 11: 0.359627\n",
      "Cost after epoch 12: 0.318269\n",
      "Cost after epoch 13: 0.287682\n",
      "Cost after epoch 14: 0.261287\n",
      "Cost after epoch 15: 0.238261\n",
      "Cost after epoch 16: 0.217529\n",
      "Cost after epoch 17: 0.198610\n",
      "Cost after epoch 18: 0.177072\n",
      "Cost after epoch 19: 0.146617\n",
      "Cost after epoch 20: 0.118679\n",
      "Cost after epoch 21: 0.108829\n",
      "Cost after epoch 22: 0.105467\n",
      "Cost after epoch 23: 0.103294\n",
      "Cost after epoch 24: 0.101530\n",
      "Cost after epoch 25: 0.100046\n",
      "Cost after epoch 26: 0.098677\n",
      "Cost after epoch 27: 0.097494\n",
      "Cost after epoch 28: 0.096385\n",
      "Cost after epoch 29: 0.095460\n",
      "Cost after epoch 30: 0.094646\n",
      "Cost after epoch 31: 0.093996\n",
      "Cost after epoch 32: 0.093388\n",
      "Cost after epoch 33: 0.092866\n",
      "Cost after epoch 34: 0.092296\n",
      "Cost after epoch 35: 0.091871\n",
      "Cost after epoch 36: 0.091457\n",
      "Cost after epoch 37: 0.091173\n",
      "Cost after epoch 38: 0.090883\n",
      "Cost after epoch 39: 0.090687\n",
      "Cost after epoch 40: 0.090448\n",
      "Cost after epoch 41: 0.090263\n",
      "Cost after epoch 42: 0.090035\n",
      "Cost after epoch 43: 0.089872\n",
      "Cost after epoch 44: 0.089635\n",
      "Cost after epoch 45: 0.089455\n",
      "Cost after epoch 46: 0.089237\n",
      "Cost after epoch 47: 0.089061\n",
      "Cost after epoch 48: 0.088838\n",
      "Cost after epoch 49: 0.088642\n",
      "Cost after epoch 50: 0.088386\n",
      "Cost after epoch 51: 0.088221\n",
      "Cost after epoch 52: 0.088014\n",
      "Cost after epoch 53: 0.087850\n",
      "Cost after epoch 54: 0.087614\n",
      "Cost after epoch 55: 0.087369\n",
      "Cost after epoch 56: 0.087013\n",
      "Cost after epoch 57: 0.086655\n",
      "Cost after epoch 58: 0.086213\n",
      "Cost after epoch 59: 0.085781\n",
      "Cost after epoch 60: 0.085247\n",
      "Cost after epoch 61: 0.084751\n",
      "Cost after epoch 62: 0.084184\n",
      "Cost after epoch 63: 0.083522\n",
      "Cost after epoch 64: 0.082707\n",
      "Cost after epoch 65: 0.081954\n",
      "Cost after epoch 66: 0.081052\n",
      "Cost after epoch 67: 0.080034\n",
      "Cost after epoch 68: 0.079021\n",
      "Cost after epoch 69: 0.077943\n",
      "Cost after epoch 70: 0.076554\n",
      "Cost after epoch 71: 0.075320\n",
      "Cost after epoch 72: 0.073990\n",
      "Cost after epoch 73: 0.072224\n",
      "Cost after epoch 74: 0.070156\n",
      "Cost after epoch 75: 0.067673\n",
      "Cost after epoch 76: 0.064756\n",
      "Cost after epoch 77: 0.061709\n",
      "Cost after epoch 78: 0.058772\n",
      "Cost after epoch 79: 0.055922\n",
      "Cost after epoch 80: 0.053336\n",
      "Cost after epoch 81: 0.051092\n",
      "Cost after epoch 82: 0.049547\n",
      "Cost after epoch 83: 0.048106\n",
      "Cost after epoch 84: 0.046847\n",
      "Cost after epoch 85: 0.045742\n",
      "Cost after epoch 86: 0.044505\n",
      "Cost after epoch 87: 0.043666\n",
      "Cost after epoch 88: 0.042979\n",
      "Cost after epoch 89: 0.042214\n",
      "Cost after epoch 90: 0.041504\n",
      "Cost after epoch 91: 0.041062\n",
      "Cost after epoch 92: 0.040721\n",
      "Cost after epoch 93: 0.040550\n",
      "Cost after epoch 94: 0.040173\n",
      "Cost after epoch 95: 0.039974\n",
      "Cost after epoch 96: 0.039519\n",
      "Cost after epoch 97: 0.039577\n",
      "Cost after epoch 98: 0.039354\n",
      "Cost after epoch 99: 0.039234\n"
     ]
    }
   ],
   "source": [
    "parameters = initialize_parameters(layers_dims)\n",
    "parameters_scaled = train_model(X_train, y_train, parameters, learning_rate=0.01, l1_term=0.001, self_scale=True, num_epochs=100, print_cost=True)"
   ]
  },
  {
   "cell_type": "code",
   "execution_count": 123,
   "metadata": {},
   "outputs": [
    {
     "data": {
      "text/plain": [
       "[784, 6, 17, 1]"
      ]
     },
     "execution_count": 123,
     "metadata": {},
     "output_type": "execute_result"
    }
   ],
   "source": [
    "parameters_pruned = copy.deepcopy(parameters_scaled)\n",
    "prune_parameters(parameters_pruned)\n",
    "get_layer_sizes(parameters_pruned)"
   ]
  },
  {
   "cell_type": "code",
   "execution_count": 139,
   "metadata": {},
   "outputs": [],
   "source": [
    "layers_dims = [784, 30, 30, 30, 30, 1]"
   ]
  },
  {
   "cell_type": "code",
   "execution_count": 140,
   "metadata": {},
   "outputs": [
    {
     "name": "stdout",
     "output_type": "stream",
     "text": [
      "Cost after epoch 0: 0.114727\n",
      "Cost after epoch 1: 0.081783\n",
      "Cost after epoch 2: 0.075709\n",
      "Cost after epoch 3: 0.069597\n",
      "Cost after epoch 4: 0.064551\n",
      "Cost after epoch 5: 0.059956\n",
      "Cost after epoch 6: 0.056500\n",
      "Cost after epoch 7: 0.051898\n",
      "Cost after epoch 8: 0.046910\n",
      "Cost after epoch 9: 0.042092\n",
      "Cost after epoch 10: 0.037787\n",
      "Cost after epoch 11: 0.032170\n",
      "Cost after epoch 12: 0.027723\n",
      "Cost after epoch 13: 0.024651\n",
      "Cost after epoch 14: 0.022567\n",
      "Cost after epoch 15: 0.021222\n",
      "Cost after epoch 16: 0.019337\n",
      "Cost after epoch 17: 0.018867\n",
      "Cost after epoch 18: 0.017991\n",
      "Cost after epoch 19: 0.017021\n",
      "Cost after epoch 20: 0.015905\n",
      "Cost after epoch 21: 0.016125\n",
      "Cost after epoch 22: 0.014952\n",
      "Cost after epoch 23: 0.014667\n",
      "Cost after epoch 24: 0.014038\n",
      "Cost after epoch 25: 0.014479\n",
      "Cost after epoch 26: 0.013676\n",
      "Cost after epoch 27: 0.014447\n",
      "Cost after epoch 28: 0.013044\n",
      "Cost after epoch 29: 0.012780\n",
      "Cost after epoch 30: 0.013172\n",
      "Cost after epoch 31: 0.012147\n",
      "Cost after epoch 32: 0.012007\n",
      "Cost after epoch 33: 0.011021\n",
      "Cost after epoch 34: 0.010281\n",
      "Cost after epoch 35: 0.009155\n",
      "Cost after epoch 36: 0.009497\n",
      "Cost after epoch 37: 0.009008\n",
      "Cost after epoch 38: 0.008741\n",
      "Cost after epoch 39: 0.008808\n",
      "Cost after epoch 40: 0.008398\n",
      "Cost after epoch 41: 0.008001\n",
      "Cost after epoch 42: 0.007818\n",
      "Cost after epoch 43: 0.007834\n",
      "Cost after epoch 44: 0.007056\n",
      "Cost after epoch 45: 0.007057\n",
      "Cost after epoch 46: 0.006667\n",
      "Cost after epoch 47: 0.006577\n",
      "Cost after epoch 48: 0.006209\n",
      "Cost after epoch 49: 0.005885\n"
     ]
    }
   ],
   "source": [
    "parameters = initialize_parameters(layers_dims)\n",
    "parameters = train_model(X_train, y_train, parameters, learning_rate=0.01, num_epochs=50, print_cost=True)"
   ]
  },
  {
   "cell_type": "code",
   "execution_count": 141,
   "metadata": {},
   "outputs": [
    {
     "name": "stdout",
     "output_type": "stream",
     "text": [
      "Cost after epoch 0: 1.204507\n",
      "Cost after epoch 1: 0.702536\n",
      "Cost after epoch 2: 0.465317\n",
      "Cost after epoch 3: 0.324011\n",
      "Cost after epoch 4: 0.239803\n",
      "Cost after epoch 5: 0.186542\n",
      "Cost after epoch 6: 0.152760\n",
      "Cost after epoch 7: 0.128173\n",
      "Cost after epoch 8: 0.112982\n",
      "Cost after epoch 9: 0.102243\n",
      "Cost after epoch 10: 0.094568\n",
      "Cost after epoch 11: 0.088688\n",
      "Cost after epoch 12: 0.085035\n",
      "Cost after epoch 13: 0.082324\n",
      "Cost after epoch 14: 0.079405\n",
      "Cost after epoch 15: 0.077286\n",
      "Cost after epoch 16: 0.074538\n",
      "Cost after epoch 17: 0.071969\n",
      "Cost after epoch 18: 0.070912\n",
      "Cost after epoch 19: 0.070955\n",
      "Cost after epoch 20: 0.068474\n",
      "Cost after epoch 21: 0.068026\n",
      "Cost after epoch 22: 0.064792\n",
      "Cost after epoch 23: 0.063738\n",
      "Cost after epoch 24: 0.063600\n",
      "Cost after epoch 25: 0.064194\n",
      "Cost after epoch 26: 0.063469\n",
      "Cost after epoch 27: 0.063158\n",
      "Cost after epoch 28: 0.059186\n",
      "Cost after epoch 29: 0.060481\n",
      "Cost after epoch 30: 0.056796\n",
      "Cost after epoch 31: 0.055693\n",
      "Cost after epoch 32: 0.056462\n",
      "Cost after epoch 33: 0.055034\n",
      "Cost after epoch 34: 0.054330\n",
      "Cost after epoch 35: 0.052702\n",
      "Cost after epoch 36: 0.054331\n",
      "Cost after epoch 37: 0.056692\n",
      "Cost after epoch 38: 0.054347\n",
      "Cost after epoch 39: 0.054313\n",
      "Cost after epoch 40: 0.052667\n",
      "Cost after epoch 41: 0.050760\n",
      "Cost after epoch 42: 0.051635\n",
      "Cost after epoch 43: 0.050589\n",
      "Cost after epoch 44: 0.050789\n",
      "Cost after epoch 45: 0.050475\n",
      "Cost after epoch 46: 0.050025\n",
      "Cost after epoch 47: 0.051281\n",
      "Cost after epoch 48: 0.049028\n",
      "Cost after epoch 49: 0.048638\n"
     ]
    }
   ],
   "source": [
    "parameters = initialize_parameters(layers_dims)\n",
    "parameters_scaled = train_model(X_train, y_train, parameters, learning_rate=0.05, l1_term=0.01, self_scale=True, num_epochs=50, print_cost=True)"
   ]
  },
  {
   "cell_type": "code",
   "execution_count": 142,
   "metadata": {},
   "outputs": [
    {
     "data": {
      "text/plain": [
       "[784, 26, 25, 21, 20, 1]"
      ]
     },
     "execution_count": 142,
     "metadata": {},
     "output_type": "execute_result"
    }
   ],
   "source": [
    "parameters_pruned = copy.deepcopy(parameters_scaled)\n",
    "prune_parameters(parameters_pruned)\n",
    "get_layer_sizes(parameters_pruned)"
   ]
  },
  {
   "cell_type": "code",
   "execution_count": 143,
   "metadata": {},
   "outputs": [
    {
     "name": "stdout",
     "output_type": "stream",
     "text": [
      "Cost after epoch 0: 1.345815\n",
      "Cost after epoch 1: 0.600339\n",
      "Cost after epoch 2: 0.341344\n",
      "Cost after epoch 3: 0.237412\n",
      "Cost after epoch 4: 0.191988\n",
      "Cost after epoch 5: 0.165058\n",
      "Cost after epoch 6: 0.146758\n",
      "Cost after epoch 7: 0.134638\n",
      "Cost after epoch 8: 0.124084\n",
      "Cost after epoch 9: 0.115949\n",
      "Cost after epoch 10: 0.108598\n",
      "Cost after epoch 11: 0.104465\n",
      "Cost after epoch 12: 0.102160\n",
      "Cost after epoch 13: 0.100272\n",
      "Cost after epoch 14: 0.101497\n",
      "Cost after epoch 15: 0.099944\n",
      "Cost after epoch 16: 0.099155\n",
      "Cost after epoch 17: 0.100790\n",
      "Cost after epoch 18: 0.102140\n",
      "Cost after epoch 19: 0.104050\n",
      "Cost after epoch 20: 0.105863\n",
      "Cost after epoch 21: 0.106246\n",
      "Cost after epoch 22: 0.106878\n",
      "Cost after epoch 23: 0.106351\n",
      "Cost after epoch 24: 0.106943\n",
      "Cost after epoch 25: 0.105367\n",
      "Cost after epoch 26: 0.098839\n",
      "Cost after epoch 27: 0.102132\n",
      "Cost after epoch 28: 0.102630\n",
      "Cost after epoch 29: 0.101065\n",
      "Cost after epoch 30: 0.104618\n",
      "Cost after epoch 31: 0.105331\n",
      "Cost after epoch 32: 0.106598\n",
      "Cost after epoch 33: 0.105377\n",
      "Cost after epoch 34: 0.108448\n",
      "Cost after epoch 35: 0.108753\n",
      "Cost after epoch 36: 0.108985\n",
      "Cost after epoch 37: 0.105145\n",
      "Cost after epoch 38: 0.101707\n",
      "Cost after epoch 39: 0.097552\n",
      "Cost after epoch 40: 0.095607\n",
      "Cost after epoch 41: 0.092767\n",
      "Cost after epoch 42: 0.091139\n",
      "Cost after epoch 43: 0.088411\n",
      "Cost after epoch 44: 0.080434\n",
      "Cost after epoch 45: 0.075414\n",
      "Cost after epoch 46: 0.072593\n",
      "Cost after epoch 47: 0.067201\n",
      "Cost after epoch 48: 0.063897\n",
      "Cost after epoch 49: 0.060132\n"
     ]
    }
   ],
   "source": [
    "parameters = initialize_parameters(layers_dims)\n",
    "parameters_scaled = train_model(X_train, y_train, parameters, learning_rate=0.05, l1_term=0.02, self_scale=True, num_epochs=50, print_cost=True)"
   ]
  },
  {
   "cell_type": "code",
   "execution_count": 144,
   "metadata": {},
   "outputs": [
    {
     "data": {
      "text/plain": [
       "[784, 27, 28, 27, 27, 1]"
      ]
     },
     "execution_count": 144,
     "metadata": {},
     "output_type": "execute_result"
    }
   ],
   "source": [
    "parameters_pruned = copy.deepcopy(parameters_scaled)\n",
    "prune_parameters(parameters_pruned)\n",
    "get_layer_sizes(parameters_pruned)"
   ]
  },
  {
   "cell_type": "code",
   "execution_count": 145,
   "metadata": {},
   "outputs": [
    {
     "name": "stdout",
     "output_type": "stream",
     "text": [
      "Cost after epoch 0: 1.064458\n",
      "Cost after epoch 1: 0.441322\n",
      "Cost after epoch 2: 0.320645\n",
      "Cost after epoch 3: 0.270691\n",
      "Cost after epoch 4: 0.246589\n",
      "Cost after epoch 5: 0.233894\n",
      "Cost after epoch 6: 0.225029\n",
      "Cost after epoch 7: 0.218778\n",
      "Cost after epoch 8: 0.213735\n",
      "Cost after epoch 9: 0.210501\n",
      "Cost after epoch 10: 0.207507\n",
      "Cost after epoch 11: 0.205485\n",
      "Cost after epoch 12: 0.203641\n",
      "Cost after epoch 13: 0.202985\n",
      "Cost after epoch 14: 0.201595\n",
      "Cost after epoch 15: 0.200351\n",
      "Cost after epoch 16: 0.199165\n",
      "Cost after epoch 17: 0.198939\n",
      "Cost after epoch 18: 0.198127\n",
      "Cost after epoch 19: 0.197760\n",
      "Cost after epoch 20: 0.197054\n",
      "Cost after epoch 21: 0.196521\n",
      "Cost after epoch 22: 0.195868\n",
      "Cost after epoch 23: 0.195733\n",
      "Cost after epoch 24: 0.195140\n",
      "Cost after epoch 25: 0.195129\n",
      "Cost after epoch 26: 0.194692\n",
      "Cost after epoch 27: 0.195037\n",
      "Cost after epoch 28: 0.194614\n",
      "Cost after epoch 29: 0.194642\n",
      "Cost after epoch 30: 0.194371\n",
      "Cost after epoch 31: 0.194414\n",
      "Cost after epoch 32: 0.194022\n",
      "Cost after epoch 33: 0.194066\n",
      "Cost after epoch 34: 0.193508\n",
      "Cost after epoch 35: 0.193632\n",
      "Cost after epoch 36: 0.193122\n",
      "Cost after epoch 37: 0.193196\n",
      "Cost after epoch 38: 0.192870\n",
      "Cost after epoch 39: 0.192962\n",
      "Cost after epoch 40: 0.192633\n",
      "Cost after epoch 41: 0.192615\n",
      "Cost after epoch 42: 0.192335\n",
      "Cost after epoch 43: 0.192353\n",
      "Cost after epoch 44: 0.192101\n",
      "Cost after epoch 45: 0.192132\n",
      "Cost after epoch 46: 0.191846\n",
      "Cost after epoch 47: 0.192006\n",
      "Cost after epoch 48: 0.191664\n",
      "Cost after epoch 49: 0.191660\n"
     ]
    }
   ],
   "source": [
    "parameters = initialize_parameters(layers_dims)\n",
    "parameters_scaled = train_model(X_train, y_train, parameters, learning_rate=0.05, l1_term=0.05, self_scale=True, num_epochs=50, print_cost=True)"
   ]
  },
  {
   "cell_type": "code",
   "execution_count": 146,
   "metadata": {},
   "outputs": [
    {
     "data": {
      "text/plain": [
       "[784, 28, 28, 29, 29, 1]"
      ]
     },
     "execution_count": 146,
     "metadata": {},
     "output_type": "execute_result"
    }
   ],
   "source": [
    "parameters_pruned = copy.deepcopy(parameters_scaled)\n",
    "prune_parameters(parameters_pruned)\n",
    "get_layer_sizes(parameters_pruned)"
   ]
  },
  {
   "cell_type": "code",
   "execution_count": 149,
   "metadata": {},
   "outputs": [
    {
     "name": "stdout",
     "output_type": "stream",
     "text": [
      "Cost after epoch 0: 1.204507\n",
      "Cost after epoch 1: 0.702536\n",
      "Cost after epoch 2: 0.465317\n",
      "Cost after epoch 3: 0.324011\n",
      "Cost after epoch 4: 0.239803\n",
      "Cost after epoch 5: 0.186542\n",
      "Cost after epoch 6: 0.152760\n",
      "Cost after epoch 7: 0.128173\n",
      "Cost after epoch 8: 0.112982\n",
      "Cost after epoch 9: 0.102243\n",
      "Cost after epoch 10: 0.094568\n",
      "Cost after epoch 11: 0.088688\n",
      "Cost after epoch 12: 0.085035\n",
      "Cost after epoch 13: 0.082324\n",
      "Cost after epoch 14: 0.079405\n",
      "Cost after epoch 15: 0.077286\n",
      "Cost after epoch 16: 0.074538\n",
      "Cost after epoch 17: 0.071969\n",
      "Cost after epoch 18: 0.070912\n",
      "Cost after epoch 19: 0.070955\n",
      "Cost after epoch 20: 0.068474\n",
      "Cost after epoch 21: 0.068026\n",
      "Cost after epoch 22: 0.064792\n",
      "Cost after epoch 23: 0.063738\n",
      "Cost after epoch 24: 0.063600\n",
      "Cost after epoch 25: 0.064194\n",
      "Cost after epoch 26: 0.063469\n",
      "Cost after epoch 27: 0.063158\n",
      "Cost after epoch 28: 0.059186\n",
      "Cost after epoch 29: 0.060481\n",
      "Cost after epoch 30: 0.056796\n",
      "Cost after epoch 31: 0.055693\n",
      "Cost after epoch 32: 0.056462\n",
      "Cost after epoch 33: 0.055034\n",
      "Cost after epoch 34: 0.054330\n",
      "Cost after epoch 35: 0.052702\n",
      "Cost after epoch 36: 0.054331\n",
      "Cost after epoch 37: 0.056692\n",
      "Cost after epoch 38: 0.054347\n",
      "Cost after epoch 39: 0.054313\n",
      "Cost after epoch 40: 0.052667\n",
      "Cost after epoch 41: 0.050760\n",
      "Cost after epoch 42: 0.051635\n",
      "Cost after epoch 43: 0.050589\n",
      "Cost after epoch 44: 0.050789\n",
      "Cost after epoch 45: 0.050475\n",
      "Cost after epoch 46: 0.050025\n",
      "Cost after epoch 47: 0.051281\n",
      "Cost after epoch 48: 0.049028\n",
      "Cost after epoch 49: 0.048638\n"
     ]
    }
   ],
   "source": [
    "parameters = initialize_parameters(layers_dims)\n",
    "parameters_scaled = train_model(X_train, y_train, parameters, learning_rate=0.05, l1_term=0.01, self_scale=True, num_epochs=50, print_cost=True)"
   ]
  },
  {
   "cell_type": "code",
   "execution_count": 150,
   "metadata": {},
   "outputs": [
    {
     "data": {
      "text/plain": [
       "[784, 26, 25, 21, 20, 1]"
      ]
     },
     "execution_count": 150,
     "metadata": {},
     "output_type": "execute_result"
    }
   ],
   "source": [
    "parameters_pruned = copy.deepcopy(parameters_scaled)\n",
    "prune_parameters(parameters_pruned)\n",
    "get_layer_sizes(parameters_pruned)"
   ]
  },
  {
   "cell_type": "code",
   "execution_count": 164,
   "metadata": {},
   "outputs": [
    {
     "name": "stdout",
     "output_type": "stream",
     "text": [
      "Cost after epoch 0: 4.127828\n",
      "Cost after epoch 1: 2.709638\n",
      "Cost after epoch 2: 2.018991\n",
      "Cost after epoch 3: 1.609576\n",
      "Cost after epoch 4: 1.323603\n",
      "Cost after epoch 5: 1.101633\n",
      "Cost after epoch 6: 0.927989\n",
      "Cost after epoch 7: 0.787668\n",
      "Cost after epoch 8: 0.674160\n",
      "Cost after epoch 9: 0.583896\n",
      "Cost after epoch 10: 0.511139\n",
      "Cost after epoch 11: 0.451040\n",
      "Cost after epoch 12: 0.400615\n",
      "Cost after epoch 13: 0.359736\n",
      "Cost after epoch 14: 0.325274\n",
      "Cost after epoch 15: 0.297380\n",
      "Cost after epoch 16: 0.273607\n",
      "Cost after epoch 17: 0.253748\n",
      "Cost after epoch 18: 0.236143\n",
      "Cost after epoch 19: 0.221163\n",
      "Cost after epoch 20: 0.208015\n",
      "Cost after epoch 21: 0.197508\n",
      "Cost after epoch 22: 0.188318\n",
      "Cost after epoch 23: 0.180100\n",
      "Cost after epoch 24: 0.172892\n",
      "Cost after epoch 25: 0.166223\n",
      "Cost after epoch 26: 0.160022\n",
      "Cost after epoch 27: 0.154092\n",
      "Cost after epoch 28: 0.149060\n",
      "Cost after epoch 29: 0.144098\n",
      "Cost after epoch 30: 0.139515\n",
      "Cost after epoch 31: 0.135294\n",
      "Cost after epoch 32: 0.131436\n",
      "Cost after epoch 33: 0.127761\n",
      "Cost after epoch 34: 0.124185\n",
      "Cost after epoch 35: 0.121248\n",
      "Cost after epoch 36: 0.118692\n",
      "Cost after epoch 37: 0.116039\n",
      "Cost after epoch 38: 0.113452\n",
      "Cost after epoch 39: 0.111255\n",
      "Cost after epoch 40: 0.109135\n",
      "Cost after epoch 41: 0.107016\n",
      "Cost after epoch 42: 0.105011\n",
      "Cost after epoch 43: 0.103161\n",
      "Cost after epoch 44: 0.101448\n",
      "Cost after epoch 45: 0.099605\n",
      "Cost after epoch 46: 0.098022\n",
      "Cost after epoch 47: 0.096041\n",
      "Cost after epoch 48: 0.094543\n",
      "Cost after epoch 49: 0.093433\n"
     ]
    }
   ],
   "source": [
    "parameters = initialize_parameters(layers_dims)\n",
    "parameters_scaled = train_model(X_train, y_train, parameters, learning_rate=0.01, l1_term=0.02, self_scale=True, num_epochs=50, print_cost=True)"
   ]
  },
  {
   "cell_type": "code",
   "execution_count": 166,
   "metadata": {},
   "outputs": [
    {
     "data": {
      "text/plain": [
       "[784, 3, 9, 7, 9, 1]"
      ]
     },
     "execution_count": 166,
     "metadata": {},
     "output_type": "execute_result"
    }
   ],
   "source": [
    "parameters_pruned = copy.deepcopy(parameters_scaled)\n",
    "prune_parameters(parameters_pruned)\n",
    "get_layer_sizes(parameters_pruned)"
   ]
  },
  {
   "cell_type": "code",
   "execution_count": 167,
   "metadata": {},
   "outputs": [],
   "source": [
    "layers_dims = [784, 100, 100, 100, 1]"
   ]
  },
  {
   "cell_type": "code",
   "execution_count": 168,
   "metadata": {},
   "outputs": [
    {
     "name": "stdout",
     "output_type": "stream",
     "text": [
      "Cost after epoch 0: 0.126844\n",
      "Cost after epoch 1: 0.092782\n",
      "Cost after epoch 2: 0.075689\n",
      "Cost after epoch 3: 0.062928\n",
      "Cost after epoch 4: 0.053096\n",
      "Cost after epoch 5: 0.044541\n",
      "Cost after epoch 6: 0.037548\n",
      "Cost after epoch 7: 0.031860\n",
      "Cost after epoch 8: 0.027086\n",
      "Cost after epoch 9: 0.022841\n",
      "Cost after epoch 10: 0.019416\n",
      "Cost after epoch 11: 0.016778\n",
      "Cost after epoch 12: 0.014743\n",
      "Cost after epoch 13: 0.012984\n",
      "Cost after epoch 14: 0.011838\n",
      "Cost after epoch 15: 0.011144\n",
      "Cost after epoch 16: 0.010757\n",
      "Cost after epoch 17: 0.010165\n",
      "Cost after epoch 18: 0.010187\n",
      "Cost after epoch 19: 0.009755\n",
      "Cost after epoch 20: 0.009577\n",
      "Cost after epoch 21: 0.009350\n",
      "Cost after epoch 22: 0.009303\n",
      "Cost after epoch 23: 0.009430\n",
      "Cost after epoch 24: 0.009113\n",
      "Cost after epoch 25: 0.009270\n",
      "Cost after epoch 26: 0.009157\n",
      "Cost after epoch 27: 0.008850\n",
      "Cost after epoch 28: 0.009053\n",
      "Cost after epoch 29: 0.008770\n",
      "Cost after epoch 30: 0.008207\n",
      "Cost after epoch 31: 0.008080\n",
      "Cost after epoch 32: 0.007547\n",
      "Cost after epoch 33: 0.007687\n",
      "Cost after epoch 34: 0.007209\n",
      "Cost after epoch 35: 0.006725\n",
      "Cost after epoch 36: 0.006623\n",
      "Cost after epoch 37: 0.006175\n",
      "Cost after epoch 38: 0.006018\n",
      "Cost after epoch 39: 0.005942\n",
      "Cost after epoch 40: 0.005365\n",
      "Cost after epoch 41: 0.005469\n",
      "Cost after epoch 42: 0.005280\n",
      "Cost after epoch 43: 0.004927\n",
      "Cost after epoch 44: 0.004966\n",
      "Cost after epoch 45: 0.004589\n",
      "Cost after epoch 46: 0.004572\n",
      "Cost after epoch 47: 0.004095\n",
      "Cost after epoch 48: 0.004186\n",
      "Cost after epoch 49: 0.003902\n"
     ]
    }
   ],
   "source": [
    "parameters = initialize_parameters(layers_dims)\n",
    "parameters = train_model(X_train, y_train, parameters, learning_rate=0.01, num_epochs=50, print_cost=True)"
   ]
  },
  {
   "cell_type": "code",
   "execution_count": 172,
   "metadata": {},
   "outputs": [
    {
     "data": {
      "text/plain": [
       "0.9901190476190476"
      ]
     },
     "execution_count": 172,
     "metadata": {},
     "output_type": "execute_result"
    }
   ],
   "source": [
    "measure_accuracy(parameters, X_test, y_test)"
   ]
  },
  {
   "cell_type": "code",
   "execution_count": 183,
   "metadata": {},
   "outputs": [
    {
     "name": "stdout",
     "output_type": "stream",
     "text": [
      "Cost after epoch 0: 16.463566\n",
      "Cost after epoch 1: 8.052324\n",
      "Cost after epoch 2: 4.595731\n",
      "Cost after epoch 3: 2.892695\n",
      "Cost after epoch 4: 1.967680\n",
      "Cost after epoch 5: 1.433169\n",
      "Cost after epoch 6: 1.108886\n",
      "Cost after epoch 7: 0.900140\n",
      "Cost after epoch 8: 0.756705\n",
      "Cost after epoch 9: 0.653801\n",
      "Cost after epoch 10: 0.577227\n",
      "Cost after epoch 11: 0.517888\n",
      "Cost after epoch 12: 0.469832\n",
      "Cost after epoch 13: 0.429210\n",
      "Cost after epoch 14: 0.395551\n",
      "Cost after epoch 15: 0.368202\n",
      "Cost after epoch 16: 0.344499\n",
      "Cost after epoch 17: 0.323962\n",
      "Cost after epoch 18: 0.304922\n",
      "Cost after epoch 19: 0.288156\n",
      "Cost after epoch 20: 0.273631\n",
      "Cost after epoch 21: 0.260428\n",
      "Cost after epoch 22: 0.248806\n",
      "Cost after epoch 23: 0.238602\n",
      "Cost after epoch 24: 0.228801\n",
      "Cost after epoch 25: 0.219764\n",
      "Cost after epoch 26: 0.211196\n",
      "Cost after epoch 27: 0.203943\n",
      "Cost after epoch 28: 0.196823\n",
      "Cost after epoch 29: 0.190800\n",
      "Cost after epoch 30: 0.184650\n",
      "Cost after epoch 31: 0.179373\n",
      "Cost after epoch 32: 0.174118\n",
      "Cost after epoch 33: 0.169359\n",
      "Cost after epoch 34: 0.164871\n",
      "Cost after epoch 35: 0.160619\n",
      "Cost after epoch 36: 0.156674\n",
      "Cost after epoch 37: 0.153338\n",
      "Cost after epoch 38: 0.149776\n",
      "Cost after epoch 39: 0.146735\n",
      "Cost after epoch 40: 0.144050\n",
      "Cost after epoch 41: 0.141635\n",
      "Cost after epoch 42: 0.139252\n",
      "Cost after epoch 43: 0.137151\n",
      "Cost after epoch 44: 0.135241\n",
      "Cost after epoch 45: 0.133763\n",
      "Cost after epoch 46: 0.131781\n",
      "Cost after epoch 47: 0.130191\n",
      "Cost after epoch 48: 0.128722\n",
      "Cost after epoch 49: 0.127534\n"
     ]
    }
   ],
   "source": [
    "parameters_saved = copy.deepcopy(parameters)\n",
    "parameters_scaled = train_model(X_train, y_train, parameters_saved, learning_rate=0.01, l1_term=0.01, self_scale=True, num_epochs=50, print_cost=True)"
   ]
  },
  {
   "cell_type": "code",
   "execution_count": 184,
   "metadata": {},
   "outputs": [
    {
     "data": {
      "text/plain": [
       "0.9839285714285714"
      ]
     },
     "execution_count": 184,
     "metadata": {},
     "output_type": "execute_result"
    }
   ],
   "source": [
    "measure_accuracy(parameters_scaled, X_test, y_test)"
   ]
  },
  {
   "cell_type": "code",
   "execution_count": 185,
   "metadata": {},
   "outputs": [
    {
     "data": {
      "text/plain": [
       "[784, 7, 11, 17, 1]"
      ]
     },
     "execution_count": 185,
     "metadata": {},
     "output_type": "execute_result"
    }
   ],
   "source": [
    "parameters_pruned = copy.deepcopy(parameters_scaled)\n",
    "prune_parameters(parameters_pruned)\n",
    "get_layer_sizes(parameters_pruned)"
   ]
  },
  {
   "cell_type": "code",
   "execution_count": 186,
   "metadata": {},
   "outputs": [
    {
     "data": {
      "text/plain": [
       "0.9839285714285714"
      ]
     },
     "execution_count": 186,
     "metadata": {},
     "output_type": "execute_result"
    }
   ],
   "source": [
    "measure_accuracy(parameters_pruned, X_test, y_test)"
   ]
  },
  {
   "cell_type": "markdown",
   "metadata": {},
   "source": [
    "# Growing new neurons"
   ]
  },
  {
   "cell_type": "code",
   "execution_count": 90,
   "metadata": {},
   "outputs": [],
   "source": [
    "layers_dims = [784, 50, 50, 1]"
   ]
  },
  {
   "cell_type": "code",
   "execution_count": 91,
   "metadata": {},
   "outputs": [
    {
     "name": "stdout",
     "output_type": "stream",
     "text": [
      "Cost after epoch 0: 3.412740\n",
      "Cost after epoch 1: 1.768941\n",
      "Cost after epoch 2: 1.142886\n",
      "Cost after epoch 3: 0.823801\n",
      "Cost after epoch 4: 0.630019\n",
      "Cost after epoch 5: 0.502650\n",
      "Cost after epoch 6: 0.408973\n",
      "Cost after epoch 7: 0.339460\n",
      "Cost after epoch 8: 0.287571\n",
      "Cost after epoch 9: 0.247972\n",
      "Cost after epoch 10: 0.216873\n",
      "Cost after epoch 11: 0.192227\n",
      "Cost after epoch 12: 0.173495\n",
      "Cost after epoch 13: 0.159292\n",
      "Cost after epoch 14: 0.147956\n",
      "Cost after epoch 15: 0.138549\n",
      "Cost after epoch 16: 0.130864\n",
      "Cost after epoch 17: 0.124950\n",
      "Cost after epoch 18: 0.119182\n",
      "Cost after epoch 19: 0.114280\n"
     ]
    }
   ],
   "source": [
    "parameters = initialize_parameters(layers_dims)\n",
    "parameters = train_model(X_train_fm, y_train_fm, parameters, learning_rate=0.01, l1_term=0.01, self_scale=True, num_epochs=20, print_cost=True)"
   ]
  },
  {
   "cell_type": "code",
   "execution_count": 93,
   "metadata": {},
   "outputs": [
    {
     "data": {
      "text/plain": [
       "0.9495"
      ]
     },
     "execution_count": 93,
     "metadata": {},
     "output_type": "execute_result"
    }
   ],
   "source": [
    "measure_accuracy(parameters, X_test_fm, y_test_fm)"
   ]
  },
  {
   "cell_type": "code",
   "execution_count": 95,
   "metadata": {},
   "outputs": [
    {
     "data": {
      "text/plain": [
       "[784, 11, 22, 1]"
      ]
     },
     "execution_count": 95,
     "metadata": {},
     "output_type": "execute_result"
    }
   ],
   "source": [
    "parameters_pruned = copy.deepcopy(parameters)\n",
    "prune_neurons(parameters_pruned)\n",
    "get_layer_sizes(parameters_pruned)"
   ]
  },
  {
   "cell_type": "code",
   "execution_count": 96,
   "metadata": {},
   "outputs": [
    {
     "data": {
      "text/plain": [
       "0.9496666666666667"
      ]
     },
     "execution_count": 96,
     "metadata": {},
     "output_type": "execute_result"
    }
   ],
   "source": [
    "measure_accuracy(parameters_pruned, X_test_fm, y_test_fm)"
   ]
  },
  {
   "cell_type": "code",
   "execution_count": 99,
   "metadata": {},
   "outputs": [
    {
     "data": {
      "text/plain": [
       "array([1.88135405e-01, 1.56810175e-01, 1.04703038e-01, 8.28299611e-02,\n",
       "       1.07520263e-01, 8.37034852e-02, 6.28041245e-02, 1.15417144e-02,\n",
       "       1.70342579e-02, 3.39344306e-05, 1.68211614e-05, 6.86105072e-03,\n",
       "       2.93882788e-05, 1.52021028e-01, 3.40702449e-05, 4.85909763e-05,\n",
       "       3.60227907e-05, 2.64488518e-05, 2.80710082e-05, 2.96848872e-05,\n",
       "       5.59600558e-05, 3.28096515e-05, 4.03310802e-05, 3.58965466e-05,\n",
       "       5.52691439e-05, 3.89635513e-05, 6.97411841e-05, 4.68680406e-05,\n",
       "       8.43032294e-05, 4.52863464e-05, 4.68263008e-05, 9.50175981e-05,\n",
       "       4.99853766e-05, 5.15488386e-05, 6.80759386e-05, 7.59469178e-05,\n",
       "       7.08732321e-05, 8.36431089e-05, 6.09872253e-05, 6.09169814e-05,\n",
       "       8.02464551e-05, 1.21334156e-04, 6.55993052e-05, 6.71381795e-05,\n",
       "       6.87859427e-05, 7.02525371e-05, 7.17670842e-05, 7.33173887e-05,\n",
       "       1.08993222e-04, 1.05697766e-04])"
      ]
     },
     "execution_count": 99,
     "metadata": {},
     "output_type": "execute_result"
    }
   ],
   "source": [
    "np.amax(np.abs(parameters['W1']), 1)"
   ]
  },
  {
   "cell_type": "code",
   "execution_count": 98,
   "metadata": {},
   "outputs": [
    {
     "data": {
      "text/plain": [
       "array([0.18813541, 0.15681018, 0.10470304, 0.08282996, 0.10752026,\n",
       "       0.08370349, 0.06280412, 0.01154171, 0.01703426, 0.00686105,\n",
       "       0.15202103])"
      ]
     },
     "execution_count": 98,
     "metadata": {},
     "output_type": "execute_result"
    }
   ],
   "source": [
    "np.amax(np.abs(parameters_pruned['W1']), 1)"
   ]
  },
  {
   "cell_type": "code",
   "execution_count": null,
   "metadata": {},
   "outputs": [],
   "source": []
  },
  {
   "cell_type": "code",
   "execution_count": null,
   "metadata": {},
   "outputs": [],
   "source": []
  },
  {
   "cell_type": "code",
   "execution_count": null,
   "metadata": {},
   "outputs": [],
   "source": []
  },
  {
   "cell_type": "code",
   "execution_count": 65,
   "metadata": {},
   "outputs": [],
   "source": [
    "layers_dims = [784, 50, 50, 1]"
   ]
  },
  {
   "cell_type": "code",
   "execution_count": 66,
   "metadata": {},
   "outputs": [
    {
     "name": "stdout",
     "output_type": "stream",
     "text": [
      "Cost after epoch 0: 0.057436\n",
      "Cost after epoch 1: 0.054550\n",
      "Cost after epoch 2: 0.054589\n",
      "Cost after epoch 3: 0.053109\n",
      "Cost after epoch 4: 0.051152\n",
      "Cost after epoch 5: 0.050759\n",
      "Cost after epoch 6: 0.049740\n",
      "Cost after epoch 7: 0.048852\n",
      "Cost after epoch 8: 0.047931\n",
      "Cost after epoch 9: 0.047565\n",
      "Cost after epoch 10: 0.047218\n",
      "Cost after epoch 11: 0.046556\n",
      "Cost after epoch 12: 0.046027\n",
      "Cost after epoch 13: 0.045737\n",
      "Cost after epoch 14: 0.046433\n",
      "Cost after epoch 15: 0.047007\n",
      "Cost after epoch 16: 0.046758\n",
      "Cost after epoch 17: 0.046106\n",
      "Cost after epoch 18: 0.046589\n",
      "Cost after epoch 19: 0.046576\n",
      "Cost after epoch 20: 0.045794\n",
      "Cost after epoch 21: 0.046263\n",
      "Cost after epoch 22: 0.045228\n",
      "Cost after epoch 23: 0.045025\n",
      "Cost after epoch 24: 0.044797\n",
      "Cost after epoch 25: 0.044710\n",
      "Cost after epoch 26: 0.044344\n",
      "Cost after epoch 27: 0.044183\n",
      "Cost after epoch 28: 0.044243\n",
      "Cost after epoch 29: 0.043990\n",
      "Cost after epoch 30: 0.042864\n",
      "Cost after epoch 31: 0.042807\n",
      "Cost after epoch 32: 0.043326\n",
      "Cost after epoch 33: 0.042529\n",
      "Cost after epoch 34: 0.042507\n",
      "Cost after epoch 35: 0.043359\n",
      "Cost after epoch 36: 0.043891\n",
      "Cost after epoch 37: 0.044056\n",
      "Cost after epoch 38: 0.044410\n",
      "Cost after epoch 39: 0.043517\n",
      "Cost after epoch 40: 0.043376\n",
      "Cost after epoch 41: 0.043461\n",
      "Cost after epoch 42: 0.043474\n",
      "Cost after epoch 43: 0.043872\n",
      "Cost after epoch 44: 0.042876\n",
      "Cost after epoch 45: 0.042120\n",
      "Cost after epoch 46: 0.043539\n",
      "Cost after epoch 47: 0.043974\n",
      "Cost after epoch 48: 0.044161\n",
      "Cost after epoch 49: 0.043933\n"
     ]
    }
   ],
   "source": [
    "parameters = initialize_parameters(layers_dims)\n",
    "parameters = train_model(X_train_fm, y_train_fm, parameters, learning_rate=0.01, num_epochs=50, print_cost=True)"
   ]
  },
  {
   "cell_type": "code",
   "execution_count": 67,
   "metadata": {},
   "outputs": [
    {
     "data": {
      "text/plain": [
       "0.97125"
      ]
     },
     "execution_count": 67,
     "metadata": {},
     "output_type": "execute_result"
    }
   ],
   "source": [
    "measure_accuracy(parameters, X_train_fm, y_train_fm)"
   ]
  },
  {
   "cell_type": "code",
   "execution_count": 68,
   "metadata": {},
   "outputs": [
    {
     "data": {
      "text/plain": [
       "0.9645833333333333"
      ]
     },
     "execution_count": 68,
     "metadata": {},
     "output_type": "execute_result"
    }
   ],
   "source": [
    "measure_accuracy(parameters, X_test_fm, y_test_fm)"
   ]
  },
  {
   "cell_type": "code",
   "execution_count": 79,
   "metadata": {},
   "outputs": [],
   "source": [
    "layers_dims = [784, 2, 2, 1]"
   ]
  },
  {
   "cell_type": "code",
   "execution_count": 80,
   "metadata": {},
   "outputs": [
    {
     "name": "stdout",
     "output_type": "stream",
     "text": [
      "Cost after epoch 0: 0.227791\n",
      "Cost after epoch 1: 0.050118\n",
      "Cost after epoch 2: 0.042346\n",
      "Cost after epoch 3: 0.042632\n",
      "Cost after epoch 4: 0.043437\n",
      "Cost after epoch 5: 0.044150\n",
      "Cost after epoch 6: 0.044810\n",
      "Cost after epoch 7: 0.045448\n",
      "Cost after epoch 8: 0.046084\n",
      "Cost after epoch 9: 0.046726\n",
      "Cost after epoch 10: 0.047328\n",
      "Cost after epoch 11: 0.047925\n",
      "Cost after epoch 12: 0.048479\n",
      "Cost after epoch 13: 0.048993\n",
      "Cost after epoch 14: 0.049451\n",
      "Cost after epoch 15: 0.049868\n",
      "Cost after epoch 16: 0.050253\n",
      "Cost after epoch 17: 0.050665\n",
      "Cost after epoch 18: 0.050983\n",
      "Cost after epoch 19: 0.051270\n",
      "Cost after epoch 20: 0.051527\n",
      "Cost after epoch 21: 0.051768\n",
      "Cost after epoch 22: 0.051991\n",
      "Cost after epoch 23: 0.052192\n",
      "Cost after epoch 24: 0.052359\n",
      "Cost after epoch 25: 0.052517\n",
      "Cost after epoch 26: 0.052660\n",
      "Cost after epoch 27: 0.052786\n",
      "Cost after epoch 28: 0.052906\n",
      "Cost after epoch 29: 0.053014\n",
      "Cost after epoch 30: 0.053110\n",
      "Cost after epoch 31: 0.053195\n",
      "Cost after epoch 32: 0.053261\n",
      "Cost after epoch 33: 0.053330\n",
      "Cost after epoch 34: 0.053392\n",
      "Cost after epoch 35: 0.053444\n",
      "Cost after epoch 36: 0.053492\n",
      "Cost after epoch 37: 0.053537\n",
      "Cost after epoch 38: 0.053583\n",
      "Cost after epoch 39: 0.053621\n",
      "Cost after epoch 40: 0.053656\n",
      "Cost after epoch 41: 0.053694\n",
      "Cost after epoch 42: 0.053724\n",
      "Cost after epoch 43: 0.053769\n",
      "Cost after epoch 44: 0.053807\n",
      "Cost after epoch 45: 0.053853\n",
      "Cost after epoch 46: 0.053885\n",
      "Cost after epoch 47: 0.053912\n",
      "Cost after epoch 48: 0.053935\n",
      "Cost after epoch 49: 0.053957\n",
      "Cost after epoch 50: 0.053970\n",
      "Cost after epoch 51: 0.053991\n",
      "Cost after epoch 52: 0.054016\n",
      "Cost after epoch 53: 0.054036\n",
      "Cost after epoch 54: 0.054062\n",
      "Cost after epoch 55: 0.054083\n",
      "Cost after epoch 56: 0.054101\n",
      "Cost after epoch 57: 0.054121\n",
      "Cost after epoch 58: 0.054142\n",
      "Cost after epoch 59: 0.054161\n",
      "Cost after epoch 60: 0.054180\n",
      "Cost after epoch 61: 0.054193\n",
      "Cost after epoch 62: 0.054212\n",
      "Cost after epoch 63: 0.054232\n",
      "Cost after epoch 64: 0.054251\n",
      "Cost after epoch 65: 0.054271\n",
      "Cost after epoch 66: 0.054296\n",
      "Cost after epoch 67: 0.054317\n",
      "Cost after epoch 68: 0.054337\n",
      "Cost after epoch 69: 0.054356\n",
      "Cost after epoch 70: 0.054375\n",
      "Cost after epoch 71: 0.054393\n",
      "Cost after epoch 72: 0.054411\n",
      "Cost after epoch 73: 0.054450\n",
      "Cost after epoch 74: 0.054485\n",
      "Cost after epoch 75: 0.054382\n",
      "Cost after epoch 76: 0.054411\n",
      "Cost after epoch 77: 0.054434\n",
      "Cost after epoch 78: 0.054455\n",
      "Cost after epoch 79: 0.054476\n",
      "Cost after epoch 80: 0.054501\n",
      "Cost after epoch 81: 0.054472\n",
      "Cost after epoch 82: 0.054470\n",
      "Cost after epoch 83: 0.054471\n",
      "Cost after epoch 84: 0.054477\n",
      "Cost after epoch 85: 0.054483\n",
      "Cost after epoch 86: 0.054497\n",
      "Cost after epoch 87: 0.054509\n",
      "Cost after epoch 88: 0.054519\n",
      "Cost after epoch 89: 0.054530\n",
      "Cost after epoch 90: 0.054540\n",
      "Cost after epoch 91: 0.054555\n",
      "Cost after epoch 92: 0.054565\n",
      "Cost after epoch 93: 0.054580\n",
      "Cost after epoch 94: 0.054589\n",
      "Cost after epoch 95: 0.054597\n",
      "Cost after epoch 96: 0.054611\n",
      "Cost after epoch 97: 0.054630\n",
      "Cost after epoch 98: 0.054596\n",
      "Cost after epoch 99: 0.054612\n"
     ]
    }
   ],
   "source": [
    "parameters = initialize_parameters(layers_dims)\n",
    "parameters = train_model(X_train_fm, y_train_fm, parameters, learning_rate=0.01, num_epochs=100, print_cost=True)"
   ]
  },
  {
   "cell_type": "code",
   "execution_count": 81,
   "metadata": {},
   "outputs": [
    {
     "data": {
      "text/plain": [
       "0.9627083333333334"
      ]
     },
     "execution_count": 81,
     "metadata": {},
     "output_type": "execute_result"
    }
   ],
   "source": [
    "measure_accuracy(parameters, X_train_fm, y_train_fm)"
   ]
  },
  {
   "cell_type": "code",
   "execution_count": 82,
   "metadata": {},
   "outputs": [
    {
     "data": {
      "text/plain": [
       "0.9575"
      ]
     },
     "execution_count": 82,
     "metadata": {},
     "output_type": "execute_result"
    }
   ],
   "source": [
    "measure_accuracy(parameters, X_test_fm, y_test_fm)"
   ]
  },
  {
   "cell_type": "code",
   "execution_count": 83,
   "metadata": {},
   "outputs": [
    {
     "data": {
      "text/plain": [
       "[784, 50, 50, 1]"
      ]
     },
     "execution_count": 83,
     "metadata": {},
     "output_type": "execute_result"
    }
   ],
   "source": [
    "parameters_grown = copy.deepcopy(parameters)\n",
    "grow_neurons(parameters_grown)\n",
    "get_layer_sizes(parameters_grown)"
   ]
  },
  {
   "cell_type": "code",
   "execution_count": 84,
   "metadata": {},
   "outputs": [
    {
     "data": {
      "text/plain": [
       "0.9593333333333334"
      ]
     },
     "execution_count": 84,
     "metadata": {},
     "output_type": "execute_result"
    }
   ],
   "source": [
    "measure_accuracy(parameters_grown, X_train_fm, y_train_fm)"
   ]
  },
  {
   "cell_type": "code",
   "execution_count": 85,
   "metadata": {},
   "outputs": [
    {
     "data": {
      "text/plain": [
       "0.9526666666666667"
      ]
     },
     "execution_count": 85,
     "metadata": {},
     "output_type": "execute_result"
    }
   ],
   "source": [
    "measure_accuracy(parameters_grown, X_test_fm, y_test_fm)"
   ]
  },
  {
   "cell_type": "code",
   "execution_count": 86,
   "metadata": {},
   "outputs": [
    {
     "name": "stdout",
     "output_type": "stream",
     "text": [
      "Cost after epoch 0: 0.058118\n",
      "Cost after epoch 1: 0.057980\n",
      "Cost after epoch 2: 0.057599\n",
      "Cost after epoch 3: 0.057657\n",
      "Cost after epoch 4: 0.057505\n",
      "Cost after epoch 5: 0.056958\n",
      "Cost after epoch 6: 0.056926\n",
      "Cost after epoch 7: 0.056766\n",
      "Cost after epoch 8: 0.057071\n",
      "Cost after epoch 9: 0.056850\n",
      "Cost after epoch 10: 0.056926\n",
      "Cost after epoch 11: 0.056475\n",
      "Cost after epoch 12: 0.056248\n",
      "Cost after epoch 13: 0.056317\n",
      "Cost after epoch 14: 0.055951\n",
      "Cost after epoch 15: 0.055493\n",
      "Cost after epoch 16: 0.055160\n",
      "Cost after epoch 17: 0.054826\n",
      "Cost after epoch 18: 0.054584\n",
      "Cost after epoch 19: 0.054302\n",
      "Cost after epoch 20: 0.053947\n",
      "Cost after epoch 21: 0.053504\n",
      "Cost after epoch 22: 0.053358\n",
      "Cost after epoch 23: 0.052934\n",
      "Cost after epoch 24: 0.052814\n",
      "Cost after epoch 25: 0.052912\n",
      "Cost after epoch 26: 0.052249\n",
      "Cost after epoch 27: 0.051471\n",
      "Cost after epoch 28: 0.051429\n",
      "Cost after epoch 29: 0.051278\n",
      "Cost after epoch 30: 0.050972\n",
      "Cost after epoch 31: 0.050673\n",
      "Cost after epoch 32: 0.050830\n",
      "Cost after epoch 33: 0.050355\n",
      "Cost after epoch 34: 0.049921\n",
      "Cost after epoch 35: 0.049938\n",
      "Cost after epoch 36: 0.050515\n",
      "Cost after epoch 37: 0.050097\n",
      "Cost after epoch 38: 0.050453\n",
      "Cost after epoch 39: 0.050128\n",
      "Cost after epoch 40: 0.050189\n",
      "Cost after epoch 41: 0.050563\n",
      "Cost after epoch 42: 0.050443\n",
      "Cost after epoch 43: 0.050609\n",
      "Cost after epoch 44: 0.050712\n",
      "Cost after epoch 45: 0.050761\n",
      "Cost after epoch 46: 0.050446\n",
      "Cost after epoch 47: 0.051283\n",
      "Cost after epoch 48: 0.051418\n",
      "Cost after epoch 49: 0.051544\n"
     ]
    }
   ],
   "source": [
    "parameters_final = train_model(X_train_fm, y_train_fm, parameters_grown, learning_rate=0.01, num_epochs=50, print_cost=True)"
   ]
  },
  {
   "cell_type": "code",
   "execution_count": 87,
   "metadata": {},
   "outputs": [
    {
     "data": {
      "text/plain": [
       "0.9732083333333333"
      ]
     },
     "execution_count": 87,
     "metadata": {},
     "output_type": "execute_result"
    }
   ],
   "source": [
    "measure_accuracy(parameters_final, X_train_fm, y_train_fm)"
   ]
  },
  {
   "cell_type": "code",
   "execution_count": 89,
   "metadata": {},
   "outputs": [
    {
     "data": {
      "text/plain": [
       "0.9639166666666666"
      ]
     },
     "execution_count": 89,
     "metadata": {},
     "output_type": "execute_result"
    }
   ],
   "source": [
    "measure_accuracy(parameters_final, X_test_fm, y_test_fm)"
   ]
  },
  {
   "cell_type": "code",
   "execution_count": null,
   "metadata": {},
   "outputs": [],
   "source": []
  }
 ],
 "metadata": {
  "kernelspec": {
   "display_name": "Python 3",
   "language": "python",
   "name": "python3"
  },
  "language_info": {
   "codemirror_mode": {
    "name": "ipython",
    "version": 3
   },
   "file_extension": ".py",
   "mimetype": "text/x-python",
   "name": "python",
   "nbconvert_exporter": "python",
   "pygments_lexer": "ipython3",
   "version": "3.8.3"
  }
 },
 "nbformat": 4,
 "nbformat_minor": 4
}
