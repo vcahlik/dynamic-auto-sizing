{
 "cells": [
  {
   "cell_type": "code",
   "execution_count": 69,
   "metadata": {},
   "outputs": [
    {
     "name": "stdout",
     "output_type": "stream",
     "text": [
      "The autoreload extension is already loaded. To reload it, use:\n",
      "  %reload_ext autoreload\n"
     ]
    }
   ],
   "source": [
    "import sys\n",
    "sys.path.insert(0,'..')\n",
    "\n",
    "from nets.core import train_model, prune_parameters, get_layer_sizes, initialize_parameters\n",
    "from nets.datasets import mnist_3\n",
    "from nets.utils import measure_accuracy\n",
    "\n",
    "import numpy as np\n",
    "import pandas as pd\n",
    "import matplotlib.pyplot as plt\n",
    "import math\n",
    "import copy\n",
    "\n",
    "%matplotlib inline\n",
    "%load_ext autoreload\n",
    "%autoreload 2\n",
    "\n",
    "np.random.seed(42)"
   ]
  },
  {
   "cell_type": "markdown",
   "metadata": {},
   "source": [
    "# Load the data"
   ]
  },
  {
   "cell_type": "code",
   "execution_count": 2,
   "metadata": {},
   "outputs": [],
   "source": [
    "X_train, X_test, y_train, y_test = mnist_3()"
   ]
  },
  {
   "cell_type": "code",
   "execution_count": 3,
   "metadata": {},
   "outputs": [
    {
     "data": {
      "text/plain": [
       "((784, 33600), (1, 33600))"
      ]
     },
     "execution_count": 3,
     "metadata": {},
     "output_type": "execute_result"
    }
   ],
   "source": [
    "X_train.shape, y_train.shape"
   ]
  },
  {
   "cell_type": "code",
   "execution_count": 4,
   "metadata": {},
   "outputs": [
    {
     "data": {
      "text/plain": [
       "((784, 8400), (1, 8400))"
      ]
     },
     "execution_count": 4,
     "metadata": {},
     "output_type": "execute_result"
    }
   ],
   "source": [
    "X_test.shape, y_test.shape"
   ]
  },
  {
   "cell_type": "code",
   "execution_count": 5,
   "metadata": {},
   "outputs": [
    {
     "data": {
      "image/png": "[encoded data removed]",
      "text/plain": [
       "<Figure size 432x288 with 1 Axes>"
      ]
     },
     "metadata": {
      "needs_background": "light"
     },
     "output_type": "display_data"
    }
   ],
   "source": [
    "pixels = X_train[:, 1].reshape((28, 28))\n",
    "plt.imshow(pixels, cmap='gray')\n",
    "plt.show()"
   ]
  },
  {
   "cell_type": "markdown",
   "metadata": {},
   "source": [
    "# Train the model"
   ]
  },
  {
   "cell_type": "code",
   "execution_count": 6,
   "metadata": {},
   "outputs": [],
   "source": [
    "layers_dims = [784, 20, 20, 1]"
   ]
  },
  {
   "cell_type": "code",
   "execution_count": 147,
   "metadata": {},
   "outputs": [
    {
     "name": "stdout",
     "output_type": "stream",
     "text": [
      "Cost after epoch 0: 0.430815\n",
      "Cost after epoch 1: 0.407259\n",
      "Cost after epoch 2: 0.406516\n",
      "Cost after epoch 3: 0.408454\n",
      "Cost after epoch 4: 0.410047\n",
      "Cost after epoch 5: 0.410788\n",
      "Cost after epoch 6: 0.410328\n",
      "Cost after epoch 7: 0.406868\n",
      "Cost after epoch 8: 0.393573\n",
      "Cost after epoch 9: 0.362331\n",
      "Cost after epoch 10: 0.317457\n",
      "Cost after epoch 11: 0.279190\n",
      "Cost after epoch 12: 0.236498\n",
      "Cost after epoch 13: 0.149960\n",
      "Cost after epoch 14: 0.104616\n",
      "Cost after epoch 15: 0.093431\n",
      "Cost after epoch 16: 0.087492\n",
      "Cost after epoch 17: 0.083259\n",
      "Cost after epoch 18: 0.080126\n",
      "Cost after epoch 19: 0.077734\n",
      "Cost after epoch 20: 0.075829\n",
      "Cost after epoch 21: 0.074281\n",
      "Cost after epoch 22: 0.072976\n",
      "Cost after epoch 23: 0.071847\n",
      "Cost after epoch 24: 0.070862\n",
      "Cost after epoch 25: 0.069997\n",
      "Cost after epoch 26: 0.069224\n",
      "Cost after epoch 27: 0.068522\n",
      "Cost after epoch 28: 0.067895\n",
      "Cost after epoch 29: 0.067314\n"
     ]
    }
   ],
   "source": [
    "parameters_unreg = L_layer_model(X_train, y_train, layers_dims, learning_rate=0.01, l1_term=0, num_epochs=30, print_cost=True)"
   ]
  },
  {
   "cell_type": "code",
   "execution_count": 148,
   "metadata": {},
   "outputs": [
    {
     "data": {
      "text/plain": [
       "0.9755357142857143"
      ]
     },
     "execution_count": 148,
     "metadata": {},
     "output_type": "execute_result"
    }
   ],
   "source": [
    "from sklearn.metrics import accuracy_score\n",
    "\n",
    "p, _ = L_model_forward(X_train, parameters_unreg)\n",
    "y_train_pred = (p > 0.5).astype(int)\n",
    "accuracy_score(y_train.reshape((-1),), y_train_pred.reshape((-1),))"
   ]
  },
  {
   "cell_type": "code",
   "execution_count": 145,
   "metadata": {},
   "outputs": [
    {
     "name": "stdout",
     "output_type": "stream",
     "text": [
      "Cost after epoch 0: 0.448906\n",
      "Cost after epoch 1: 0.423507\n",
      "Cost after epoch 2: 0.421041\n",
      "Cost after epoch 3: 0.421441\n",
      "Cost after epoch 4: 0.421764\n",
      "Cost after epoch 5: 0.421659\n",
      "Cost after epoch 6: 0.421221\n",
      "Cost after epoch 7: 0.420585\n",
      "Cost after epoch 8: 0.419848\n",
      "Cost after epoch 9: 0.419061\n",
      "Cost after epoch 10: 0.418218\n",
      "Cost after epoch 11: 0.417216\n",
      "Cost after epoch 12: 0.415717\n",
      "Cost after epoch 13: 0.412344\n",
      "Cost after epoch 14: 0.402713\n",
      "Cost after epoch 15: 0.380030\n",
      "Cost after epoch 16: 0.339927\n",
      "Cost after epoch 17: 0.303582\n",
      "Cost after epoch 18: 0.273109\n",
      "Cost after epoch 19: 0.246411\n",
      "Cost after epoch 20: 0.223080\n",
      "Cost after epoch 21: 0.203517\n",
      "Cost after epoch 22: 0.185436\n",
      "Cost after epoch 23: 0.167289\n",
      "Cost after epoch 24: 0.142887\n",
      "Cost after epoch 25: 0.113212\n",
      "Cost after epoch 26: 0.098133\n",
      "Cost after epoch 27: 0.092885\n",
      "Cost after epoch 28: 0.090363\n",
      "Cost after epoch 29: 0.088437\n"
     ]
    }
   ],
   "source": [
    "parameters_reg = L_layer_model(X_train, y_train, layers_dims, learning_rate=0.01, l1_term=0.01, num_epochs=30, print_cost=True)"
   ]
  },
  {
   "cell_type": "code",
   "execution_count": 146,
   "metadata": {},
   "outputs": [
    {
     "data": {
      "text/plain": [
       "0.9736607142857143"
      ]
     },
     "execution_count": 146,
     "metadata": {},
     "output_type": "execute_result"
    }
   ],
   "source": [
    "from sklearn.metrics import accuracy_score\n",
    "\n",
    "p, _ = L_model_forward(X_train, parameters_reg)\n",
    "y_train_pred = (p > 0.5).astype(int)\n",
    "accuracy_score(y_train.reshape((-1),), y_train_pred.reshape((-1),))"
   ]
  },
  {
   "cell_type": "code",
   "execution_count": 59,
   "metadata": {},
   "outputs": [
    {
     "name": "stdout",
     "output_type": "stream",
     "text": [
      "Cost after epoch 0: 0.448215\n",
      "Cost after epoch 1: 0.422285\n",
      "Cost after epoch 2: 0.419419\n",
      "Cost after epoch 3: 0.419546\n",
      "Cost after epoch 4: 0.419713\n",
      "Cost after epoch 5: 0.419547\n",
      "Cost after epoch 6: 0.419121\n",
      "Cost after epoch 7: 0.418531\n",
      "Cost after epoch 8: 0.417825\n",
      "Cost after epoch 9: 0.416959\n",
      "Cost after epoch 10: 0.415629\n",
      "Cost after epoch 11: 0.413236\n",
      "Cost after epoch 12: 0.410141\n",
      "Cost after epoch 13: 0.403526\n",
      "Cost after epoch 14: 0.386231\n",
      "Cost after epoch 15: 0.349768\n",
      "Cost after epoch 16: 0.299857\n",
      "Cost after epoch 17: 0.187668\n",
      "Cost after epoch 18: 0.121146\n",
      "Cost after epoch 19: 0.106763\n",
      "Cost after epoch 20: 0.099291\n",
      "Cost after epoch 21: 0.094234\n",
      "Cost after epoch 22: 0.090470\n",
      "Cost after epoch 23: 0.087580\n",
      "Cost after epoch 24: 0.085306\n",
      "Cost after epoch 25: 0.083472\n",
      "Cost after epoch 26: 0.081934\n",
      "Cost after epoch 27: 0.080627\n",
      "Cost after epoch 28: 0.079499\n",
      "Cost after epoch 29: 0.078535\n",
      "Cost after epoch 30: 0.077693\n",
      "Cost after epoch 31: 0.076980\n",
      "Cost after epoch 32: 0.076358\n",
      "Cost after epoch 33: 0.075795\n",
      "Cost after epoch 34: 0.075295\n",
      "Cost after epoch 35: 0.074814\n",
      "Cost after epoch 36: 0.074359\n",
      "Cost after epoch 37: 0.073934\n",
      "Cost after epoch 38: 0.073625\n",
      "Cost after epoch 39: 0.073329\n",
      "Cost after epoch 40: 0.073035\n",
      "Cost after epoch 41: 0.072740\n",
      "Cost after epoch 42: 0.072441\n",
      "Cost after epoch 43: 0.072187\n",
      "Cost after epoch 44: 0.072094\n",
      "Cost after epoch 45: 0.072208\n",
      "Cost after epoch 46: 0.072237\n",
      "Cost after epoch 47: 0.072370\n",
      "Cost after epoch 48: 0.072796\n",
      "Cost after epoch 49: 0.072981\n",
      "Cost after epoch 50: 0.073376\n",
      "Cost after epoch 51: 0.073511\n",
      "Cost after epoch 52: 0.073340\n",
      "Cost after epoch 53: 0.072962\n",
      "Cost after epoch 54: 0.072694\n",
      "Cost after epoch 55: 0.072377\n",
      "Cost after epoch 56: 0.071958\n",
      "Cost after epoch 57: 0.071738\n",
      "Cost after epoch 58: 0.071435\n",
      "Cost after epoch 59: 0.070789\n",
      "Cost after epoch 60: 0.070075\n",
      "Cost after epoch 61: 0.069983\n",
      "Cost after epoch 62: 0.069670\n",
      "Cost after epoch 63: 0.069076\n",
      "Cost after epoch 64: 0.068713\n",
      "Cost after epoch 65: 0.068357\n",
      "Cost after epoch 66: 0.068383\n",
      "Cost after epoch 67: 0.066190\n",
      "Cost after epoch 68: 0.061159\n",
      "Cost after epoch 69: 0.056961\n",
      "Cost after epoch 70: 0.054162\n",
      "Cost after epoch 71: 0.051812\n",
      "Cost after epoch 72: 0.049973\n",
      "Cost after epoch 73: 0.047876\n",
      "Cost after epoch 74: 0.045532\n",
      "Cost after epoch 75: 0.043354\n",
      "Cost after epoch 76: 0.041123\n",
      "Cost after epoch 77: 0.039341\n",
      "Cost after epoch 78: 0.037737\n",
      "Cost after epoch 79: 0.036302\n",
      "Cost after epoch 80: 0.035040\n",
      "Cost after epoch 81: 0.034068\n",
      "Cost after epoch 82: 0.033023\n",
      "Cost after epoch 83: 0.032225\n",
      "Cost after epoch 84: 0.031641\n",
      "Cost after epoch 85: 0.031024\n",
      "Cost after epoch 86: 0.030130\n",
      "Cost after epoch 87: 0.029528\n",
      "Cost after epoch 88: 0.028878\n",
      "Cost after epoch 89: 0.028356\n",
      "Cost after epoch 90: 0.027550\n",
      "Cost after epoch 91: 0.027020\n",
      "Cost after epoch 92: 0.026544\n",
      "Cost after epoch 93: 0.026058\n",
      "Cost after epoch 94: 0.025477\n",
      "Cost after epoch 95: 0.025001\n",
      "Cost after epoch 96: 0.024826\n",
      "Cost after epoch 97: 0.024601\n",
      "Cost after epoch 98: 0.023946\n",
      "Cost after epoch 99: 0.023431\n"
     ]
    }
   ],
   "source": [
    "parameters_scaled = L_layer_model(X_train, y_train, layers_dims, learning_rate=0.01, l1_term=0.02, self_scale=True, num_epochs=100, print_cost=True)"
   ]
  },
  {
   "cell_type": "code",
   "execution_count": 60,
   "metadata": {},
   "outputs": [
    {
     "data": {
      "text/plain": [
       "0.9853273809523809"
      ]
     },
     "execution_count": 60,
     "metadata": {},
     "output_type": "execute_result"
    }
   ],
   "source": [
    "from sklearn.metrics import accuracy_score\n",
    "\n",
    "p, _ = L_model_forward(X_train, parameters_scaled)\n",
    "y_train_pred = (p > 0.5).astype(int)\n",
    "accuracy_score(y_train.reshape((-1),), y_train_pred.reshape((-1),))"
   ]
  },
  {
   "cell_type": "code",
   "execution_count": 61,
   "metadata": {},
   "outputs": [
    {
     "data": {
      "text/plain": [
       "[784, 8, 12, 1]"
      ]
     },
     "execution_count": 61,
     "metadata": {},
     "output_type": "execute_result"
    }
   ],
   "source": [
    "parameters_pruned = copy.deepcopy(parameters_scaled)\n",
    "prune_parameters(parameters_pruned)\n",
    "get_layer_sizes(parameters_pruned)"
   ]
  },
  {
   "cell_type": "code",
   "execution_count": 62,
   "metadata": {},
   "outputs": [
    {
     "data": {
      "text/plain": [
       "0.9853273809523809"
      ]
     },
     "execution_count": 62,
     "metadata": {},
     "output_type": "execute_result"
    }
   ],
   "source": [
    "from sklearn.metrics import accuracy_score\n",
    "\n",
    "p, _ = L_model_forward(X_train, parameters_pruned)\n",
    "y_train_pred = (p > 0.5).astype(int)\n",
    "accuracy_score(y_train.reshape((-1),), y_train_pred.reshape((-1),))"
   ]
  },
  {
   "cell_type": "code",
   "execution_count": 63,
   "metadata": {},
   "outputs": [
    {
     "name": "stdout",
     "output_type": "stream",
     "text": [
      "Cost after epoch 0: 0.431117\n",
      "Cost after epoch 1: 0.407389\n",
      "Cost after epoch 2: 0.406448\n",
      "Cost after epoch 3: 0.408345\n",
      "Cost after epoch 4: 0.410126\n",
      "Cost after epoch 5: 0.411401\n",
      "Cost after epoch 6: 0.412244\n",
      "Cost after epoch 7: 0.412780\n",
      "Cost after epoch 8: 0.413115\n",
      "Cost after epoch 9: 0.413321\n",
      "Cost after epoch 10: 0.413444\n",
      "Cost after epoch 11: 0.413513\n",
      "Cost after epoch 12: 0.413546\n",
      "Cost after epoch 13: 0.413552\n",
      "Cost after epoch 14: 0.413534\n",
      "Cost after epoch 15: 0.413488\n",
      "Cost after epoch 16: 0.413402\n",
      "Cost after epoch 17: 0.413240\n",
      "Cost after epoch 18: 0.412923\n",
      "Cost after epoch 19: 0.412322\n",
      "Cost after epoch 20: 0.411303\n",
      "Cost after epoch 21: 0.409002\n",
      "Cost after epoch 22: 0.402787\n",
      "Cost after epoch 23: 0.383750\n",
      "Cost after epoch 24: 0.334164\n",
      "Cost after epoch 25: 0.208864\n",
      "Cost after epoch 26: 0.124095\n",
      "Cost after epoch 27: 0.105026\n",
      "Cost after epoch 28: 0.095823\n",
      "Cost after epoch 29: 0.089813\n",
      "Cost after epoch 30: 0.085375\n",
      "Cost after epoch 31: 0.081924\n",
      "Cost after epoch 32: 0.079218\n",
      "Cost after epoch 33: 0.077065\n",
      "Cost after epoch 34: 0.075308\n",
      "Cost after epoch 35: 0.073841\n",
      "Cost after epoch 36: 0.072621\n",
      "Cost after epoch 37: 0.071629\n",
      "Cost after epoch 38: 0.070747\n",
      "Cost after epoch 39: 0.070038\n",
      "Cost after epoch 40: 0.069406\n",
      "Cost after epoch 41: 0.068876\n",
      "Cost after epoch 42: 0.068422\n",
      "Cost after epoch 43: 0.068009\n",
      "Cost after epoch 44: 0.067676\n",
      "Cost after epoch 45: 0.067313\n",
      "Cost after epoch 46: 0.067072\n",
      "Cost after epoch 47: 0.066974\n",
      "Cost after epoch 48: 0.066827\n",
      "Cost after epoch 49: 0.066702\n",
      "Cost after epoch 50: 0.066575\n",
      "Cost after epoch 51: 0.066520\n",
      "Cost after epoch 52: 0.066595\n",
      "Cost after epoch 53: 0.066594\n",
      "Cost after epoch 54: 0.066500\n",
      "Cost after epoch 55: 0.066440\n",
      "Cost after epoch 56: 0.066450\n",
      "Cost after epoch 57: 0.066451\n",
      "Cost after epoch 58: 0.066702\n",
      "Cost after epoch 59: 0.066892\n",
      "Cost after epoch 60: 0.067260\n",
      "Cost after epoch 61: 0.067365\n",
      "Cost after epoch 62: 0.067596\n",
      "Cost after epoch 63: 0.067632\n",
      "Cost after epoch 64: 0.067940\n",
      "Cost after epoch 65: 0.068240\n",
      "Cost after epoch 66: 0.068544\n",
      "Cost after epoch 67: 0.068331\n",
      "Cost after epoch 68: 0.068467\n",
      "Cost after epoch 69: 0.068550\n",
      "Cost after epoch 70: 0.068661\n",
      "Cost after epoch 71: 0.068617\n",
      "Cost after epoch 72: 0.068709\n",
      "Cost after epoch 73: 0.068709\n",
      "Cost after epoch 74: 0.068559\n",
      "Cost after epoch 75: 0.068438\n",
      "Cost after epoch 76: 0.068012\n",
      "Cost after epoch 77: 0.067799\n",
      "Cost after epoch 78: 0.067727\n",
      "Cost after epoch 79: 0.067546\n",
      "Cost after epoch 80: 0.067262\n",
      "Cost after epoch 81: 0.066814\n",
      "Cost after epoch 82: 0.066371\n",
      "Cost after epoch 83: 0.066045\n",
      "Cost after epoch 84: 0.065600\n",
      "Cost after epoch 85: 0.065497\n",
      "Cost after epoch 86: 0.065064\n",
      "Cost after epoch 87: 0.064390\n",
      "Cost after epoch 88: 0.063588\n",
      "Cost after epoch 89: 0.062821\n",
      "Cost after epoch 90: 0.062379\n",
      "Cost after epoch 91: 0.062169\n",
      "Cost after epoch 92: 0.061784\n",
      "Cost after epoch 93: 0.060961\n",
      "Cost after epoch 94: 0.060144\n",
      "Cost after epoch 95: 0.058691\n",
      "Cost after epoch 96: 0.058100\n",
      "Cost after epoch 97: 0.057479\n",
      "Cost after epoch 98: 0.056489\n",
      "Cost after epoch 99: 0.054484\n"
     ]
    }
   ],
   "source": [
    "parameters = L_layer_model(X_train, y_train, get_layer_sizes(parameters_pruned), learning_rate=0.01, num_epochs=100, print_cost=True)"
   ]
  },
  {
   "cell_type": "code",
   "execution_count": 64,
   "metadata": {},
   "outputs": [
    {
     "data": {
      "text/plain": [
       "0.9823809523809524"
      ]
     },
     "execution_count": 64,
     "metadata": {},
     "output_type": "execute_result"
    }
   ],
   "source": [
    "from sklearn.metrics import accuracy_score\n",
    "\n",
    "p, _ = L_model_forward(X_train, parameters)\n",
    "y_train_pred = (p > 0.5).astype(int)\n",
    "accuracy_score(y_train.reshape((-1),), y_train_pred.reshape((-1),))"
   ]
  },
  {
   "cell_type": "markdown",
   "metadata": {},
   "source": [
    "# Keeping parameters"
   ]
  },
  {
   "cell_type": "code",
   "execution_count": null,
   "metadata": {},
   "outputs": [],
   "source": [
    "layers_dims = [784, 20, 20, 1]"
   ]
  },
  {
   "cell_type": "code",
   "execution_count": 82,
   "metadata": {},
   "outputs": [
    {
     "name": "stdout",
     "output_type": "stream",
     "text": [
      "Cost after epoch 0: 0.430815\n",
      "Cost after epoch 1: 0.407259\n",
      "Cost after epoch 2: 0.406516\n",
      "Cost after epoch 3: 0.408454\n",
      "Cost after epoch 4: 0.410047\n",
      "Cost after epoch 5: 0.410788\n",
      "Cost after epoch 6: 0.410328\n",
      "Cost after epoch 7: 0.406868\n",
      "Cost after epoch 8: 0.393573\n",
      "Cost after epoch 9: 0.362331\n",
      "Cost after epoch 10: 0.317457\n",
      "Cost after epoch 11: 0.279190\n",
      "Cost after epoch 12: 0.236498\n",
      "Cost after epoch 13: 0.149960\n",
      "Cost after epoch 14: 0.104616\n",
      "Cost after epoch 15: 0.093431\n",
      "Cost after epoch 16: 0.087492\n",
      "Cost after epoch 17: 0.083259\n",
      "Cost after epoch 18: 0.080126\n",
      "Cost after epoch 19: 0.077734\n",
      "Cost after epoch 20: 0.075829\n",
      "Cost after epoch 21: 0.074281\n",
      "Cost after epoch 22: 0.072976\n",
      "Cost after epoch 23: 0.071847\n",
      "Cost after epoch 24: 0.070862\n",
      "Cost after epoch 25: 0.069997\n",
      "Cost after epoch 26: 0.069224\n",
      "Cost after epoch 27: 0.068522\n",
      "Cost after epoch 28: 0.067895\n",
      "Cost after epoch 29: 0.067314\n",
      "Cost after epoch 30: 0.066769\n",
      "Cost after epoch 31: 0.066249\n",
      "Cost after epoch 32: 0.065738\n",
      "Cost after epoch 33: 0.065234\n",
      "Cost after epoch 34: 0.064723\n",
      "Cost after epoch 35: 0.064188\n",
      "Cost after epoch 36: 0.063613\n",
      "Cost after epoch 37: 0.062983\n",
      "Cost after epoch 38: 0.062318\n",
      "Cost after epoch 39: 0.061564\n",
      "Cost after epoch 40: 0.060717\n",
      "Cost after epoch 41: 0.059782\n",
      "Cost after epoch 42: 0.058759\n",
      "Cost after epoch 43: 0.057612\n",
      "Cost after epoch 44: 0.056375\n",
      "Cost after epoch 45: 0.055024\n",
      "Cost after epoch 46: 0.053552\n",
      "Cost after epoch 47: 0.051957\n",
      "Cost after epoch 48: 0.050289\n",
      "Cost after epoch 49: 0.048507\n",
      "Cost after epoch 50: 0.046679\n",
      "Cost after epoch 51: 0.044811\n",
      "Cost after epoch 52: 0.042911\n",
      "Cost after epoch 53: 0.040999\n",
      "Cost after epoch 54: 0.039117\n",
      "Cost after epoch 55: 0.037220\n",
      "Cost after epoch 56: 0.035417\n",
      "Cost after epoch 57: 0.033674\n",
      "Cost after epoch 58: 0.032049\n",
      "Cost after epoch 59: 0.030560\n",
      "Cost after epoch 60: 0.029026\n",
      "Cost after epoch 61: 0.027769\n",
      "Cost after epoch 62: 0.026482\n",
      "Cost after epoch 63: 0.025328\n",
      "Cost after epoch 64: 0.024238\n",
      "Cost after epoch 65: 0.023118\n",
      "Cost after epoch 66: 0.022022\n",
      "Cost after epoch 67: 0.020988\n",
      "Cost after epoch 68: 0.020226\n",
      "Cost after epoch 69: 0.019533\n",
      "Cost after epoch 70: 0.019016\n",
      "Cost after epoch 71: 0.018467\n",
      "Cost after epoch 72: 0.018029\n",
      "Cost after epoch 73: 0.017573\n",
      "Cost after epoch 74: 0.017088\n",
      "Cost after epoch 75: 0.016592\n",
      "Cost after epoch 76: 0.016105\n",
      "Cost after epoch 77: 0.015767\n",
      "Cost after epoch 78: 0.015228\n",
      "Cost after epoch 79: 0.014759\n",
      "Cost after epoch 80: 0.014488\n",
      "Cost after epoch 81: 0.013853\n",
      "Cost after epoch 82: 0.013319\n",
      "Cost after epoch 83: 0.013079\n",
      "Cost after epoch 84: 0.012902\n",
      "Cost after epoch 85: 0.012548\n",
      "Cost after epoch 86: 0.012250\n",
      "Cost after epoch 87: 0.012016\n",
      "Cost after epoch 88: 0.011870\n",
      "Cost after epoch 89: 0.011578\n",
      "Cost after epoch 90: 0.011348\n",
      "Cost after epoch 91: 0.011341\n",
      "Cost after epoch 92: 0.010855\n",
      "Cost after epoch 93: 0.010778\n",
      "Cost after epoch 94: 0.010555\n",
      "Cost after epoch 95: 0.010455\n",
      "Cost after epoch 96: 0.010418\n",
      "Cost after epoch 97: 0.010222\n",
      "Cost after epoch 98: 0.009982\n",
      "Cost after epoch 99: 0.009865\n"
     ]
    }
   ],
   "source": [
    "parameters = initialize_parameters(layers_dims)\n",
    "parameters = train_model(X_train, y_train, parameters, learning_rate=0.01, num_epochs=100, print_cost=True)"
   ]
  },
  {
   "cell_type": "code",
   "execution_count": 83,
   "metadata": {},
   "outputs": [
    {
     "data": {
      "text/plain": [
       "0.9906845238095238"
      ]
     },
     "execution_count": 83,
     "metadata": {},
     "output_type": "execute_result"
    }
   ],
   "source": [
    "measure_accuracy(parameters, X_train, y_train)"
   ]
  },
  {
   "cell_type": "code",
   "execution_count": 84,
   "metadata": {},
   "outputs": [
    {
     "data": {
      "text/plain": [
       "0.9864285714285714"
      ]
     },
     "execution_count": 84,
     "metadata": {},
     "output_type": "execute_result"
    }
   ],
   "source": [
    "measure_accuracy(parameters, X_test, y_test)"
   ]
  },
  {
   "cell_type": "code",
   "execution_count": 86,
   "metadata": {},
   "outputs": [],
   "source": [
    "layers_dims_small = [784, 11, 14, 1]"
   ]
  },
  {
   "cell_type": "code",
   "execution_count": 87,
   "metadata": {},
   "outputs": [
    {
     "name": "stdout",
     "output_type": "stream",
     "text": [
      "Cost after epoch 0: 0.431119\n",
      "Cost after epoch 1: 0.407392\n",
      "Cost after epoch 2: 0.406453\n",
      "Cost after epoch 3: 0.408351\n",
      "Cost after epoch 4: 0.410132\n",
      "Cost after epoch 5: 0.411408\n",
      "Cost after epoch 6: 0.412251\n",
      "Cost after epoch 7: 0.412789\n",
      "Cost after epoch 8: 0.413124\n",
      "Cost after epoch 9: 0.413329\n",
      "Cost after epoch 10: 0.413451\n",
      "Cost after epoch 11: 0.413520\n",
      "Cost after epoch 12: 0.413550\n",
      "Cost after epoch 13: 0.413549\n",
      "Cost after epoch 14: 0.413519\n",
      "Cost after epoch 15: 0.413448\n",
      "Cost after epoch 16: 0.413308\n",
      "Cost after epoch 17: 0.413034\n",
      "Cost after epoch 18: 0.412481\n",
      "Cost after epoch 19: 0.411448\n",
      "Cost after epoch 20: 0.409207\n",
      "Cost after epoch 21: 0.403088\n",
      "Cost after epoch 22: 0.383622\n",
      "Cost after epoch 23: 0.322974\n",
      "Cost after epoch 24: 0.168219\n",
      "Cost after epoch 25: 0.118703\n",
      "Cost after epoch 26: 0.103595\n",
      "Cost after epoch 27: 0.095517\n",
      "Cost after epoch 28: 0.090004\n",
      "Cost after epoch 29: 0.085756\n",
      "Cost after epoch 30: 0.082504\n",
      "Cost after epoch 31: 0.079982\n",
      "Cost after epoch 32: 0.078035\n",
      "Cost after epoch 33: 0.076483\n",
      "Cost after epoch 34: 0.075296\n",
      "Cost after epoch 35: 0.074187\n",
      "Cost after epoch 36: 0.073324\n",
      "Cost after epoch 37: 0.072459\n",
      "Cost after epoch 38: 0.071860\n",
      "Cost after epoch 39: 0.071252\n",
      "Cost after epoch 40: 0.070688\n",
      "Cost after epoch 41: 0.070261\n",
      "Cost after epoch 42: 0.069987\n",
      "Cost after epoch 43: 0.069726\n",
      "Cost after epoch 44: 0.069212\n",
      "Cost after epoch 45: 0.068893\n",
      "Cost after epoch 46: 0.068676\n",
      "Cost after epoch 47: 0.068560\n",
      "Cost after epoch 48: 0.068544\n",
      "Cost after epoch 49: 0.068528\n",
      "Cost after epoch 50: 0.068499\n",
      "Cost after epoch 51: 0.068478\n",
      "Cost after epoch 52: 0.068484\n",
      "Cost after epoch 53: 0.068433\n",
      "Cost after epoch 54: 0.068511\n",
      "Cost after epoch 55: 0.068750\n",
      "Cost after epoch 56: 0.068740\n",
      "Cost after epoch 57: 0.068966\n",
      "Cost after epoch 58: 0.069086\n",
      "Cost after epoch 59: 0.069147\n",
      "Cost after epoch 60: 0.069477\n",
      "Cost after epoch 61: 0.069603\n",
      "Cost after epoch 62: 0.069732\n",
      "Cost after epoch 63: 0.069866\n",
      "Cost after epoch 64: 0.070251\n",
      "Cost after epoch 65: 0.070466\n",
      "Cost after epoch 66: 0.070514\n",
      "Cost after epoch 67: 0.070498\n",
      "Cost after epoch 68: 0.070302\n",
      "Cost after epoch 69: 0.070259\n",
      "Cost after epoch 70: 0.070325\n",
      "Cost after epoch 71: 0.070407\n",
      "Cost after epoch 72: 0.070087\n",
      "Cost after epoch 73: 0.068971\n",
      "Cost after epoch 74: 0.065581\n",
      "Cost after epoch 75: 0.062404\n",
      "Cost after epoch 76: 0.059023\n",
      "Cost after epoch 77: 0.055576\n",
      "Cost after epoch 78: 0.051873\n",
      "Cost after epoch 79: 0.048111\n",
      "Cost after epoch 80: 0.044169\n",
      "Cost after epoch 81: 0.041931\n",
      "Cost after epoch 82: 0.039913\n",
      "Cost after epoch 83: 0.038020\n",
      "Cost after epoch 84: 0.036523\n",
      "Cost after epoch 85: 0.035089\n",
      "Cost after epoch 86: 0.033874\n",
      "Cost after epoch 87: 0.031480\n",
      "Cost after epoch 88: 0.029776\n",
      "Cost after epoch 89: 0.027987\n",
      "Cost after epoch 90: 0.026479\n",
      "Cost after epoch 91: 0.024758\n",
      "Cost after epoch 92: 0.023224\n",
      "Cost after epoch 93: 0.021863\n",
      "Cost after epoch 94: 0.020510\n",
      "Cost after epoch 95: 0.019516\n",
      "Cost after epoch 96: 0.018425\n",
      "Cost after epoch 97: 0.017308\n",
      "Cost after epoch 98: 0.016164\n",
      "Cost after epoch 99: 0.015265\n"
     ]
    }
   ],
   "source": [
    "parameters = initialize_parameters(layers_dims_small)\n",
    "parameters_small = train_model(X_train, y_train, parameters, learning_rate=0.01, num_epochs=100, print_cost=True)"
   ]
  },
  {
   "cell_type": "code",
   "execution_count": 88,
   "metadata": {},
   "outputs": [
    {
     "data": {
      "text/plain": [
       "0.9866964285714286"
      ]
     },
     "execution_count": 88,
     "metadata": {},
     "output_type": "execute_result"
    }
   ],
   "source": [
    "measure_accuracy(parameters_small, X_train, y_train)"
   ]
  },
  {
   "cell_type": "code",
   "execution_count": 89,
   "metadata": {},
   "outputs": [
    {
     "data": {
      "text/plain": [
       "0.9826190476190476"
      ]
     },
     "execution_count": 89,
     "metadata": {},
     "output_type": "execute_result"
    }
   ],
   "source": [
    "measure_accuracy(parameters_small, X_test, y_test)"
   ]
  },
  {
   "cell_type": "code",
   "execution_count": 76,
   "metadata": {},
   "outputs": [
    {
     "name": "stdout",
     "output_type": "stream",
     "text": [
      "Cost after epoch 0: 0.448215\n",
      "Cost after epoch 1: 0.422285\n",
      "Cost after epoch 2: 0.419419\n",
      "Cost after epoch 3: 0.419546\n",
      "Cost after epoch 4: 0.419713\n",
      "Cost after epoch 5: 0.419547\n",
      "Cost after epoch 6: 0.419121\n",
      "Cost after epoch 7: 0.418531\n",
      "Cost after epoch 8: 0.417825\n",
      "Cost after epoch 9: 0.416959\n",
      "Cost after epoch 10: 0.415629\n",
      "Cost after epoch 11: 0.413236\n",
      "Cost after epoch 12: 0.410141\n",
      "Cost after epoch 13: 0.403526\n",
      "Cost after epoch 14: 0.386231\n",
      "Cost after epoch 15: 0.349768\n",
      "Cost after epoch 16: 0.299857\n",
      "Cost after epoch 17: 0.187668\n",
      "Cost after epoch 18: 0.121146\n",
      "Cost after epoch 19: 0.106763\n",
      "Cost after epoch 20: 0.099291\n",
      "Cost after epoch 21: 0.094234\n",
      "Cost after epoch 22: 0.090470\n",
      "Cost after epoch 23: 0.087580\n",
      "Cost after epoch 24: 0.085306\n",
      "Cost after epoch 25: 0.083472\n",
      "Cost after epoch 26: 0.081934\n",
      "Cost after epoch 27: 0.080627\n",
      "Cost after epoch 28: 0.079499\n",
      "Cost after epoch 29: 0.078535\n",
      "Cost after epoch 30: 0.077693\n",
      "Cost after epoch 31: 0.076980\n",
      "Cost after epoch 32: 0.076358\n",
      "Cost after epoch 33: 0.075795\n",
      "Cost after epoch 34: 0.075295\n",
      "Cost after epoch 35: 0.074814\n",
      "Cost after epoch 36: 0.074359\n",
      "Cost after epoch 37: 0.073934\n",
      "Cost after epoch 38: 0.073625\n",
      "Cost after epoch 39: 0.073329\n",
      "Cost after epoch 40: 0.073035\n",
      "Cost after epoch 41: 0.072740\n",
      "Cost after epoch 42: 0.072441\n",
      "Cost after epoch 43: 0.072187\n",
      "Cost after epoch 44: 0.072094\n",
      "Cost after epoch 45: 0.072208\n",
      "Cost after epoch 46: 0.072237\n",
      "Cost after epoch 47: 0.072370\n",
      "Cost after epoch 48: 0.072796\n",
      "Cost after epoch 49: 0.072981\n"
     ]
    }
   ],
   "source": [
    "parameters = initialize_parameters(layers_dims)\n",
    "parameters_scaled = train_model(X_train, y_train, parameters, learning_rate=0.01, l1_term=0.02, self_scale=True, num_epochs=50, print_cost=True)"
   ]
  },
  {
   "cell_type": "code",
   "execution_count": 78,
   "metadata": {},
   "outputs": [
    {
     "data": {
      "text/plain": [
       "0.976547619047619"
      ]
     },
     "execution_count": 78,
     "metadata": {},
     "output_type": "execute_result"
    }
   ],
   "source": [
    "measure_accuracy(parameters_scaled, X_train, y_train)"
   ]
  },
  {
   "cell_type": "code",
   "execution_count": 77,
   "metadata": {},
   "outputs": [
    {
     "data": {
      "text/plain": [
       "[784, 11, 14, 1]"
      ]
     },
     "execution_count": 77,
     "metadata": {},
     "output_type": "execute_result"
    }
   ],
   "source": [
    "parameters_pruned = copy.deepcopy(parameters_scaled)\n",
    "prune_parameters(parameters_pruned)\n",
    "get_layer_sizes(parameters_pruned)"
   ]
  },
  {
   "cell_type": "code",
   "execution_count": 79,
   "metadata": {},
   "outputs": [
    {
     "data": {
      "text/plain": [
       "0.976547619047619"
      ]
     },
     "execution_count": 79,
     "metadata": {},
     "output_type": "execute_result"
    }
   ],
   "source": [
    "measure_accuracy(parameters_pruned, X_train, y_train)"
   ]
  },
  {
   "cell_type": "code",
   "execution_count": 80,
   "metadata": {},
   "outputs": [
    {
     "name": "stdout",
     "output_type": "stream",
     "text": [
      "Cost after epoch 0: 0.068162\n",
      "Cost after epoch 1: 0.068107\n",
      "Cost after epoch 2: 0.067846\n",
      "Cost after epoch 3: 0.067470\n",
      "Cost after epoch 4: 0.067049\n",
      "Cost after epoch 5: 0.066743\n",
      "Cost after epoch 6: 0.066580\n",
      "Cost after epoch 7: 0.065768\n",
      "Cost after epoch 8: 0.065288\n",
      "Cost after epoch 9: 0.064633\n",
      "Cost after epoch 10: 0.063909\n",
      "Cost after epoch 11: 0.063855\n",
      "Cost after epoch 12: 0.063281\n",
      "Cost after epoch 13: 0.063048\n",
      "Cost after epoch 14: 0.063028\n",
      "Cost after epoch 15: 0.063694\n",
      "Cost after epoch 16: 0.062957\n",
      "Cost after epoch 17: 0.057640\n",
      "Cost after epoch 18: 0.053005\n",
      "Cost after epoch 19: 0.049765\n",
      "Cost after epoch 20: 0.047411\n",
      "Cost after epoch 21: 0.043448\n",
      "Cost after epoch 22: 0.039785\n",
      "Cost after epoch 23: 0.036768\n",
      "Cost after epoch 24: 0.034182\n",
      "Cost after epoch 25: 0.032045\n",
      "Cost after epoch 26: 0.029961\n",
      "Cost after epoch 27: 0.028210\n",
      "Cost after epoch 28: 0.026672\n",
      "Cost after epoch 29: 0.024867\n",
      "Cost after epoch 30: 0.023336\n",
      "Cost after epoch 31: 0.022010\n",
      "Cost after epoch 32: 0.020892\n",
      "Cost after epoch 33: 0.019923\n",
      "Cost after epoch 34: 0.018760\n",
      "Cost after epoch 35: 0.017389\n",
      "Cost after epoch 36: 0.015794\n",
      "Cost after epoch 37: 0.014446\n",
      "Cost after epoch 38: 0.013093\n",
      "Cost after epoch 39: 0.011893\n",
      "Cost after epoch 40: 0.010868\n",
      "Cost after epoch 41: 0.009833\n",
      "Cost after epoch 42: 0.009270\n",
      "Cost after epoch 43: 0.008523\n",
      "Cost after epoch 44: 0.008040\n",
      "Cost after epoch 45: 0.007535\n",
      "Cost after epoch 46: 0.007081\n",
      "Cost after epoch 47: 0.006552\n",
      "Cost after epoch 48: 0.006187\n",
      "Cost after epoch 49: 0.005854\n"
     ]
    }
   ],
   "source": [
    "parameters_final = train_model(X_train, y_train, parameters_pruned, learning_rate=0.01, num_epochs=50, print_cost=True)"
   ]
  },
  {
   "cell_type": "code",
   "execution_count": 81,
   "metadata": {},
   "outputs": [
    {
     "data": {
      "text/plain": [
       "0.9891666666666666"
      ]
     },
     "execution_count": 81,
     "metadata": {},
     "output_type": "execute_result"
    }
   ],
   "source": [
    "measure_accuracy(parameters_final, X_train, y_train)"
   ]
  },
  {
   "cell_type": "code",
   "execution_count": 85,
   "metadata": {},
   "outputs": [
    {
     "data": {
      "text/plain": [
       "0.9841666666666666"
      ]
     },
     "execution_count": 85,
     "metadata": {},
     "output_type": "execute_result"
    }
   ],
   "source": [
    "measure_accuracy(parameters_final, X_test, y_test)"
   ]
  },
  {
   "cell_type": "code",
   "execution_count": null,
   "metadata": {},
   "outputs": [],
   "source": []
  }
 ],
 "metadata": {
  "kernelspec": {
   "display_name": "Python 3",
   "language": "python",
   "name": "python3"
  },
  "language_info": {
   "codemirror_mode": {
    "name": "ipython",
    "version": 3
   },
   "file_extension": ".py",
   "mimetype": "text/x-python",
   "name": "python",
   "nbconvert_exporter": "python",
   "pygments_lexer": "ipython3",
   "version": "3.8.3"
  }
 },
 "nbformat": 4,
 "nbformat_minor": 4
}
