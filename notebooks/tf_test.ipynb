{
 "cells": [
  {
   "cell_type": "code",
   "execution_count": 1,
   "metadata": {},
   "outputs": [],
   "source": [
    "import tensorflow as tf\n",
    "import numpy as np"
   ]
  },
  {
   "cell_type": "code",
   "execution_count": 18,
   "metadata": {},
   "outputs": [
    {
     "name": "stdout",
     "output_type": "stream",
     "text": [
      "Downloading data from https://storage.googleapis.com/tensorflow/tf-keras-datasets/mnist.npz\n",
      "11493376/11490434 [==============================] - 1s 0us/step\n"
     ]
    }
   ],
   "source": [
    "mnist = tf.keras.datasets.mnist\n",
    "(X_train, y_train), (X_test, y_test) = mnist.load_data()"
   ]
  },
  {
   "cell_type": "code",
   "execution_count": 92,
   "metadata": {},
   "outputs": [
    {
     "data": {
      "text/plain": [
       "(60000, 28, 28)"
      ]
     },
     "execution_count": 92,
     "metadata": {},
     "output_type": "execute_result"
    }
   ],
   "source": [
    "X_train.shape"
   ]
  },
  {
   "cell_type": "code",
   "execution_count": 152,
   "metadata": {},
   "outputs": [],
   "source": [
    "class SSRegularizer(tf.keras.regularizers.Regularizer):\n",
    "    def __init__(self, l1):\n",
    "        self.l1 = l1\n",
    "\n",
    "    def __call__(self, x):\n",
    "        scaling_matrix = tf.cumsum(tf.constant(self.l1, shape=x.shape), axis=1) - self.l1\n",
    "        return self.l1 * tf.reduce_sum(tf.multiply(scaling_matrix, tf.abs(x)))\n",
    "\n",
    "    def get_config(self):\n",
    "        return {'l1': float(self.l1)}\n",
    "\n",
    "\n",
    "class SSDense(tf.keras.layers.Layer):\n",
    "    def __init__(self, units, activation=None, kernel_initializer='glorot_uniform', bias_initializer='zeros', l1=0.1):\n",
    "        super().__init__()\n",
    "        self.units = units\n",
    "        self.activation = tf.keras.activations.get(activation)\n",
    "        self.kernel_initializer = tf.keras.initializers.get(kernel_initializer)\n",
    "        self.bias_initializer = tf.keras.initializers.get(bias_initializer)\n",
    "        self.kernel_regularizer = SSRegularizer(l1=l1)\n",
    "\n",
    "    def build(self, input_shape):\n",
    "        self.kernel = self.add_weight(\n",
    "            'kernel',\n",
    "            shape=(input_shape[-1], self.units),\n",
    "            dtype='float32',\n",
    "            initializer=self.kernel_initializer,\n",
    "            regularizer=self.kernel_regularizer)\n",
    "        \n",
    "        self.bias = self.add_weight(\n",
    "            'bias',\n",
    "            shape=(self.units,),\n",
    "            dtype='float32',\n",
    "            initializer=self.bias_initializer)\n",
    "\n",
    "    def call(self, inputs):\n",
    "        return self.activation(tf.matmul(inputs, self.kernel) + self.bias)"
   ]
  },
  {
   "cell_type": "code",
   "execution_count": 153,
   "metadata": {},
   "outputs": [],
   "source": [
    "input_layer = tf.keras.layers.Input(shape=[28, 28])\n",
    "hidden = SSDense(50, activation='relu')\n",
    "\n",
    "x = tf.keras.layers.Flatten()(input_layer)\n",
    "x = hidden(x)\n",
    "output = tf.keras.layers.Dense(10, activation='softmax')(x)\n",
    "\n",
    "model = tf.keras.Model(inputs=[input_layer], outputs=[output])"
   ]
  },
  {
   "cell_type": "code",
   "execution_count": 154,
   "metadata": {},
   "outputs": [],
   "source": [
    "model.compile(loss='sparse_categorical_crossentropy', optimizer='adam', metrics='accuracy')"
   ]
  },
  {
   "cell_type": "code",
   "execution_count": 155,
   "metadata": {},
   "outputs": [
    {
     "name": "stdout",
     "output_type": "stream",
     "text": [
      "Epoch 1/5\n",
      "1875/1875 [==============================] - 3s 1ms/step - loss: 84.1430 - accuracy: 0.6640 - val_loss: 5.3913 - val_accuracy: 0.7755\n",
      "Epoch 2/5\n",
      "1875/1875 [==============================] - 3s 1ms/step - loss: 5.3719 - accuracy: 0.7637 - val_loss: 4.7920 - val_accuracy: 0.7367\n",
      "Epoch 3/5\n",
      "1875/1875 [==============================] - 2s 1ms/step - loss: 3.8833 - accuracy: 0.8079 - val_loss: 3.2184 - val_accuracy: 0.8468\n",
      "Epoch 4/5\n",
      "1875/1875 [==============================] - 2s 1ms/step - loss: 2.8337 - accuracy: 0.8334 - val_loss: 2.5315 - val_accuracy: 0.8351\n",
      "Epoch 5/5\n",
      "1875/1875 [==============================] - 2s 1ms/step - loss: 2.5484 - accuracy: 0.8411 - val_loss: 2.4346 - val_accuracy: 0.8481\n"
     ]
    },
    {
     "data": {
      "text/plain": [
       "<tensorflow.python.keras.callbacks.History at 0x7f0d157f1fd0>"
      ]
     },
     "execution_count": 155,
     "metadata": {},
     "output_type": "execute_result"
    }
   ],
   "source": [
    "model.fit(X_train, y_train, epochs=5, validation_data=((X_test), (y_test)))"
   ]
  },
  {
   "cell_type": "code",
   "execution_count": 156,
   "metadata": {},
   "outputs": [
    {
     "data": {
      "text/plain": [
       "array([0.08386122, 0.05713188, 0.00056058, 0.01311588, 0.03093693,\n",
       "       0.02525304, 0.0245307 , 0.01927312, 0.00046184, 0.0014831 ,\n",
       "       0.03961012, 0.00049501, 0.00051186, 0.00044549, 0.02408647,\n",
       "       0.00044314, 0.0165571 , 0.00048739, 0.00180285, 0.00060964,\n",
       "       0.00080721, 0.00047223, 0.00036902, 0.00044238, 0.00118394,\n",
       "       0.00061396, 0.00081335, 0.00083071, 0.00081291, 0.00052855,\n",
       "       0.00059931, 0.00070067, 0.00050654, 0.00055363, 0.00052984,\n",
       "       0.00059063, 0.00067837, 0.00064678, 0.00059073, 0.00085646,\n",
       "       0.00046051, 0.01424969, 0.00044373, 0.00052758, 0.00062995,\n",
       "       0.00061023, 0.00045959, 0.00046145, 0.00049477, 0.0006274 ],\n",
       "      dtype=float32)"
      ]
     },
     "execution_count": 156,
     "metadata": {},
     "output_type": "execute_result"
    }
   ],
   "source": [
    "np.amax(hidden.kernel, 0)"
   ]
  },
  {
   "cell_type": "code",
   "execution_count": 128,
   "metadata": {},
   "outputs": [
    {
     "data": {
      "text/plain": [
       "<tf.Variable 'ss_dense_13/kernel:0' shape=(784, 50) dtype=float32, numpy=\n",
       "array([[ 2.19782889e-02, -8.38522101e-06,  1.75410969e-06, ...,\n",
       "        -2.57352440e-05, -9.40302416e-05, -3.54066688e-05],\n",
       "       [ 4.62642983e-02, -3.22027790e-06, -1.28006614e-05, ...,\n",
       "        -1.63810124e-04, -8.04495357e-06,  8.38647102e-05],\n",
       "       [ 4.94136587e-02, -1.51565837e-06, -2.69689117e-05, ...,\n",
       "         3.41140549e-05, -1.01994199e-04,  2.84221722e-04],\n",
       "       ...,\n",
       "       [-6.54428005e-02,  9.53386552e-06,  3.28887909e-05, ...,\n",
       "         7.01069439e-05,  1.14341339e-04, -2.56687868e-04],\n",
       "       [ 5.99011704e-02, -1.09144585e-05, -5.63615067e-05, ...,\n",
       "         4.51343221e-05, -1.92771317e-04, -1.97840709e-04],\n",
       "       [-4.54486720e-02, -1.79859289e-05, -1.64482790e-05, ...,\n",
       "        -3.69285408e-06, -8.67230483e-05, -1.00684047e-04]], dtype=float32)>"
      ]
     },
     "execution_count": 128,
     "metadata": {},
     "output_type": "execute_result"
    }
   ],
   "source": [
    "hidden.kernel"
   ]
  },
  {
   "cell_type": "code",
   "execution_count": 37,
   "metadata": {},
   "outputs": [
    {
     "data": {
      "text/plain": [
       "[<tf.Variable 'dense_14/kernel:0' shape=(784, 50) dtype=float32, numpy=\n",
       " array([[-0.01770425,  0.00407095,  0.07000803, ...,  0.08013842,\n",
       "         -0.07911243,  0.01101536],\n",
       "        [-0.01970632,  0.00456458,  0.05945834, ...,  0.08379038,\n",
       "          0.07810465, -0.08296434],\n",
       "        [ 0.056421  ,  0.07724804,  0.00417263, ...,  0.0619384 ,\n",
       "          0.03587858, -0.04258172],\n",
       "        ...,\n",
       "        [-0.06198139, -0.07481034,  0.07102262, ...,  0.00600304,\n",
       "         -0.04394611,  0.03386247],\n",
       "        [ 0.0122844 ,  0.0843849 ,  0.05133539, ...,  0.03520263,\n",
       "         -0.05640824,  0.07732203],\n",
       "        [ 0.08064725,  0.07204448,  0.05897743, ..., -0.04463573,\n",
       "          0.03161991,  0.06805336]], dtype=float32)>,\n",
       " <tf.Variable 'dense_14/bias:0' shape=(50,) dtype=float32, numpy=\n",
       " array([ 0.01858092, -0.00567263, -0.07340959, -0.03671593, -0.05480817,\n",
       "        -0.15721531, -0.08629031, -0.04539269, -0.03571798, -0.15483859,\n",
       "         0.05694963, -0.11505955, -0.06954357, -0.0231346 , -0.12895995,\n",
       "        -0.10701702, -0.00325671, -0.1255568 , -0.04255368, -0.14551792,\n",
       "        -0.01728297, -0.12157677, -0.05090119, -0.02501962, -0.03555273,\n",
       "        -0.02305472, -0.02112482, -0.03666184, -0.02509164, -0.05750733,\n",
       "        -0.06114347, -0.04117309, -0.05738623, -0.03277899, -0.10720365,\n",
       "        -0.05791185, -0.06308155,  0.01006684, -0.02680054,  0.04357996,\n",
       "        -0.09112427, -0.02842028, -0.02387986, -0.05198608, -0.3205928 ,\n",
       "        -0.02475551, -0.11290406, -0.03086611, -0.02650741, -0.02915517],\n",
       "       dtype=float32)>]"
      ]
     },
     "execution_count": 37,
     "metadata": {},
     "output_type": "execute_result"
    }
   ],
   "source": [
    "hidden.weights"
   ]
  },
  {
   "cell_type": "code",
   "execution_count": null,
   "metadata": {},
   "outputs": [],
   "source": []
  }
 ],
 "metadata": {
  "kernelspec": {
   "display_name": "Python 3",
   "language": "python",
   "name": "python3"
  },
  "language_info": {
   "codemirror_mode": {
    "name": "ipython",
    "version": 3
   },
   "file_extension": ".py",
   "mimetype": "text/x-python",
   "name": "python",
   "nbconvert_exporter": "python",
   "pygments_lexer": "ipython3",
   "version": "3.8.8"
  }
 },
 "nbformat": 4,
 "nbformat_minor": 4
}
