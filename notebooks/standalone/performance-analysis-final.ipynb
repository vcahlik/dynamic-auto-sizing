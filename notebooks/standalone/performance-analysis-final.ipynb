{
  "nbformat": 4,
  "nbformat_minor": 0,
  "metadata": {
    "colab": {
      "name": "tf_multi_layer_ssnet_inverse.ipynb",
      "provenance": [],
      "machine_shape": "hm",
      "background_execution": "on",
      "toc_visible": true
    },
    "kernelspec": {
      "display_name": "Python 3",
      "language": "python",
      "name": "python3"
    },
    "language_info": {
      "codemirror_mode": {
        "name": "ipython",
        "version": 3
      },
      "file_extension": ".py",
      "mimetype": "text/x-python",
      "name": "python",
      "nbconvert_exporter": "python",
      "pygments_lexer": "ipython3",
      "version": "3.8.8"
    }
  },
  "cells": [
    {
      "cell_type": "code",
      "metadata": {
        "colab": {
          "base_uri": "https://localhost:8080/"
        },
        "id": "f_deAUKlniFk",
        "outputId": "060055e6-14ab-402b-a360-6253dbed0ec2"
      },
      "source": [
        "gpu_info = !nvidia-smi\n",
        "gpu_info = '\\n'.join(gpu_info)\n",
        "if gpu_info.find('failed') >= 0:\n",
        "  print('Select the Runtime > \"Change runtime type\" menu to enable a GPU accelerator, ')\n",
        "  print('and then re-execute this cell.')\n",
        "else:\n",
        "  print(gpu_info)"
      ],
      "execution_count": null,
      "outputs": [
        {
          "output_type": "stream",
          "name": "stdout",
          "text": [
            "Sat Jan 15 11:37:51 2022       \n",
            "+-----------------------------------------------------------------------------+\n",
            "| NVIDIA-SMI 495.46       Driver Version: 460.32.03    CUDA Version: 11.2     |\n",
            "|-------------------------------+----------------------+----------------------+\n",
            "| GPU  Name        Persistence-M| Bus-Id        Disp.A | Volatile Uncorr. ECC |\n",
            "| Fan  Temp  Perf  Pwr:Usage/Cap|         Memory-Usage | GPU-Util  Compute M. |\n",
            "|                               |                      |               MIG M. |\n",
            "|===============================+======================+======================|\n",
            "|   0  Tesla V100-SXM2...  Off  | 00000000:00:04.0 Off |                    0 |\n",
            "| N/A   41C    P0    26W / 300W |      0MiB / 16160MiB |      0%      Default |\n",
            "|                               |                      |                  N/A |\n",
            "+-------------------------------+----------------------+----------------------+\n",
            "                                                                               \n",
            "+-----------------------------------------------------------------------------+\n",
            "| Processes:                                                                  |\n",
            "|  GPU   GI   CI        PID   Type   Process name                  GPU Memory |\n",
            "|        ID   ID                                                   Usage      |\n",
            "|=============================================================================|\n",
            "|  No running processes found                                                 |\n",
            "+-----------------------------------------------------------------------------+\n"
          ]
        }
      ]
    },
    {
      "cell_type": "code",
      "metadata": {
        "id": "yKwUwV_NneIo"
      },
      "source": [
        "import tensorflow as tf\n",
        "import tensorflow.keras.backend as K\n",
        "import numpy as np\n",
        "import matplotlib.pyplot as plt\n",
        "import pandas as pd\n",
        "import sklearn\n",
        "from enum import Enum\n",
        "import imageio\n",
        "import os\n",
        "import hashlib\n",
        "\n",
        "%matplotlib inline\n",
        "\n",
        "dtype = 'float32'\n",
        "tf.keras.backend.set_floatx(dtype)"
      ],
      "execution_count": 1,
      "outputs": []
    },
    {
      "cell_type": "code",
      "metadata": {
        "id": "UTZq4KMpneIv"
      },
      "source": [
        "################################################################################\n",
        "# DATASETS\n",
        "################################################################################\n",
        "\n",
        "\n",
        "class Dataset:\n",
        "    def __init__(self, X_train, y_train, X_test, y_test, shape, shape_flattened):\n",
        "        X_train = X_train.astype(dtype) / 255.0\n",
        "        y_train = y_train.astype(dtype)\n",
        "        X_test = X_test.astype(dtype)  / 255.0\n",
        "        y_test = y_test.astype(dtype)\n",
        "\n",
        "        X_train = np.reshape(X_train, shape_flattened)\n",
        "        X_test = np.reshape(X_test, shape_flattened)\n",
        "\n",
        "        X = np.concatenate((X_train, X_test), axis=0)\n",
        "        y = np.concatenate((y_train, y_test), axis=0)\n",
        "\n",
        "        from sklearn.preprocessing import StandardScaler\n",
        "\n",
        "        scaler = StandardScaler()\n",
        "        scaler.fit(X_train)  # Scaling each feature independently\n",
        "\n",
        "        X_norm = scaler.transform(X)\n",
        "        X_train_norm = scaler.transform(X_train)\n",
        "        X_test_norm = scaler.transform(X_test)\n",
        "\n",
        "        X_norm = np.reshape(X_norm, shape)\n",
        "        X_train_norm = np.reshape(X_train_norm, shape)\n",
        "        X_test_norm = np.reshape(X_test_norm, shape)\n",
        "\n",
        "        self.X_norm = X_norm\n",
        "        self.y = y\n",
        "        self.X_train_norm = X_train_norm\n",
        "        self.y_train = y_train\n",
        "        self.X_test_norm = X_test_norm\n",
        "        self.y_test = y_test\n",
        "\n",
        "\n",
        "def get_cifar_10_dataset():\n",
        "    cifar10 = tf.keras.datasets.cifar10\n",
        "    (X_train, y_train), (X_test, y_test) = cifar10.load_data()\n",
        "    shape = (-1, 32, 32, 3)\n",
        "    shape_flattened = (-1, 3072)  # Scaling each feature independently\n",
        "    return Dataset(X_train, y_train, X_test, y_test, shape=shape, shape_flattened=shape_flattened)\n",
        "\n",
        "\n",
        "def get_cifar_100_dataset():\n",
        "    cifar100 = tf.keras.datasets.cifar100\n",
        "    (X_train, y_train), (X_test, y_test) = cifar100.load_data()\n",
        "    shape = (-1, 32, 32, 3)\n",
        "    shape_flattened = (-1, 3072)  # Scaling each feature independently\n",
        "    return Dataset(X_train, y_train, X_test, y_test, shape=shape, shape_flattened=shape_flattened)\n",
        "\n",
        "\n",
        "def get_svhn_dataset():\n",
        "    from urllib.request import urlretrieve\n",
        "    from scipy import io\n",
        "\n",
        "    train_filename, _ = urlretrieve('http://ufldl.stanford.edu/housenumbers/train_32x32.mat')\n",
        "    test_filename, _ = urlretrieve('http://ufldl.stanford.edu/housenumbers/test_32x32.mat')\n",
        "\n",
        "    X_train = io.loadmat(train_filename, variable_names='X').get('X')\n",
        "    y_train = io.loadmat(train_filename, variable_names='y').get('y')\n",
        "    X_test = io.loadmat(test_filename, variable_names='X').get('X')\n",
        "    y_test = io.loadmat(test_filename, variable_names='y').get('y')\n",
        "\n",
        "    X_train = np.moveaxis(X_train, -1, 0)\n",
        "    y_train -= 1\n",
        "    X_test = np.moveaxis(X_test, -1, 0)\n",
        "    y_test -= 1\n",
        "\n",
        "    shape = (-1, 32, 32, 3)\n",
        "    shape_flattened = (-1, 3072)  # Scaling each feature independently\n",
        "    return Dataset(X_train, y_train, X_test, y_test, shape=shape, shape_flattened=shape_flattened)\n",
        "\n",
        "\n",
        "def get_tiny_imagenet_dataset():\n",
        "    \"\"\"\n",
        "    Original source: https://github.com/sonugiri1043/Train_ResNet_On_Tiny_ImageNet/blob/master/Train_ResNet_On_Tiny_ImageNet.ipynb\n",
        "    Original author: sonugiri1043@gmail.com\n",
        "    \"\"\"\n",
        "\n",
        "    if not os.path.isdir('IMagenet'):\n",
        "        ! git clone https://github.com/seshuad/IMagenet\n",
        "\n",
        "    print(\"Processing the downloaded dataset...\")\n",
        "\n",
        "    path = 'IMagenet/tiny-imagenet-200/'\n",
        "\n",
        "    id_dict = {}\n",
        "    for i, line in enumerate(open(path + 'wnids.txt', 'r')):\n",
        "        id_dict[line.replace('\\n', '')] = i\n",
        "\n",
        "    train_data = list()\n",
        "    test_data = list()\n",
        "    train_labels = list()\n",
        "    test_labels = list()\n",
        "\n",
        "    for key, value in id_dict.items():\n",
        "        train_data += [imageio.imread(path + 'train/{}/images/{}_{}.JPEG'.format(key, key, str(i)), pilmode='RGB') for i in range(500)]\n",
        "        train_labels_ = np.array([[0]*200]*500)\n",
        "        train_labels_[:, value] = 1\n",
        "        train_labels += train_labels_.tolist()\n",
        "\n",
        "    for line in open(path + 'val/val_annotations.txt'):\n",
        "        img_name, class_id = line.split('\\t')[:2]\n",
        "        test_data.append(imageio.imread(path + 'val/images/{}'.format(img_name), pilmode='RGB'))\n",
        "        test_labels_ = np.array([[0]*200])\n",
        "        test_labels_[0, id_dict[class_id]] = 1\n",
        "        test_labels += test_labels_.tolist()\n",
        "\n",
        "    X_train = np.array(train_data)\n",
        "    y_train = np.argmax(np.array(train_labels), axis=1)\n",
        "    X_test = np.array(test_data)\n",
        "    y_test = np.argmax(np.array(test_labels), axis=1)\n",
        "\n",
        "    shape = (-1, 64, 64, 3)\n",
        "    shape_flattened = (-1, 12288)  # Scaling each feature independently\n",
        "    return Dataset(X_train, y_train, X_test, y_test, shape=shape, shape_flattened=shape_flattened)\n",
        "\n",
        "\n",
        "def get_mnist_dataset():\n",
        "    mnist = tf.keras.datasets.mnist\n",
        "    (X_train, y_train), (X_test, y_test) = mnist.load_data()\n",
        "    shape = (-1, 28, 28, 1)\n",
        "    shape_flattened = (-1, 1)  # Scaling all features together\n",
        "    return Dataset(X_train, y_train, X_test, y_test, shape=shape, shape_flattened=shape_flattened)\n",
        "\n",
        "\n",
        "def get_fashion_mnist_dataset():\n",
        "    fashion_mnist = tf.keras.datasets.fashion_mnist\n",
        "    (X_train, y_train), (X_test, y_test) = fashion_mnist.load_data()\n",
        "    shape = (-1, 28, 28, 1)\n",
        "    shape_flattened = (-1, 1)  # Scaling all features together\n",
        "    return Dataset(X_train, y_train, X_test, y_test, shape=shape, shape_flattened=shape_flattened)\n",
        "\n",
        "\n",
        "################################################################################\n",
        "# REGULARIZERS\n",
        "################################################################################\n",
        "\n",
        "\n",
        "class Regularizer(tf.keras.regularizers.Regularizer):\n",
        "    def __init__(self):\n",
        "        self.n_new_neurons = 0\n",
        "        self.scaling_tensor = None\n",
        "        self.set_regularization_penalty(0.)\n",
        "        self.set_regularization_method(None)\n",
        "\n",
        "    def __call__(self, x):\n",
        "        if self.regularization_method is None or self.regularization_penalty == 0:\n",
        "            return 0\n",
        "        elif self.regularization_method == 'weighted_l1':\n",
        "            return self.weighted_l1(x)\n",
        "        elif self.regularization_method == 'weighted_l1_reordered':\n",
        "            return self.weighted_l1_reordered(x)\n",
        "        elif self.regularization_method == 'group_sparsity':\n",
        "            return self.group_sparsity(x)\n",
        "        elif self.regularization_method == 'l1':\n",
        "            return self.l1(x)\n",
        "        else:\n",
        "            raise NotImplementedError(f\"Unknown regularization method {self.regularization_method}\")\n",
        "    \n",
        "    def weighted_l1(self, x):\n",
        "        # I.e. for a parameter matrix of 4 input and 10 output neurons:\n",
        "        #\n",
        "        # [[1., 1., 1., 1., 1., 1., 1., 1., 1., 1.],\n",
        "        #  [1., 1., 1., 1., 1., 1., 1., 1., 1., 1.],\n",
        "        #  [1., 1., 1., 1., 1., 1., 1., 1., 1., 1.],\n",
        "        #  [1., 1., 1., 1., 1., 1., 1., 1., 1., 1.]]\n",
        "        #\n",
        "        # the scaling tensor, as well as the resulting weighted values, could be:\n",
        "        #\n",
        "        # [[ 1.,  2.,  3.,  4.,  5.,  6.,  7.,  8.,  9., 10.],\n",
        "        #  [ 1.,  2.,  3.,  4.,  5.,  6.,  7.,  8.,  9., 10.],\n",
        "        #  [ 1.,  2.,  3.,  4.,  5.,  6.,  7.,  8.,  9., 10.],\n",
        "        #  [ 1.,  2.,  3.,  4.,  5.,  6.,  7.,  8.,  9., 10.]]\n",
        "        #\n",
        "        # Therefore every additional output neuron is regularized more.\n",
        "\n",
        "        scaling_tensor = tf.cumsum(tf.constant(self.regularization_penalty, shape=x.shape, dtype=dtype), axis=-1)\n",
        "        weighted_values = scaling_tensor * tf.abs(x)\n",
        "        return tf.reduce_sum(weighted_values)\n",
        "    \n",
        "    def weighted_l1_reordered(self, x):\n",
        "        # I.e. for a parameter matrix of 4 input and 10 output neurons:\n",
        "        #\n",
        "        # [[1., 1., 1., 1., 1., 1., 1., 1., 1., 1.],\n",
        "        #  [1., 1., 1., 1., 1., 1., 1., 1., 1., 1.],\n",
        "        #  [1., 1., 1., 1., 1., 1., 1., 1., 1., 1.],\n",
        "        #  [1., 1., 1., 1., 1., 1., 1., 1., 1., 1.]]\n",
        "        #\n",
        "        # the scaling tensor, as well as the resulting weighted values, could be:\n",
        "        #\n",
        "        # [[ 1.,  2.,  3.,  4.,  5.,  6.,  7.,  8.,  9., 10.],\n",
        "        #  [ 1.,  2.,  3.,  4.,  5.,  6.,  7.,  8.,  9., 10.],\n",
        "        #  [ 1.,  2.,  3.,  4.,  5.,  6.,  7.,  8.,  9., 10.],\n",
        "        #  [ 1.,  2.,  3.,  4.,  5.,  6.,  7.,  8.,  9., 10.]]\n",
        "        #\n",
        "        # Therefore every additional output neuron is regularized more.\n",
        "\n",
        "        if self.update_scaling_tensor:\n",
        "            scaling_tensor_raw = tf.cumsum(tf.constant(self.regularization_penalty, shape=x.shape, dtype=dtype), axis=-1)\n",
        "\n",
        "            scaling_tensor_old_neurons = scaling_tensor_raw[:, :-self.n_new_neurons]\n",
        "            scaling_tensor_new_neurons = scaling_tensor_raw[:, -self.n_new_neurons:]\n",
        "            scaling_tensor_old_neurons_shuffled = tf.transpose(tf.random.shuffle(tf.transpose(scaling_tensor_old_neurons)))\n",
        "            self.scaling_tensor = tf.concat([scaling_tensor_old_neurons_shuffled, scaling_tensor_new_neurons], axis=-1)\n",
        "            self.update_scaling_tensor = False\n",
        "\n",
        "        weighted_values = self.scaling_tensor * tf.abs(x)\n",
        "        return tf.reduce_sum(weighted_values)\n",
        "    \n",
        "    def group_sparsity(self, x):\n",
        "        # I.e. for a parameter matrix of 3 input and 5 output neurons:\n",
        "        #\n",
        "        # [[1., 1., 1., 1., 1.],\n",
        "        #  [1., 2., 2., 1., 2.],\n",
        "        #  [2., 2., 3., 1., 3.]]\n",
        "        #\n",
        "        # The resulting vector of group norms is [2.4494896, 3.       , 3.7416573, 1.7320508, 3.7416573], \n",
        "        # therefore for every output neuron, its incoming connections form a group.\n",
        "\n",
        "        group_norms = tf.norm(x, ord=2, axis=0)\n",
        "        # assert group_norms.shape[0] == x.shape[1]\n",
        "        return self.regularization_penalty * tf.reduce_sum(group_norms)\n",
        "    \n",
        "    def l1(self, x):\n",
        "        weighted_values = self.regularization_penalty * tf.abs(x)\n",
        "        return tf.reduce_sum(weighted_values)\n",
        "    \n",
        "    def prune(self):\n",
        "        self.n_new_neurons = 0\n",
        "        if self.regularization_method == 'weighted_l1_reordered':\n",
        "            self.update_scaling_tensor = True\n",
        "    \n",
        "    def grow(self, n_new_neurons):\n",
        "        self.n_new_neurons = n_new_neurons\n",
        "        if self.regularization_method == 'weighted_l1_reordered':\n",
        "            self.update_scaling_tensor = True\n",
        "    \n",
        "    def set_regularization_penalty(self, regularization_penalty):\n",
        "        self.regularization_penalty = regularization_penalty\n",
        "    \n",
        "    def set_regularization_method(self, regularization_method):\n",
        "        self.regularization_method = regularization_method\n",
        "        if self.regularization_method == 'weighted_l1_reordered':\n",
        "            self.update_scaling_tensor = True\n",
        "        else:\n",
        "            self.update_scaling_tensor = None\n",
        "\n",
        "    def get_config(self):\n",
        "        return {'regularization_penalty': float(self.regularization_penalty)}\n",
        "\n",
        "\n",
        "################################################################################\n",
        "# LAYERS\n",
        "################################################################################\n",
        "\n",
        "\n",
        "class CustomLayer(tf.keras.layers.Layer):\n",
        "    def __init__(self, input_shape):\n",
        "        super().__init__()\n",
        "\n",
        "        self.inpt_shp = input_shape\n",
        "\n",
        "\n",
        "class Dense(CustomLayer):\n",
        "    def __init__(self, units, activation, kernel_initializer='glorot_uniform', \n",
        "                 bias_initializer='zeros', input_shape=None, fixed_size=False):\n",
        "        super().__init__(input_shape)\n",
        "\n",
        "        self.units = units\n",
        "        self.activation = activation\n",
        "        self.kernel_initializer = kernel_initializer\n",
        "        self.bias_initializer = bias_initializer\n",
        "        self.fixed_size = fixed_size\n",
        "        \n",
        "        self.A = tf.keras.activations.get(activation)\n",
        "        self.W_init = tf.keras.initializers.get(kernel_initializer)\n",
        "        self.b_init = tf.keras.initializers.get(bias_initializer)\n",
        "        self.regularizer = Regularizer()\n",
        "    \n",
        "    def build(self, input_shape):\n",
        "        input_units = input_shape[-1]\n",
        "\n",
        "        self.W = tf.Variable(\n",
        "            name='W',\n",
        "            initial_value=self.W_init(shape=(input_units, self.units), dtype=dtype),\n",
        "            trainable=True)\n",
        "        \n",
        "        self.b = tf.Variable(\n",
        "            name='b',\n",
        "            initial_value=self.b_init(shape=(self.units,), dtype=dtype),\n",
        "            trainable=True)\n",
        "        \n",
        "        self.add_loss(lambda: self.regularizer(tf.concat([self.W, tf.reshape(self.b, (1, -1))], axis=0)))\n",
        "    \n",
        "    def call(self, inputs, training=None):\n",
        "        return self.A(tf.matmul(inputs, self.W) + self.b)\n",
        "\n",
        "    def get_size(self):\n",
        "        return self.W.shape[0], self.W.shape[1]\n",
        "    \n",
        "    def prune(self, threshold, active_input_units_indices):\n",
        "        # Remove connections from pruned units in previous layer\n",
        "        new_W = tf.gather(self.W.value(), active_input_units_indices, axis=0)\n",
        "\n",
        "        if self.fixed_size:\n",
        "            active_output_neurons_indices = list(range(new_W.shape[1]))\n",
        "        else:\n",
        "            # Prune units in this layer\n",
        "            weights_with_biases = tf.concat([new_W, tf.reshape(self.b.value(), (1, -1))], axis=0)\n",
        "            neurons_are_active = tf.math.reduce_max(tf.abs(weights_with_biases), axis=0) >= threshold\n",
        "            active_output_neurons_indices = tf.reshape(tf.where(neurons_are_active), (-1,))\n",
        "            \n",
        "            new_W = tf.gather(new_W, active_output_neurons_indices, axis=1)\n",
        "            new_b = tf.gather(self.b.value(), active_output_neurons_indices, axis=0)\n",
        "\n",
        "            self.b = tf.Variable(name='b', initial_value=new_b, trainable=True)\n",
        "\n",
        "        self.W = tf.Variable(name='W', initial_value=new_W, trainable=True)\n",
        "\n",
        "        self.regularizer.prune()\n",
        "        return active_output_neurons_indices\n",
        "    \n",
        "    def grow(self, n_new_input_units, percentage, min_new_units, scaling_factor):\n",
        "        if n_new_input_units > 0:\n",
        "            # Add connections to grown units in previous layer\n",
        "            W_growth = self.W_init(shape=(self.W.shape[0] + n_new_input_units, self.W.shape[1]), dtype=dtype)[-n_new_input_units:, :] * scaling_factor  # TODO is it better to be multiplying here by scaling_factor? It does help with not increasing the max weights of existing neurons when new neurons are added.\n",
        "            new_W = tf.concat([self.W.value(), W_growth], axis=0)\n",
        "        else:\n",
        "            new_W = self.W.value()\n",
        "\n",
        "        if self.fixed_size:\n",
        "            n_new_output_units = 0\n",
        "        else:\n",
        "            # Grow new units in this layer\n",
        "            n_new_output_units = max(min_new_units, int(new_W.shape[1] * percentage))\n",
        "            if n_new_output_units > 0:\n",
        "                W_growth = self.W_init(shape=(new_W.shape[0], new_W.shape[1] + n_new_output_units), dtype=dtype)[:, -n_new_output_units:] * scaling_factor\n",
        "                b_growth = self.b_init(shape=(n_new_output_units,), dtype=dtype)  # TODO for all possible bias initializers to work properly, the whole bias vector should be initialized at once\n",
        "                new_W = tf.concat([new_W, W_growth], axis=1)\n",
        "                new_b = tf.concat([self.b.value(), b_growth], axis=0)\n",
        "\n",
        "                self.b = tf.Variable(name='b', initial_value=new_b, trainable=True)\n",
        "\n",
        "        self.W = tf.Variable(name='W', initial_value=new_W, trainable=True)\n",
        "\n",
        "        self.regularizer.grow(n_new_output_units)\n",
        "        return n_new_output_units\n",
        "    \n",
        "    def set_regularization_penalty(self, regularization_penalty):\n",
        "        if not self.fixed_size:\n",
        "            self.regularizer.set_regularization_penalty(regularization_penalty)\n",
        "    \n",
        "    def set_regularization_method(self, regularization_method):\n",
        "        if not self.fixed_size:\n",
        "            self.regularizer.set_regularization_method(regularization_method)\n",
        "    \n",
        "    def get_param_string():\n",
        "        param_string = \"\"\n",
        "        weights_with_bias = tf.concat([self.W, tf.reshape(self.b, (1, -1))], axis=0)\n",
        "        max_parameters = tf.math.reduce_max(tf.abs(weights_with_bias), axis=0).numpy()\n",
        "        magnitudes = np.floor(np.log10(max_parameters))\n",
        "        for m in magnitudes:\n",
        "            if m > 0:\n",
        "                m = 0\n",
        "            param_string += str(int(-m))\n",
        "        return param_string\n",
        "\n",
        "\n",
        "class Conv2D(CustomLayer):\n",
        "    def __init__(self, filters, filter_size, activation, strides=(1, 1), \n",
        "                 padding='SAME', kernel_initializer='glorot_uniform',\n",
        "                 bias_initializer='zeros', input_shape=None, fixed_size=False):\n",
        "        super().__init__(input_shape)\n",
        "    \n",
        "        self.filters = filters\n",
        "        self.filter_size = filter_size\n",
        "        self.activation = activation\n",
        "        self.strides = strides\n",
        "        self.padding = padding\n",
        "        self.kernel_initializer = kernel_initializer\n",
        "        self.bias_initializer = bias_initializer\n",
        "        self.fixed_size = fixed_size\n",
        "        \n",
        "        self.A = tf.keras.activations.get(activation)\n",
        "        self.F_init = tf.keras.initializers.get(kernel_initializer)\n",
        "        self.b_init = tf.keras.initializers.get(bias_initializer)\n",
        "        self.regularizer = Regularizer()\n",
        "    \n",
        "    def build(self, input_shape):\n",
        "        input_filters = input_shape[-1]\n",
        "\n",
        "        self.F = tf.Variable(\n",
        "            name='F',\n",
        "            initial_value=self.F_init(\n",
        "                shape=(self.filter_size[0], self.filter_size[1], input_filters, self.filters), dtype=dtype\n",
        "            ),\n",
        "            trainable=True)\n",
        "        \n",
        "        self.b = tf.Variable(\n",
        "            name='b',\n",
        "            initial_value=self.b_init(shape=(self.filters,), dtype=dtype),\n",
        "            trainable=True)\n",
        "\n",
        "        self.add_loss(lambda: self.regularizer(tf.concat([tf.reshape(self.F, (-1, self.F.shape[-1])), tf.reshape(self.b, (1, -1))], axis=0)))\n",
        "    \n",
        "    def call(self, inputs, training=None):\n",
        "        y = tf.nn.conv2d(inputs, self.F, strides=self.strides, padding=self.padding)\n",
        "        y = tf.nn.bias_add(y, self.b)\n",
        "        y = self.A(y)\n",
        "        return y\n",
        "    \n",
        "    def get_size(self):\n",
        "        return self.F.shape[-2], self.F.shape[-1]\n",
        "    \n",
        "    def prune(self, threshold, active_input_units_indices):\n",
        "        # Remove connections from pruned units in previous layer\n",
        "        new_F = tf.gather(self.F.value(), active_input_units_indices, axis=-2)\n",
        "\n",
        "        if self.fixed_size:\n",
        "            active_output_filters_indices = list(range(new_F.shape[-1]))\n",
        "        else:\n",
        "            # Prune units in this layer\n",
        "            F_reduced_max = tf.reshape(tf.math.reduce_max(tf.abs(new_F), axis=(0, 1, 2)), (1, -1))\n",
        "            F_reduced_max_with_biases = tf.concat([F_reduced_max, tf.reshape(self.b.value(), (1, -1))], axis=0)\n",
        "            filters_are_active = tf.math.reduce_max(tf.abs(F_reduced_max_with_biases), axis=0) >= threshold\n",
        "            active_output_filters_indices = tf.reshape(tf.where(filters_are_active), (-1,))\n",
        "            \n",
        "            new_F = tf.gather(new_F, active_output_filters_indices, axis=-1)\n",
        "            new_b = tf.gather(self.b.value(), active_output_filters_indices, axis=0)\n",
        "\n",
        "            self.b = tf.Variable(name='b', initial_value=new_b, trainable=True)\n",
        "\n",
        "        self.F = tf.Variable(name='F', initial_value=new_F, trainable=True)\n",
        "\n",
        "        self.regularizer.prune()\n",
        "        return active_output_filters_indices\n",
        "\n",
        "    def grow(self, n_new_input_units, percentage, min_new_units, scaling_factor):\n",
        "        if n_new_input_units > 0:\n",
        "            # Add connections to grown units in previous layer\n",
        "            F_growth = self.F_init(shape=(self.F.shape[0], self.F.shape[1], self.F.shape[2] + n_new_input_units, self.F.shape[3]), dtype=dtype)[:, :, -n_new_input_units:, :] * scaling_factor  # TODO is it better to be multiplying here by scaling_factor? It does help with not increasing the max weights of existing neurons when new neurons are added.\n",
        "            new_F = tf.concat([self.F.value(), F_growth], axis=-2)\n",
        "        else:\n",
        "            new_F = self.F.value()\n",
        "\n",
        "        if self.fixed_size:\n",
        "            n_new_output_units = 0\n",
        "        else:\n",
        "            # Grow new units in this layer\n",
        "            n_new_output_units = max(min_new_units, int(new_F.shape[-1] * percentage))\n",
        "            if n_new_output_units > 0:\n",
        "                F_growth = self.F_init(shape=(new_F.shape[0], new_F.shape[1], new_F.shape[2], new_F.shape[3] + n_new_output_units), dtype=dtype)[:, :, :, -n_new_output_units:] * scaling_factor\n",
        "                b_growth = self.b_init(shape=(n_new_output_units,), dtype=dtype)  # TODO for all possible bias initializers to work properly, the whole bias vector should be initialized at once\n",
        "                new_F = tf.concat([new_F, F_growth], axis=-1)\n",
        "                new_b = tf.concat([self.b.value(), b_growth], axis=0)\n",
        "\n",
        "                self.b = tf.Variable(name='b', initial_value=new_b, trainable=True)\n",
        "\n",
        "        self.F = tf.Variable(name='F', initial_value=new_F, trainable=True)\n",
        "\n",
        "        self.regularizer.grow(n_new_output_units)\n",
        "        return n_new_output_units\n",
        "    \n",
        "    def set_regularization_penalty(self, regularization_penalty):\n",
        "        if not self.fixed_size:\n",
        "            self.regularizer.set_regularization_penalty(regularization_penalty)\n",
        "    \n",
        "    def set_regularization_method(self, regularization_method):\n",
        "        if not self.fixed_size:\n",
        "            self.regularizer.set_regularization_method(regularization_method)\n",
        "\n",
        "    def get_param_string():\n",
        "        param_string = \"\"\n",
        "        # TODO\n",
        "        return param_string\n",
        "\n",
        "\n",
        "class Flatten(tf.keras.Model):\n",
        "    def call(self, inputs, training=None):\n",
        "        return tf.reshape(tf.transpose(inputs, perm=[0, 3, 1, 2]), (inputs.shape[0], -1))\n",
        "\n",
        "\n",
        "################################################################################\n",
        "# MODELS\n",
        "################################################################################\n",
        "\n",
        "\n",
        "class Epoch:\n",
        "    def __init__(self, grow, prune, regularization_penalty, regularization_method):\n",
        "        self.grow = grow\n",
        "        self.prune = prune\n",
        "        self.regularization_penalty = regularization_penalty\n",
        "        self.regularization_method = regularization_method\n",
        "    \n",
        "    def __str__(self):\n",
        "        return f'{int(self.grow)}{int(self.prune)}{self.regularization_penalty}{self.regularization_method}'\n",
        "    \n",
        "    def __repr__(self):\n",
        "        return self.__str__()\n",
        "\n",
        "\n",
        "class DynamicEpoch(Epoch):\n",
        "    def __init__(self, regularization_penalty, regularization_method):\n",
        "        super().__init__(True, True, regularization_penalty, regularization_method)\n",
        "\n",
        "\n",
        "class StaticEpoch(Epoch):\n",
        "    def __init__(self, regularization_penalty, regularization_method):\n",
        "        super().__init__(False, False, regularization_penalty, regularization_method)\n",
        "\n",
        "\n",
        "class StaticEpochNoRegularization(StaticEpoch):\n",
        "    def __init__(self):\n",
        "        super().__init__(0., None)\n",
        "\n",
        "\n",
        "class Schedule:\n",
        "    def __init__(self, epochs):\n",
        "        self.epochs = epochs\n",
        "\n",
        "    def __iter__(self):\n",
        "        return self.epochs.__iter__()\n",
        "    \n",
        "    def __len__(self):\n",
        "        return len(self.epochs)\n",
        "    \n",
        "    def __str__(self):\n",
        "        text = ''.join([str(epoch) for epoch in self.epochs])\n",
        "        return hashlib.sha1(text.encode('utf-8')).hexdigest()[:10]\n",
        "    \n",
        "    def __repr__(self):\n",
        "        return self.__str__()\n",
        "\n",
        "\n",
        "class Sequential(tf.keras.Model):\n",
        "    def __init__(self, layers, activation=None):\n",
        "        super().__init__()\n",
        "        \n",
        "        self.lrs = layers\n",
        "        \n",
        "    def call(self, inputs, training=None):\n",
        "        x = inputs\n",
        "        for layer in self.lrs:\n",
        "            x = layer(x, training=training)\n",
        "        return x\n",
        "    \n",
        "    def get_layer_input_shape(self, target_layer):\n",
        "        if target_layer.inpt_shp is not None:\n",
        "            return target_layer.inpt_shp\n",
        "\n",
        "        input = np.random.normal(size=(1,) + self.lrs[0].inpt_shp)\n",
        "        for layer in self.lrs:\n",
        "            if layer is target_layer:\n",
        "                return tuple(input.shape[1:])\n",
        "            input = layer(input)\n",
        "        raise Exception(\"Layer not found in the model.\")\n",
        "\n",
        "    def get_layer_output_shape(self, target_layer):\n",
        "        input = np.random.normal(size=(1,) + self.lrs[0].inpt_shp)\n",
        "        for layer in self.lrs:\n",
        "            output = layer(input)\n",
        "            if layer is target_layer:\n",
        "                return tuple(output.shape[1:])\n",
        "            input = output\n",
        "        raise Exception(\"Layer not found in the model.\")\n",
        "    \n",
        "    def get_layer_sizes(self):\n",
        "        \"\"\"\n",
        "        Returns the sizes of all layers in the model, including the input and output layer.\n",
        "        \"\"\"\n",
        "        layer_sizes = list()\n",
        "        first_layer = True\n",
        "        for l in range(len(self.lrs)):\n",
        "            layer = self.lrs[l]\n",
        "            if isinstance(layer, CustomLayer):\n",
        "                layer_size = layer.get_size()\n",
        "                if first_layer:\n",
        "                    layer_sizes.append(layer_size[0])\n",
        "                    first_layer = False\n",
        "                layer_sizes.append(layer_size[1])\n",
        "        return layer_sizes\n",
        "    \n",
        "    def get_hidden_layer_sizes(self):\n",
        "        return self.get_layer_sizes()[1:-1]\n",
        "    \n",
        "    def get_regularization_penalty(self):\n",
        "        #TODO improve\n",
        "        return self.lrs[-2].regularizer.regularization_penalty\n",
        "    \n",
        "    def set_regularization_penalty(self, regularization_penalty):\n",
        "        for layer in self.lrs:\n",
        "            if isinstance(layer, CustomLayer) and not layer.fixed_size:\n",
        "                layer.set_regularization_penalty(regularization_penalty)\n",
        "    \n",
        "    def set_regularization_method(self, regularization_method):\n",
        "        for layer in self.lrs:\n",
        "            if isinstance(layer, CustomLayer) and not layer.fixed_size:\n",
        "                layer.set_regularization_method(regularization_method)\n",
        "\n",
        "    def prune(self, params):\n",
        "        input_shape = self.get_layer_input_shape(self.lrs[0])\n",
        "        n_input_units = input_shape[-1]\n",
        "        active_units_indices = list(range(n_input_units))\n",
        "\n",
        "        last_custom_layer = None\n",
        "        for layer in self.lrs:\n",
        "            if isinstance(layer, CustomLayer):\n",
        "                if last_custom_layer is not None and type(last_custom_layer) != type(layer):\n",
        "                    if type(last_custom_layer) == Conv2D and type(layer) == Dense:\n",
        "                        convolutional_shape = self.get_layer_output_shape(last_custom_layer)\n",
        "                        active_units_indices = self.convert_channel_indices_to_flattened_indices(active_units_indices, convolutional_shape)\n",
        "                    else:\n",
        "                        raise Exception(\"Incorrect order of custom layer types.\")\n",
        "                active_units_indices = layer.prune(params.pruning_threshold, active_units_indices)\n",
        "                last_custom_layer = layer\n",
        "    \n",
        "    def grow(self, params):   \n",
        "        n_new_units = 0\n",
        "\n",
        "        last_custom_layer = None\n",
        "        for layer in self.lrs:\n",
        "            if isinstance(layer, CustomLayer):\n",
        "                if last_custom_layer is not None and type(last_custom_layer) != type(layer):\n",
        "                    if type(last_custom_layer) == Conv2D and type(layer) == Dense:\n",
        "                        convolutional_shape = self.get_layer_output_shape(last_custom_layer)\n",
        "                        n_new_units = n_new_units * convolutional_shape[0] * convolutional_shape[1]\n",
        "                    else:\n",
        "                        raise Exception(\"Incorrect order of custom layer types.\")\n",
        "                n_new_units = layer.grow(n_new_units, params.growth_percentage, min_new_units=params.min_new_neurons, scaling_factor=params.pruning_threshold)\n",
        "                last_custom_layer = layer\n",
        "    \n",
        "    @staticmethod\n",
        "    def convert_channel_indices_to_flattened_indices(channel_indices, convolutional_shape):\n",
        "        dense_indices = list()\n",
        "        units_per_channel = convolutional_shape[0] * convolutional_shape[1]\n",
        "        for channel_index in channel_indices:\n",
        "            for iter in range(units_per_channel):\n",
        "                dense_indices.append(channel_index * units_per_channel + iter)\n",
        "        return dense_indices\n",
        "    \n",
        "    def print_neurons(self):\n",
        "        for layer in self.lrs[:-1]:\n",
        "            print(layer.get_param_string())\n",
        "    \n",
        "    def evaluate(self, params, summed_training_loss, summed_training_accuracy):\n",
        "        # Calculate training loss and accuracy\n",
        "        if summed_training_loss is not None:\n",
        "            loss = summed_training_loss / params.x.shape[0]\n",
        "        else:\n",
        "            loss = None\n",
        "        \n",
        "        if summed_training_accuracy is not None:\n",
        "            accuracy = summed_training_accuracy / params.x.shape[0]\n",
        "        else:\n",
        "            accuracy = None\n",
        "        \n",
        "        # Calculate val loss and accuracy\n",
        "        summed_val_loss = 0\n",
        "        summed_val_accuracy = 0\n",
        "        n_val_instances = 0\n",
        "        \n",
        "        for step, (x_batch, y_batch) in enumerate(params.val_dataset):\n",
        "            y_pred = self(x_batch, training=False)\n",
        "            summed_val_loss += tf.reduce_sum(tf.keras.losses.sparse_categorical_crossentropy(y_batch, y_pred))\n",
        "            summed_val_accuracy += float(tf.reduce_sum(tf.keras.metrics.sparse_categorical_accuracy(y_batch, y_pred)))\n",
        "            n_val_instances += x_batch.shape[0]\n",
        "        \n",
        "        val_loss = summed_val_loss / n_val_instances\n",
        "        val_accuracy = summed_val_accuracy / n_val_instances\n",
        "\n",
        "        return loss, accuracy, val_loss, val_accuracy\n",
        "    \n",
        "    def count_params(self):\n",
        "        trainable_count = np.sum([K.count_params(w) for w in self.trainable_weights])\n",
        "        non_trainable_count = np.sum([K.count_params(w) for w in self.non_trainable_weights])\n",
        "        total_count = trainable_count + non_trainable_count\n",
        "\n",
        "        print('Total params: {:,}'.format(total_count))\n",
        "        print('Trainable params: {:,}'.format(trainable_count))\n",
        "        print('Non-trainable params: {:,}'.format(non_trainable_count))\n",
        "\n",
        "        return total_count, trainable_count, non_trainable_count\n",
        "    \n",
        "    def print_epoch_statistics(self, params, summed_training_loss, summed_training_accuracy, message=None, require_result=False):\n",
        "        if not params.verbose:\n",
        "            if require_result:\n",
        "                return self.evaluate(params, summed_training_loss, summed_training_accuracy)\n",
        "            else:\n",
        "                return\n",
        "        \n",
        "        loss, accuracy, val_loss, val_accuracy = self.evaluate(params, summed_training_loss, summed_training_accuracy)  \n",
        "\n",
        "        if message is not None:\n",
        "            print(message)\n",
        "        \n",
        "        print(f\"loss: {loss} - accuracy: {accuracy} - val_loss: {val_loss} - val_accuracy: {val_accuracy} - penalty: {self.get_regularization_penalty()}\")\n",
        "        hidden_layer_sizes = self.get_hidden_layer_sizes()\n",
        "        print(f\"hidden layer sizes: {hidden_layer_sizes}, total units: {sum(hidden_layer_sizes)}\")\n",
        "        if params.print_neurons:\n",
        "            self.print_neurons()\n",
        "        \n",
        "        if require_result:\n",
        "            return loss, accuracy, val_loss, val_accuracy\n",
        "    \n",
        "    def update_history(self, params, loss, accuracy, val_loss, val_accuracy):\n",
        "        params.history['loss'].append(loss)\n",
        "        params.history['accuracy'].append(accuracy)\n",
        "        params.history['val_loss'].append(val_loss)\n",
        "        params.history['val_accuracy'].append(val_accuracy)\n",
        "        params.history['hidden_layer_sizes'].append(self.get_hidden_layer_sizes())\n",
        "    \n",
        "    @staticmethod\n",
        "    def prepare_datasets(x, y, batch_size, validation_data):\n",
        "        train_dataset = tf.data.Dataset.from_tensor_slices((x, y))\n",
        "        train_dataset = train_dataset.shuffle(buffer_size=20000).batch(batch_size)\n",
        "        val_dataset = tf.data.Dataset.from_tensor_slices(validation_data).batch(batch_size)\n",
        "        return train_dataset.prefetch(tf.data.AUTOTUNE), val_dataset.prefetch(tf.data.AUTOTUNE)\n",
        "    \n",
        "    def manage_dynamic_regularization(self, params, val_loss):\n",
        "        if val_loss >= params.best_conditional_val_loss * params.stall_coefficient:\n",
        "            # Training is currently in stall\n",
        "            if not params.training_stalled:\n",
        "                penalty = self.get_regularization_penalty() * params.regularization_penalty_multiplier\n",
        "                print(\"Changing penalty...\")\n",
        "                # TODO this must be modified, penalty can differ for each layer\n",
        "                self.set_regularization_penalty(penalty)\n",
        "                params.training_stalled = True\n",
        "        else:\n",
        "            params.best_conditional_val_loss = val_loss\n",
        "            params.training_stalled = False\n",
        "    \n",
        "    def grow_wrapper(self, params):\n",
        "        dynamic_reqularization_active = params.regularization_penalty_multiplier != 1.\n",
        "        if dynamic_reqularization_active:\n",
        "            loss, accuracy, val_loss, val_accuracy = self.print_epoch_statistics(params, None, None, \"Before growing:\", require_result=True)\n",
        "            self.manage_dynamic_regularization(params, val_loss)\n",
        "        else:\n",
        "            self.print_epoch_statistics(params, None, None, \"Before growing:\")\n",
        "\n",
        "        self.grow(params)\n",
        "        self.print_epoch_statistics(params, None, None, \"After growing:\")\n",
        "    \n",
        "    def prune_wrapper(self, params, summed_loss, summed_accuracy):\n",
        "        loss, accuracy, _, _ = self.print_epoch_statistics(params, summed_loss, summed_accuracy, \"Before pruning:\", require_result=True)\n",
        "        self.prune(params)\n",
        "        _, _, val_loss, val_accuracy = self.print_epoch_statistics(params, None, None, \"After pruning:\", require_result=True)\n",
        "\n",
        "        self.update_history(params, loss, accuracy, val_loss, val_accuracy)\n",
        "    \n",
        "    class ParameterContainer:\n",
        "        def __init__(self, x, y, optimizer, batch_size, min_new_neurons, validation_data, pruning_threshold, \n",
        "                regularization_penalty_multiplier, stall_coefficient, growth_percentage, mini_epochs_per_epoch, verbose, print_neurons, use_static_graph):\n",
        "            self.x = x\n",
        "            self.y = y\n",
        "            self.optimizer = optimizer\n",
        "            self.batch_size = batch_size\n",
        "            self.min_new_neurons = min_new_neurons\n",
        "            self.validation_data = validation_data\n",
        "            self.pruning_threshold = pruning_threshold\n",
        "            self.regularization_penalty_multiplier = regularization_penalty_multiplier\n",
        "            self.stall_coefficient = stall_coefficient\n",
        "            self.growth_percentage = growth_percentage\n",
        "            self.mini_epochs_per_epoch = mini_epochs_per_epoch\n",
        "            self.verbose = verbose\n",
        "            self.print_neurons = print_neurons\n",
        "            self.use_static_graph = use_static_graph\n",
        "\n",
        "            self.train_dataset, self.val_dataset = Sequential.prepare_datasets(x, y, batch_size, validation_data)\n",
        "            self.history = self.prepare_history()\n",
        "\n",
        "            self.best_conditional_val_loss = np.inf\n",
        "            self.training_stalled = False\n",
        "        \n",
        "        @staticmethod\n",
        "        def prepare_history():\n",
        "            history = {\n",
        "                'loss': list(),\n",
        "                'accuracy': list(),\n",
        "                'val_loss': list(),\n",
        "                'val_accuracy': list(),\n",
        "                'hidden_layer_sizes': list(),\n",
        "            }\n",
        "            return history\n",
        "    \n",
        "    def fit_single_step(self, params, x_batch, y_batch):\n",
        "        with tf.GradientTape() as tape:\n",
        "            y_pred = self(x_batch, training=True)\n",
        "            raw_loss = tf.keras.losses.sparse_categorical_crossentropy(y_batch, y_pred)\n",
        "            loss_value = tf.reduce_mean(raw_loss)\n",
        "            loss_value += sum(self.losses)  # Add losses registered by model.add_loss\n",
        "\n",
        "            loss = tf.reduce_sum(raw_loss)\n",
        "            accuracy = float(tf.reduce_sum(tf.keras.metrics.sparse_categorical_accuracy(y_batch, y_pred)))\n",
        "\n",
        "        grads = tape.gradient(loss_value, self.trainable_variables)\n",
        "        params.optimizer.apply_gradients(zip(grads, self.trainable_variables))\n",
        "\n",
        "        return loss, accuracy\n",
        "    \n",
        "    def fit_single_epoch(self, params):\n",
        "        summed_loss = 0\n",
        "        summed_accuracy = 0\n",
        "        \n",
        "        for mini_epoch in range(params.mini_epochs_per_epoch):\n",
        "            summed_loss = 0\n",
        "            summed_accuracy = 0\n",
        "\n",
        "            if params.use_static_graph:\n",
        "                fit_single_step_function = tf.function(self.fit_single_step)\n",
        "            else:\n",
        "                fit_single_step_function = self.fit_single_step\n",
        "            for step, (x_batch, y_batch) in enumerate(params.train_dataset):\n",
        "                loss, accuracy = fit_single_step_function(params, x_batch, y_batch)\n",
        "                summed_loss += loss\n",
        "                summed_accuracy += accuracy\n",
        "        \n",
        "        return summed_loss, summed_accuracy\n",
        "\n",
        "    def fit(self, x, y, optimizer, schedule, batch_size, min_new_neurons, validation_data, pruning_threshold=0.001, regularization_penalty_multiplier=1., \n",
        "            stall_coefficient=1, growth_percentage=0.2, mini_epochs_per_epoch=1, verbose=True, print_neurons=False, use_static_graph=True):\n",
        "        params = self.ParameterContainer(x=x, y=y, optimizer=optimizer, batch_size=batch_size, min_new_neurons=min_new_neurons, validation_data=validation_data, \n",
        "                                         pruning_threshold=pruning_threshold, regularization_penalty_multiplier=regularization_penalty_multiplier, stall_coefficient=stall_coefficient, \n",
        "                                         growth_percentage=growth_percentage, mini_epochs_per_epoch=mini_epochs_per_epoch, verbose=verbose, print_neurons=print_neurons, \n",
        "                                         use_static_graph=use_static_graph)\n",
        "        self.build(x.shape)  # Necessary when verbose == False\n",
        "\n",
        "        for epoch_no, epoch in enumerate(schedule):\n",
        "            if verbose:\n",
        "                print(\"##########################################################\")\n",
        "                print(f\"Epoch {epoch_no + 1}/{len(schedule)}\")\n",
        "            \n",
        "            self.set_regularization_penalty(epoch.regularization_penalty)\n",
        "            self.set_regularization_method(epoch.regularization_method)\n",
        "\n",
        "            if epoch.grow:\n",
        "                self.grow_wrapper(params)\n",
        "            \n",
        "            summed_loss, summed_accuracy = self.fit_single_epoch(params)\n",
        "\n",
        "            if epoch.prune:\n",
        "                self.prune_wrapper(params, summed_loss, summed_accuracy)\n",
        "            else:\n",
        "                loss, accuracy, val_loss, val_accuracy = self.print_epoch_statistics(params, summed_loss, summed_accuracy, require_result=True)\n",
        "                self.update_history(params, loss, accuracy, val_loss, val_accuracy)\n",
        "        \n",
        "        return params.history\n",
        "\n",
        "\n",
        "################################################################################\n",
        "# HELPER FUNCTIONS\n",
        "################################################################################\n",
        "\n",
        "\n",
        "def get_statistics_from_history(history):\n",
        "    best_epoch_number = np.argmax(history['val_accuracy'])\n",
        "    best_val_accuracy = history['val_accuracy'][best_epoch_number]\n",
        "    best_hidden_layer_sizes = history['hidden_layer_sizes'][best_epoch_number]\n",
        "    return best_val_accuracy, best_hidden_layer_sizes\n",
        "\n",
        "\n",
        "def get_statistics_from_histories(histories):\n",
        "    best_val_accuracies = list()\n",
        "    all_best_hidden_layer_sizes = list()\n",
        "\n",
        "    for history in histories:\n",
        "        best_val_accuracy, best_hidden_layer_sizes = get_statistics_from_history(history)\n",
        "        best_val_accuracies.append(best_val_accuracy)\n",
        "        all_best_hidden_layer_sizes.append(best_hidden_layer_sizes)\n",
        "    \n",
        "    mean_best_val_accuracy = np.mean(best_val_accuracies)\n",
        "    mean_best_hidden_layer_sizes = [np.mean(layer) for layer in list(zip(*all_best_hidden_layer_sizes))]\n",
        "    \n",
        "    return mean_best_val_accuracy, mean_best_hidden_layer_sizes\n",
        "\n",
        "\n",
        "def cross_validate(train_fn, x, y, n_splits, random_state=42, *args, **kwargs):\n",
        "    from sklearn.model_selection import KFold\n",
        "\n",
        "    kf = KFold(n_splits=n_splits, shuffle=True, random_state=random_state)\n",
        "\n",
        "    histories = list()\n",
        "    for i, (train_index, test_index) in enumerate(kf.split(x)):\n",
        "        xtrain, xtest = x[train_index], x[test_index]\n",
        "        ytrain, ytest = y[train_index], y[test_index]\n",
        "\n",
        "        history = train_fn(xtrain, ytrain, validation_data=(xtest, ytest), *args, **kwargs)\n",
        "        histories.append(history)\n",
        "\n",
        "        best_val_accuracy, best_hidden_layer_sizes = get_statistics_from_history(history)\n",
        "        print(f\"Run {i} completed, best_val_accuracy: {best_val_accuracy}, best_hidden_layer_sizes: {best_hidden_layer_sizes}\")\n",
        "\n",
        "    mean_best_val_accuracy, mean_best_hidden_layer_sizes = get_statistics_from_histories(histories)\n",
        "    print(f'mean_best_val_accuracy: {mean_best_val_accuracy}')\n",
        "    print(f'mean_best_hidden_layer_sizes: {mean_best_hidden_layer_sizes}')\n",
        "\n",
        "    return histories, mean_best_hidden_layer_sizes\n",
        "\n",
        "\n",
        "def hyperparameter_search(train_fn, x, y, validation_data, *args, **kwargs):\n",
        "    from itertools import product\n",
        "\n",
        "    all_params = [*args] + list(kwargs.values())\n",
        "    histories = list()\n",
        "\n",
        "    best_overall_val_accuracy = -np.inf\n",
        "    best_overall_combination = None\n",
        "\n",
        "    for combination in product(*all_params):\n",
        "        combination_args = combination[:len(args)]\n",
        "\n",
        "        combination_kwargs_values = combination[len(args):]\n",
        "        combination_kwargs = dict(zip(kwargs.keys(), combination_kwargs_values))\n",
        "\n",
        "        history = train_fn(x, y, validation_data, *combination_args, **combination_kwargs)\n",
        "        history['parameters'] = combination\n",
        "        histories.append(history)\n",
        "\n",
        "        best_val_accuracy, best_hidden_layer_sizes = get_statistics_from_history(history)\n",
        "        print(f\"Run with parameters {combination} completed, best_val_accuracy: {best_val_accuracy}, best_hidden_layer_sizes sizes: {best_hidden_layer_sizes}\")\n",
        "\n",
        "        if best_val_accuracy > best_overall_val_accuracy:\n",
        "            best_overall_val_accuracy = best_val_accuracy\n",
        "            best_overall_combination = combination\n",
        "    \n",
        "    print(f'Best overall combination: {best_overall_combination}, val_accuracy: {best_overall_val_accuracy}')\n",
        "\n",
        "    return histories, best_overall_combination\n",
        "\n",
        "\n",
        "def get_convolutional_model(x, layer_sizes, output_neurons=10):\n",
        "    model = Sequential([\n",
        "        Conv2D(layer_sizes[0], filter_size=(3, 3), activation='selu', strides=(1, 1), padding='SAME', kernel_initializer='lecun_normal', input_shape=x[0,:,:,:].shape),\n",
        "        Conv2D(layer_sizes[1], filter_size=(3, 3), activation='selu', strides=(2, 2), padding='SAME', kernel_initializer='lecun_normal'),\n",
        "        tf.keras.layers.Dropout(0.2),\n",
        "        Conv2D(layer_sizes[2], filter_size=(3, 3), activation='selu', strides=(1, 1), padding='SAME', kernel_initializer='lecun_normal'),\n",
        "        Conv2D(layer_sizes[3], filter_size=(3, 3), activation='selu', strides=(2, 2), padding='SAME', kernel_initializer='lecun_normal'),\n",
        "        tf.keras.layers.Dropout(0.5),\n",
        "        Flatten(),\n",
        "        Dense(layer_sizes[4], activation='selu', kernel_initializer='lecun_normal'),\n",
        "        Dense(output_neurons, activation='softmax', fixed_size=True),\n",
        "    ])\n",
        "    return model\n",
        "\n",
        "\n",
        "def train_fn(x, y, validation_data, learning_rate, schedule, layer_sizes, output_neurons=10, min_new_neurons=20, \n",
        "             growth_percentage=0.2, verbose=False, use_static_graph=True):\n",
        "    batch_size = 128\n",
        "\n",
        "    model = get_convolutional_model(x, layer_sizes, output_neurons)\n",
        "    \n",
        "    optimizer = tf.keras.optimizers.Adam(learning_rate=learning_rate)\n",
        "\n",
        "    history = model.fit(x=x, y=y, optimizer=optimizer, schedule=schedule, batch_size=batch_size, min_new_neurons=min_new_neurons, \n",
        "                        validation_data=validation_data, growth_percentage=growth_percentage, verbose=verbose, use_static_graph=use_static_graph)\n",
        "    \n",
        "    return history"
      ],
      "execution_count": 2,
      "outputs": []
    },
    {
      "cell_type": "markdown",
      "metadata": {
        "id": "l1MrQXUTFwOe"
      },
      "source": [
        "# Final performance analysis"
      ]
    },
    {
      "cell_type": "markdown",
      "source": [
        "## Dynamic Auto-Sizing"
      ],
      "metadata": {
        "id": "7sMoqMxK66u7"
      }
    },
    {
      "cell_type": "code",
      "source": [
        "cifar100 = get_cifar_100_dataset()"
      ],
      "metadata": {
        "colab": {
          "base_uri": "https://localhost:8080/"
        },
        "id": "VzVe14JzL4ve",
        "outputId": "b59a3ebc-04b7-4ce3-ae48-9b47aafbe7e3"
      },
      "execution_count": null,
      "outputs": [
        {
          "output_type": "stream",
          "name": "stdout",
          "text": [
            "Downloading data from https://www.cs.toronto.edu/~kriz/cifar-100-python.tar.gz\n",
            "169009152/169001437 [==============================] - 6s 0us/step\n",
            "169017344/169001437 [==============================] - 6s 0us/step\n"
          ]
        }
      ]
    },
    {
      "cell_type": "code",
      "source": [
        "%%time\n",
        "\n",
        "schedule = Schedule([DynamicEpoch(0.00002, 'weighted_l1')] * 20 + [StaticEpochNoRegularization()] * 20)\n",
        "histories, best_overall_combination = hyperparameter_search(train_fn, x=cifar100.X_train_norm, y=cifar100.y_train, validation_data=(cifar100.X_test_norm, cifar100.y_test), \n",
        "                                  learning_rate=[0.0001, 0.0002, 0.0004], schedule=[schedule], layer_sizes=[[100, 100, 100, 100, 100]], \n",
        "                                  output_neurons=[100], min_new_neurons=[20], growth_percentage=[0.2])"
      ],
      "metadata": {
        "colab": {
          "base_uri": "https://localhost:8080/"
        },
        "id": "td7nnRPkOG0A",
        "outputId": "3fd61bd4-31a4-4ed8-b1cf-6c675379d0cc"
      },
      "execution_count": null,
      "outputs": [
        {
          "output_type": "stream",
          "name": "stdout",
          "text": [
            "Run with parameters (0.0001, ec4ba8ef9e, [100, 100, 100, 100, 100], 100, 20, 0.2) completed, best_val_accuracy: 0.44, best_hidden_layer_sizes sizes: [90, 29, 38, 43, 100]\n",
            "Run with parameters (0.0002, ec4ba8ef9e, [100, 100, 100, 100, 100], 100, 20, 0.2) completed, best_val_accuracy: 0.4448, best_hidden_layer_sizes sizes: [67, 23, 27, 73, 195]\n",
            "Run with parameters (0.0004, ec4ba8ef9e, [100, 100, 100, 100, 100], 100, 20, 0.2) completed, best_val_accuracy: 0.4358, best_hidden_layer_sizes sizes: [60, 18, 55, 120, 452]\n",
            "Best overall combination: (0.0002, ec4ba8ef9e, [100, 100, 100, 100, 100], 100, 20, 0.2), val_accuracy: 0.4448\n",
            "CPU times: user 9min 57s, sys: 20.8 s, total: 10min 18s\n",
            "Wall time: 9min 3s\n"
          ]
        }
      ]
    },
    {
      "cell_type": "code",
      "source": [
        "best_learning_rate = best_overall_combination[0]\n",
        "best_learning_rate"
      ],
      "metadata": {
        "colab": {
          "base_uri": "https://localhost:8080/"
        },
        "id": "--jg7yrcdMOM",
        "outputId": "6eaeea7a-ca79-4212-e51e-4973e6ef24f4"
      },
      "execution_count": null,
      "outputs": [
        {
          "output_type": "execute_result",
          "data": {
            "text/plain": [
              "0.0002"
            ]
          },
          "metadata": {},
          "execution_count": 38
        }
      ]
    },
    {
      "cell_type": "code",
      "source": [
        "%%time\n",
        "\n",
        "schedule = Schedule([DynamicEpoch(0.00002, 'weighted_l1')] * 20 + [StaticEpochNoRegularization()] * 20)\n",
        "histories, mean_best_hidden_layer_sizes = cross_validate(\n",
        "    train_fn, cifar100.X_norm, cifar100.y, n_splits=6, learning_rate=best_learning_rate,\n",
        "    schedule=schedule, layer_sizes=[100, 100, 100, 100, 100], output_neurons=100, min_new_neurons=20, growth_percentage=0.2\n",
        ")"
      ],
      "metadata": {
        "colab": {
          "base_uri": "https://localhost:8080/"
        },
        "id": "-WA3x6RkTlqt",
        "outputId": "ce80f1de-d326-4f44-bc37-03d906aedb13"
      },
      "execution_count": null,
      "outputs": [
        {
          "output_type": "stream",
          "name": "stdout",
          "text": [
            "Run 0 completed, best_val_accuracy: 0.4428, best_hidden_layer_sizes: [68, 19, 33, 74, 191]\n",
            "Run 1 completed, best_val_accuracy: 0.4512, best_hidden_layer_sizes: [62, 22, 29, 61, 195]\n",
            "Run 2 completed, best_val_accuracy: 0.4484, best_hidden_layer_sizes: [67, 19, 30, 61, 200]\n",
            "Run 3 completed, best_val_accuracy: 0.4485, best_hidden_layer_sizes: [67, 18, 33, 63, 199]\n",
            "Run 4 completed, best_val_accuracy: 0.4577, best_hidden_layer_sizes: [62, 20, 27, 62, 190]\n",
            "Run 5 completed, best_val_accuracy: 0.457, best_hidden_layer_sizes: [69, 23, 28, 66, 192]\n",
            "mean_best_val_accuracy: 0.45093333333333335\n",
            "mean_best_hidden_layer_sizes: [65.83333333333333, 20.166666666666668, 30.0, 64.5, 194.5]\n",
            "CPU times: user 19min 26s, sys: 41.6 s, total: 20min 8s\n",
            "Wall time: 17min 17s\n"
          ]
        }
      ]
    },
    {
      "cell_type": "code",
      "source": [
        "np.std([0.4428, 0.4512, 0.4484, 0.4485, 0.4577, 0.457], ddof=1) * 100 * 2"
      ],
      "metadata": {
        "id": "sKaxTogl8GlU",
        "outputId": "2bfc5e3a-0fd6-4fba-9636-495750ef3b6f",
        "colab": {
          "base_uri": "https://localhost:8080/"
        }
      },
      "execution_count": 3,
      "outputs": [
        {
          "output_type": "execute_result",
          "data": {
            "text/plain": [
              "1.1354411771054735"
            ]
          },
          "metadata": {},
          "execution_count": 3
        }
      ]
    },
    {
      "cell_type": "code",
      "source": [
        "mean_best_hidden_layer_sizes = [65.83333333333333, 20.166666666666668, 30.0, 64.5, 194.5]"
      ],
      "metadata": {
        "id": "OztpYqaTjltp"
      },
      "execution_count": null,
      "outputs": []
    },
    {
      "cell_type": "code",
      "source": [
        "rounded_mean_best_hidden_layer_sizes = [round(x) for x in mean_best_hidden_layer_sizes]\n",
        "rounded_mean_best_hidden_layer_sizes"
      ],
      "metadata": {
        "colab": {
          "base_uri": "https://localhost:8080/"
        },
        "id": "Gv4vyj_rjkdw",
        "outputId": "2be81941-43d5-43d7-8a7c-e3c0c334ca74"
      },
      "execution_count": null,
      "outputs": [
        {
          "output_type": "execute_result",
          "data": {
            "text/plain": [
              "[66, 20, 30, 64, 194]"
            ]
          },
          "metadata": {},
          "execution_count": 6
        }
      ]
    },
    {
      "cell_type": "markdown",
      "source": [
        "## Static, no regularization"
      ],
      "metadata": {
        "id": "ZUfWq4bG6-HD"
      }
    },
    {
      "cell_type": "code",
      "source": [
        "%%time\n",
        "\n",
        "schedule = Schedule([StaticEpochNoRegularization()] * 40)\n",
        "histories, best_overall_combination = hyperparameter_search(train_fn, x=cifar100.X_train_norm, y=cifar100.y_train, validation_data=(cifar100.X_test_norm, cifar100.y_test), \n",
        "                                  learning_rate=[0.0001, 0.0002, 0.0004], schedule=[schedule], layer_sizes=[[66, 20, 30, 64, 194]], \n",
        "                                  output_neurons=[100], min_new_neurons=[20], growth_percentage=[0.2])"
      ],
      "metadata": {
        "colab": {
          "base_uri": "https://localhost:8080/"
        },
        "id": "BkJfdyRYiBu6",
        "outputId": "b2c9f13a-0606-4753-ebbf-9b1a4fa40dbc"
      },
      "execution_count": null,
      "outputs": [
        {
          "output_type": "stream",
          "name": "stdout",
          "text": [
            "Run with parameters (0.0001, 4a0f172746, [66, 20, 30, 64, 194], 100, 20, 0.2) completed, best_val_accuracy: 0.3175, best_hidden_layer_sizes sizes: [66, 20, 30, 64, 194]\n",
            "Run with parameters (0.0002, 4a0f172746, [66, 20, 30, 64, 194], 100, 20, 0.2) completed, best_val_accuracy: 0.3379, best_hidden_layer_sizes sizes: [66, 20, 30, 64, 194]\n",
            "Run with parameters (0.0004, 4a0f172746, [66, 20, 30, 64, 194], 100, 20, 0.2) completed, best_val_accuracy: 0.3427, best_hidden_layer_sizes sizes: [66, 20, 30, 64, 194]\n",
            "Best overall combination: (0.0004, 4a0f172746, [66, 20, 30, 64, 194], 100, 20, 0.2), val_accuracy: 0.3427\n",
            "CPU times: user 7min 14s, sys: 30.5 s, total: 7min 45s\n",
            "Wall time: 6min 3s\n"
          ]
        }
      ]
    },
    {
      "cell_type": "code",
      "source": [
        "%%time\n",
        "\n",
        "schedule = Schedule([StaticEpochNoRegularization()] * 40)\n",
        "histories, best_overall_combination = hyperparameter_search(train_fn, x=cifar100.X_train_norm, y=cifar100.y_train, validation_data=(cifar100.X_test_norm, cifar100.y_test), \n",
        "                                  learning_rate=[0.0008], schedule=[schedule], layer_sizes=[[66, 20, 30, 64, 194]], \n",
        "                                  output_neurons=[100], min_new_neurons=[20], growth_percentage=[0.2])"
      ],
      "metadata": {
        "colab": {
          "base_uri": "https://localhost:8080/"
        },
        "id": "ET6bwdcDwC_W",
        "outputId": "1bc36f40-b266-4d46-e2ab-218c9011f64d"
      },
      "execution_count": null,
      "outputs": [
        {
          "output_type": "stream",
          "name": "stdout",
          "text": [
            "Run with parameters (0.0008, 4a0f172746, [66, 20, 30, 64, 194], 100, 20, 0.2) completed, best_val_accuracy: 0.3319, best_hidden_layer_sizes sizes: [66, 20, 30, 64, 194]\n",
            "Best overall combination: (0.0008, 4a0f172746, [66, 20, 30, 64, 194], 100, 20, 0.2), val_accuracy: 0.3319\n",
            "CPU times: user 2min 21s, sys: 10.3 s, total: 2min 32s\n",
            "Wall time: 1min 55s\n"
          ]
        }
      ]
    },
    {
      "cell_type": "code",
      "source": [
        "%%time\n",
        "\n",
        "schedule = Schedule([StaticEpochNoRegularization()] * 40)\n",
        "histories, mean_best_hidden_layer_sizes = cross_validate(\n",
        "    train_fn, cifar100.X_norm, cifar100.y, n_splits=6, learning_rate=0.0004,\n",
        "    schedule=schedule, layer_sizes=[66, 20, 30, 64, 194], output_neurons=100, min_new_neurons=20, growth_percentage=0.2\n",
        ")"
      ],
      "metadata": {
        "colab": {
          "base_uri": "https://localhost:8080/"
        },
        "id": "tdX7favBv8W8",
        "outputId": "8b311dec-d683-4bf3-f4ea-ace48d90e342"
      },
      "execution_count": null,
      "outputs": [
        {
          "output_type": "stream",
          "name": "stdout",
          "text": [
            "Run 0 completed, best_val_accuracy: 0.3312, best_hidden_layer_sizes: [66, 20, 30, 64, 194]\n",
            "Run 1 completed, best_val_accuracy: 0.3364, best_hidden_layer_sizes: [66, 20, 30, 64, 194]\n",
            "Run 2 completed, best_val_accuracy: 0.3348, best_hidden_layer_sizes: [66, 20, 30, 64, 194]\n",
            "Run 3 completed, best_val_accuracy: 0.3389, best_hidden_layer_sizes: [66, 20, 30, 64, 194]\n",
            "Run 4 completed, best_val_accuracy: 0.336, best_hidden_layer_sizes: [66, 20, 30, 64, 194]\n",
            "Run 5 completed, best_val_accuracy: 0.3362, best_hidden_layer_sizes: [66, 20, 30, 64, 194]\n",
            "mean_best_val_accuracy: 0.33558333333333334\n",
            "mean_best_hidden_layer_sizes: [66.0, 20.0, 30.0, 64.0, 194.0]\n",
            "CPU times: user 14min 2s, sys: 48.2 s, total: 14min 51s\n",
            "Wall time: 11min 17s\n"
          ]
        }
      ]
    },
    {
      "cell_type": "code",
      "source": [
        "%%time\n",
        "\n",
        "schedule = Schedule([StaticEpochNoRegularization()] * 40)\n",
        "histories, best_overall_combination = hyperparameter_search(train_fn, x=cifar100.X_train_norm, y=cifar100.y_train, validation_data=(cifar100.X_test_norm, cifar100.y_test), \n",
        "                                  learning_rate=[0.0001, 0.0002, 0.0004, 0.0008, 0.0016], schedule=[schedule], layer_sizes=[rounded_mean_best_hidden_layer_sizes], \n",
        "                                  output_neurons=[100], min_new_neurons=[20], growth_percentage=[0.2])"
      ],
      "metadata": {
        "colab": {
          "base_uri": "https://localhost:8080/"
        },
        "id": "vr-TsoVFaJbR",
        "outputId": "0453e6e8-733b-46ed-c90d-8314cfd5c88e"
      },
      "execution_count": null,
      "outputs": [
        {
          "output_type": "stream",
          "name": "stdout",
          "text": [
            "Run with parameters (0.0001, 4a0f172746, [66, 20, 30, 64, 194], 100, 20, 0.2) completed, best_val_accuracy: 0.3397, best_hidden_layer_sizes sizes: [66, 20, 30, 64, 194]\n",
            "Run with parameters (0.0002, 4a0f172746, [66, 20, 30, 64, 194], 100, 20, 0.2) completed, best_val_accuracy: 0.3392, best_hidden_layer_sizes sizes: [66, 20, 30, 64, 194]\n",
            "Run with parameters (0.0004, 4a0f172746, [66, 20, 30, 64, 194], 100, 20, 0.2) completed, best_val_accuracy: 0.334, best_hidden_layer_sizes sizes: [66, 20, 30, 64, 194]\n",
            "Run with parameters (0.0008, 4a0f172746, [66, 20, 30, 64, 194], 100, 20, 0.2) completed, best_val_accuracy: 0.3272, best_hidden_layer_sizes sizes: [66, 20, 30, 64, 194]\n",
            "Run with parameters (0.0016, 4a0f172746, [66, 20, 30, 64, 194], 100, 20, 0.2) completed, best_val_accuracy: 0.3199, best_hidden_layer_sizes sizes: [66, 20, 30, 64, 194]\n",
            "Best overall combination: (0.0001, 4a0f172746, [66, 20, 30, 64, 194], 100, 20, 0.2), val_accuracy: 0.3397\n",
            "CPU times: user 11min 56s, sys: 29 s, total: 12min 25s\n",
            "Wall time: 9min 30s\n"
          ]
        }
      ]
    },
    {
      "cell_type": "code",
      "source": [
        "best_learning_rate = best_overall_combination[0]\n",
        "best_learning_rate"
      ],
      "metadata": {
        "colab": {
          "base_uri": "https://localhost:8080/"
        },
        "id": "nZzqgA1nmd7S",
        "outputId": "a4e73b2c-3ad8-40da-83c6-7742e995cc3c"
      },
      "execution_count": null,
      "outputs": [
        {
          "output_type": "execute_result",
          "data": {
            "text/plain": [
              "0.0001"
            ]
          },
          "metadata": {},
          "execution_count": 55
        }
      ]
    },
    {
      "cell_type": "code",
      "source": [
        "%%time\n",
        "\n",
        "schedule = Schedule([StaticEpochNoRegularization()] * 40)\n",
        "histories, mean_best_hidden_layer_sizes = cross_validate(\n",
        "    train_fn, cifar100.X_norm, cifar100.y, n_splits=6, learning_rate=best_learning_rate,\n",
        "    schedule=schedule, layer_sizes=rounded_mean_best_hidden_layer_sizes, output_neurons=100, min_new_neurons=20, growth_percentage=0.2\n",
        ")"
      ],
      "metadata": {
        "colab": {
          "base_uri": "https://localhost:8080/"
        },
        "id": "1RUzP8CXmgOI",
        "outputId": "82f33f74-804a-4bee-e87a-ed104da51e39"
      },
      "execution_count": null,
      "outputs": [
        {
          "output_type": "stream",
          "name": "stdout",
          "text": [
            "Run 0 completed, best_val_accuracy: 0.3183, best_hidden_layer_sizes: [66, 20, 30, 64, 194]\n",
            "Run 1 completed, best_val_accuracy: 0.3265, best_hidden_layer_sizes: [66, 20, 30, 64, 194]\n",
            "Run 2 completed, best_val_accuracy: 0.3134, best_hidden_layer_sizes: [66, 20, 30, 64, 194]\n",
            "Run 3 completed, best_val_accuracy: 0.3345, best_hidden_layer_sizes: [66, 20, 30, 64, 194]\n",
            "Run 4 completed, best_val_accuracy: 0.325, best_hidden_layer_sizes: [66, 20, 30, 64, 194]\n",
            "Run 5 completed, best_val_accuracy: 0.3234, best_hidden_layer_sizes: [66, 20, 30, 64, 194]\n",
            "mean_best_val_accuracy: 0.3235166666666667\n",
            "mean_best_hidden_layer_sizes: [66.0, 20.0, 30.0, 64.0, 194.0]\n",
            "CPU times: user 14min 32s, sys: 34.6 s, total: 15min 7s\n",
            "Wall time: 11min 33s\n"
          ]
        }
      ]
    },
    {
      "cell_type": "code",
      "source": [
        "np.std([0.3183, 0.3265, 0.3134, 0.3345, 0.325, 0.3234], ddof=1) * 100 * 2"
      ],
      "metadata": {
        "id": "hksAff558dOU",
        "outputId": "861e9858-7ac9-4e96-e72d-a1e2b7764d05",
        "colab": {
          "base_uri": "https://localhost:8080/"
        }
      },
      "execution_count": 4,
      "outputs": [
        {
          "output_type": "execute_result",
          "data": {
            "text/plain": [
              "1.4458446205130986"
            ]
          },
          "metadata": {},
          "execution_count": 4
        }
      ]
    },
    {
      "cell_type": "markdown",
      "source": [
        "## Pruning only, weighted L1 + fine-tuning"
      ],
      "metadata": {
        "id": "7LLbWab87D7R"
      }
    },
    {
      "cell_type": "code",
      "source": [
        "%%time\n",
        "\n",
        "schedule = Schedule([Epoch(False, True, 0.00002, 'weighted_l1')] * 20 + [StaticEpochNoRegularization()] * 20)\n",
        "histories, best_overall_combination = hyperparameter_search(train_fn, x=cifar100.X_train_norm, y=cifar100.y_train, validation_data=(cifar100.X_test_norm, cifar100.y_test), \n",
        "                                  learning_rate=[0.0001, 0.0002, 0.0004], schedule=[schedule], layer_sizes=[[66, 20, 30, 64, 194]], \n",
        "                                  output_neurons=[100], min_new_neurons=[20], growth_percentage=[0.2])"
      ],
      "metadata": {
        "colab": {
          "base_uri": "https://localhost:8080/"
        },
        "id": "2i0yqu9JiTWU",
        "outputId": "c2f16571-2c45-4786-8e3c-131c912247e0"
      },
      "execution_count": null,
      "outputs": [
        {
          "output_type": "stream",
          "name": "stdout",
          "text": [
            "Run with parameters (0.0001, 758db6f544, [66, 20, 30, 64, 194], 100, 20, 0.2) completed, best_val_accuracy: 0.4388, best_hidden_layer_sizes sizes: [66, 20, 30, 51, 194]\n",
            "Run with parameters (0.0002, 758db6f544, [66, 20, 30, 64, 194], 100, 20, 0.2) completed, best_val_accuracy: 0.4495, best_hidden_layer_sizes sizes: [60, 20, 29, 60, 194]\n",
            "Run with parameters (0.0004, 758db6f544, [66, 20, 30, 64, 194], 100, 20, 0.2) completed, best_val_accuracy: 0.4394, best_hidden_layer_sizes sizes: [46, 20, 30, 64, 194]\n",
            "Best overall combination: (0.0002, 758db6f544, [66, 20, 30, 64, 194], 100, 20, 0.2), val_accuracy: 0.4495\n",
            "CPU times: user 8min 55s, sys: 22.3 s, total: 9min 18s\n",
            "Wall time: 7min 18s\n"
          ]
        }
      ]
    },
    {
      "cell_type": "code",
      "source": [
        "%%time\n",
        "\n",
        "schedule = Schedule([Epoch(False, True, 0.00002, 'weighted_l1')] * 20 + [StaticEpochNoRegularization()] * 20)\n",
        "histories, mean_best_hidden_layer_sizes = cross_validate(\n",
        "    train_fn, cifar100.X_norm, cifar100.y, n_splits=6, learning_rate=0.0002,\n",
        "    schedule=schedule, layer_sizes=[66, 20, 30, 64, 194], output_neurons=100, min_new_neurons=20, growth_percentage=0.2\n",
        ")"
      ],
      "metadata": {
        "colab": {
          "base_uri": "https://localhost:8080/"
        },
        "id": "ByCCFQBjy06C",
        "outputId": "116603e0-6a05-4e16-c78f-2db9d4939804"
      },
      "execution_count": null,
      "outputs": [
        {
          "output_type": "stream",
          "name": "stdout",
          "text": [
            "Run 0 completed, best_val_accuracy: 0.45, best_hidden_layer_sizes: [63, 20, 30, 58, 194]\n",
            "Run 1 completed, best_val_accuracy: 0.4486, best_hidden_layer_sizes: [62, 20, 30, 64, 194]\n",
            "Run 2 completed, best_val_accuracy: 0.4473, best_hidden_layer_sizes: [60, 20, 30, 62, 194]\n",
            "Run 3 completed, best_val_accuracy: 0.4588, best_hidden_layer_sizes: [60, 20, 30, 60, 194]\n",
            "Run 4 completed, best_val_accuracy: 0.4508, best_hidden_layer_sizes: [60, 20, 30, 63, 194]\n",
            "Run 5 completed, best_val_accuracy: 0.4444, best_hidden_layer_sizes: [61, 20, 30, 63, 194]\n",
            "mean_best_val_accuracy: 0.44998333333333335\n",
            "mean_best_hidden_layer_sizes: [61.0, 20.0, 30.0, 61.666666666666664, 194.0]\n",
            "CPU times: user 17min 32s, sys: 42.3 s, total: 18min 14s\n",
            "Wall time: 14min 18s\n"
          ]
        }
      ]
    },
    {
      "cell_type": "code",
      "source": [
        "np.std([0.45, 0.4486, 0.4473, 0.4588, 0.4508, 0.4444], ddof=1) * 100 * 2"
      ],
      "metadata": {
        "id": "A8lRx-8X8q0M",
        "outputId": "0560c363-764a-4a65-b4c3-fcc1c0a55180",
        "colab": {
          "base_uri": "https://localhost:8080/"
        }
      },
      "execution_count": 5,
      "outputs": [
        {
          "output_type": "execute_result",
          "data": {
            "text/plain": [
              "0.9744263269568737"
            ]
          },
          "metadata": {},
          "execution_count": 5
        }
      ]
    },
    {
      "cell_type": "markdown",
      "source": [
        "## Pruning only, weighted L1"
      ],
      "metadata": {
        "id": "3agtbx3b7KG0"
      }
    },
    {
      "cell_type": "code",
      "source": [
        "%%time\n",
        "\n",
        "schedule = Schedule([Epoch(False, True, 0.00002, 'weighted_l1')] * 40)\n",
        "histories, best_overall_combination = hyperparameter_search(train_fn, x=cifar100.X_train_norm, y=cifar100.y_train, validation_data=(cifar100.X_test_norm, cifar100.y_test), \n",
        "                                  learning_rate=[0.0001, 0.0002, 0.0004], schedule=[schedule], layer_sizes=[[66, 20, 30, 64, 194]], \n",
        "                                  output_neurons=[100], min_new_neurons=[20], growth_percentage=[0.2])"
      ],
      "metadata": {
        "colab": {
          "base_uri": "https://localhost:8080/"
        },
        "id": "o-6n5Lq5ipyA",
        "outputId": "59affec0-aafa-44ce-e61a-33db367b304a"
      },
      "execution_count": null,
      "outputs": [
        {
          "output_type": "stream",
          "name": "stdout",
          "text": [
            "Run with parameters (0.0001, 865b7710ae, [66, 20, 30, 64, 194], 100, 20, 0.2) completed, best_val_accuracy: 0.4217, best_hidden_layer_sizes sizes: [63, 20, 30, 43, 142]\n",
            "Run with parameters (0.0002, 865b7710ae, [66, 20, 30, 64, 194], 100, 20, 0.2) completed, best_val_accuracy: 0.437, best_hidden_layer_sizes sizes: [52, 20, 29, 63, 194]\n",
            "Run with parameters (0.0004, 865b7710ae, [66, 20, 30, 64, 194], 100, 20, 0.2) completed, best_val_accuracy: 0.4319, best_hidden_layer_sizes sizes: [37, 20, 27, 64, 194]\n",
            "Best overall combination: (0.0002, 865b7710ae, [66, 20, 30, 64, 194], 100, 20, 0.2), val_accuracy: 0.437\n",
            "CPU times: user 10min 45s, sys: 26.9 s, total: 11min 12s\n",
            "Wall time: 8min 58s\n"
          ]
        }
      ]
    },
    {
      "cell_type": "code",
      "source": [
        "%%time\n",
        "\n",
        "schedule = Schedule([Epoch(False, True, 0.00002, 'weighted_l1')] * 40)\n",
        "histories, mean_best_hidden_layer_sizes = cross_validate(\n",
        "    train_fn, cifar100.X_norm, cifar100.y, n_splits=6, learning_rate=0.0002,\n",
        "    schedule=schedule, layer_sizes=[66, 20, 30, 64, 194], output_neurons=100, min_new_neurons=20, growth_percentage=0.2\n",
        ")"
      ],
      "metadata": {
        "colab": {
          "base_uri": "https://localhost:8080/"
        },
        "id": "XjD0LEUCy8o1",
        "outputId": "2708b9db-cce0-4e2b-d1c7-6325375a9b6a"
      },
      "execution_count": null,
      "outputs": [
        {
          "output_type": "stream",
          "name": "stdout",
          "text": [
            "Run 0 completed, best_val_accuracy: 0.4338, best_hidden_layer_sizes: [46, 20, 28, 64, 194]\n",
            "Run 1 completed, best_val_accuracy: 0.4405, best_hidden_layer_sizes: [48, 20, 29, 63, 194]\n",
            "Run 2 completed, best_val_accuracy: 0.4322, best_hidden_layer_sizes: [44, 20, 27, 63, 194]\n",
            "Run 3 completed, best_val_accuracy: 0.44, best_hidden_layer_sizes: [47, 20, 26, 62, 193]\n",
            "Run 4 completed, best_val_accuracy: 0.4413, best_hidden_layer_sizes: [45, 20, 29, 61, 194]\n",
            "Run 5 completed, best_val_accuracy: 0.4355, best_hidden_layer_sizes: [47, 20, 27, 60, 194]\n",
            "mean_best_val_accuracy: 0.43721666666666675\n",
            "mean_best_hidden_layer_sizes: [46.166666666666664, 20.0, 27.666666666666668, 62.166666666666664, 193.83333333333334]\n",
            "CPU times: user 21min 10s, sys: 52 s, total: 22min 2s\n",
            "Wall time: 17min 41s\n"
          ]
        }
      ]
    },
    {
      "cell_type": "code",
      "source": [
        "np.std([0.4338, 0.4405, 0.4322, 0.44, 0.4413, 0.4355], ddof=1) * 100 * 2"
      ],
      "metadata": {
        "id": "fYEJOBnu81Op",
        "outputId": "54041fc1-f0c3-4678-9945-d8b64e48c1d8",
        "colab": {
          "base_uri": "https://localhost:8080/"
        }
      },
      "execution_count": 6,
      "outputs": [
        {
          "output_type": "execute_result",
          "data": {
            "text/plain": [
              "0.7745364204907796"
            ]
          },
          "metadata": {},
          "execution_count": 6
        }
      ]
    },
    {
      "cell_type": "markdown",
      "source": [
        "## Static, weighted L1 + fine-tuning"
      ],
      "metadata": {
        "id": "S8XYPGKM7MsI"
      }
    },
    {
      "cell_type": "code",
      "source": [
        "%%time\n",
        "\n",
        "schedule = Schedule([StaticEpoch(0.00002, 'weighted_l1')] * 20 + [StaticEpochNoRegularization()] * 20)\n",
        "histories, best_overall_combination = hyperparameter_search(train_fn, x=cifar100.X_train_norm, y=cifar100.y_train, validation_data=(cifar100.X_test_norm, cifar100.y_test), \n",
        "                                  learning_rate=[0.0001, 0.0002, 0.0004], schedule=[schedule], layer_sizes=[[66, 20, 30, 64, 194]], \n",
        "                                  output_neurons=[100], min_new_neurons=[20], growth_percentage=[0.2])"
      ],
      "metadata": {
        "colab": {
          "base_uri": "https://localhost:8080/"
        },
        "id": "BarMVM45imXd",
        "outputId": "84e16432-c9b3-4f29-b957-575c3dc24297"
      },
      "execution_count": null,
      "outputs": [
        {
          "output_type": "stream",
          "name": "stdout",
          "text": [
            "Run with parameters (0.0001, e7901b090a, [66, 20, 30, 64, 194], 100, 20, 0.2) completed, best_val_accuracy: 0.3984, best_hidden_layer_sizes sizes: [66, 20, 30, 64, 194]\n",
            "Run with parameters (0.0002, e7901b090a, [66, 20, 30, 64, 194], 100, 20, 0.2) completed, best_val_accuracy: 0.4299, best_hidden_layer_sizes sizes: [66, 20, 30, 64, 194]\n",
            "Run with parameters (0.0004, e7901b090a, [66, 20, 30, 64, 194], 100, 20, 0.2) completed, best_val_accuracy: 0.436, best_hidden_layer_sizes sizes: [66, 20, 30, 64, 194]\n",
            "Best overall combination: (0.0004, e7901b090a, [66, 20, 30, 64, 194], 100, 20, 0.2), val_accuracy: 0.436\n",
            "CPU times: user 7min 48s, sys: 27.9 s, total: 8min 16s\n",
            "Wall time: 6min 18s\n"
          ]
        }
      ]
    },
    {
      "cell_type": "code",
      "source": [
        "%%time\n",
        "\n",
        "schedule = Schedule([StaticEpoch(0.00002, 'weighted_l1')] * 20 + [StaticEpochNoRegularization()] * 20)\n",
        "histories, mean_best_hidden_layer_sizes = cross_validate(\n",
        "    train_fn, cifar100.X_norm, cifar100.y, n_splits=6, learning_rate=0.0004,\n",
        "    schedule=schedule, layer_sizes=[66, 20, 30, 64, 194], output_neurons=100, min_new_neurons=20, growth_percentage=0.2\n",
        ")"
      ],
      "metadata": {
        "colab": {
          "base_uri": "https://localhost:8080/"
        },
        "id": "gvIJA8IPzCcm",
        "outputId": "0316ed82-1e7b-4803-b9aa-3845ffef6bbb"
      },
      "execution_count": null,
      "outputs": [
        {
          "output_type": "stream",
          "name": "stdout",
          "text": [
            "Run 0 completed, best_val_accuracy: 0.4288, best_hidden_layer_sizes: [66, 20, 30, 64, 194]\n",
            "Run 1 completed, best_val_accuracy: 0.4404, best_hidden_layer_sizes: [66, 20, 30, 64, 194]\n",
            "Run 2 completed, best_val_accuracy: 0.4328, best_hidden_layer_sizes: [66, 20, 30, 64, 194]\n",
            "Run 3 completed, best_val_accuracy: 0.443, best_hidden_layer_sizes: [66, 20, 30, 64, 194]\n",
            "Run 4 completed, best_val_accuracy: 0.45, best_hidden_layer_sizes: [66, 20, 30, 64, 194]\n",
            "Run 5 completed, best_val_accuracy: 0.4344, best_hidden_layer_sizes: [66, 20, 30, 64, 194]\n",
            "mean_best_val_accuracy: 0.4382333333333334\n",
            "mean_best_hidden_layer_sizes: [66.0, 20.0, 30.0, 64.0, 194.0]\n",
            "CPU times: user 15min, sys: 39.6 s, total: 15min 40s\n",
            "Wall time: 11min 58s\n"
          ]
        }
      ]
    },
    {
      "cell_type": "code",
      "source": [
        "np.std([0.4288, 0.4404, 0.4328, 0.443, 0.45, 0.4344], ddof=1) * 100 * 2"
      ],
      "metadata": {
        "id": "0exl71ZB89J0",
        "outputId": "ac6e22b3-1b00-40fd-cb65-254a44ea3284",
        "colab": {
          "base_uri": "https://localhost:8080/"
        }
      },
      "execution_count": 7,
      "outputs": [
        {
          "output_type": "execute_result",
          "data": {
            "text/plain": [
              "1.5467988449267298"
            ]
          },
          "metadata": {},
          "execution_count": 7
        }
      ]
    },
    {
      "cell_type": "markdown",
      "source": [
        "## Static, weighted L1"
      ],
      "metadata": {
        "id": "Tc7TpC3s7P29"
      }
    },
    {
      "cell_type": "code",
      "source": [
        "%%time\n",
        "\n",
        "schedule = Schedule([StaticEpoch(0.00002, 'weighted_l1')] * 40)\n",
        "histories, best_overall_combination = hyperparameter_search(train_fn, x=cifar100.X_train_norm, y=cifar100.y_train, validation_data=(cifar100.X_test_norm, cifar100.y_test), \n",
        "                                  learning_rate=[0.0001, 0.0002, 0.0004], schedule=[schedule], layer_sizes=[[66, 20, 30, 64, 194]], \n",
        "                                  output_neurons=[100], min_new_neurons=[20], growth_percentage=[0.2])"
      ],
      "metadata": {
        "colab": {
          "base_uri": "https://localhost:8080/"
        },
        "id": "rOW9q7-kivAE",
        "outputId": "73d00846-091f-4506-dca2-339e79d6693d"
      },
      "execution_count": null,
      "outputs": [
        {
          "metadata": {
            "tags": null
          },
          "name": "stdout",
          "output_type": "stream",
          "text": [
            "Run with parameters (0.0001, f4be7cd642, [66, 20, 30, 64, 194], 100, 20, 0.2) completed, best_val_accuracy: 0.3692, best_hidden_layer_sizes sizes: [66, 20, 30, 64, 194]\n",
            "Run with parameters (0.0002, f4be7cd642, [66, 20, 30, 64, 194], 100, 20, 0.2) completed, best_val_accuracy: 0.406, best_hidden_layer_sizes sizes: [66, 20, 30, 64, 194]\n",
            "Run with parameters (0.0004, f4be7cd642, [66, 20, 30, 64, 194], 100, 20, 0.2) completed, best_val_accuracy: 0.4305, best_hidden_layer_sizes sizes: [66, 20, 30, 64, 194]\n",
            "Best overall combination: (0.0004, f4be7cd642, [66, 20, 30, 64, 194], 100, 20, 0.2), val_accuracy: 0.4305\n",
            "CPU times: user 8min 16s, sys: 27.1 s, total: 8min 43s\n",
            "Wall time: 6min 40s\n"
          ]
        }
      ]
    },
    {
      "cell_type": "code",
      "source": [
        "%%time\n",
        "\n",
        "schedule = Schedule([StaticEpoch(0.00002, 'weighted_l1')] * 40)\n",
        "histories, mean_best_hidden_layer_sizes = cross_validate(\n",
        "    train_fn, cifar100.X_norm, cifar100.y, n_splits=6, learning_rate=0.0004,\n",
        "    schedule=schedule, layer_sizes=[66, 20, 30, 64, 194], output_neurons=100, min_new_neurons=20, growth_percentage=0.2\n",
        ")"
      ],
      "metadata": {
        "colab": {
          "base_uri": "https://localhost:8080/"
        },
        "id": "zXNFZ3VNzHM2",
        "outputId": "b3d89e9f-f04b-46d5-b075-27bb9bb82521"
      },
      "execution_count": null,
      "outputs": [
        {
          "output_type": "stream",
          "name": "stdout",
          "text": [
            "Run 0 completed, best_val_accuracy: 0.4171, best_hidden_layer_sizes: [66, 20, 30, 64, 194]\n",
            "Run 1 completed, best_val_accuracy: 0.437, best_hidden_layer_sizes: [66, 20, 30, 64, 194]\n",
            "Run 2 completed, best_val_accuracy: 0.4311, best_hidden_layer_sizes: [66, 20, 30, 64, 194]\n",
            "Run 3 completed, best_val_accuracy: 0.4382, best_hidden_layer_sizes: [66, 20, 30, 64, 194]\n",
            "Run 4 completed, best_val_accuracy: 0.4359, best_hidden_layer_sizes: [66, 20, 30, 64, 194]\n",
            "Run 5 completed, best_val_accuracy: 0.4218, best_hidden_layer_sizes: [66, 20, 30, 64, 194]\n",
            "mean_best_val_accuracy: 0.43018333333333336\n",
            "mean_best_hidden_layer_sizes: [66.0, 20.0, 30.0, 64.0, 194.0]\n",
            "CPU times: user 15min 54s, sys: 44.7 s, total: 16min 38s\n",
            "Wall time: 12min 45s\n"
          ]
        }
      ]
    },
    {
      "cell_type": "code",
      "source": [
        "np.std([0.4171, 0.437, 0.4311, 0.4382, 0.4359, 0.4218], ddof=1) * 100 * 2"
      ],
      "metadata": {
        "id": "ItnKZlC59G-4",
        "outputId": "c4e06855-3cfd-43f4-eaa7-d94fe50e52b6",
        "colab": {
          "base_uri": "https://localhost:8080/"
        }
      },
      "execution_count": 8,
      "outputs": [
        {
          "output_type": "execute_result",
          "data": {
            "text/plain": [
              "1.7566065770873847"
            ]
          },
          "metadata": {},
          "execution_count": 8
        }
      ]
    },
    {
      "cell_type": "markdown",
      "source": [
        "## Static, L1"
      ],
      "metadata": {
        "id": "0OWv5S2hDZz8"
      }
    },
    {
      "cell_type": "code",
      "source": [
        "schedule1 = Schedule([StaticEpoch(0.002, 'l1')] * 40)\n",
        "schedule2 = Schedule([StaticEpoch(0.0002, 'l1')] * 40)\n",
        "schedule3 = Schedule([StaticEpoch(0.00002, 'l1')] * 40)\n",
        "schedule1, schedule2, schedule3"
      ],
      "metadata": {
        "colab": {
          "base_uri": "https://localhost:8080/"
        },
        "id": "_Etp65_aECS_",
        "outputId": "4f43a77a-50c1-42bc-d134-2e06a809ef25"
      },
      "execution_count": null,
      "outputs": [
        {
          "output_type": "execute_result",
          "data": {
            "text/plain": [
              "(b4b64f7e12, 50d84757a6, f6a1bb91c8)"
            ]
          },
          "metadata": {},
          "execution_count": 19
        }
      ]
    },
    {
      "cell_type": "code",
      "source": [
        "%%time\n",
        "\n",
        "schedule = Schedule([StaticEpoch(0.00002, 'l1')] * 40)\n",
        "histories, best_overall_combination = hyperparameter_search(train_fn, x=cifar100.X_train_norm, y=cifar100.y_train, validation_data=(cifar100.X_test_norm, cifar100.y_test), \n",
        "                                  learning_rate=[0.0002], schedule=[schedule1, schedule2, schedule3], layer_sizes=[[66, 20, 30, 64, 194]], \n",
        "                                  output_neurons=[100], min_new_neurons=[20], growth_percentage=[0.2])"
      ],
      "metadata": {
        "colab": {
          "base_uri": "https://localhost:8080/"
        },
        "id": "0lV6ajeODeck",
        "outputId": "4f5d0b8f-1cf8-4bf7-afad-2ef622830bcb"
      },
      "execution_count": null,
      "outputs": [
        {
          "output_type": "stream",
          "name": "stdout",
          "text": [
            "Run with parameters (0.0002, b4b64f7e12, [66, 20, 30, 64, 194], 100, 20, 0.2) completed, best_val_accuracy: 0.2492, best_hidden_layer_sizes sizes: [66, 20, 30, 64, 194]\n",
            "Run with parameters (0.0002, 50d84757a6, [66, 20, 30, 64, 194], 100, 20, 0.2) completed, best_val_accuracy: 0.4198, best_hidden_layer_sizes sizes: [66, 20, 30, 64, 194]\n",
            "Run with parameters (0.0002, f6a1bb91c8, [66, 20, 30, 64, 194], 100, 20, 0.2) completed, best_val_accuracy: 0.341, best_hidden_layer_sizes sizes: [66, 20, 30, 64, 194]\n",
            "Best overall combination: (0.0002, 50d84757a6, [66, 20, 30, 64, 194], 100, 20, 0.2), val_accuracy: 0.4198\n",
            "CPU times: user 7min 42s, sys: 20 s, total: 8min 2s\n",
            "Wall time: 6min 7s\n"
          ]
        }
      ]
    },
    {
      "cell_type": "code",
      "source": [
        "schedule1 = Schedule([StaticEpoch(0.0008, 'l1')] * 40)\n",
        "schedule2 = Schedule([StaticEpoch(0.0004, 'l1')] * 40)\n",
        "schedule3 = Schedule([StaticEpoch(0.0002, 'l1')] * 40)\n",
        "schedule4 = Schedule([StaticEpoch(0.0001, 'l1')] * 40)\n",
        "schedule5 = Schedule([StaticEpoch(0.00005, 'l1')] * 40)\n",
        "schedule1, schedule2, schedule3, schedule4, schedule5"
      ],
      "metadata": {
        "colab": {
          "base_uri": "https://localhost:8080/"
        },
        "id": "3RDCu-QDEWaF",
        "outputId": "1cd5392a-f9cc-4e6c-9a4c-c4f31bddd587"
      },
      "execution_count": null,
      "outputs": [
        {
          "output_type": "execute_result",
          "data": {
            "text/plain": [
              "(0970d93389, 2bac11ab4e, 50d84757a6, 3bdfd81ddb, 8e0e7c7bed)"
            ]
          },
          "metadata": {},
          "execution_count": 21
        }
      ]
    },
    {
      "cell_type": "code",
      "source": [
        "%%time\n",
        "\n",
        "histories, best_overall_combination = hyperparameter_search(train_fn, x=cifar100.X_train_norm, y=cifar100.y_train, validation_data=(cifar100.X_test_norm, cifar100.y_test), \n",
        "                                  learning_rate=[0.0002], schedule=[schedule1, schedule2, schedule3, schedule4, schedule5], layer_sizes=[[66, 20, 30, 64, 194]], \n",
        "                                  output_neurons=[100], min_new_neurons=[20], growth_percentage=[0.2])"
      ],
      "metadata": {
        "colab": {
          "base_uri": "https://localhost:8080/"
        },
        "id": "p40pzVS_EWiP",
        "outputId": "eb1f9f98-9a9e-410d-c8e0-9513d851dc36"
      },
      "execution_count": null,
      "outputs": [
        {
          "output_type": "stream",
          "name": "stdout",
          "text": [
            "Run with parameters (0.0002, 0970d93389, [66, 20, 30, 64, 194], 100, 20, 0.2) completed, best_val_accuracy: 0.3839, best_hidden_layer_sizes sizes: [66, 20, 30, 64, 194]\n",
            "Run with parameters (0.0002, 2bac11ab4e, [66, 20, 30, 64, 194], 100, 20, 0.2) completed, best_val_accuracy: 0.4209, best_hidden_layer_sizes sizes: [66, 20, 30, 64, 194]\n",
            "Run with parameters (0.0002, 50d84757a6, [66, 20, 30, 64, 194], 100, 20, 0.2) completed, best_val_accuracy: 0.4058, best_hidden_layer_sizes sizes: [66, 20, 30, 64, 194]\n",
            "Run with parameters (0.0002, 3bdfd81ddb, [66, 20, 30, 64, 194], 100, 20, 0.2) completed, best_val_accuracy: 0.3742, best_hidden_layer_sizes sizes: [66, 20, 30, 64, 194]\n",
            "Run with parameters (0.0002, 8e0e7c7bed, [66, 20, 30, 64, 194], 100, 20, 0.2) completed, best_val_accuracy: 0.3454, best_hidden_layer_sizes sizes: [66, 20, 30, 64, 194]\n",
            "Best overall combination: (0.0002, 2bac11ab4e, [66, 20, 30, 64, 194], 100, 20, 0.2), val_accuracy: 0.4209\n",
            "CPU times: user 12min 58s, sys: 34 s, total: 13min 32s\n",
            "Wall time: 10min 19s\n"
          ]
        }
      ]
    },
    {
      "cell_type": "code",
      "source": [
        "%%time\n",
        "\n",
        "schedule = Schedule([StaticEpoch(0.0004, 'l1')] * 40)\n",
        "histories, best_overall_combination = hyperparameter_search(train_fn, x=cifar100.X_train_norm, y=cifar100.y_train, validation_data=(cifar100.X_test_norm, cifar100.y_test), \n",
        "                                  learning_rate=[0.00005, 0.0001, 0.0002, 0.0004, 0.0008], schedule=[schedule], layer_sizes=[[66, 20, 30, 64, 194]], \n",
        "                                  output_neurons=[100], min_new_neurons=[20], growth_percentage=[0.2])"
      ],
      "metadata": {
        "colab": {
          "base_uri": "https://localhost:8080/"
        },
        "id": "sBFTOZiQEWkq",
        "outputId": "767d2409-d641-4a07-90d8-010b6b1a3ff1"
      },
      "execution_count": null,
      "outputs": [
        {
          "output_type": "stream",
          "name": "stdout",
          "text": [
            "Run with parameters (5e-05, 2bac11ab4e, [66, 20, 30, 64, 194], 100, 20, 0.2) completed, best_val_accuracy: 0.346, best_hidden_layer_sizes sizes: [66, 20, 30, 64, 194]\n",
            "Run with parameters (0.0001, 2bac11ab4e, [66, 20, 30, 64, 194], 100, 20, 0.2) completed, best_val_accuracy: 0.3759, best_hidden_layer_sizes sizes: [66, 20, 30, 64, 194]\n",
            "Run with parameters (0.0002, 2bac11ab4e, [66, 20, 30, 64, 194], 100, 20, 0.2) completed, best_val_accuracy: 0.4198, best_hidden_layer_sizes sizes: [66, 20, 30, 64, 194]\n",
            "Run with parameters (0.0004, 2bac11ab4e, [66, 20, 30, 64, 194], 100, 20, 0.2) completed, best_val_accuracy: 0.4476, best_hidden_layer_sizes sizes: [66, 20, 30, 64, 194]\n",
            "Run with parameters (0.0008, 2bac11ab4e, [66, 20, 30, 64, 194], 100, 20, 0.2) completed, best_val_accuracy: 0.434, best_hidden_layer_sizes sizes: [66, 20, 30, 64, 194]\n",
            "Best overall combination: (0.0004, 2bac11ab4e, [66, 20, 30, 64, 194], 100, 20, 0.2), val_accuracy: 0.4476\n",
            "CPU times: user 13min 3s, sys: 38.6 s, total: 13min 42s\n",
            "Wall time: 10min 29s\n"
          ]
        }
      ]
    },
    {
      "cell_type": "code",
      "source": [
        "%%time\n",
        "\n",
        "schedule = Schedule([StaticEpoch(0.0004, 'l1')] * 40)\n",
        "histories, mean_best_hidden_layer_sizes = cross_validate(\n",
        "    train_fn, cifar100.X_norm, cifar100.y, n_splits=6, learning_rate=0.0004,\n",
        "    schedule=schedule, layer_sizes=[66, 20, 30, 64, 194], output_neurons=100, min_new_neurons=20, growth_percentage=0.2\n",
        ")"
      ],
      "metadata": {
        "colab": {
          "base_uri": "https://localhost:8080/"
        },
        "id": "jwJKH5QQDefi",
        "outputId": "bc85b8aa-d264-4313-a826-3f995e5299ee"
      },
      "execution_count": null,
      "outputs": [
        {
          "output_type": "stream",
          "name": "stdout",
          "text": [
            "Run 0 completed, best_val_accuracy: 0.4381, best_hidden_layer_sizes: [66, 20, 30, 64, 194]\n",
            "Run 1 completed, best_val_accuracy: 0.4375, best_hidden_layer_sizes: [66, 20, 30, 64, 194]\n",
            "Run 2 completed, best_val_accuracy: 0.4278, best_hidden_layer_sizes: [66, 20, 30, 64, 194]\n",
            "Run 3 completed, best_val_accuracy: 0.4453, best_hidden_layer_sizes: [66, 20, 30, 64, 194]\n",
            "Run 4 completed, best_val_accuracy: 0.446, best_hidden_layer_sizes: [66, 20, 30, 64, 194]\n",
            "Run 5 completed, best_val_accuracy: 0.4314, best_hidden_layer_sizes: [66, 20, 30, 64, 194]\n",
            "mean_best_val_accuracy: 0.43768333333333337\n",
            "mean_best_hidden_layer_sizes: [66.0, 20.0, 30.0, 64.0, 194.0]\n",
            "CPU times: user 15min 49s, sys: 45.6 s, total: 16min 35s\n",
            "Wall time: 12min 41s\n"
          ]
        }
      ]
    },
    {
      "cell_type": "code",
      "source": [
        "np.std([0.4381, 0.4375, 0.4278, 0.4453, 0.446, 0.4314], ddof=1) * 100 * 2"
      ],
      "metadata": {
        "id": "HEI3soT99Uze",
        "outputId": "de7eb2e0-2e69-4100-9ead-d1ed212f5060",
        "colab": {
          "base_uri": "https://localhost:8080/"
        }
      },
      "execution_count": 9,
      "outputs": [
        {
          "output_type": "execute_result",
          "data": {
            "text/plain": [
              "1.454780624928261"
            ]
          },
          "metadata": {},
          "execution_count": 9
        }
      ]
    },
    {
      "cell_type": "markdown",
      "source": [
        "## Static, L1 + fine-tuning"
      ],
      "metadata": {
        "id": "hT9-82YsRhU2"
      }
    },
    {
      "cell_type": "code",
      "source": [
        "schedule1 = Schedule([StaticEpoch(0.0016, 'l1')] * 40)\n",
        "schedule2 = Schedule([StaticEpoch(0.0008, 'l1')] * 40)\n",
        "schedule3 = Schedule([StaticEpoch(0.0004, 'l1')] * 40)\n",
        "schedule4 = Schedule([StaticEpoch(0.0002, 'l1')] * 40)\n",
        "schedule5 = Schedule([StaticEpoch(0.0001, 'l1')] * 40)\n",
        "schedule1, schedule2, schedule3, schedule4, schedule5"
      ],
      "metadata": {
        "colab": {
          "base_uri": "https://localhost:8080/"
        },
        "id": "W79gSJ61Pkgo",
        "outputId": "85036bf8-fecc-444c-e26d-acbf9ea8fbf8"
      },
      "execution_count": null,
      "outputs": [
        {
          "output_type": "execute_result",
          "data": {
            "text/plain": [
              "(40c4b8067f, 0970d93389, 2bac11ab4e, 50d84757a6, 3bdfd81ddb)"
            ]
          },
          "metadata": {},
          "execution_count": 26
        }
      ]
    },
    {
      "cell_type": "code",
      "source": [
        "%%time\n",
        "\n",
        "histories, best_overall_combination = hyperparameter_search(train_fn, x=cifar100.X_train_norm, y=cifar100.y_train, validation_data=(cifar100.X_test_norm, cifar100.y_test), \n",
        "                                  learning_rate=[0.0004], schedule=[schedule1, schedule2, schedule3, schedule4, schedule5], layer_sizes=[[66, 20, 30, 64, 194]], \n",
        "                                  output_neurons=[100], min_new_neurons=[20], growth_percentage=[0.2])"
      ],
      "metadata": {
        "colab": {
          "base_uri": "https://localhost:8080/"
        },
        "id": "jumMo6ULPkjR",
        "outputId": "a0604ac7-f379-4330-a8f2-b6bb91c7559c"
      },
      "execution_count": null,
      "outputs": [
        {
          "output_type": "stream",
          "name": "stdout",
          "text": [
            "Run with parameters (0.0004, 40c4b8067f, [66, 20, 30, 64, 194], 100, 20, 0.2) completed, best_val_accuracy: 0.3189, best_hidden_layer_sizes sizes: [66, 20, 30, 64, 194]\n",
            "Run with parameters (0.0004, 0970d93389, [66, 20, 30, 64, 194], 100, 20, 0.2) completed, best_val_accuracy: 0.393, best_hidden_layer_sizes sizes: [66, 20, 30, 64, 194]\n",
            "Run with parameters (0.0004, 2bac11ab4e, [66, 20, 30, 64, 194], 100, 20, 0.2) completed, best_val_accuracy: 0.4528, best_hidden_layer_sizes sizes: [66, 20, 30, 64, 194]\n",
            "Run with parameters (0.0004, 50d84757a6, [66, 20, 30, 64, 194], 100, 20, 0.2) completed, best_val_accuracy: 0.4493, best_hidden_layer_sizes sizes: [66, 20, 30, 64, 194]\n",
            "Run with parameters (0.0004, 3bdfd81ddb, [66, 20, 30, 64, 194], 100, 20, 0.2) completed, best_val_accuracy: 0.3916, best_hidden_layer_sizes sizes: [66, 20, 30, 64, 194]\n",
            "Best overall combination: (0.0004, 2bac11ab4e, [66, 20, 30, 64, 194], 100, 20, 0.2), val_accuracy: 0.4528\n",
            "CPU times: user 13min 12s, sys: 39.8 s, total: 13min 51s\n",
            "Wall time: 10min 33s\n"
          ]
        }
      ]
    },
    {
      "cell_type": "code",
      "source": [
        "%%time\n",
        "\n",
        "schedule = Schedule([StaticEpoch(0.0004, 'l1')] * 40)\n",
        "histories, best_overall_combination = hyperparameter_search(train_fn, x=cifar100.X_train_norm, y=cifar100.y_train, validation_data=(cifar100.X_test_norm, cifar100.y_test), \n",
        "                                  learning_rate=[0.0001, 0.0002, 0.0004, 0.0008], schedule=[schedule], layer_sizes=[[66, 20, 30, 64, 194]], \n",
        "                                  output_neurons=[100], min_new_neurons=[20], growth_percentage=[0.2])"
      ],
      "metadata": {
        "colab": {
          "base_uri": "https://localhost:8080/"
        },
        "id": "9Gt0nnC3Vnzz",
        "outputId": "df15c3cb-be9d-4e16-f371-023104f1d10e"
      },
      "execution_count": null,
      "outputs": [
        {
          "output_type": "stream",
          "name": "stdout",
          "text": [
            "Run with parameters (0.0001, 2bac11ab4e, [66, 20, 30, 64, 194], 100, 20, 0.2) completed, best_val_accuracy: 0.3903, best_hidden_layer_sizes sizes: [66, 20, 30, 64, 194]\n",
            "Run with parameters (0.0002, 2bac11ab4e, [66, 20, 30, 64, 194], 100, 20, 0.2) completed, best_val_accuracy: 0.429, best_hidden_layer_sizes sizes: [66, 20, 30, 64, 194]\n",
            "Run with parameters (0.0004, 2bac11ab4e, [66, 20, 30, 64, 194], 100, 20, 0.2) completed, best_val_accuracy: 0.4493, best_hidden_layer_sizes sizes: [66, 20, 30, 64, 194]\n",
            "Run with parameters (0.0008, 2bac11ab4e, [66, 20, 30, 64, 194], 100, 20, 0.2) completed, best_val_accuracy: 0.4072, best_hidden_layer_sizes sizes: [66, 20, 30, 64, 194]\n",
            "Best overall combination: (0.0004, 2bac11ab4e, [66, 20, 30, 64, 194], 100, 20, 0.2), val_accuracy: 0.4493\n",
            "CPU times: user 10min 32s, sys: 31.5 s, total: 11min 3s\n",
            "Wall time: 8min 25s\n"
          ]
        }
      ]
    },
    {
      "cell_type": "code",
      "source": [
        "%%time\n",
        "\n",
        "schedule = Schedule([StaticEpoch(0.0004, 'l1')] * 40)\n",
        "histories, mean_best_hidden_layer_sizes = cross_validate(\n",
        "    train_fn, cifar100.X_norm, cifar100.y, n_splits=6, learning_rate=0.0004,\n",
        "    schedule=schedule, layer_sizes=[66, 20, 30, 64, 194], output_neurons=100, min_new_neurons=20, growth_percentage=0.2\n",
        ")"
      ],
      "metadata": {
        "colab": {
          "base_uri": "https://localhost:8080/"
        },
        "id": "2rA8kr-fVn2b",
        "outputId": "f0bb4303-578f-4602-bd2c-b3ab33eb1097"
      },
      "execution_count": null,
      "outputs": [
        {
          "output_type": "stream",
          "name": "stdout",
          "text": [
            "Run 0 completed, best_val_accuracy: 0.4439, best_hidden_layer_sizes: [66, 20, 30, 64, 194]\n",
            "Run 1 completed, best_val_accuracy: 0.4489, best_hidden_layer_sizes: [66, 20, 30, 64, 194]\n",
            "Run 2 completed, best_val_accuracy: 0.4403, best_hidden_layer_sizes: [66, 20, 30, 64, 194]\n",
            "Run 3 completed, best_val_accuracy: 0.4366, best_hidden_layer_sizes: [66, 20, 30, 64, 194]\n",
            "Run 4 completed, best_val_accuracy: 0.4391, best_hidden_layer_sizes: [66, 20, 30, 64, 194]\n",
            "Run 5 completed, best_val_accuracy: 0.4395, best_hidden_layer_sizes: [66, 20, 30, 64, 194]\n",
            "mean_best_val_accuracy: 0.4413833333333333\n",
            "mean_best_hidden_layer_sizes: [66.0, 20.0, 30.0, 64.0, 194.0]\n",
            "CPU times: user 15min 45s, sys: 44.7 s, total: 16min 30s\n",
            "Wall time: 12min 38s\n"
          ]
        }
      ]
    },
    {
      "cell_type": "code",
      "source": [
        ""
      ],
      "metadata": {
        "id": "TWXQGGoyVn46"
      },
      "execution_count": null,
      "outputs": []
    }
  ]
}