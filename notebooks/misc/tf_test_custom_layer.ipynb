{
 "cells": [
  {
   "cell_type": "code",
   "execution_count": 1,
   "metadata": {},
   "outputs": [],
   "source": [
    "import tensorflow as tf\n",
    "import numpy as np"
   ]
  },
  {
   "cell_type": "code",
   "execution_count": 18,
   "metadata": {},
   "outputs": [
    {
     "name": "stdout",
     "output_type": "stream",
     "text": [
      "Downloading data from https://storage.googleapis.com/tensorflow/tf-keras-datasets/mnist.npz\n",
      "11493376/11490434 [==============================] - 1s 0us/step\n"
     ]
    }
   ],
   "source": [
    "mnist = tf.keras.datasets.mnist\n",
    "(X_train, y_train), (X_test, y_test) = mnist.load_data()"
   ]
  },
  {
   "cell_type": "code",
   "execution_count": 92,
   "metadata": {},
   "outputs": [
    {
     "data": {
      "text/plain": [
       "(60000, 28, 28)"
      ]
     },
     "execution_count": 92,
     "metadata": {},
     "output_type": "execute_result"
    }
   ],
   "source": [
    "X_train.shape"
   ]
  },
  {
   "cell_type": "code",
   "execution_count": null,
   "metadata": {},
   "outputs": [],
   "source": [
    "# def prune(layer1, layer2):\n",
    "#     pass\n",
    "\n",
    "# class SSRegularizer(tf.keras.regularizers.Regularizer):\n",
    "#     def __init__(self, l1):\n",
    "#         self.l1 = l1\n",
    "\n",
    "#     def __call__(self, x):\n",
    "#         scaling_matrix = tf.cumsum(tf.constant(self.l1, shape=x.shape), axis=1) - self.l1\n",
    "#         return self.l1 * tf.reduce_sum(tf.multiply(scaling_matrix, tf.abs(x)))\n",
    "\n",
    "#     def get_config(self):\n",
    "#         return {'l1': float(self.l1)}\n",
    "\n",
    "\n",
    "# class SSDense(tf.keras.layers.Layer):\n",
    "#     def __init__(self, units, activation=None, kernel_initializer='glorot_uniform', bias_initializer='zeros', l1=0.1):\n",
    "#         super().__init__()\n",
    "#         self.units = units\n",
    "#         self.activation = tf.keras.activations.get(activation)\n",
    "#         self.kernel_initializer = tf.keras.initializers.get(kernel_initializer)\n",
    "#         self.bias_initializer = tf.keras.initializers.get(bias_initializer)\n",
    "#         self.kernel_regularizer = SSRegularizer(l1=l1)\n",
    "\n",
    "#     def build(self, input_shape):\n",
    "#         self.kernel = self.add_weight(\n",
    "#             'kernel',\n",
    "#             shape=(input_shape[-1], self.units),\n",
    "#             dtype='float32',\n",
    "#             initializer=self.kernel_initializer,\n",
    "#             regularizer=self.kernel_regularizer)\n",
    "        \n",
    "# #         self.bias = self.add_weight(\n",
    "# #             'bias',\n",
    "# #             shape=(self.units,),\n",
    "# #             dtype='float32',\n",
    "# #             initializer=self.bias_initializer)\n",
    "\n",
    "#     def call(self, inputs):\n",
    "# #         return self.activation(tf.matmul(inputs, self.kernel) + self.bias)\n",
    "#         return self.activation(tf.matmul(inputs, self.kernel))"
   ]
  },
  {
   "cell_type": "code",
   "execution_count": 279,
   "metadata": {},
   "outputs": [],
   "source": [
    "def prune(layer1, layer2):\n",
    "    pass\n",
    "\n",
    "class SSRegularizer(tf.keras.regularizers.Regularizer):\n",
    "    def __init__(self, l1):\n",
    "        self.l1 = l1\n",
    "\n",
    "    def __call__(self, x):\n",
    "        scaling_matrix = tf.cumsum(tf.constant(self.l1, shape=x.shape), axis=1) - self.l1\n",
    "        return self.l1 * tf.reduce_sum(tf.multiply(scaling_matrix, tf.abs(x)))\n",
    "\n",
    "    def get_config(self):\n",
    "        return {'l1': float(self.l1)}\n",
    "    \n",
    "def ss_regularizer(x):\n",
    "    scaling_matrix = tf.cumsum(tf.constant(0.1, shape=x.shape), axis=1) - 0.1\n",
    "    return tf.reduce_sum(tf.multiply(scaling_matrix, tf.abs(x)))\n",
    "\n",
    "\n",
    "class SSDense(tf.keras.layers.Layer):\n",
    "    def __init__(self, units, activation=None, kernel_initializer='glorot_uniform', bias_initializer='zeros', kernel_regularizer=None):\n",
    "        super().__init__()\n",
    "        self.units = units\n",
    "        self.activation = tf.keras.activations.get(activation)\n",
    "        self.kernel_initializer = tf.keras.initializers.get(kernel_initializer)\n",
    "        self.bias_initializer = tf.keras.initializers.get(bias_initializer)\n",
    "        self.kernel_regularizer = tf.keras.regularizers.get(kernel_regularizer)\n",
    "        \n",
    "        self.l1 = 0.000000001\n",
    "        \n",
    "#         self.kernel_regularizer = SSRegularizer(l1=l1)    \n",
    "\n",
    "    def build(self, input_shape):\n",
    "        self.kernel = tf.Variable(\n",
    "            name='kernel',\n",
    "            initial_value=self.kernel_initializer(shape=(input_shape[-1], self.units), dtype='float32'),\n",
    "            trainable=True)\n",
    "        \n",
    "#         self.bias = tf.Variable(\n",
    "#             name='bias',\n",
    "#             initial_value=self.bias_initializer(shape=(self.units,), dtype='float32'),\n",
    "#             trainable=True)\n",
    "\n",
    "#         super().build(input_shape)\n",
    "\n",
    "    def call(self, inputs):\n",
    "#         return self.activation(tf.matmul(inputs, self.kernel) + self.bias)\n",
    "        print(\"CALLED\")\n",
    "\n",
    "        if self.kernel_regularizer is not None:\n",
    "            model.add_loss(lambda: self.kernel_regularizer(self.kernel))\n",
    "\n",
    "        return self.activation(tf.matmul(inputs, self.kernel))"
   ]
  },
  {
   "cell_type": "code",
   "execution_count": 280,
   "metadata": {},
   "outputs": [
    {
     "name": "stdout",
     "output_type": "stream",
     "text": [
      "CALLED\n",
      "CALLED\n"
     ]
    }
   ],
   "source": [
    "input_layer = tf.keras.layers.Input(shape=[28, 28])\n",
    "hidden = SSDense(50, activation='relu', kernel_regularizer=SSRegularizer(l1=0.1))\n",
    "last = SSDense(10, activation='softmax')\n",
    "\n",
    "x = tf.keras.layers.Flatten()(input_layer)\n",
    "x = hidden(x)\n",
    "output = last(x)\n",
    "\n",
    "model = tf.keras.Model(inputs=[input_layer], outputs=[output])"
   ]
  },
  {
   "cell_type": "code",
   "execution_count": 281,
   "metadata": {},
   "outputs": [],
   "source": [
    "model.compile(loss='sparse_categorical_crossentropy', optimizer='adam', metrics='accuracy')"
   ]
  },
  {
   "cell_type": "code",
   "execution_count": 282,
   "metadata": {
    "scrolled": true
   },
   "outputs": [
    {
     "name": "stdout",
     "output_type": "stream",
     "text": [
      "Epoch 1/3\n",
      "CALLED\n",
      "CALLED\n",
      "CALLED\n",
      "CALLED\n",
      "1861/1875 [============================>.] - ETA: 0s - loss: 122.4724 - accuracy: 0.5990CALLED\n",
      "CALLED\n",
      "1875/1875 [==============================] - 2s 1ms/step - loss: 121.7919 - accuracy: 0.5996 - val_loss: 9.3072 - val_accuracy: 0.7946\n",
      "Epoch 2/3\n",
      "1875/1875 [==============================] - 2s 1ms/step - loss: 6.5386 - accuracy: 0.7597 - val_loss: 7.5185 - val_accuracy: 0.7626\n",
      "Epoch 3/3\n",
      "1875/1875 [==============================] - 2s 1ms/step - loss: 4.7312 - accuracy: 0.7938 - val_loss: 5.9147 - val_accuracy: 0.8048\n"
     ]
    },
    {
     "data": {
      "text/plain": [
       "<tensorflow.python.keras.callbacks.History at 0x7f0d043b4640>"
      ]
     },
     "execution_count": 282,
     "metadata": {},
     "output_type": "execute_result"
    }
   ],
   "source": [
    "model.fit(X_train, y_train, epochs=3, validation_data=((X_test), (y_test)))"
   ]
  },
  {
   "cell_type": "code",
   "execution_count": 275,
   "metadata": {},
   "outputs": [
    {
     "data": {
      "text/plain": [
       "<tf.Variable 'ss_dense_83/kernel:0' shape=(784, 50) dtype=float32, numpy=\n",
       "array([[ 2.80314013e-02,  1.57379662e-04,  2.58008076e-05, ...,\n",
       "        -2.73253900e-05, -8.19038469e-05, -4.84327029e-04],\n",
       "       [-5.21218404e-02, -8.68051939e-05,  1.08333988e-04, ...,\n",
       "        -1.46389633e-04, -9.51471302e-05, -1.00910038e-05],\n",
       "       [ 6.49969801e-02,  1.02194266e-04, -1.15970630e-04, ...,\n",
       "         1.98095673e-04, -5.42014459e-06, -7.82775533e-05],\n",
       "       ...,\n",
       "       [ 7.36590996e-02, -7.95564556e-05,  7.88620673e-05, ...,\n",
       "         2.58172862e-04, -2.98755855e-04, -1.36765011e-05],\n",
       "       [ 7.79336467e-02,  1.24036451e-04,  2.19142195e-04, ...,\n",
       "        -1.55576825e-04, -7.95407250e-05,  1.73455774e-05],\n",
       "       [ 6.40873536e-02,  1.28635002e-04,  1.26767962e-04, ...,\n",
       "        -1.46068822e-04,  1.47869374e-04,  1.14488015e-04]], dtype=float32)>"
      ]
     },
     "execution_count": 275,
     "metadata": {},
     "output_type": "execute_result"
    }
   ],
   "source": [
    "hidden.kernel"
   ]
  },
  {
   "cell_type": "code",
   "execution_count": 267,
   "metadata": {},
   "outputs": [],
   "source": [
    "hidden.kernel_regularizer = SSRegularizer(l1=0.1)"
   ]
  },
  {
   "cell_type": "code",
   "execution_count": 283,
   "metadata": {},
   "outputs": [
    {
     "name": "stdout",
     "output_type": "stream",
     "text": [
      "Epoch 1/2\n",
      "1875/1875 [==============================] - 2s 1ms/step - loss: 3.8699 - accuracy: 0.8207 - val_loss: 5.6891 - val_accuracy: 0.8494\n",
      "Epoch 2/2\n",
      "1875/1875 [==============================] - 2s 1ms/step - loss: 3.6533 - accuracy: 0.8395 - val_loss: 5.2297 - val_accuracy: 0.8131\n"
     ]
    },
    {
     "data": {
      "text/plain": [
       "<tensorflow.python.keras.callbacks.History at 0x7f0d15353ee0>"
      ]
     },
     "execution_count": 283,
     "metadata": {},
     "output_type": "execute_result"
    }
   ],
   "source": [
    "model.fit(X_train, y_train, epochs=2, validation_data=((X_test), (y_test)))"
   ]
  },
  {
   "cell_type": "code",
   "execution_count": 278,
   "metadata": {},
   "outputs": [
    {
     "data": {
      "text/plain": [
       "array([0.28975675, 0.00046396, 0.00229231, 0.02302813, 0.01906175,\n",
       "       0.0152954 , 0.01477466, 0.00104287, 0.01882115, 0.00067823,\n",
       "       0.01305784, 0.00046348, 0.00049716, 0.00053462, 0.00703956,\n",
       "       0.00069375, 0.00090892, 0.00051005, 0.00075462, 0.00053977,\n",
       "       0.00043511, 0.00179379, 0.00057123, 0.00067489, 0.00060877,\n",
       "       0.00059327, 0.00044425, 0.00053964, 0.00055375, 0.00099119,\n",
       "       0.00073646, 0.00050139, 0.0005046 , 0.00069769, 0.00075718,\n",
       "       0.00087944, 0.00073467, 0.00057799, 0.00051896, 0.00048253,\n",
       "       0.00052509, 0.00076614, 0.00053804, 0.00048664, 0.00059923,\n",
       "       0.00058953, 0.00059621, 0.00062028, 0.00064497, 0.0005404 ],\n",
       "      dtype=float32)"
      ]
     },
     "execution_count": 278,
     "metadata": {},
     "output_type": "execute_result"
    }
   ],
   "source": [
    "np.amax(hidden.kernel, 0)"
   ]
  },
  {
   "cell_type": "code",
   "execution_count": 172,
   "metadata": {},
   "outputs": [
    {
     "data": {
      "text/plain": [
       "TensorShape([784, 50])"
      ]
     },
     "execution_count": 172,
     "metadata": {},
     "output_type": "execute_result"
    }
   ],
   "source": [
    "hidden.kernel.shape"
   ]
  },
  {
   "cell_type": "code",
   "execution_count": 173,
   "metadata": {},
   "outputs": [
    {
     "data": {
      "text/plain": [
       "TensorShape([50, 10])"
      ]
     },
     "execution_count": 173,
     "metadata": {},
     "output_type": "execute_result"
    }
   ],
   "source": [
    "last.kernel.shape"
   ]
  },
  {
   "cell_type": "code",
   "execution_count": 128,
   "metadata": {},
   "outputs": [
    {
     "data": {
      "text/plain": [
       "<tf.Variable 'ss_dense_13/kernel:0' shape=(784, 50) dtype=float32, numpy=\n",
       "array([[ 2.19782889e-02, -8.38522101e-06,  1.75410969e-06, ...,\n",
       "        -2.57352440e-05, -9.40302416e-05, -3.54066688e-05],\n",
       "       [ 4.62642983e-02, -3.22027790e-06, -1.28006614e-05, ...,\n",
       "        -1.63810124e-04, -8.04495357e-06,  8.38647102e-05],\n",
       "       [ 4.94136587e-02, -1.51565837e-06, -2.69689117e-05, ...,\n",
       "         3.41140549e-05, -1.01994199e-04,  2.84221722e-04],\n",
       "       ...,\n",
       "       [-6.54428005e-02,  9.53386552e-06,  3.28887909e-05, ...,\n",
       "         7.01069439e-05,  1.14341339e-04, -2.56687868e-04],\n",
       "       [ 5.99011704e-02, -1.09144585e-05, -5.63615067e-05, ...,\n",
       "         4.51343221e-05, -1.92771317e-04, -1.97840709e-04],\n",
       "       [-4.54486720e-02, -1.79859289e-05, -1.64482790e-05, ...,\n",
       "        -3.69285408e-06, -8.67230483e-05, -1.00684047e-04]], dtype=float32)>"
      ]
     },
     "execution_count": 128,
     "metadata": {},
     "output_type": "execute_result"
    }
   ],
   "source": [
    "hidden.kernel"
   ]
  },
  {
   "cell_type": "code",
   "execution_count": 37,
   "metadata": {},
   "outputs": [
    {
     "data": {
      "text/plain": [
       "[<tf.Variable 'dense_14/kernel:0' shape=(784, 50) dtype=float32, numpy=\n",
       " array([[-0.01770425,  0.00407095,  0.07000803, ...,  0.08013842,\n",
       "         -0.07911243,  0.01101536],\n",
       "        [-0.01970632,  0.00456458,  0.05945834, ...,  0.08379038,\n",
       "          0.07810465, -0.08296434],\n",
       "        [ 0.056421  ,  0.07724804,  0.00417263, ...,  0.0619384 ,\n",
       "          0.03587858, -0.04258172],\n",
       "        ...,\n",
       "        [-0.06198139, -0.07481034,  0.07102262, ...,  0.00600304,\n",
       "         -0.04394611,  0.03386247],\n",
       "        [ 0.0122844 ,  0.0843849 ,  0.05133539, ...,  0.03520263,\n",
       "         -0.05640824,  0.07732203],\n",
       "        [ 0.08064725,  0.07204448,  0.05897743, ..., -0.04463573,\n",
       "          0.03161991,  0.06805336]], dtype=float32)>,\n",
       " <tf.Variable 'dense_14/bias:0' shape=(50,) dtype=float32, numpy=\n",
       " array([ 0.01858092, -0.00567263, -0.07340959, -0.03671593, -0.05480817,\n",
       "        -0.15721531, -0.08629031, -0.04539269, -0.03571798, -0.15483859,\n",
       "         0.05694963, -0.11505955, -0.06954357, -0.0231346 , -0.12895995,\n",
       "        -0.10701702, -0.00325671, -0.1255568 , -0.04255368, -0.14551792,\n",
       "        -0.01728297, -0.12157677, -0.05090119, -0.02501962, -0.03555273,\n",
       "        -0.02305472, -0.02112482, -0.03666184, -0.02509164, -0.05750733,\n",
       "        -0.06114347, -0.04117309, -0.05738623, -0.03277899, -0.10720365,\n",
       "        -0.05791185, -0.06308155,  0.01006684, -0.02680054,  0.04357996,\n",
       "        -0.09112427, -0.02842028, -0.02387986, -0.05198608, -0.3205928 ,\n",
       "        -0.02475551, -0.11290406, -0.03086611, -0.02650741, -0.02915517],\n",
       "       dtype=float32)>]"
      ]
     },
     "execution_count": 37,
     "metadata": {},
     "output_type": "execute_result"
    }
   ],
   "source": [
    "hidden.weights"
   ]
  },
  {
   "cell_type": "code",
   "execution_count": null,
   "metadata": {},
   "outputs": [],
   "source": []
  }
 ],
 "metadata": {
  "kernelspec": {
   "display_name": "Python 3",
   "language": "python",
   "name": "python3"
  },
  "language_info": {
   "codemirror_mode": {
    "name": "ipython",
    "version": 3
   },
   "file_extension": ".py",
   "mimetype": "text/x-python",
   "name": "python",
   "nbconvert_exporter": "python",
   "pygments_lexer": "ipython3",
   "version": "3.8.8"
  }
 },
 "nbformat": 4,
 "nbformat_minor": 4
}
